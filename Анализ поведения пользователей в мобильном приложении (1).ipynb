{
 "cells": [
  {
   "cell_type": "markdown",
   "metadata": {},
   "source": [
    "---\n",
    "\n",
    "<div class=\"alert alert-success\" style=\"border-radius: 15px; box-shadow: 4px 4px 4px; border: 1px solid \" ><b> Комментарии от тимлида ✔️ : </b> \n",
    "\n",
    "\n",
    "Итог ревью - была проделана отличная работа! Редко кто сдает проект с первого раза без критичных замечаний, но ты справилась с этой задачей) Исследование получилось объемным, но ты всё сделала грамотно.\n",
    "    \n",
    "Структура и логика исследования корректные. Ты хорошо провела исследовательский этап и рассчитала метрики правильно. Ответила на все вопросы заказчика и очень радует, что проверка гипотез проведена успешно. Молодец!\n",
    "\n",
    "\n",
    "</div>"
   ]
  },
  {
   "cell_type": "markdown",
   "metadata": {},
   "source": [
    "# Анализ поведения пользователей в мобильном приложении"
   ]
  },
  {
   "cell_type": "markdown",
   "metadata": {},
   "source": [
    "`Предоставлены данные о событиях, совершенных пользователями в мобильном приложении \"Ненужные вещи\". В нем одни пользователи продают свои ненужные вещи, размещая их на доске объявлений, а другие – покупают.`\n",
    "\n",
    "**Целевая аудитория исследования:** покупатели. \n",
    "\n",
    "**Заказчик исследования:** Product Manager\n",
    "\n",
    "**Цель исследования:** проанализировать и описать поведение пользователей, чтобы в дальнейшем заказчик смог сегментировать пользователей и влиять на их вовлеченность."
   ]
  },
  {
   "cell_type": "markdown",
   "metadata": {},
   "source": [
    "**Целевое действие** - contacts_show и show_contacts — посмотрел номер телефона. \n",
    "\n",
    "**Принято коллективное решение не приравнивать \"contacts_call\" к целевому т.к. не всегда звонки совершаются прямо из приложения.**\n",
    "\n",
    "**ЗАДАЧИ:**\n",
    "\n",
    "1. Рассмотреть различные сценарии действий пользователей, которые содержат/не содержат целевое действие;\n",
    "\n",
    "2. Выделить этапы сценариев (действия), которые чаще ведут к просмотру контактов. А так же этапы, которые реже приводят к просмотру контактов;\n",
    "\n",
    "3. Выдвинуть предположения, почему и как функционал приложения (действия) влияет на конверсию в целевое действие;\n",
    "\n",
    "4. Посмотреть как различается время между поиском и открытием объявления у пользователей, совершающих и не совершающих целевое действие;\n",
    "\n",
    "5. Проверить следующие гипотезы:\n",
    "\n",
    "- Одни пользователи совершают действия tips_show и tips_click, другие — только tips_show. Проверьте гипотезу: конверсия в просмотры контактов различается у этих двух групп.\n",
    "\n",
    "- Одни пользователи совершают действия advert_open и favorites_add, другие — только advert_open. Проверьте гипотезу: конверсия в просмотры контактов различается у этих двух групп.\n",
    "\n",
    "**ОСНОВНЫЕ ШАГИ:**\n",
    "\n",
    "- определить тайм-аут;\n",
    "\n",
    "- выделить сессии пользователей;\n",
    "\n",
    "- выделить сценарии;\n",
    "\n",
    "- разделить пользователей по 2ум группам сценариев: содержащие и не содержащие целевое действие;\n",
    "\n",
    "- посчитать конверсию в просмотр контактов по уникальным пользователям;\n",
    "\n",
    "- посмотреть разницу в длительности сессий и количестве действий между 2мя группами пользователей;\n",
    "\n",
    "- в рамках разделенных на 2 группы пользователей посмотреть какие действия совершаются чаще, а какие реже;\n",
    "\n",
    "- построить воронки по типичным сценариям, среди тех, которые содержат целевое действие; \n",
    "\n",
    "- если поиск это search_1—search_7, а открытие объявления - advert_open, то в рамках разделенных на 2 группы пользователей, посчитать время между этими действиями."
   ]
  },
  {
   "cell_type": "markdown",
   "metadata": {},
   "source": [
    " **Описание данных:**\n",
    "\n",
    "Колонки в *mobile_sources.csv*: \n",
    "\n",
    "- `userId` — идентификатор пользователя,\n",
    "- `source` — источник, с которого пользователь установил приложение.\n",
    "\n",
    "Колонки в mobile_dataset.csv: **\n",
    "\n",
    "- `event.time` — время совершения,\n",
    "- `user.id` — идентификатор пользователя,\n",
    "- `event.name` — действие пользователя.\n",
    "\n",
    "Виды действий:\n",
    "\n",
    "- `advert_open` — открыл карточки объявления,\n",
    "- `photos_show` — просмотрел фотографий в объявлении,\n",
    "- `tips_show` — увидел рекомендованные объявления,\n",
    "- `tips_click` — кликнул по рекомендованному объявлению,\n",
    "- `contacts_show` и `show_contacts` — посмотрел номер телефона,\n",
    "- `contacts_call` — позвонил по номеру из объявления,\n",
    "- `map` — открыл карту объявлений,\n",
    "- `search_1`—`search_7` — разные действия, связанные с поиском по сайту,\n",
    "- `favorites_add` — добавил объявление в избранное."
   ]
  },
  {
   "cell_type": "markdown",
   "metadata": {},
   "source": [
    "# Загрузка и предобработка данных"
   ]
  },
  {
   "cell_type": "code",
   "execution_count": 1,
   "metadata": {},
   "outputs": [],
   "source": [
    "# импортируем библиотеки\n",
    "import pandas as pd\n",
    "import scipy.stats as stats\n",
    "import datetime as dt\n",
    "import numpy as np\n",
    "import math as mth\n",
    "import matplotlib.pyplot as plt\n",
    "import seaborn as sns\n",
    "from plotly import graph_objects as go\n",
    "import plotly.express as px\n",
    "from datetime import datetime, timedelta\n",
    "pd.set_option(\"display.float_format\", \"{:.3f}\".format)\n",
    "from statsmodels.stats.proportion import proportions_ztest\n",
    "from scipy import stats as st\n",
    "import warnings\n",
    "warnings.filterwarnings('ignore')"
   ]
  },
  {
   "cell_type": "code",
   "execution_count": 2,
   "metadata": {},
   "outputs": [
    {
     "data": {
      "text/html": [
       "<div>\n",
       "<style scoped>\n",
       "    .dataframe tbody tr th:only-of-type {\n",
       "        vertical-align: middle;\n",
       "    }\n",
       "\n",
       "    .dataframe tbody tr th {\n",
       "        vertical-align: top;\n",
       "    }\n",
       "\n",
       "    .dataframe thead th {\n",
       "        text-align: right;\n",
       "    }\n",
       "</style>\n",
       "<table border=\"1\" class=\"dataframe\">\n",
       "  <thead>\n",
       "    <tr style=\"text-align: right;\">\n",
       "      <th></th>\n",
       "      <th>event.time</th>\n",
       "      <th>event.name</th>\n",
       "      <th>user.id</th>\n",
       "    </tr>\n",
       "  </thead>\n",
       "  <tbody>\n",
       "    <tr>\n",
       "      <th>0</th>\n",
       "      <td>2019-10-07 00:00:00.431357</td>\n",
       "      <td>advert_open</td>\n",
       "      <td>020292ab-89bc-4156-9acf-68bc2783f894</td>\n",
       "    </tr>\n",
       "    <tr>\n",
       "      <th>1</th>\n",
       "      <td>2019-10-07 00:00:01.236320</td>\n",
       "      <td>tips_show</td>\n",
       "      <td>020292ab-89bc-4156-9acf-68bc2783f894</td>\n",
       "    </tr>\n",
       "    <tr>\n",
       "      <th>2</th>\n",
       "      <td>2019-10-07 00:00:02.245341</td>\n",
       "      <td>tips_show</td>\n",
       "      <td>cf7eda61-9349-469f-ac27-e5b6f5ec475c</td>\n",
       "    </tr>\n",
       "    <tr>\n",
       "      <th>3</th>\n",
       "      <td>2019-10-07 00:00:07.039334</td>\n",
       "      <td>tips_show</td>\n",
       "      <td>020292ab-89bc-4156-9acf-68bc2783f894</td>\n",
       "    </tr>\n",
       "    <tr>\n",
       "      <th>4</th>\n",
       "      <td>2019-10-07 00:00:56.319813</td>\n",
       "      <td>advert_open</td>\n",
       "      <td>cf7eda61-9349-469f-ac27-e5b6f5ec475c</td>\n",
       "    </tr>\n",
       "    <tr>\n",
       "      <th>...</th>\n",
       "      <td>...</td>\n",
       "      <td>...</td>\n",
       "      <td>...</td>\n",
       "    </tr>\n",
       "    <tr>\n",
       "      <th>74192</th>\n",
       "      <td>2019-11-03 23:53:29.534986</td>\n",
       "      <td>tips_show</td>\n",
       "      <td>28fccdf4-7b9e-42f5-bc73-439a265f20e9</td>\n",
       "    </tr>\n",
       "    <tr>\n",
       "      <th>74193</th>\n",
       "      <td>2019-11-03 23:54:00.407086</td>\n",
       "      <td>tips_show</td>\n",
       "      <td>28fccdf4-7b9e-42f5-bc73-439a265f20e9</td>\n",
       "    </tr>\n",
       "    <tr>\n",
       "      <th>74194</th>\n",
       "      <td>2019-11-03 23:56:57.041825</td>\n",
       "      <td>search_1</td>\n",
       "      <td>20850c8f-4135-4059-b13b-198d3ac59902</td>\n",
       "    </tr>\n",
       "    <tr>\n",
       "      <th>74195</th>\n",
       "      <td>2019-11-03 23:57:06.232189</td>\n",
       "      <td>tips_show</td>\n",
       "      <td>28fccdf4-7b9e-42f5-bc73-439a265f20e9</td>\n",
       "    </tr>\n",
       "    <tr>\n",
       "      <th>74196</th>\n",
       "      <td>2019-11-03 23:58:12.532487</td>\n",
       "      <td>tips_show</td>\n",
       "      <td>28fccdf4-7b9e-42f5-bc73-439a265f20e9</td>\n",
       "    </tr>\n",
       "  </tbody>\n",
       "</table>\n",
       "<p>74197 rows × 3 columns</p>\n",
       "</div>"
      ],
      "text/plain": [
       "                       event.time   event.name  \\\n",
       "0      2019-10-07 00:00:00.431357  advert_open   \n",
       "1      2019-10-07 00:00:01.236320    tips_show   \n",
       "2      2019-10-07 00:00:02.245341    tips_show   \n",
       "3      2019-10-07 00:00:07.039334    tips_show   \n",
       "4      2019-10-07 00:00:56.319813  advert_open   \n",
       "...                           ...          ...   \n",
       "74192  2019-11-03 23:53:29.534986    tips_show   \n",
       "74193  2019-11-03 23:54:00.407086    tips_show   \n",
       "74194  2019-11-03 23:56:57.041825     search_1   \n",
       "74195  2019-11-03 23:57:06.232189    tips_show   \n",
       "74196  2019-11-03 23:58:12.532487    tips_show   \n",
       "\n",
       "                                    user.id  \n",
       "0      020292ab-89bc-4156-9acf-68bc2783f894  \n",
       "1      020292ab-89bc-4156-9acf-68bc2783f894  \n",
       "2      cf7eda61-9349-469f-ac27-e5b6f5ec475c  \n",
       "3      020292ab-89bc-4156-9acf-68bc2783f894  \n",
       "4      cf7eda61-9349-469f-ac27-e5b6f5ec475c  \n",
       "...                                     ...  \n",
       "74192  28fccdf4-7b9e-42f5-bc73-439a265f20e9  \n",
       "74193  28fccdf4-7b9e-42f5-bc73-439a265f20e9  \n",
       "74194  20850c8f-4135-4059-b13b-198d3ac59902  \n",
       "74195  28fccdf4-7b9e-42f5-bc73-439a265f20e9  \n",
       "74196  28fccdf4-7b9e-42f5-bc73-439a265f20e9  \n",
       "\n",
       "[74197 rows x 3 columns]"
      ]
     },
     "metadata": {},
     "output_type": "display_data"
    },
    {
     "name": "stdout",
     "output_type": "stream",
     "text": [
      "\n",
      "<class 'pandas.core.frame.DataFrame'>\n",
      "RangeIndex: 74197 entries, 0 to 74196\n",
      "Data columns (total 3 columns):\n",
      " #   Column      Non-Null Count  Dtype \n",
      "---  ------      --------------  ----- \n",
      " 0   event.time  74197 non-null  object\n",
      " 1   event.name  74197 non-null  object\n",
      " 2   user.id     74197 non-null  object\n",
      "dtypes: object(3)\n",
      "memory usage: 1.7+ MB\n"
     ]
    }
   ],
   "source": [
    "# открываем таблицу 'mobile_dataset'\n",
    "mobile_dataset = pd.read_csv(r\"C:\\Users\\Lenovo\\Desktop\\Github проекты\\mobile_dataset.csv\")\n",
    "display(mobile_dataset)\n",
    "print()\n",
    "mobile_dataset.info()"
   ]
  },
  {
   "cell_type": "code",
   "execution_count": 3,
   "metadata": {},
   "outputs": [],
   "source": [
    "# меняем названия столбцов\n",
    "mobile_dataset.columns = ['event_time', 'event_name', 'user_id']"
   ]
  },
  {
   "cell_type": "code",
   "execution_count": 4,
   "metadata": {},
   "outputs": [
    {
     "name": "stdout",
     "output_type": "stream",
     "text": [
      "<class 'pandas.core.frame.DataFrame'>\n",
      "RangeIndex: 74197 entries, 0 to 74196\n",
      "Data columns (total 3 columns):\n",
      " #   Column      Non-Null Count  Dtype         \n",
      "---  ------      --------------  -----         \n",
      " 0   event_time  74197 non-null  datetime64[ns]\n",
      " 1   event_name  74197 non-null  object        \n",
      " 2   user_id     74197 non-null  object        \n",
      "dtypes: datetime64[ns](1), object(2)\n",
      "memory usage: 1.7+ MB\n"
     ]
    }
   ],
   "source": [
    "# изменяем тип данных c object на datetime\n",
    "mobile_dataset['event_time'] = pd.to_datetime(mobile_dataset['event_time'])\n",
    "mobile_dataset.info()"
   ]
  },
  {
   "cell_type": "code",
   "execution_count": 5,
   "metadata": {},
   "outputs": [
    {
     "data": {
      "text/plain": [
       "4293"
      ]
     },
     "execution_count": 5,
     "metadata": {},
     "output_type": "execute_result"
    }
   ],
   "source": [
    "# количество уникальных пользователей таблицы 'mobile_dataset'\n",
    "mobile_dataset['user_id'].nunique() "
   ]
  },
  {
   "cell_type": "code",
   "execution_count": 6,
   "metadata": {},
   "outputs": [
    {
     "data": {
      "text/plain": [
       "array(['advert_open', 'tips_show', 'map', 'contacts_show', 'search_4',\n",
       "       'search_5', 'tips_click', 'photos_show', 'search_1', 'search_2',\n",
       "       'search_3', 'favorites_add', 'contacts_call', 'search_6',\n",
       "       'search_7', 'show_contacts'], dtype=object)"
      ]
     },
     "execution_count": 6,
     "metadata": {},
     "output_type": "execute_result"
    }
   ],
   "source": [
    "# смотрим наименования уникаьных событий\n",
    "mobile_dataset['event_name'].unique()"
   ]
  },
  {
   "cell_type": "code",
   "execution_count": 7,
   "metadata": {},
   "outputs": [],
   "source": [
    "# приравниваем 'show_contacts' к 'contacts_show' т.к. это одинаковые события\n",
    "mobile_dataset['event_name'] = mobile_dataset['event_name'].replace('show_contacts', 'contacts_show')"
   ]
  },
  {
   "cell_type": "code",
   "execution_count": 8,
   "metadata": {},
   "outputs": [
    {
     "data": {
      "text/html": [
       "<div>\n",
       "<style scoped>\n",
       "    .dataframe tbody tr th:only-of-type {\n",
       "        vertical-align: middle;\n",
       "    }\n",
       "\n",
       "    .dataframe tbody tr th {\n",
       "        vertical-align: top;\n",
       "    }\n",
       "\n",
       "    .dataframe thead th {\n",
       "        text-align: right;\n",
       "    }\n",
       "</style>\n",
       "<table border=\"1\" class=\"dataframe\">\n",
       "  <thead>\n",
       "    <tr style=\"text-align: right;\">\n",
       "      <th></th>\n",
       "      <th>userId</th>\n",
       "      <th>source</th>\n",
       "    </tr>\n",
       "  </thead>\n",
       "  <tbody>\n",
       "    <tr>\n",
       "      <th>0</th>\n",
       "      <td>020292ab-89bc-4156-9acf-68bc2783f894</td>\n",
       "      <td>other</td>\n",
       "    </tr>\n",
       "    <tr>\n",
       "      <th>1</th>\n",
       "      <td>cf7eda61-9349-469f-ac27-e5b6f5ec475c</td>\n",
       "      <td>yandex</td>\n",
       "    </tr>\n",
       "    <tr>\n",
       "      <th>2</th>\n",
       "      <td>8c356c42-3ba9-4cb6-80b8-3f868d0192c3</td>\n",
       "      <td>yandex</td>\n",
       "    </tr>\n",
       "    <tr>\n",
       "      <th>3</th>\n",
       "      <td>d9b06b47-0f36-419b-bbb0-3533e582a6cb</td>\n",
       "      <td>other</td>\n",
       "    </tr>\n",
       "    <tr>\n",
       "      <th>4</th>\n",
       "      <td>f32e1e2a-3027-4693-b793-b7b3ff274439</td>\n",
       "      <td>google</td>\n",
       "    </tr>\n",
       "    <tr>\n",
       "      <th>...</th>\n",
       "      <td>...</td>\n",
       "      <td>...</td>\n",
       "    </tr>\n",
       "    <tr>\n",
       "      <th>4288</th>\n",
       "      <td>b86fe56e-f2de-4f8a-b192-cd89a37ecd41</td>\n",
       "      <td>yandex</td>\n",
       "    </tr>\n",
       "    <tr>\n",
       "      <th>4289</th>\n",
       "      <td>424c0ae1-3ea3-4f1e-a814-6bac73e48ab1</td>\n",
       "      <td>yandex</td>\n",
       "    </tr>\n",
       "    <tr>\n",
       "      <th>4290</th>\n",
       "      <td>437a4cd4-9ba9-457f-8614-d142bc48fbeb</td>\n",
       "      <td>yandex</td>\n",
       "    </tr>\n",
       "    <tr>\n",
       "      <th>4291</th>\n",
       "      <td>c10055f0-0b47-477a-869e-d391b31fdf8f</td>\n",
       "      <td>yandex</td>\n",
       "    </tr>\n",
       "    <tr>\n",
       "      <th>4292</th>\n",
       "      <td>d157bffc-264d-4464-8220-1cc0c42f43a9</td>\n",
       "      <td>google</td>\n",
       "    </tr>\n",
       "  </tbody>\n",
       "</table>\n",
       "<p>4293 rows × 2 columns</p>\n",
       "</div>"
      ],
      "text/plain": [
       "                                    userId  source\n",
       "0     020292ab-89bc-4156-9acf-68bc2783f894   other\n",
       "1     cf7eda61-9349-469f-ac27-e5b6f5ec475c  yandex\n",
       "2     8c356c42-3ba9-4cb6-80b8-3f868d0192c3  yandex\n",
       "3     d9b06b47-0f36-419b-bbb0-3533e582a6cb   other\n",
       "4     f32e1e2a-3027-4693-b793-b7b3ff274439  google\n",
       "...                                    ...     ...\n",
       "4288  b86fe56e-f2de-4f8a-b192-cd89a37ecd41  yandex\n",
       "4289  424c0ae1-3ea3-4f1e-a814-6bac73e48ab1  yandex\n",
       "4290  437a4cd4-9ba9-457f-8614-d142bc48fbeb  yandex\n",
       "4291  c10055f0-0b47-477a-869e-d391b31fdf8f  yandex\n",
       "4292  d157bffc-264d-4464-8220-1cc0c42f43a9  google\n",
       "\n",
       "[4293 rows x 2 columns]"
      ]
     },
     "metadata": {},
     "output_type": "display_data"
    },
    {
     "name": "stdout",
     "output_type": "stream",
     "text": [
      "\n",
      "<class 'pandas.core.frame.DataFrame'>\n",
      "RangeIndex: 4293 entries, 0 to 4292\n",
      "Data columns (total 2 columns):\n",
      " #   Column  Non-Null Count  Dtype \n",
      "---  ------  --------------  ----- \n",
      " 0   userId  4293 non-null   object\n",
      " 1   source  4293 non-null   object\n",
      "dtypes: object(2)\n",
      "memory usage: 67.2+ KB\n"
     ]
    }
   ],
   "source": [
    "# открываем таблицу 'mobile_sourсes'\n",
    "mobile_sourсes = pd.read_csv(r\"C:\\Users\\Lenovo\\Desktop\\Github проекты\\mobile_sourсes.csv\") \n",
    "display(mobile_sourсes)\n",
    "print()\n",
    "mobile_sourсes.info()"
   ]
  },
  {
   "cell_type": "code",
   "execution_count": 9,
   "metadata": {},
   "outputs": [],
   "source": [
    "# меняем названия столбцов\n",
    "mobile_sourсes.columns = ['user_id', 'source']"
   ]
  },
  {
   "cell_type": "code",
   "execution_count": 10,
   "metadata": {},
   "outputs": [
    {
     "data": {
      "text/html": [
       "<div>\n",
       "<style scoped>\n",
       "    .dataframe tbody tr th:only-of-type {\n",
       "        vertical-align: middle;\n",
       "    }\n",
       "\n",
       "    .dataframe tbody tr th {\n",
       "        vertical-align: top;\n",
       "    }\n",
       "\n",
       "    .dataframe thead th {\n",
       "        text-align: right;\n",
       "    }\n",
       "</style>\n",
       "<table border=\"1\" class=\"dataframe\">\n",
       "  <thead>\n",
       "    <tr style=\"text-align: right;\">\n",
       "      <th></th>\n",
       "      <th>source</th>\n",
       "      <th>user_id</th>\n",
       "    </tr>\n",
       "  </thead>\n",
       "  <tbody>\n",
       "    <tr>\n",
       "      <th>0</th>\n",
       "      <td>yandex</td>\n",
       "      <td>1934</td>\n",
       "    </tr>\n",
       "    <tr>\n",
       "      <th>1</th>\n",
       "      <td>other</td>\n",
       "      <td>1230</td>\n",
       "    </tr>\n",
       "    <tr>\n",
       "      <th>2</th>\n",
       "      <td>google</td>\n",
       "      <td>1129</td>\n",
       "    </tr>\n",
       "  </tbody>\n",
       "</table>\n",
       "</div>"
      ],
      "text/plain": [
       "   source  user_id\n",
       "0  yandex     1934\n",
       "1   other     1230\n",
       "2  google     1129"
      ]
     },
     "execution_count": 10,
     "metadata": {},
     "output_type": "execute_result"
    }
   ],
   "source": [
    "# смотрим распределение пользователей по источникам прихода\n",
    "source_user_id_number = mobile_sourсes.groupby('source').agg({'user_id': 'nunique'}).sort_values(by= 'user_id' , ascending=False).reset_index()\n",
    "source_user_id_number "
   ]
  },
  {
   "cell_type": "markdown",
   "metadata": {},
   "source": [
    "- **Источник большинства пользователей - \"yandex\", затем \"other\" и \"google\".**"
   ]
  },
  {
   "cell_type": "code",
   "execution_count": 11,
   "metadata": {},
   "outputs": [
    {
     "data": {
      "text/plain": [
       "4293"
      ]
     },
     "execution_count": 11,
     "metadata": {},
     "output_type": "execute_result"
    }
   ],
   "source": [
    "# количество уникальных пользователей таблицы 'mobile_sourсes'\n",
    "mobile_sourсes['user_id'].nunique() "
   ]
  },
  {
   "cell_type": "code",
   "execution_count": 12,
   "metadata": {},
   "outputs": [
    {
     "data": {
      "text/html": [
       "<div>\n",
       "<style scoped>\n",
       "    .dataframe tbody tr th:only-of-type {\n",
       "        vertical-align: middle;\n",
       "    }\n",
       "\n",
       "    .dataframe tbody tr th {\n",
       "        vertical-align: top;\n",
       "    }\n",
       "\n",
       "    .dataframe thead th {\n",
       "        text-align: right;\n",
       "    }\n",
       "</style>\n",
       "<table border=\"1\" class=\"dataframe\">\n",
       "  <thead>\n",
       "    <tr style=\"text-align: right;\">\n",
       "      <th></th>\n",
       "      <th>event_time</th>\n",
       "      <th>event_name</th>\n",
       "      <th>user_id</th>\n",
       "      <th>source</th>\n",
       "    </tr>\n",
       "  </thead>\n",
       "  <tbody>\n",
       "    <tr>\n",
       "      <th>0</th>\n",
       "      <td>2019-10-07 00:00:00.431357</td>\n",
       "      <td>advert_open</td>\n",
       "      <td>020292ab-89bc-4156-9acf-68bc2783f894</td>\n",
       "      <td>other</td>\n",
       "    </tr>\n",
       "    <tr>\n",
       "      <th>1</th>\n",
       "      <td>2019-10-07 00:00:01.236320</td>\n",
       "      <td>tips_show</td>\n",
       "      <td>020292ab-89bc-4156-9acf-68bc2783f894</td>\n",
       "      <td>other</td>\n",
       "    </tr>\n",
       "    <tr>\n",
       "      <th>2</th>\n",
       "      <td>2019-10-07 00:00:07.039334</td>\n",
       "      <td>tips_show</td>\n",
       "      <td>020292ab-89bc-4156-9acf-68bc2783f894</td>\n",
       "      <td>other</td>\n",
       "    </tr>\n",
       "    <tr>\n",
       "      <th>3</th>\n",
       "      <td>2019-10-07 00:01:27.770232</td>\n",
       "      <td>advert_open</td>\n",
       "      <td>020292ab-89bc-4156-9acf-68bc2783f894</td>\n",
       "      <td>other</td>\n",
       "    </tr>\n",
       "    <tr>\n",
       "      <th>4</th>\n",
       "      <td>2019-10-07 00:01:34.804591</td>\n",
       "      <td>tips_show</td>\n",
       "      <td>020292ab-89bc-4156-9acf-68bc2783f894</td>\n",
       "      <td>other</td>\n",
       "    </tr>\n",
       "    <tr>\n",
       "      <th>...</th>\n",
       "      <td>...</td>\n",
       "      <td>...</td>\n",
       "      <td>...</td>\n",
       "      <td>...</td>\n",
       "    </tr>\n",
       "    <tr>\n",
       "      <th>74192</th>\n",
       "      <td>2019-11-03 23:46:47.068179</td>\n",
       "      <td>map</td>\n",
       "      <td>d157bffc-264d-4464-8220-1cc0c42f43a9</td>\n",
       "      <td>google</td>\n",
       "    </tr>\n",
       "    <tr>\n",
       "      <th>74193</th>\n",
       "      <td>2019-11-03 23:46:58.914787</td>\n",
       "      <td>advert_open</td>\n",
       "      <td>d157bffc-264d-4464-8220-1cc0c42f43a9</td>\n",
       "      <td>google</td>\n",
       "    </tr>\n",
       "    <tr>\n",
       "      <th>74194</th>\n",
       "      <td>2019-11-03 23:47:01.232230</td>\n",
       "      <td>tips_show</td>\n",
       "      <td>d157bffc-264d-4464-8220-1cc0c42f43a9</td>\n",
       "      <td>google</td>\n",
       "    </tr>\n",
       "    <tr>\n",
       "      <th>74195</th>\n",
       "      <td>2019-11-03 23:47:47.475102</td>\n",
       "      <td>advert_open</td>\n",
       "      <td>d157bffc-264d-4464-8220-1cc0c42f43a9</td>\n",
       "      <td>google</td>\n",
       "    </tr>\n",
       "    <tr>\n",
       "      <th>74196</th>\n",
       "      <td>2019-11-03 23:47:50.087645</td>\n",
       "      <td>tips_show</td>\n",
       "      <td>d157bffc-264d-4464-8220-1cc0c42f43a9</td>\n",
       "      <td>google</td>\n",
       "    </tr>\n",
       "  </tbody>\n",
       "</table>\n",
       "<p>74197 rows × 4 columns</p>\n",
       "</div>"
      ],
      "text/plain": [
       "                      event_time   event_name  \\\n",
       "0     2019-10-07 00:00:00.431357  advert_open   \n",
       "1     2019-10-07 00:00:01.236320    tips_show   \n",
       "2     2019-10-07 00:00:07.039334    tips_show   \n",
       "3     2019-10-07 00:01:27.770232  advert_open   \n",
       "4     2019-10-07 00:01:34.804591    tips_show   \n",
       "...                          ...          ...   \n",
       "74192 2019-11-03 23:46:47.068179          map   \n",
       "74193 2019-11-03 23:46:58.914787  advert_open   \n",
       "74194 2019-11-03 23:47:01.232230    tips_show   \n",
       "74195 2019-11-03 23:47:47.475102  advert_open   \n",
       "74196 2019-11-03 23:47:50.087645    tips_show   \n",
       "\n",
       "                                    user_id  source  \n",
       "0      020292ab-89bc-4156-9acf-68bc2783f894   other  \n",
       "1      020292ab-89bc-4156-9acf-68bc2783f894   other  \n",
       "2      020292ab-89bc-4156-9acf-68bc2783f894   other  \n",
       "3      020292ab-89bc-4156-9acf-68bc2783f894   other  \n",
       "4      020292ab-89bc-4156-9acf-68bc2783f894   other  \n",
       "...                                     ...     ...  \n",
       "74192  d157bffc-264d-4464-8220-1cc0c42f43a9  google  \n",
       "74193  d157bffc-264d-4464-8220-1cc0c42f43a9  google  \n",
       "74194  d157bffc-264d-4464-8220-1cc0c42f43a9  google  \n",
       "74195  d157bffc-264d-4464-8220-1cc0c42f43a9  google  \n",
       "74196  d157bffc-264d-4464-8220-1cc0c42f43a9  google  \n",
       "\n",
       "[74197 rows x 4 columns]"
      ]
     },
     "execution_count": 12,
     "metadata": {},
     "output_type": "execute_result"
    }
   ],
   "source": [
    "# объединяем таблицу 'mobile_dataset' и 'mobile_sourсes' \n",
    "common = mobile_dataset.merge(mobile_sourсes, on = 'user_id')\n",
    "\n",
    "# сортируем события в разрезе пользователей \n",
    "common.sort_values(['user_id', 'event_time'])\n",
    "common"
   ]
  },
  {
   "cell_type": "code",
   "execution_count": 13,
   "metadata": {},
   "outputs": [
    {
     "data": {
      "text/plain": [
       "4293"
      ]
     },
     "execution_count": 13,
     "metadata": {},
     "output_type": "execute_result"
    }
   ],
   "source": [
    "# проверям совпали ли пользователи при объединении таблиц\n",
    "common['user_id'].nunique() "
   ]
  },
  {
   "cell_type": "markdown",
   "metadata": {},
   "source": [
    "- **Количество уникальных пользователей осталось неизменным - 4293 и равным значениям обоих таблиц.**"
   ]
  },
  {
   "cell_type": "code",
   "execution_count": 14,
   "metadata": {},
   "outputs": [
    {
     "data": {
      "text/plain": [
       "0"
      ]
     },
     "execution_count": 14,
     "metadata": {},
     "output_type": "execute_result"
    }
   ],
   "source": [
    "# проверяем на явные дубликаты \n",
    "common.duplicated().sum()"
   ]
  },
  {
   "cell_type": "code",
   "execution_count": 15,
   "metadata": {},
   "outputs": [
    {
     "data": {
      "text/plain": [
       "0"
      ]
     },
     "execution_count": 15,
     "metadata": {},
     "output_type": "execute_result"
    }
   ],
   "source": [
    "# проверяем на неявные дубликаты \n",
    "common.duplicated(subset=['event_time']).sum()"
   ]
  },
  {
   "cell_type": "code",
   "execution_count": 16,
   "metadata": {},
   "outputs": [
    {
     "data": {
      "text/plain": [
       "Timestamp('2019-10-07 00:00:00.431357')"
      ]
     },
     "execution_count": 16,
     "metadata": {},
     "output_type": "execute_result"
    }
   ],
   "source": [
    "# время первого действия в данных\n",
    "common['event_time'].min()"
   ]
  },
  {
   "cell_type": "code",
   "execution_count": 17,
   "metadata": {},
   "outputs": [
    {
     "data": {
      "text/plain": [
       "Timestamp('2019-11-03 23:58:12.532487')"
      ]
     },
     "execution_count": 17,
     "metadata": {},
     "output_type": "execute_result"
    }
   ],
   "source": [
    "# время последнего действия в данных\n",
    "common['event_time'].max()"
   ]
  },
  {
   "cell_type": "code",
   "execution_count": 18,
   "metadata": {},
   "outputs": [
    {
     "data": {
      "text/plain": [
       "Timedelta('27 days 23:58:12.101130')"
      ]
     },
     "execution_count": 18,
     "metadata": {},
     "output_type": "execute_result"
    }
   ],
   "source": [
    "# период за который представлены данные\n",
    "test_period = common['event_time'].max() - common['event_time'].min()\n",
    "test_period"
   ]
  },
  {
   "cell_type": "markdown",
   "metadata": {},
   "source": [
    "**`Данные корректны:`**\n",
    "\n",
    "- **Нет пропусков;**\n",
    "- **Нет явных и неявных дубликатов;**\n",
    "- **Данные приведены к нужным типам;**\n",
    "- **Названия столбцов имеют общепринятый вид.**\n",
    "\n",
    "**`Обнаружено:`**\n",
    "\n",
    "- **Количество уникальных пользователец - 4293;**\n",
    "- **Представлены данные за период с 2019-10-07 00:00:00 по 2019-11-03 23:58:12. В сумме почти 28 дней;**\n",
    "- **Источник большинства пользователей - \"yandex\", затем \"other\" и \"google\".**"
   ]
  },
  {
   "cell_type": "markdown",
   "metadata": {},
   "source": [
    "# Исследовательский анализ данных"
   ]
  },
  {
   "cell_type": "markdown",
   "metadata": {},
   "source": [
    "## Отпределение тайм-аута и выделение сессий пользователей"
   ]
  },
  {
   "cell_type": "code",
   "execution_count": 19,
   "metadata": {},
   "outputs": [
    {
     "data": {
      "text/html": [
       "<div>\n",
       "<style scoped>\n",
       "    .dataframe tbody tr th:only-of-type {\n",
       "        vertical-align: middle;\n",
       "    }\n",
       "\n",
       "    .dataframe tbody tr th {\n",
       "        vertical-align: top;\n",
       "    }\n",
       "\n",
       "    .dataframe thead th {\n",
       "        text-align: right;\n",
       "    }\n",
       "</style>\n",
       "<table border=\"1\" class=\"dataframe\">\n",
       "  <thead>\n",
       "    <tr style=\"text-align: right;\">\n",
       "      <th></th>\n",
       "      <th>event_time</th>\n",
       "      <th>event_name</th>\n",
       "      <th>user_id</th>\n",
       "      <th>source</th>\n",
       "      <th>difference</th>\n",
       "    </tr>\n",
       "  </thead>\n",
       "  <tbody>\n",
       "    <tr>\n",
       "      <th>0</th>\n",
       "      <td>2019-10-07 00:00:00.431357</td>\n",
       "      <td>advert_open</td>\n",
       "      <td>020292ab-89bc-4156-9acf-68bc2783f894</td>\n",
       "      <td>other</td>\n",
       "      <td>0.000</td>\n",
       "    </tr>\n",
       "    <tr>\n",
       "      <th>1</th>\n",
       "      <td>2019-10-07 00:00:01.236320</td>\n",
       "      <td>tips_show</td>\n",
       "      <td>020292ab-89bc-4156-9acf-68bc2783f894</td>\n",
       "      <td>other</td>\n",
       "      <td>0.013</td>\n",
       "    </tr>\n",
       "    <tr>\n",
       "      <th>2</th>\n",
       "      <td>2019-10-07 00:00:07.039334</td>\n",
       "      <td>tips_show</td>\n",
       "      <td>020292ab-89bc-4156-9acf-68bc2783f894</td>\n",
       "      <td>other</td>\n",
       "      <td>0.097</td>\n",
       "    </tr>\n",
       "    <tr>\n",
       "      <th>3</th>\n",
       "      <td>2019-10-07 00:01:27.770232</td>\n",
       "      <td>advert_open</td>\n",
       "      <td>020292ab-89bc-4156-9acf-68bc2783f894</td>\n",
       "      <td>other</td>\n",
       "      <td>1.346</td>\n",
       "    </tr>\n",
       "    <tr>\n",
       "      <th>4</th>\n",
       "      <td>2019-10-07 00:01:34.804591</td>\n",
       "      <td>tips_show</td>\n",
       "      <td>020292ab-89bc-4156-9acf-68bc2783f894</td>\n",
       "      <td>other</td>\n",
       "      <td>0.117</td>\n",
       "    </tr>\n",
       "  </tbody>\n",
       "</table>\n",
       "</div>"
      ],
      "text/plain": [
       "                  event_time   event_name  \\\n",
       "0 2019-10-07 00:00:00.431357  advert_open   \n",
       "1 2019-10-07 00:00:01.236320    tips_show   \n",
       "2 2019-10-07 00:00:07.039334    tips_show   \n",
       "3 2019-10-07 00:01:27.770232  advert_open   \n",
       "4 2019-10-07 00:01:34.804591    tips_show   \n",
       "\n",
       "                                user_id source  difference  \n",
       "0  020292ab-89bc-4156-9acf-68bc2783f894  other       0.000  \n",
       "1  020292ab-89bc-4156-9acf-68bc2783f894  other       0.013  \n",
       "2  020292ab-89bc-4156-9acf-68bc2783f894  other       0.097  \n",
       "3  020292ab-89bc-4156-9acf-68bc2783f894  other       1.346  \n",
       "4  020292ab-89bc-4156-9acf-68bc2783f894  other       0.117  "
      ]
     },
     "metadata": {},
     "output_type": "display_data"
    },
    {
     "data": {
      "text/plain": [
       "count   74197.000\n",
       "mean      219.537\n",
       "std      1488.939\n",
       "min         0.000\n",
       "25%         0.273\n",
       "50%         1.061\n",
       "75%         2.790\n",
       "max     38269.914\n",
       "Name: difference, dtype: float64"
      ]
     },
     "execution_count": 19,
     "metadata": {},
     "output_type": "execute_result"
    }
   ],
   "source": [
    "# посмотрим на разницу в минутах между действиями всей таблицы\n",
    "common['difference'] = (common.groupby('user_id')['event_time'].diff().dt.total_seconds().fillna(0) / 60) \n",
    "\n",
    "# если это первое действие пользователя, то в 'difference' стоят нули\n",
    "display(common.head())\n",
    "common['difference'].describe()"
   ]
  },
  {
   "cell_type": "markdown",
   "metadata": {},
   "source": [
    "- Среднее значение 'difference' сильно завышено относительно медианы из-за выбросов. "
   ]
  },
  {
   "cell_type": "code",
   "execution_count": 20,
   "metadata": {},
   "outputs": [
    {
     "data": {
      "image/png": "[encoded data removed]",
      "text/plain": [
       "<Figure size 500x700 with 1 Axes>"
      ]
     },
     "metadata": {},
     "output_type": "display_data"
    }
   ],
   "source": [
    "# строим диаграмму разброса времени между действиями - 'difference'\n",
    "plt.figure(figsize=(5, 7))\n",
    "sport = sns.load_dataset('exercise')\n",
    "ax = sns.boxplot(y='difference', data=common) \n",
    "plt.xlabel('Разница во времени между действиями')\n",
    "plt.xticks(rotation = 55)\n",
    "plt.ylabel('Минуты')\n",
    "plt.title('Распределение времени между действиями пользователей')\n",
    "plt.yticks([0, 1, 2, 3, 4, 5, 6, 7, 8, 9, 10])\n",
    "plt.ylim(0, 10)\n",
    "plt.show()"
   ]
  },
  {
   "cell_type": "code",
   "execution_count": 21,
   "metadata": {},
   "outputs": [
    {
     "data": {
      "text/plain": [
       "[0.27260665,\n",
       " 5.680629386666665,\n",
       " 20.047997487333344,\n",
       " 33.771809570000286,\n",
       " 65.73104018066657,\n",
       " 152.14705348399764,\n",
       " 426.47733404665894,\n",
       " 6664.092717617869]"
      ]
     },
     "execution_count": 21,
     "metadata": {},
     "output_type": "execute_result"
    }
   ],
   "source": [
    "# посмотрим разспределение 'difference' по перцентилям\n",
    "x = np.percentile(common['difference'], [25, 85, 91, 92, 93, 94,  95, 99])\n",
    "x.tolist()"
   ]
  },
  {
   "cell_type": "markdown",
   "metadata": {},
   "source": [
    "- **По перцентилям получается, что не больше 10% данных имеют разницу между действиями от 20 минут.**\n",
    "- **При этом примерно в 85% данных пользователи переключаются между действиями в течение 5-6 минут.** \n",
    "- **`Исходя из данных \"ящика с усами\" и перцентилей, примем за туйм-аут - 5 минут.`**"
   ]
  },
  {
   "cell_type": "code",
   "execution_count": 22,
   "metadata": {},
   "outputs": [
    {
     "data": {
      "text/html": [
       "<div>\n",
       "<style scoped>\n",
       "    .dataframe tbody tr th:only-of-type {\n",
       "        vertical-align: middle;\n",
       "    }\n",
       "\n",
       "    .dataframe tbody tr th {\n",
       "        vertical-align: top;\n",
       "    }\n",
       "\n",
       "    .dataframe thead th {\n",
       "        text-align: right;\n",
       "    }\n",
       "</style>\n",
       "<table border=\"1\" class=\"dataframe\">\n",
       "  <thead>\n",
       "    <tr style=\"text-align: right;\">\n",
       "      <th></th>\n",
       "      <th>event_time</th>\n",
       "      <th>event_name</th>\n",
       "      <th>user_id</th>\n",
       "      <th>source</th>\n",
       "      <th>difference</th>\n",
       "      <th>session_id</th>\n",
       "    </tr>\n",
       "  </thead>\n",
       "  <tbody>\n",
       "    <tr>\n",
       "      <th>0</th>\n",
       "      <td>2019-10-07 00:00:00.431357</td>\n",
       "      <td>advert_open</td>\n",
       "      <td>020292ab-89bc-4156-9acf-68bc2783f894</td>\n",
       "      <td>other</td>\n",
       "      <td>0.000</td>\n",
       "      <td>1</td>\n",
       "    </tr>\n",
       "    <tr>\n",
       "      <th>1</th>\n",
       "      <td>2019-10-07 00:00:01.236320</td>\n",
       "      <td>tips_show</td>\n",
       "      <td>020292ab-89bc-4156-9acf-68bc2783f894</td>\n",
       "      <td>other</td>\n",
       "      <td>0.013</td>\n",
       "      <td>1</td>\n",
       "    </tr>\n",
       "    <tr>\n",
       "      <th>2</th>\n",
       "      <td>2019-10-07 00:00:07.039334</td>\n",
       "      <td>tips_show</td>\n",
       "      <td>020292ab-89bc-4156-9acf-68bc2783f894</td>\n",
       "      <td>other</td>\n",
       "      <td>0.097</td>\n",
       "      <td>1</td>\n",
       "    </tr>\n",
       "    <tr>\n",
       "      <th>3</th>\n",
       "      <td>2019-10-07 00:01:27.770232</td>\n",
       "      <td>advert_open</td>\n",
       "      <td>020292ab-89bc-4156-9acf-68bc2783f894</td>\n",
       "      <td>other</td>\n",
       "      <td>1.346</td>\n",
       "      <td>1</td>\n",
       "    </tr>\n",
       "    <tr>\n",
       "      <th>4</th>\n",
       "      <td>2019-10-07 00:01:34.804591</td>\n",
       "      <td>tips_show</td>\n",
       "      <td>020292ab-89bc-4156-9acf-68bc2783f894</td>\n",
       "      <td>other</td>\n",
       "      <td>0.117</td>\n",
       "      <td>1</td>\n",
       "    </tr>\n",
       "    <tr>\n",
       "      <th>...</th>\n",
       "      <td>...</td>\n",
       "      <td>...</td>\n",
       "      <td>...</td>\n",
       "      <td>...</td>\n",
       "      <td>...</td>\n",
       "      <td>...</td>\n",
       "    </tr>\n",
       "    <tr>\n",
       "      <th>74192</th>\n",
       "      <td>2019-11-03 23:46:47.068179</td>\n",
       "      <td>map</td>\n",
       "      <td>d157bffc-264d-4464-8220-1cc0c42f43a9</td>\n",
       "      <td>google</td>\n",
       "      <td>0.000</td>\n",
       "      <td>16366</td>\n",
       "    </tr>\n",
       "    <tr>\n",
       "      <th>74193</th>\n",
       "      <td>2019-11-03 23:46:58.914787</td>\n",
       "      <td>advert_open</td>\n",
       "      <td>d157bffc-264d-4464-8220-1cc0c42f43a9</td>\n",
       "      <td>google</td>\n",
       "      <td>0.197</td>\n",
       "      <td>16366</td>\n",
       "    </tr>\n",
       "    <tr>\n",
       "      <th>74194</th>\n",
       "      <td>2019-11-03 23:47:01.232230</td>\n",
       "      <td>tips_show</td>\n",
       "      <td>d157bffc-264d-4464-8220-1cc0c42f43a9</td>\n",
       "      <td>google</td>\n",
       "      <td>0.039</td>\n",
       "      <td>16366</td>\n",
       "    </tr>\n",
       "    <tr>\n",
       "      <th>74195</th>\n",
       "      <td>2019-11-03 23:47:47.475102</td>\n",
       "      <td>advert_open</td>\n",
       "      <td>d157bffc-264d-4464-8220-1cc0c42f43a9</td>\n",
       "      <td>google</td>\n",
       "      <td>0.771</td>\n",
       "      <td>16366</td>\n",
       "    </tr>\n",
       "    <tr>\n",
       "      <th>74196</th>\n",
       "      <td>2019-11-03 23:47:50.087645</td>\n",
       "      <td>tips_show</td>\n",
       "      <td>d157bffc-264d-4464-8220-1cc0c42f43a9</td>\n",
       "      <td>google</td>\n",
       "      <td>0.044</td>\n",
       "      <td>16366</td>\n",
       "    </tr>\n",
       "  </tbody>\n",
       "</table>\n",
       "<p>74197 rows × 6 columns</p>\n",
       "</div>"
      ],
      "text/plain": [
       "                      event_time   event_name  \\\n",
       "0     2019-10-07 00:00:00.431357  advert_open   \n",
       "1     2019-10-07 00:00:01.236320    tips_show   \n",
       "2     2019-10-07 00:00:07.039334    tips_show   \n",
       "3     2019-10-07 00:01:27.770232  advert_open   \n",
       "4     2019-10-07 00:01:34.804591    tips_show   \n",
       "...                          ...          ...   \n",
       "74192 2019-11-03 23:46:47.068179          map   \n",
       "74193 2019-11-03 23:46:58.914787  advert_open   \n",
       "74194 2019-11-03 23:47:01.232230    tips_show   \n",
       "74195 2019-11-03 23:47:47.475102  advert_open   \n",
       "74196 2019-11-03 23:47:50.087645    tips_show   \n",
       "\n",
       "                                    user_id  source  difference  session_id  \n",
       "0      020292ab-89bc-4156-9acf-68bc2783f894   other       0.000           1  \n",
       "1      020292ab-89bc-4156-9acf-68bc2783f894   other       0.013           1  \n",
       "2      020292ab-89bc-4156-9acf-68bc2783f894   other       0.097           1  \n",
       "3      020292ab-89bc-4156-9acf-68bc2783f894   other       1.346           1  \n",
       "4      020292ab-89bc-4156-9acf-68bc2783f894   other       0.117           1  \n",
       "...                                     ...     ...         ...         ...  \n",
       "74192  d157bffc-264d-4464-8220-1cc0c42f43a9  google       0.000       16366  \n",
       "74193  d157bffc-264d-4464-8220-1cc0c42f43a9  google       0.197       16366  \n",
       "74194  d157bffc-264d-4464-8220-1cc0c42f43a9  google       0.039       16366  \n",
       "74195  d157bffc-264d-4464-8220-1cc0c42f43a9  google       0.771       16366  \n",
       "74196  d157bffc-264d-4464-8220-1cc0c42f43a9  google       0.044       16366  \n",
       "\n",
       "[74197 rows x 6 columns]"
      ]
     },
     "execution_count": 22,
     "metadata": {},
     "output_type": "execute_result"
    }
   ],
   "source": [
    "# выделим сессии относительно тайм-аута\n",
    "g = (common.groupby('user_id')['event_time'].diff() > pd.Timedelta('5Min')).cumsum()\n",
    "common['session_id'] = common.groupby(['user_id', g], sort=False).ngroup() + 1\n",
    "common"
   ]
  },
  {
   "cell_type": "markdown",
   "metadata": {},
   "source": [
    "- **Если между событиями время больше 5 минут, то они относятся к разным сессиям.**\n",
    "- **Всего сессий 16366.**\n",
    "- **Всего действий совершено в приложении -  74197.**"
   ]
  },
  {
   "cell_type": "markdown",
   "metadata": {},
   "source": [
    "## Выделение сценариев"
   ]
  },
  {
   "cell_type": "code",
   "execution_count": 23,
   "metadata": {},
   "outputs": [
    {
     "data": {
      "text/html": [
       "<div>\n",
       "<style scoped>\n",
       "    .dataframe tbody tr th:only-of-type {\n",
       "        vertical-align: middle;\n",
       "    }\n",
       "\n",
       "    .dataframe tbody tr th {\n",
       "        vertical-align: top;\n",
       "    }\n",
       "\n",
       "    .dataframe thead th {\n",
       "        text-align: right;\n",
       "    }\n",
       "</style>\n",
       "<table border=\"1\" class=\"dataframe\">\n",
       "  <thead>\n",
       "    <tr style=\"text-align: right;\">\n",
       "      <th></th>\n",
       "      <th>user_id</th>\n",
       "      <th>session_id</th>\n",
       "      <th>scenario</th>\n",
       "    </tr>\n",
       "  </thead>\n",
       "  <tbody>\n",
       "    <tr>\n",
       "      <th>0</th>\n",
       "      <td>020292ab-89bc-4156-9acf-68bc2783f894</td>\n",
       "      <td>1</td>\n",
       "      <td>[advert_open, tips_show, map]</td>\n",
       "    </tr>\n",
       "    <tr>\n",
       "      <th>1</th>\n",
       "      <td>cf7eda61-9349-469f-ac27-e5b6f5ec475c</td>\n",
       "      <td>2</td>\n",
       "      <td>[tips_show, advert_open]</td>\n",
       "    </tr>\n",
       "    <tr>\n",
       "      <th>2</th>\n",
       "      <td>cf7eda61-9349-469f-ac27-e5b6f5ec475c</td>\n",
       "      <td>3</td>\n",
       "      <td>[tips_show]</td>\n",
       "    </tr>\n",
       "    <tr>\n",
       "      <th>3</th>\n",
       "      <td>cf7eda61-9349-469f-ac27-e5b6f5ec475c</td>\n",
       "      <td>4</td>\n",
       "      <td>[tips_show, tips_click]</td>\n",
       "    </tr>\n",
       "    <tr>\n",
       "      <th>4</th>\n",
       "      <td>cf7eda61-9349-469f-ac27-e5b6f5ec475c</td>\n",
       "      <td>5</td>\n",
       "      <td>[advert_open, tips_show, search_4, map]</td>\n",
       "    </tr>\n",
       "    <tr>\n",
       "      <th>...</th>\n",
       "      <td>...</td>\n",
       "      <td>...</td>\n",
       "      <td>...</td>\n",
       "    </tr>\n",
       "    <tr>\n",
       "      <th>16361</th>\n",
       "      <td>424c0ae1-3ea3-4f1e-a814-6bac73e48ab1</td>\n",
       "      <td>16362</td>\n",
       "      <td>[tips_show]</td>\n",
       "    </tr>\n",
       "    <tr>\n",
       "      <th>16362</th>\n",
       "      <td>424c0ae1-3ea3-4f1e-a814-6bac73e48ab1</td>\n",
       "      <td>16363</td>\n",
       "      <td>[tips_show]</td>\n",
       "    </tr>\n",
       "    <tr>\n",
       "      <th>16363</th>\n",
       "      <td>437a4cd4-9ba9-457f-8614-d142bc48fbeb</td>\n",
       "      <td>16364</td>\n",
       "      <td>[tips_show]</td>\n",
       "    </tr>\n",
       "    <tr>\n",
       "      <th>16364</th>\n",
       "      <td>c10055f0-0b47-477a-869e-d391b31fdf8f</td>\n",
       "      <td>16365</td>\n",
       "      <td>[contacts_show, tips_click]</td>\n",
       "    </tr>\n",
       "    <tr>\n",
       "      <th>16365</th>\n",
       "      <td>d157bffc-264d-4464-8220-1cc0c42f43a9</td>\n",
       "      <td>16366</td>\n",
       "      <td>[map, advert_open, tips_show]</td>\n",
       "    </tr>\n",
       "  </tbody>\n",
       "</table>\n",
       "<p>16366 rows × 3 columns</p>\n",
       "</div>"
      ],
      "text/plain": [
       "                                    user_id  session_id  \\\n",
       "0      020292ab-89bc-4156-9acf-68bc2783f894           1   \n",
       "1      cf7eda61-9349-469f-ac27-e5b6f5ec475c           2   \n",
       "2      cf7eda61-9349-469f-ac27-e5b6f5ec475c           3   \n",
       "3      cf7eda61-9349-469f-ac27-e5b6f5ec475c           4   \n",
       "4      cf7eda61-9349-469f-ac27-e5b6f5ec475c           5   \n",
       "...                                     ...         ...   \n",
       "16361  424c0ae1-3ea3-4f1e-a814-6bac73e48ab1       16362   \n",
       "16362  424c0ae1-3ea3-4f1e-a814-6bac73e48ab1       16363   \n",
       "16363  437a4cd4-9ba9-457f-8614-d142bc48fbeb       16364   \n",
       "16364  c10055f0-0b47-477a-869e-d391b31fdf8f       16365   \n",
       "16365  d157bffc-264d-4464-8220-1cc0c42f43a9       16366   \n",
       "\n",
       "                                      scenario  \n",
       "0                [advert_open, tips_show, map]  \n",
       "1                     [tips_show, advert_open]  \n",
       "2                                  [tips_show]  \n",
       "3                      [tips_show, tips_click]  \n",
       "4      [advert_open, tips_show, search_4, map]  \n",
       "...                                        ...  \n",
       "16361                              [tips_show]  \n",
       "16362                              [tips_show]  \n",
       "16363                              [tips_show]  \n",
       "16364              [contacts_show, tips_click]  \n",
       "16365            [map, advert_open, tips_show]  \n",
       "\n",
       "[16366 rows x 3 columns]"
      ]
     },
     "execution_count": 23,
     "metadata": {},
     "output_type": "execute_result"
    }
   ],
   "source": [
    "# создаем таблицу с последовательностью действий в каждой сессии\n",
    "sequence_per_session = common.groupby(['user_id', 'session_id']).agg({'event_name':'unique'}).sort_values('session_id', ascending=True).reset_index()\n",
    "sequence_per_session.columns = ['user_id', 'session_id', 'scenario']\n",
    "sequence_per_session"
   ]
  },
  {
   "cell_type": "code",
   "execution_count": 24,
   "metadata": {},
   "outputs": [
    {
     "data": {
      "text/html": [
       "<div>\n",
       "<style scoped>\n",
       "    .dataframe tbody tr th:only-of-type {\n",
       "        vertical-align: middle;\n",
       "    }\n",
       "\n",
       "    .dataframe tbody tr th {\n",
       "        vertical-align: top;\n",
       "    }\n",
       "\n",
       "    .dataframe thead th {\n",
       "        text-align: right;\n",
       "    }\n",
       "</style>\n",
       "<table border=\"1\" class=\"dataframe\">\n",
       "  <thead>\n",
       "    <tr style=\"text-align: right;\">\n",
       "      <th></th>\n",
       "      <th>scenario_correct</th>\n",
       "    </tr>\n",
       "  </thead>\n",
       "  <tbody>\n",
       "    <tr>\n",
       "      <th>0</th>\n",
       "      <td>advert_open, tips_show, map</td>\n",
       "    </tr>\n",
       "    <tr>\n",
       "      <th>1</th>\n",
       "      <td>tips_show, advert_open</td>\n",
       "    </tr>\n",
       "    <tr>\n",
       "      <th>2</th>\n",
       "      <td>tips_show</td>\n",
       "    </tr>\n",
       "    <tr>\n",
       "      <th>3</th>\n",
       "      <td>tips_show, tips_click</td>\n",
       "    </tr>\n",
       "    <tr>\n",
       "      <th>4</th>\n",
       "      <td>advert_open, tips_show, search_4, map</td>\n",
       "    </tr>\n",
       "    <tr>\n",
       "      <th>...</th>\n",
       "      <td>...</td>\n",
       "    </tr>\n",
       "    <tr>\n",
       "      <th>16361</th>\n",
       "      <td>tips_show</td>\n",
       "    </tr>\n",
       "    <tr>\n",
       "      <th>16362</th>\n",
       "      <td>tips_show</td>\n",
       "    </tr>\n",
       "    <tr>\n",
       "      <th>16363</th>\n",
       "      <td>tips_show</td>\n",
       "    </tr>\n",
       "    <tr>\n",
       "      <th>16364</th>\n",
       "      <td>contacts_show, tips_click</td>\n",
       "    </tr>\n",
       "    <tr>\n",
       "      <th>16365</th>\n",
       "      <td>map, advert_open, tips_show</td>\n",
       "    </tr>\n",
       "  </tbody>\n",
       "</table>\n",
       "<p>16366 rows × 1 columns</p>\n",
       "</div>"
      ],
      "text/plain": [
       "                            scenario_correct\n",
       "0                advert_open, tips_show, map\n",
       "1                     tips_show, advert_open\n",
       "2                                  tips_show\n",
       "3                      tips_show, tips_click\n",
       "4      advert_open, tips_show, search_4, map\n",
       "...                                      ...\n",
       "16361                              tips_show\n",
       "16362                              tips_show\n",
       "16363                              tips_show\n",
       "16364              contacts_show, tips_click\n",
       "16365            map, advert_open, tips_show\n",
       "\n",
       "[16366 rows x 1 columns]"
      ]
     },
     "execution_count": 24,
     "metadata": {},
     "output_type": "execute_result"
    }
   ],
   "source": [
    "# создаём функцию, которая извлекает в каждой строке таблицы элементы из списка действий за сессию и записывает их в строку\n",
    "yes = []\n",
    "for i in sequence_per_session['scenario']:\n",
    "    f1 = \", \".join(i)\n",
    "    yes.append(f1)\n",
    "\n",
    "scenario_correct = pd.DataFrame(yes, columns=['scenario_correct'])\n",
    "scenario_correct"
   ]
  },
  {
   "cell_type": "code",
   "execution_count": 25,
   "metadata": {},
   "outputs": [
    {
     "data": {
      "text/html": [
       "<div>\n",
       "<style scoped>\n",
       "    .dataframe tbody tr th:only-of-type {\n",
       "        vertical-align: middle;\n",
       "    }\n",
       "\n",
       "    .dataframe tbody tr th {\n",
       "        vertical-align: top;\n",
       "    }\n",
       "\n",
       "    .dataframe thead th {\n",
       "        text-align: right;\n",
       "    }\n",
       "</style>\n",
       "<table border=\"1\" class=\"dataframe\">\n",
       "  <thead>\n",
       "    <tr style=\"text-align: right;\">\n",
       "      <th></th>\n",
       "      <th>user_id</th>\n",
       "      <th>session_id</th>\n",
       "      <th>scenario</th>\n",
       "    </tr>\n",
       "  </thead>\n",
       "  <tbody>\n",
       "    <tr>\n",
       "      <th>0</th>\n",
       "      <td>020292ab-89bc-4156-9acf-68bc2783f894</td>\n",
       "      <td>1</td>\n",
       "      <td>advert_open, tips_show, map</td>\n",
       "    </tr>\n",
       "    <tr>\n",
       "      <th>1</th>\n",
       "      <td>cf7eda61-9349-469f-ac27-e5b6f5ec475c</td>\n",
       "      <td>2</td>\n",
       "      <td>tips_show, advert_open</td>\n",
       "    </tr>\n",
       "    <tr>\n",
       "      <th>2</th>\n",
       "      <td>cf7eda61-9349-469f-ac27-e5b6f5ec475c</td>\n",
       "      <td>3</td>\n",
       "      <td>tips_show</td>\n",
       "    </tr>\n",
       "    <tr>\n",
       "      <th>3</th>\n",
       "      <td>cf7eda61-9349-469f-ac27-e5b6f5ec475c</td>\n",
       "      <td>4</td>\n",
       "      <td>tips_show, tips_click</td>\n",
       "    </tr>\n",
       "    <tr>\n",
       "      <th>4</th>\n",
       "      <td>cf7eda61-9349-469f-ac27-e5b6f5ec475c</td>\n",
       "      <td>5</td>\n",
       "      <td>advert_open, tips_show, search_4, map</td>\n",
       "    </tr>\n",
       "    <tr>\n",
       "      <th>...</th>\n",
       "      <td>...</td>\n",
       "      <td>...</td>\n",
       "      <td>...</td>\n",
       "    </tr>\n",
       "    <tr>\n",
       "      <th>16361</th>\n",
       "      <td>424c0ae1-3ea3-4f1e-a814-6bac73e48ab1</td>\n",
       "      <td>16362</td>\n",
       "      <td>tips_show</td>\n",
       "    </tr>\n",
       "    <tr>\n",
       "      <th>16362</th>\n",
       "      <td>424c0ae1-3ea3-4f1e-a814-6bac73e48ab1</td>\n",
       "      <td>16363</td>\n",
       "      <td>tips_show</td>\n",
       "    </tr>\n",
       "    <tr>\n",
       "      <th>16363</th>\n",
       "      <td>437a4cd4-9ba9-457f-8614-d142bc48fbeb</td>\n",
       "      <td>16364</td>\n",
       "      <td>tips_show</td>\n",
       "    </tr>\n",
       "    <tr>\n",
       "      <th>16364</th>\n",
       "      <td>c10055f0-0b47-477a-869e-d391b31fdf8f</td>\n",
       "      <td>16365</td>\n",
       "      <td>contacts_show, tips_click</td>\n",
       "    </tr>\n",
       "    <tr>\n",
       "      <th>16365</th>\n",
       "      <td>d157bffc-264d-4464-8220-1cc0c42f43a9</td>\n",
       "      <td>16366</td>\n",
       "      <td>map, advert_open, tips_show</td>\n",
       "    </tr>\n",
       "  </tbody>\n",
       "</table>\n",
       "<p>16366 rows × 3 columns</p>\n",
       "</div>"
      ],
      "text/plain": [
       "                                    user_id  session_id  \\\n",
       "0      020292ab-89bc-4156-9acf-68bc2783f894           1   \n",
       "1      cf7eda61-9349-469f-ac27-e5b6f5ec475c           2   \n",
       "2      cf7eda61-9349-469f-ac27-e5b6f5ec475c           3   \n",
       "3      cf7eda61-9349-469f-ac27-e5b6f5ec475c           4   \n",
       "4      cf7eda61-9349-469f-ac27-e5b6f5ec475c           5   \n",
       "...                                     ...         ...   \n",
       "16361  424c0ae1-3ea3-4f1e-a814-6bac73e48ab1       16362   \n",
       "16362  424c0ae1-3ea3-4f1e-a814-6bac73e48ab1       16363   \n",
       "16363  437a4cd4-9ba9-457f-8614-d142bc48fbeb       16364   \n",
       "16364  c10055f0-0b47-477a-869e-d391b31fdf8f       16365   \n",
       "16365  d157bffc-264d-4464-8220-1cc0c42f43a9       16366   \n",
       "\n",
       "                                    scenario  \n",
       "0                advert_open, tips_show, map  \n",
       "1                     tips_show, advert_open  \n",
       "2                                  tips_show  \n",
       "3                      tips_show, tips_click  \n",
       "4      advert_open, tips_show, search_4, map  \n",
       "...                                      ...  \n",
       "16361                              tips_show  \n",
       "16362                              tips_show  \n",
       "16363                              tips_show  \n",
       "16364              contacts_show, tips_click  \n",
       "16365            map, advert_open, tips_show  \n",
       "\n",
       "[16366 rows x 3 columns]"
      ]
     },
     "execution_count": 25,
     "metadata": {},
     "output_type": "execute_result"
    }
   ],
   "source": [
    "# заменяем в таблице \"sequence_per_session\" списки последовательностью действий в каждой сессии на строки\n",
    "sequence_per_session['scenario'] = yes\n",
    "sequence_per_session.sort_values('session_id', ascending=True)"
   ]
  },
  {
   "cell_type": "code",
   "execution_count": 26,
   "metadata": {},
   "outputs": [
    {
     "data": {
      "text/html": [
       "<div>\n",
       "<style scoped>\n",
       "    .dataframe tbody tr th:only-of-type {\n",
       "        vertical-align: middle;\n",
       "    }\n",
       "\n",
       "    .dataframe tbody tr th {\n",
       "        vertical-align: top;\n",
       "    }\n",
       "\n",
       "    .dataframe thead th {\n",
       "        text-align: right;\n",
       "    }\n",
       "</style>\n",
       "<table border=\"1\" class=\"dataframe\">\n",
       "  <thead>\n",
       "    <tr style=\"text-align: right;\">\n",
       "      <th></th>\n",
       "      <th>event_time</th>\n",
       "      <th>event_name</th>\n",
       "      <th>user_id</th>\n",
       "      <th>source</th>\n",
       "      <th>session_id</th>\n",
       "      <th>scenario</th>\n",
       "    </tr>\n",
       "  </thead>\n",
       "  <tbody>\n",
       "    <tr>\n",
       "      <th>0</th>\n",
       "      <td>2019-10-07 00:00:00.431357</td>\n",
       "      <td>advert_open</td>\n",
       "      <td>020292ab-89bc-4156-9acf-68bc2783f894</td>\n",
       "      <td>other</td>\n",
       "      <td>1</td>\n",
       "      <td>advert_open, tips_show, map</td>\n",
       "    </tr>\n",
       "    <tr>\n",
       "      <th>1</th>\n",
       "      <td>2019-10-07 00:00:01.236320</td>\n",
       "      <td>tips_show</td>\n",
       "      <td>020292ab-89bc-4156-9acf-68bc2783f894</td>\n",
       "      <td>other</td>\n",
       "      <td>1</td>\n",
       "      <td>advert_open, tips_show, map</td>\n",
       "    </tr>\n",
       "    <tr>\n",
       "      <th>2</th>\n",
       "      <td>2019-10-07 00:00:07.039334</td>\n",
       "      <td>tips_show</td>\n",
       "      <td>020292ab-89bc-4156-9acf-68bc2783f894</td>\n",
       "      <td>other</td>\n",
       "      <td>1</td>\n",
       "      <td>advert_open, tips_show, map</td>\n",
       "    </tr>\n",
       "    <tr>\n",
       "      <th>3</th>\n",
       "      <td>2019-10-07 00:01:27.770232</td>\n",
       "      <td>advert_open</td>\n",
       "      <td>020292ab-89bc-4156-9acf-68bc2783f894</td>\n",
       "      <td>other</td>\n",
       "      <td>1</td>\n",
       "      <td>advert_open, tips_show, map</td>\n",
       "    </tr>\n",
       "    <tr>\n",
       "      <th>4</th>\n",
       "      <td>2019-10-07 00:01:34.804591</td>\n",
       "      <td>tips_show</td>\n",
       "      <td>020292ab-89bc-4156-9acf-68bc2783f894</td>\n",
       "      <td>other</td>\n",
       "      <td>1</td>\n",
       "      <td>advert_open, tips_show, map</td>\n",
       "    </tr>\n",
       "    <tr>\n",
       "      <th>...</th>\n",
       "      <td>...</td>\n",
       "      <td>...</td>\n",
       "      <td>...</td>\n",
       "      <td>...</td>\n",
       "      <td>...</td>\n",
       "      <td>...</td>\n",
       "    </tr>\n",
       "    <tr>\n",
       "      <th>74192</th>\n",
       "      <td>2019-11-03 23:46:47.068179</td>\n",
       "      <td>map</td>\n",
       "      <td>d157bffc-264d-4464-8220-1cc0c42f43a9</td>\n",
       "      <td>google</td>\n",
       "      <td>16366</td>\n",
       "      <td>map, advert_open, tips_show</td>\n",
       "    </tr>\n",
       "    <tr>\n",
       "      <th>74193</th>\n",
       "      <td>2019-11-03 23:46:58.914787</td>\n",
       "      <td>advert_open</td>\n",
       "      <td>d157bffc-264d-4464-8220-1cc0c42f43a9</td>\n",
       "      <td>google</td>\n",
       "      <td>16366</td>\n",
       "      <td>map, advert_open, tips_show</td>\n",
       "    </tr>\n",
       "    <tr>\n",
       "      <th>74194</th>\n",
       "      <td>2019-11-03 23:47:01.232230</td>\n",
       "      <td>tips_show</td>\n",
       "      <td>d157bffc-264d-4464-8220-1cc0c42f43a9</td>\n",
       "      <td>google</td>\n",
       "      <td>16366</td>\n",
       "      <td>map, advert_open, tips_show</td>\n",
       "    </tr>\n",
       "    <tr>\n",
       "      <th>74195</th>\n",
       "      <td>2019-11-03 23:47:47.475102</td>\n",
       "      <td>advert_open</td>\n",
       "      <td>d157bffc-264d-4464-8220-1cc0c42f43a9</td>\n",
       "      <td>google</td>\n",
       "      <td>16366</td>\n",
       "      <td>map, advert_open, tips_show</td>\n",
       "    </tr>\n",
       "    <tr>\n",
       "      <th>74196</th>\n",
       "      <td>2019-11-03 23:47:50.087645</td>\n",
       "      <td>tips_show</td>\n",
       "      <td>d157bffc-264d-4464-8220-1cc0c42f43a9</td>\n",
       "      <td>google</td>\n",
       "      <td>16366</td>\n",
       "      <td>map, advert_open, tips_show</td>\n",
       "    </tr>\n",
       "  </tbody>\n",
       "</table>\n",
       "<p>74197 rows × 6 columns</p>\n",
       "</div>"
      ],
      "text/plain": [
       "                      event_time   event_name  \\\n",
       "0     2019-10-07 00:00:00.431357  advert_open   \n",
       "1     2019-10-07 00:00:01.236320    tips_show   \n",
       "2     2019-10-07 00:00:07.039334    tips_show   \n",
       "3     2019-10-07 00:01:27.770232  advert_open   \n",
       "4     2019-10-07 00:01:34.804591    tips_show   \n",
       "...                          ...          ...   \n",
       "74192 2019-11-03 23:46:47.068179          map   \n",
       "74193 2019-11-03 23:46:58.914787  advert_open   \n",
       "74194 2019-11-03 23:47:01.232230    tips_show   \n",
       "74195 2019-11-03 23:47:47.475102  advert_open   \n",
       "74196 2019-11-03 23:47:50.087645    tips_show   \n",
       "\n",
       "                                    user_id  source  session_id  \\\n",
       "0      020292ab-89bc-4156-9acf-68bc2783f894   other           1   \n",
       "1      020292ab-89bc-4156-9acf-68bc2783f894   other           1   \n",
       "2      020292ab-89bc-4156-9acf-68bc2783f894   other           1   \n",
       "3      020292ab-89bc-4156-9acf-68bc2783f894   other           1   \n",
       "4      020292ab-89bc-4156-9acf-68bc2783f894   other           1   \n",
       "...                                     ...     ...         ...   \n",
       "74192  d157bffc-264d-4464-8220-1cc0c42f43a9  google       16366   \n",
       "74193  d157bffc-264d-4464-8220-1cc0c42f43a9  google       16366   \n",
       "74194  d157bffc-264d-4464-8220-1cc0c42f43a9  google       16366   \n",
       "74195  d157bffc-264d-4464-8220-1cc0c42f43a9  google       16366   \n",
       "74196  d157bffc-264d-4464-8220-1cc0c42f43a9  google       16366   \n",
       "\n",
       "                          scenario  \n",
       "0      advert_open, tips_show, map  \n",
       "1      advert_open, tips_show, map  \n",
       "2      advert_open, tips_show, map  \n",
       "3      advert_open, tips_show, map  \n",
       "4      advert_open, tips_show, map  \n",
       "...                            ...  \n",
       "74192  map, advert_open, tips_show  \n",
       "74193  map, advert_open, tips_show  \n",
       "74194  map, advert_open, tips_show  \n",
       "74195  map, advert_open, tips_show  \n",
       "74196  map, advert_open, tips_show  \n",
       "\n",
       "[74197 rows x 6 columns]"
      ]
     },
     "execution_count": 26,
     "metadata": {},
     "output_type": "execute_result"
    }
   ],
   "source": [
    "# объединяем получившуюся таблицу со сценариями и таблицу с деталями сессий \"sessions_details\"\n",
    "general = common.merge(sequence_per_session, on = ['session_id', 'user_id'])\n",
    "general = general.drop(columns = ['difference'], axis = 1)\n",
    "general"
   ]
  },
  {
   "cell_type": "markdown",
   "metadata": {},
   "source": [
    "## Разделение пользователей на 2 группы: по сценариям с/без целевого действия"
   ]
  },
  {
   "cell_type": "code",
   "execution_count": 27,
   "metadata": {},
   "outputs": [
    {
     "data": {
      "text/html": [
       "<div>\n",
       "<style scoped>\n",
       "    .dataframe tbody tr th:only-of-type {\n",
       "        vertical-align: middle;\n",
       "    }\n",
       "\n",
       "    .dataframe tbody tr th {\n",
       "        vertical-align: top;\n",
       "    }\n",
       "\n",
       "    .dataframe thead th {\n",
       "        text-align: right;\n",
       "    }\n",
       "</style>\n",
       "<table border=\"1\" class=\"dataframe\">\n",
       "  <thead>\n",
       "    <tr style=\"text-align: right;\">\n",
       "      <th></th>\n",
       "      <th>event_time</th>\n",
       "      <th>event_name</th>\n",
       "      <th>user_id</th>\n",
       "      <th>source</th>\n",
       "      <th>session_id</th>\n",
       "      <th>scenario</th>\n",
       "    </tr>\n",
       "  </thead>\n",
       "  <tbody>\n",
       "    <tr>\n",
       "      <th>0</th>\n",
       "      <td>2019-10-07 00:02:07.374346</td>\n",
       "      <td>tips_show</td>\n",
       "      <td>8c356c42-3ba9-4cb6-80b8-3f868d0192c3</td>\n",
       "      <td>yandex</td>\n",
       "      <td>18</td>\n",
       "      <td>tips_show, contacts_show, tips_click</td>\n",
       "    </tr>\n",
       "    <tr>\n",
       "      <th>1</th>\n",
       "      <td>2019-10-07 00:05:16.003328</td>\n",
       "      <td>contacts_show</td>\n",
       "      <td>8c356c42-3ba9-4cb6-80b8-3f868d0192c3</td>\n",
       "      <td>yandex</td>\n",
       "      <td>18</td>\n",
       "      <td>tips_show, contacts_show, tips_click</td>\n",
       "    </tr>\n",
       "    <tr>\n",
       "      <th>2</th>\n",
       "      <td>2019-10-07 00:06:01.349291</td>\n",
       "      <td>tips_show</td>\n",
       "      <td>8c356c42-3ba9-4cb6-80b8-3f868d0192c3</td>\n",
       "      <td>yandex</td>\n",
       "      <td>18</td>\n",
       "      <td>tips_show, contacts_show, tips_click</td>\n",
       "    </tr>\n",
       "    <tr>\n",
       "      <th>3</th>\n",
       "      <td>2019-10-07 00:06:56.367054</td>\n",
       "      <td>tips_show</td>\n",
       "      <td>8c356c42-3ba9-4cb6-80b8-3f868d0192c3</td>\n",
       "      <td>yandex</td>\n",
       "      <td>18</td>\n",
       "      <td>tips_show, contacts_show, tips_click</td>\n",
       "    </tr>\n",
       "    <tr>\n",
       "      <th>4</th>\n",
       "      <td>2019-10-07 00:09:24.585200</td>\n",
       "      <td>tips_show</td>\n",
       "      <td>8c356c42-3ba9-4cb6-80b8-3f868d0192c3</td>\n",
       "      <td>yandex</td>\n",
       "      <td>18</td>\n",
       "      <td>tips_show, contacts_show, tips_click</td>\n",
       "    </tr>\n",
       "    <tr>\n",
       "      <th>...</th>\n",
       "      <td>...</td>\n",
       "      <td>...</td>\n",
       "      <td>...</td>\n",
       "      <td>...</td>\n",
       "      <td>...</td>\n",
       "      <td>...</td>\n",
       "    </tr>\n",
       "    <tr>\n",
       "      <th>13109</th>\n",
       "      <td>2019-11-03 23:46:31.298524</td>\n",
       "      <td>contacts_show</td>\n",
       "      <td>c10055f0-0b47-477a-869e-d391b31fdf8f</td>\n",
       "      <td>yandex</td>\n",
       "      <td>16365</td>\n",
       "      <td>contacts_show, tips_click</td>\n",
       "    </tr>\n",
       "    <tr>\n",
       "      <th>13110</th>\n",
       "      <td>2019-11-03 23:48:47.344430</td>\n",
       "      <td>tips_click</td>\n",
       "      <td>c10055f0-0b47-477a-869e-d391b31fdf8f</td>\n",
       "      <td>yandex</td>\n",
       "      <td>16365</td>\n",
       "      <td>contacts_show, tips_click</td>\n",
       "    </tr>\n",
       "    <tr>\n",
       "      <th>13111</th>\n",
       "      <td>2019-11-03 23:50:05.753036</td>\n",
       "      <td>tips_click</td>\n",
       "      <td>c10055f0-0b47-477a-869e-d391b31fdf8f</td>\n",
       "      <td>yandex</td>\n",
       "      <td>16365</td>\n",
       "      <td>contacts_show, tips_click</td>\n",
       "    </tr>\n",
       "    <tr>\n",
       "      <th>13112</th>\n",
       "      <td>2019-11-03 23:51:08.879296</td>\n",
       "      <td>tips_click</td>\n",
       "      <td>c10055f0-0b47-477a-869e-d391b31fdf8f</td>\n",
       "      <td>yandex</td>\n",
       "      <td>16365</td>\n",
       "      <td>contacts_show, tips_click</td>\n",
       "    </tr>\n",
       "    <tr>\n",
       "      <th>13113</th>\n",
       "      <td>2019-11-03 23:52:01.835490</td>\n",
       "      <td>tips_click</td>\n",
       "      <td>c10055f0-0b47-477a-869e-d391b31fdf8f</td>\n",
       "      <td>yandex</td>\n",
       "      <td>16365</td>\n",
       "      <td>contacts_show, tips_click</td>\n",
       "    </tr>\n",
       "  </tbody>\n",
       "</table>\n",
       "<p>13114 rows × 6 columns</p>\n",
       "</div>"
      ],
      "text/plain": [
       "                      event_time     event_name  \\\n",
       "0     2019-10-07 00:02:07.374346      tips_show   \n",
       "1     2019-10-07 00:05:16.003328  contacts_show   \n",
       "2     2019-10-07 00:06:01.349291      tips_show   \n",
       "3     2019-10-07 00:06:56.367054      tips_show   \n",
       "4     2019-10-07 00:09:24.585200      tips_show   \n",
       "...                          ...            ...   \n",
       "13109 2019-11-03 23:46:31.298524  contacts_show   \n",
       "13110 2019-11-03 23:48:47.344430     tips_click   \n",
       "13111 2019-11-03 23:50:05.753036     tips_click   \n",
       "13112 2019-11-03 23:51:08.879296     tips_click   \n",
       "13113 2019-11-03 23:52:01.835490     tips_click   \n",
       "\n",
       "                                    user_id  source  session_id  \\\n",
       "0      8c356c42-3ba9-4cb6-80b8-3f868d0192c3  yandex          18   \n",
       "1      8c356c42-3ba9-4cb6-80b8-3f868d0192c3  yandex          18   \n",
       "2      8c356c42-3ba9-4cb6-80b8-3f868d0192c3  yandex          18   \n",
       "3      8c356c42-3ba9-4cb6-80b8-3f868d0192c3  yandex          18   \n",
       "4      8c356c42-3ba9-4cb6-80b8-3f868d0192c3  yandex          18   \n",
       "...                                     ...     ...         ...   \n",
       "13109  c10055f0-0b47-477a-869e-d391b31fdf8f  yandex       16365   \n",
       "13110  c10055f0-0b47-477a-869e-d391b31fdf8f  yandex       16365   \n",
       "13111  c10055f0-0b47-477a-869e-d391b31fdf8f  yandex       16365   \n",
       "13112  c10055f0-0b47-477a-869e-d391b31fdf8f  yandex       16365   \n",
       "13113  c10055f0-0b47-477a-869e-d391b31fdf8f  yandex       16365   \n",
       "\n",
       "                                   scenario  \n",
       "0      tips_show, contacts_show, tips_click  \n",
       "1      tips_show, contacts_show, tips_click  \n",
       "2      tips_show, contacts_show, tips_click  \n",
       "3      tips_show, contacts_show, tips_click  \n",
       "4      tips_show, contacts_show, tips_click  \n",
       "...                                     ...  \n",
       "13109             contacts_show, tips_click  \n",
       "13110             contacts_show, tips_click  \n",
       "13111             contacts_show, tips_click  \n",
       "13112             contacts_show, tips_click  \n",
       "13113             contacts_show, tips_click  \n",
       "\n",
       "[13114 rows x 6 columns]"
      ]
     },
     "execution_count": 27,
     "metadata": {},
     "output_type": "execute_result"
    }
   ],
   "source": [
    "# делаем срез датафрейма \"general\" по сценариям, в которых ЕСТЬ целевое действие\n",
    "general_contacts_show = general[general['scenario'].str.contains(\"contacts_show\")]\n",
    "general_contacts_show.reset_index(drop= True)"
   ]
  },
  {
   "cell_type": "code",
   "execution_count": 28,
   "metadata": {},
   "outputs": [
    {
     "data": {
      "text/plain": [
       "2288"
      ]
     },
     "execution_count": 28,
     "metadata": {},
     "output_type": "execute_result"
    }
   ],
   "source": [
    "# посчитаем сколько сессий с целевым действием\n",
    "general_contacts_show['session_id'].nunique()"
   ]
  },
  {
   "cell_type": "code",
   "execution_count": 29,
   "metadata": {},
   "outputs": [
    {
     "data": {
      "text/html": [
       "<div>\n",
       "<style scoped>\n",
       "    .dataframe tbody tr th:only-of-type {\n",
       "        vertical-align: middle;\n",
       "    }\n",
       "\n",
       "    .dataframe tbody tr th {\n",
       "        vertical-align: top;\n",
       "    }\n",
       "\n",
       "    .dataframe thead th {\n",
       "        text-align: right;\n",
       "    }\n",
       "</style>\n",
       "<table border=\"1\" class=\"dataframe\">\n",
       "  <thead>\n",
       "    <tr style=\"text-align: right;\">\n",
       "      <th></th>\n",
       "      <th>event_time</th>\n",
       "      <th>event_name</th>\n",
       "      <th>user_id</th>\n",
       "      <th>source</th>\n",
       "      <th>session_id</th>\n",
       "      <th>scenario</th>\n",
       "    </tr>\n",
       "  </thead>\n",
       "  <tbody>\n",
       "    <tr>\n",
       "      <th>0</th>\n",
       "      <td>2019-10-07 00:00:00.431357</td>\n",
       "      <td>advert_open</td>\n",
       "      <td>020292ab-89bc-4156-9acf-68bc2783f894</td>\n",
       "      <td>other</td>\n",
       "      <td>1</td>\n",
       "      <td>advert_open, tips_show, map</td>\n",
       "    </tr>\n",
       "    <tr>\n",
       "      <th>1</th>\n",
       "      <td>2019-10-07 00:00:01.236320</td>\n",
       "      <td>tips_show</td>\n",
       "      <td>020292ab-89bc-4156-9acf-68bc2783f894</td>\n",
       "      <td>other</td>\n",
       "      <td>1</td>\n",
       "      <td>advert_open, tips_show, map</td>\n",
       "    </tr>\n",
       "    <tr>\n",
       "      <th>2</th>\n",
       "      <td>2019-10-07 00:00:07.039334</td>\n",
       "      <td>tips_show</td>\n",
       "      <td>020292ab-89bc-4156-9acf-68bc2783f894</td>\n",
       "      <td>other</td>\n",
       "      <td>1</td>\n",
       "      <td>advert_open, tips_show, map</td>\n",
       "    </tr>\n",
       "    <tr>\n",
       "      <th>3</th>\n",
       "      <td>2019-10-07 00:01:27.770232</td>\n",
       "      <td>advert_open</td>\n",
       "      <td>020292ab-89bc-4156-9acf-68bc2783f894</td>\n",
       "      <td>other</td>\n",
       "      <td>1</td>\n",
       "      <td>advert_open, tips_show, map</td>\n",
       "    </tr>\n",
       "    <tr>\n",
       "      <th>4</th>\n",
       "      <td>2019-10-07 00:01:34.804591</td>\n",
       "      <td>tips_show</td>\n",
       "      <td>020292ab-89bc-4156-9acf-68bc2783f894</td>\n",
       "      <td>other</td>\n",
       "      <td>1</td>\n",
       "      <td>advert_open, tips_show, map</td>\n",
       "    </tr>\n",
       "    <tr>\n",
       "      <th>...</th>\n",
       "      <td>...</td>\n",
       "      <td>...</td>\n",
       "      <td>...</td>\n",
       "      <td>...</td>\n",
       "      <td>...</td>\n",
       "      <td>...</td>\n",
       "    </tr>\n",
       "    <tr>\n",
       "      <th>61078</th>\n",
       "      <td>2019-11-03 23:46:47.068179</td>\n",
       "      <td>map</td>\n",
       "      <td>d157bffc-264d-4464-8220-1cc0c42f43a9</td>\n",
       "      <td>google</td>\n",
       "      <td>16366</td>\n",
       "      <td>map, advert_open, tips_show</td>\n",
       "    </tr>\n",
       "    <tr>\n",
       "      <th>61079</th>\n",
       "      <td>2019-11-03 23:46:58.914787</td>\n",
       "      <td>advert_open</td>\n",
       "      <td>d157bffc-264d-4464-8220-1cc0c42f43a9</td>\n",
       "      <td>google</td>\n",
       "      <td>16366</td>\n",
       "      <td>map, advert_open, tips_show</td>\n",
       "    </tr>\n",
       "    <tr>\n",
       "      <th>61080</th>\n",
       "      <td>2019-11-03 23:47:01.232230</td>\n",
       "      <td>tips_show</td>\n",
       "      <td>d157bffc-264d-4464-8220-1cc0c42f43a9</td>\n",
       "      <td>google</td>\n",
       "      <td>16366</td>\n",
       "      <td>map, advert_open, tips_show</td>\n",
       "    </tr>\n",
       "    <tr>\n",
       "      <th>61081</th>\n",
       "      <td>2019-11-03 23:47:47.475102</td>\n",
       "      <td>advert_open</td>\n",
       "      <td>d157bffc-264d-4464-8220-1cc0c42f43a9</td>\n",
       "      <td>google</td>\n",
       "      <td>16366</td>\n",
       "      <td>map, advert_open, tips_show</td>\n",
       "    </tr>\n",
       "    <tr>\n",
       "      <th>61082</th>\n",
       "      <td>2019-11-03 23:47:50.087645</td>\n",
       "      <td>tips_show</td>\n",
       "      <td>d157bffc-264d-4464-8220-1cc0c42f43a9</td>\n",
       "      <td>google</td>\n",
       "      <td>16366</td>\n",
       "      <td>map, advert_open, tips_show</td>\n",
       "    </tr>\n",
       "  </tbody>\n",
       "</table>\n",
       "<p>61083 rows × 6 columns</p>\n",
       "</div>"
      ],
      "text/plain": [
       "                      event_time   event_name  \\\n",
       "0     2019-10-07 00:00:00.431357  advert_open   \n",
       "1     2019-10-07 00:00:01.236320    tips_show   \n",
       "2     2019-10-07 00:00:07.039334    tips_show   \n",
       "3     2019-10-07 00:01:27.770232  advert_open   \n",
       "4     2019-10-07 00:01:34.804591    tips_show   \n",
       "...                          ...          ...   \n",
       "61078 2019-11-03 23:46:47.068179          map   \n",
       "61079 2019-11-03 23:46:58.914787  advert_open   \n",
       "61080 2019-11-03 23:47:01.232230    tips_show   \n",
       "61081 2019-11-03 23:47:47.475102  advert_open   \n",
       "61082 2019-11-03 23:47:50.087645    tips_show   \n",
       "\n",
       "                                    user_id  source  session_id  \\\n",
       "0      020292ab-89bc-4156-9acf-68bc2783f894   other           1   \n",
       "1      020292ab-89bc-4156-9acf-68bc2783f894   other           1   \n",
       "2      020292ab-89bc-4156-9acf-68bc2783f894   other           1   \n",
       "3      020292ab-89bc-4156-9acf-68bc2783f894   other           1   \n",
       "4      020292ab-89bc-4156-9acf-68bc2783f894   other           1   \n",
       "...                                     ...     ...         ...   \n",
       "61078  d157bffc-264d-4464-8220-1cc0c42f43a9  google       16366   \n",
       "61079  d157bffc-264d-4464-8220-1cc0c42f43a9  google       16366   \n",
       "61080  d157bffc-264d-4464-8220-1cc0c42f43a9  google       16366   \n",
       "61081  d157bffc-264d-4464-8220-1cc0c42f43a9  google       16366   \n",
       "61082  d157bffc-264d-4464-8220-1cc0c42f43a9  google       16366   \n",
       "\n",
       "                          scenario  \n",
       "0      advert_open, tips_show, map  \n",
       "1      advert_open, tips_show, map  \n",
       "2      advert_open, tips_show, map  \n",
       "3      advert_open, tips_show, map  \n",
       "4      advert_open, tips_show, map  \n",
       "...                            ...  \n",
       "61078  map, advert_open, tips_show  \n",
       "61079  map, advert_open, tips_show  \n",
       "61080  map, advert_open, tips_show  \n",
       "61081  map, advert_open, tips_show  \n",
       "61082  map, advert_open, tips_show  \n",
       "\n",
       "[61083 rows x 6 columns]"
      ]
     },
     "execution_count": 29,
     "metadata": {},
     "output_type": "execute_result"
    }
   ],
   "source": [
    "# делаем срез датафрейма \"general\" по сценариям, в которых НЕТ целевого действия\n",
    "general_not_contacts_show = general[general['scenario'].str.contains(\"contacts_show\")== False]\n",
    "general_not_contacts_show.reset_index(drop= True)"
   ]
  },
  {
   "cell_type": "code",
   "execution_count": 30,
   "metadata": {},
   "outputs": [
    {
     "data": {
      "text/plain": [
       "14078"
      ]
     },
     "execution_count": 30,
     "metadata": {},
     "output_type": "execute_result"
    }
   ],
   "source": [
    "# посчитаем сколько сессий без целевого действия\n",
    "general_not_contacts_show['session_id'].nunique()"
   ]
  },
  {
   "cell_type": "code",
   "execution_count": 31,
   "metadata": {},
   "outputs": [
    {
     "name": "stdout",
     "output_type": "stream",
     "text": [
      "Общая конверсия уник. пользователей в совершение целевого действия : 22.9%\n"
     ]
    }
   ],
   "source": [
    "# Конверсия уник. пользователей в совершение целевого действия \n",
    "proc_goal = general_contacts_show['user_id'].nunique()/general['user_id'].nunique() * 100\n",
    "print(f'Общая конверсия уник. пользователей в совершение целевого действия : {round(proc_goal, 1)}%')"
   ]
  },
  {
   "cell_type": "markdown",
   "metadata": {},
   "source": [
    "- **2288 сессий с целевым действием;**\n",
    "\n",
    "- **14078 сессий без целевого действия;**\n",
    "\n",
    "- **Конверсия уник. пользователей в совершение целевого действия : 22.9%.**"
   ]
  },
  {
   "cell_type": "markdown",
   "metadata": {},
   "source": [
    "## Сравнение 2ух групп пользователей по числу действий за сессию и длительности сессии"
   ]
  },
  {
   "cell_type": "code",
   "execution_count": 32,
   "metadata": {},
   "outputs": [
    {
     "data": {
      "text/html": [
       "<div>\n",
       "<style scoped>\n",
       "    .dataframe tbody tr th:only-of-type {\n",
       "        vertical-align: middle;\n",
       "    }\n",
       "\n",
       "    .dataframe tbody tr th {\n",
       "        vertical-align: top;\n",
       "    }\n",
       "\n",
       "    .dataframe thead th {\n",
       "        text-align: right;\n",
       "    }\n",
       "</style>\n",
       "<table border=\"1\" class=\"dataframe\">\n",
       "  <thead>\n",
       "    <tr style=\"text-align: right;\">\n",
       "      <th></th>\n",
       "      <th>session_id</th>\n",
       "      <th>user_id</th>\n",
       "      <th>number_actions_per_session</th>\n",
       "      <th>duration_session</th>\n",
       "    </tr>\n",
       "  </thead>\n",
       "  <tbody>\n",
       "    <tr>\n",
       "      <th>0</th>\n",
       "      <td>1</td>\n",
       "      <td>020292ab-89bc-4156-9acf-68bc2783f894</td>\n",
       "      <td>28</td>\n",
       "      <td>18.708</td>\n",
       "    </tr>\n",
       "    <tr>\n",
       "      <th>1</th>\n",
       "      <td>2</td>\n",
       "      <td>cf7eda61-9349-469f-ac27-e5b6f5ec475c</td>\n",
       "      <td>20</td>\n",
       "      <td>22.627</td>\n",
       "    </tr>\n",
       "    <tr>\n",
       "      <th>2</th>\n",
       "      <td>3</td>\n",
       "      <td>cf7eda61-9349-469f-ac27-e5b6f5ec475c</td>\n",
       "      <td>1</td>\n",
       "      <td>0.000</td>\n",
       "    </tr>\n",
       "    <tr>\n",
       "      <th>3</th>\n",
       "      <td>4</td>\n",
       "      <td>cf7eda61-9349-469f-ac27-e5b6f5ec475c</td>\n",
       "      <td>4</td>\n",
       "      <td>4.167</td>\n",
       "    </tr>\n",
       "    <tr>\n",
       "      <th>4</th>\n",
       "      <td>5</td>\n",
       "      <td>cf7eda61-9349-469f-ac27-e5b6f5ec475c</td>\n",
       "      <td>4</td>\n",
       "      <td>1.607</td>\n",
       "    </tr>\n",
       "  </tbody>\n",
       "</table>\n",
       "</div>"
      ],
      "text/plain": [
       "   session_id                               user_id  \\\n",
       "0           1  020292ab-89bc-4156-9acf-68bc2783f894   \n",
       "1           2  cf7eda61-9349-469f-ac27-e5b6f5ec475c   \n",
       "2           3  cf7eda61-9349-469f-ac27-e5b6f5ec475c   \n",
       "3           4  cf7eda61-9349-469f-ac27-e5b6f5ec475c   \n",
       "4           5  cf7eda61-9349-469f-ac27-e5b6f5ec475c   \n",
       "\n",
       "   number_actions_per_session  duration_session  \n",
       "0                          28            18.708  \n",
       "1                          20            22.627  \n",
       "2                           1             0.000  \n",
       "3                           4             4.167  \n",
       "4                           4             1.607  "
      ]
     },
     "execution_count": 32,
     "metadata": {},
     "output_type": "execute_result"
    }
   ],
   "source": [
    "# создаем датафрейм с уник. сессиями, где отражено количество действий за сессию и длительность сессий\n",
    "sessions_details = general.groupby(['session_id', 'user_id']).agg({'event_time':['first', 'last'], 'event_name':'count'}).reset_index()\n",
    "sessions_details.columns = ['session_id', 'user_id', 'first_action', 'last_action', 'number_actions_per_session']\n",
    "sessions_details['duration_session'] = sessions_details['last_action'] - sessions_details['first_action']\n",
    "\n",
    "# удаляем личшние столбцы\n",
    "sessions_details = sessions_details.drop(columns = ['first_action', 'last_action'], axis = 1)\n",
    "\n",
    "# изменяем формат длительности сессий (преобразуем в минуты)\n",
    "sessions_details['duration_session'] = sessions_details['duration_session'].dt.total_seconds()/60\n",
    "\n",
    "sessions_details.head()"
   ]
  },
  {
   "cell_type": "code",
   "execution_count": 33,
   "metadata": {},
   "outputs": [
    {
     "data": {
      "text/html": [
       "<div>\n",
       "<style scoped>\n",
       "    .dataframe tbody tr th:only-of-type {\n",
       "        vertical-align: middle;\n",
       "    }\n",
       "\n",
       "    .dataframe tbody tr th {\n",
       "        vertical-align: top;\n",
       "    }\n",
       "\n",
       "    .dataframe thead th {\n",
       "        text-align: right;\n",
       "    }\n",
       "</style>\n",
       "<table border=\"1\" class=\"dataframe\">\n",
       "  <thead>\n",
       "    <tr style=\"text-align: right;\">\n",
       "      <th></th>\n",
       "      <th>event_name</th>\n",
       "      <th>user_id</th>\n",
       "      <th>source</th>\n",
       "      <th>session_id</th>\n",
       "      <th>scenario</th>\n",
       "      <th>number_actions_per_session</th>\n",
       "      <th>duration_session</th>\n",
       "      <th>Пользователи:</th>\n",
       "    </tr>\n",
       "  </thead>\n",
       "  <tbody>\n",
       "    <tr>\n",
       "      <th>0</th>\n",
       "      <td>tips_show</td>\n",
       "      <td>8c356c42-3ba9-4cb6-80b8-3f868d0192c3</td>\n",
       "      <td>yandex</td>\n",
       "      <td>18</td>\n",
       "      <td>tips_show, contacts_show, tips_click</td>\n",
       "      <td>18</td>\n",
       "      <td>20.506</td>\n",
       "      <td>Совершавшие “contacts_show“</td>\n",
       "    </tr>\n",
       "    <tr>\n",
       "      <th>1</th>\n",
       "      <td>contacts_show</td>\n",
       "      <td>8c356c42-3ba9-4cb6-80b8-3f868d0192c3</td>\n",
       "      <td>yandex</td>\n",
       "      <td>18</td>\n",
       "      <td>tips_show, contacts_show, tips_click</td>\n",
       "      <td>18</td>\n",
       "      <td>20.506</td>\n",
       "      <td>Совершавшие “contacts_show“</td>\n",
       "    </tr>\n",
       "    <tr>\n",
       "      <th>2</th>\n",
       "      <td>tips_show</td>\n",
       "      <td>8c356c42-3ba9-4cb6-80b8-3f868d0192c3</td>\n",
       "      <td>yandex</td>\n",
       "      <td>18</td>\n",
       "      <td>tips_show, contacts_show, tips_click</td>\n",
       "      <td>18</td>\n",
       "      <td>20.506</td>\n",
       "      <td>Совершавшие “contacts_show“</td>\n",
       "    </tr>\n",
       "  </tbody>\n",
       "</table>\n",
       "</div>"
      ],
      "text/plain": [
       "      event_name                               user_id  source  session_id  \\\n",
       "0      tips_show  8c356c42-3ba9-4cb6-80b8-3f868d0192c3  yandex          18   \n",
       "1  contacts_show  8c356c42-3ba9-4cb6-80b8-3f868d0192c3  yandex          18   \n",
       "2      tips_show  8c356c42-3ba9-4cb6-80b8-3f868d0192c3  yandex          18   \n",
       "\n",
       "                               scenario  number_actions_per_session  \\\n",
       "0  tips_show, contacts_show, tips_click                          18   \n",
       "1  tips_show, contacts_show, tips_click                          18   \n",
       "2  tips_show, contacts_show, tips_click                          18   \n",
       "\n",
       "   duration_session                Пользователи:  \n",
       "0            20.506  Совершавшие “contacts_show“  \n",
       "1            20.506  Совершавшие “contacts_show“  \n",
       "2            20.506  Совершавшие “contacts_show“  "
      ]
     },
     "execution_count": 33,
     "metadata": {},
     "output_type": "execute_result"
    }
   ],
   "source": [
    "# объединяем таблицу \"sessions_details\" c таблицей \"general_contacts_show, где сценарии С целевым действием\n",
    "data_1 = general_contacts_show.merge(sessions_details, on = ['session_id', 'user_id'], how = 'left')\n",
    "# удаляем личшние столбцы\n",
    "data_1  = data_1.drop(columns = ['event_time'], axis = 1)\n",
    "# добавляем новый столбец\n",
    "data_1['Пользователи:'] = 'Совершавшие “contacts_show“'\n",
    "data_1.head(3)"
   ]
  },
  {
   "cell_type": "code",
   "execution_count": 34,
   "metadata": {},
   "outputs": [
    {
     "data": {
      "text/html": [
       "<div>\n",
       "<style scoped>\n",
       "    .dataframe tbody tr th:only-of-type {\n",
       "        vertical-align: middle;\n",
       "    }\n",
       "\n",
       "    .dataframe tbody tr th {\n",
       "        vertical-align: top;\n",
       "    }\n",
       "\n",
       "    .dataframe thead th {\n",
       "        text-align: right;\n",
       "    }\n",
       "</style>\n",
       "<table border=\"1\" class=\"dataframe\">\n",
       "  <thead>\n",
       "    <tr style=\"text-align: right;\">\n",
       "      <th></th>\n",
       "      <th>event_name</th>\n",
       "      <th>user_id</th>\n",
       "      <th>source</th>\n",
       "      <th>session_id</th>\n",
       "      <th>scenario</th>\n",
       "      <th>number_actions_per_session</th>\n",
       "      <th>duration_session</th>\n",
       "      <th>Пользователи:</th>\n",
       "    </tr>\n",
       "  </thead>\n",
       "  <tbody>\n",
       "    <tr>\n",
       "      <th>0</th>\n",
       "      <td>advert_open</td>\n",
       "      <td>020292ab-89bc-4156-9acf-68bc2783f894</td>\n",
       "      <td>other</td>\n",
       "      <td>1</td>\n",
       "      <td>advert_open, tips_show, map</td>\n",
       "      <td>28</td>\n",
       "      <td>18.708</td>\n",
       "      <td>НЕ совершавшие “contacts_show“</td>\n",
       "    </tr>\n",
       "    <tr>\n",
       "      <th>1</th>\n",
       "      <td>tips_show</td>\n",
       "      <td>020292ab-89bc-4156-9acf-68bc2783f894</td>\n",
       "      <td>other</td>\n",
       "      <td>1</td>\n",
       "      <td>advert_open, tips_show, map</td>\n",
       "      <td>28</td>\n",
       "      <td>18.708</td>\n",
       "      <td>НЕ совершавшие “contacts_show“</td>\n",
       "    </tr>\n",
       "    <tr>\n",
       "      <th>2</th>\n",
       "      <td>tips_show</td>\n",
       "      <td>020292ab-89bc-4156-9acf-68bc2783f894</td>\n",
       "      <td>other</td>\n",
       "      <td>1</td>\n",
       "      <td>advert_open, tips_show, map</td>\n",
       "      <td>28</td>\n",
       "      <td>18.708</td>\n",
       "      <td>НЕ совершавшие “contacts_show“</td>\n",
       "    </tr>\n",
       "  </tbody>\n",
       "</table>\n",
       "</div>"
      ],
      "text/plain": [
       "    event_name                               user_id source  session_id  \\\n",
       "0  advert_open  020292ab-89bc-4156-9acf-68bc2783f894  other           1   \n",
       "1    tips_show  020292ab-89bc-4156-9acf-68bc2783f894  other           1   \n",
       "2    tips_show  020292ab-89bc-4156-9acf-68bc2783f894  other           1   \n",
       "\n",
       "                      scenario  number_actions_per_session  duration_session  \\\n",
       "0  advert_open, tips_show, map                          28            18.708   \n",
       "1  advert_open, tips_show, map                          28            18.708   \n",
       "2  advert_open, tips_show, map                          28            18.708   \n",
       "\n",
       "                    Пользователи:  \n",
       "0  НЕ совершавшие “contacts_show“  \n",
       "1  НЕ совершавшие “contacts_show“  \n",
       "2  НЕ совершавшие “contacts_show“  "
      ]
     },
     "execution_count": 34,
     "metadata": {},
     "output_type": "execute_result"
    }
   ],
   "source": [
    "# объединяем таблицу \"sessions_details\" c таблицей \"general_not_contacts_show\", где сценарии БЕЗ целевого действияя\n",
    "data_2 = general_not_contacts_show.merge(sessions_details, on = ['session_id', 'user_id'], how = 'left')\n",
    "# удаляем личшние столбцы\n",
    "data_2  = data_2.drop(columns = ['event_time'], axis = 1)\n",
    "# добавляем новый столбец\n",
    "data_2['Пользователи:'] = 'НЕ совершавшие “contacts_show“'\n",
    "data_2.head(3)"
   ]
  },
  {
   "cell_type": "code",
   "execution_count": 35,
   "metadata": {},
   "outputs": [
    {
     "data": {
      "text/html": [
       "<div>\n",
       "<style scoped>\n",
       "    .dataframe tbody tr th:only-of-type {\n",
       "        vertical-align: middle;\n",
       "    }\n",
       "\n",
       "    .dataframe tbody tr th {\n",
       "        vertical-align: top;\n",
       "    }\n",
       "\n",
       "    .dataframe thead th {\n",
       "        text-align: right;\n",
       "    }\n",
       "</style>\n",
       "<table border=\"1\" class=\"dataframe\">\n",
       "  <thead>\n",
       "    <tr style=\"text-align: right;\">\n",
       "      <th></th>\n",
       "      <th>event_name</th>\n",
       "      <th>user_id</th>\n",
       "      <th>source</th>\n",
       "      <th>session_id</th>\n",
       "      <th>scenario</th>\n",
       "      <th>number_actions_per_session</th>\n",
       "      <th>duration_session</th>\n",
       "      <th>Пользователи:</th>\n",
       "    </tr>\n",
       "  </thead>\n",
       "  <tbody>\n",
       "    <tr>\n",
       "      <th>5117</th>\n",
       "      <td>favorites_add</td>\n",
       "      <td>9ce63488-758a-481a-bcb5-a02b467e1d84</td>\n",
       "      <td>yandex</td>\n",
       "      <td>1278</td>\n",
       "      <td>tips_show, favorites_add, map</td>\n",
       "      <td>125</td>\n",
       "      <td>55.288</td>\n",
       "      <td>НЕ совершавшие “contacts_show“</td>\n",
       "    </tr>\n",
       "    <tr>\n",
       "      <th>5053</th>\n",
       "      <td>tips_show</td>\n",
       "      <td>9ce63488-758a-481a-bcb5-a02b467e1d84</td>\n",
       "      <td>yandex</td>\n",
       "      <td>1278</td>\n",
       "      <td>tips_show, favorites_add, map</td>\n",
       "      <td>125</td>\n",
       "      <td>55.288</td>\n",
       "      <td>НЕ совершавшие “contacts_show“</td>\n",
       "    </tr>\n",
       "    <tr>\n",
       "      <th>5062</th>\n",
       "      <td>map</td>\n",
       "      <td>9ce63488-758a-481a-bcb5-a02b467e1d84</td>\n",
       "      <td>yandex</td>\n",
       "      <td>1278</td>\n",
       "      <td>tips_show, favorites_add, map</td>\n",
       "      <td>125</td>\n",
       "      <td>55.288</td>\n",
       "      <td>НЕ совершавшие “contacts_show“</td>\n",
       "    </tr>\n",
       "    <tr>\n",
       "      <th>5061</th>\n",
       "      <td>map</td>\n",
       "      <td>9ce63488-758a-481a-bcb5-a02b467e1d84</td>\n",
       "      <td>yandex</td>\n",
       "      <td>1278</td>\n",
       "      <td>tips_show, favorites_add, map</td>\n",
       "      <td>125</td>\n",
       "      <td>55.288</td>\n",
       "      <td>НЕ совершавшие “contacts_show“</td>\n",
       "    </tr>\n",
       "    <tr>\n",
       "      <th>5060</th>\n",
       "      <td>tips_show</td>\n",
       "      <td>9ce63488-758a-481a-bcb5-a02b467e1d84</td>\n",
       "      <td>yandex</td>\n",
       "      <td>1278</td>\n",
       "      <td>tips_show, favorites_add, map</td>\n",
       "      <td>125</td>\n",
       "      <td>55.288</td>\n",
       "      <td>НЕ совершавшие “contacts_show“</td>\n",
       "    </tr>\n",
       "    <tr>\n",
       "      <th>...</th>\n",
       "      <td>...</td>\n",
       "      <td>...</td>\n",
       "      <td>...</td>\n",
       "      <td>...</td>\n",
       "      <td>...</td>\n",
       "      <td>...</td>\n",
       "      <td>...</td>\n",
       "      <td>...</td>\n",
       "    </tr>\n",
       "    <tr>\n",
       "      <th>34002</th>\n",
       "      <td>search_1</td>\n",
       "      <td>0a21a0ed-4478-4dd3-beb5-eac850063186</td>\n",
       "      <td>yandex</td>\n",
       "      <td>9152</td>\n",
       "      <td>search_1</td>\n",
       "      <td>1</td>\n",
       "      <td>0.000</td>\n",
       "      <td>НЕ совершавшие “contacts_show“</td>\n",
       "    </tr>\n",
       "    <tr>\n",
       "      <th>44746</th>\n",
       "      <td>tips_show</td>\n",
       "      <td>543f1bc6-c773-46d1-af50-a6d8eaa3a620</td>\n",
       "      <td>other</td>\n",
       "      <td>12123</td>\n",
       "      <td>tips_show</td>\n",
       "      <td>1</td>\n",
       "      <td>0.000</td>\n",
       "      <td>НЕ совершавшие “contacts_show“</td>\n",
       "    </tr>\n",
       "    <tr>\n",
       "      <th>11624</th>\n",
       "      <td>photos_show</td>\n",
       "      <td>40deaa4d-00e7-4297-9b3f-3b97a285c7bd</td>\n",
       "      <td>yandex</td>\n",
       "      <td>3208</td>\n",
       "      <td>photos_show</td>\n",
       "      <td>1</td>\n",
       "      <td>0.000</td>\n",
       "      <td>НЕ совершавшие “contacts_show“</td>\n",
       "    </tr>\n",
       "    <tr>\n",
       "      <th>53912</th>\n",
       "      <td>tips_show</td>\n",
       "      <td>512b5f01-bdf4-4f67-8164-e4982f16af2f</td>\n",
       "      <td>other</td>\n",
       "      <td>14479</td>\n",
       "      <td>tips_show</td>\n",
       "      <td>1</td>\n",
       "      <td>0.000</td>\n",
       "      <td>НЕ совершавшие “contacts_show“</td>\n",
       "    </tr>\n",
       "    <tr>\n",
       "      <th>19199</th>\n",
       "      <td>tips_show</td>\n",
       "      <td>3f172d82-041f-4a58-8e12-4c5e7481d121</td>\n",
       "      <td>yandex</td>\n",
       "      <td>5232</td>\n",
       "      <td>tips_show</td>\n",
       "      <td>1</td>\n",
       "      <td>0.000</td>\n",
       "      <td>НЕ совершавшие “contacts_show“</td>\n",
       "    </tr>\n",
       "  </tbody>\n",
       "</table>\n",
       "<p>74197 rows × 8 columns</p>\n",
       "</div>"
      ],
      "text/plain": [
       "          event_name                               user_id  source  \\\n",
       "5117   favorites_add  9ce63488-758a-481a-bcb5-a02b467e1d84  yandex   \n",
       "5053       tips_show  9ce63488-758a-481a-bcb5-a02b467e1d84  yandex   \n",
       "5062             map  9ce63488-758a-481a-bcb5-a02b467e1d84  yandex   \n",
       "5061             map  9ce63488-758a-481a-bcb5-a02b467e1d84  yandex   \n",
       "5060       tips_show  9ce63488-758a-481a-bcb5-a02b467e1d84  yandex   \n",
       "...              ...                                   ...     ...   \n",
       "34002       search_1  0a21a0ed-4478-4dd3-beb5-eac850063186  yandex   \n",
       "44746      tips_show  543f1bc6-c773-46d1-af50-a6d8eaa3a620   other   \n",
       "11624    photos_show  40deaa4d-00e7-4297-9b3f-3b97a285c7bd  yandex   \n",
       "53912      tips_show  512b5f01-bdf4-4f67-8164-e4982f16af2f   other   \n",
       "19199      tips_show  3f172d82-041f-4a58-8e12-4c5e7481d121  yandex   \n",
       "\n",
       "       session_id                       scenario  number_actions_per_session  \\\n",
       "5117         1278  tips_show, favorites_add, map                         125   \n",
       "5053         1278  tips_show, favorites_add, map                         125   \n",
       "5062         1278  tips_show, favorites_add, map                         125   \n",
       "5061         1278  tips_show, favorites_add, map                         125   \n",
       "5060         1278  tips_show, favorites_add, map                         125   \n",
       "...           ...                            ...                         ...   \n",
       "34002        9152                       search_1                           1   \n",
       "44746       12123                      tips_show                           1   \n",
       "11624        3208                    photos_show                           1   \n",
       "53912       14479                      tips_show                           1   \n",
       "19199        5232                      tips_show                           1   \n",
       "\n",
       "       duration_session                   Пользователи:  \n",
       "5117             55.288  НЕ совершавшие “contacts_show“  \n",
       "5053             55.288  НЕ совершавшие “contacts_show“  \n",
       "5062             55.288  НЕ совершавшие “contacts_show“  \n",
       "5061             55.288  НЕ совершавшие “contacts_show“  \n",
       "5060             55.288  НЕ совершавшие “contacts_show“  \n",
       "...                 ...                             ...  \n",
       "34002             0.000  НЕ совершавшие “contacts_show“  \n",
       "44746             0.000  НЕ совершавшие “contacts_show“  \n",
       "11624             0.000  НЕ совершавшие “contacts_show“  \n",
       "53912             0.000  НЕ совершавшие “contacts_show“  \n",
       "19199             0.000  НЕ совершавшие “contacts_show“  \n",
       "\n",
       "[74197 rows x 8 columns]"
      ]
     },
     "execution_count": 35,
     "metadata": {},
     "output_type": "execute_result"
    }
   ],
   "source": [
    "# объединяем таблицы \"data_1\" и \"data_2\" по названию столбцов\n",
    "data = pd.concat([data_1, data_2], axis=0)\n",
    "data.sort_values('number_actions_per_session', ascending=False)"
   ]
  },
  {
   "cell_type": "markdown",
   "metadata": {},
   "source": [
    "- **`Сценарии с целевым действием помечены в столбце \"scenario_with_goal\" как \"yes\", все остальные как \"no\".`**\n",
    "\n",
    "\n",
    "- **`Пользователи поделены на 2 группы по столбцу \"scenario_with_goal\".`**"
   ]
  },
  {
   "cell_type": "markdown",
   "metadata": {},
   "source": [
    "### Сравнение 2ух групп пользователей по числу действий за сессию"
   ]
  },
  {
   "cell_type": "code",
   "execution_count": 36,
   "metadata": {},
   "outputs": [
    {
     "data": {
      "image/png": "[encoded data removed]",
      "text/plain": [
       "<Figure size 1200x700 with 1 Axes>"
      ]
     },
     "metadata": {},
     "output_type": "display_data"
    }
   ],
   "source": [
    "# смотрим сколько действий совершали уник. пользователи 2ух групп\n",
    "user_actions = data.groupby(['number_actions_per_session', 'Пользователи:'])[['user_id']].nunique().sort_values('user_id', ascending=False).reset_index()\n",
    "user_actions.columns = ['number_act_per_sess', 'Пользователи:', 'number_users']\n",
    "\n",
    "# строим столбчатую диаграмму, отражающую соотношение кол-ва пользователей 2ух групп, совершающих определённое кол-во действий за сессию\n",
    "sns.set_style('white')\n",
    "plt.figure(figsize=(12, 7))\n",
    "sns.barplot(x='number_act_per_sess', y='number_users', data=user_actions, hue='Пользователи:')\n",
    "# plt.title('Cоотношение кол-ва пользователей 2ух групп, совершающих определённое кол-во действий за сессию')\n",
    "plt.xlabel('КОЛИЧЕСТВО ДЕЙСТВИЙ ЗА СЕССИЮ')\n",
    "plt.ylabel('КОЛИЧЕСТВО ПОЛЬЗОВАТЕЛЕЙ')\n",
    "plt.legend(loc='lower right', fontsize=10)\n",
    "plt.ylim(0, 2000)\n",
    "plt.xlim(-1, 16)\n",
    "plt.legend(loc='upper right')\n",
    "plt.show()"
   ]
  },
  {
   "cell_type": "markdown",
   "metadata": {},
   "source": [
    "- **Нужно учитывать, что пользователи могли совершать несколько сессий.** \n",
    "\n",
    "\n",
    "- **`Пользователи, совершившие целевое действие, чаще всего делали 2 дейтсвия за сессию. Следом идут пользователи с 1 и 3 действия за сессию.`** \n",
    "\n",
    "\n",
    "- **`Пользователи, НЕ совершившие целевое дейтсвие, чаще всего совершают 1 действие за сессию и по убыванию большее кол-во действий.`**"
   ]
  },
  {
   "cell_type": "markdown",
   "metadata": {},
   "source": [
    "### Сравнение 2ух групп пользователей по длительности сессий"
   ]
  },
  {
   "cell_type": "code",
   "execution_count": 37,
   "metadata": {},
   "outputs": [
    {
     "data": {
      "image/png": "[encoded data removed]",
      "text/plain": [
       "<Figure size 1200x700 with 1 Axes>"
      ]
     },
     "metadata": {},
     "output_type": "display_data"
    }
   ],
   "source": [
    "# смотрим какая длительность сессий у уник. пользователей 2ух групп\n",
    "user_duration_session = data.groupby(['duration_session', 'Пользователи:'])[['user_id']].nunique().sort_values('user_id', ascending=False).reset_index()\n",
    "user_duration_session.columns = ['duration_session', 'Пользователи:', 'number_users']\n",
    "\n",
    "# Распределение сессий по длительности среди 2ух групп пользователей\n",
    "plt.figure(figsize=(12, 7))\n",
    "sns.set_style('white')\n",
    "sns.histplot(x='duration_session', data=user_duration_session, hue= 'Пользователи:', multiple='stack')\n",
    "plt.xlabel('ДЛИТЕЛЬНОСТЬ СЕССИЙ, МИН')\n",
    "plt.ylabel('КОЛИЧЕСТВО ПОЛЬЗОВАТЕЛЕЙ')\n",
    "#  plt.title('Распределение сессий по длительности среди 2ух групп пользователей')\n",
    "plt.xlim(0, 30)\n",
    "plt.ylim(0, 1500)\n",
    "plt.show()"
   ]
  },
  {
   "cell_type": "code",
   "execution_count": 38,
   "metadata": {},
   "outputs": [
    {
     "data": {
      "text/plain": [
       "118.93949413333334"
      ]
     },
     "execution_count": 38,
     "metadata": {},
     "output_type": "execute_result"
    }
   ],
   "source": [
    "user_duration_session['duration_session'].max()"
   ]
  },
  {
   "cell_type": "code",
   "execution_count": 39,
   "metadata": {},
   "outputs": [
    {
     "name": "stdout",
     "output_type": "stream",
     "text": [
      "[14.888458233333333, 29.4931538, 41.53307561666667, 72.31036763333333]\n",
      "\n",
      "13.350702333046328\n"
     ]
    },
    {
     "data": {
      "text/plain": [
       "13.754506276657205"
      ]
     },
     "execution_count": 39,
     "metadata": {},
     "output_type": "execute_result"
    }
   ],
   "source": [
    "# посмотрим разспределение 'duration_session' по перцентилям для группы С целевым действием \n",
    "y = np.percentile(data_1['duration_session'], [70, 90, 95, 99])\n",
    "print(y.tolist())\n",
    "print()\n",
    "\n",
    "# средняя длительность сессии для группы С целевым действием \n",
    "print(data_1['duration_session'].mean())\n",
    "\n",
    "# средняя длительность сессии для группы С целевым действием БЕЗ учёта сессий = 0 минут\n",
    "h = data_1.query('duration_session > 00.000')['duration_session'].mean()\n",
    "h"
   ]
  },
  {
   "cell_type": "code",
   "execution_count": 40,
   "metadata": {},
   "outputs": [
    {
     "name": "stdout",
     "output_type": "stream",
     "text": [
      "[13.59768245, 28.854268533333332, 40.398319783333335, 60.659476833333336]\n",
      "\n",
      "11.800196324622771\n"
     ]
    },
    {
     "data": {
      "text/plain": [
       "12.814752646308829"
      ]
     },
     "execution_count": 40,
     "metadata": {},
     "output_type": "execute_result"
    }
   ],
   "source": [
    "# посмотрим разспределение 'duration_session' по перцентилям для группы БЕЗ целевого действия\n",
    "j = np.percentile(data_2['duration_session'], [70, 90, 95, 99])\n",
    "print(j.tolist())\n",
    "print()\n",
    "\n",
    "# средняя длительность сессии для группы БЕЗ целевого действия\n",
    "print(data_2['duration_session'].mean())\n",
    "\n",
    "# средняя длительность сессии для группы БЕЗ целевого действия БЕЗ учёта сессий = 0 минут\n",
    "l = data_2.query('duration_session > 00.000')['duration_session'].mean()\n",
    "l"
   ]
  },
  {
   "cell_type": "markdown",
   "metadata": {},
   "source": [
    "- **`Судя по гистограмме и перцентилям, у большинства пользователей обеих групп сессия длится не более 30 минут.`**\n",
    "\n",
    "\n",
    "- **`Средняя длительность сессии у группы С целевым действием - 13-14 минут, даже без учёта сессий длительностью 0 минут.`**\n",
    "\n",
    "\n",
    "- **`Средняя длительность сессии у группы БЕЗ целевого действия чуть меньше - 12-13 минут, даже без учёта сессий длительностью 0 минут.`**"
   ]
  },
  {
   "cell_type": "markdown",
   "metadata": {},
   "source": [
    "#### Пользователи БЕЗ целевого с длит.сессий = 0 минут"
   ]
  },
  {
   "cell_type": "code",
   "execution_count": 41,
   "metadata": {},
   "outputs": [
    {
     "ename": "UndefinedVariableError",
     "evalue": "name 'scenario_with_goal' is not defined",
     "output_type": "error",
     "traceback": [
      "\u001b[1;31m---------------------------------------------------------------------------\u001b[0m",
      "\u001b[1;31mKeyError\u001b[0m                                  Traceback (most recent call last)",
      "\u001b[1;32m~\\anaconda3\\lib\\site-packages\\pandas\\core\\computation\\scope.py\u001b[0m in \u001b[0;36mresolve\u001b[1;34m(self, key, is_local)\u001b[0m\n\u001b[0;32m    196\u001b[0m             \u001b[1;32mif\u001b[0m \u001b[0mself\u001b[0m\u001b[1;33m.\u001b[0m\u001b[0mhas_resolvers\u001b[0m\u001b[1;33m:\u001b[0m\u001b[1;33m\u001b[0m\u001b[1;33m\u001b[0m\u001b[0m\n\u001b[1;32m--> 197\u001b[1;33m                 \u001b[1;32mreturn\u001b[0m \u001b[0mself\u001b[0m\u001b[1;33m.\u001b[0m\u001b[0mresolvers\u001b[0m\u001b[1;33m[\u001b[0m\u001b[0mkey\u001b[0m\u001b[1;33m]\u001b[0m\u001b[1;33m\u001b[0m\u001b[1;33m\u001b[0m\u001b[0m\n\u001b[0m\u001b[0;32m    198\u001b[0m \u001b[1;33m\u001b[0m\u001b[0m\n",
      "\u001b[1;32m~\\anaconda3\\lib\\collections\\__init__.py\u001b[0m in \u001b[0;36m__getitem__\u001b[1;34m(self, key)\u001b[0m\n\u001b[0;32m    940\u001b[0m                 \u001b[1;32mpass\u001b[0m\u001b[1;33m\u001b[0m\u001b[1;33m\u001b[0m\u001b[0m\n\u001b[1;32m--> 941\u001b[1;33m         \u001b[1;32mreturn\u001b[0m \u001b[0mself\u001b[0m\u001b[1;33m.\u001b[0m\u001b[0m__missing__\u001b[0m\u001b[1;33m(\u001b[0m\u001b[0mkey\u001b[0m\u001b[1;33m)\u001b[0m            \u001b[1;31m# support subclasses that define __missing__\u001b[0m\u001b[1;33m\u001b[0m\u001b[1;33m\u001b[0m\u001b[0m\n\u001b[0m\u001b[0;32m    942\u001b[0m \u001b[1;33m\u001b[0m\u001b[0m\n",
      "\u001b[1;32m~\\anaconda3\\lib\\collections\\__init__.py\u001b[0m in \u001b[0;36m__missing__\u001b[1;34m(self, key)\u001b[0m\n\u001b[0;32m    932\u001b[0m     \u001b[1;32mdef\u001b[0m \u001b[0m__missing__\u001b[0m\u001b[1;33m(\u001b[0m\u001b[0mself\u001b[0m\u001b[1;33m,\u001b[0m \u001b[0mkey\u001b[0m\u001b[1;33m)\u001b[0m\u001b[1;33m:\u001b[0m\u001b[1;33m\u001b[0m\u001b[1;33m\u001b[0m\u001b[0m\n\u001b[1;32m--> 933\u001b[1;33m         \u001b[1;32mraise\u001b[0m \u001b[0mKeyError\u001b[0m\u001b[1;33m(\u001b[0m\u001b[0mkey\u001b[0m\u001b[1;33m)\u001b[0m\u001b[1;33m\u001b[0m\u001b[1;33m\u001b[0m\u001b[0m\n\u001b[0m\u001b[0;32m    934\u001b[0m \u001b[1;33m\u001b[0m\u001b[0m\n",
      "\u001b[1;31mKeyError\u001b[0m: 'scenario_with_goal'",
      "\nDuring handling of the above exception, another exception occurred:\n",
      "\u001b[1;31mKeyError\u001b[0m                                  Traceback (most recent call last)",
      "\u001b[1;32m~\\anaconda3\\lib\\site-packages\\pandas\\core\\computation\\scope.py\u001b[0m in \u001b[0;36mresolve\u001b[1;34m(self, key, is_local)\u001b[0m\n\u001b[0;32m    207\u001b[0m                 \u001b[1;31m# e.g., df[df > 0]\u001b[0m\u001b[1;33m\u001b[0m\u001b[1;33m\u001b[0m\u001b[0m\n\u001b[1;32m--> 208\u001b[1;33m                 \u001b[1;32mreturn\u001b[0m \u001b[0mself\u001b[0m\u001b[1;33m.\u001b[0m\u001b[0mtemps\u001b[0m\u001b[1;33m[\u001b[0m\u001b[0mkey\u001b[0m\u001b[1;33m]\u001b[0m\u001b[1;33m\u001b[0m\u001b[1;33m\u001b[0m\u001b[0m\n\u001b[0m\u001b[0;32m    209\u001b[0m             \u001b[1;32mexcept\u001b[0m \u001b[0mKeyError\u001b[0m \u001b[1;32mas\u001b[0m \u001b[0merr\u001b[0m\u001b[1;33m:\u001b[0m\u001b[1;33m\u001b[0m\u001b[1;33m\u001b[0m\u001b[0m\n",
      "\u001b[1;31mKeyError\u001b[0m: 'scenario_with_goal'",
      "\nThe above exception was the direct cause of the following exception:\n",
      "\u001b[1;31mUndefinedVariableError\u001b[0m                    Traceback (most recent call last)",
      "\u001b[1;32m~\\AppData\\Local\\Temp\\ipykernel_8312\\701331385.py\u001b[0m in \u001b[0;36m<module>\u001b[1;34m\u001b[0m\n\u001b[0;32m      1\u001b[0m \u001b[1;31m# посчитаем процент пользователей НЕ совершивших целевое действие, длительность сессий у которых равна 0 минут\u001b[0m\u001b[1;33m\u001b[0m\u001b[1;33m\u001b[0m\u001b[0m\n\u001b[0;32m      2\u001b[0m \u001b[0mdata_3\u001b[0m \u001b[1;33m=\u001b[0m \u001b[0mdata\u001b[0m\u001b[1;33m.\u001b[0m\u001b[0mcopy\u001b[0m\u001b[1;33m(\u001b[0m\u001b[1;33m)\u001b[0m\u001b[1;33m\u001b[0m\u001b[1;33m\u001b[0m\u001b[0m\n\u001b[1;32m----> 3\u001b[1;33m \u001b[0mdata_3\u001b[0m \u001b[1;33m=\u001b[0m \u001b[0mdata_3\u001b[0m\u001b[1;33m.\u001b[0m\u001b[0mquery\u001b[0m\u001b[1;33m(\u001b[0m\u001b[1;34m'duration_session == 00.000 & scenario_with_goal ==\"no\"'\u001b[0m\u001b[1;33m)\u001b[0m\u001b[1;33m\u001b[0m\u001b[1;33m\u001b[0m\u001b[0m\n\u001b[0m\u001b[0;32m      4\u001b[0m \u001b[0mdata_4\u001b[0m \u001b[1;33m=\u001b[0m \u001b[0mdata\u001b[0m\u001b[1;33m.\u001b[0m\u001b[0mcopy\u001b[0m\u001b[1;33m(\u001b[0m\u001b[1;33m)\u001b[0m\u001b[1;33m\u001b[0m\u001b[1;33m\u001b[0m\u001b[0m\n\u001b[0;32m      5\u001b[0m \u001b[0mdata_4\u001b[0m \u001b[1;33m=\u001b[0m \u001b[0mdata_4\u001b[0m\u001b[1;33m.\u001b[0m\u001b[0mquery\u001b[0m\u001b[1;33m(\u001b[0m\u001b[1;34m'scenario_with_goal ==\"no\"'\u001b[0m\u001b[1;33m)\u001b[0m\u001b[1;33m\u001b[0m\u001b[1;33m\u001b[0m\u001b[0m\n",
      "\u001b[1;32m~\\anaconda3\\lib\\site-packages\\pandas\\core\\frame.py\u001b[0m in \u001b[0;36mquery\u001b[1;34m(self, expr, inplace, **kwargs)\u001b[0m\n\u001b[0;32m   4109\u001b[0m         \u001b[0mkwargs\u001b[0m\u001b[1;33m[\u001b[0m\u001b[1;34m\"level\"\u001b[0m\u001b[1;33m]\u001b[0m \u001b[1;33m=\u001b[0m \u001b[0mkwargs\u001b[0m\u001b[1;33m.\u001b[0m\u001b[0mpop\u001b[0m\u001b[1;33m(\u001b[0m\u001b[1;34m\"level\"\u001b[0m\u001b[1;33m,\u001b[0m \u001b[1;36m0\u001b[0m\u001b[1;33m)\u001b[0m \u001b[1;33m+\u001b[0m \u001b[1;36m1\u001b[0m\u001b[1;33m\u001b[0m\u001b[1;33m\u001b[0m\u001b[0m\n\u001b[0;32m   4110\u001b[0m         \u001b[0mkwargs\u001b[0m\u001b[1;33m[\u001b[0m\u001b[1;34m\"target\"\u001b[0m\u001b[1;33m]\u001b[0m \u001b[1;33m=\u001b[0m \u001b[1;32mNone\u001b[0m\u001b[1;33m\u001b[0m\u001b[1;33m\u001b[0m\u001b[0m\n\u001b[1;32m-> 4111\u001b[1;33m         \u001b[0mres\u001b[0m \u001b[1;33m=\u001b[0m \u001b[0mself\u001b[0m\u001b[1;33m.\u001b[0m\u001b[0meval\u001b[0m\u001b[1;33m(\u001b[0m\u001b[0mexpr\u001b[0m\u001b[1;33m,\u001b[0m \u001b[1;33m**\u001b[0m\u001b[0mkwargs\u001b[0m\u001b[1;33m)\u001b[0m\u001b[1;33m\u001b[0m\u001b[1;33m\u001b[0m\u001b[0m\n\u001b[0m\u001b[0;32m   4112\u001b[0m \u001b[1;33m\u001b[0m\u001b[0m\n\u001b[0;32m   4113\u001b[0m         \u001b[1;32mtry\u001b[0m\u001b[1;33m:\u001b[0m\u001b[1;33m\u001b[0m\u001b[1;33m\u001b[0m\u001b[0m\n",
      "\u001b[1;32m~\\anaconda3\\lib\\site-packages\\pandas\\core\\frame.py\u001b[0m in \u001b[0;36meval\u001b[1;34m(self, expr, inplace, **kwargs)\u001b[0m\n\u001b[0;32m   4238\u001b[0m         \u001b[0mkwargs\u001b[0m\u001b[1;33m[\u001b[0m\u001b[1;34m\"resolvers\"\u001b[0m\u001b[1;33m]\u001b[0m \u001b[1;33m=\u001b[0m \u001b[0mtuple\u001b[0m\u001b[1;33m(\u001b[0m\u001b[0mkwargs\u001b[0m\u001b[1;33m.\u001b[0m\u001b[0mget\u001b[0m\u001b[1;33m(\u001b[0m\u001b[1;34m\"resolvers\"\u001b[0m\u001b[1;33m,\u001b[0m \u001b[1;33m(\u001b[0m\u001b[1;33m)\u001b[0m\u001b[1;33m)\u001b[0m\u001b[1;33m)\u001b[0m \u001b[1;33m+\u001b[0m \u001b[0mresolvers\u001b[0m\u001b[1;33m\u001b[0m\u001b[1;33m\u001b[0m\u001b[0m\n\u001b[0;32m   4239\u001b[0m \u001b[1;33m\u001b[0m\u001b[0m\n\u001b[1;32m-> 4240\u001b[1;33m         \u001b[1;32mreturn\u001b[0m \u001b[0m_eval\u001b[0m\u001b[1;33m(\u001b[0m\u001b[0mexpr\u001b[0m\u001b[1;33m,\u001b[0m \u001b[0minplace\u001b[0m\u001b[1;33m=\u001b[0m\u001b[0minplace\u001b[0m\u001b[1;33m,\u001b[0m \u001b[1;33m**\u001b[0m\u001b[0mkwargs\u001b[0m\u001b[1;33m)\u001b[0m\u001b[1;33m\u001b[0m\u001b[1;33m\u001b[0m\u001b[0m\n\u001b[0m\u001b[0;32m   4241\u001b[0m \u001b[1;33m\u001b[0m\u001b[0m\n\u001b[0;32m   4242\u001b[0m     \u001b[1;32mdef\u001b[0m \u001b[0mselect_dtypes\u001b[0m\u001b[1;33m(\u001b[0m\u001b[0mself\u001b[0m\u001b[1;33m,\u001b[0m \u001b[0minclude\u001b[0m\u001b[1;33m=\u001b[0m\u001b[1;32mNone\u001b[0m\u001b[1;33m,\u001b[0m \u001b[0mexclude\u001b[0m\u001b[1;33m=\u001b[0m\u001b[1;32mNone\u001b[0m\u001b[1;33m)\u001b[0m \u001b[1;33m->\u001b[0m \u001b[0mDataFrame\u001b[0m\u001b[1;33m:\u001b[0m\u001b[1;33m\u001b[0m\u001b[1;33m\u001b[0m\u001b[0m\n",
      "\u001b[1;32m~\\anaconda3\\lib\\site-packages\\pandas\\core\\computation\\eval.py\u001b[0m in \u001b[0;36meval\u001b[1;34m(expr, parser, engine, truediv, local_dict, global_dict, resolvers, level, target, inplace)\u001b[0m\n\u001b[0;32m    349\u001b[0m         )\n\u001b[0;32m    350\u001b[0m \u001b[1;33m\u001b[0m\u001b[0m\n\u001b[1;32m--> 351\u001b[1;33m         \u001b[0mparsed_expr\u001b[0m \u001b[1;33m=\u001b[0m \u001b[0mExpr\u001b[0m\u001b[1;33m(\u001b[0m\u001b[0mexpr\u001b[0m\u001b[1;33m,\u001b[0m \u001b[0mengine\u001b[0m\u001b[1;33m=\u001b[0m\u001b[0mengine\u001b[0m\u001b[1;33m,\u001b[0m \u001b[0mparser\u001b[0m\u001b[1;33m=\u001b[0m\u001b[0mparser\u001b[0m\u001b[1;33m,\u001b[0m \u001b[0menv\u001b[0m\u001b[1;33m=\u001b[0m\u001b[0menv\u001b[0m\u001b[1;33m)\u001b[0m\u001b[1;33m\u001b[0m\u001b[1;33m\u001b[0m\u001b[0m\n\u001b[0m\u001b[0;32m    352\u001b[0m \u001b[1;33m\u001b[0m\u001b[0m\n\u001b[0;32m    353\u001b[0m         \u001b[1;31m# construct the engine and evaluate the parsed expression\u001b[0m\u001b[1;33m\u001b[0m\u001b[1;33m\u001b[0m\u001b[0m\n",
      "\u001b[1;32m~\\anaconda3\\lib\\site-packages\\pandas\\core\\computation\\expr.py\u001b[0m in \u001b[0;36m__init__\u001b[1;34m(self, expr, engine, parser, env, level)\u001b[0m\n\u001b[0;32m    809\u001b[0m         \u001b[0mself\u001b[0m\u001b[1;33m.\u001b[0m\u001b[0mparser\u001b[0m \u001b[1;33m=\u001b[0m \u001b[0mparser\u001b[0m\u001b[1;33m\u001b[0m\u001b[1;33m\u001b[0m\u001b[0m\n\u001b[0;32m    810\u001b[0m         \u001b[0mself\u001b[0m\u001b[1;33m.\u001b[0m\u001b[0m_visitor\u001b[0m \u001b[1;33m=\u001b[0m \u001b[0mPARSERS\u001b[0m\u001b[1;33m[\u001b[0m\u001b[0mparser\u001b[0m\u001b[1;33m]\u001b[0m\u001b[1;33m(\u001b[0m\u001b[0mself\u001b[0m\u001b[1;33m.\u001b[0m\u001b[0menv\u001b[0m\u001b[1;33m,\u001b[0m \u001b[0mself\u001b[0m\u001b[1;33m.\u001b[0m\u001b[0mengine\u001b[0m\u001b[1;33m,\u001b[0m \u001b[0mself\u001b[0m\u001b[1;33m.\u001b[0m\u001b[0mparser\u001b[0m\u001b[1;33m)\u001b[0m\u001b[1;33m\u001b[0m\u001b[1;33m\u001b[0m\u001b[0m\n\u001b[1;32m--> 811\u001b[1;33m         \u001b[0mself\u001b[0m\u001b[1;33m.\u001b[0m\u001b[0mterms\u001b[0m \u001b[1;33m=\u001b[0m \u001b[0mself\u001b[0m\u001b[1;33m.\u001b[0m\u001b[0mparse\u001b[0m\u001b[1;33m(\u001b[0m\u001b[1;33m)\u001b[0m\u001b[1;33m\u001b[0m\u001b[1;33m\u001b[0m\u001b[0m\n\u001b[0m\u001b[0;32m    812\u001b[0m \u001b[1;33m\u001b[0m\u001b[0m\n\u001b[0;32m    813\u001b[0m     \u001b[1;33m@\u001b[0m\u001b[0mproperty\u001b[0m\u001b[1;33m\u001b[0m\u001b[1;33m\u001b[0m\u001b[0m\n",
      "\u001b[1;32m~\\anaconda3\\lib\\site-packages\\pandas\\core\\computation\\expr.py\u001b[0m in \u001b[0;36mparse\u001b[1;34m(self)\u001b[0m\n\u001b[0;32m    828\u001b[0m         \u001b[0mParse\u001b[0m \u001b[0man\u001b[0m \u001b[0mexpression\u001b[0m\u001b[1;33m.\u001b[0m\u001b[1;33m\u001b[0m\u001b[1;33m\u001b[0m\u001b[0m\n\u001b[0;32m    829\u001b[0m         \"\"\"\n\u001b[1;32m--> 830\u001b[1;33m         \u001b[1;32mreturn\u001b[0m \u001b[0mself\u001b[0m\u001b[1;33m.\u001b[0m\u001b[0m_visitor\u001b[0m\u001b[1;33m.\u001b[0m\u001b[0mvisit\u001b[0m\u001b[1;33m(\u001b[0m\u001b[0mself\u001b[0m\u001b[1;33m.\u001b[0m\u001b[0mexpr\u001b[0m\u001b[1;33m)\u001b[0m\u001b[1;33m\u001b[0m\u001b[1;33m\u001b[0m\u001b[0m\n\u001b[0m\u001b[0;32m    831\u001b[0m \u001b[1;33m\u001b[0m\u001b[0m\n\u001b[0;32m    832\u001b[0m     \u001b[1;33m@\u001b[0m\u001b[0mproperty\u001b[0m\u001b[1;33m\u001b[0m\u001b[1;33m\u001b[0m\u001b[0m\n",
      "\u001b[1;32m~\\anaconda3\\lib\\site-packages\\pandas\\core\\computation\\expr.py\u001b[0m in \u001b[0;36mvisit\u001b[1;34m(self, node, **kwargs)\u001b[0m\n\u001b[0;32m    413\u001b[0m         \u001b[0mmethod\u001b[0m \u001b[1;33m=\u001b[0m \u001b[1;34m\"visit_\"\u001b[0m \u001b[1;33m+\u001b[0m \u001b[0mtype\u001b[0m\u001b[1;33m(\u001b[0m\u001b[0mnode\u001b[0m\u001b[1;33m)\u001b[0m\u001b[1;33m.\u001b[0m\u001b[0m__name__\u001b[0m\u001b[1;33m\u001b[0m\u001b[1;33m\u001b[0m\u001b[0m\n\u001b[0;32m    414\u001b[0m         \u001b[0mvisitor\u001b[0m \u001b[1;33m=\u001b[0m \u001b[0mgetattr\u001b[0m\u001b[1;33m(\u001b[0m\u001b[0mself\u001b[0m\u001b[1;33m,\u001b[0m \u001b[0mmethod\u001b[0m\u001b[1;33m)\u001b[0m\u001b[1;33m\u001b[0m\u001b[1;33m\u001b[0m\u001b[0m\n\u001b[1;32m--> 415\u001b[1;33m         \u001b[1;32mreturn\u001b[0m \u001b[0mvisitor\u001b[0m\u001b[1;33m(\u001b[0m\u001b[0mnode\u001b[0m\u001b[1;33m,\u001b[0m \u001b[1;33m**\u001b[0m\u001b[0mkwargs\u001b[0m\u001b[1;33m)\u001b[0m\u001b[1;33m\u001b[0m\u001b[1;33m\u001b[0m\u001b[0m\n\u001b[0m\u001b[0;32m    416\u001b[0m \u001b[1;33m\u001b[0m\u001b[0m\n\u001b[0;32m    417\u001b[0m     \u001b[1;32mdef\u001b[0m \u001b[0mvisit_Module\u001b[0m\u001b[1;33m(\u001b[0m\u001b[0mself\u001b[0m\u001b[1;33m,\u001b[0m \u001b[0mnode\u001b[0m\u001b[1;33m,\u001b[0m \u001b[1;33m**\u001b[0m\u001b[0mkwargs\u001b[0m\u001b[1;33m)\u001b[0m\u001b[1;33m:\u001b[0m\u001b[1;33m\u001b[0m\u001b[1;33m\u001b[0m\u001b[0m\n",
      "\u001b[1;32m~\\anaconda3\\lib\\site-packages\\pandas\\core\\computation\\expr.py\u001b[0m in \u001b[0;36mvisit_Module\u001b[1;34m(self, node, **kwargs)\u001b[0m\n\u001b[0;32m    419\u001b[0m             \u001b[1;32mraise\u001b[0m \u001b[0mSyntaxError\u001b[0m\u001b[1;33m(\u001b[0m\u001b[1;34m\"only a single expression is allowed\"\u001b[0m\u001b[1;33m)\u001b[0m\u001b[1;33m\u001b[0m\u001b[1;33m\u001b[0m\u001b[0m\n\u001b[0;32m    420\u001b[0m         \u001b[0mexpr\u001b[0m \u001b[1;33m=\u001b[0m \u001b[0mnode\u001b[0m\u001b[1;33m.\u001b[0m\u001b[0mbody\u001b[0m\u001b[1;33m[\u001b[0m\u001b[1;36m0\u001b[0m\u001b[1;33m]\u001b[0m\u001b[1;33m\u001b[0m\u001b[1;33m\u001b[0m\u001b[0m\n\u001b[1;32m--> 421\u001b[1;33m         \u001b[1;32mreturn\u001b[0m \u001b[0mself\u001b[0m\u001b[1;33m.\u001b[0m\u001b[0mvisit\u001b[0m\u001b[1;33m(\u001b[0m\u001b[0mexpr\u001b[0m\u001b[1;33m,\u001b[0m \u001b[1;33m**\u001b[0m\u001b[0mkwargs\u001b[0m\u001b[1;33m)\u001b[0m\u001b[1;33m\u001b[0m\u001b[1;33m\u001b[0m\u001b[0m\n\u001b[0m\u001b[0;32m    422\u001b[0m \u001b[1;33m\u001b[0m\u001b[0m\n\u001b[0;32m    423\u001b[0m     \u001b[1;32mdef\u001b[0m \u001b[0mvisit_Expr\u001b[0m\u001b[1;33m(\u001b[0m\u001b[0mself\u001b[0m\u001b[1;33m,\u001b[0m \u001b[0mnode\u001b[0m\u001b[1;33m,\u001b[0m \u001b[1;33m**\u001b[0m\u001b[0mkwargs\u001b[0m\u001b[1;33m)\u001b[0m\u001b[1;33m:\u001b[0m\u001b[1;33m\u001b[0m\u001b[1;33m\u001b[0m\u001b[0m\n",
      "\u001b[1;32m~\\anaconda3\\lib\\site-packages\\pandas\\core\\computation\\expr.py\u001b[0m in \u001b[0;36mvisit\u001b[1;34m(self, node, **kwargs)\u001b[0m\n\u001b[0;32m    413\u001b[0m         \u001b[0mmethod\u001b[0m \u001b[1;33m=\u001b[0m \u001b[1;34m\"visit_\"\u001b[0m \u001b[1;33m+\u001b[0m \u001b[0mtype\u001b[0m\u001b[1;33m(\u001b[0m\u001b[0mnode\u001b[0m\u001b[1;33m)\u001b[0m\u001b[1;33m.\u001b[0m\u001b[0m__name__\u001b[0m\u001b[1;33m\u001b[0m\u001b[1;33m\u001b[0m\u001b[0m\n\u001b[0;32m    414\u001b[0m         \u001b[0mvisitor\u001b[0m \u001b[1;33m=\u001b[0m \u001b[0mgetattr\u001b[0m\u001b[1;33m(\u001b[0m\u001b[0mself\u001b[0m\u001b[1;33m,\u001b[0m \u001b[0mmethod\u001b[0m\u001b[1;33m)\u001b[0m\u001b[1;33m\u001b[0m\u001b[1;33m\u001b[0m\u001b[0m\n\u001b[1;32m--> 415\u001b[1;33m         \u001b[1;32mreturn\u001b[0m \u001b[0mvisitor\u001b[0m\u001b[1;33m(\u001b[0m\u001b[0mnode\u001b[0m\u001b[1;33m,\u001b[0m \u001b[1;33m**\u001b[0m\u001b[0mkwargs\u001b[0m\u001b[1;33m)\u001b[0m\u001b[1;33m\u001b[0m\u001b[1;33m\u001b[0m\u001b[0m\n\u001b[0m\u001b[0;32m    416\u001b[0m \u001b[1;33m\u001b[0m\u001b[0m\n\u001b[0;32m    417\u001b[0m     \u001b[1;32mdef\u001b[0m \u001b[0mvisit_Module\u001b[0m\u001b[1;33m(\u001b[0m\u001b[0mself\u001b[0m\u001b[1;33m,\u001b[0m \u001b[0mnode\u001b[0m\u001b[1;33m,\u001b[0m \u001b[1;33m**\u001b[0m\u001b[0mkwargs\u001b[0m\u001b[1;33m)\u001b[0m\u001b[1;33m:\u001b[0m\u001b[1;33m\u001b[0m\u001b[1;33m\u001b[0m\u001b[0m\n",
      "\u001b[1;32m~\\anaconda3\\lib\\site-packages\\pandas\\core\\computation\\expr.py\u001b[0m in \u001b[0;36mvisit_Expr\u001b[1;34m(self, node, **kwargs)\u001b[0m\n\u001b[0;32m    422\u001b[0m \u001b[1;33m\u001b[0m\u001b[0m\n\u001b[0;32m    423\u001b[0m     \u001b[1;32mdef\u001b[0m \u001b[0mvisit_Expr\u001b[0m\u001b[1;33m(\u001b[0m\u001b[0mself\u001b[0m\u001b[1;33m,\u001b[0m \u001b[0mnode\u001b[0m\u001b[1;33m,\u001b[0m \u001b[1;33m**\u001b[0m\u001b[0mkwargs\u001b[0m\u001b[1;33m)\u001b[0m\u001b[1;33m:\u001b[0m\u001b[1;33m\u001b[0m\u001b[1;33m\u001b[0m\u001b[0m\n\u001b[1;32m--> 424\u001b[1;33m         \u001b[1;32mreturn\u001b[0m \u001b[0mself\u001b[0m\u001b[1;33m.\u001b[0m\u001b[0mvisit\u001b[0m\u001b[1;33m(\u001b[0m\u001b[0mnode\u001b[0m\u001b[1;33m.\u001b[0m\u001b[0mvalue\u001b[0m\u001b[1;33m,\u001b[0m \u001b[1;33m**\u001b[0m\u001b[0mkwargs\u001b[0m\u001b[1;33m)\u001b[0m\u001b[1;33m\u001b[0m\u001b[1;33m\u001b[0m\u001b[0m\n\u001b[0m\u001b[0;32m    425\u001b[0m \u001b[1;33m\u001b[0m\u001b[0m\n\u001b[0;32m    426\u001b[0m     \u001b[1;32mdef\u001b[0m \u001b[0m_rewrite_membership_op\u001b[0m\u001b[1;33m(\u001b[0m\u001b[0mself\u001b[0m\u001b[1;33m,\u001b[0m \u001b[0mnode\u001b[0m\u001b[1;33m,\u001b[0m \u001b[0mleft\u001b[0m\u001b[1;33m,\u001b[0m \u001b[0mright\u001b[0m\u001b[1;33m)\u001b[0m\u001b[1;33m:\u001b[0m\u001b[1;33m\u001b[0m\u001b[1;33m\u001b[0m\u001b[0m\n",
      "\u001b[1;32m~\\anaconda3\\lib\\site-packages\\pandas\\core\\computation\\expr.py\u001b[0m in \u001b[0;36mvisit\u001b[1;34m(self, node, **kwargs)\u001b[0m\n\u001b[0;32m    413\u001b[0m         \u001b[0mmethod\u001b[0m \u001b[1;33m=\u001b[0m \u001b[1;34m\"visit_\"\u001b[0m \u001b[1;33m+\u001b[0m \u001b[0mtype\u001b[0m\u001b[1;33m(\u001b[0m\u001b[0mnode\u001b[0m\u001b[1;33m)\u001b[0m\u001b[1;33m.\u001b[0m\u001b[0m__name__\u001b[0m\u001b[1;33m\u001b[0m\u001b[1;33m\u001b[0m\u001b[0m\n\u001b[0;32m    414\u001b[0m         \u001b[0mvisitor\u001b[0m \u001b[1;33m=\u001b[0m \u001b[0mgetattr\u001b[0m\u001b[1;33m(\u001b[0m\u001b[0mself\u001b[0m\u001b[1;33m,\u001b[0m \u001b[0mmethod\u001b[0m\u001b[1;33m)\u001b[0m\u001b[1;33m\u001b[0m\u001b[1;33m\u001b[0m\u001b[0m\n\u001b[1;32m--> 415\u001b[1;33m         \u001b[1;32mreturn\u001b[0m \u001b[0mvisitor\u001b[0m\u001b[1;33m(\u001b[0m\u001b[0mnode\u001b[0m\u001b[1;33m,\u001b[0m \u001b[1;33m**\u001b[0m\u001b[0mkwargs\u001b[0m\u001b[1;33m)\u001b[0m\u001b[1;33m\u001b[0m\u001b[1;33m\u001b[0m\u001b[0m\n\u001b[0m\u001b[0;32m    416\u001b[0m \u001b[1;33m\u001b[0m\u001b[0m\n\u001b[0;32m    417\u001b[0m     \u001b[1;32mdef\u001b[0m \u001b[0mvisit_Module\u001b[0m\u001b[1;33m(\u001b[0m\u001b[0mself\u001b[0m\u001b[1;33m,\u001b[0m \u001b[0mnode\u001b[0m\u001b[1;33m,\u001b[0m \u001b[1;33m**\u001b[0m\u001b[0mkwargs\u001b[0m\u001b[1;33m)\u001b[0m\u001b[1;33m:\u001b[0m\u001b[1;33m\u001b[0m\u001b[1;33m\u001b[0m\u001b[0m\n",
      "\u001b[1;32m~\\anaconda3\\lib\\site-packages\\pandas\\core\\computation\\expr.py\u001b[0m in \u001b[0;36mvisit_BoolOp\u001b[1;34m(self, node, **kwargs)\u001b[0m\n\u001b[0;32m    748\u001b[0m \u001b[1;33m\u001b[0m\u001b[0m\n\u001b[0;32m    749\u001b[0m         \u001b[0moperands\u001b[0m \u001b[1;33m=\u001b[0m \u001b[0mnode\u001b[0m\u001b[1;33m.\u001b[0m\u001b[0mvalues\u001b[0m\u001b[1;33m\u001b[0m\u001b[1;33m\u001b[0m\u001b[0m\n\u001b[1;32m--> 750\u001b[1;33m         \u001b[1;32mreturn\u001b[0m \u001b[0mreduce\u001b[0m\u001b[1;33m(\u001b[0m\u001b[0mvisitor\u001b[0m\u001b[1;33m,\u001b[0m \u001b[0moperands\u001b[0m\u001b[1;33m)\u001b[0m\u001b[1;33m\u001b[0m\u001b[1;33m\u001b[0m\u001b[0m\n\u001b[0m\u001b[0;32m    751\u001b[0m \u001b[1;33m\u001b[0m\u001b[0m\n\u001b[0;32m    752\u001b[0m \u001b[1;33m\u001b[0m\u001b[0m\n",
      "\u001b[1;32m~\\anaconda3\\lib\\site-packages\\pandas\\core\\computation\\expr.py\u001b[0m in \u001b[0;36mvisitor\u001b[1;34m(x, y)\u001b[0m\n\u001b[0;32m    742\u001b[0m         \u001b[1;32mdef\u001b[0m \u001b[0mvisitor\u001b[0m\u001b[1;33m(\u001b[0m\u001b[0mx\u001b[0m\u001b[1;33m,\u001b[0m \u001b[0my\u001b[0m\u001b[1;33m)\u001b[0m\u001b[1;33m:\u001b[0m\u001b[1;33m\u001b[0m\u001b[1;33m\u001b[0m\u001b[0m\n\u001b[0;32m    743\u001b[0m             \u001b[0mlhs\u001b[0m \u001b[1;33m=\u001b[0m \u001b[0mself\u001b[0m\u001b[1;33m.\u001b[0m\u001b[0m_try_visit_binop\u001b[0m\u001b[1;33m(\u001b[0m\u001b[0mx\u001b[0m\u001b[1;33m)\u001b[0m\u001b[1;33m\u001b[0m\u001b[1;33m\u001b[0m\u001b[0m\n\u001b[1;32m--> 744\u001b[1;33m             \u001b[0mrhs\u001b[0m \u001b[1;33m=\u001b[0m \u001b[0mself\u001b[0m\u001b[1;33m.\u001b[0m\u001b[0m_try_visit_binop\u001b[0m\u001b[1;33m(\u001b[0m\u001b[0my\u001b[0m\u001b[1;33m)\u001b[0m\u001b[1;33m\u001b[0m\u001b[1;33m\u001b[0m\u001b[0m\n\u001b[0m\u001b[0;32m    745\u001b[0m \u001b[1;33m\u001b[0m\u001b[0m\n\u001b[0;32m    746\u001b[0m             \u001b[0mop\u001b[0m\u001b[1;33m,\u001b[0m \u001b[0mop_class\u001b[0m\u001b[1;33m,\u001b[0m \u001b[0mlhs\u001b[0m\u001b[1;33m,\u001b[0m \u001b[0mrhs\u001b[0m \u001b[1;33m=\u001b[0m \u001b[0mself\u001b[0m\u001b[1;33m.\u001b[0m\u001b[0m_maybe_transform_eq_ne\u001b[0m\u001b[1;33m(\u001b[0m\u001b[0mnode\u001b[0m\u001b[1;33m,\u001b[0m \u001b[0mlhs\u001b[0m\u001b[1;33m,\u001b[0m \u001b[0mrhs\u001b[0m\u001b[1;33m)\u001b[0m\u001b[1;33m\u001b[0m\u001b[1;33m\u001b[0m\u001b[0m\n",
      "\u001b[1;32m~\\anaconda3\\lib\\site-packages\\pandas\\core\\computation\\expr.py\u001b[0m in \u001b[0;36m_try_visit_binop\u001b[1;34m(self, bop)\u001b[0m\n\u001b[0;32m    737\u001b[0m         \u001b[1;32mif\u001b[0m \u001b[0misinstance\u001b[0m\u001b[1;33m(\u001b[0m\u001b[0mbop\u001b[0m\u001b[1;33m,\u001b[0m \u001b[1;33m(\u001b[0m\u001b[0mOp\u001b[0m\u001b[1;33m,\u001b[0m \u001b[0mTerm\u001b[0m\u001b[1;33m)\u001b[0m\u001b[1;33m)\u001b[0m\u001b[1;33m:\u001b[0m\u001b[1;33m\u001b[0m\u001b[1;33m\u001b[0m\u001b[0m\n\u001b[0;32m    738\u001b[0m             \u001b[1;32mreturn\u001b[0m \u001b[0mbop\u001b[0m\u001b[1;33m\u001b[0m\u001b[1;33m\u001b[0m\u001b[0m\n\u001b[1;32m--> 739\u001b[1;33m         \u001b[1;32mreturn\u001b[0m \u001b[0mself\u001b[0m\u001b[1;33m.\u001b[0m\u001b[0mvisit\u001b[0m\u001b[1;33m(\u001b[0m\u001b[0mbop\u001b[0m\u001b[1;33m)\u001b[0m\u001b[1;33m\u001b[0m\u001b[1;33m\u001b[0m\u001b[0m\n\u001b[0m\u001b[0;32m    740\u001b[0m \u001b[1;33m\u001b[0m\u001b[0m\n\u001b[0;32m    741\u001b[0m     \u001b[1;32mdef\u001b[0m \u001b[0mvisit_BoolOp\u001b[0m\u001b[1;33m(\u001b[0m\u001b[0mself\u001b[0m\u001b[1;33m,\u001b[0m \u001b[0mnode\u001b[0m\u001b[1;33m,\u001b[0m \u001b[1;33m**\u001b[0m\u001b[0mkwargs\u001b[0m\u001b[1;33m)\u001b[0m\u001b[1;33m:\u001b[0m\u001b[1;33m\u001b[0m\u001b[1;33m\u001b[0m\u001b[0m\n",
      "\u001b[1;32m~\\anaconda3\\lib\\site-packages\\pandas\\core\\computation\\expr.py\u001b[0m in \u001b[0;36mvisit\u001b[1;34m(self, node, **kwargs)\u001b[0m\n\u001b[0;32m    413\u001b[0m         \u001b[0mmethod\u001b[0m \u001b[1;33m=\u001b[0m \u001b[1;34m\"visit_\"\u001b[0m \u001b[1;33m+\u001b[0m \u001b[0mtype\u001b[0m\u001b[1;33m(\u001b[0m\u001b[0mnode\u001b[0m\u001b[1;33m)\u001b[0m\u001b[1;33m.\u001b[0m\u001b[0m__name__\u001b[0m\u001b[1;33m\u001b[0m\u001b[1;33m\u001b[0m\u001b[0m\n\u001b[0;32m    414\u001b[0m         \u001b[0mvisitor\u001b[0m \u001b[1;33m=\u001b[0m \u001b[0mgetattr\u001b[0m\u001b[1;33m(\u001b[0m\u001b[0mself\u001b[0m\u001b[1;33m,\u001b[0m \u001b[0mmethod\u001b[0m\u001b[1;33m)\u001b[0m\u001b[1;33m\u001b[0m\u001b[1;33m\u001b[0m\u001b[0m\n\u001b[1;32m--> 415\u001b[1;33m         \u001b[1;32mreturn\u001b[0m \u001b[0mvisitor\u001b[0m\u001b[1;33m(\u001b[0m\u001b[0mnode\u001b[0m\u001b[1;33m,\u001b[0m \u001b[1;33m**\u001b[0m\u001b[0mkwargs\u001b[0m\u001b[1;33m)\u001b[0m\u001b[1;33m\u001b[0m\u001b[1;33m\u001b[0m\u001b[0m\n\u001b[0m\u001b[0;32m    416\u001b[0m \u001b[1;33m\u001b[0m\u001b[0m\n\u001b[0;32m    417\u001b[0m     \u001b[1;32mdef\u001b[0m \u001b[0mvisit_Module\u001b[0m\u001b[1;33m(\u001b[0m\u001b[0mself\u001b[0m\u001b[1;33m,\u001b[0m \u001b[0mnode\u001b[0m\u001b[1;33m,\u001b[0m \u001b[1;33m**\u001b[0m\u001b[0mkwargs\u001b[0m\u001b[1;33m)\u001b[0m\u001b[1;33m:\u001b[0m\u001b[1;33m\u001b[0m\u001b[1;33m\u001b[0m\u001b[0m\n",
      "\u001b[1;32m~\\anaconda3\\lib\\site-packages\\pandas\\core\\computation\\expr.py\u001b[0m in \u001b[0;36mvisit_Compare\u001b[1;34m(self, node, **kwargs)\u001b[0m\n\u001b[0;32m    721\u001b[0m             \u001b[0mop\u001b[0m \u001b[1;33m=\u001b[0m \u001b[0mself\u001b[0m\u001b[1;33m.\u001b[0m\u001b[0mtranslate_In\u001b[0m\u001b[1;33m(\u001b[0m\u001b[0mops\u001b[0m\u001b[1;33m[\u001b[0m\u001b[1;36m0\u001b[0m\u001b[1;33m]\u001b[0m\u001b[1;33m)\u001b[0m\u001b[1;33m\u001b[0m\u001b[1;33m\u001b[0m\u001b[0m\n\u001b[0;32m    722\u001b[0m             \u001b[0mbinop\u001b[0m \u001b[1;33m=\u001b[0m \u001b[0mast\u001b[0m\u001b[1;33m.\u001b[0m\u001b[0mBinOp\u001b[0m\u001b[1;33m(\u001b[0m\u001b[0mop\u001b[0m\u001b[1;33m=\u001b[0m\u001b[0mop\u001b[0m\u001b[1;33m,\u001b[0m \u001b[0mleft\u001b[0m\u001b[1;33m=\u001b[0m\u001b[0mnode\u001b[0m\u001b[1;33m.\u001b[0m\u001b[0mleft\u001b[0m\u001b[1;33m,\u001b[0m \u001b[0mright\u001b[0m\u001b[1;33m=\u001b[0m\u001b[0mcomps\u001b[0m\u001b[1;33m[\u001b[0m\u001b[1;36m0\u001b[0m\u001b[1;33m]\u001b[0m\u001b[1;33m)\u001b[0m\u001b[1;33m\u001b[0m\u001b[1;33m\u001b[0m\u001b[0m\n\u001b[1;32m--> 723\u001b[1;33m             \u001b[1;32mreturn\u001b[0m \u001b[0mself\u001b[0m\u001b[1;33m.\u001b[0m\u001b[0mvisit\u001b[0m\u001b[1;33m(\u001b[0m\u001b[0mbinop\u001b[0m\u001b[1;33m)\u001b[0m\u001b[1;33m\u001b[0m\u001b[1;33m\u001b[0m\u001b[0m\n\u001b[0m\u001b[0;32m    724\u001b[0m \u001b[1;33m\u001b[0m\u001b[0m\n\u001b[0;32m    725\u001b[0m         \u001b[1;31m# recursive case: we have a chained comparison, a CMP b CMP c, etc.\u001b[0m\u001b[1;33m\u001b[0m\u001b[1;33m\u001b[0m\u001b[0m\n",
      "\u001b[1;32m~\\anaconda3\\lib\\site-packages\\pandas\\core\\computation\\expr.py\u001b[0m in \u001b[0;36mvisit\u001b[1;34m(self, node, **kwargs)\u001b[0m\n\u001b[0;32m    413\u001b[0m         \u001b[0mmethod\u001b[0m \u001b[1;33m=\u001b[0m \u001b[1;34m\"visit_\"\u001b[0m \u001b[1;33m+\u001b[0m \u001b[0mtype\u001b[0m\u001b[1;33m(\u001b[0m\u001b[0mnode\u001b[0m\u001b[1;33m)\u001b[0m\u001b[1;33m.\u001b[0m\u001b[0m__name__\u001b[0m\u001b[1;33m\u001b[0m\u001b[1;33m\u001b[0m\u001b[0m\n\u001b[0;32m    414\u001b[0m         \u001b[0mvisitor\u001b[0m \u001b[1;33m=\u001b[0m \u001b[0mgetattr\u001b[0m\u001b[1;33m(\u001b[0m\u001b[0mself\u001b[0m\u001b[1;33m,\u001b[0m \u001b[0mmethod\u001b[0m\u001b[1;33m)\u001b[0m\u001b[1;33m\u001b[0m\u001b[1;33m\u001b[0m\u001b[0m\n\u001b[1;32m--> 415\u001b[1;33m         \u001b[1;32mreturn\u001b[0m \u001b[0mvisitor\u001b[0m\u001b[1;33m(\u001b[0m\u001b[0mnode\u001b[0m\u001b[1;33m,\u001b[0m \u001b[1;33m**\u001b[0m\u001b[0mkwargs\u001b[0m\u001b[1;33m)\u001b[0m\u001b[1;33m\u001b[0m\u001b[1;33m\u001b[0m\u001b[0m\n\u001b[0m\u001b[0;32m    416\u001b[0m \u001b[1;33m\u001b[0m\u001b[0m\n\u001b[0;32m    417\u001b[0m     \u001b[1;32mdef\u001b[0m \u001b[0mvisit_Module\u001b[0m\u001b[1;33m(\u001b[0m\u001b[0mself\u001b[0m\u001b[1;33m,\u001b[0m \u001b[0mnode\u001b[0m\u001b[1;33m,\u001b[0m \u001b[1;33m**\u001b[0m\u001b[0mkwargs\u001b[0m\u001b[1;33m)\u001b[0m\u001b[1;33m:\u001b[0m\u001b[1;33m\u001b[0m\u001b[1;33m\u001b[0m\u001b[0m\n",
      "\u001b[1;32m~\\anaconda3\\lib\\site-packages\\pandas\\core\\computation\\expr.py\u001b[0m in \u001b[0;36mvisit_BinOp\u001b[1;34m(self, node, **kwargs)\u001b[0m\n\u001b[0;32m    534\u001b[0m \u001b[1;33m\u001b[0m\u001b[0m\n\u001b[0;32m    535\u001b[0m     \u001b[1;32mdef\u001b[0m \u001b[0mvisit_BinOp\u001b[0m\u001b[1;33m(\u001b[0m\u001b[0mself\u001b[0m\u001b[1;33m,\u001b[0m \u001b[0mnode\u001b[0m\u001b[1;33m,\u001b[0m \u001b[1;33m**\u001b[0m\u001b[0mkwargs\u001b[0m\u001b[1;33m)\u001b[0m\u001b[1;33m:\u001b[0m\u001b[1;33m\u001b[0m\u001b[1;33m\u001b[0m\u001b[0m\n\u001b[1;32m--> 536\u001b[1;33m         \u001b[0mop\u001b[0m\u001b[1;33m,\u001b[0m \u001b[0mop_class\u001b[0m\u001b[1;33m,\u001b[0m \u001b[0mleft\u001b[0m\u001b[1;33m,\u001b[0m \u001b[0mright\u001b[0m \u001b[1;33m=\u001b[0m \u001b[0mself\u001b[0m\u001b[1;33m.\u001b[0m\u001b[0m_maybe_transform_eq_ne\u001b[0m\u001b[1;33m(\u001b[0m\u001b[0mnode\u001b[0m\u001b[1;33m)\u001b[0m\u001b[1;33m\u001b[0m\u001b[1;33m\u001b[0m\u001b[0m\n\u001b[0m\u001b[0;32m    537\u001b[0m         \u001b[0mleft\u001b[0m\u001b[1;33m,\u001b[0m \u001b[0mright\u001b[0m \u001b[1;33m=\u001b[0m \u001b[0mself\u001b[0m\u001b[1;33m.\u001b[0m\u001b[0m_maybe_downcast_constants\u001b[0m\u001b[1;33m(\u001b[0m\u001b[0mleft\u001b[0m\u001b[1;33m,\u001b[0m \u001b[0mright\u001b[0m\u001b[1;33m)\u001b[0m\u001b[1;33m\u001b[0m\u001b[1;33m\u001b[0m\u001b[0m\n\u001b[0;32m    538\u001b[0m         \u001b[1;32mreturn\u001b[0m \u001b[0mself\u001b[0m\u001b[1;33m.\u001b[0m\u001b[0m_maybe_evaluate_binop\u001b[0m\u001b[1;33m(\u001b[0m\u001b[0mop\u001b[0m\u001b[1;33m,\u001b[0m \u001b[0mop_class\u001b[0m\u001b[1;33m,\u001b[0m \u001b[0mleft\u001b[0m\u001b[1;33m,\u001b[0m \u001b[0mright\u001b[0m\u001b[1;33m)\u001b[0m\u001b[1;33m\u001b[0m\u001b[1;33m\u001b[0m\u001b[0m\n",
      "\u001b[1;32m~\\anaconda3\\lib\\site-packages\\pandas\\core\\computation\\expr.py\u001b[0m in \u001b[0;36m_maybe_transform_eq_ne\u001b[1;34m(self, node, left, right)\u001b[0m\n\u001b[0;32m    454\u001b[0m     \u001b[1;32mdef\u001b[0m \u001b[0m_maybe_transform_eq_ne\u001b[0m\u001b[1;33m(\u001b[0m\u001b[0mself\u001b[0m\u001b[1;33m,\u001b[0m \u001b[0mnode\u001b[0m\u001b[1;33m,\u001b[0m \u001b[0mleft\u001b[0m\u001b[1;33m=\u001b[0m\u001b[1;32mNone\u001b[0m\u001b[1;33m,\u001b[0m \u001b[0mright\u001b[0m\u001b[1;33m=\u001b[0m\u001b[1;32mNone\u001b[0m\u001b[1;33m)\u001b[0m\u001b[1;33m:\u001b[0m\u001b[1;33m\u001b[0m\u001b[1;33m\u001b[0m\u001b[0m\n\u001b[0;32m    455\u001b[0m         \u001b[1;32mif\u001b[0m \u001b[0mleft\u001b[0m \u001b[1;32mis\u001b[0m \u001b[1;32mNone\u001b[0m\u001b[1;33m:\u001b[0m\u001b[1;33m\u001b[0m\u001b[1;33m\u001b[0m\u001b[0m\n\u001b[1;32m--> 456\u001b[1;33m             \u001b[0mleft\u001b[0m \u001b[1;33m=\u001b[0m \u001b[0mself\u001b[0m\u001b[1;33m.\u001b[0m\u001b[0mvisit\u001b[0m\u001b[1;33m(\u001b[0m\u001b[0mnode\u001b[0m\u001b[1;33m.\u001b[0m\u001b[0mleft\u001b[0m\u001b[1;33m,\u001b[0m \u001b[0mside\u001b[0m\u001b[1;33m=\u001b[0m\u001b[1;34m\"left\"\u001b[0m\u001b[1;33m)\u001b[0m\u001b[1;33m\u001b[0m\u001b[1;33m\u001b[0m\u001b[0m\n\u001b[0m\u001b[0;32m    457\u001b[0m         \u001b[1;32mif\u001b[0m \u001b[0mright\u001b[0m \u001b[1;32mis\u001b[0m \u001b[1;32mNone\u001b[0m\u001b[1;33m:\u001b[0m\u001b[1;33m\u001b[0m\u001b[1;33m\u001b[0m\u001b[0m\n\u001b[0;32m    458\u001b[0m             \u001b[0mright\u001b[0m \u001b[1;33m=\u001b[0m \u001b[0mself\u001b[0m\u001b[1;33m.\u001b[0m\u001b[0mvisit\u001b[0m\u001b[1;33m(\u001b[0m\u001b[0mnode\u001b[0m\u001b[1;33m.\u001b[0m\u001b[0mright\u001b[0m\u001b[1;33m,\u001b[0m \u001b[0mside\u001b[0m\u001b[1;33m=\u001b[0m\u001b[1;34m\"right\"\u001b[0m\u001b[1;33m)\u001b[0m\u001b[1;33m\u001b[0m\u001b[1;33m\u001b[0m\u001b[0m\n",
      "\u001b[1;32m~\\anaconda3\\lib\\site-packages\\pandas\\core\\computation\\expr.py\u001b[0m in \u001b[0;36mvisit\u001b[1;34m(self, node, **kwargs)\u001b[0m\n\u001b[0;32m    413\u001b[0m         \u001b[0mmethod\u001b[0m \u001b[1;33m=\u001b[0m \u001b[1;34m\"visit_\"\u001b[0m \u001b[1;33m+\u001b[0m \u001b[0mtype\u001b[0m\u001b[1;33m(\u001b[0m\u001b[0mnode\u001b[0m\u001b[1;33m)\u001b[0m\u001b[1;33m.\u001b[0m\u001b[0m__name__\u001b[0m\u001b[1;33m\u001b[0m\u001b[1;33m\u001b[0m\u001b[0m\n\u001b[0;32m    414\u001b[0m         \u001b[0mvisitor\u001b[0m \u001b[1;33m=\u001b[0m \u001b[0mgetattr\u001b[0m\u001b[1;33m(\u001b[0m\u001b[0mself\u001b[0m\u001b[1;33m,\u001b[0m \u001b[0mmethod\u001b[0m\u001b[1;33m)\u001b[0m\u001b[1;33m\u001b[0m\u001b[1;33m\u001b[0m\u001b[0m\n\u001b[1;32m--> 415\u001b[1;33m         \u001b[1;32mreturn\u001b[0m \u001b[0mvisitor\u001b[0m\u001b[1;33m(\u001b[0m\u001b[0mnode\u001b[0m\u001b[1;33m,\u001b[0m \u001b[1;33m**\u001b[0m\u001b[0mkwargs\u001b[0m\u001b[1;33m)\u001b[0m\u001b[1;33m\u001b[0m\u001b[1;33m\u001b[0m\u001b[0m\n\u001b[0m\u001b[0;32m    416\u001b[0m \u001b[1;33m\u001b[0m\u001b[0m\n\u001b[0;32m    417\u001b[0m     \u001b[1;32mdef\u001b[0m \u001b[0mvisit_Module\u001b[0m\u001b[1;33m(\u001b[0m\u001b[0mself\u001b[0m\u001b[1;33m,\u001b[0m \u001b[0mnode\u001b[0m\u001b[1;33m,\u001b[0m \u001b[1;33m**\u001b[0m\u001b[0mkwargs\u001b[0m\u001b[1;33m)\u001b[0m\u001b[1;33m:\u001b[0m\u001b[1;33m\u001b[0m\u001b[1;33m\u001b[0m\u001b[0m\n",
      "\u001b[1;32m~\\anaconda3\\lib\\site-packages\\pandas\\core\\computation\\expr.py\u001b[0m in \u001b[0;36mvisit_Name\u001b[1;34m(self, node, **kwargs)\u001b[0m\n\u001b[0;32m    547\u001b[0m \u001b[1;33m\u001b[0m\u001b[0m\n\u001b[0;32m    548\u001b[0m     \u001b[1;32mdef\u001b[0m \u001b[0mvisit_Name\u001b[0m\u001b[1;33m(\u001b[0m\u001b[0mself\u001b[0m\u001b[1;33m,\u001b[0m \u001b[0mnode\u001b[0m\u001b[1;33m,\u001b[0m \u001b[1;33m**\u001b[0m\u001b[0mkwargs\u001b[0m\u001b[1;33m)\u001b[0m\u001b[1;33m:\u001b[0m\u001b[1;33m\u001b[0m\u001b[1;33m\u001b[0m\u001b[0m\n\u001b[1;32m--> 549\u001b[1;33m         \u001b[1;32mreturn\u001b[0m \u001b[0mself\u001b[0m\u001b[1;33m.\u001b[0m\u001b[0mterm_type\u001b[0m\u001b[1;33m(\u001b[0m\u001b[0mnode\u001b[0m\u001b[1;33m.\u001b[0m\u001b[0mid\u001b[0m\u001b[1;33m,\u001b[0m \u001b[0mself\u001b[0m\u001b[1;33m.\u001b[0m\u001b[0menv\u001b[0m\u001b[1;33m,\u001b[0m \u001b[1;33m**\u001b[0m\u001b[0mkwargs\u001b[0m\u001b[1;33m)\u001b[0m\u001b[1;33m\u001b[0m\u001b[1;33m\u001b[0m\u001b[0m\n\u001b[0m\u001b[0;32m    550\u001b[0m \u001b[1;33m\u001b[0m\u001b[0m\n\u001b[0;32m    551\u001b[0m     \u001b[1;32mdef\u001b[0m \u001b[0mvisit_NameConstant\u001b[0m\u001b[1;33m(\u001b[0m\u001b[0mself\u001b[0m\u001b[1;33m,\u001b[0m \u001b[0mnode\u001b[0m\u001b[1;33m,\u001b[0m \u001b[1;33m**\u001b[0m\u001b[0mkwargs\u001b[0m\u001b[1;33m)\u001b[0m\u001b[1;33m:\u001b[0m\u001b[1;33m\u001b[0m\u001b[1;33m\u001b[0m\u001b[0m\n",
      "\u001b[1;32m~\\anaconda3\\lib\\site-packages\\pandas\\core\\computation\\ops.py\u001b[0m in \u001b[0;36m__init__\u001b[1;34m(self, name, env, side, encoding)\u001b[0m\n\u001b[0;32m     96\u001b[0m         \u001b[0mtname\u001b[0m \u001b[1;33m=\u001b[0m \u001b[0mstr\u001b[0m\u001b[1;33m(\u001b[0m\u001b[0mname\u001b[0m\u001b[1;33m)\u001b[0m\u001b[1;33m\u001b[0m\u001b[1;33m\u001b[0m\u001b[0m\n\u001b[0;32m     97\u001b[0m         \u001b[0mself\u001b[0m\u001b[1;33m.\u001b[0m\u001b[0mis_local\u001b[0m \u001b[1;33m=\u001b[0m \u001b[0mtname\u001b[0m\u001b[1;33m.\u001b[0m\u001b[0mstartswith\u001b[0m\u001b[1;33m(\u001b[0m\u001b[0mLOCAL_TAG\u001b[0m\u001b[1;33m)\u001b[0m \u001b[1;32mor\u001b[0m \u001b[0mtname\u001b[0m \u001b[1;32min\u001b[0m \u001b[0mDEFAULT_GLOBALS\u001b[0m\u001b[1;33m\u001b[0m\u001b[1;33m\u001b[0m\u001b[0m\n\u001b[1;32m---> 98\u001b[1;33m         \u001b[0mself\u001b[0m\u001b[1;33m.\u001b[0m\u001b[0m_value\u001b[0m \u001b[1;33m=\u001b[0m \u001b[0mself\u001b[0m\u001b[1;33m.\u001b[0m\u001b[0m_resolve_name\u001b[0m\u001b[1;33m(\u001b[0m\u001b[1;33m)\u001b[0m\u001b[1;33m\u001b[0m\u001b[1;33m\u001b[0m\u001b[0m\n\u001b[0m\u001b[0;32m     99\u001b[0m         \u001b[0mself\u001b[0m\u001b[1;33m.\u001b[0m\u001b[0mencoding\u001b[0m \u001b[1;33m=\u001b[0m \u001b[0mencoding\u001b[0m\u001b[1;33m\u001b[0m\u001b[1;33m\u001b[0m\u001b[0m\n\u001b[0;32m    100\u001b[0m \u001b[1;33m\u001b[0m\u001b[0m\n",
      "\u001b[1;32m~\\anaconda3\\lib\\site-packages\\pandas\\core\\computation\\ops.py\u001b[0m in \u001b[0;36m_resolve_name\u001b[1;34m(self)\u001b[0m\n\u001b[0;32m    113\u001b[0m \u001b[1;33m\u001b[0m\u001b[0m\n\u001b[0;32m    114\u001b[0m     \u001b[1;32mdef\u001b[0m \u001b[0m_resolve_name\u001b[0m\u001b[1;33m(\u001b[0m\u001b[0mself\u001b[0m\u001b[1;33m)\u001b[0m\u001b[1;33m:\u001b[0m\u001b[1;33m\u001b[0m\u001b[1;33m\u001b[0m\u001b[0m\n\u001b[1;32m--> 115\u001b[1;33m         \u001b[0mres\u001b[0m \u001b[1;33m=\u001b[0m \u001b[0mself\u001b[0m\u001b[1;33m.\u001b[0m\u001b[0menv\u001b[0m\u001b[1;33m.\u001b[0m\u001b[0mresolve\u001b[0m\u001b[1;33m(\u001b[0m\u001b[0mself\u001b[0m\u001b[1;33m.\u001b[0m\u001b[0mlocal_name\u001b[0m\u001b[1;33m,\u001b[0m \u001b[0mis_local\u001b[0m\u001b[1;33m=\u001b[0m\u001b[0mself\u001b[0m\u001b[1;33m.\u001b[0m\u001b[0mis_local\u001b[0m\u001b[1;33m)\u001b[0m\u001b[1;33m\u001b[0m\u001b[1;33m\u001b[0m\u001b[0m\n\u001b[0m\u001b[0;32m    116\u001b[0m         \u001b[0mself\u001b[0m\u001b[1;33m.\u001b[0m\u001b[0mupdate\u001b[0m\u001b[1;33m(\u001b[0m\u001b[0mres\u001b[0m\u001b[1;33m)\u001b[0m\u001b[1;33m\u001b[0m\u001b[1;33m\u001b[0m\u001b[0m\n\u001b[0;32m    117\u001b[0m \u001b[1;33m\u001b[0m\u001b[0m\n",
      "\u001b[1;32m~\\anaconda3\\lib\\site-packages\\pandas\\core\\computation\\scope.py\u001b[0m in \u001b[0;36mresolve\u001b[1;34m(self, key, is_local)\u001b[0m\n\u001b[0;32m    211\u001b[0m                 \u001b[1;32mfrom\u001b[0m \u001b[0mpandas\u001b[0m\u001b[1;33m.\u001b[0m\u001b[0mcore\u001b[0m\u001b[1;33m.\u001b[0m\u001b[0mcomputation\u001b[0m\u001b[1;33m.\u001b[0m\u001b[0mops\u001b[0m \u001b[1;32mimport\u001b[0m \u001b[0mUndefinedVariableError\u001b[0m\u001b[1;33m\u001b[0m\u001b[1;33m\u001b[0m\u001b[0m\n\u001b[0;32m    212\u001b[0m \u001b[1;33m\u001b[0m\u001b[0m\n\u001b[1;32m--> 213\u001b[1;33m                 \u001b[1;32mraise\u001b[0m \u001b[0mUndefinedVariableError\u001b[0m\u001b[1;33m(\u001b[0m\u001b[0mkey\u001b[0m\u001b[1;33m,\u001b[0m \u001b[0mis_local\u001b[0m\u001b[1;33m)\u001b[0m \u001b[1;32mfrom\u001b[0m \u001b[0merr\u001b[0m\u001b[1;33m\u001b[0m\u001b[1;33m\u001b[0m\u001b[0m\n\u001b[0m\u001b[0;32m    214\u001b[0m \u001b[1;33m\u001b[0m\u001b[0m\n\u001b[0;32m    215\u001b[0m     \u001b[1;32mdef\u001b[0m \u001b[0mswapkey\u001b[0m\u001b[1;33m(\u001b[0m\u001b[0mself\u001b[0m\u001b[1;33m,\u001b[0m \u001b[0mold_key\u001b[0m\u001b[1;33m:\u001b[0m \u001b[0mstr\u001b[0m\u001b[1;33m,\u001b[0m \u001b[0mnew_key\u001b[0m\u001b[1;33m:\u001b[0m \u001b[0mstr\u001b[0m\u001b[1;33m,\u001b[0m \u001b[0mnew_value\u001b[0m\u001b[1;33m=\u001b[0m\u001b[1;32mNone\u001b[0m\u001b[1;33m)\u001b[0m \u001b[1;33m->\u001b[0m \u001b[1;32mNone\u001b[0m\u001b[1;33m:\u001b[0m\u001b[1;33m\u001b[0m\u001b[1;33m\u001b[0m\u001b[0m\n",
      "\u001b[1;31mUndefinedVariableError\u001b[0m: name 'scenario_with_goal' is not defined"
     ]
    }
   ],
   "source": [
    "# посчитаем процент пользователей НЕ совершивших целевое действие, длительность сессий у которых равна 0 минут\n",
    "data_3 = data.copy()\n",
    "data_3 = data_3.query('duration_session == 00.000 & scenario_with_goal ==\"no\"')\n",
    "data_4 = data.copy()\n",
    "data_4 = data_4.query('scenario_with_goal ==\"no\"')\n",
    "\n",
    "proc = data_3['user_id'].nunique()/data_4['user_id'].nunique() *100\n",
    "print(f'Процент уник. пользователей БЕЗ целевого, длительность сессий у которых равна 0 минут: {round(proc, 1)}%')"
   ]
  },
  {
   "cell_type": "code",
   "execution_count": null,
   "metadata": {},
   "outputs": [],
   "source": [
    "# посмотрим совпадают ли пользователи, совершившие 1 действие за сессии, длительность которых равна 0 минут\n",
    "user_actions_1 = data.query('number_actions_per_session == 1 & scenario_with_goal ==\"no\"')['user_id'].nunique()\n",
    "print(f'Кол-во пользователей не совершивших целевое действие, кол-во действий за сессию у которых = 1 : {user_actions_1}')\n",
    "\n",
    "coincidence = data.query('number_actions_per_session == 1 & scenario_with_goal ==\"no\"')['user_id'].unique().tolist()\n",
    "\n",
    "user_duration_session_1 = data.query('user_id == @coincidence & duration_session == 00.000 & scenario_with_goal ==\"no\"')['user_id'].nunique()\n",
    "print(f'Кол-во пользователей не совершивших целевое действие, длительность сессий у которых равна 0 минут: {user_duration_session_1}')"
   ]
  },
  {
   "cell_type": "code",
   "execution_count": null,
   "metadata": {},
   "outputs": [],
   "source": [
    "# посмотрим сколько на самом деле уник. пользователей совершили 1 действие и больше ничего не делали в приложении \n",
    "not_lost_users = data.query('user_id == @coincidence & duration_session > 00.000 & scenario_with_goal ==\"no\"')['user_id'].unique().tolist()\n",
    "not_lost_users_1 = len(not_lost_users)\n",
    "coincidence_1 = len(coincidence) \n",
    "\n",
    "proc_2 = (coincidence_1 - not_lost_users_1)/data_4['user_id'].nunique() *100\n",
    "print(f'Процент уник. пользователей БЕЗ целевого, которые совершиили 1 действие и больше ничего не делали в приложении : {round(proc_2, 1)}%')"
   ]
  },
  {
   "cell_type": "markdown",
   "metadata": {},
   "source": [
    "- **`Только 5.7% пользователей, среди не совершавших целевое, зашли в приложение, сделали одно действие и больше не заходили в приложение.`**\n",
    "\n",
    "\n",
    "- **`Тем не менее, почти половина уникальных пользователей (47.9%), не совершавших целевое действие, периодически заходят в приложение, делают 1 действие и выходят.`** "
   ]
  },
  {
   "cell_type": "code",
   "execution_count": null,
   "metadata": {},
   "outputs": [],
   "source": [
    "# Распределение пользователей НЕ совершивших целевое действие по сессиям, длительность которых = 0 минут\n",
    "not_goal_sessions = data_3.groupby('scenario').agg({'user_id':'nunique'}).sort_values('user_id', ascending=False).reset_index()\n",
    "not_goal_sessions.columns = ['scenario', 'number_users']\n",
    "\n",
    "plt.figure(figsize=(10, 7))\n",
    "sns.barplot(not_goal_sessions['scenario'], not_goal_sessions['number_users'])\n",
    "plt.title('Распределение пользователей НЕ совершивших целевое действие по сессиям, длительность которых = 0 минут')\n",
    "plt.xlabel('Сессии')\n",
    "plt.ylabel('Количество уник. пользователей')\n",
    "plt.xticks(rotation = 55)\n",
    "plt.show()"
   ]
  },
  {
   "cell_type": "code",
   "execution_count": null,
   "metadata": {},
   "outputs": [],
   "source": [
    "# посчитаем процент уникальных сессий, дительность которых = 0 (среди пользователей БЕЗ целевого)\n",
    "k = data.query('duration_session == 00.000 & scenario_with_goal ==\"no\"')\n",
    "proc_5 = k['session_id'].nunique()/data_2['session_id'].nunique() *100\n",
    "\n",
    "print(f'Процент уникальных сессий среди пользователей БЕЗ целевого, дительность которых = 0 : {round(proc_5, 1)}%')"
   ]
  },
  {
   "cell_type": "code",
   "execution_count": null,
   "metadata": {},
   "outputs": [],
   "source": [
    "# посчитаем процент уникальных сессий, дительность которых = 0 (среди пользователей БЕЗ целевого)\n",
    "d = data.query('duration_session == 00.000 & scenario_with_goal ==\"yes\"')\n",
    "proc_d = d['session_id'].nunique()/data_1['session_id'].nunique() *100\n",
    "\n",
    "print(f'Процент уникальных сессий среди пользователей C целевым, дительность которых = 0 : {round(proc_d, 1)}%')"
   ]
  },
  {
   "cell_type": "markdown",
   "metadata": {},
   "source": [
    "**По пользователям БЕЗ целевого:**\n",
    "\n",
    "- **`По всей видимости, пользователи чаще завершают сессию сделав 1 действие из следующих: \"tips_show\", \"photos_show\", \"search_1\" и \"map\".`** \n",
    "\n",
    "\n",
    "- **`34.4% сессий длятся 0 минут.`**\n",
    "\n",
    "\n",
    "- **`47.9% уник. пользователей однажды совершали действия длит. 0 минут т.е. в 1 действие.`**"
   ]
  },
  {
   "cell_type": "markdown",
   "metadata": {},
   "source": [
    "#### Пользователи С целевым с длит.сессий = 0 минут"
   ]
  },
  {
   "cell_type": "code",
   "execution_count": null,
   "metadata": {},
   "outputs": [],
   "source": [
    "# посчитаем процент пользователей совершивших целевое действие, длительность сессий у которых равна 0\n",
    "data_5 = data.copy()\n",
    "data_5 = data_5.query('duration_session == 00.000 & scenario_with_goal ==\"yes\"')\n",
    "data_6 = data.copy()\n",
    "data_6 = data_6.query('scenario_with_goal ==\"yes\"')\n",
    "\n",
    "proc_1 = data_5['user_id'].nunique()/data_6['user_id'].nunique() *100\n",
    "print(f'Процент пользователей совершивших целевое действие, длительность сессий у которых равна 0 : {round(proc_1, 1)}%')"
   ]
  },
  {
   "cell_type": "code",
   "execution_count": null,
   "metadata": {},
   "outputs": [],
   "source": [
    "# Распределение пользователей совершивших целевое действие по сессиям, длительность которых = 0 минут\n",
    "goal_sessions = data_5.groupby('scenario').agg({'user_id':'nunique'}).sort_values('user_id', ascending=False).reset_index()\n",
    "goal_sessions.columns = ['scenario', 'number_users']\n",
    "goal_sessions.head(20)"
   ]
  },
  {
   "cell_type": "markdown",
   "metadata": {},
   "source": [
    "- **`25.4% процентов уник. пользователей, среди совершивших целевое действие, сразу переходят к целевому действию. Возможно, они сразу переходят по сторонней ссылке на страницу просмотра контактов.`**"
   ]
  },
  {
   "cell_type": "markdown",
   "metadata": {},
   "source": [
    "#### Пользователи С целевым с длит.сессий > 0 минут"
   ]
  },
  {
   "cell_type": "code",
   "execution_count": null,
   "metadata": {},
   "outputs": [],
   "source": [
    "# Посмотрим на пользователей, совершивших целевое действие, длительность сессии которых больше 0 минут\n",
    "data_7 = data_1.query('duration_session > 00.000')\n",
    "    \n",
    "d = data_7.groupby('scenario').agg({'user_id':'nunique',  'event_name': 'count', 'number_actions_per_session': 'mean'}).sort_values('user_id', ascending=False).reset_index()\n",
    "display(d.head(20))\n",
    "\n",
    "# Среднее количество действий за сесссию\n",
    "data_77 = data_7['number_actions_per_session'].mean()\n",
    "print(f'При длительности сессий > 0 минут, среднее число действий за сессию у пользователей С целевым: {round(data_77, 1)}')"
   ]
  },
  {
   "cell_type": "markdown",
   "metadata": {},
   "source": [
    "#### Пользователи БЕЗ целевого с длит.сессий > 0 минут"
   ]
  },
  {
   "cell_type": "code",
   "execution_count": null,
   "metadata": {},
   "outputs": [],
   "source": [
    "# Посмотрим на пользователей, не совершивших целевое действие, длительность сессии которых больше 0 минут\n",
    "data_8 = data_2.query('duration_session > 00.000')\n",
    "\n",
    "c = data_8.groupby('scenario').agg({'user_id':'nunique',  'event_name': 'count', 'number_actions_per_session': 'mean'}).sort_values('user_id', ascending=False).reset_index()\n",
    "display(c.head(20))\n",
    "\n",
    "# Среднее количество действий за сесссию\n",
    "data_88 = data_8['number_actions_per_session'].mean()\n",
    "print(f'При длительности сессий > 0 минут, среднее число действий за сессию у пользователей БЕЗ целевого: {round(data_88, 1)}')"
   ]
  },
  {
   "cell_type": "markdown",
   "metadata": {},
   "source": [
    "- **`При длительности сессий > 0 минут, среднее число действий за сессию у пользователей С целевым немного больше, чем у пользователей без целевого. Но незначительно: 14.1 против 13.7.`**\n",
    "\n",
    "\n",
    "- **`Большинство пользователей, не совершивших целевое действие и длительность сессий у которых > 0, видят много рекомендованых объявлений подряд и не кликают по ним (сценарий \"tips_show\"), зависают на просмотре фотографий (сценарий \"photos_show\") или совершают подряд несколько поисковых запросов \"search_1\" и не находят подходящий товар (сценарии \"search_1\"/\"search_1, photos_show\").`** \n",
    "\n",
    "\n",
    "- **`Пользователи 2ух групп преимущественно совершают одинаковые действия, судя по сценариям. Топ популярных действий: tips_show, photos_show, map, search_1 и advert_open. Только в одном случае эти популярные действия приводят к целевому, а в другом - нет.`** "
   ]
  },
  {
   "cell_type": "markdown",
   "metadata": {},
   "source": [
    "### Соотноешние кол-ва действий в процентном соотношении у 2ух групп"
   ]
  },
  {
   "cell_type": "code",
   "execution_count": null,
   "metadata": {},
   "outputs": [],
   "source": [
    "# посчитаем процент каждого действия от общего кол-ва для пользователей БЕЗ целевого\n",
    "popularity_2 = data_2.groupby('event_name').agg({'user_id':'count'}).sort_values('user_id', ascending=False).reset_index()\n",
    "popularity_2.columns = ['event_name', 'number']\n",
    "popularity_2['proc_act_not_goal'] = popularity_2['number']/popularity_2['number'].sum() * 100\n",
    "popularity_2 = popularity_2.drop(columns = ['number'], axis = 1)\n",
    "\n",
    "# посчитаем процент каждого действия от общего кол-ва для пользователей С целевым\n",
    "popularity_1 = data_1.groupby('event_name').agg({'user_id':'count'}).sort_values('user_id', ascending=False).reset_index()\n",
    "popularity_1.columns = ['event_name', 'number']\n",
    "popularity_1['proc_act_goal'] = popularity_1['number']/popularity_1['number'].sum() * 100\n",
    "popularity_1 = popularity_1.drop(columns = ['number'], axis = 1)\n",
    "\n",
    "# объединим данные\n",
    "#popularity = popularity_2.merge(popularity_1, on = 'event_name', how = 'right')\n",
    "#popularity.fillna(0)\n",
    "\n",
    "popularity_2"
   ]
  },
  {
   "cell_type": "code",
   "execution_count": null,
   "metadata": {},
   "outputs": [],
   "source": [
    "# Строим столбчатую диаграмму соотношения кол-ва действий в процентном соотношении у 2ух групп\n",
    "\n",
    "plt.figure(figsize=(15, 10))\n",
    "\n",
    "sns.barplot(x='proc_act_not_goal', y='event_name', data=popularity, color = 'blue', label = 'Пользователи НЕ совершавшие “contacts_show“')\n",
    "sns.barplot(x='proc_act_goal', y='event_name', data=popularity, color = 'red', label = 'Пользователи совершавшие “contacts_show“')\n",
    "\n",
    "\n",
    "\n",
    "#plt.title('Соотноешние кол-ва действий в процентном соотношении у 2ух групп')\n",
    "plt.xlabel('КОЛ-ВО ДЕЙСТВИЙ В ПРОЦЕНТНОМ СООТНОШЕНИИ')\n",
    "plt.ylabel('')\n",
    "plt.legend(loc='lower right', fontsize=10)\n",
    "plt.show()"
   ]
  },
  {
   "cell_type": "markdown",
   "metadata": {},
   "source": [
    "- **`Самые непопулярные действия у обоих групп: \"search_2 - search_7\" и \"tips_click\". Поисковые запросы могут быть не эффектины, а функция \"tips_click\" - клик по рекомендованному объявлению - не востребована.`** Нельзя сказать, что c рекомендованным объявлениями \"tips_show\" что-то не так и поэтому \"tips_click\" редко происходит. Потому что мало того, что \"tips_show\" самое популярное действие, так ещё и сценарий \"tips_show\", contacts_show\" чаще всего приводит к целевому.\n",
    "\n",
    "\n",
    "- **`Из графика видно, что пользователи БЕЗ целевого примерно в 2 раза чаще совершают действия \"photos_show\", \"search_1\", \"map\", \"favorites_add\" и в 3 раза чаще \"advert_open\", чем пользователи совершившие целевое. Причины могут быть разные, но коль уже это самый популярный функционал приложения, то над ним нужно поработать. Например, изменить требования к качеству/кол-ву фотографий, настроить поисковой запрос search_1 (сделать более удобным и эффективным), понять нужна ли вообще функция  \"advert_open\" (судя по всему многим достаточно увидеть рекомендованое объявление и посмотреть фото для перехода на целевое). И, конечно, продолжать делать ставку на рекомендацию объявлений \"tips_show\".`**"
   ]
  },
  {
   "cell_type": "markdown",
   "metadata": {},
   "source": [
    "## Воронки"
   ]
  },
  {
   "cell_type": "code",
   "execution_count": null,
   "metadata": {},
   "outputs": [],
   "source": [
    "# выделим сценарии, которые привели к целевому действию \n",
    "work_funnels = data_1.groupby('scenario').agg({'user_id':'nunique', 'event_name': 'count'}).sort_values('event_name', ascending=False).reset_index()\n",
    "work_funnels.columns = ['scenario', 'number_users', 'number_events']\n",
    "work_funnels.head(20)"
   ]
  },
  {
   "cell_type": "markdown",
   "metadata": {},
   "source": [
    "`Сценарии, по которым будем строить воронки:`\n",
    "\n",
    "- tips_show, contacts_show\n",
    "\n",
    "- map, contacts_show\n",
    "\n",
    "- photos_show, contacts_show\n",
    "\n",
    "- search_1, contacts_show\n",
    "\n",
    "Сравним между собой:\n",
    "\n",
    "- map, tips_show, contacts_show\n",
    "\n",
    "- tips_show, map, contacts_show\n",
    "\n",
    "`По выбранным сценариям действия предшествующие целевому наиболее часто задействованы.`"
   ]
  },
  {
   "cell_type": "markdown",
   "metadata": {},
   "source": [
    "### Воронка tips_show, contacts_show"
   ]
  },
  {
   "cell_type": "code",
   "execution_count": null,
   "metadata": {},
   "outputs": [],
   "source": [
    "# выделим уникальных пользователей, совершивших действие \"tips_show \"\n",
    "tips_show_funnels = general.query('event_name ==\"tips_show\"')['user_id'].unique().tolist()\n",
    "tips_show_funnels_1 = len(tips_show_funnels)\n",
    "tips_show_funnels_1"
   ]
  },
  {
   "cell_type": "code",
   "execution_count": null,
   "metadata": {},
   "outputs": [],
   "source": [
    "# выделим уникальных пользователей совершивших \"contacts_show\" среди пользователей, совершивших действие \"tips_show\"\n",
    "tips_contacts_show_funnels = general.query('user_id == @tips_show_funnels & event_name == \"contacts_show\"')['user_id'].unique().tolist()\n",
    "tips_contacts_show_funnels_1 = len(tips_contacts_show_funnels)\n",
    "tips_contacts_show_funnels_1"
   ]
  },
  {
   "cell_type": "code",
   "execution_count": null,
   "metadata": {},
   "outputs": [],
   "source": [
    "# создаём датафрейм с получившимися значениями\n",
    "df_1 = pd.DataFrame({'event_name': ['tips_show', 'contacts_show'], 'number_users': [tips_show_funnels_1, tips_contacts_show_funnels_1]})\n",
    "df_1 "
   ]
  },
  {
   "cell_type": "code",
   "execution_count": null,
   "metadata": {},
   "outputs": [],
   "source": [
    "# Построим воронку событий \"tips_show, contacts_show\"\n",
    "fig = go.Figure(go.Funnel(y = ['tips_show', 'contacts_show'], x = df_1['number_users'], marker = {\"color\": [\"tan\", \"teal\"]}, textinfo = \"value + percent initial\"))\n",
    "fig.update_layout(title = 'Воронка событий \"tips_show, contacts_show\"')\n",
    "fig.show()"
   ]
  },
  {
   "cell_type": "markdown",
   "metadata": {},
   "source": [
    "- **`По рекомендованному объявлению 'tips_show' 18% пользователей переходят в просмотр контактов.`**"
   ]
  },
  {
   "cell_type": "markdown",
   "metadata": {},
   "source": [
    "### Воронка map, contacts_show"
   ]
  },
  {
   "cell_type": "code",
   "execution_count": null,
   "metadata": {},
   "outputs": [],
   "source": [
    "# выделим уникальных пользователей, совершивших действие \"map\"\n",
    "map_funnels = general.query('event_name ==\"map\"')['user_id'].unique().tolist()\n",
    "map_funnels_1 = len(map_funnels)\n",
    "\n",
    "# выделим уникальных пользователей совершивших \"contacts_show\" среди пользователей, совершивших действие \"map\"\n",
    "map_contacts_show_funnels = general.query('user_id == @map_funnels & event_name ==\"contacts_show\"')['user_id'].unique().tolist()\n",
    "map_contacts_show_funnels_1 = len(map_contacts_show_funnels)\n",
    "\n",
    "# создаём датафрейм с получившимися значениями\n",
    "df_0 = pd.DataFrame({'event_name': ['map', 'contacts_show'], 'number_users': [map_funnels_1, map_contacts_show_funnels_1]})\n",
    "\n",
    "# Построим воронку событий \"map, tips_show, contacts_show\"\n",
    "fig = go.Figure(go.Funnel(y = ['map', 'contacts_show'], x = df_0['number_users'], marker = {\"color\": [\"silver\", \"wheat\", \"blue\"]}, textinfo = \"value + percent initial\"))\n",
    "fig.update_layout(title = 'Воронка событий \"map, contacts_show\"')\n",
    "fig.show()"
   ]
  },
  {
   "cell_type": "markdown",
   "metadata": {},
   "source": [
    "- **`C карты объявлений 'map' 20% пользователей переходят в просмотр контактов.`**\n",
    "\n",
    "\n",
    "- **`Т.е. конверсия в просмотры контактов у действий 'tips_show' и 'map' примерно одинаковая.`**"
   ]
  },
  {
   "cell_type": "markdown",
   "metadata": {},
   "source": [
    "### Воронка tips_show, map, contacts_show"
   ]
  },
  {
   "cell_type": "code",
   "execution_count": null,
   "metadata": {},
   "outputs": [],
   "source": [
    "# выделим уникальных пользователей, совершивших действие \"tips_show\"\n",
    "tips_show_funnels = general.query('event_name ==\"tips_show\"')['user_id'].unique().tolist()\n",
    "tips_show_funnels_1 = len(tips_show_funnels)\n",
    "\n",
    "# выделим уникальных пользователей совершивших \"map\" среди пользователей, совершивших действие \"tips_show\"\n",
    "tips_show_map_funnels = general.query('user_id == @tips_show_funnels & event_name ==\"map\"')['user_id'].unique().tolist()\n",
    "tips_show_map_funnels_1 = len(tips_show_map_funnels)\n",
    "\n",
    "# выделим уникальных пользователей совершивших \"contacts_show\" среди пользователей, совершивших действия \"tips_show\" и \"map\"\n",
    "tips_show_map_contact_funnels = general.query('user_id == @tips_show_map_funnels & event_name ==\"contacts_show\"')['user_id'].unique().tolist()\n",
    "tips_show_map_contact_funnels_1 = len(tips_show_map_contact_funnels)\n",
    "\n",
    "# создаём датафрейм с получившимися значениями\n",
    "df_10 = pd.DataFrame({'event_name': ['tips_show', 'map',  'contacts_show'], 'number_users': [tips_show_funnels_1, tips_show_map_funnels_1, tips_show_map_contact_funnels_1]})\n",
    "\n",
    "# Построим воронку событий \"tips_show, map, contacts_show\"\n",
    "fig = go.Figure(go.Funnel(y = ['tips_show', 'map',  'contacts_show'], x = df_10['number_users'], marker = {\"color\": [\"silver\", \"wheat\", \"blue\"]}, textinfo = \"value + percent initial\"))\n",
    "fig.update_layout(title = 'Воронка событий \"tips_show, map, contacts_show\"')\n",
    "fig.show()"
   ]
  },
  {
   "cell_type": "markdown",
   "metadata": {},
   "source": [
    "- **`Последовательность действий перед целевым 'tips_show, map' доводит до целевого действия 10% пользователей.`**\n",
    "\n",
    "\n",
    "- **`Много пользователей теряется при переходе с действия 'tips_show' на 'map'. Рекомендательная система, конечно, может \"не знать\" какой район удобен пользователю.`**"
   ]
  },
  {
   "cell_type": "markdown",
   "metadata": {},
   "source": [
    "### Воронка map, tips_show, contacts_show"
   ]
  },
  {
   "cell_type": "code",
   "execution_count": null,
   "metadata": {},
   "outputs": [],
   "source": [
    "# выделим уникальных пользователей, совершивших действие \"map\"\n",
    "map_funnels = general.query('event_name ==\"map\"')['user_id'].unique().tolist()\n",
    "map_funnels_1 = len(map_funnels)\n",
    "\n",
    "# выделим уникальных пользователей совершивших \"tips_show\" среди пользователей, совершивших действие \"map\"\n",
    "map_tips_show_funnels = general.query('user_id == @map_funnels & event_name ==\"tips_show\"')['user_id'].unique().tolist()\n",
    "map_tips_show_funnels_1 = len(map_tips_show_funnels)\n",
    "\n",
    "# выделим уникальных пользователей совершивших \"contacts_show\" среди пользователей, совершивших действия \"map\" и \"tips_show\"\n",
    "map_tips_contacts_show_funnels = general.query('user_id == @map_tips_show_funnels & event_name ==\"contacts_show\"')['user_id'].unique().tolist()\n",
    "map_tips_contacts_show_funnels_1 = len(map_tips_contacts_show_funnels)\n",
    "\n",
    "# создаём датафрейм с получившимися значениями\n",
    "df_2 = pd.DataFrame({'event_name': ['map', 'tips_show', 'contacts_show'], 'number_users': [map_funnels_1, map_tips_show_funnels_1, map_tips_contacts_show_funnels_1]})\n",
    "\n",
    "# Построим воронку событий \"map, tips_show, contacts_show\"\n",
    "fig = go.Figure(go.Funnel(y = ['map', 'tips_show', 'contacts_show'], x = df_2['number_users'], marker = {\"color\": [\"silver\", \"wheat\", \"blue\"]}, textinfo = \"value + percent initial\"))\n",
    "fig.update_layout(title = 'Воронка событий \"map, tips_show, contacts_show\"')\n",
    "fig.show()"
   ]
  },
  {
   "cell_type": "markdown",
   "metadata": {},
   "source": [
    "- **`Последовательность действий перед целевым 'map, tips_show' доводит до целевого действия 19% пользователей.`**\n",
    "\n",
    "\n",
    "- **`Если пользователи увидели рекомендованное объявление 'tips_show' ПОСЛЕ 'map', то до целевого доходят в 2 раза больше пользователей сравнительно с обратной послед. действий перед целевым 'tips_show, map'. Возможно, рекомендательная система подстраивается по интересующие области карты, когда карта уже открыта. Это значит, что рекомендательная система достаточно важна для приложения.`** "
   ]
  },
  {
   "cell_type": "markdown",
   "metadata": {},
   "source": [
    "### Воронка photos_show, contacts_show"
   ]
  },
  {
   "cell_type": "code",
   "execution_count": null,
   "metadata": {},
   "outputs": [],
   "source": [
    "# выделим уникальных пользователей, совершивших действие \"photos_show\"\n",
    "photos_show_funnels = general.query('event_name ==\"photos_show\"')['user_id'].unique().tolist()\n",
    "photos_show_funnels_1 = len(photos_show_funnels)\n",
    "\n",
    "# выделим уникальных пользователей совершивших \"contacts_show\" среди пользователей, совершивших действие \"photos_show\"\n",
    "photos_contacts_show_funnels = general.query('user_id == @photos_show_funnels & event_name ==\"contacts_show\"')['user_id'].unique().tolist()\n",
    "photos_contacts_show_funnels_1 = len(photos_contacts_show_funnels)\n",
    "\n",
    "# создаём датафрейм с получившимися значениями\n",
    "df_3 = pd.DataFrame({'event_name': ['photos_show', 'contacts_show'], 'number_users': [photos_show_funnels_1, photos_contacts_show_funnels_1]})\n",
    "\n",
    "# Построим воронку событий \"photos_show, contacts_show\"\n",
    "fig = go.Figure(go.Funnel(y = ['photos_show', 'contacts_show'], x = df_3['number_users'], marker = {\"color\": [\"deepskyblue\", \"lightsalmon\"]}, textinfo = \"value + percent initial\"))\n",
    "fig.update_layout(title = 'Воронка событий \"photos_show, contacts_show\"')\n",
    "fig.show()"
   ]
  },
  {
   "cell_type": "markdown",
   "metadata": {},
   "source": [
    "- **`После просмотра фотографий 31% пользователей переходят в просмотр контактов. Это говорит о том, что большее кол-во фотографий повышает конверсию.`**"
   ]
  },
  {
   "cell_type": "markdown",
   "metadata": {},
   "source": [
    "### Воронка search_1, contacts_show"
   ]
  },
  {
   "cell_type": "code",
   "execution_count": null,
   "metadata": {},
   "outputs": [],
   "source": [
    "# выделим уникальных пользователей, совершивших действие \"search_1\"\n",
    "search_1_funnels = general.query('event_name ==\"search_1\"')['user_id'].unique().tolist()\n",
    "search_1_funnels_1 = len(search_1_funnels)\n",
    "\n",
    "# выделим уникальных пользователей совершивших \"contacts_show\" среди пользователей, совершивших действие \"search_1\"\n",
    "search_1_contacts_show_funnels = general.query('user_id == @search_1_funnels & event_name ==\"contacts_show\"')['user_id'].unique().tolist()\n",
    "search_1_contacts_show_funnels_1 = len(search_1_contacts_show_funnels)\n",
    "\n",
    "# создаём датафрейм с получившимися значениями\n",
    "df_4 = pd.DataFrame({'event_name': ['search_1', 'contacts_show'], 'number_users': [search_1_funnels_1, search_1_contacts_show_funnels_1]})\n",
    "\n",
    "# Построим воронку событий \"search_1, contacts_show\"\n",
    "fig = go.Figure(go.Funnel(y = ['search_1', 'contacts_show'], x = df_4['number_users'], marker = {\"color\": [\"tan\", \"lightsalmon\"]}, textinfo = \"value + percent initial\"))\n",
    "fig.update_layout(title = 'Воронка событий \"search_1, contacts_show\"')\n",
    "fig.show()"
   ]
  },
  {
   "cell_type": "markdown",
   "metadata": {},
   "source": [
    "- **`Поиск \"search_1\" доводит 30% пользователей до целевого. Отличный поисковой запрос.`**"
   ]
  },
  {
   "cell_type": "markdown",
   "metadata": {},
   "source": [
    "## Время между search_1—search_7 и advert_open для пользователей, совершивших целевое действие"
   ]
  },
  {
   "cell_type": "markdown",
   "metadata": {},
   "source": [
    "### Время между search_1 и advert_open (c целевым)"
   ]
  },
  {
   "cell_type": "code",
   "execution_count": null,
   "metadata": {},
   "outputs": [],
   "source": [
    "# делаем срез таблицы 'general_contacts_show' по сценариям, в которых есть действия \"search_1\" и \"advert_open\"\n",
    "search_1 = general_contacts_show[general_contacts_show['scenario'].str.contains(\"search_1\")]\n",
    "search_1_advert_open = search_1[search_1['scenario'].str.contains(\"advert_open\")]\n",
    "\n",
    "# смотрим какие остались уникальные сценарии, содержащие \"search_1\" и \"advert_open\"\n",
    "search_1_advert_open['scenario'].unique()"
   ]
  },
  {
   "cell_type": "markdown",
   "metadata": {},
   "source": [
    "- **В одном из сценариев не соблюдена последовательность от \"search_1\" к \"advert_open\", поэтому он будет удалён.**"
   ]
  },
  {
   "cell_type": "code",
   "execution_count": null,
   "metadata": {},
   "outputs": [],
   "source": [
    "# делаем срез таблицы \"search_1_advert_open\" по действиям \"search_1\" и \"advert_open\"\n",
    "search_1_advert_open_1= search_1_advert_open.query('event_name == \"search_1\" | event_name == \"advert_open\"')\n",
    "search_1_advert_open_1.reset_index(drop= True, inplace= True)\n",
    "search_1_advert_open_1.head()"
   ]
  },
  {
   "cell_type": "code",
   "execution_count": null,
   "metadata": {},
   "outputs": [],
   "source": [
    "# удаляем сценарий, в котором не соблюдена последовательность от \"search_1\" к \"advert_open\"\n",
    "search_1_advert_open_1 = search_1_advert_open_1.query('session_id != 11135 & session_id != 11595')\n",
    "\n",
    "# выделяем первые по времени действия \"search_1\" и \"advert_open\" в каждой сессии\n",
    "time_s1a = search_1_advert_open_1.groupby(['user_id', 'session_id', 'event_name'])['event_time'].min().reset_index()\n",
    "\n",
    "# считаем время между первым действием \"search_1\" и первым действием \"advert_open\" для каждой сессии\n",
    "time_s1a['difference'] = abs(time_s1a.groupby(['user_id', 'session_id'])['event_time'].diff().dt.total_seconds().fillna(0)/60)\n",
    "time_s1a = time_s1a.query('difference != 0')\n",
    "s1a = time_s1a['difference'].mean()\n",
    "s1a = round(s1a,1)\n",
    "float(s1a)"
   ]
  },
  {
   "cell_type": "markdown",
   "metadata": {},
   "source": [
    "- **`Повторяем то же самое для всех остальных комбинаций search_2—search_7 и advert_open.`**"
   ]
  },
  {
   "cell_type": "markdown",
   "metadata": {},
   "source": [
    "### Время между search_2 и advert_open (c целевым)"
   ]
  },
  {
   "cell_type": "code",
   "execution_count": null,
   "metadata": {},
   "outputs": [],
   "source": [
    "# делаем срез таблицы 'general_contacts_show' по сценариям, в которых есть действия \"search_2\" и \"advert_open\"\n",
    "search_2 = general_contacts_show[general_contacts_show['scenario'].str.contains(\"search_2\")]\n",
    "search_2_advert_open = search_2[search_2['scenario'].str.contains(\"advert_open\")]\n",
    "\n",
    "# смотрим какие остались уникальные сценарии, содержащие \"search_2\" и \"advert_open\"\n",
    "search_2_advert_open['scenario'].unique()\n",
    "\n",
    "# делаем срез таблицы \"search_1_advert_open\" по действиям \"search_2\" и \"advert_open\"\n",
    "search_2_advert_open_1= search_2_advert_open.query('event_name == \"search_2\" | event_name == \"advert_open\"')\n",
    "search_2_advert_open_1.reset_index(drop= True, inplace= True)\n",
    "\n",
    "# удаляем сценарий, в котором не соблюдена последовательность от \"search_2\" к \"advert_open\"\n",
    "search_2_advert_open_1 = search_2_advert_open_1.query('session_id != 9010')\n",
    "\n",
    "# выделяем первые по времени действия \"search_2\" и \"advert_open\" в каждой сессии\n",
    "time_s2a = search_2_advert_open_1.groupby(['user_id', 'session_id', 'event_name'])['event_time'].min().reset_index()\n",
    "\n",
    "# считаем время между первым действием \"search_2\" и первым действием \"advert_open\" для каждой сессии\n",
    "time_s2a['difference'] = abs(time_s2a.groupby(['user_id', 'session_id'])['event_time'].diff().dt.total_seconds().fillna(0)/60)\n",
    "time_s2a = time_s2a.query('difference != 0')\n",
    "s2a = time_s2a['difference'].mean()\n",
    "s2a = round(s2a,1)\n",
    "float(s2a)"
   ]
  },
  {
   "cell_type": "markdown",
   "metadata": {},
   "source": [
    "### Время между search_3 и advert_open (c целевым)"
   ]
  },
  {
   "cell_type": "code",
   "execution_count": null,
   "metadata": {},
   "outputs": [],
   "source": [
    "# делаем срез таблицы 'general_contacts_show' по сценариям, в которых есть действия \"search_3\" и \"advert_open\"\n",
    "search_3 = general_contacts_show[general_contacts_show['scenario'].str.contains(\"search_3\")]\n",
    "search_3_advert_open = search_3[search_3['scenario'].str.contains(\"advert_open\")]\n",
    "\n",
    "# смотрим какие остались уникальные сценарии, содержащие \"search_3\" и \"advert_open\"\n",
    "search_3_advert_open['scenario'].unique()\n",
    "\n",
    "# делаем срез таблицы \"search_3_advert_open\" по действиям \"search_3\" и \"advert_open\"\n",
    "search_3_advert_open_1= search_3_advert_open.query('event_name == \"search_3\" | event_name == \"advert_open\"')\n",
    "search_3_advert_open_1.reset_index(drop= True, inplace= True)\n",
    "\n",
    "# удаляем сценарий, в котором не соблюдена последовательность от \"search_3\" к \"advert_open\"\n",
    "search_3_advert_open_1 = search_3_advert_open_1.query('session_id != 5521 & session_id != 14775 & session_id != 3315 & session_id != 11043 & session_id != 12212 & session_id != 16119 & session_id != 12032 & session_id != 8422 & session_id != 5135 & session_id != 8754')\n",
    "\n",
    "# выделяем первые по времени действия \"search_3\" и \"advert_open\" в каждой сессии\n",
    "time_s3a = search_3_advert_open_1.groupby(['user_id', 'session_id', 'event_name'])['event_time'].min().reset_index()\n",
    "\n",
    "# считаем время между первым действием \"search_3\" и первым действием \"advert_open\" для каждой сессии\n",
    "time_s3a['difference'] = abs(time_s3a.groupby(['user_id', 'session_id'])['event_time'].diff().dt.total_seconds().fillna(0)/60)\n",
    "time_s3a = time_s3a.query('difference != 0')\n",
    "s3a = time_s3a['difference'].mean()\n",
    "s3a = round(s3a,1)\n",
    "float(s3a)"
   ]
  },
  {
   "cell_type": "markdown",
   "metadata": {},
   "source": [
    "### Время между search_4 и advert_open (c целевым)"
   ]
  },
  {
   "cell_type": "code",
   "execution_count": null,
   "metadata": {},
   "outputs": [],
   "source": [
    "# делаем срез таблицы 'general_contacts_show' по сценариям, в которых есть действия \"search_4\" и \"advert_open\"\n",
    "search_4 = general_contacts_show[general_contacts_show['scenario'].str.contains(\"search_4\")]\n",
    "search_4_advert_open = search_4[search_4['scenario'].str.contains(\"advert_open\")]\n",
    "\n",
    "# смотрим какие остались уникальные сценарии, содержащие \"search_4\" и \"advert_open\"\n",
    "search_4_advert_open['scenario'].unique()\n",
    "\n",
    "# делаем срез таблицы \"search_4_advert_open\" по действиям \"search_4\" и \"advert_open\"\n",
    "search_4_advert_open_1= search_4_advert_open.query('event_name == \"search_4\" | event_name == \"advert_open\"')\n",
    "search_4_advert_open_1.reset_index(drop= True, inplace= True)\n",
    "\n",
    "# удаляем сценарий, в котором не соблюдена последовательность от \"search_4\" к \"advert_open\"\n",
    "search_4_advert_open_1 = search_4_advert_open_1.query('session_id != 9010  & session_id != 4280')\n",
    "\n",
    "# выделяем первые по времени действия \"search_4\" и \"advert_open\" в каждой сессии\n",
    "time_s4a = search_4_advert_open_1.groupby(['user_id', 'session_id', 'event_name'])['event_time'].min().reset_index()\n",
    "\n",
    "# считаем время между первым действием \"search_4\" и первым действием \"advert_open\" для каждой сессии\n",
    "time_s4a['difference'] = abs(time_s4a.groupby(['user_id', 'session_id'])['event_time'].diff().dt.total_seconds().fillna(0)/60)\n",
    "time_s4a = time_s4a.query('difference != 0')\n",
    "s4a = time_s4a['difference'].mean()\n",
    "s4a = round(s4a,1)\n",
    "float(s4a)"
   ]
  },
  {
   "cell_type": "markdown",
   "metadata": {},
   "source": [
    "### Время между search_5 и advert_open (c целевым)"
   ]
  },
  {
   "cell_type": "code",
   "execution_count": null,
   "metadata": {},
   "outputs": [],
   "source": [
    "# делаем срез таблицы 'general_contacts_show' по сценариям, в которых есть действия \"search_5\" и \"advert_open\"\n",
    "search_5 = general_contacts_show[general_contacts_show['scenario'].str.contains(\"search_5\")]\n",
    "search_5_advert_open = search_5[search_5['scenario'].str.contains(\"advert_open\")]\n",
    "\n",
    "# смотрим какие остались уникальные сценарии, содержащие \"search_5\" и \"advert_open\"\n",
    "search_5_advert_open['scenario'].unique()\n",
    "\n",
    "# делаем срез таблицы \"search_5_advert_open\" по действиям \"search_5\" и \"advert_open\"\n",
    "search_5_advert_open_1= search_5_advert_open.query('event_name == \"search_5\" | event_name == \"advert_open\"')\n",
    "search_5_advert_open_1.reset_index(drop= True, inplace= True)\n",
    "\n",
    "# удаляем сценарий, в котором не соблюдена последовательность от \"search_5\" к \"advert_open\"\n",
    "search_5_advert_open_1 = search_5_advert_open_1.query('session_id != 9010  & session_id != 4280')\n",
    "\n",
    "# выделяем первые по времени действия \"search_5\" и \"advert_open\" в каждой сессии\n",
    "time_s5a = search_5_advert_open_1.groupby(['user_id', 'session_id', 'event_name'])['event_time'].min().reset_index()\n",
    "\n",
    "# считаем время между первым действием \"search_5\" и первым действием \"advert_open\" для каждой сессии\n",
    "time_s5a['difference'] = abs(time_s5a.groupby(['user_id', 'session_id'])['event_time'].diff().dt.total_seconds().fillna(0)/60)\n",
    "time_s5a = time_s5a.query('difference != 0')\n",
    "s5a = time_s5a['difference'].mean()\n",
    "s5a = round(s5a,1)\n",
    "float(s5a)"
   ]
  },
  {
   "cell_type": "markdown",
   "metadata": {},
   "source": [
    "### Время между search_6 и advert_open (c целевым)"
   ]
  },
  {
   "cell_type": "code",
   "execution_count": null,
   "metadata": {},
   "outputs": [],
   "source": [
    "# делаем срез таблицы 'general_contacts_show' по сценариям, в которых есть действия \"search_6\" и \"advert_open\"\n",
    "search_6 = general_contacts_show[general_contacts_show['scenario'].str.contains(\"search_6\")]\n",
    "search_6_advert_open = search_6[search_6['scenario'].str.contains(\"advert_open\")]\n",
    "\n",
    "# смотрим какие остались уникальные сценарии, содержащие \"search_6\" и \"advert_open\"\n",
    "search_6_advert_open['scenario'].unique()"
   ]
  },
  {
   "cell_type": "markdown",
   "metadata": {},
   "source": [
    "- **`Нет сценария, в котором была бы правильная последовательность действий от \"search_6\" к \"advert_open\".`**"
   ]
  },
  {
   "cell_type": "markdown",
   "metadata": {},
   "source": [
    "### Время между search_7 и advert_open (c целевым)"
   ]
  },
  {
   "cell_type": "code",
   "execution_count": null,
   "metadata": {},
   "outputs": [],
   "source": [
    "# делаем срез таблицы 'general_contacts_show' по сценариям, в которых есть действия \"search_7\" и \"advert_open\"\n",
    "search_7 = general_contacts_show[general_contacts_show['scenario'].str.contains(\"search_7\")]\n",
    "search_7_advert_open = search_7[search_7['scenario'].str.contains(\"advert_open\")]\n",
    "\n",
    "# смотрим какие остались уникальные сценарии, содержащие \"search_7\" и \"advert_open\"\n",
    "search_7_advert_open['scenario'].unique()\n",
    "\n",
    "# делаем срез таблицы \"search_7_advert_open\" по действиям \"search_7\" и \"advert_open\"\n",
    "search_7_advert_open_1= search_7_advert_open.query('event_name == \"search_7\" | event_name == \"advert_open\"')\n",
    "search_7_advert_open_1.reset_index(drop= True, inplace= True)\n",
    "\n",
    "# выделяем первые по времени действия \"search_7\" и \"advert_open\" в каждой сессии\n",
    "time_s7a = search_7_advert_open_1.groupby(['user_id', 'session_id', 'event_name'])['event_time'].min().reset_index()\n",
    "\n",
    "# считаем время между первым действием \"search_5\" и первым действием \"advert_open\" для каждой сессии\n",
    "time_s7a['difference'] = abs(time_s7a.groupby(['user_id', 'session_id'])['event_time'].diff().dt.total_seconds().fillna(0)/60)\n",
    "time_s7a = time_s7a.query('difference != 0')\n",
    "s7a = time_s7a['difference'].mean()\n",
    "s7a = round(s7a,1)\n",
    "float(s7a)"
   ]
  },
  {
   "cell_type": "code",
   "execution_count": null,
   "metadata": {},
   "outputs": [],
   "source": [
    "# создаём датафрейм с получившимися значениями\n",
    "df_7 = pd.DataFrame({'time_between': ['search_1 and advert_open', 'search_2 and advert_open', 'search_3 and advert_open', 'search_4 and advert_open', 'search_5 and advert_open', 'search_7 and advert_open'], 'mean_time': [s1a, s2a, s3a, s4a, s5a, s7a]})\n",
    "df_7 = df_7.sort_values('mean_time', ascending=False)\n",
    "df_7['goal'] = 'yes'\n",
    "df_7"
   ]
  },
  {
   "cell_type": "markdown",
   "metadata": {},
   "source": [
    "- **` У пользователей с целевым, самое большое средне время между search_1/search_7 и advert_open, самое маленькое средне время между search_3 и advert_open.`** "
   ]
  },
  {
   "cell_type": "markdown",
   "metadata": {},
   "source": [
    "## Время между search_1—search_7 и advert_open для пользователей, НЕ совершивших целевое действие"
   ]
  },
  {
   "cell_type": "markdown",
   "metadata": {},
   "source": [
    "### Время между search_1 и advert_open (без целевого)"
   ]
  },
  {
   "cell_type": "code",
   "execution_count": null,
   "metadata": {},
   "outputs": [],
   "source": [
    "# делаем срез таблицы 'general_not_contacts_show' по сценариям, в которых есть действия \"search_1\" и \"advert_open\"\n",
    "search_11 = general_not_contacts_show[general_not_contacts_show['scenario'].str.contains(\"search_1\")]\n",
    "search_11_advert_open = search_11[search_11['scenario'].str.contains(\"advert_open\")]\n",
    "\n",
    "# смотрим какие остались уникальные сценарии, содержащие \"search_1\" и \"advert_open\"\n",
    "search_11_advert_open['scenario'].unique()\n",
    "\n",
    "# делаем срез таблицы \"search_11_advert_open\" по действиям \"search_1\" и \"advert_open\"\n",
    "search_11_advert_open_1= search_11_advert_open.query('event_name == \"search_1\" | event_name == \"advert_open\"')\n",
    "search_11_advert_open_1.reset_index(drop= True, inplace= True)\n",
    "\n",
    "# удаляем сценарий, в котором не соблюдена последовательность от \"search_1\" к \"advert_open\"\n",
    "search_11_advert_open_1 = search_11_advert_open_1.query('session_id != 8744 & session_id != 14120 & session_id != 14139 & session_id != 14695 & session_id != 3536 & session_id != 1086 & session_id != 2141 & session_id != 2145 & session_id != 3525 & session_id != 8723 & session_id != 3720 & session_id != 4779')\n",
    "\n",
    "# выделяем первые по времени действия \"search_1\" и \"advert_open\" в каждой сессии\n",
    "time_s11a = search_11_advert_open_1.groupby(['user_id', 'session_id', 'event_name'])['event_time'].min().reset_index()\n",
    "\n",
    "# считаем время между первым действием \"search_1\" и первым действием \"advert_open\" для каждой сессии\n",
    "time_s11a['difference'] = abs(time_s11a.groupby(['user_id', 'session_id'])['event_time'].diff().dt.total_seconds().fillna(0)/60)\n",
    "time_s11a = time_s11a.query('difference != 0')\n",
    "s11a = time_s11a['difference'].mean()\n",
    "s11a = round(s11a,1)\n",
    "float(s11a)"
   ]
  },
  {
   "cell_type": "markdown",
   "metadata": {},
   "source": [
    "### Время между search_2 и advert_open (без целевого)"
   ]
  },
  {
   "cell_type": "code",
   "execution_count": null,
   "metadata": {},
   "outputs": [],
   "source": [
    "# делаем срез таблицы 'general_not_contacts_show' по сценариям, в которых есть действия \"search_2\" и \"advert_open\"\n",
    "search_22 = general_not_contacts_show[general_not_contacts_show['scenario'].str.contains(\"search_2\")]\n",
    "search_22_advert_open = search_22[search_22['scenario'].str.contains(\"advert_open\")]\n",
    "\n",
    "# смотрим какие остались уникальные сценарии, содержащие \"search_2\" и \"advert_open\"\n",
    "search_22_advert_open['scenario'].unique()\n",
    "\n",
    "# делаем срез таблицы \"search_22_advert_open\" по действиям \"search_2\" и \"advert_open\"\n",
    "search_22_advert_open_1= search_22_advert_open.query('event_name == \"search_2\" | event_name == \"advert_open\"')\n",
    "search_22_advert_open_1.reset_index(drop= True, inplace= True)\n",
    "\n",
    "# удаляем сценарий, в котором не соблюдена последовательность от \"search_2\" к \"advert_open\"\n",
    "search_22_advert_open_1 = search_22_advert_open_1.query('session_id != 14185 & session_id != 8753 & session_id != 8511 & session_id != 5716 & session_id != 8515 & session_id != 14828 & session_id != 2697')\n",
    "\n",
    "# выделяем первые по времени действия \"search_2\" и \"advert_open\" в каждой сессии\n",
    "time_s22a = search_22_advert_open_1.groupby(['user_id', 'session_id', 'event_name'])['event_time'].min().reset_index()\n",
    "\n",
    "# считаем время между первым действием \"search_2\" и первым действием \"advert_open\" для каждой сессии\n",
    "time_s22a['difference'] = abs(time_s22a.groupby(['user_id', 'session_id'])['event_time'].diff().dt.total_seconds().fillna(0)/60)\n",
    "time_s22a = time_s22a.query('difference != 0')\n",
    "s22a = time_s22a['difference'].mean()\n",
    "s22a = round(s22a,1)\n",
    "float(s22a)"
   ]
  },
  {
   "cell_type": "markdown",
   "metadata": {},
   "source": [
    "### Время между search_3 и advert_open (без целевого)"
   ]
  },
  {
   "cell_type": "markdown",
   "metadata": {},
   "source": [
    "- `Изменяем способ фильтрации в конце, поскольку в данном случае пришлось бы фильтровать неприлично много сценариев с неправильной последовательностью: advert_open идёт вперёд search_3.`"
   ]
  },
  {
   "cell_type": "code",
   "execution_count": null,
   "metadata": {},
   "outputs": [],
   "source": [
    "# делаем срез таблицы 'general_not_contacts_show' по сценариям, в которых есть действия \"search_3\" и \"advert_open\"\n",
    "search_33 = general_not_contacts_show[general_not_contacts_show['scenario'].str.contains(\"search_3\")]\n",
    "search_33_advert_open = search_33[search_33['scenario'].str.contains(\"advert_open\")]\n",
    "\n",
    "# смотрим какие остались уникальные сценарии, содержащие \"search_3\" и \"advert_open\"\n",
    "search_33_advert_open['scenario'].unique()\n",
    "\n",
    "# делаем срез таблицы \"search_33_advert_open\" по действиям \"search_3\" и \"advert_open\"\n",
    "search_33_advert_open_1= search_33_advert_open.query('event_name == \"search_3\" | event_name == \"advert_open\"')\n",
    "search_33_advert_open_1.reset_index(drop= True, inplace= True)\n",
    "\n",
    "# выделяем первые по времени действия \"search_3\" и \"advert_open\" в каждой сессии\n",
    "time_s33a = search_33_advert_open_1.groupby(['user_id', 'session_id', 'event_name'])['event_time'].min().reset_index()\n",
    "\n",
    "# считаем время между первым действием \"search_3\" и первым действием \"advert_open\" для каждой сессии\n",
    "time_s33a['difference'] = time_s33a.groupby(['user_id', 'session_id'])['event_time'].diff().dt.total_seconds().fillna(0)/60\n",
    "\n",
    "# фильтруем сценарии с неправильной последовательностью сессий при помощи удаления разницы во времени со знаком '+'\n",
    "time_s33a = time_s33a.query('difference < 0')\n",
    "s33a = abs(time_s33a['difference'].mean())\n",
    "s33a = round(s33a,1)\n",
    "float(s33a)"
   ]
  },
  {
   "cell_type": "markdown",
   "metadata": {},
   "source": [
    "### Время между search_4 и advert_open (без целевого)"
   ]
  },
  {
   "cell_type": "code",
   "execution_count": null,
   "metadata": {},
   "outputs": [],
   "source": [
    "# делаем срез таблицы 'general_not_contacts_show' по сценариям, в которых есть действия \"search_4\" и \"advert_open\"\n",
    "search_44 = general_not_contacts_show[general_not_contacts_show['scenario'].str.contains(\"search_4\")]\n",
    "search_44_advert_open = search_44[search_44['scenario'].str.contains(\"advert_open\")]\n",
    "\n",
    "# смотрим какие остались уникальные сценарии, содержащие \"search_4\" и \"advert_open\"\n",
    "search_44_advert_open['scenario'].unique()\n",
    "\n",
    "# делаем срез таблицы \"search_44_advert_open\" по действиям \"search_4\" и \"advert_open\"\n",
    "search_44_advert_open_1= search_44_advert_open.query('event_name == \"search_4\" | event_name == \"advert_open\"')\n",
    "search_44_advert_open_1.reset_index(drop= True, inplace= True)\n",
    "\n",
    "# выделяем первые по времени действия \"search_4\" и \"advert_open\" в каждой сессии\n",
    "time_s44a = search_44_advert_open_1.groupby(['user_id', 'session_id', 'event_name'])['event_time'].min().reset_index()\n",
    "\n",
    "# считаем время между первым действием \"search_4\" и первым действием \"advert_open\" для каждой сессии\n",
    "time_s44a['difference'] = time_s44a.groupby(['user_id', 'session_id'])['event_time'].diff().dt.total_seconds().fillna(0)/60\n",
    "\n",
    "# фильтруем сценарии с неправильной последовательностью сессий при помощи удаления разницы во времени со знаком '+'\n",
    "time_s44a = time_s44a.query('difference < 0')\n",
    "s44a = abs(time_s44a['difference'].mean())\n",
    "s44a = round(s44a,1)\n",
    "float(s44a)"
   ]
  },
  {
   "cell_type": "markdown",
   "metadata": {},
   "source": [
    "### Время между search_5 и advert_open (без целевого)"
   ]
  },
  {
   "cell_type": "code",
   "execution_count": null,
   "metadata": {},
   "outputs": [],
   "source": [
    "# делаем срез таблицы 'general_not_contacts_show' по сценариям, в которых есть действия \"search_5\" и \"advert_open\"\n",
    "search_55 = general_not_contacts_show[general_not_contacts_show['scenario'].str.contains(\"search_5\")]\n",
    "search_55_advert_open = search_55[search_55['scenario'].str.contains(\"advert_open\")]\n",
    "\n",
    "# смотрим какие остались уникальные сценарии, содержащие \"search_5\" и \"advert_open\"\n",
    "search_55_advert_open['scenario'].unique()\n",
    "\n",
    "# делаем срез таблицы \"search_55_advert_open\" по действиям \"search_5\" и \"advert_open\"\n",
    "search_55_advert_open_1= search_55_advert_open.query('event_name == \"search_5\" | event_name == \"advert_open\"')\n",
    "search_55_advert_open_1.reset_index(drop= True, inplace= True)\n",
    "\n",
    "# выделяем первые по времени действия \"search_5\" и \"advert_open\" в каждой сессии\n",
    "time_s55a = search_55_advert_open_1.groupby(['user_id', 'session_id', 'event_name'])['event_time'].min().reset_index()\n",
    "\n",
    "# считаем время между первым действием \"search_5\" и первым действием \"advert_open\" для каждой сессии\n",
    "time_s55a['difference'] = time_s55a.groupby(['user_id', 'session_id'])['event_time'].diff().dt.total_seconds().fillna(0)/60\n",
    "\n",
    "# фильтруем сценарии с неправильной последовательностью сессий при помощи удаления разницы во времени со знаком '+'\n",
    "time_s55a = time_s55a.query('difference < 0')\n",
    "s55a = abs(time_s55a['difference'].mean())\n",
    "s55a = round(s55a,1)\n",
    "float(s55a)"
   ]
  },
  {
   "cell_type": "markdown",
   "metadata": {},
   "source": [
    "### Время между search_6 и advert_open (без целевого)"
   ]
  },
  {
   "cell_type": "code",
   "execution_count": null,
   "metadata": {},
   "outputs": [],
   "source": [
    "# делаем срез таблицы 'general_not_contacts_show' по сценариям, в которых есть действия \"search_6\" и \"advert_open\"\n",
    "search_66 = general_not_contacts_show[general_not_contacts_show['scenario'].str.contains(\"search_6\")]\n",
    "search_66_advert_open = search_66[search_66['scenario'].str.contains(\"advert_open\")]\n",
    "\n",
    "# смотрим какие остались уникальные сценарии, содержащие \"search_6\" и \"advert_open\"\n",
    "search_66_advert_open['scenario'].unique()\n",
    "\n",
    "# делаем срез таблицы \"search_66_advert_open\" по действиям \"search_6\" и \"advert_open\"\n",
    "search_66_advert_open_1= search_66_advert_open.query('event_name == \"search_6\" | event_name == \"advert_open\"')\n",
    "search_66_advert_open_1.reset_index(drop= True, inplace= True)\n",
    "\n",
    "# выделяем первые по времени действия \"search_6\" и \"advert_open\" в каждой сессии\n",
    "time_s66a = search_66_advert_open_1.groupby(['user_id', 'session_id', 'event_name'])['event_time'].min().reset_index()\n",
    "\n",
    "# считаем время между первым действием \"search_6\" и первым действием \"advert_open\" для каждой сессии\n",
    "time_s66a['difference'] = time_s66a.groupby(['user_id', 'session_id'])['event_time'].diff().dt.total_seconds().fillna(0)/60\n",
    "\n",
    "# фильтруем сценарии с неправильной последовательностью сессий при помощи удаления разницы во времени со знаком '+'\n",
    "time_s66a = time_s66a.query('difference < 0')\n",
    "s66a = abs(time_s66a['difference'].mean())\n",
    "s66a = round(s66a,1)\n",
    "float(s66a)"
   ]
  },
  {
   "cell_type": "markdown",
   "metadata": {},
   "source": [
    "### Время между search_7 и advert_open (без целевого)"
   ]
  },
  {
   "cell_type": "code",
   "execution_count": null,
   "metadata": {},
   "outputs": [],
   "source": [
    "# делаем срез таблицы 'general_not_contacts_show' по сценариям, в которых есть действия \"search_7\" и \"advert_open\"\n",
    "search_77 = general_not_contacts_show[general_not_contacts_show['scenario'].str.contains(\"search_7\")]\n",
    "search_77_advert_open = search_77[search_77['scenario'].str.contains(\"advert_open\")]\n",
    "\n",
    "# смотрим какие остались уникальные сценарии, содержащие \"search_7\" и \"advert_open\"\n",
    "search_77_advert_open['scenario'].unique()\n",
    "\n",
    "# делаем срез таблицы \"search_77_advert_open\" по действиям \"search_7\" и \"advert_open\"\n",
    "search_77_advert_open_1= search_77_advert_open.query('event_name == \"search_7\" | event_name == \"advert_open\"')\n",
    "search_77_advert_open_1.reset_index(drop= True, inplace= True)\n",
    "\n",
    "# выделяем первые по времени действия \"search_7\" и \"advert_open\" в каждой сессии\n",
    "time_s77a = search_77_advert_open_1.groupby(['user_id', 'session_id', 'event_name'])['event_time'].min().reset_index()\n",
    "\n",
    "# считаем время между первым действием \"search_7\" и первым действием \"advert_open\" для каждой сессии\n",
    "time_s77a['difference'] = time_s77a.groupby(['user_id', 'session_id'])['event_time'].diff().dt.total_seconds().fillna(0)/60\n",
    "\n",
    "# фильтруем сценарии с неправильной последовательностью сессий при помощи удаления разницы во времени со знаком '+'\n",
    "time_s77a = time_s77a.query('difference < 0')\n",
    "s77a = abs(time_s77a['difference'].mean())\n",
    "s77a = round(s77a,1)\n",
    "float(s77a)"
   ]
  },
  {
   "cell_type": "code",
   "execution_count": null,
   "metadata": {},
   "outputs": [],
   "source": [
    "# создаём датафрейм с получившимися значениями\n",
    "df_8 = pd.DataFrame({'time_between': ['search_1 and advert_open', 'search_2 and advert_open', 'search_3 and advert_open', 'search_4 and advert_open', 'search_5 and advert_open', 'search_6 and advert_open', 'search_7 and advert_open'], 'mean_time': [s11a, s22a, s33a, s44a, s55a, s66a, s77a]})\n",
    "df_8 = df_8.sort_values('mean_time', ascending=False)\n",
    "df_8['goal'] = 'no'\n",
    "df_8"
   ]
  },
  {
   "cell_type": "markdown",
   "metadata": {},
   "source": [
    "- **` У пользователей без целевого, самое большое средне время между search_1/search_5 и advert_open, самое маленькое средне время так же между search_3 и advert_open.`** "
   ]
  },
  {
   "cell_type": "code",
   "execution_count": null,
   "metadata": {},
   "outputs": [],
   "source": [
    "# Объединим таблицы для пользователей с целевым и без целевого со средним временем между \"search_1-earch_7 и advert_open\" \n",
    "df_9 = pd.concat([df_7, df_8], axis=0)\n",
    "df_9.sort_values('mean_time', ascending=False)"
   ]
  },
  {
   "cell_type": "code",
   "execution_count": null,
   "metadata": {},
   "outputs": [],
   "source": [
    "# строим столбчатую диаграмму, отражающую соотношение среднего времени между \"search_1-earch_7 и advert_open\" для пользователей 2ух групп\n",
    "sns.set_style('white')\n",
    "plt.figure(figsize=(10, 6))\n",
    "\n",
    "sns.barplot(x = 'mean_time',  y='time_between', data=df_9,  hue='goal')\n",
    "# plt.title('Соотношение среднего времени между \"search_1-search_7 и advert_open\" для пользователей 2ух групп')\n",
    "plt.xlabel('Среднее время между действиями, мин')\n",
    "plt.ylabel('')\n",
    "plt.legend(loc='lower right', fontsize=10)\n",
    "plt.show()"
   ]
  },
  {
   "cell_type": "markdown",
   "metadata": {},
   "source": [
    "- **`Можно заметить, что пользователи с целевым тратят примерно в 2 раза больше времени на переход между search_1/search_7 и advert_open, чем пользователи без целевого. По сути, это время скролинга страницы объявлений до нахождения понравившегося объявления и открытия его. Т.е. чем дольше пользователи скролят, тем выше их заинтересованность найти нужное объявление. Значит search_1 и search_7 поисковые системы наиболее востребованы.`** \n",
    "\n",
    "\n",
    "- **`В свою очередь, пользователи без целевого тратят примерно в 2 раза больше времени на переход между search_5 и advert_open, чем пользователи с целевым. Они тратят много времени на скролинг и в итоге всё равно не совершают целевое. Возможно, search_5 - самый неэффективный поисковой запрос и при этом популярный относительно остальных.`**"
   ]
  },
  {
   "cell_type": "markdown",
   "metadata": {},
   "source": [
    "## Проверка статистических гипотез"
   ]
  },
  {
   "cell_type": "markdown",
   "metadata": {},
   "source": [
    "### Одни пользователи совершают действия tips_show и tips_click, другие — только tips_show. Проверяем гипотезу: конверсия в просмотры контактов различается у этих двух групп."
   ]
  },
  {
   "cell_type": "code",
   "execution_count": null,
   "metadata": {},
   "outputs": [],
   "source": [
    "# выделим уникальных пользователей, совершивших действие \"tips_show\"\n",
    "tips_show_common = common.query('event_name ==\"tips_show\"')['user_id'].unique().tolist()\n",
    "len(tips_show_common)"
   ]
  },
  {
   "cell_type": "code",
   "execution_count": null,
   "metadata": {},
   "outputs": [],
   "source": [
    "# выделим уникальных пользователей, совершивших действия \"tips_click\" и \"tips_show\"\n",
    "tips_show_tips_click = common.query('user_id == @tips_show_common & event_name ==\"tips_click\"')['user_id'].unique().tolist()\n",
    "tips_show_tips_click_1 = len(tips_show_tips_click)\n",
    "tips_show_tips_click_1"
   ]
  },
  {
   "cell_type": "code",
   "execution_count": null,
   "metadata": {},
   "outputs": [],
   "source": [
    "# выделим уникальных пользователей совершивших \"contacts_show\" среди пользователей, совершивших действия \"tips_click\" и \"tips_show\" \n",
    "tips_show_tips_click_goal = common.query('user_id == @tips_show_tips_click & event_name ==\"contacts_show\"')['user_id'].unique().tolist()\n",
    "tips_show_tips_click_goal_1 = len(tips_show_tips_click_goal)\n",
    "tips_show_tips_click_goal_1"
   ]
  },
  {
   "cell_type": "code",
   "execution_count": null,
   "metadata": {},
   "outputs": [],
   "source": [
    "# выделим уникальных пользователей, совершивших только действие \"tips_show\"\n",
    "tips_show = list(set(tips_show_common) - set(tips_show_tips_click))\n",
    "tips_show_1 = len(tips_show)\n",
    "tips_show_1"
   ]
  },
  {
   "cell_type": "code",
   "execution_count": null,
   "metadata": {},
   "outputs": [],
   "source": [
    "# выделим уникальных пользователей совершивших \"contacts_show\" среди пользователей, совершивших только действие \"tips_show\" \n",
    "tips_show_goal = common.query('user_id == @tips_show & event_name ==\"contacts_show\"')['user_id'].unique().tolist()\n",
    "tips_show_goal_1 = len(tips_show_goal)\n",
    "tips_show_goal_1"
   ]
  },
  {
   "cell_type": "code",
   "execution_count": null,
   "metadata": {},
   "outputs": [],
   "source": [
    "x_1 = tips_show_tips_click_goal_1/tips_show_tips_click_1 *100 \n",
    "x_1 = round(x_1, 1)\n",
    "x_1\n",
    "#print(f'Конверсия в просмотры контактов пользователей, совершивших \"tips_show\" и \"tips_click\" = {round(x_1, 1)}%')"
   ]
  },
  {
   "cell_type": "code",
   "execution_count": null,
   "metadata": {},
   "outputs": [],
   "source": [
    "x_2 = tips_show_goal_1/tips_show_1 *100\n",
    "x_2 = round(x_2, 1)\n",
    "#print(f'Конверсия в просмотры контактов пользователей, совершивших только \"tips_show\" = {round(x_2, 1)}%')"
   ]
  },
  {
   "cell_type": "code",
   "execution_count": null,
   "metadata": {},
   "outputs": [],
   "source": [
    "# создаём датафрейм с получившимися значениями\n",
    "df_11 = pd.DataFrame({'Действия': ['\"tips_show\" и \"tips_click\"', '\"tips_show\"'], 'Конверсия в просмотры контактов пользователей, %': [x_1, x_2]})\n",
    "df_11"
   ]
  },
  {
   "cell_type": "code",
   "execution_count": null,
   "metadata": {},
   "outputs": [],
   "source": [
    "# Строим столбчатую диаграмму \n",
    "\n",
    "plt.figure(figsize=(15, 5))\n",
    "\n",
    "sns.barplot(x='Конверсия в просмотры контактов пользователей, %', y= 'Действия', data=df_11, color = 'gray')\n",
    "\n",
    "\n",
    "\n",
    "\n",
    "#plt.title('Соотноешние кол-ва действий в процентном соотношении у 2ух групп')\n",
    "plt.xlabel('Конверсия пользователей в совершение “contacts_show“, %') \n",
    "plt.ylabel('')\n",
    "\n",
    "plt.xticks([0, 5, 10, 15, 20, 25, 30, 35])\n",
    "plt.show()"
   ]
  },
  {
   "cell_type": "markdown",
   "metadata": {},
   "source": [
    "- **Различие в конверсии в просмотры контактов для совершивших \"tips_show\" и \"tips_click\" и только \"tips_show\" достаточно большое - 30,6% и 17,0%.**\n",
    "\n",
    "\n",
    "- **Пользователи, увидевшие и кликнувшие по рекомендованному объявлению (\"tips_show\" и \"tips_click\") почти в 2 раза чаще доходят до целевого действия чем пользователи, только увидевшие рекомендованное объявление (\"tips_show\"). У последних на конверсию в просмотры контактов могут влиять другие факторы.**"
   ]
  },
  {
   "cell_type": "markdown",
   "metadata": {},
   "source": [
    "**`Применим подход:`** проверка гипотезы о равенстве долей.\n",
    "\n",
    "**`Гипотеза H0:`** \"Нет статистически значимых различий в конверсии в просмотры контактов у двух групп пользователей: совершивших действия tips_show + tips_click и совершивших только tips_show.\"\n",
    "\n",
    "**`Гипотеза H1:`** \"Есть статистически значимые различия.\"\n",
    "\n",
    "**`За уровень стат. значимости примем:`** alpha = 0.05. "
   ]
  },
  {
   "cell_type": "code",
   "execution_count": null,
   "metadata": {},
   "outputs": [],
   "source": [
    "alpha = .05 # критический уровень статистической значимости\n",
    "\n",
    "successes = np.array([tips_show_tips_click_goal_1, tips_show_goal_1])\n",
    "trials = np.array([tips_show_tips_click_1, tips_show_1])\n",
    "\n",
    "# пропорция успехов в первой группе:\n",
    "p1 = successes[0]/trials[0]\n",
    "\n",
    "# пропорция успехов во второй группе:\n",
    "p2 = successes[1]/trials[1]\n",
    "\n",
    "# пропорция успехов в комбинированном датасете:\n",
    "p_combined = (successes[0] + successes[1]) / (trials[0] + trials[1])\n",
    "\n",
    "# разница пропорций в датасетах\n",
    "difference = p1 - p2 \n",
    "\n",
    "# считаем статистику в ст.отклонениях стандартного нормального распределения\n",
    "z_value = difference / mth.sqrt(p_combined * (1 - p_combined) * (1/trials[0] + 1/trials[1]))\n",
    "\n",
    "# задаем стандартное нормальное распределение (среднее 0, ст.отклонение 1)\n",
    "distr = st.norm(0, 1)  \n",
    "\n",
    "p_value = (1 - distr.cdf(abs(z_value))) * 2\n",
    "\n",
    "print('p-значение: ', p_value)\n",
    "\n",
    "if p_value < alpha:\n",
    "    print('Отвергаем нулевую гипотезу: между долями есть значимая разница')\n",
    "else:\n",
    "    print(\n",
    "        'Не получилось отвергнуть нулевую гипотезу, нет оснований считать доли разными'\n",
    "    )"
   ]
  },
  {
   "cell_type": "markdown",
   "metadata": {},
   "source": [
    "- **Результаты проверки гипотезы о равенстве долей показали статистически значимые различия между 2мя группами. Большая разница пропорций при указанных размерах выборок.**"
   ]
  },
  {
   "cell_type": "markdown",
   "metadata": {},
   "source": [
    "### Одни пользователи совершают действия advert_open и favorites_add, другие — только advert_open. Проверьте гипотезу: конверсия в просмотры контактов различается у этих двух групп."
   ]
  },
  {
   "cell_type": "code",
   "execution_count": null,
   "metadata": {},
   "outputs": [],
   "source": [
    "# выделим уникальных пользователей, совершивших действие \"advert_open\"\n",
    "advert_open_common = common.query('event_name ==\"advert_open\"')['user_id'].unique().tolist()\n",
    "len(advert_open_common)"
   ]
  },
  {
   "cell_type": "code",
   "execution_count": null,
   "metadata": {},
   "outputs": [],
   "source": [
    "# выделим уникальных пользователей, совершивших действия \"advert_open\" и \"favorites_add\"\n",
    "advert_open_favorites_add = common.query('user_id == @advert_open_common & event_name ==\"favorites_add\"')['user_id'].unique().tolist()\n",
    "advert_open_favorites_add_1 = len(advert_open_favorites_add)\n",
    "advert_open_favorites_add_1"
   ]
  },
  {
   "cell_type": "code",
   "execution_count": null,
   "metadata": {},
   "outputs": [],
   "source": [
    "# выделим уникальных пользователей совершивших \"contacts_show\" среди пользователей, совершивших действия \"advert_open\" и \"favorites_add\" \n",
    "advert_open_favorites_add_goal = common.query('user_id == @advert_open_favorites_add & event_name ==\"contacts_show\"')['user_id'].unique().tolist()\n",
    "advert_open_favorites_add_goal_1 = len(advert_open_favorites_add_goal)\n",
    "advert_open_favorites_add_goal_1"
   ]
  },
  {
   "cell_type": "code",
   "execution_count": null,
   "metadata": {},
   "outputs": [],
   "source": [
    "# выделим уникальных пользователей, совершивших только действие \"advert_open\"\n",
    "advert_open = list(set(advert_open_common) - set(advert_open_favorites_add))\n",
    "advert_open_1 = len(advert_open)\n",
    "advert_open_1"
   ]
  },
  {
   "cell_type": "code",
   "execution_count": null,
   "metadata": {},
   "outputs": [],
   "source": [
    "# выделим уникальных пользователей совершивших \"contacts_show\" среди пользователей, совершивших только действие \"advert_open\" \n",
    "advert_open_goal = common.query('user_id == @advert_open & event_name ==\"contacts_show\"')['user_id'].unique().tolist()\n",
    "advert_open_goal_1 = len(advert_open_goal)\n",
    "advert_open_goal_1"
   ]
  },
  {
   "cell_type": "code",
   "execution_count": null,
   "metadata": {},
   "outputs": [],
   "source": [
    "x_3 = advert_open_favorites_add_goal_1/advert_open_favorites_add_1 *100 \n",
    "x_3 = round(x_3, 1)\n",
    "\n",
    "#print(f'Конверсия в просмотры контактов пользователей, совершивших \"advert_open\" и \"favorites_add\" = {round(advert_open_favorites_add_goal_1/advert_open_favorites_add_1 *100, 1)}%')#"
   ]
  },
  {
   "cell_type": "code",
   "execution_count": null,
   "metadata": {},
   "outputs": [],
   "source": [
    "x_4 = advert_open_goal_1/advert_open_1 *100\n",
    "x_4 = round(x_4, 1)\n",
    "\n",
    "#print(f'Конверсия в просмотры контактов пользователей, совершивших только \"advert_open\" = {round(advert_open_goal_1/advert_open_1 *100, 1)}%')"
   ]
  },
  {
   "cell_type": "code",
   "execution_count": null,
   "metadata": {},
   "outputs": [],
   "source": [
    "# создаём датафрейм с получившимися значениями\n",
    "df_12 = pd.DataFrame({'Действия': ['\"advert_open\" и \"favorites_add\"', '\"advert_open\"'], 'Конверсия в просмотры контактов пользователей, %': [x_3, x_4]})\n",
    "df_12"
   ]
  },
  {
   "cell_type": "code",
   "execution_count": null,
   "metadata": {},
   "outputs": [],
   "source": [
    "# Строим столбчатую диаграмму \n",
    "\n",
    "plt.figure(figsize=(15, 5))\n",
    "\n",
    "sns.barplot(x='Конверсия в просмотры контактов пользователей, %', y= 'Действия', data=df_12, color = \"wheat\")\n",
    "\n",
    "\n",
    "\n",
    "\n",
    "#plt.title('Соотноешние кол-ва действий в процентном соотношении у 2ух групп')\n",
    "plt.xlabel('Конверсия пользователей в совершение “contacts_show“, %') \n",
    "plt.ylabel('')\n",
    "\n",
    "plt.xticks([0, 5, 10, 15, 20, 25, 30, 35, 40, 45, 50])\n",
    "plt.show()"
   ]
  },
  {
   "cell_type": "markdown",
   "metadata": {},
   "source": [
    "- **Различие в конверсии в просмотры контактов для совершивших \"advert_open\" и \"favorites_add\" и только \"advert_open\" очень большое - 48.3% и 12.7%.**\n",
    "\n",
    "\n",
    "- **Пользователи, открывшие карточки объявления и добавившие объявление в избранное (\"advert_open\" и \"favorites_add\") почти в 4 раза чаще доходят до целевого действия чем пользователи, только открывшие карточки объявления. Переход объявления в категорию \"избранное\" сильно повышает шансы на покупку товара.**"
   ]
  },
  {
   "cell_type": "markdown",
   "metadata": {},
   "source": [
    "**`Применим подход:`** проверка гипотезы о равенстве долей.\n",
    "\n",
    "**`Гипотеза H0:`** \"Нет статистически значимых различий в конверсии в просмотры контактов у двух групп пользователей: совершивших действия advert_open + favorites_add и совершивших только advert_open.\"\n",
    "\n",
    "**`Гипотеза H1:`** \"Есть статистически значимые различия.\"\n",
    "\n",
    "**`За уровень стат. значимости примем:`** alpha = 0.05. "
   ]
  },
  {
   "cell_type": "code",
   "execution_count": null,
   "metadata": {},
   "outputs": [],
   "source": [
    "alpha = .05 # критический уровень статистической значимости\n",
    "\n",
    "successes = np.array([advert_open_favorites_add_goal_1, advert_open_goal_1])\n",
    "trials = np.array([advert_open_favorites_add_1, advert_open_1])\n",
    "\n",
    "# пропорция успехов в первой группе:\n",
    "p1 = successes[0]/trials[0]\n",
    "\n",
    "# пропорция успехов во второй группе:\n",
    "p2 = successes[1]/trials[1]\n",
    "\n",
    "# пропорция успехов в комбинированном датасете:\n",
    "p_combined = (successes[0] + successes[1]) / (trials[0] + trials[1])\n",
    "\n",
    "# разница пропорций в датасетах\n",
    "difference = p1 - p2 \n",
    "\n",
    "# считаем статистику в ст.отклонениях стандартного нормального распределения\n",
    "z_value = difference / mth.sqrt(p_combined * (1 - p_combined) * (1/trials[0] + 1/trials[1]))\n",
    "\n",
    "# задаем стандартное нормальное распределение (среднее 0, ст.отклонение 1)\n",
    "distr = st.norm(0, 1)  \n",
    "\n",
    "p_value = (1 - distr.cdf(abs(z_value))) * 2\n",
    "\n",
    "print('p-значение: ', p_value)\n",
    "\n",
    "if p_value < alpha:\n",
    "    print('Отвергаем нулевую гипотезу: между долями есть значимая разница')\n",
    "else:\n",
    "    print(\n",
    "        'Не получилось отвергнуть нулевую гипотезу, нет оснований считать доли разными'\n",
    "    )"
   ]
  },
  {
   "cell_type": "markdown",
   "metadata": {},
   "source": [
    "- **Результаты проверки гипотезы о равенстве долей показали статистически значимые различия между 2мя группами. Большая разница пропорций при указанных размерах выборок.**"
   ]
  },
  {
   "cell_type": "markdown",
   "metadata": {},
   "source": [
    "# Выводы"
   ]
  },
  {
   "cell_type": "markdown",
   "metadata": {},
   "source": [
    "**Что мы знаем о данных в целом:**\n",
    "\n",
    "- Количество уникальных пользователей - 4293;\n",
    "- Представлены данные за период с 2019-10-07 00:00:00 по 2019-11-03 23:58:12. В сумме почти 28 дней;\n",
    "- Источник большинства пользователей - \"yandex\", затем \"other\" и \"google\";\n",
    "- За туйм-аут приняли 5 минут;\n",
    "- Всего сессий 16366;\n",
    "- Всего действий совершено в приложении - 74197;\n",
    "- 2288 сессий с целевым действием;\n",
    "- 14078 сессий без целевого действия;\n",
    "- Конверсия уник. пользователей в совершение целевого действия : 22.9%;\n",
    "- У большинства пользователей обеих групп сессия длится не более 30 минут.\n",
    "\n",
    "**Пользователи, совершавшие целевое:**\n",
    "\n",
    "- Чаще всего пользователи делали 2 дейтсвия за сессию. Следом идут пользователи с 1 и 3 действия за сессию;\n",
    "- При длительности сессий > 0 минут, `среднее число действий за сессию` - 14.1;\n",
    "- 16.8% сессий длятся 0 минут;\n",
    "- 25.4% процентов уник. пользователей сразу переходят к целевому действию (1 действие за сессию). Возможно, по сторонней ссылке;\n",
    "- `Средняя длительность сессии` - 13-14 минут (даже без учёта сессий длительностью 0 минут).\n",
    "\n",
    "\n",
    "**Пользователи, НЕ совершавшие целевое:**\n",
    "\n",
    "- Чаще всего пользователи совершали 1 действие за сессию;\n",
    "- При длительности сессий > 0 минут, `среднее число действий за сессию` -  13.7;  \n",
    "- Только 5.7% пользователей зашли в приложение, сделали одно действие и больше не заходили в приложение;\n",
    "- При этом 47.9% уник. пользователей хоть однажды да совершали действия длит. 0 минут т.е. в 1 действие;\n",
    "- 34.4% сессий длятся 0 минут;\n",
    "- `Средняя длительность сессии` - 12-13 минут (даже без учёта сессий длительностью 0 минут);\n",
    "- По всей видимости, пользователи чаще завершают сессию сделав всего 1 действие: \"tips_show\" или \"photos_show\", или \"search_1\", или \"map\".\n",
    "- Большинство пользователей длительность сессий у которых > 0, видят много рекомендованых объявлений подряд и не кликают по ним (сценарий \"tips_show\"), зависают на просмотре фотографий (сценарий \"photos_show\") или совершают подряд несколько поисковых запросов \"search_1\" и не находят подходящий товар (сценарии \"search_1\"/\"search_1, photos_show\").\n",
    "\n",
    "\n",
    "**Общее для 2ух групп:**\n",
    "\n",
    "- Пользователи 2ух групп преимущественно совершают одинаковые действия. Топ популярных: \"tips_show\", \"photos_show\", \"map\", \"search_1\" и \"advert_open\". \n",
    "\n",
    "\n",
    "- Самые непопулярные действия у обоих групп: \"search_2 - search_7\" и \"tips_click\". `Поисковые запросы \"search_2 - search_7\" могут быть не эффектины, а функция \"tips_click\" - клик по рекомендованному объявлению - не востребована. Нельзя сказать, что c рекомендованным объявлениями \"tips_show\" что-то не так и поэтому \"tips_click\" редко происходит. Потому что действие \"tips_show\" самое популярное, как и сценарий \"tips_show\", contacts_show\".`\n",
    "\n",
    "\n",
    "- В относительных величинах, пользователи БЕЗ целевого примерно в 2 раза чаще совершают действия \"photos_show\", \"search_1\", \"map\", \"favorites_add\" и в 3 раза чаще \"advert_open\", чем пользователи совершившие целевое. `Причины могут быть разные, но коль уже это самый популярный функционал приложения, то над ним нужно поработать. Например, изменить требования к качеству/кол-ву фотографий, настроить поисковой запрос search_1 (сделать более удобным и эффективным), понять нужна ли вообще функция  \"advert_open\" (судя по всему многим достаточно увидеть рекомендованое объявление и посмотреть фото для перехода на целевое). И, конечно, продолжать делать ставку на рекомендацию объявлений \"tips_show\".`\n",
    "\n",
    "\n",
    "- По рекомендованному объявлению 'tips_show' 18% пользователей переходят в просмотр контактов.\n",
    "\n",
    "\n",
    "- C карты объявлений 'map'  - 20% пользователей переходят в просмотр контактов.\n",
    "\n",
    "\n",
    "- Последовательность действий перед целевым 'tips_show, map' доводит до целевого действия 10% пользователей.\n",
    "\n",
    "\n",
    "- Много пользователей теряется при переходе с действия 'tips_show' на 'map'. Рекомендательная система, конечно, может \"не знать\" какой район удобен пользователю.\n",
    "\n",
    "\n",
    "- Последовательность действий перед целевым 'map, tips_show' доводит до целевого действия 19% пользователей.\n",
    "\n",
    "\n",
    "- Если пользователи открыли сначала 'map', а потом увидели 'tips_show', то до целевого доходят в 2 раза больше пользователей сравнительно с обратной послед. действий перед целевым 'tips_show, map'. `Возможно, рекомендательная система подстраивается под интересующие области карты, когда карта уже открыта. Это значит, что рекомендательная система достаточно важна для приложения.`\n",
    "\n",
    "\n",
    "- После просмотра фотографий 31% пользователей переходят в просмотр контактов. `Это говорит о том, что большее кол-во фотографий повышает конверсию.`\n",
    "\n",
    "\n",
    "- Поиск \"search_1\" доводит 30% пользователей до целевого. `\"search_1\" - отличный поисковой запрос.`\n",
    "\n",
    "\n",
    "- Замечено, что пользователи с целевым тратят примерно в 2 раза больше времени на переход между search_1/search_7 и advert_open, чем пользователи без целевого. `По сути, это время скролинга страницы объявлений до нахождения понравившегося объявления и открытия его. Т.е. чем дольше пользователи скролят, тем выше их заинтересованность найти нужное объявление. Значит search_1 и search_7 поисковые системы наиболее востребованы.`\n",
    "\n",
    "\n",
    "- В свою очередь, пользователи без целевого тратят примерно в 2 раза больше времени на переход между search_5 и advert_open, чем пользователи с целевым. `Они тратят много времени на скролинг и в итоге всё равно не совершают целевое. Возможно, search_5 - самый неэффективный поисковой запрос и при этом популярный относительно остальных.`\n",
    "\n",
    "\n",
    "- Различие в конверсии в просмотры контактов для совершивших \"tips_show\" и \"tips_click\" и только \"tips_show\" достаточно большое - 30,6% и 17,0%. `Пользователи, увидевшие и кликнувшие по рекомендованному объявлению (\"tips_show\" и \"tips_click\") почти в 2 раза чаще доходят до целевого действия чем пользователи, только увидевшие рекомендованное объявление. У последних на конверсию в просмотры контактов могут влиять другие факторы.**\n",
    "\n",
    "\n",
    "- Различие в конверсии в просмотры контактов для совершивших \"advert_open\" и \"favorites_add\" и только \"advert_open\" очень большое - 48.3% и 12.7%. `Пользователи, открывшие карточки объявления и добавившие объявление в избранное (\"advert_open\" и \"favorites_add\") почти в 4 раза чаще доходят до целевого действия чем пользователи, только открывшие карточки объявления. Переход объявления в категорию \"избранное\" сильно повышает шансы на покупку товара.`\n",
    "\n",
    "**Рекомендации:**\n",
    "\n",
    "- Развивать популярный функционал: \"tips_show\", \"photos_show\", \"map\", \"search_1\" и \"advert_open\". Например, изменить требования к качеству/кол-ву фотографий, настроить поисковой запрос search_1 (сделать более удобным и эффективным), следить за актуальностью функции \"advert_open\" (судя по всему, многим достаточно увидеть рекомендованое объявление и посмотреть фото для перехода на целевое). И, конечно, продолжать делать ставку на рекомендацию объявлений \"tips_show\". Так же развивать востребованную поисковую систему \"search_7\".\n",
    "\n",
    "\n",
    "- Рассмотреть целесообразность \"search_2 - search_6\" и \"tips_click\" т.к. они малоэффективны и не очень востребованы. \n",
    "\n",
    "\n",
    "- Возможно, search_5 - самый неэффективный поисковой запрос и при этом популярный относительно остальных.\n",
    "\n",
    "\n",
    "- Поскольку клики на рекомендованное объявление \"tips_click\" и добавление карточек объявлений в избранное \"favorites_add\" сильно повышают конверсию в целевое дейтсвие, нужно стимулировать пользователей использовать этот функционал."
   ]
  }
 ],
 "metadata": {
  "ExecuteTimeLog": [
   {
    "duration": 175,
    "start_time": "2023-05-11T11:26:28.911Z"
   },
   {
    "duration": 61,
    "start_time": "2023-05-11T11:26:46.552Z"
   },
   {
    "duration": 2272,
    "start_time": "2023-05-11T11:26:57.968Z"
   },
   {
    "duration": 252,
    "start_time": "2023-05-11T11:27:00.243Z"
   },
   {
    "duration": 221,
    "start_time": "2023-05-11T11:27:17.600Z"
   },
   {
    "duration": 6,
    "start_time": "2023-05-11T11:27:29.229Z"
   },
   {
    "duration": 64,
    "start_time": "2023-05-11T11:27:34.649Z"
   },
   {
    "duration": 24,
    "start_time": "2023-05-11T11:27:43.626Z"
   },
   {
    "duration": 15,
    "start_time": "2023-05-11T11:28:08.399Z"
   },
   {
    "duration": 9,
    "start_time": "2023-05-11T11:28:17.068Z"
   },
   {
    "duration": 165,
    "start_time": "2023-05-11T11:28:31.759Z"
   },
   {
    "duration": 40,
    "start_time": "2023-05-11T11:29:01.250Z"
   },
   {
    "duration": 84,
    "start_time": "2023-05-11T11:29:27.723Z"
   },
   {
    "duration": 4,
    "start_time": "2023-05-11T11:29:37.937Z"
   },
   {
    "duration": 14,
    "start_time": "2023-05-11T11:29:45.731Z"
   },
   {
    "duration": 8,
    "start_time": "2023-05-11T11:29:52.454Z"
   },
   {
    "duration": 76,
    "start_time": "2023-05-11T11:29:58.366Z"
   },
   {
    "duration": 24,
    "start_time": "2023-05-11T11:30:05.128Z"
   },
   {
    "duration": 42,
    "start_time": "2023-05-11T11:30:24.780Z"
   },
   {
    "duration": 17,
    "start_time": "2023-05-11T11:30:31.621Z"
   },
   {
    "duration": 4,
    "start_time": "2023-05-11T11:33:50.514Z"
   },
   {
    "duration": 872,
    "start_time": "2023-05-11T11:34:53.248Z"
   },
   {
    "duration": 872,
    "start_time": "2023-05-11T11:35:13.928Z"
   },
   {
    "duration": 7,
    "start_time": "2023-05-11T11:35:20.531Z"
   },
   {
    "duration": 856,
    "start_time": "2023-05-11T11:35:38.988Z"
   },
   {
    "duration": 61,
    "start_time": "2023-05-11T11:36:00.204Z"
   },
   {
    "duration": 957,
    "start_time": "2023-05-11T11:36:08.694Z"
   },
   {
    "duration": 36,
    "start_time": "2023-05-11T11:36:15.952Z"
   },
   {
    "duration": 18,
    "start_time": "2023-05-11T11:36:23.229Z"
   },
   {
    "duration": 26,
    "start_time": "2023-05-11T11:36:31.134Z"
   },
   {
    "duration": 34,
    "start_time": "2023-05-11T11:36:43.878Z"
   },
   {
    "duration": 27,
    "start_time": "2023-05-11T11:36:51.848Z"
   },
   {
    "duration": 12,
    "start_time": "2023-05-11T11:36:59.811Z"
   },
   {
    "duration": 15,
    "start_time": "2023-05-11T11:38:26.400Z"
   },
   {
    "duration": 35,
    "start_time": "2023-05-11T11:48:25.224Z"
   },
   {
    "duration": 50,
    "start_time": "2023-05-11T11:48:39.012Z"
   },
   {
    "duration": 65,
    "start_time": "2023-05-11T11:48:58.025Z"
   },
   {
    "duration": 24,
    "start_time": "2023-05-11T11:52:32.937Z"
   },
   {
    "duration": 14,
    "start_time": "2023-05-11T11:54:34.873Z"
   },
   {
    "duration": 40,
    "start_time": "2023-05-11T11:55:10.291Z"
   },
   {
    "duration": 21,
    "start_time": "2023-05-11T11:55:18.996Z"
   },
   {
    "duration": 15,
    "start_time": "2023-05-11T11:56:31.269Z"
   },
   {
    "duration": 16,
    "start_time": "2023-05-11T11:57:28.434Z"
   },
   {
    "duration": 18,
    "start_time": "2023-05-11T12:02:25.629Z"
   },
   {
    "duration": 26,
    "start_time": "2023-05-11T12:23:22.791Z"
   },
   {
    "duration": 14,
    "start_time": "2023-05-11T12:23:45.024Z"
   },
   {
    "duration": 11,
    "start_time": "2023-05-11T12:23:56.960Z"
   },
   {
    "duration": 54,
    "start_time": "2023-05-11T12:47:14.992Z"
   },
   {
    "duration": 16,
    "start_time": "2023-05-11T12:48:14.714Z"
   },
   {
    "duration": 13,
    "start_time": "2023-05-11T12:48:18.318Z"
   },
   {
    "duration": 281,
    "start_time": "2023-05-11T12:48:49.847Z"
   },
   {
    "duration": 13,
    "start_time": "2023-05-11T12:50:31.624Z"
   },
   {
    "duration": 11,
    "start_time": "2023-05-11T12:50:59.817Z"
   },
   {
    "duration": 19,
    "start_time": "2023-05-11T12:54:16.776Z"
   },
   {
    "duration": 23,
    "start_time": "2023-05-11T12:55:14.257Z"
   },
   {
    "duration": 9,
    "start_time": "2023-05-11T12:55:48.138Z"
   },
   {
    "duration": 14,
    "start_time": "2023-05-11T12:56:38.780Z"
   },
   {
    "duration": 202,
    "start_time": "2023-05-11T13:00:28.918Z"
   },
   {
    "duration": 96,
    "start_time": "2023-05-11T13:02:07.482Z"
   },
   {
    "duration": 212,
    "start_time": "2023-05-11T13:02:21.079Z"
   },
   {
    "duration": 10,
    "start_time": "2023-05-11T13:02:55.794Z"
   },
   {
    "duration": 183,
    "start_time": "2023-05-11T13:03:20.904Z"
   },
   {
    "duration": 53,
    "start_time": "2023-05-11T13:03:52.489Z"
   },
   {
    "duration": 25,
    "start_time": "2023-05-11T13:04:03.285Z"
   },
   {
    "duration": 133,
    "start_time": "2023-05-11T13:04:53.582Z"
   },
   {
    "duration": 19,
    "start_time": "2023-05-11T13:05:38.963Z"
   },
   {
    "duration": 11,
    "start_time": "2023-05-11T13:06:22.705Z"
   },
   {
    "duration": 12,
    "start_time": "2023-05-11T13:06:49.789Z"
   },
   {
    "duration": 10,
    "start_time": "2023-05-11T13:07:22.386Z"
   },
   {
    "duration": 10,
    "start_time": "2023-05-11T13:07:32.006Z"
   },
   {
    "duration": 15,
    "start_time": "2023-05-11T13:08:50.206Z"
   },
   {
    "duration": 31,
    "start_time": "2023-05-11T13:09:56.941Z"
   },
   {
    "duration": 15,
    "start_time": "2023-05-11T13:10:05.813Z"
   },
   {
    "duration": 13,
    "start_time": "2023-05-11T13:11:35.505Z"
   },
   {
    "duration": 9,
    "start_time": "2023-05-11T13:12:40.586Z"
   },
   {
    "duration": 10,
    "start_time": "2023-05-11T13:14:06.926Z"
   },
   {
    "duration": 10,
    "start_time": "2023-05-11T13:14:33.617Z"
   },
   {
    "duration": 25,
    "start_time": "2023-05-11T13:14:44.145Z"
   },
   {
    "duration": 12,
    "start_time": "2023-05-11T13:15:48.793Z"
   },
   {
    "duration": 16,
    "start_time": "2023-05-11T13:16:44.537Z"
   },
   {
    "duration": 16,
    "start_time": "2023-05-11T13:17:17.399Z"
   },
   {
    "duration": 17,
    "start_time": "2023-05-11T13:17:36.449Z"
   },
   {
    "duration": 36,
    "start_time": "2023-05-11T13:17:38.648Z"
   },
   {
    "duration": 10,
    "start_time": "2023-05-11T13:17:48.813Z"
   },
   {
    "duration": 21,
    "start_time": "2023-05-11T13:19:22.644Z"
   },
   {
    "duration": 15,
    "start_time": "2023-05-11T13:19:29.281Z"
   },
   {
    "duration": 12,
    "start_time": "2023-05-11T13:19:40.583Z"
   },
   {
    "duration": 10,
    "start_time": "2023-05-11T13:20:51.793Z"
   },
   {
    "duration": 17,
    "start_time": "2023-05-11T13:22:16.388Z"
   },
   {
    "duration": 8,
    "start_time": "2023-05-11T13:23:08.419Z"
   },
   {
    "duration": 23,
    "start_time": "2023-05-11T13:24:58.659Z"
   },
   {
    "duration": 10,
    "start_time": "2023-05-11T13:25:19.290Z"
   },
   {
    "duration": 828,
    "start_time": "2023-05-11T14:20:14.603Z"
   },
   {
    "duration": 812,
    "start_time": "2023-05-11T14:21:20.756Z"
   },
   {
    "duration": 47,
    "start_time": "2023-05-11T14:22:57.867Z"
   },
   {
    "duration": 10,
    "start_time": "2023-05-11T14:23:38.825Z"
   },
   {
    "duration": 12,
    "start_time": "2023-05-11T14:23:54.605Z"
   },
   {
    "duration": 21,
    "start_time": "2023-05-11T14:24:21.103Z"
   },
   {
    "duration": 15,
    "start_time": "2023-05-11T14:28:09.922Z"
   },
   {
    "duration": 50,
    "start_time": "2023-05-11T14:37:54.833Z"
   },
   {
    "duration": 59,
    "start_time": "2023-05-11T14:38:56.404Z"
   },
   {
    "duration": 60,
    "start_time": "2023-05-11T14:40:23.472Z"
   },
   {
    "duration": 56,
    "start_time": "2023-05-11T14:44:02.368Z"
   },
   {
    "duration": 51,
    "start_time": "2023-05-11T14:45:12.158Z"
   },
   {
    "duration": 1372,
    "start_time": "2023-05-11T14:45:19.820Z"
   },
   {
    "duration": 1470,
    "start_time": "2023-05-11T14:45:23.437Z"
   },
   {
    "duration": 15,
    "start_time": "2023-05-11T14:49:17.875Z"
   },
   {
    "duration": 44,
    "start_time": "2023-05-11T14:49:59.878Z"
   },
   {
    "duration": 10,
    "start_time": "2023-05-11T14:50:58.524Z"
   },
   {
    "duration": 24,
    "start_time": "2023-05-11T14:51:07.329Z"
   },
   {
    "duration": 13,
    "start_time": "2023-05-11T14:52:12.696Z"
   },
   {
    "duration": 34,
    "start_time": "2023-05-11T14:52:41.008Z"
   },
   {
    "duration": 33,
    "start_time": "2023-05-11T14:53:05.844Z"
   },
   {
    "duration": 46,
    "start_time": "2023-05-11T14:53:56.871Z"
   },
   {
    "duration": 45,
    "start_time": "2023-05-11T14:54:37.477Z"
   },
   {
    "duration": 1463,
    "start_time": "2023-05-11T15:04:26.098Z"
   },
   {
    "duration": 150,
    "start_time": "2023-05-11T15:04:27.572Z"
   },
   {
    "duration": 4,
    "start_time": "2023-05-11T15:04:27.724Z"
   },
   {
    "duration": 80,
    "start_time": "2023-05-11T15:04:27.730Z"
   },
   {
    "duration": 17,
    "start_time": "2023-05-11T15:04:27.812Z"
   },
   {
    "duration": 25,
    "start_time": "2023-05-11T15:04:27.831Z"
   },
   {
    "duration": 9,
    "start_time": "2023-05-11T15:04:27.858Z"
   },
   {
    "duration": 52,
    "start_time": "2023-05-11T15:04:27.869Z"
   },
   {
    "duration": 6,
    "start_time": "2023-05-11T15:04:27.923Z"
   },
   {
    "duration": 21,
    "start_time": "2023-05-11T15:04:27.931Z"
   },
   {
    "duration": 9,
    "start_time": "2023-05-11T15:04:27.954Z"
   },
   {
    "duration": 118,
    "start_time": "2023-05-11T15:04:27.966Z"
   },
   {
    "duration": 20,
    "start_time": "2023-05-11T15:04:28.090Z"
   },
   {
    "duration": 37,
    "start_time": "2023-05-11T15:04:28.115Z"
   },
   {
    "duration": 14,
    "start_time": "2023-05-11T15:04:28.154Z"
   },
   {
    "duration": 996,
    "start_time": "2023-05-11T15:04:28.169Z"
   },
   {
    "duration": 181,
    "start_time": "2023-05-11T15:04:29.168Z"
   },
   {
    "duration": 10,
    "start_time": "2023-05-11T15:04:29.352Z"
   },
   {
    "duration": 1026,
    "start_time": "2023-05-11T15:04:29.364Z"
   },
   {
    "duration": 76,
    "start_time": "2023-05-11T15:04:30.402Z"
   },
   {
    "duration": 1220,
    "start_time": "2023-05-11T15:04:30.484Z"
   },
   {
    "duration": 54,
    "start_time": "2023-05-11T15:04:31.707Z"
   },
   {
    "duration": 43,
    "start_time": "2023-05-11T15:04:31.763Z"
   },
   {
    "duration": 71,
    "start_time": "2023-05-11T15:04:31.809Z"
   },
   {
    "duration": 41,
    "start_time": "2023-05-11T15:04:31.884Z"
   },
   {
    "duration": 51,
    "start_time": "2023-05-11T15:04:31.927Z"
   },
   {
    "duration": 94,
    "start_time": "2023-05-11T15:04:31.980Z"
   },
   {
    "duration": 47,
    "start_time": "2023-05-11T15:04:32.078Z"
   },
   {
    "duration": 73,
    "start_time": "2023-05-11T15:04:32.127Z"
   },
   {
    "duration": 1688,
    "start_time": "2023-05-11T15:05:45.889Z"
   },
   {
    "duration": 149,
    "start_time": "2023-05-11T15:05:47.588Z"
   },
   {
    "duration": 11,
    "start_time": "2023-05-11T15:05:47.739Z"
   },
   {
    "duration": 58,
    "start_time": "2023-05-11T15:05:47.758Z"
   },
   {
    "duration": 35,
    "start_time": "2023-05-11T15:05:47.818Z"
   },
   {
    "duration": 11,
    "start_time": "2023-05-11T15:05:47.854Z"
   },
   {
    "duration": 8,
    "start_time": "2023-05-11T15:05:47.868Z"
   },
   {
    "duration": 51,
    "start_time": "2023-05-11T15:05:47.878Z"
   },
   {
    "duration": 3,
    "start_time": "2023-05-11T15:05:47.931Z"
   },
   {
    "duration": 38,
    "start_time": "2023-05-11T15:05:47.937Z"
   },
   {
    "duration": 6,
    "start_time": "2023-05-11T15:05:47.977Z"
   },
   {
    "duration": 87,
    "start_time": "2023-05-11T15:05:47.984Z"
   },
   {
    "duration": 22,
    "start_time": "2023-05-11T15:05:48.073Z"
   },
   {
    "duration": 29,
    "start_time": "2023-05-11T15:05:48.103Z"
   },
   {
    "duration": 24,
    "start_time": "2023-05-11T15:05:48.135Z"
   },
   {
    "duration": 947,
    "start_time": "2023-05-11T15:05:48.161Z"
   },
   {
    "duration": 252,
    "start_time": "2023-05-11T15:05:49.109Z"
   },
   {
    "duration": 24,
    "start_time": "2023-05-11T15:05:49.363Z"
   },
   {
    "duration": 1032,
    "start_time": "2023-05-11T15:05:49.390Z"
   },
   {
    "duration": 73,
    "start_time": "2023-05-11T15:05:50.424Z"
   },
   {
    "duration": 1135,
    "start_time": "2023-05-11T15:05:50.499Z"
   },
   {
    "duration": 54,
    "start_time": "2023-05-11T15:05:51.637Z"
   },
   {
    "duration": 25,
    "start_time": "2023-05-11T15:05:51.692Z"
   },
   {
    "duration": 59,
    "start_time": "2023-05-11T15:05:51.719Z"
   },
   {
    "duration": 40,
    "start_time": "2023-05-11T15:05:51.780Z"
   },
   {
    "duration": 76,
    "start_time": "2023-05-11T15:05:51.823Z"
   },
   {
    "duration": 67,
    "start_time": "2023-05-11T15:05:51.901Z"
   },
   {
    "duration": 44,
    "start_time": "2023-05-11T15:05:51.976Z"
   },
   {
    "duration": 61,
    "start_time": "2023-05-11T15:05:52.023Z"
   },
   {
    "duration": 13505,
    "start_time": "2023-05-11T15:05:52.086Z"
   },
   {
    "duration": 17,
    "start_time": "2023-05-11T15:06:05.596Z"
   },
   {
    "duration": 54,
    "start_time": "2023-05-11T15:06:05.615Z"
   },
   {
    "duration": 23,
    "start_time": "2023-05-11T15:06:05.682Z"
   },
   {
    "duration": 15,
    "start_time": "2023-05-11T15:06:05.707Z"
   },
   {
    "duration": 27,
    "start_time": "2023-05-11T15:06:05.724Z"
   },
   {
    "duration": 174,
    "start_time": "2023-05-11T15:06:05.757Z"
   },
   {
    "duration": 24,
    "start_time": "2023-05-11T15:06:05.936Z"
   },
   {
    "duration": 34,
    "start_time": "2023-05-11T15:06:05.963Z"
   },
   {
    "duration": 15,
    "start_time": "2023-05-11T15:06:06.000Z"
   },
   {
    "duration": 255,
    "start_time": "2023-05-11T15:06:06.018Z"
   },
   {
    "duration": 0,
    "start_time": "2023-05-11T15:06:06.276Z"
   },
   {
    "duration": 0,
    "start_time": "2023-05-11T15:06:06.279Z"
   },
   {
    "duration": 0,
    "start_time": "2023-05-11T15:06:06.280Z"
   },
   {
    "duration": 0,
    "start_time": "2023-05-11T15:06:06.283Z"
   },
   {
    "duration": 0,
    "start_time": "2023-05-11T15:06:06.285Z"
   },
   {
    "duration": 0,
    "start_time": "2023-05-11T15:06:06.286Z"
   },
   {
    "duration": 0,
    "start_time": "2023-05-11T15:06:06.287Z"
   },
   {
    "duration": 0,
    "start_time": "2023-05-11T15:06:06.289Z"
   },
   {
    "duration": 0,
    "start_time": "2023-05-11T15:06:06.290Z"
   },
   {
    "duration": 12905,
    "start_time": "2023-05-11T15:06:50.603Z"
   },
   {
    "duration": 42,
    "start_time": "2023-05-11T15:09:15.340Z"
   },
   {
    "duration": 244,
    "start_time": "2023-05-11T15:09:26.569Z"
   },
   {
    "duration": 59,
    "start_time": "2023-05-11T15:09:44.488Z"
   },
   {
    "duration": 35,
    "start_time": "2023-05-11T15:14:44.877Z"
   },
   {
    "duration": 103,
    "start_time": "2023-05-11T15:19:16.009Z"
   },
   {
    "duration": 64,
    "start_time": "2023-05-11T15:19:21.944Z"
   },
   {
    "duration": 190,
    "start_time": "2023-05-11T15:19:34.613Z"
   },
   {
    "duration": 59,
    "start_time": "2023-05-11T15:20:07.708Z"
   },
   {
    "duration": 66,
    "start_time": "2023-05-11T15:20:32.736Z"
   },
   {
    "duration": 74,
    "start_time": "2023-05-11T15:20:36.232Z"
   },
   {
    "duration": 186,
    "start_time": "2023-05-11T15:20:54.406Z"
   },
   {
    "duration": 265,
    "start_time": "2023-05-11T15:21:19.940Z"
   },
   {
    "duration": 17,
    "start_time": "2023-05-11T15:21:50.587Z"
   },
   {
    "duration": 901,
    "start_time": "2023-05-11T15:21:57.491Z"
   },
   {
    "duration": 306,
    "start_time": "2023-05-11T15:22:08.520Z"
   },
   {
    "duration": 52,
    "start_time": "2023-05-11T15:22:12.493Z"
   },
   {
    "duration": 40,
    "start_time": "2023-05-11T15:23:41.493Z"
   },
   {
    "duration": 51,
    "start_time": "2023-05-11T15:23:44.921Z"
   },
   {
    "duration": 2562,
    "start_time": "2023-05-11T15:25:41.185Z"
   },
   {
    "duration": 2361,
    "start_time": "2023-05-11T15:25:56.841Z"
   },
   {
    "duration": 2540,
    "start_time": "2023-05-11T15:26:13.110Z"
   },
   {
    "duration": 2536,
    "start_time": "2023-05-11T15:26:22.406Z"
   },
   {
    "duration": 2350,
    "start_time": "2023-05-11T15:26:41.576Z"
   },
   {
    "duration": 2498,
    "start_time": "2023-05-11T15:26:49.128Z"
   },
   {
    "duration": 3015,
    "start_time": "2023-05-11T15:27:11.782Z"
   },
   {
    "duration": 2881,
    "start_time": "2023-05-11T15:27:30.502Z"
   },
   {
    "duration": 2995,
    "start_time": "2023-05-11T15:27:40.592Z"
   },
   {
    "duration": 4097,
    "start_time": "2023-05-11T15:27:52.406Z"
   },
   {
    "duration": 3096,
    "start_time": "2023-05-11T15:28:07.401Z"
   },
   {
    "duration": 2990,
    "start_time": "2023-05-11T15:28:15.175Z"
   },
   {
    "duration": 58,
    "start_time": "2023-05-11T15:32:52.428Z"
   },
   {
    "duration": 15,
    "start_time": "2023-05-11T15:33:55.629Z"
   },
   {
    "duration": 43,
    "start_time": "2023-05-11T15:34:00.930Z"
   },
   {
    "duration": 9,
    "start_time": "2023-05-11T15:41:55.206Z"
   },
   {
    "duration": 9,
    "start_time": "2023-05-11T15:42:51.178Z"
   },
   {
    "duration": 7,
    "start_time": "2023-05-11T15:42:53.624Z"
   },
   {
    "duration": 5,
    "start_time": "2023-05-11T15:43:19.994Z"
   },
   {
    "duration": 11,
    "start_time": "2023-05-11T15:43:47.151Z"
   },
   {
    "duration": 9,
    "start_time": "2023-05-11T15:43:49.099Z"
   },
   {
    "duration": 29,
    "start_time": "2023-05-11T15:44:01.487Z"
   },
   {
    "duration": 14,
    "start_time": "2023-05-11T15:44:13.955Z"
   },
   {
    "duration": 786,
    "start_time": "2023-05-11T15:44:16.336Z"
   },
   {
    "duration": 13,
    "start_time": "2023-05-11T15:44:41.218Z"
   },
   {
    "duration": 634,
    "start_time": "2023-05-11T15:44:46.068Z"
   },
   {
    "duration": 10,
    "start_time": "2023-05-11T15:45:03.588Z"
   },
   {
    "duration": 7,
    "start_time": "2023-05-11T15:45:35.105Z"
   },
   {
    "duration": 9,
    "start_time": "2023-05-11T15:45:39.145Z"
   },
   {
    "duration": 7,
    "start_time": "2023-05-11T15:45:52.895Z"
   },
   {
    "duration": 10,
    "start_time": "2023-05-11T15:46:10.267Z"
   },
   {
    "duration": 8,
    "start_time": "2023-05-11T15:46:19.528Z"
   },
   {
    "duration": 8,
    "start_time": "2023-05-11T15:46:30.470Z"
   },
   {
    "duration": 9,
    "start_time": "2023-05-11T15:46:34.200Z"
   },
   {
    "duration": 5,
    "start_time": "2023-05-11T15:46:40.503Z"
   },
   {
    "duration": 7,
    "start_time": "2023-05-11T15:47:08.844Z"
   },
   {
    "duration": 901,
    "start_time": "2023-05-11T15:48:22.472Z"
   },
   {
    "duration": 574,
    "start_time": "2023-05-11T15:48:47.694Z"
   },
   {
    "duration": 42,
    "start_time": "2023-05-11T15:55:38.766Z"
   },
   {
    "duration": 58,
    "start_time": "2023-05-11T15:58:04.621Z"
   },
   {
    "duration": 50,
    "start_time": "2023-05-11T16:04:15.111Z"
   },
   {
    "duration": 34,
    "start_time": "2023-05-11T16:05:13.768Z"
   },
   {
    "duration": 33,
    "start_time": "2023-05-11T16:05:29.567Z"
   },
   {
    "duration": 49,
    "start_time": "2023-05-11T16:07:29.800Z"
   },
   {
    "duration": 68,
    "start_time": "2023-05-11T16:07:48.352Z"
   },
   {
    "duration": 39,
    "start_time": "2023-05-11T16:07:57.901Z"
   },
   {
    "duration": 590,
    "start_time": "2023-05-11T16:08:22.631Z"
   },
   {
    "duration": 59,
    "start_time": "2023-05-11T16:09:32.585Z"
   },
   {
    "duration": 37,
    "start_time": "2023-05-11T16:09:45.708Z"
   },
   {
    "duration": 11,
    "start_time": "2023-05-11T16:10:00.857Z"
   },
   {
    "duration": 7,
    "start_time": "2023-05-11T16:10:04.769Z"
   },
   {
    "duration": 4,
    "start_time": "2023-05-11T16:10:26.635Z"
   },
   {
    "duration": 52,
    "start_time": "2023-05-11T16:11:48.850Z"
   },
   {
    "duration": 244,
    "start_time": "2023-05-11T16:13:06.533Z"
   },
   {
    "duration": 24,
    "start_time": "2023-05-11T16:13:13.493Z"
   },
   {
    "duration": 15,
    "start_time": "2023-05-11T16:13:16.945Z"
   },
   {
    "duration": 21,
    "start_time": "2023-05-11T16:13:42.737Z"
   },
   {
    "duration": 24,
    "start_time": "2023-05-11T16:13:50.267Z"
   },
   {
    "duration": 30,
    "start_time": "2023-05-11T16:14:17.019Z"
   },
   {
    "duration": 5,
    "start_time": "2023-05-11T16:14:19.786Z"
   },
   {
    "duration": 59,
    "start_time": "2023-05-11T16:14:52.552Z"
   },
   {
    "duration": 38,
    "start_time": "2023-05-11T16:14:58.843Z"
   },
   {
    "duration": 993,
    "start_time": "2023-05-11T16:15:17.755Z"
   },
   {
    "duration": 6,
    "start_time": "2023-05-11T16:15:29.705Z"
   },
   {
    "duration": 258,
    "start_time": "2023-05-11T16:16:20.566Z"
   },
   {
    "duration": 38,
    "start_time": "2023-05-11T16:16:28.505Z"
   },
   {
    "duration": 4,
    "start_time": "2023-05-11T16:16:33.168Z"
   },
   {
    "duration": 8,
    "start_time": "2023-05-11T16:16:35.292Z"
   },
   {
    "duration": 7,
    "start_time": "2023-05-11T16:16:37.501Z"
   },
   {
    "duration": 10,
    "start_time": "2023-05-11T16:16:50.991Z"
   },
   {
    "duration": 32,
    "start_time": "2023-05-11T16:26:26.104Z"
   },
   {
    "duration": 52,
    "start_time": "2023-05-11T16:29:04.107Z"
   },
   {
    "duration": 78,
    "start_time": "2023-05-11T16:29:10.142Z"
   },
   {
    "duration": 58,
    "start_time": "2023-05-11T16:30:06.950Z"
   },
   {
    "duration": 38,
    "start_time": "2023-05-11T16:30:18.627Z"
   },
   {
    "duration": 59,
    "start_time": "2023-05-11T16:30:21.442Z"
   },
   {
    "duration": 42,
    "start_time": "2023-05-11T16:30:40.892Z"
   },
   {
    "duration": 65,
    "start_time": "2023-05-11T16:32:16.015Z"
   },
   {
    "duration": 52,
    "start_time": "2023-05-11T16:32:36.596Z"
   },
   {
    "duration": 8,
    "start_time": "2023-05-11T16:32:51.126Z"
   },
   {
    "duration": 15,
    "start_time": "2023-05-11T16:33:48.033Z"
   },
   {
    "duration": 8,
    "start_time": "2023-05-11T16:34:06.513Z"
   },
   {
    "duration": 18,
    "start_time": "2023-05-11T16:34:10.689Z"
   },
   {
    "duration": 17,
    "start_time": "2023-05-11T16:34:21.114Z"
   },
   {
    "duration": 27,
    "start_time": "2023-05-11T16:34:28.026Z"
   },
   {
    "duration": 10,
    "start_time": "2023-05-11T16:34:39.878Z"
   },
   {
    "duration": 50,
    "start_time": "2023-05-11T16:34:42.848Z"
   },
   {
    "duration": 19,
    "start_time": "2023-05-11T16:34:57.400Z"
   },
   {
    "duration": 1071,
    "start_time": "2023-05-11T16:34:59.600Z"
   },
   {
    "duration": 9,
    "start_time": "2023-05-11T16:35:14.084Z"
   },
   {
    "duration": 7,
    "start_time": "2023-05-11T16:43:15.490Z"
   },
   {
    "duration": 6,
    "start_time": "2023-05-11T16:43:38.122Z"
   },
   {
    "duration": 8,
    "start_time": "2023-05-11T16:44:21.771Z"
   },
   {
    "duration": 11,
    "start_time": "2023-05-11T16:44:31.991Z"
   },
   {
    "duration": 3,
    "start_time": "2023-05-11T16:45:04.797Z"
   },
   {
    "duration": 4,
    "start_time": "2023-05-11T16:45:13.594Z"
   },
   {
    "duration": 7,
    "start_time": "2023-05-11T16:45:17.809Z"
   },
   {
    "duration": 4,
    "start_time": "2023-05-11T16:45:27.924Z"
   },
   {
    "duration": 8,
    "start_time": "2023-05-11T16:46:06.316Z"
   },
   {
    "duration": 14,
    "start_time": "2023-05-11T16:46:09.849Z"
   },
   {
    "duration": 653,
    "start_time": "2023-05-11T16:46:27.101Z"
   },
   {
    "duration": 24,
    "start_time": "2023-05-11T16:47:05.223Z"
   },
   {
    "duration": 35,
    "start_time": "2023-05-11T16:47:13.192Z"
   },
   {
    "duration": 16,
    "start_time": "2023-05-11T16:49:39.149Z"
   },
   {
    "duration": 64,
    "start_time": "2023-05-11T16:51:31.271Z"
   },
   {
    "duration": 662,
    "start_time": "2023-05-11T16:51:45.317Z"
   },
   {
    "duration": 613,
    "start_time": "2023-05-11T16:53:33.202Z"
   },
   {
    "duration": 62,
    "start_time": "2023-05-11T16:54:08.030Z"
   },
   {
    "duration": 64,
    "start_time": "2023-05-11T16:57:16.313Z"
   },
   {
    "duration": 49,
    "start_time": "2023-05-11T17:00:59.685Z"
   },
   {
    "duration": 3486,
    "start_time": "2023-05-11T17:05:04.090Z"
   },
   {
    "duration": 3354,
    "start_time": "2023-05-11T17:05:08.784Z"
   },
   {
    "duration": 4048,
    "start_time": "2023-05-11T17:05:28.131Z"
   },
   {
    "duration": 55,
    "start_time": "2023-05-11T17:06:44.840Z"
   },
   {
    "duration": 61,
    "start_time": "2023-05-11T17:07:01.773Z"
   },
   {
    "duration": 49,
    "start_time": "2023-05-11T17:07:50.116Z"
   },
   {
    "duration": 60,
    "start_time": "2023-05-11T17:08:39.223Z"
   },
   {
    "duration": 27,
    "start_time": "2023-05-11T17:11:13.465Z"
   },
   {
    "duration": 21,
    "start_time": "2023-05-11T17:11:35.100Z"
   },
   {
    "duration": 21,
    "start_time": "2023-05-11T17:11:51.287Z"
   },
   {
    "duration": 14,
    "start_time": "2023-05-11T17:12:12.183Z"
   },
   {
    "duration": 39,
    "start_time": "2023-05-11T17:12:57.335Z"
   },
   {
    "duration": 58,
    "start_time": "2023-05-11T17:13:44.850Z"
   },
   {
    "duration": 31,
    "start_time": "2023-05-11T17:14:15.915Z"
   },
   {
    "duration": 34,
    "start_time": "2023-05-11T17:14:53.177Z"
   },
   {
    "duration": 18,
    "start_time": "2023-05-11T17:15:29.176Z"
   },
   {
    "duration": 25,
    "start_time": "2023-05-11T17:16:14.809Z"
   },
   {
    "duration": 4,
    "start_time": "2023-05-11T17:16:46.579Z"
   },
   {
    "duration": 50,
    "start_time": "2023-05-11T17:19:33.098Z"
   },
   {
    "duration": 62,
    "start_time": "2023-05-11T17:20:05.906Z"
   },
   {
    "duration": 104,
    "start_time": "2023-05-11T17:20:47.279Z"
   },
   {
    "duration": 83,
    "start_time": "2023-05-11T17:21:18.510Z"
   },
   {
    "duration": 83,
    "start_time": "2023-05-11T17:21:46.447Z"
   },
   {
    "duration": 45,
    "start_time": "2023-05-11T17:22:18.603Z"
   },
   {
    "duration": 77,
    "start_time": "2023-05-11T17:22:54.154Z"
   },
   {
    "duration": 19,
    "start_time": "2023-05-11T17:24:29.290Z"
   },
   {
    "duration": 13,
    "start_time": "2023-05-11T17:24:41.855Z"
   },
   {
    "duration": 13,
    "start_time": "2023-05-11T17:24:44.626Z"
   },
   {
    "duration": 13,
    "start_time": "2023-05-11T17:24:46.883Z"
   },
   {
    "duration": 18,
    "start_time": "2023-05-11T17:24:50.588Z"
   },
   {
    "duration": 17,
    "start_time": "2023-05-11T17:24:59.023Z"
   },
   {
    "duration": 9,
    "start_time": "2023-05-11T17:25:07.023Z"
   },
   {
    "duration": 18,
    "start_time": "2023-05-11T17:25:09.490Z"
   },
   {
    "duration": 12,
    "start_time": "2023-05-11T17:25:11.820Z"
   },
   {
    "duration": 9,
    "start_time": "2023-05-11T17:25:13.603Z"
   },
   {
    "duration": 21,
    "start_time": "2023-05-11T17:25:15.774Z"
   },
   {
    "duration": 12,
    "start_time": "2023-05-11T17:25:20.083Z"
   },
   {
    "duration": 16,
    "start_time": "2023-05-11T17:25:21.784Z"
   },
   {
    "duration": 8,
    "start_time": "2023-05-11T17:25:23.821Z"
   },
   {
    "duration": 11,
    "start_time": "2023-05-11T17:25:26.294Z"
   },
   {
    "duration": 20,
    "start_time": "2023-05-11T17:26:22.681Z"
   },
   {
    "duration": 14,
    "start_time": "2023-05-11T17:28:01.180Z"
   },
   {
    "duration": 15,
    "start_time": "2023-05-11T17:29:26.988Z"
   },
   {
    "duration": 12,
    "start_time": "2023-05-11T17:29:35.902Z"
   },
   {
    "duration": 12,
    "start_time": "2023-05-11T17:29:50.598Z"
   },
   {
    "duration": 14,
    "start_time": "2023-05-11T17:29:56.672Z"
   },
   {
    "duration": 22,
    "start_time": "2023-05-11T17:30:28.877Z"
   },
   {
    "duration": 11,
    "start_time": "2023-05-11T17:30:38.767Z"
   },
   {
    "duration": 11,
    "start_time": "2023-05-11T17:30:41.073Z"
   },
   {
    "duration": 20,
    "start_time": "2023-05-11T17:31:32.274Z"
   },
   {
    "duration": 11,
    "start_time": "2023-05-11T17:31:57.953Z"
   },
   {
    "duration": 13,
    "start_time": "2023-05-11T17:32:02.819Z"
   },
   {
    "duration": 17,
    "start_time": "2023-05-11T17:32:18.291Z"
   },
   {
    "duration": 17,
    "start_time": "2023-05-11T17:32:43.877Z"
   },
   {
    "duration": 14,
    "start_time": "2023-05-11T17:33:21.989Z"
   },
   {
    "duration": 323,
    "start_time": "2023-05-11T17:33:41.937Z"
   },
   {
    "duration": 31,
    "start_time": "2023-05-11T17:33:47.188Z"
   },
   {
    "duration": 20,
    "start_time": "2023-05-11T17:33:56.075Z"
   },
   {
    "duration": 39,
    "start_time": "2023-05-11T17:34:34.047Z"
   },
   {
    "duration": 21,
    "start_time": "2023-05-11T17:35:06.971Z"
   },
   {
    "duration": 15,
    "start_time": "2023-05-11T17:35:10.419Z"
   },
   {
    "duration": 14,
    "start_time": "2023-05-11T17:35:21.785Z"
   },
   {
    "duration": 15,
    "start_time": "2023-05-11T17:35:24.805Z"
   },
   {
    "duration": 17,
    "start_time": "2023-05-11T17:35:44.606Z"
   },
   {
    "duration": 21,
    "start_time": "2023-05-11T17:35:47.881Z"
   },
   {
    "duration": 7,
    "start_time": "2023-05-11T17:36:18.191Z"
   },
   {
    "duration": 80,
    "start_time": "2023-05-11T17:38:38.819Z"
   },
   {
    "duration": 19,
    "start_time": "2023-05-11T17:38:54.577Z"
   },
   {
    "duration": 10,
    "start_time": "2023-05-11T17:39:06.128Z"
   },
   {
    "duration": 18,
    "start_time": "2023-05-11T17:39:07.979Z"
   },
   {
    "duration": 11,
    "start_time": "2023-05-11T17:39:09.888Z"
   },
   {
    "duration": 8,
    "start_time": "2023-05-11T17:39:12.615Z"
   },
   {
    "duration": 17,
    "start_time": "2023-05-11T17:39:14.678Z"
   },
   {
    "duration": 7,
    "start_time": "2023-05-11T17:39:19.971Z"
   },
   {
    "duration": 3,
    "start_time": "2023-05-11T17:39:22.545Z"
   },
   {
    "duration": 9,
    "start_time": "2023-05-11T17:39:29.983Z"
   },
   {
    "duration": 49,
    "start_time": "2023-05-12T07:57:45.431Z"
   },
   {
    "duration": 7,
    "start_time": "2023-05-12T07:57:55.930Z"
   },
   {
    "duration": 1956,
    "start_time": "2023-05-12T07:58:13.306Z"
   },
   {
    "duration": 289,
    "start_time": "2023-05-12T07:58:15.264Z"
   },
   {
    "duration": 3,
    "start_time": "2023-05-12T07:58:15.555Z"
   },
   {
    "duration": 51,
    "start_time": "2023-05-12T07:58:15.560Z"
   },
   {
    "duration": 25,
    "start_time": "2023-05-12T07:58:15.614Z"
   },
   {
    "duration": 11,
    "start_time": "2023-05-12T07:58:15.641Z"
   },
   {
    "duration": 12,
    "start_time": "2023-05-12T07:58:15.675Z"
   },
   {
    "duration": 72,
    "start_time": "2023-05-12T07:58:15.689Z"
   },
   {
    "duration": 3,
    "start_time": "2023-05-12T07:58:15.762Z"
   },
   {
    "duration": 27,
    "start_time": "2023-05-12T07:58:15.767Z"
   },
   {
    "duration": 12,
    "start_time": "2023-05-12T07:58:15.796Z"
   },
   {
    "duration": 79,
    "start_time": "2023-05-12T07:58:15.810Z"
   },
   {
    "duration": 23,
    "start_time": "2023-05-12T07:58:15.891Z"
   },
   {
    "duration": 26,
    "start_time": "2023-05-12T07:58:15.917Z"
   },
   {
    "duration": 9,
    "start_time": "2023-05-12T07:58:15.945Z"
   },
   {
    "duration": 855,
    "start_time": "2023-05-12T07:58:15.956Z"
   },
   {
    "duration": 914,
    "start_time": "2023-05-12T07:58:16.812Z"
   },
   {
    "duration": 7,
    "start_time": "2023-05-12T07:58:17.728Z"
   },
   {
    "duration": 887,
    "start_time": "2023-05-12T07:58:17.737Z"
   },
   {
    "duration": 67,
    "start_time": "2023-05-12T07:58:18.626Z"
   },
   {
    "duration": 57,
    "start_time": "2023-05-12T07:58:18.695Z"
   },
   {
    "duration": 158,
    "start_time": "2023-05-12T07:58:18.754Z"
   },
   {
    "duration": 0,
    "start_time": "2023-05-12T07:58:18.915Z"
   },
   {
    "duration": 0,
    "start_time": "2023-05-12T07:58:18.917Z"
   },
   {
    "duration": 0,
    "start_time": "2023-05-12T07:58:18.918Z"
   },
   {
    "duration": 0,
    "start_time": "2023-05-12T07:58:18.919Z"
   },
   {
    "duration": 0,
    "start_time": "2023-05-12T07:58:18.920Z"
   },
   {
    "duration": 0,
    "start_time": "2023-05-12T07:58:18.922Z"
   },
   {
    "duration": 0,
    "start_time": "2023-05-12T07:58:18.923Z"
   },
   {
    "duration": 0,
    "start_time": "2023-05-12T07:58:18.924Z"
   },
   {
    "duration": 0,
    "start_time": "2023-05-12T07:58:18.925Z"
   },
   {
    "duration": 0,
    "start_time": "2023-05-12T07:58:18.926Z"
   },
   {
    "duration": 0,
    "start_time": "2023-05-12T07:58:18.927Z"
   },
   {
    "duration": 0,
    "start_time": "2023-05-12T07:58:18.929Z"
   },
   {
    "duration": 0,
    "start_time": "2023-05-12T07:58:18.930Z"
   },
   {
    "duration": 0,
    "start_time": "2023-05-12T07:58:18.931Z"
   },
   {
    "duration": 0,
    "start_time": "2023-05-12T07:58:18.933Z"
   },
   {
    "duration": 0,
    "start_time": "2023-05-12T07:58:18.935Z"
   },
   {
    "duration": 0,
    "start_time": "2023-05-12T07:58:18.937Z"
   },
   {
    "duration": 0,
    "start_time": "2023-05-12T07:58:18.938Z"
   },
   {
    "duration": 0,
    "start_time": "2023-05-12T07:58:18.976Z"
   },
   {
    "duration": 0,
    "start_time": "2023-05-12T07:58:18.977Z"
   },
   {
    "duration": 0,
    "start_time": "2023-05-12T07:58:18.978Z"
   },
   {
    "duration": 0,
    "start_time": "2023-05-12T07:58:18.979Z"
   },
   {
    "duration": 0,
    "start_time": "2023-05-12T07:58:18.980Z"
   },
   {
    "duration": 0,
    "start_time": "2023-05-12T07:58:18.981Z"
   },
   {
    "duration": 0,
    "start_time": "2023-05-12T07:58:18.982Z"
   },
   {
    "duration": 0,
    "start_time": "2023-05-12T07:58:18.983Z"
   },
   {
    "duration": 0,
    "start_time": "2023-05-12T07:58:18.984Z"
   },
   {
    "duration": 0,
    "start_time": "2023-05-12T07:58:18.985Z"
   },
   {
    "duration": 0,
    "start_time": "2023-05-12T07:58:18.986Z"
   },
   {
    "duration": 0,
    "start_time": "2023-05-12T07:58:18.993Z"
   },
   {
    "duration": 0,
    "start_time": "2023-05-12T07:58:18.994Z"
   },
   {
    "duration": 0,
    "start_time": "2023-05-12T07:58:18.996Z"
   },
   {
    "duration": 0,
    "start_time": "2023-05-12T07:58:18.997Z"
   },
   {
    "duration": 0,
    "start_time": "2023-05-12T07:58:18.998Z"
   },
   {
    "duration": 0,
    "start_time": "2023-05-12T07:58:18.999Z"
   },
   {
    "duration": 0,
    "start_time": "2023-05-12T07:58:19.000Z"
   },
   {
    "duration": 0,
    "start_time": "2023-05-12T07:58:19.001Z"
   },
   {
    "duration": 0,
    "start_time": "2023-05-12T07:58:19.002Z"
   },
   {
    "duration": 0,
    "start_time": "2023-05-12T07:58:19.004Z"
   },
   {
    "duration": 0,
    "start_time": "2023-05-12T07:58:19.009Z"
   },
   {
    "duration": 0,
    "start_time": "2023-05-12T07:58:19.010Z"
   },
   {
    "duration": 0,
    "start_time": "2023-05-12T07:58:19.012Z"
   },
   {
    "duration": 0,
    "start_time": "2023-05-12T07:58:19.013Z"
   },
   {
    "duration": 0,
    "start_time": "2023-05-12T07:58:19.014Z"
   },
   {
    "duration": 0,
    "start_time": "2023-05-12T07:58:19.015Z"
   },
   {
    "duration": 0,
    "start_time": "2023-05-12T07:58:19.016Z"
   },
   {
    "duration": 0,
    "start_time": "2023-05-12T07:58:19.017Z"
   },
   {
    "duration": 0,
    "start_time": "2023-05-12T07:58:19.018Z"
   },
   {
    "duration": 0,
    "start_time": "2023-05-12T07:58:19.019Z"
   },
   {
    "duration": 0,
    "start_time": "2023-05-12T07:58:19.020Z"
   },
   {
    "duration": 0,
    "start_time": "2023-05-12T07:58:19.021Z"
   },
   {
    "duration": 0,
    "start_time": "2023-05-12T07:58:19.022Z"
   },
   {
    "duration": 0,
    "start_time": "2023-05-12T07:58:19.023Z"
   },
   {
    "duration": 0,
    "start_time": "2023-05-12T07:58:19.025Z"
   },
   {
    "duration": 0,
    "start_time": "2023-05-12T07:58:19.026Z"
   },
   {
    "duration": 0,
    "start_time": "2023-05-12T07:58:19.027Z"
   },
   {
    "duration": 0,
    "start_time": "2023-05-12T07:58:19.028Z"
   },
   {
    "duration": 0,
    "start_time": "2023-05-12T07:58:19.029Z"
   },
   {
    "duration": 0,
    "start_time": "2023-05-12T07:58:19.078Z"
   },
   {
    "duration": 0,
    "start_time": "2023-05-12T07:58:19.079Z"
   },
   {
    "duration": 0,
    "start_time": "2023-05-12T07:58:19.080Z"
   },
   {
    "duration": 0,
    "start_time": "2023-05-12T07:58:19.082Z"
   },
   {
    "duration": 12,
    "start_time": "2023-05-12T07:58:52.102Z"
   },
   {
    "duration": 1117,
    "start_time": "2023-05-12T07:58:55.903Z"
   },
   {
    "duration": 30,
    "start_time": "2023-05-12T07:59:03.712Z"
   },
   {
    "duration": 17,
    "start_time": "2023-05-12T07:59:06.356Z"
   },
   {
    "duration": 45,
    "start_time": "2023-05-12T07:59:08.520Z"
   },
   {
    "duration": 3511,
    "start_time": "2023-05-12T07:59:21.798Z"
   },
   {
    "duration": 159,
    "start_time": "2023-05-12T08:00:09.005Z"
   },
   {
    "duration": 792,
    "start_time": "2023-05-12T08:02:35.515Z"
   },
   {
    "duration": 1193,
    "start_time": "2023-05-12T08:02:44.869Z"
   },
   {
    "duration": 32,
    "start_time": "2023-05-12T08:03:22.023Z"
   },
   {
    "duration": 114,
    "start_time": "2023-05-12T08:03:33.100Z"
   },
   {
    "duration": 2,
    "start_time": "2023-05-12T08:04:07.108Z"
   },
   {
    "duration": 42,
    "start_time": "2023-05-12T08:04:19.148Z"
   },
   {
    "duration": 42,
    "start_time": "2023-05-12T08:04:23.912Z"
   },
   {
    "duration": 129,
    "start_time": "2023-05-12T08:04:31.780Z"
   },
   {
    "duration": 49,
    "start_time": "2023-05-12T08:05:10.268Z"
   },
   {
    "duration": 119,
    "start_time": "2023-05-12T08:05:17.500Z"
   },
   {
    "duration": 40,
    "start_time": "2023-05-12T08:05:33.451Z"
   },
   {
    "duration": 73,
    "start_time": "2023-05-12T08:05:45.940Z"
   },
   {
    "duration": 362,
    "start_time": "2023-05-12T08:05:58.608Z"
   },
   {
    "duration": 202,
    "start_time": "2023-05-12T08:06:48.831Z"
   },
   {
    "duration": 79,
    "start_time": "2023-05-12T08:07:13.322Z"
   },
   {
    "duration": 70,
    "start_time": "2023-05-12T08:07:31.812Z"
   },
   {
    "duration": 28,
    "start_time": "2023-05-12T08:09:19.024Z"
   },
   {
    "duration": 52,
    "start_time": "2023-05-12T08:09:32.124Z"
   },
   {
    "duration": 100,
    "start_time": "2023-05-12T08:16:03.793Z"
   },
   {
    "duration": 161,
    "start_time": "2023-05-12T08:16:14.664Z"
   },
   {
    "duration": 76,
    "start_time": "2023-05-12T08:16:38.793Z"
   },
   {
    "duration": 51,
    "start_time": "2023-05-12T08:23:25.500Z"
   },
   {
    "duration": 55,
    "start_time": "2023-05-12T08:23:47.790Z"
   },
   {
    "duration": 66,
    "start_time": "2023-05-12T08:23:53.357Z"
   },
   {
    "duration": 69,
    "start_time": "2023-05-12T08:24:32.253Z"
   },
   {
    "duration": 48,
    "start_time": "2023-05-12T08:25:25.092Z"
   },
   {
    "duration": 56,
    "start_time": "2023-05-12T08:25:33.805Z"
   },
   {
    "duration": 5,
    "start_time": "2023-05-12T08:25:50.752Z"
   },
   {
    "duration": 54,
    "start_time": "2023-05-12T08:25:59.201Z"
   },
   {
    "duration": 61,
    "start_time": "2023-05-12T08:26:30.507Z"
   },
   {
    "duration": 50,
    "start_time": "2023-05-12T08:27:33.014Z"
   },
   {
    "duration": 92,
    "start_time": "2023-05-12T08:29:39.241Z"
   },
   {
    "duration": 78,
    "start_time": "2023-05-12T08:29:44.336Z"
   },
   {
    "duration": 47,
    "start_time": "2023-05-12T08:29:47.917Z"
   },
   {
    "duration": 85,
    "start_time": "2023-05-12T08:29:53.994Z"
   },
   {
    "duration": 127,
    "start_time": "2023-05-12T08:30:01.600Z"
   },
   {
    "duration": 57,
    "start_time": "2023-05-12T08:32:43.903Z"
   },
   {
    "duration": 77,
    "start_time": "2023-05-12T08:33:03.247Z"
   },
   {
    "duration": 80,
    "start_time": "2023-05-12T08:35:42.748Z"
   },
   {
    "duration": 48,
    "start_time": "2023-05-12T08:35:47.012Z"
   },
   {
    "duration": 49,
    "start_time": "2023-05-12T08:35:55.315Z"
   },
   {
    "duration": 137,
    "start_time": "2023-05-12T08:36:23.716Z"
   },
   {
    "duration": 58,
    "start_time": "2023-05-12T08:36:36.308Z"
   },
   {
    "duration": 56,
    "start_time": "2023-05-12T08:36:43.811Z"
   },
   {
    "duration": 66,
    "start_time": "2023-05-12T08:37:40.711Z"
   },
   {
    "duration": 74,
    "start_time": "2023-05-12T08:41:27.510Z"
   },
   {
    "duration": 49,
    "start_time": "2023-05-12T08:41:29.694Z"
   },
   {
    "duration": 35,
    "start_time": "2023-05-12T08:42:37.512Z"
   },
   {
    "duration": 33,
    "start_time": "2023-05-12T08:42:42.305Z"
   },
   {
    "duration": 65,
    "start_time": "2023-05-12T08:42:45.042Z"
   },
   {
    "duration": 62,
    "start_time": "2023-05-12T08:42:50.822Z"
   },
   {
    "duration": 54,
    "start_time": "2023-05-12T08:42:58.541Z"
   },
   {
    "duration": 1346,
    "start_time": "2023-05-12T08:45:18.625Z"
   },
   {
    "duration": 12,
    "start_time": "2023-05-12T08:46:12.005Z"
   },
   {
    "duration": 14,
    "start_time": "2023-05-12T08:49:34.616Z"
   },
   {
    "duration": 59,
    "start_time": "2023-05-12T09:00:55.124Z"
   },
   {
    "duration": 42,
    "start_time": "2023-05-12T09:00:58.919Z"
   },
   {
    "duration": 57,
    "start_time": "2023-05-12T09:01:01.344Z"
   },
   {
    "duration": 82,
    "start_time": "2023-05-12T09:01:03.689Z"
   },
   {
    "duration": 44,
    "start_time": "2023-05-12T09:01:28.997Z"
   },
   {
    "duration": 65,
    "start_time": "2023-05-12T09:01:31.190Z"
   },
   {
    "duration": 67,
    "start_time": "2023-05-12T09:01:33.916Z"
   },
   {
    "duration": 55,
    "start_time": "2023-05-12T09:01:37.326Z"
   },
   {
    "duration": 82,
    "start_time": "2023-05-12T09:02:46.617Z"
   },
   {
    "duration": 79,
    "start_time": "2023-05-12T09:03:44.543Z"
   },
   {
    "duration": 59,
    "start_time": "2023-05-12T09:06:04.221Z"
   },
   {
    "duration": 67,
    "start_time": "2023-05-12T09:06:22.052Z"
   },
   {
    "duration": 46,
    "start_time": "2023-05-12T09:06:34.504Z"
   },
   {
    "duration": 37,
    "start_time": "2023-05-12T09:08:58.372Z"
   },
   {
    "duration": 33,
    "start_time": "2023-05-12T09:11:39.849Z"
   },
   {
    "duration": 24,
    "start_time": "2023-05-12T09:12:21.420Z"
   },
   {
    "duration": 24,
    "start_time": "2023-05-12T09:13:16.702Z"
   },
   {
    "duration": 23,
    "start_time": "2023-05-12T09:13:35.544Z"
   },
   {
    "duration": 30,
    "start_time": "2023-05-12T09:13:42.994Z"
   },
   {
    "duration": 26,
    "start_time": "2023-05-12T09:13:46.997Z"
   },
   {
    "duration": 40,
    "start_time": "2023-05-12T09:14:05.523Z"
   },
   {
    "duration": 54,
    "start_time": "2023-05-12T09:16:19.754Z"
   },
   {
    "duration": 30,
    "start_time": "2023-05-12T09:16:27.540Z"
   },
   {
    "duration": 13,
    "start_time": "2023-05-12T09:17:12.303Z"
   },
   {
    "duration": 9,
    "start_time": "2023-05-12T09:17:18.206Z"
   },
   {
    "duration": 31,
    "start_time": "2023-05-12T09:20:04.358Z"
   },
   {
    "duration": 27,
    "start_time": "2023-05-12T09:20:36.668Z"
   },
   {
    "duration": 22,
    "start_time": "2023-05-12T09:20:45.252Z"
   },
   {
    "duration": 41,
    "start_time": "2023-05-12T09:20:47.812Z"
   },
   {
    "duration": 36,
    "start_time": "2023-05-12T09:22:46.603Z"
   },
   {
    "duration": 37,
    "start_time": "2023-05-12T09:23:27.504Z"
   },
   {
    "duration": 7,
    "start_time": "2023-05-12T09:23:36.362Z"
   },
   {
    "duration": 684,
    "start_time": "2023-05-12T09:23:42.757Z"
   },
   {
    "duration": 17,
    "start_time": "2023-05-12T09:38:12.893Z"
   },
   {
    "duration": 103,
    "start_time": "2023-05-12T09:39:20.304Z"
   },
   {
    "duration": 16,
    "start_time": "2023-05-12T09:40:21.290Z"
   },
   {
    "duration": 13,
    "start_time": "2023-05-12T09:40:30.590Z"
   },
   {
    "duration": 21,
    "start_time": "2023-05-12T09:42:04.473Z"
   },
   {
    "duration": 18,
    "start_time": "2023-05-12T09:42:10.325Z"
   },
   {
    "duration": 1629,
    "start_time": "2023-05-12T09:42:19.235Z"
   },
   {
    "duration": 150,
    "start_time": "2023-05-12T09:42:20.866Z"
   },
   {
    "duration": 3,
    "start_time": "2023-05-12T09:42:21.018Z"
   },
   {
    "duration": 52,
    "start_time": "2023-05-12T09:42:21.023Z"
   },
   {
    "duration": 20,
    "start_time": "2023-05-12T09:42:21.086Z"
   },
   {
    "duration": 12,
    "start_time": "2023-05-12T09:42:21.108Z"
   },
   {
    "duration": 8,
    "start_time": "2023-05-12T09:42:21.122Z"
   },
   {
    "duration": 53,
    "start_time": "2023-05-12T09:42:21.132Z"
   },
   {
    "duration": 8,
    "start_time": "2023-05-12T09:42:21.186Z"
   },
   {
    "duration": 20,
    "start_time": "2023-05-12T09:42:21.196Z"
   },
   {
    "duration": 6,
    "start_time": "2023-05-12T09:42:21.218Z"
   },
   {
    "duration": 90,
    "start_time": "2023-05-12T09:42:21.226Z"
   },
   {
    "duration": 17,
    "start_time": "2023-05-12T09:42:21.318Z"
   },
   {
    "duration": 55,
    "start_time": "2023-05-12T09:42:21.337Z"
   },
   {
    "duration": 11,
    "start_time": "2023-05-12T09:42:21.394Z"
   },
   {
    "duration": 820,
    "start_time": "2023-05-12T09:42:21.407Z"
   },
   {
    "duration": 150,
    "start_time": "2023-05-12T09:42:22.229Z"
   },
   {
    "duration": 8,
    "start_time": "2023-05-12T09:42:22.386Z"
   },
   {
    "duration": 844,
    "start_time": "2023-05-12T09:42:22.396Z"
   },
   {
    "duration": 1089,
    "start_time": "2023-05-12T09:42:23.242Z"
   },
   {
    "duration": 44,
    "start_time": "2023-05-12T09:42:24.333Z"
   },
   {
    "duration": 28,
    "start_time": "2023-05-12T09:42:24.379Z"
   },
   {
    "duration": 44,
    "start_time": "2023-05-12T09:42:24.411Z"
   },
   {
    "duration": 62,
    "start_time": "2023-05-12T09:42:24.456Z"
   },
   {
    "duration": 44,
    "start_time": "2023-05-12T09:42:24.519Z"
   },
   {
    "duration": 68,
    "start_time": "2023-05-12T09:42:24.564Z"
   },
   {
    "duration": 45,
    "start_time": "2023-05-12T09:42:24.634Z"
   },
   {
    "duration": 46,
    "start_time": "2023-05-12T09:42:24.691Z"
   },
   {
    "duration": 49,
    "start_time": "2023-05-12T09:42:24.739Z"
   },
   {
    "duration": 51,
    "start_time": "2023-05-12T09:42:24.790Z"
   },
   {
    "duration": 7,
    "start_time": "2023-05-12T09:42:24.842Z"
   },
   {
    "duration": 733,
    "start_time": "2023-05-12T09:42:24.851Z"
   },
   {
    "duration": 106,
    "start_time": "2023-05-12T09:42:25.586Z"
   },
   {
    "duration": 14,
    "start_time": "2023-05-12T09:42:25.696Z"
   },
   {
    "duration": 348,
    "start_time": "2023-05-12T09:42:25.712Z"
   },
   {
    "duration": 0,
    "start_time": "2023-05-12T09:42:26.062Z"
   },
   {
    "duration": 0,
    "start_time": "2023-05-12T09:42:26.063Z"
   },
   {
    "duration": 0,
    "start_time": "2023-05-12T09:42:26.064Z"
   },
   {
    "duration": 0,
    "start_time": "2023-05-12T09:42:26.077Z"
   },
   {
    "duration": 0,
    "start_time": "2023-05-12T09:42:26.078Z"
   },
   {
    "duration": 0,
    "start_time": "2023-05-12T09:42:26.079Z"
   },
   {
    "duration": 0,
    "start_time": "2023-05-12T09:42:26.080Z"
   },
   {
    "duration": 0,
    "start_time": "2023-05-12T09:42:26.082Z"
   },
   {
    "duration": 0,
    "start_time": "2023-05-12T09:42:26.086Z"
   },
   {
    "duration": 0,
    "start_time": "2023-05-12T09:42:26.087Z"
   },
   {
    "duration": 0,
    "start_time": "2023-05-12T09:42:26.088Z"
   },
   {
    "duration": 0,
    "start_time": "2023-05-12T09:42:26.089Z"
   },
   {
    "duration": 0,
    "start_time": "2023-05-12T09:42:26.089Z"
   },
   {
    "duration": 0,
    "start_time": "2023-05-12T09:42:26.090Z"
   },
   {
    "duration": 0,
    "start_time": "2023-05-12T09:42:26.091Z"
   },
   {
    "duration": 0,
    "start_time": "2023-05-12T09:42:26.091Z"
   },
   {
    "duration": 0,
    "start_time": "2023-05-12T09:42:26.092Z"
   },
   {
    "duration": 0,
    "start_time": "2023-05-12T09:42:26.093Z"
   },
   {
    "duration": 0,
    "start_time": "2023-05-12T09:42:26.094Z"
   },
   {
    "duration": 0,
    "start_time": "2023-05-12T09:42:26.094Z"
   },
   {
    "duration": 0,
    "start_time": "2023-05-12T09:42:26.095Z"
   },
   {
    "duration": 0,
    "start_time": "2023-05-12T09:42:26.098Z"
   },
   {
    "duration": 0,
    "start_time": "2023-05-12T09:42:26.099Z"
   },
   {
    "duration": 0,
    "start_time": "2023-05-12T09:42:26.100Z"
   },
   {
    "duration": 0,
    "start_time": "2023-05-12T09:42:26.101Z"
   },
   {
    "duration": 0,
    "start_time": "2023-05-12T09:42:26.103Z"
   },
   {
    "duration": 0,
    "start_time": "2023-05-12T09:42:26.104Z"
   },
   {
    "duration": 0,
    "start_time": "2023-05-12T09:42:26.106Z"
   },
   {
    "duration": 0,
    "start_time": "2023-05-12T09:42:26.107Z"
   },
   {
    "duration": 0,
    "start_time": "2023-05-12T09:42:26.109Z"
   },
   {
    "duration": 0,
    "start_time": "2023-05-12T09:42:26.110Z"
   },
   {
    "duration": 0,
    "start_time": "2023-05-12T09:42:26.111Z"
   },
   {
    "duration": 0,
    "start_time": "2023-05-12T09:42:26.112Z"
   },
   {
    "duration": 0,
    "start_time": "2023-05-12T09:42:26.113Z"
   },
   {
    "duration": 0,
    "start_time": "2023-05-12T09:42:26.114Z"
   },
   {
    "duration": 0,
    "start_time": "2023-05-12T09:42:26.115Z"
   },
   {
    "duration": 0,
    "start_time": "2023-05-12T09:42:26.116Z"
   },
   {
    "duration": 0,
    "start_time": "2023-05-12T09:42:26.117Z"
   },
   {
    "duration": 0,
    "start_time": "2023-05-12T09:42:26.119Z"
   },
   {
    "duration": 1,
    "start_time": "2023-05-12T09:42:26.120Z"
   },
   {
    "duration": 0,
    "start_time": "2023-05-12T09:42:26.177Z"
   },
   {
    "duration": 0,
    "start_time": "2023-05-12T09:42:26.183Z"
   },
   {
    "duration": 0,
    "start_time": "2023-05-12T09:42:26.184Z"
   },
   {
    "duration": 0,
    "start_time": "2023-05-12T09:42:26.185Z"
   },
   {
    "duration": 0,
    "start_time": "2023-05-12T09:42:26.191Z"
   },
   {
    "duration": 0,
    "start_time": "2023-05-12T09:42:26.191Z"
   },
   {
    "duration": 0,
    "start_time": "2023-05-12T09:42:26.192Z"
   },
   {
    "duration": 0,
    "start_time": "2023-05-12T09:42:26.194Z"
   },
   {
    "duration": 0,
    "start_time": "2023-05-12T09:42:26.195Z"
   },
   {
    "duration": 0,
    "start_time": "2023-05-12T09:42:26.196Z"
   },
   {
    "duration": 13,
    "start_time": "2023-05-12T09:42:59.416Z"
   },
   {
    "duration": 16,
    "start_time": "2023-05-12T09:43:04.820Z"
   },
   {
    "duration": 18,
    "start_time": "2023-05-12T09:43:07.075Z"
   },
   {
    "duration": 19,
    "start_time": "2023-05-12T09:43:15.572Z"
   },
   {
    "duration": 23,
    "start_time": "2023-05-12T09:43:38.109Z"
   },
   {
    "duration": 74,
    "start_time": "2023-05-12T09:44:55.288Z"
   },
   {
    "duration": 25,
    "start_time": "2023-05-12T09:45:21.936Z"
   },
   {
    "duration": 47,
    "start_time": "2023-05-12T09:45:25.945Z"
   },
   {
    "duration": 27,
    "start_time": "2023-05-12T09:45:29.592Z"
   },
   {
    "duration": 34,
    "start_time": "2023-05-12T09:45:32.109Z"
   },
   {
    "duration": 13,
    "start_time": "2023-05-12T09:45:35.173Z"
   },
   {
    "duration": 589,
    "start_time": "2023-05-12T09:45:37.228Z"
   },
   {
    "duration": 18,
    "start_time": "2023-05-12T09:46:06.510Z"
   },
   {
    "duration": 9,
    "start_time": "2023-05-12T09:48:02.364Z"
   },
   {
    "duration": 23,
    "start_time": "2023-05-12T09:48:37.510Z"
   },
   {
    "duration": 11,
    "start_time": "2023-05-12T09:49:53.801Z"
   },
   {
    "duration": 12,
    "start_time": "2023-05-12T09:50:04.505Z"
   },
   {
    "duration": 27,
    "start_time": "2023-05-12T09:50:12.074Z"
   },
   {
    "duration": 13,
    "start_time": "2023-05-12T09:52:23.959Z"
   },
   {
    "duration": 32,
    "start_time": "2023-05-12T09:53:26.852Z"
   },
   {
    "duration": 125,
    "start_time": "2023-05-12T09:54:34.400Z"
   },
   {
    "duration": 95,
    "start_time": "2023-05-12T09:55:06.492Z"
   },
   {
    "duration": 127,
    "start_time": "2023-05-12T09:55:18.898Z"
   },
   {
    "duration": 94,
    "start_time": "2023-05-12T09:59:53.666Z"
   },
   {
    "duration": 143,
    "start_time": "2023-05-12T10:00:16.841Z"
   },
   {
    "duration": 68,
    "start_time": "2023-05-12T10:41:34.440Z"
   },
   {
    "duration": 126,
    "start_time": "2023-05-12T10:41:53.125Z"
   },
   {
    "duration": 1768,
    "start_time": "2023-05-12T10:42:15.823Z"
   },
   {
    "duration": 143,
    "start_time": "2023-05-12T10:42:17.593Z"
   },
   {
    "duration": 4,
    "start_time": "2023-05-12T10:42:17.737Z"
   },
   {
    "duration": 62,
    "start_time": "2023-05-12T10:42:17.743Z"
   },
   {
    "duration": 26,
    "start_time": "2023-05-12T10:42:17.808Z"
   },
   {
    "duration": 12,
    "start_time": "2023-05-12T10:42:17.837Z"
   },
   {
    "duration": 27,
    "start_time": "2023-05-12T10:42:17.851Z"
   },
   {
    "duration": 45,
    "start_time": "2023-05-12T10:42:17.880Z"
   },
   {
    "duration": 4,
    "start_time": "2023-05-12T10:42:17.927Z"
   },
   {
    "duration": 17,
    "start_time": "2023-05-12T10:42:17.934Z"
   },
   {
    "duration": 7,
    "start_time": "2023-05-12T10:42:17.953Z"
   },
   {
    "duration": 103,
    "start_time": "2023-05-12T10:42:17.976Z"
   },
   {
    "duration": 14,
    "start_time": "2023-05-12T10:42:18.082Z"
   },
   {
    "duration": 28,
    "start_time": "2023-05-12T10:42:18.098Z"
   },
   {
    "duration": 13,
    "start_time": "2023-05-12T10:42:18.128Z"
   },
   {
    "duration": 846,
    "start_time": "2023-05-12T10:42:18.174Z"
   },
   {
    "duration": 191,
    "start_time": "2023-05-12T10:42:19.023Z"
   },
   {
    "duration": 8,
    "start_time": "2023-05-12T10:42:19.216Z"
   },
   {
    "duration": 903,
    "start_time": "2023-05-12T10:42:19.226Z"
   },
   {
    "duration": 1059,
    "start_time": "2023-05-12T10:42:20.131Z"
   },
   {
    "duration": 42,
    "start_time": "2023-05-12T10:42:21.192Z"
   },
   {
    "duration": 39,
    "start_time": "2023-05-12T10:42:21.237Z"
   },
   {
    "duration": 47,
    "start_time": "2023-05-12T10:42:21.278Z"
   },
   {
    "duration": 88,
    "start_time": "2023-05-12T10:42:21.327Z"
   },
   {
    "duration": 45,
    "start_time": "2023-05-12T10:42:21.417Z"
   },
   {
    "duration": 221,
    "start_time": "2023-05-12T10:42:21.475Z"
   },
   {
    "duration": 0,
    "start_time": "2023-05-12T10:42:21.700Z"
   },
   {
    "duration": 0,
    "start_time": "2023-05-12T10:42:21.701Z"
   },
   {
    "duration": 0,
    "start_time": "2023-05-12T10:42:21.702Z"
   },
   {
    "duration": 0,
    "start_time": "2023-05-12T10:42:21.703Z"
   },
   {
    "duration": 0,
    "start_time": "2023-05-12T10:42:21.705Z"
   },
   {
    "duration": 0,
    "start_time": "2023-05-12T10:42:21.706Z"
   },
   {
    "duration": 0,
    "start_time": "2023-05-12T10:42:21.707Z"
   },
   {
    "duration": 0,
    "start_time": "2023-05-12T10:42:21.709Z"
   },
   {
    "duration": 0,
    "start_time": "2023-05-12T10:42:21.710Z"
   },
   {
    "duration": 0,
    "start_time": "2023-05-12T10:42:21.711Z"
   },
   {
    "duration": 0,
    "start_time": "2023-05-12T10:42:21.713Z"
   },
   {
    "duration": 1,
    "start_time": "2023-05-12T10:42:21.713Z"
   },
   {
    "duration": 0,
    "start_time": "2023-05-12T10:42:21.714Z"
   },
   {
    "duration": 0,
    "start_time": "2023-05-12T10:42:21.715Z"
   },
   {
    "duration": 0,
    "start_time": "2023-05-12T10:42:21.716Z"
   },
   {
    "duration": 1,
    "start_time": "2023-05-12T10:42:21.717Z"
   },
   {
    "duration": 0,
    "start_time": "2023-05-12T10:42:21.718Z"
   },
   {
    "duration": 0,
    "start_time": "2023-05-12T10:42:21.720Z"
   },
   {
    "duration": 0,
    "start_time": "2023-05-12T10:42:21.721Z"
   },
   {
    "duration": 0,
    "start_time": "2023-05-12T10:42:21.722Z"
   },
   {
    "duration": 0,
    "start_time": "2023-05-12T10:42:21.723Z"
   },
   {
    "duration": 0,
    "start_time": "2023-05-12T10:42:21.724Z"
   },
   {
    "duration": 0,
    "start_time": "2023-05-12T10:42:21.726Z"
   },
   {
    "duration": 0,
    "start_time": "2023-05-12T10:42:21.727Z"
   },
   {
    "duration": 0,
    "start_time": "2023-05-12T10:42:21.728Z"
   },
   {
    "duration": 0,
    "start_time": "2023-05-12T10:42:21.775Z"
   },
   {
    "duration": 0,
    "start_time": "2023-05-12T10:42:21.777Z"
   },
   {
    "duration": 0,
    "start_time": "2023-05-12T10:42:21.778Z"
   },
   {
    "duration": 0,
    "start_time": "2023-05-12T10:42:21.780Z"
   },
   {
    "duration": 1,
    "start_time": "2023-05-12T10:42:21.781Z"
   },
   {
    "duration": 0,
    "start_time": "2023-05-12T10:42:21.783Z"
   },
   {
    "duration": 0,
    "start_time": "2023-05-12T10:42:21.788Z"
   },
   {
    "duration": 0,
    "start_time": "2023-05-12T10:42:21.790Z"
   },
   {
    "duration": 0,
    "start_time": "2023-05-12T10:42:21.791Z"
   },
   {
    "duration": 0,
    "start_time": "2023-05-12T10:42:21.794Z"
   },
   {
    "duration": 0,
    "start_time": "2023-05-12T10:42:21.795Z"
   },
   {
    "duration": 0,
    "start_time": "2023-05-12T10:42:21.797Z"
   },
   {
    "duration": 0,
    "start_time": "2023-05-12T10:42:21.798Z"
   },
   {
    "duration": 1,
    "start_time": "2023-05-12T10:42:21.799Z"
   },
   {
    "duration": 0,
    "start_time": "2023-05-12T10:42:21.801Z"
   },
   {
    "duration": 0,
    "start_time": "2023-05-12T10:42:21.802Z"
   },
   {
    "duration": 0,
    "start_time": "2023-05-12T10:42:21.804Z"
   },
   {
    "duration": 0,
    "start_time": "2023-05-12T10:42:21.805Z"
   },
   {
    "duration": 0,
    "start_time": "2023-05-12T10:42:21.807Z"
   },
   {
    "duration": 0,
    "start_time": "2023-05-12T10:42:21.808Z"
   },
   {
    "duration": 0,
    "start_time": "2023-05-12T10:42:21.810Z"
   },
   {
    "duration": 0,
    "start_time": "2023-05-12T10:42:21.811Z"
   },
   {
    "duration": 0,
    "start_time": "2023-05-12T10:42:21.812Z"
   },
   {
    "duration": 0,
    "start_time": "2023-05-12T10:42:21.814Z"
   },
   {
    "duration": 0,
    "start_time": "2023-05-12T10:42:21.815Z"
   },
   {
    "duration": 0,
    "start_time": "2023-05-12T10:42:21.876Z"
   },
   {
    "duration": 0,
    "start_time": "2023-05-12T10:42:21.877Z"
   },
   {
    "duration": 0,
    "start_time": "2023-05-12T10:42:21.879Z"
   },
   {
    "duration": 0,
    "start_time": "2023-05-12T10:42:21.881Z"
   },
   {
    "duration": 0,
    "start_time": "2023-05-12T10:42:21.883Z"
   },
   {
    "duration": 0,
    "start_time": "2023-05-12T10:42:21.884Z"
   },
   {
    "duration": 0,
    "start_time": "2023-05-12T10:42:21.886Z"
   },
   {
    "duration": 0,
    "start_time": "2023-05-12T10:42:21.888Z"
   },
   {
    "duration": 0,
    "start_time": "2023-05-12T10:42:21.889Z"
   },
   {
    "duration": 0,
    "start_time": "2023-05-12T10:42:21.891Z"
   },
   {
    "duration": 200,
    "start_time": "2023-05-12T10:42:45.398Z"
   },
   {
    "duration": 76,
    "start_time": "2023-05-12T10:43:17.504Z"
   },
   {
    "duration": 73,
    "start_time": "2023-05-12T10:43:29.284Z"
   },
   {
    "duration": 107,
    "start_time": "2023-05-12T10:43:53.856Z"
   },
   {
    "duration": 59,
    "start_time": "2023-05-12T10:46:45.408Z"
   },
   {
    "duration": 116,
    "start_time": "2023-05-12T10:46:58.384Z"
   },
   {
    "duration": 105,
    "start_time": "2023-05-12T10:47:11.104Z"
   },
   {
    "duration": 210,
    "start_time": "2023-05-12T10:49:00.702Z"
   },
   {
    "duration": 201,
    "start_time": "2023-05-12T10:49:03.367Z"
   },
   {
    "duration": 128,
    "start_time": "2023-05-12T10:49:18.016Z"
   },
   {
    "duration": 133,
    "start_time": "2023-05-12T10:49:30.098Z"
   },
   {
    "duration": 139,
    "start_time": "2023-05-12T10:49:36.360Z"
   },
   {
    "duration": 147,
    "start_time": "2023-05-12T10:49:44.859Z"
   },
   {
    "duration": 216,
    "start_time": "2023-05-12T10:50:02.711Z"
   },
   {
    "duration": 134,
    "start_time": "2023-05-12T10:50:05.951Z"
   },
   {
    "duration": 51,
    "start_time": "2023-05-12T10:52:16.207Z"
   },
   {
    "duration": 63,
    "start_time": "2023-05-12T10:52:39.212Z"
   },
   {
    "duration": 76,
    "start_time": "2023-05-12T10:53:04.856Z"
   },
   {
    "duration": 80,
    "start_time": "2023-05-12T10:53:27.668Z"
   },
   {
    "duration": 181,
    "start_time": "2023-05-12T10:57:57.044Z"
   },
   {
    "duration": 150,
    "start_time": "2023-05-12T10:58:04.456Z"
   },
   {
    "duration": 136,
    "start_time": "2023-05-12T11:00:37.196Z"
   },
   {
    "duration": 139,
    "start_time": "2023-05-12T11:00:55.290Z"
   },
   {
    "duration": 78,
    "start_time": "2023-05-12T11:01:12.811Z"
   },
   {
    "duration": 165,
    "start_time": "2023-05-12T11:02:39.005Z"
   },
   {
    "duration": 142,
    "start_time": "2023-05-12T11:02:53.606Z"
   },
   {
    "duration": 127,
    "start_time": "2023-05-12T11:08:17.195Z"
   },
   {
    "duration": 154,
    "start_time": "2023-05-12T11:09:07.788Z"
   },
   {
    "duration": 162,
    "start_time": "2023-05-12T11:10:15.759Z"
   },
   {
    "duration": 133,
    "start_time": "2023-05-12T11:10:25.809Z"
   },
   {
    "duration": 78,
    "start_time": "2023-05-12T11:11:16.417Z"
   },
   {
    "duration": 49,
    "start_time": "2023-05-12T11:13:55.519Z"
   },
   {
    "duration": 144,
    "start_time": "2023-05-12T11:14:03.073Z"
   },
   {
    "duration": 75,
    "start_time": "2023-05-12T11:14:15.094Z"
   },
   {
    "duration": 73,
    "start_time": "2023-05-12T11:14:21.244Z"
   },
   {
    "duration": 75,
    "start_time": "2023-05-12T11:14:31.518Z"
   },
   {
    "duration": 147,
    "start_time": "2023-05-12T11:14:40.716Z"
   },
   {
    "duration": 151,
    "start_time": "2023-05-12T11:14:49.981Z"
   },
   {
    "duration": 146,
    "start_time": "2023-05-12T11:15:42.259Z"
   },
   {
    "duration": 171,
    "start_time": "2023-05-12T11:15:58.721Z"
   },
   {
    "duration": 68,
    "start_time": "2023-05-12T11:17:04.813Z"
   },
   {
    "duration": 49,
    "start_time": "2023-05-12T11:19:56.991Z"
   },
   {
    "duration": 52,
    "start_time": "2023-05-12T11:21:44.685Z"
   },
   {
    "duration": 56,
    "start_time": "2023-05-12T11:21:47.636Z"
   },
   {
    "duration": 62,
    "start_time": "2023-05-12T11:21:50.755Z"
   },
   {
    "duration": 64,
    "start_time": "2023-05-12T11:21:59.128Z"
   },
   {
    "duration": 63,
    "start_time": "2023-05-12T11:22:01.283Z"
   },
   {
    "duration": 134,
    "start_time": "2023-05-12T11:25:12.959Z"
   },
   {
    "duration": 132,
    "start_time": "2023-05-12T11:25:27.023Z"
   },
   {
    "duration": 154,
    "start_time": "2023-05-12T11:26:07.589Z"
   },
   {
    "duration": 151,
    "start_time": "2023-05-12T11:27:14.451Z"
   },
   {
    "duration": 161,
    "start_time": "2023-05-12T11:27:25.072Z"
   },
   {
    "duration": 134,
    "start_time": "2023-05-12T11:28:26.457Z"
   },
   {
    "duration": 67,
    "start_time": "2023-05-12T11:32:21.621Z"
   },
   {
    "duration": 77,
    "start_time": "2023-05-12T11:32:38.780Z"
   },
   {
    "duration": 51,
    "start_time": "2023-05-12T11:32:41.998Z"
   },
   {
    "duration": 53,
    "start_time": "2023-05-12T11:33:10.491Z"
   },
   {
    "duration": 75,
    "start_time": "2023-05-12T11:33:52.127Z"
   },
   {
    "duration": 47,
    "start_time": "2023-05-12T11:34:09.822Z"
   },
   {
    "duration": 46,
    "start_time": "2023-05-12T11:40:46.896Z"
   },
   {
    "duration": 63,
    "start_time": "2023-05-12T11:40:57.595Z"
   },
   {
    "duration": 52,
    "start_time": "2023-05-12T11:41:20.994Z"
   },
   {
    "duration": 26,
    "start_time": "2023-05-12T11:41:25.646Z"
   },
   {
    "duration": 43,
    "start_time": "2023-05-12T11:41:29.707Z"
   },
   {
    "duration": 28,
    "start_time": "2023-05-12T11:41:33.005Z"
   },
   {
    "duration": 43,
    "start_time": "2023-05-12T11:41:36.322Z"
   },
   {
    "duration": 7,
    "start_time": "2023-05-12T11:41:39.007Z"
   },
   {
    "duration": 637,
    "start_time": "2023-05-12T11:41:41.155Z"
   },
   {
    "duration": 10,
    "start_time": "2023-05-12T11:41:59.029Z"
   },
   {
    "duration": 53,
    "start_time": "2023-05-12T11:42:18.737Z"
   },
   {
    "duration": 5,
    "start_time": "2023-05-12T11:42:43.388Z"
   },
   {
    "duration": 36,
    "start_time": "2023-05-12T11:44:26.700Z"
   },
   {
    "duration": 56,
    "start_time": "2023-05-12T11:44:31.667Z"
   },
   {
    "duration": 26,
    "start_time": "2023-05-12T11:47:05.315Z"
   },
   {
    "duration": 37,
    "start_time": "2023-05-12T11:47:15.066Z"
   },
   {
    "duration": 42,
    "start_time": "2023-05-12T11:49:02.266Z"
   },
   {
    "duration": 39,
    "start_time": "2023-05-12T11:51:41.503Z"
   },
   {
    "duration": 32,
    "start_time": "2023-05-12T11:51:50.927Z"
   },
   {
    "duration": 6,
    "start_time": "2023-05-12T11:52:01.710Z"
   },
   {
    "duration": 44,
    "start_time": "2023-05-12T11:52:06.710Z"
   },
   {
    "duration": 35,
    "start_time": "2023-05-12T11:52:18.513Z"
   },
   {
    "duration": 35,
    "start_time": "2023-05-12T11:52:43.402Z"
   },
   {
    "duration": 35,
    "start_time": "2023-05-12T11:52:59.912Z"
   },
   {
    "duration": 28,
    "start_time": "2023-05-12T11:53:12.146Z"
   },
   {
    "duration": 35,
    "start_time": "2023-05-12T11:53:15.522Z"
   },
   {
    "duration": 54,
    "start_time": "2023-05-12T11:54:07.493Z"
   },
   {
    "duration": 41,
    "start_time": "2023-05-12T11:54:50.177Z"
   },
   {
    "duration": 41,
    "start_time": "2023-05-12T11:55:09.294Z"
   },
   {
    "duration": 21,
    "start_time": "2023-05-12T11:55:16.026Z"
   },
   {
    "duration": 26,
    "start_time": "2023-05-12T11:56:01.804Z"
   },
   {
    "duration": 14,
    "start_time": "2023-05-12T11:56:05.203Z"
   },
   {
    "duration": 24,
    "start_time": "2023-05-12T11:56:22.769Z"
   },
   {
    "duration": 16,
    "start_time": "2023-05-12T11:56:33.418Z"
   },
   {
    "duration": 16,
    "start_time": "2023-05-12T11:56:39.903Z"
   },
   {
    "duration": 7,
    "start_time": "2023-05-12T11:57:32.749Z"
   },
   {
    "duration": 9,
    "start_time": "2023-05-12T11:58:29.430Z"
   },
   {
    "duration": 2535,
    "start_time": "2023-05-12T12:01:21.309Z"
   },
   {
    "duration": 1167,
    "start_time": "2023-05-12T12:01:45.037Z"
   },
   {
    "duration": 1035,
    "start_time": "2023-05-12T12:02:03.068Z"
   },
   {
    "duration": 1041,
    "start_time": "2023-05-12T12:02:15.287Z"
   },
   {
    "duration": 6,
    "start_time": "2023-05-12T12:02:48.490Z"
   },
   {
    "duration": 6,
    "start_time": "2023-05-12T12:02:54.310Z"
   },
   {
    "duration": 1069,
    "start_time": "2023-05-12T12:03:37.323Z"
   },
   {
    "duration": 934,
    "start_time": "2023-05-12T12:03:52.584Z"
   },
   {
    "duration": 820,
    "start_time": "2023-05-12T12:04:49.804Z"
   },
   {
    "duration": 45,
    "start_time": "2023-05-12T12:05:57.457Z"
   },
   {
    "duration": 14,
    "start_time": "2023-05-12T12:06:04.979Z"
   },
   {
    "duration": 6,
    "start_time": "2023-05-12T12:06:16.059Z"
   },
   {
    "duration": 42,
    "start_time": "2023-05-12T12:06:34.931Z"
   },
   {
    "duration": 36,
    "start_time": "2023-05-12T12:06:38.921Z"
   },
   {
    "duration": 819,
    "start_time": "2023-05-12T12:07:38.591Z"
   },
   {
    "duration": 916,
    "start_time": "2023-05-12T12:08:00.656Z"
   },
   {
    "duration": 816,
    "start_time": "2023-05-12T12:08:14.691Z"
   },
   {
    "duration": 831,
    "start_time": "2023-05-12T12:08:28.906Z"
   },
   {
    "duration": 6759,
    "start_time": "2023-05-12T12:08:49.396Z"
   },
   {
    "duration": 7,
    "start_time": "2023-05-12T12:09:26.196Z"
   },
   {
    "duration": 10,
    "start_time": "2023-05-12T12:09:58.235Z"
   },
   {
    "duration": 45,
    "start_time": "2023-05-12T12:11:45.993Z"
   },
   {
    "duration": 24,
    "start_time": "2023-05-12T12:12:39.465Z"
   },
   {
    "duration": 9,
    "start_time": "2023-05-12T12:12:58.742Z"
   },
   {
    "duration": 9,
    "start_time": "2023-05-12T12:13:13.394Z"
   },
   {
    "duration": 520,
    "start_time": "2023-05-12T12:13:30.847Z"
   },
   {
    "duration": 616,
    "start_time": "2023-05-12T12:14:40.040Z"
   },
   {
    "duration": 2259,
    "start_time": "2023-05-12T12:16:05.308Z"
   },
   {
    "duration": 495,
    "start_time": "2023-05-12T12:16:15.119Z"
   },
   {
    "duration": 17,
    "start_time": "2023-05-12T12:18:53.888Z"
   },
   {
    "duration": 11,
    "start_time": "2023-05-12T12:19:03.839Z"
   },
   {
    "duration": 27,
    "start_time": "2023-05-12T12:19:13.919Z"
   },
   {
    "duration": 21,
    "start_time": "2023-05-12T12:19:22.090Z"
   },
   {
    "duration": 2467,
    "start_time": "2023-05-12T12:19:40.386Z"
   },
   {
    "duration": 47,
    "start_time": "2023-05-12T12:20:24.194Z"
   },
   {
    "duration": 41,
    "start_time": "2023-05-12T12:20:33.312Z"
   },
   {
    "duration": 48,
    "start_time": "2023-05-12T12:20:54.135Z"
   },
   {
    "duration": 901,
    "start_time": "2023-05-12T12:20:59.054Z"
   },
   {
    "duration": 33,
    "start_time": "2023-05-12T12:21:35.292Z"
   },
   {
    "duration": 2949,
    "start_time": "2023-05-12T12:21:55.141Z"
   },
   {
    "duration": 1165,
    "start_time": "2023-05-12T12:22:14.724Z"
   },
   {
    "duration": 921,
    "start_time": "2023-05-12T12:22:40.620Z"
   },
   {
    "duration": 1155,
    "start_time": "2023-05-12T12:25:00.750Z"
   },
   {
    "duration": 872,
    "start_time": "2023-05-12T12:25:18.284Z"
   },
   {
    "duration": 1001,
    "start_time": "2023-05-12T12:25:24.594Z"
   },
   {
    "duration": 2837,
    "start_time": "2023-05-12T12:25:31.104Z"
   },
   {
    "duration": 2927,
    "start_time": "2023-05-12T12:25:46.722Z"
   },
   {
    "duration": 946,
    "start_time": "2023-05-12T12:26:00.190Z"
   },
   {
    "duration": 1084,
    "start_time": "2023-05-12T12:26:47.127Z"
   },
   {
    "duration": 553,
    "start_time": "2023-05-12T12:28:03.915Z"
   },
   {
    "duration": 45,
    "start_time": "2023-05-12T12:28:58.489Z"
   },
   {
    "duration": 37,
    "start_time": "2023-05-12T12:29:06.990Z"
   },
   {
    "duration": 1722,
    "start_time": "2023-05-12T12:34:29.090Z"
   },
   {
    "duration": 138,
    "start_time": "2023-05-12T12:34:30.814Z"
   },
   {
    "duration": 3,
    "start_time": "2023-05-12T12:34:30.953Z"
   },
   {
    "duration": 84,
    "start_time": "2023-05-12T12:34:30.958Z"
   },
   {
    "duration": 47,
    "start_time": "2023-05-12T12:34:31.044Z"
   },
   {
    "duration": 27,
    "start_time": "2023-05-12T12:34:31.094Z"
   },
   {
    "duration": 43,
    "start_time": "2023-05-12T12:34:31.124Z"
   },
   {
    "duration": 82,
    "start_time": "2023-05-12T12:34:31.169Z"
   },
   {
    "duration": 8,
    "start_time": "2023-05-12T12:34:31.253Z"
   },
   {
    "duration": 40,
    "start_time": "2023-05-12T12:34:31.264Z"
   },
   {
    "duration": 41,
    "start_time": "2023-05-12T12:34:31.306Z"
   },
   {
    "duration": 97,
    "start_time": "2023-05-12T12:34:31.349Z"
   },
   {
    "duration": 14,
    "start_time": "2023-05-12T12:34:31.448Z"
   },
   {
    "duration": 48,
    "start_time": "2023-05-12T12:34:31.464Z"
   },
   {
    "duration": 19,
    "start_time": "2023-05-12T12:34:31.514Z"
   },
   {
    "duration": 854,
    "start_time": "2023-05-12T12:34:31.535Z"
   },
   {
    "duration": 146,
    "start_time": "2023-05-12T12:34:32.391Z"
   },
   {
    "duration": 6,
    "start_time": "2023-05-12T12:34:32.538Z"
   },
   {
    "duration": 846,
    "start_time": "2023-05-12T12:34:32.546Z"
   },
   {
    "duration": 1137,
    "start_time": "2023-05-12T12:34:33.394Z"
   },
   {
    "duration": 52,
    "start_time": "2023-05-12T12:34:34.533Z"
   },
   {
    "duration": 21,
    "start_time": "2023-05-12T12:34:34.587Z"
   },
   {
    "duration": 113,
    "start_time": "2023-05-12T12:34:34.610Z"
   },
   {
    "duration": 44,
    "start_time": "2023-05-12T12:34:34.725Z"
   },
   {
    "duration": 48,
    "start_time": "2023-05-12T12:34:34.779Z"
   },
   {
    "duration": 86,
    "start_time": "2023-05-12T12:34:34.829Z"
   },
   {
    "duration": 25,
    "start_time": "2023-05-12T12:34:34.917Z"
   },
   {
    "duration": 61,
    "start_time": "2023-05-12T12:34:34.946Z"
   },
   {
    "duration": 32,
    "start_time": "2023-05-12T12:34:35.009Z"
   },
   {
    "duration": 72,
    "start_time": "2023-05-12T12:34:35.043Z"
   },
   {
    "duration": 1014,
    "start_time": "2023-05-12T12:34:35.117Z"
   },
   {
    "duration": 5,
    "start_time": "2023-05-12T12:34:36.132Z"
   },
   {
    "duration": 57,
    "start_time": "2023-05-12T12:34:36.138Z"
   },
   {
    "duration": 15,
    "start_time": "2023-05-12T12:36:15.921Z"
   },
   {
    "duration": 274,
    "start_time": "2023-05-12T12:36:15.938Z"
   },
   {
    "duration": 0,
    "start_time": "2023-05-12T12:36:16.214Z"
   },
   {
    "duration": 0,
    "start_time": "2023-05-12T12:36:16.215Z"
   },
   {
    "duration": 0,
    "start_time": "2023-05-12T12:36:16.216Z"
   },
   {
    "duration": 0,
    "start_time": "2023-05-12T12:36:16.217Z"
   },
   {
    "duration": 0,
    "start_time": "2023-05-12T12:36:16.218Z"
   },
   {
    "duration": 0,
    "start_time": "2023-05-12T12:36:16.219Z"
   },
   {
    "duration": 0,
    "start_time": "2023-05-12T12:36:16.220Z"
   },
   {
    "duration": 0,
    "start_time": "2023-05-12T12:36:16.221Z"
   },
   {
    "duration": 0,
    "start_time": "2023-05-12T12:36:16.222Z"
   },
   {
    "duration": 0,
    "start_time": "2023-05-12T12:36:16.224Z"
   },
   {
    "duration": 0,
    "start_time": "2023-05-12T12:36:16.225Z"
   },
   {
    "duration": 0,
    "start_time": "2023-05-12T12:36:16.226Z"
   },
   {
    "duration": 0,
    "start_time": "2023-05-12T12:36:16.227Z"
   },
   {
    "duration": 0,
    "start_time": "2023-05-12T12:36:16.228Z"
   },
   {
    "duration": 0,
    "start_time": "2023-05-12T12:36:16.229Z"
   },
   {
    "duration": 0,
    "start_time": "2023-05-12T12:36:16.231Z"
   },
   {
    "duration": 0,
    "start_time": "2023-05-12T12:36:16.231Z"
   },
   {
    "duration": 0,
    "start_time": "2023-05-12T12:36:16.232Z"
   },
   {
    "duration": 0,
    "start_time": "2023-05-12T12:36:16.233Z"
   },
   {
    "duration": 0,
    "start_time": "2023-05-12T12:36:16.234Z"
   },
   {
    "duration": 0,
    "start_time": "2023-05-12T12:36:16.235Z"
   },
   {
    "duration": 0,
    "start_time": "2023-05-12T12:36:16.236Z"
   },
   {
    "duration": 0,
    "start_time": "2023-05-12T12:36:16.237Z"
   },
   {
    "duration": 0,
    "start_time": "2023-05-12T12:36:16.238Z"
   },
   {
    "duration": 0,
    "start_time": "2023-05-12T12:36:16.238Z"
   },
   {
    "duration": 0,
    "start_time": "2023-05-12T12:36:16.239Z"
   },
   {
    "duration": 0,
    "start_time": "2023-05-12T12:36:16.240Z"
   },
   {
    "duration": 0,
    "start_time": "2023-05-12T12:36:16.240Z"
   },
   {
    "duration": 0,
    "start_time": "2023-05-12T12:36:16.241Z"
   },
   {
    "duration": 0,
    "start_time": "2023-05-12T12:36:16.293Z"
   },
   {
    "duration": 0,
    "start_time": "2023-05-12T12:36:16.295Z"
   },
   {
    "duration": 0,
    "start_time": "2023-05-12T12:36:16.296Z"
   },
   {
    "duration": 0,
    "start_time": "2023-05-12T12:36:16.298Z"
   },
   {
    "duration": 0,
    "start_time": "2023-05-12T12:36:16.299Z"
   },
   {
    "duration": 0,
    "start_time": "2023-05-12T12:36:16.300Z"
   },
   {
    "duration": 0,
    "start_time": "2023-05-12T12:36:16.301Z"
   },
   {
    "duration": 0,
    "start_time": "2023-05-12T12:36:16.302Z"
   },
   {
    "duration": 0,
    "start_time": "2023-05-12T12:36:16.303Z"
   },
   {
    "duration": 0,
    "start_time": "2023-05-12T12:36:16.304Z"
   },
   {
    "duration": 0,
    "start_time": "2023-05-12T12:36:16.305Z"
   },
   {
    "duration": 0,
    "start_time": "2023-05-12T12:36:16.306Z"
   },
   {
    "duration": 0,
    "start_time": "2023-05-12T12:36:16.307Z"
   },
   {
    "duration": 0,
    "start_time": "2023-05-12T12:36:16.308Z"
   },
   {
    "duration": 0,
    "start_time": "2023-05-12T12:36:16.309Z"
   },
   {
    "duration": 0,
    "start_time": "2023-05-12T12:36:16.310Z"
   },
   {
    "duration": 0,
    "start_time": "2023-05-12T12:36:16.311Z"
   },
   {
    "duration": 0,
    "start_time": "2023-05-12T12:36:16.312Z"
   },
   {
    "duration": 0,
    "start_time": "2023-05-12T12:36:16.313Z"
   },
   {
    "duration": 0,
    "start_time": "2023-05-12T12:36:16.314Z"
   },
   {
    "duration": 0,
    "start_time": "2023-05-12T12:36:16.315Z"
   },
   {
    "duration": 0,
    "start_time": "2023-05-12T12:36:16.316Z"
   },
   {
    "duration": 0,
    "start_time": "2023-05-12T12:36:16.317Z"
   },
   {
    "duration": 0,
    "start_time": "2023-05-12T12:36:16.318Z"
   },
   {
    "duration": 0,
    "start_time": "2023-05-12T12:36:16.319Z"
   },
   {
    "duration": 0,
    "start_time": "2023-05-12T12:36:16.320Z"
   },
   {
    "duration": 0,
    "start_time": "2023-05-12T12:36:16.321Z"
   },
   {
    "duration": 1076,
    "start_time": "2023-05-12T12:36:19.528Z"
   },
   {
    "duration": 923,
    "start_time": "2023-05-12T12:36:35.387Z"
   },
   {
    "duration": 1056,
    "start_time": "2023-05-12T12:36:44.350Z"
   },
   {
    "duration": 43,
    "start_time": "2023-05-12T12:37:01.187Z"
   },
   {
    "duration": 966,
    "start_time": "2023-05-12T12:37:04.087Z"
   },
   {
    "duration": 5,
    "start_time": "2023-05-12T12:37:08.610Z"
   },
   {
    "duration": 1180,
    "start_time": "2023-05-12T12:37:53.053Z"
   },
   {
    "duration": 962,
    "start_time": "2023-05-12T12:38:00.299Z"
   },
   {
    "duration": 1147,
    "start_time": "2023-05-12T12:39:29.862Z"
   },
   {
    "duration": 939,
    "start_time": "2023-05-12T12:39:47.647Z"
   },
   {
    "duration": 311,
    "start_time": "2023-05-12T12:40:22.588Z"
   },
   {
    "duration": 717,
    "start_time": "2023-05-12T12:40:29.497Z"
   },
   {
    "duration": 2118,
    "start_time": "2023-05-12T12:40:38.223Z"
   },
   {
    "duration": 1060,
    "start_time": "2023-05-12T12:42:47.854Z"
   },
   {
    "duration": 970,
    "start_time": "2023-05-12T12:43:30.899Z"
   },
   {
    "duration": 990,
    "start_time": "2023-05-12T12:43:42.630Z"
   },
   {
    "duration": 861,
    "start_time": "2023-05-12T12:44:26.237Z"
   },
   {
    "duration": 987,
    "start_time": "2023-05-12T12:44:45.504Z"
   },
   {
    "duration": 863,
    "start_time": "2023-05-12T12:52:16.692Z"
   },
   {
    "duration": 1050,
    "start_time": "2023-05-12T12:52:30.881Z"
   },
   {
    "duration": 914,
    "start_time": "2023-05-12T12:53:32.726Z"
   },
   {
    "duration": 1058,
    "start_time": "2023-05-12T12:54:58.041Z"
   },
   {
    "duration": 881,
    "start_time": "2023-05-12T12:55:08.082Z"
   },
   {
    "duration": 15,
    "start_time": "2023-05-12T13:11:22.746Z"
   },
   {
    "duration": 17,
    "start_time": "2023-05-12T13:12:16.502Z"
   },
   {
    "duration": 16,
    "start_time": "2023-05-12T13:13:06.926Z"
   },
   {
    "duration": 17,
    "start_time": "2023-05-12T13:13:09.401Z"
   },
   {
    "duration": 27,
    "start_time": "2023-05-12T13:14:06.228Z"
   },
   {
    "duration": 13,
    "start_time": "2023-05-12T13:14:15.488Z"
   },
   {
    "duration": 908,
    "start_time": "2023-05-12T13:16:23.085Z"
   },
   {
    "duration": 34,
    "start_time": "2023-05-12T13:18:29.491Z"
   },
   {
    "duration": 38,
    "start_time": "2023-05-12T13:18:51.424Z"
   },
   {
    "duration": 34,
    "start_time": "2023-05-12T13:21:22.343Z"
   },
   {
    "duration": 37,
    "start_time": "2023-05-12T13:22:15.080Z"
   },
   {
    "duration": 45,
    "start_time": "2023-05-12T13:23:39.614Z"
   },
   {
    "duration": 35,
    "start_time": "2023-05-12T13:23:44.524Z"
   },
   {
    "duration": 242,
    "start_time": "2023-05-12T13:24:35.859Z"
   },
   {
    "duration": 62,
    "start_time": "2023-05-12T13:24:43.698Z"
   },
   {
    "duration": 50,
    "start_time": "2023-05-12T13:27:26.791Z"
   },
   {
    "duration": 39,
    "start_time": "2023-05-12T13:27:58.213Z"
   },
   {
    "duration": 59,
    "start_time": "2023-05-12T13:28:19.086Z"
   },
   {
    "duration": 59,
    "start_time": "2023-05-12T13:30:53.554Z"
   },
   {
    "duration": 53,
    "start_time": "2023-05-12T13:31:01.782Z"
   },
   {
    "duration": 73,
    "start_time": "2023-05-12T13:31:31.712Z"
   },
   {
    "duration": 46,
    "start_time": "2023-05-12T13:36:33.692Z"
   },
   {
    "duration": 35,
    "start_time": "2023-05-12T13:36:45.037Z"
   },
   {
    "duration": 1117,
    "start_time": "2023-05-12T13:37:49.336Z"
   },
   {
    "duration": 234,
    "start_time": "2023-05-12T13:40:13.307Z"
   },
   {
    "duration": 234,
    "start_time": "2023-05-12T13:40:50.001Z"
   },
   {
    "duration": 37,
    "start_time": "2023-05-12T13:44:18.410Z"
   },
   {
    "duration": 18,
    "start_time": "2023-05-12T13:44:36.155Z"
   },
   {
    "duration": 25,
    "start_time": "2023-05-12T13:44:53.852Z"
   },
   {
    "duration": 34,
    "start_time": "2023-05-12T13:45:03.530Z"
   },
   {
    "duration": 276,
    "start_time": "2023-05-12T13:46:03.345Z"
   },
   {
    "duration": 412,
    "start_time": "2023-05-12T13:48:15.340Z"
   },
   {
    "duration": 354,
    "start_time": "2023-05-12T13:50:23.006Z"
   },
   {
    "duration": 37,
    "start_time": "2023-05-12T13:59:19.790Z"
   },
   {
    "duration": 35,
    "start_time": "2023-05-12T13:59:34.695Z"
   },
   {
    "duration": 52,
    "start_time": "2023-05-12T14:00:18.390Z"
   },
   {
    "duration": 48,
    "start_time": "2023-05-12T14:00:55.945Z"
   },
   {
    "duration": 51,
    "start_time": "2023-05-12T14:01:00.885Z"
   },
   {
    "duration": 41,
    "start_time": "2023-05-12T14:02:16.902Z"
   },
   {
    "duration": 37,
    "start_time": "2023-05-12T14:02:35.528Z"
   },
   {
    "duration": 7,
    "start_time": "2023-05-12T14:25:43.501Z"
   },
   {
    "duration": 1056,
    "start_time": "2023-05-12T14:26:14.990Z"
   },
   {
    "duration": 786,
    "start_time": "2023-05-12T14:27:04.836Z"
   },
   {
    "duration": 7,
    "start_time": "2023-05-12T14:27:25.403Z"
   },
   {
    "duration": 8,
    "start_time": "2023-05-12T14:27:34.485Z"
   },
   {
    "duration": 14,
    "start_time": "2023-05-12T14:29:15.034Z"
   },
   {
    "duration": 9,
    "start_time": "2023-05-12T14:29:34.453Z"
   },
   {
    "duration": 54,
    "start_time": "2023-05-12T14:30:15.815Z"
   },
   {
    "duration": 14,
    "start_time": "2023-05-12T14:30:34.895Z"
   },
   {
    "duration": 17,
    "start_time": "2023-05-12T14:31:03.993Z"
   },
   {
    "duration": 25,
    "start_time": "2023-05-12T14:32:17.390Z"
   },
   {
    "duration": 19,
    "start_time": "2023-05-12T14:34:16.506Z"
   },
   {
    "duration": 25,
    "start_time": "2023-05-12T14:34:32.419Z"
   },
   {
    "duration": 6,
    "start_time": "2023-05-12T14:35:21.589Z"
   },
   {
    "duration": 1099,
    "start_time": "2023-05-12T14:36:32.751Z"
   },
   {
    "duration": 1003,
    "start_time": "2023-05-12T14:36:59.907Z"
   },
   {
    "duration": 36,
    "start_time": "2023-05-12T14:37:18.836Z"
   },
   {
    "duration": 24,
    "start_time": "2023-05-12T14:40:45.077Z"
   },
   {
    "duration": 21,
    "start_time": "2023-05-12T14:41:28.134Z"
   },
   {
    "duration": 12,
    "start_time": "2023-05-12T14:41:33.846Z"
   },
   {
    "duration": 1042,
    "start_time": "2023-05-12T14:42:02.289Z"
   },
   {
    "duration": 950,
    "start_time": "2023-05-12T14:42:14.697Z"
   },
   {
    "duration": 13,
    "start_time": "2023-05-12T14:43:44.262Z"
   },
   {
    "duration": 14,
    "start_time": "2023-05-12T14:47:09.101Z"
   },
   {
    "duration": 20,
    "start_time": "2023-05-12T14:47:58.517Z"
   },
   {
    "duration": 12,
    "start_time": "2023-05-12T14:48:22.333Z"
   },
   {
    "duration": 185,
    "start_time": "2023-05-12T14:49:30.854Z"
   },
   {
    "duration": 42,
    "start_time": "2023-05-12T14:50:05.815Z"
   },
   {
    "duration": 38,
    "start_time": "2023-05-12T14:50:15.158Z"
   },
   {
    "duration": 29,
    "start_time": "2023-05-12T14:50:20.003Z"
   },
   {
    "duration": 10,
    "start_time": "2023-05-12T14:51:52.981Z"
   },
   {
    "duration": 7,
    "start_time": "2023-05-12T14:52:54.028Z"
   },
   {
    "duration": 8,
    "start_time": "2023-05-12T14:53:09.517Z"
   },
   {
    "duration": 5,
    "start_time": "2023-05-12T14:53:37.547Z"
   },
   {
    "duration": 38,
    "start_time": "2023-05-12T14:53:52.304Z"
   },
   {
    "duration": 8,
    "start_time": "2023-05-12T14:54:51.626Z"
   },
   {
    "duration": 5,
    "start_time": "2023-05-12T14:55:00.118Z"
   },
   {
    "duration": 43,
    "start_time": "2023-05-12T14:55:39.695Z"
   },
   {
    "duration": 5,
    "start_time": "2023-05-12T14:55:43.623Z"
   },
   {
    "duration": 6,
    "start_time": "2023-05-12T14:55:50.591Z"
   },
   {
    "duration": 5,
    "start_time": "2023-05-12T14:57:14.800Z"
   },
   {
    "duration": 5,
    "start_time": "2023-05-12T14:57:19.003Z"
   },
   {
    "duration": 5,
    "start_time": "2023-05-12T14:58:20.223Z"
   },
   {
    "duration": 6,
    "start_time": "2023-05-12T14:58:32.144Z"
   },
   {
    "duration": 8,
    "start_time": "2023-05-12T15:00:44.317Z"
   },
   {
    "duration": 17,
    "start_time": "2023-05-12T15:00:46.497Z"
   },
   {
    "duration": 1013,
    "start_time": "2023-05-12T15:01:25.138Z"
   },
   {
    "duration": 1053,
    "start_time": "2023-05-12T15:01:36.792Z"
   },
   {
    "duration": 9,
    "start_time": "2023-05-12T15:02:04.327Z"
   },
   {
    "duration": 5,
    "start_time": "2023-05-12T15:02:10.310Z"
   },
   {
    "duration": 8,
    "start_time": "2023-05-12T15:04:03.334Z"
   },
   {
    "duration": 7,
    "start_time": "2023-05-12T15:04:22.591Z"
   },
   {
    "duration": 12,
    "start_time": "2023-05-12T15:05:44.198Z"
   },
   {
    "duration": 9,
    "start_time": "2023-05-12T15:05:51.852Z"
   },
   {
    "duration": 11,
    "start_time": "2023-05-12T15:05:56.141Z"
   },
   {
    "duration": 13,
    "start_time": "2023-05-12T15:06:39.817Z"
   },
   {
    "duration": 15,
    "start_time": "2023-05-12T15:08:25.547Z"
   },
   {
    "duration": 12,
    "start_time": "2023-05-12T15:08:36.856Z"
   },
   {
    "duration": 14,
    "start_time": "2023-05-12T15:08:40.705Z"
   },
   {
    "duration": 20,
    "start_time": "2023-05-12T15:10:38.730Z"
   },
   {
    "duration": 13,
    "start_time": "2023-05-12T15:10:46.407Z"
   },
   {
    "duration": 15,
    "start_time": "2023-05-12T15:10:53.535Z"
   },
   {
    "duration": 44,
    "start_time": "2023-05-12T15:22:23.698Z"
   },
   {
    "duration": 21,
    "start_time": "2023-05-12T15:24:19.719Z"
   },
   {
    "duration": 37,
    "start_time": "2023-05-12T15:25:10.610Z"
   },
   {
    "duration": 31,
    "start_time": "2023-05-12T15:25:47.043Z"
   },
   {
    "duration": 13,
    "start_time": "2023-05-12T15:25:49.549Z"
   },
   {
    "duration": 13,
    "start_time": "2023-05-12T15:25:53.240Z"
   },
   {
    "duration": 11,
    "start_time": "2023-05-12T15:26:16.406Z"
   },
   {
    "duration": 17,
    "start_time": "2023-05-12T15:26:28.087Z"
   },
   {
    "duration": 31,
    "start_time": "2023-05-12T15:26:53.539Z"
   },
   {
    "duration": 21,
    "start_time": "2023-05-12T15:26:59.736Z"
   },
   {
    "duration": 11,
    "start_time": "2023-05-12T15:27:50.898Z"
   },
   {
    "duration": 27,
    "start_time": "2023-05-12T15:28:27.422Z"
   },
   {
    "duration": 21,
    "start_time": "2023-05-12T15:28:30.549Z"
   },
   {
    "duration": 24,
    "start_time": "2023-05-12T15:28:34.534Z"
   },
   {
    "duration": 31,
    "start_time": "2023-05-12T15:29:15.091Z"
   },
   {
    "duration": 217,
    "start_time": "2023-05-12T15:30:56.223Z"
   },
   {
    "duration": 40,
    "start_time": "2023-05-12T15:31:06.110Z"
   },
   {
    "duration": 49,
    "start_time": "2023-05-12T15:35:58.262Z"
   },
   {
    "duration": 24,
    "start_time": "2023-05-12T15:36:02.224Z"
   },
   {
    "duration": 20,
    "start_time": "2023-05-12T15:37:20.653Z"
   },
   {
    "duration": 21,
    "start_time": "2023-05-12T15:37:26.494Z"
   },
   {
    "duration": 39,
    "start_time": "2023-05-12T15:38:34.830Z"
   },
   {
    "duration": 38,
    "start_time": "2023-05-12T15:38:43.716Z"
   },
   {
    "duration": 50,
    "start_time": "2023-05-12T15:41:29.814Z"
   },
   {
    "duration": 62,
    "start_time": "2023-05-12T15:42:07.589Z"
   },
   {
    "duration": 40,
    "start_time": "2023-05-12T15:42:52.631Z"
   },
   {
    "duration": 239,
    "start_time": "2023-05-12T15:43:21.570Z"
   },
   {
    "duration": 62,
    "start_time": "2023-05-12T15:44:44.327Z"
   },
   {
    "duration": 60,
    "start_time": "2023-05-12T15:44:57.027Z"
   },
   {
    "duration": 41,
    "start_time": "2023-05-12T15:45:38.022Z"
   },
   {
    "duration": 51,
    "start_time": "2023-05-12T15:46:04.727Z"
   },
   {
    "duration": 29,
    "start_time": "2023-05-12T15:46:24.490Z"
   },
   {
    "duration": 29,
    "start_time": "2023-05-12T15:46:30.231Z"
   },
   {
    "duration": 35,
    "start_time": "2023-05-12T15:46:33.523Z"
   },
   {
    "duration": 40,
    "start_time": "2023-05-12T15:46:39.788Z"
   },
   {
    "duration": 32,
    "start_time": "2023-05-12T15:46:52.335Z"
   },
   {
    "duration": 42,
    "start_time": "2023-05-12T15:46:59.614Z"
   },
   {
    "duration": 53,
    "start_time": "2023-05-12T15:47:23.960Z"
   },
   {
    "duration": 36,
    "start_time": "2023-05-12T15:48:46.891Z"
   },
   {
    "duration": 45,
    "start_time": "2023-05-12T15:49:34.935Z"
   },
   {
    "duration": 35,
    "start_time": "2023-05-12T15:49:43.061Z"
   },
   {
    "duration": 58,
    "start_time": "2023-05-12T15:52:31.533Z"
   },
   {
    "duration": 70,
    "start_time": "2023-05-12T15:52:55.811Z"
   },
   {
    "duration": 42,
    "start_time": "2023-05-12T15:53:06.117Z"
   },
   {
    "duration": 44,
    "start_time": "2023-05-12T15:53:45.361Z"
   },
   {
    "duration": 21,
    "start_time": "2023-05-12T15:55:11.691Z"
   },
   {
    "duration": 35,
    "start_time": "2023-05-12T15:58:17.810Z"
   },
   {
    "duration": 30,
    "start_time": "2023-05-12T16:05:40.704Z"
   },
   {
    "duration": 55,
    "start_time": "2023-05-12T16:05:50.358Z"
   },
   {
    "duration": 43,
    "start_time": "2023-05-12T16:06:01.693Z"
   },
   {
    "duration": 35,
    "start_time": "2023-05-12T16:06:11.903Z"
   },
   {
    "duration": 31,
    "start_time": "2023-05-12T16:10:02.908Z"
   },
   {
    "duration": 11,
    "start_time": "2023-05-12T16:11:07.857Z"
   },
   {
    "duration": 12,
    "start_time": "2023-05-12T16:11:10.851Z"
   },
   {
    "duration": 29,
    "start_time": "2023-05-12T16:13:44.707Z"
   },
   {
    "duration": 45,
    "start_time": "2023-05-12T16:16:48.815Z"
   },
   {
    "duration": 9,
    "start_time": "2023-05-12T16:16:59.799Z"
   },
   {
    "duration": 18,
    "start_time": "2023-05-12T16:17:02.387Z"
   },
   {
    "duration": 16,
    "start_time": "2023-05-12T16:17:23.627Z"
   },
   {
    "duration": 36,
    "start_time": "2023-05-12T16:20:52.895Z"
   },
   {
    "duration": 18,
    "start_time": "2023-05-12T16:22:45.023Z"
   },
   {
    "duration": 31,
    "start_time": "2023-05-12T16:27:08.393Z"
   },
   {
    "duration": 52,
    "start_time": "2023-05-12T16:27:27.772Z"
   },
   {
    "duration": 31,
    "start_time": "2023-05-12T16:28:20.050Z"
   },
   {
    "duration": 22,
    "start_time": "2023-05-12T16:45:49.606Z"
   },
   {
    "duration": 26,
    "start_time": "2023-05-12T16:46:36.303Z"
   },
   {
    "duration": 10,
    "start_time": "2023-05-12T16:46:40.497Z"
   },
   {
    "duration": 10,
    "start_time": "2023-05-12T16:47:14.395Z"
   },
   {
    "duration": 5,
    "start_time": "2023-05-12T16:47:22.990Z"
   },
   {
    "duration": 232,
    "start_time": "2023-05-12T16:50:07.326Z"
   },
   {
    "duration": 20,
    "start_time": "2023-05-12T16:56:50.593Z"
   },
   {
    "duration": 15,
    "start_time": "2023-05-12T16:58:07.084Z"
   },
   {
    "duration": 16,
    "start_time": "2023-05-12T16:58:31.788Z"
   },
   {
    "duration": 18,
    "start_time": "2023-05-12T16:59:10.575Z"
   },
   {
    "duration": 21,
    "start_time": "2023-05-12T16:59:20.706Z"
   },
   {
    "duration": 273,
    "start_time": "2023-05-12T17:00:21.671Z"
   },
   {
    "duration": 24,
    "start_time": "2023-05-12T17:00:30.869Z"
   },
   {
    "duration": 20,
    "start_time": "2023-05-12T17:00:37.097Z"
   },
   {
    "duration": 27,
    "start_time": "2023-05-12T17:03:56.591Z"
   },
   {
    "duration": 16,
    "start_time": "2023-05-12T17:04:47.893Z"
   },
   {
    "duration": 6,
    "start_time": "2023-05-12T17:05:07.422Z"
   },
   {
    "duration": 25,
    "start_time": "2023-05-12T17:05:13.171Z"
   },
   {
    "duration": 25,
    "start_time": "2023-05-12T17:05:28.906Z"
   },
   {
    "duration": 69,
    "start_time": "2023-05-12T20:31:13.640Z"
   },
   {
    "duration": 8,
    "start_time": "2023-05-12T20:31:36.347Z"
   },
   {
    "duration": 1982,
    "start_time": "2023-05-12T20:31:44.164Z"
   },
   {
    "duration": 616,
    "start_time": "2023-05-12T20:31:46.149Z"
   },
   {
    "duration": 3,
    "start_time": "2023-05-12T20:31:46.767Z"
   },
   {
    "duration": 65,
    "start_time": "2023-05-12T20:31:46.772Z"
   },
   {
    "duration": 18,
    "start_time": "2023-05-12T20:31:46.839Z"
   },
   {
    "duration": 7,
    "start_time": "2023-05-12T20:31:46.859Z"
   },
   {
    "duration": 6,
    "start_time": "2023-05-12T20:31:46.867Z"
   },
   {
    "duration": 144,
    "start_time": "2023-05-12T20:31:46.875Z"
   },
   {
    "duration": 3,
    "start_time": "2023-05-12T20:31:47.022Z"
   },
   {
    "duration": 20,
    "start_time": "2023-05-12T20:31:47.028Z"
   },
   {
    "duration": 6,
    "start_time": "2023-05-12T20:31:47.050Z"
   },
   {
    "duration": 81,
    "start_time": "2023-05-12T20:31:47.058Z"
   },
   {
    "duration": 12,
    "start_time": "2023-05-12T20:31:47.141Z"
   },
   {
    "duration": 35,
    "start_time": "2023-05-12T20:31:47.155Z"
   },
   {
    "duration": 14,
    "start_time": "2023-05-12T20:31:47.192Z"
   },
   {
    "duration": 752,
    "start_time": "2023-05-12T20:31:47.208Z"
   },
   {
    "duration": 1173,
    "start_time": "2023-05-12T20:31:47.962Z"
   },
   {
    "duration": 5,
    "start_time": "2023-05-12T20:31:49.137Z"
   },
   {
    "duration": 711,
    "start_time": "2023-05-12T20:31:49.143Z"
   },
   {
    "duration": 953,
    "start_time": "2023-05-12T20:31:49.856Z"
   },
   {
    "duration": 28,
    "start_time": "2023-05-12T20:31:50.811Z"
   },
   {
    "duration": 57,
    "start_time": "2023-05-12T20:31:50.841Z"
   },
   {
    "duration": 77,
    "start_time": "2023-05-12T20:31:50.899Z"
   },
   {
    "duration": 44,
    "start_time": "2023-05-12T20:31:50.978Z"
   },
   {
    "duration": 39,
    "start_time": "2023-05-12T20:31:51.024Z"
   },
   {
    "duration": 64,
    "start_time": "2023-05-12T20:31:51.065Z"
   },
   {
    "duration": 19,
    "start_time": "2023-05-12T20:31:51.132Z"
   },
   {
    "duration": 47,
    "start_time": "2023-05-12T20:31:51.155Z"
   },
   {
    "duration": 26,
    "start_time": "2023-05-12T20:31:51.205Z"
   },
   {
    "duration": 36,
    "start_time": "2023-05-12T20:31:51.233Z"
   },
   {
    "duration": 832,
    "start_time": "2023-05-12T20:31:51.270Z"
   },
   {
    "duration": 5,
    "start_time": "2023-05-12T20:31:52.107Z"
   },
   {
    "duration": 38,
    "start_time": "2023-05-12T20:31:52.114Z"
   },
   {
    "duration": 760,
    "start_time": "2023-05-12T20:31:52.154Z"
   },
   {
    "duration": 13,
    "start_time": "2023-05-12T20:31:52.915Z"
   },
   {
    "duration": 16,
    "start_time": "2023-05-12T20:31:52.930Z"
   },
   {
    "duration": 55,
    "start_time": "2023-05-12T20:31:52.947Z"
   },
   {
    "duration": 31,
    "start_time": "2023-05-12T20:31:53.007Z"
   },
   {
    "duration": 21,
    "start_time": "2023-05-12T20:31:53.039Z"
   },
   {
    "duration": 13,
    "start_time": "2023-05-12T20:31:53.062Z"
   },
   {
    "duration": 247,
    "start_time": "2023-05-12T20:31:53.076Z"
   },
   {
    "duration": 22,
    "start_time": "2023-05-12T20:31:53.325Z"
   },
   {
    "duration": 9,
    "start_time": "2023-05-12T20:31:53.348Z"
   },
   {
    "duration": 67,
    "start_time": "2023-05-12T20:31:53.358Z"
   },
   {
    "duration": 14,
    "start_time": "2023-05-12T20:31:53.427Z"
   },
   {
    "duration": 363,
    "start_time": "2023-05-12T20:31:53.443Z"
   },
   {
    "duration": 0,
    "start_time": "2023-05-12T20:31:53.809Z"
   },
   {
    "duration": 0,
    "start_time": "2023-05-12T20:31:53.810Z"
   },
   {
    "duration": 0,
    "start_time": "2023-05-12T20:31:53.812Z"
   },
   {
    "duration": 0,
    "start_time": "2023-05-12T20:31:53.813Z"
   },
   {
    "duration": 0,
    "start_time": "2023-05-12T20:31:53.814Z"
   },
   {
    "duration": 0,
    "start_time": "2023-05-12T20:31:53.816Z"
   },
   {
    "duration": 0,
    "start_time": "2023-05-12T20:31:53.817Z"
   },
   {
    "duration": 0,
    "start_time": "2023-05-12T20:31:53.818Z"
   },
   {
    "duration": 0,
    "start_time": "2023-05-12T20:31:53.819Z"
   },
   {
    "duration": 0,
    "start_time": "2023-05-12T20:31:53.820Z"
   },
   {
    "duration": 0,
    "start_time": "2023-05-12T20:31:53.823Z"
   },
   {
    "duration": 0,
    "start_time": "2023-05-12T20:31:53.824Z"
   },
   {
    "duration": 0,
    "start_time": "2023-05-12T20:31:53.825Z"
   },
   {
    "duration": 0,
    "start_time": "2023-05-12T20:31:53.826Z"
   },
   {
    "duration": 0,
    "start_time": "2023-05-12T20:31:53.827Z"
   },
   {
    "duration": 0,
    "start_time": "2023-05-12T20:31:53.828Z"
   },
   {
    "duration": 0,
    "start_time": "2023-05-12T20:31:53.830Z"
   },
   {
    "duration": 0,
    "start_time": "2023-05-12T20:31:53.831Z"
   },
   {
    "duration": 0,
    "start_time": "2023-05-12T20:31:53.832Z"
   },
   {
    "duration": 0,
    "start_time": "2023-05-12T20:31:53.833Z"
   },
   {
    "duration": 0,
    "start_time": "2023-05-12T20:31:53.834Z"
   },
   {
    "duration": 0,
    "start_time": "2023-05-12T20:31:53.835Z"
   },
   {
    "duration": 0,
    "start_time": "2023-05-12T20:31:53.836Z"
   },
   {
    "duration": 0,
    "start_time": "2023-05-12T20:31:53.837Z"
   },
   {
    "duration": 0,
    "start_time": "2023-05-12T20:31:53.838Z"
   },
   {
    "duration": 0,
    "start_time": "2023-05-12T20:31:53.839Z"
   },
   {
    "duration": 0,
    "start_time": "2023-05-12T20:31:53.840Z"
   },
   {
    "duration": 0,
    "start_time": "2023-05-12T20:31:53.894Z"
   },
   {
    "duration": 0,
    "start_time": "2023-05-12T20:31:53.895Z"
   },
   {
    "duration": 0,
    "start_time": "2023-05-12T20:31:53.898Z"
   },
   {
    "duration": 0,
    "start_time": "2023-05-12T20:31:53.898Z"
   },
   {
    "duration": 0,
    "start_time": "2023-05-12T20:31:53.899Z"
   },
   {
    "duration": 0,
    "start_time": "2023-05-12T20:31:53.900Z"
   },
   {
    "duration": 0,
    "start_time": "2023-05-12T20:31:53.900Z"
   },
   {
    "duration": 0,
    "start_time": "2023-05-12T20:31:53.901Z"
   },
   {
    "duration": 0,
    "start_time": "2023-05-12T20:31:53.901Z"
   },
   {
    "duration": 0,
    "start_time": "2023-05-12T20:31:53.902Z"
   },
   {
    "duration": 0,
    "start_time": "2023-05-12T20:31:53.902Z"
   },
   {
    "duration": 0,
    "start_time": "2023-05-12T20:31:53.903Z"
   },
   {
    "duration": 0,
    "start_time": "2023-05-12T20:31:53.903Z"
   },
   {
    "duration": 0,
    "start_time": "2023-05-12T20:31:53.904Z"
   },
   {
    "duration": 0,
    "start_time": "2023-05-12T20:31:53.904Z"
   },
   {
    "duration": 0,
    "start_time": "2023-05-12T20:31:53.905Z"
   },
   {
    "duration": 0,
    "start_time": "2023-05-12T20:31:53.905Z"
   },
   {
    "duration": 0,
    "start_time": "2023-05-12T20:31:53.906Z"
   },
   {
    "duration": 0,
    "start_time": "2023-05-12T20:31:53.911Z"
   },
   {
    "duration": 0,
    "start_time": "2023-05-12T20:31:53.912Z"
   },
   {
    "duration": 0,
    "start_time": "2023-05-12T20:31:53.914Z"
   },
   {
    "duration": 0,
    "start_time": "2023-05-12T20:31:53.915Z"
   },
   {
    "duration": 0,
    "start_time": "2023-05-12T20:31:53.917Z"
   },
   {
    "duration": 0,
    "start_time": "2023-05-12T20:31:53.918Z"
   },
   {
    "duration": 0,
    "start_time": "2023-05-12T20:31:53.919Z"
   },
   {
    "duration": 0,
    "start_time": "2023-05-12T20:31:53.920Z"
   },
   {
    "duration": 0,
    "start_time": "2023-05-12T20:31:53.921Z"
   },
   {
    "duration": 0,
    "start_time": "2023-05-12T20:31:53.924Z"
   },
   {
    "duration": 0,
    "start_time": "2023-05-12T20:31:53.926Z"
   },
   {
    "duration": 0,
    "start_time": "2023-05-12T20:31:53.928Z"
   },
   {
    "duration": 25,
    "start_time": "2023-05-12T20:33:34.413Z"
   },
   {
    "duration": 41,
    "start_time": "2023-05-12T20:33:42.410Z"
   },
   {
    "duration": 14,
    "start_time": "2023-05-12T20:33:49.904Z"
   },
   {
    "duration": 13,
    "start_time": "2023-05-12T20:36:20.736Z"
   },
   {
    "duration": 16,
    "start_time": "2023-05-12T20:36:27.823Z"
   },
   {
    "duration": 141,
    "start_time": "2023-05-12T20:36:41.904Z"
   },
   {
    "duration": 12,
    "start_time": "2023-05-12T20:38:47.663Z"
   },
   {
    "duration": 122,
    "start_time": "2023-05-12T20:43:15.545Z"
   },
   {
    "duration": 75,
    "start_time": "2023-05-12T20:43:46.209Z"
   },
   {
    "duration": 10,
    "start_time": "2023-05-12T20:45:26.432Z"
   },
   {
    "duration": 14,
    "start_time": "2023-05-12T20:45:51.721Z"
   },
   {
    "duration": 12,
    "start_time": "2023-05-12T20:46:20.817Z"
   },
   {
    "duration": 1470,
    "start_time": "2023-05-12T20:51:27.063Z"
   },
   {
    "duration": 115,
    "start_time": "2023-05-12T20:51:28.535Z"
   },
   {
    "duration": 3,
    "start_time": "2023-05-12T20:51:28.652Z"
   },
   {
    "duration": 57,
    "start_time": "2023-05-12T20:51:28.657Z"
   },
   {
    "duration": 17,
    "start_time": "2023-05-12T20:51:28.715Z"
   },
   {
    "duration": 7,
    "start_time": "2023-05-12T20:51:28.734Z"
   },
   {
    "duration": 6,
    "start_time": "2023-05-12T20:51:28.742Z"
   },
   {
    "duration": 41,
    "start_time": "2023-05-12T20:51:28.749Z"
   },
   {
    "duration": 7,
    "start_time": "2023-05-12T20:51:28.791Z"
   },
   {
    "duration": 16,
    "start_time": "2023-05-12T20:51:28.801Z"
   },
   {
    "duration": 5,
    "start_time": "2023-05-12T20:51:28.819Z"
   },
   {
    "duration": 76,
    "start_time": "2023-05-12T20:51:28.825Z"
   },
   {
    "duration": 25,
    "start_time": "2023-05-12T20:51:28.902Z"
   },
   {
    "duration": 23,
    "start_time": "2023-05-12T20:51:28.929Z"
   },
   {
    "duration": 8,
    "start_time": "2023-05-12T20:51:28.953Z"
   },
   {
    "duration": 668,
    "start_time": "2023-05-12T20:51:28.962Z"
   },
   {
    "duration": 135,
    "start_time": "2023-05-12T20:51:29.631Z"
   },
   {
    "duration": 5,
    "start_time": "2023-05-12T20:51:29.768Z"
   },
   {
    "duration": 733,
    "start_time": "2023-05-12T20:51:29.775Z"
   },
   {
    "duration": 961,
    "start_time": "2023-05-12T20:51:30.510Z"
   },
   {
    "duration": 34,
    "start_time": "2023-05-12T20:51:31.472Z"
   },
   {
    "duration": 45,
    "start_time": "2023-05-12T20:51:31.507Z"
   },
   {
    "duration": 56,
    "start_time": "2023-05-12T20:51:31.553Z"
   },
   {
    "duration": 51,
    "start_time": "2023-05-12T20:51:31.611Z"
   },
   {
    "duration": 41,
    "start_time": "2023-05-12T20:51:31.663Z"
   },
   {
    "duration": 69,
    "start_time": "2023-05-12T20:51:31.706Z"
   },
   {
    "duration": 22,
    "start_time": "2023-05-12T20:51:31.777Z"
   },
   {
    "duration": 56,
    "start_time": "2023-05-12T20:51:31.803Z"
   },
   {
    "duration": 39,
    "start_time": "2023-05-12T20:51:31.860Z"
   },
   {
    "duration": 40,
    "start_time": "2023-05-12T20:51:31.901Z"
   },
   {
    "duration": 796,
    "start_time": "2023-05-12T20:51:31.942Z"
   },
   {
    "duration": 4,
    "start_time": "2023-05-12T20:51:32.740Z"
   },
   {
    "duration": 51,
    "start_time": "2023-05-12T20:51:32.746Z"
   },
   {
    "duration": 802,
    "start_time": "2023-05-12T20:51:32.799Z"
   },
   {
    "duration": 10,
    "start_time": "2023-05-12T20:51:33.603Z"
   },
   {
    "duration": 13,
    "start_time": "2023-05-12T20:51:33.614Z"
   },
   {
    "duration": 31,
    "start_time": "2023-05-12T20:51:33.628Z"
   },
   {
    "duration": 50,
    "start_time": "2023-05-12T20:51:33.660Z"
   },
   {
    "duration": 23,
    "start_time": "2023-05-12T20:51:33.712Z"
   },
   {
    "duration": 16,
    "start_time": "2023-05-12T20:51:33.737Z"
   },
   {
    "duration": 267,
    "start_time": "2023-05-12T20:51:33.754Z"
   },
   {
    "duration": 19,
    "start_time": "2023-05-12T20:51:34.023Z"
   },
   {
    "duration": 10,
    "start_time": "2023-05-12T20:51:34.043Z"
   },
   {
    "duration": 56,
    "start_time": "2023-05-12T20:51:34.055Z"
   },
   {
    "duration": 12,
    "start_time": "2023-05-12T20:51:34.112Z"
   },
   {
    "duration": 245,
    "start_time": "2023-05-12T20:51:34.125Z"
   },
   {
    "duration": 139,
    "start_time": "2023-05-12T20:51:34.371Z"
   },
   {
    "duration": 0,
    "start_time": "2023-05-12T20:51:34.514Z"
   },
   {
    "duration": 0,
    "start_time": "2023-05-12T20:51:34.515Z"
   },
   {
    "duration": 0,
    "start_time": "2023-05-12T20:51:34.516Z"
   },
   {
    "duration": 0,
    "start_time": "2023-05-12T20:51:34.517Z"
   },
   {
    "duration": 0,
    "start_time": "2023-05-12T20:51:34.519Z"
   },
   {
    "duration": 0,
    "start_time": "2023-05-12T20:51:34.520Z"
   },
   {
    "duration": 0,
    "start_time": "2023-05-12T20:51:34.521Z"
   },
   {
    "duration": 0,
    "start_time": "2023-05-12T20:51:34.523Z"
   },
   {
    "duration": 0,
    "start_time": "2023-05-12T20:51:34.524Z"
   },
   {
    "duration": 0,
    "start_time": "2023-05-12T20:51:34.525Z"
   },
   {
    "duration": 0,
    "start_time": "2023-05-12T20:51:34.526Z"
   },
   {
    "duration": 0,
    "start_time": "2023-05-12T20:51:34.527Z"
   },
   {
    "duration": 0,
    "start_time": "2023-05-12T20:51:34.529Z"
   },
   {
    "duration": 0,
    "start_time": "2023-05-12T20:51:34.530Z"
   },
   {
    "duration": 0,
    "start_time": "2023-05-12T20:51:34.531Z"
   },
   {
    "duration": 0,
    "start_time": "2023-05-12T20:51:34.531Z"
   },
   {
    "duration": 0,
    "start_time": "2023-05-12T20:51:34.533Z"
   },
   {
    "duration": 0,
    "start_time": "2023-05-12T20:51:34.534Z"
   },
   {
    "duration": 0,
    "start_time": "2023-05-12T20:51:34.536Z"
   },
   {
    "duration": 0,
    "start_time": "2023-05-12T20:51:34.537Z"
   },
   {
    "duration": 0,
    "start_time": "2023-05-12T20:51:34.538Z"
   },
   {
    "duration": 0,
    "start_time": "2023-05-12T20:51:34.539Z"
   },
   {
    "duration": 0,
    "start_time": "2023-05-12T20:51:34.540Z"
   },
   {
    "duration": 0,
    "start_time": "2023-05-12T20:51:34.596Z"
   },
   {
    "duration": 0,
    "start_time": "2023-05-12T20:51:34.596Z"
   },
   {
    "duration": 0,
    "start_time": "2023-05-12T20:51:34.597Z"
   },
   {
    "duration": 0,
    "start_time": "2023-05-12T20:51:34.597Z"
   },
   {
    "duration": 0,
    "start_time": "2023-05-12T20:51:34.598Z"
   },
   {
    "duration": 0,
    "start_time": "2023-05-12T20:51:34.602Z"
   },
   {
    "duration": 0,
    "start_time": "2023-05-12T20:51:34.603Z"
   },
   {
    "duration": 0,
    "start_time": "2023-05-12T20:51:34.604Z"
   },
   {
    "duration": 0,
    "start_time": "2023-05-12T20:51:34.605Z"
   },
   {
    "duration": 0,
    "start_time": "2023-05-12T20:51:34.606Z"
   },
   {
    "duration": 0,
    "start_time": "2023-05-12T20:51:34.607Z"
   },
   {
    "duration": 0,
    "start_time": "2023-05-12T20:51:34.608Z"
   },
   {
    "duration": 0,
    "start_time": "2023-05-12T20:51:34.609Z"
   },
   {
    "duration": 0,
    "start_time": "2023-05-12T20:51:34.610Z"
   },
   {
    "duration": 0,
    "start_time": "2023-05-12T20:51:34.611Z"
   },
   {
    "duration": 0,
    "start_time": "2023-05-12T20:51:34.612Z"
   },
   {
    "duration": 0,
    "start_time": "2023-05-12T20:51:34.613Z"
   },
   {
    "duration": 0,
    "start_time": "2023-05-12T20:51:34.614Z"
   },
   {
    "duration": 0,
    "start_time": "2023-05-12T20:51:34.615Z"
   },
   {
    "duration": 0,
    "start_time": "2023-05-12T20:51:34.616Z"
   },
   {
    "duration": 0,
    "start_time": "2023-05-12T20:51:34.617Z"
   },
   {
    "duration": 0,
    "start_time": "2023-05-12T20:51:34.617Z"
   },
   {
    "duration": 0,
    "start_time": "2023-05-12T20:51:34.618Z"
   },
   {
    "duration": 0,
    "start_time": "2023-05-12T20:51:34.619Z"
   },
   {
    "duration": 0,
    "start_time": "2023-05-12T20:51:34.620Z"
   },
   {
    "duration": 0,
    "start_time": "2023-05-12T20:51:34.621Z"
   },
   {
    "duration": 0,
    "start_time": "2023-05-12T20:51:34.622Z"
   },
   {
    "duration": 0,
    "start_time": "2023-05-12T20:51:34.622Z"
   },
   {
    "duration": 0,
    "start_time": "2023-05-12T20:51:34.624Z"
   },
   {
    "duration": 0,
    "start_time": "2023-05-12T20:51:34.624Z"
   },
   {
    "duration": 0,
    "start_time": "2023-05-12T20:51:34.625Z"
   },
   {
    "duration": 0,
    "start_time": "2023-05-12T20:51:34.627Z"
   },
   {
    "duration": 0,
    "start_time": "2023-05-12T20:51:34.628Z"
   },
   {
    "duration": 16,
    "start_time": "2023-05-12T20:53:05.442Z"
   },
   {
    "duration": 11,
    "start_time": "2023-05-12T20:53:11.825Z"
   },
   {
    "duration": 7,
    "start_time": "2023-05-12T20:53:23.659Z"
   },
   {
    "duration": 146,
    "start_time": "2023-05-12T20:53:29.272Z"
   },
   {
    "duration": 33,
    "start_time": "2023-05-12T20:54:01.933Z"
   },
   {
    "duration": 14,
    "start_time": "2023-05-12T20:54:05.503Z"
   },
   {
    "duration": 8,
    "start_time": "2023-05-12T20:55:14.720Z"
   },
   {
    "duration": 8,
    "start_time": "2023-05-12T20:55:19.317Z"
   },
   {
    "duration": 15,
    "start_time": "2023-05-12T20:55:36.709Z"
   },
   {
    "duration": 11,
    "start_time": "2023-05-12T20:57:02.120Z"
   },
   {
    "duration": 16,
    "start_time": "2023-05-12T20:57:03.916Z"
   },
   {
    "duration": 12,
    "start_time": "2023-05-12T20:57:09.663Z"
   },
   {
    "duration": 8,
    "start_time": "2023-05-12T20:57:12.108Z"
   },
   {
    "duration": 10,
    "start_time": "2023-05-12T20:57:15.320Z"
   },
   {
    "duration": 15,
    "start_time": "2023-05-12T20:58:19.308Z"
   },
   {
    "duration": 11,
    "start_time": "2023-05-12T20:58:21.227Z"
   },
   {
    "duration": 15,
    "start_time": "2023-05-12T20:58:49.230Z"
   },
   {
    "duration": 8,
    "start_time": "2023-05-12T21:00:37.204Z"
   },
   {
    "duration": 13,
    "start_time": "2023-05-12T21:01:17.711Z"
   },
   {
    "duration": 12,
    "start_time": "2023-05-12T21:04:45.544Z"
   },
   {
    "duration": 11,
    "start_time": "2023-05-12T21:04:53.304Z"
   },
   {
    "duration": 17,
    "start_time": "2023-05-12T21:05:10.550Z"
   },
   {
    "duration": 1547,
    "start_time": "2023-05-12T21:05:24.066Z"
   },
   {
    "duration": 138,
    "start_time": "2023-05-12T21:05:25.615Z"
   },
   {
    "duration": 3,
    "start_time": "2023-05-12T21:05:25.755Z"
   },
   {
    "duration": 57,
    "start_time": "2023-05-12T21:05:25.760Z"
   },
   {
    "duration": 21,
    "start_time": "2023-05-12T21:05:25.819Z"
   },
   {
    "duration": 8,
    "start_time": "2023-05-12T21:05:25.841Z"
   },
   {
    "duration": 14,
    "start_time": "2023-05-12T21:05:25.851Z"
   },
   {
    "duration": 54,
    "start_time": "2023-05-12T21:05:25.867Z"
   },
   {
    "duration": 2,
    "start_time": "2023-05-12T21:05:25.923Z"
   },
   {
    "duration": 29,
    "start_time": "2023-05-12T21:05:25.927Z"
   },
   {
    "duration": 5,
    "start_time": "2023-05-12T21:05:25.957Z"
   },
   {
    "duration": 69,
    "start_time": "2023-05-12T21:05:25.964Z"
   },
   {
    "duration": 21,
    "start_time": "2023-05-12T21:05:26.035Z"
   },
   {
    "duration": 58,
    "start_time": "2023-05-12T21:05:26.058Z"
   },
   {
    "duration": 9,
    "start_time": "2023-05-12T21:05:26.118Z"
   },
   {
    "duration": 796,
    "start_time": "2023-05-12T21:05:26.128Z"
   },
   {
    "duration": 137,
    "start_time": "2023-05-12T21:05:26.926Z"
   },
   {
    "duration": 8,
    "start_time": "2023-05-12T21:05:27.065Z"
   },
   {
    "duration": 748,
    "start_time": "2023-05-12T21:05:27.075Z"
   },
   {
    "duration": 1000,
    "start_time": "2023-05-12T21:05:27.825Z"
   },
   {
    "duration": 28,
    "start_time": "2023-05-12T21:05:28.826Z"
   },
   {
    "duration": 38,
    "start_time": "2023-05-12T21:05:28.856Z"
   },
   {
    "duration": 43,
    "start_time": "2023-05-12T21:05:28.895Z"
   },
   {
    "duration": 35,
    "start_time": "2023-05-12T21:05:28.939Z"
   },
   {
    "duration": 58,
    "start_time": "2023-05-12T21:05:28.975Z"
   },
   {
    "duration": 43,
    "start_time": "2023-05-12T21:05:29.035Z"
   },
   {
    "duration": 34,
    "start_time": "2023-05-12T21:05:29.079Z"
   },
   {
    "duration": 46,
    "start_time": "2023-05-12T21:05:29.117Z"
   },
   {
    "duration": 49,
    "start_time": "2023-05-12T21:05:29.164Z"
   },
   {
    "duration": 50,
    "start_time": "2023-05-12T21:05:29.214Z"
   },
   {
    "duration": 843,
    "start_time": "2023-05-12T21:05:29.266Z"
   },
   {
    "duration": 4,
    "start_time": "2023-05-12T21:05:30.111Z"
   },
   {
    "duration": 91,
    "start_time": "2023-05-12T21:05:30.117Z"
   },
   {
    "duration": 805,
    "start_time": "2023-05-12T21:05:30.212Z"
   },
   {
    "duration": 11,
    "start_time": "2023-05-12T21:05:31.019Z"
   },
   {
    "duration": 70,
    "start_time": "2023-05-12T21:05:31.032Z"
   },
   {
    "duration": 94,
    "start_time": "2023-05-12T21:05:31.104Z"
   },
   {
    "duration": 109,
    "start_time": "2023-05-12T21:05:31.199Z"
   },
   {
    "duration": 59,
    "start_time": "2023-05-12T21:05:31.310Z"
   },
   {
    "duration": 55,
    "start_time": "2023-05-12T21:05:31.371Z"
   },
   {
    "duration": 278,
    "start_time": "2023-05-12T21:05:31.428Z"
   },
   {
    "duration": 22,
    "start_time": "2023-05-12T21:05:31.708Z"
   },
   {
    "duration": 20,
    "start_time": "2023-05-12T21:05:31.732Z"
   },
   {
    "duration": 71,
    "start_time": "2023-05-12T21:05:31.754Z"
   },
   {
    "duration": 34,
    "start_time": "2023-05-12T21:05:31.827Z"
   },
   {
    "duration": 36,
    "start_time": "2023-05-12T21:05:31.863Z"
   },
   {
    "duration": 142,
    "start_time": "2023-05-12T21:05:31.902Z"
   },
   {
    "duration": 50,
    "start_time": "2023-05-12T21:05:32.046Z"
   },
   {
    "duration": 18,
    "start_time": "2023-05-12T21:05:32.098Z"
   },
   {
    "duration": 154,
    "start_time": "2023-05-12T21:05:32.118Z"
   },
   {
    "duration": 199,
    "start_time": "2023-05-12T21:05:32.273Z"
   },
   {
    "duration": 0,
    "start_time": "2023-05-12T21:05:32.485Z"
   },
   {
    "duration": 0,
    "start_time": "2023-05-12T21:05:32.486Z"
   },
   {
    "duration": 0,
    "start_time": "2023-05-12T21:05:32.487Z"
   },
   {
    "duration": 0,
    "start_time": "2023-05-12T21:05:32.491Z"
   },
   {
    "duration": 0,
    "start_time": "2023-05-12T21:05:32.492Z"
   },
   {
    "duration": 0,
    "start_time": "2023-05-12T21:05:32.495Z"
   },
   {
    "duration": 0,
    "start_time": "2023-05-12T21:05:32.496Z"
   },
   {
    "duration": 0,
    "start_time": "2023-05-12T21:05:32.496Z"
   },
   {
    "duration": 0,
    "start_time": "2023-05-12T21:05:32.498Z"
   },
   {
    "duration": 0,
    "start_time": "2023-05-12T21:05:32.499Z"
   },
   {
    "duration": 0,
    "start_time": "2023-05-12T21:05:32.499Z"
   },
   {
    "duration": 0,
    "start_time": "2023-05-12T21:05:32.500Z"
   },
   {
    "duration": 0,
    "start_time": "2023-05-12T21:05:32.501Z"
   },
   {
    "duration": 0,
    "start_time": "2023-05-12T21:05:32.502Z"
   },
   {
    "duration": 0,
    "start_time": "2023-05-12T21:05:32.503Z"
   },
   {
    "duration": 0,
    "start_time": "2023-05-12T21:05:32.504Z"
   },
   {
    "duration": 0,
    "start_time": "2023-05-12T21:05:32.505Z"
   },
   {
    "duration": 0,
    "start_time": "2023-05-12T21:05:32.506Z"
   },
   {
    "duration": 0,
    "start_time": "2023-05-12T21:05:32.508Z"
   },
   {
    "duration": 0,
    "start_time": "2023-05-12T21:05:32.509Z"
   },
   {
    "duration": 0,
    "start_time": "2023-05-12T21:05:32.511Z"
   },
   {
    "duration": 0,
    "start_time": "2023-05-12T21:05:32.512Z"
   },
   {
    "duration": 0,
    "start_time": "2023-05-12T21:05:32.512Z"
   },
   {
    "duration": 0,
    "start_time": "2023-05-12T21:05:32.513Z"
   },
   {
    "duration": 0,
    "start_time": "2023-05-12T21:05:32.514Z"
   },
   {
    "duration": 0,
    "start_time": "2023-05-12T21:05:32.515Z"
   },
   {
    "duration": 0,
    "start_time": "2023-05-12T21:05:32.516Z"
   },
   {
    "duration": 0,
    "start_time": "2023-05-12T21:05:32.517Z"
   },
   {
    "duration": 0,
    "start_time": "2023-05-12T21:05:32.518Z"
   },
   {
    "duration": 0,
    "start_time": "2023-05-12T21:05:32.520Z"
   },
   {
    "duration": 0,
    "start_time": "2023-05-12T21:05:32.521Z"
   },
   {
    "duration": 0,
    "start_time": "2023-05-12T21:05:32.523Z"
   },
   {
    "duration": 0,
    "start_time": "2023-05-12T21:05:32.524Z"
   },
   {
    "duration": 0,
    "start_time": "2023-05-12T21:05:32.525Z"
   },
   {
    "duration": 0,
    "start_time": "2023-05-12T21:05:32.526Z"
   },
   {
    "duration": 0,
    "start_time": "2023-05-12T21:05:32.527Z"
   },
   {
    "duration": 0,
    "start_time": "2023-05-12T21:05:32.528Z"
   },
   {
    "duration": 0,
    "start_time": "2023-05-12T21:05:32.529Z"
   },
   {
    "duration": 0,
    "start_time": "2023-05-12T21:05:32.530Z"
   },
   {
    "duration": 0,
    "start_time": "2023-05-12T21:05:32.585Z"
   },
   {
    "duration": 0,
    "start_time": "2023-05-12T21:05:32.586Z"
   },
   {
    "duration": 0,
    "start_time": "2023-05-12T21:05:32.590Z"
   },
   {
    "duration": 0,
    "start_time": "2023-05-12T21:05:32.590Z"
   },
   {
    "duration": 0,
    "start_time": "2023-05-12T21:05:32.591Z"
   },
   {
    "duration": 0,
    "start_time": "2023-05-12T21:05:32.594Z"
   },
   {
    "duration": 0,
    "start_time": "2023-05-12T21:05:32.595Z"
   },
   {
    "duration": 0,
    "start_time": "2023-05-12T21:05:32.595Z"
   },
   {
    "duration": 0,
    "start_time": "2023-05-12T21:05:32.598Z"
   },
   {
    "duration": 0,
    "start_time": "2023-05-12T21:05:32.598Z"
   },
   {
    "duration": 0,
    "start_time": "2023-05-12T21:05:32.599Z"
   },
   {
    "duration": 0,
    "start_time": "2023-05-12T21:05:32.601Z"
   },
   {
    "duration": 0,
    "start_time": "2023-05-12T21:05:32.606Z"
   },
   {
    "duration": 19,
    "start_time": "2023-05-12T21:06:02.904Z"
   },
   {
    "duration": 11,
    "start_time": "2023-05-12T21:06:04.861Z"
   },
   {
    "duration": 15,
    "start_time": "2023-05-12T21:06:23.429Z"
   },
   {
    "duration": 24,
    "start_time": "2023-05-12T21:07:18.309Z"
   },
   {
    "duration": 11,
    "start_time": "2023-05-12T21:10:03.165Z"
   },
   {
    "duration": 11,
    "start_time": "2023-05-12T21:10:10.412Z"
   },
   {
    "duration": 19,
    "start_time": "2023-05-12T21:10:37.105Z"
   },
   {
    "duration": 11,
    "start_time": "2023-05-12T21:10:40.319Z"
   },
   {
    "duration": 9,
    "start_time": "2023-05-12T21:11:08.222Z"
   },
   {
    "duration": 8,
    "start_time": "2023-05-12T21:12:16.313Z"
   },
   {
    "duration": 99,
    "start_time": "2023-05-12T21:12:48.239Z"
   },
   {
    "duration": 116,
    "start_time": "2023-05-12T21:13:03.607Z"
   },
   {
    "duration": 44,
    "start_time": "2023-05-12T21:13:20.320Z"
   },
   {
    "duration": 9,
    "start_time": "2023-05-12T21:13:33.613Z"
   },
   {
    "duration": 12,
    "start_time": "2023-05-12T21:14:02.459Z"
   },
   {
    "duration": 18,
    "start_time": "2023-05-12T21:15:16.199Z"
   },
   {
    "duration": 10,
    "start_time": "2023-05-12T21:15:19.818Z"
   },
   {
    "duration": 7,
    "start_time": "2023-05-12T21:15:22.212Z"
   },
   {
    "duration": 20,
    "start_time": "2023-05-12T21:15:24.382Z"
   },
   {
    "duration": 8,
    "start_time": "2023-05-12T21:16:05.451Z"
   },
   {
    "duration": 14,
    "start_time": "2023-05-12T21:16:07.833Z"
   },
   {
    "duration": 10,
    "start_time": "2023-05-12T21:16:09.731Z"
   },
   {
    "duration": 6,
    "start_time": "2023-05-12T21:16:11.458Z"
   },
   {
    "duration": 11,
    "start_time": "2023-05-12T21:16:14.130Z"
   },
   {
    "duration": 22,
    "start_time": "2023-05-12T21:16:56.402Z"
   },
   {
    "duration": 19,
    "start_time": "2023-05-12T21:17:00.498Z"
   },
   {
    "duration": 6,
    "start_time": "2023-05-12T21:17:03.325Z"
   },
   {
    "duration": 8,
    "start_time": "2023-05-12T21:17:05.729Z"
   },
   {
    "duration": 21,
    "start_time": "2023-05-12T21:18:49.902Z"
   },
   {
    "duration": 14,
    "start_time": "2023-05-12T21:19:13.947Z"
   },
   {
    "duration": 15,
    "start_time": "2023-05-12T21:20:45.400Z"
   },
   {
    "duration": 13,
    "start_time": "2023-05-12T21:24:13.342Z"
   },
   {
    "duration": 15,
    "start_time": "2023-05-12T21:25:53.096Z"
   },
   {
    "duration": 13,
    "start_time": "2023-05-12T21:28:26.239Z"
   },
   {
    "duration": 27,
    "start_time": "2023-05-12T21:28:35.426Z"
   },
   {
    "duration": 15,
    "start_time": "2023-05-12T21:28:54.411Z"
   },
   {
    "duration": 11,
    "start_time": "2023-05-12T21:34:08.964Z"
   },
   {
    "duration": 15,
    "start_time": "2023-05-12T21:34:11.038Z"
   },
   {
    "duration": 11,
    "start_time": "2023-05-12T21:34:13.203Z"
   },
   {
    "duration": 7,
    "start_time": "2023-05-12T21:34:15.760Z"
   },
   {
    "duration": 9,
    "start_time": "2023-05-12T21:34:18.829Z"
   },
   {
    "duration": 8,
    "start_time": "2023-05-12T21:34:32.204Z"
   },
   {
    "duration": 9,
    "start_time": "2023-05-12T21:34:34.253Z"
   },
   {
    "duration": 11,
    "start_time": "2023-05-12T21:34:48.437Z"
   },
   {
    "duration": 14,
    "start_time": "2023-05-12T21:34:50.441Z"
   },
   {
    "duration": 11,
    "start_time": "2023-05-12T21:34:52.804Z"
   },
   {
    "duration": 8,
    "start_time": "2023-05-12T21:34:54.742Z"
   },
   {
    "duration": 11,
    "start_time": "2023-05-12T21:34:57.403Z"
   },
   {
    "duration": 8,
    "start_time": "2023-05-12T21:35:08.353Z"
   },
   {
    "duration": 9,
    "start_time": "2023-05-12T21:35:10.604Z"
   },
   {
    "duration": 7,
    "start_time": "2023-05-12T21:35:12.726Z"
   },
   {
    "duration": 12,
    "start_time": "2023-05-12T21:35:15.102Z"
   },
   {
    "duration": 16,
    "start_time": "2023-05-12T21:40:54.403Z"
   },
   {
    "duration": 63,
    "start_time": "2023-05-13T13:56:21.517Z"
   },
   {
    "duration": 1829,
    "start_time": "2023-05-13T13:56:27.284Z"
   },
   {
    "duration": 917,
    "start_time": "2023-05-13T13:56:29.115Z"
   },
   {
    "duration": 3,
    "start_time": "2023-05-13T13:56:30.034Z"
   },
   {
    "duration": 55,
    "start_time": "2023-05-13T13:56:30.039Z"
   },
   {
    "duration": 32,
    "start_time": "2023-05-13T13:56:30.096Z"
   },
   {
    "duration": 24,
    "start_time": "2023-05-13T13:56:30.130Z"
   },
   {
    "duration": 29,
    "start_time": "2023-05-13T13:56:30.156Z"
   },
   {
    "duration": 130,
    "start_time": "2023-05-13T13:56:30.187Z"
   },
   {
    "duration": 3,
    "start_time": "2023-05-13T13:56:30.319Z"
   },
   {
    "duration": 52,
    "start_time": "2023-05-13T13:56:30.324Z"
   },
   {
    "duration": 30,
    "start_time": "2023-05-13T13:56:30.378Z"
   },
   {
    "duration": 118,
    "start_time": "2023-05-13T13:56:30.411Z"
   },
   {
    "duration": 14,
    "start_time": "2023-05-13T13:56:30.530Z"
   },
   {
    "duration": 42,
    "start_time": "2023-05-13T13:56:30.546Z"
   },
   {
    "duration": 10,
    "start_time": "2023-05-13T13:56:30.590Z"
   },
   {
    "duration": 47,
    "start_time": "2023-05-13T13:56:30.601Z"
   },
   {
    "duration": 44,
    "start_time": "2023-05-13T13:56:30.650Z"
   },
   {
    "duration": 31,
    "start_time": "2023-05-13T13:56:30.696Z"
   },
   {
    "duration": 842,
    "start_time": "2023-05-13T13:56:30.729Z"
   },
   {
    "duration": 776,
    "start_time": "2023-05-13T13:56:31.572Z"
   },
   {
    "duration": 7,
    "start_time": "2023-05-13T13:56:32.351Z"
   },
   {
    "duration": 906,
    "start_time": "2023-05-13T13:56:32.360Z"
   },
   {
    "duration": 967,
    "start_time": "2023-05-13T13:56:33.269Z"
   },
   {
    "duration": 34,
    "start_time": "2023-05-13T13:56:34.238Z"
   },
   {
    "duration": 40,
    "start_time": "2023-05-13T13:56:34.274Z"
   },
   {
    "duration": 48,
    "start_time": "2023-05-13T13:56:34.317Z"
   },
   {
    "duration": 41,
    "start_time": "2023-05-13T13:56:34.366Z"
   },
   {
    "duration": 53,
    "start_time": "2023-05-13T13:56:34.411Z"
   },
   {
    "duration": 33,
    "start_time": "2023-05-13T13:56:34.466Z"
   },
   {
    "duration": 22,
    "start_time": "2023-05-13T13:56:34.501Z"
   },
   {
    "duration": 55,
    "start_time": "2023-05-13T13:56:34.545Z"
   },
   {
    "duration": 45,
    "start_time": "2023-05-13T13:56:34.602Z"
   },
   {
    "duration": 41,
    "start_time": "2023-05-13T13:56:34.649Z"
   },
   {
    "duration": 47,
    "start_time": "2023-05-13T13:56:34.692Z"
   },
   {
    "duration": 45,
    "start_time": "2023-05-13T13:56:34.741Z"
   },
   {
    "duration": 1024,
    "start_time": "2023-05-13T13:56:34.787Z"
   },
   {
    "duration": 5,
    "start_time": "2023-05-13T13:56:35.813Z"
   },
   {
    "duration": 81,
    "start_time": "2023-05-13T13:56:35.819Z"
   },
   {
    "duration": 967,
    "start_time": "2023-05-13T13:56:35.902Z"
   },
   {
    "duration": 19,
    "start_time": "2023-05-13T13:56:36.880Z"
   },
   {
    "duration": 30,
    "start_time": "2023-05-13T13:56:36.901Z"
   },
   {
    "duration": 46,
    "start_time": "2023-05-13T13:56:36.934Z"
   },
   {
    "duration": 30,
    "start_time": "2023-05-13T13:56:36.982Z"
   },
   {
    "duration": 46,
    "start_time": "2023-05-13T13:56:37.014Z"
   },
   {
    "duration": 21,
    "start_time": "2023-05-13T13:56:37.062Z"
   },
   {
    "duration": 307,
    "start_time": "2023-05-13T13:56:37.085Z"
   },
   {
    "duration": 24,
    "start_time": "2023-05-13T13:56:37.394Z"
   },
   {
    "duration": 27,
    "start_time": "2023-05-13T13:56:37.420Z"
   },
   {
    "duration": 39,
    "start_time": "2023-05-13T13:56:37.449Z"
   },
   {
    "duration": 19,
    "start_time": "2023-05-13T13:56:37.490Z"
   },
   {
    "duration": 1686,
    "start_time": "2023-05-13T13:56:37.511Z"
   },
   {
    "duration": 0,
    "start_time": "2023-05-13T13:56:39.200Z"
   },
   {
    "duration": 0,
    "start_time": "2023-05-13T13:56:39.202Z"
   },
   {
    "duration": 0,
    "start_time": "2023-05-13T13:56:39.203Z"
   },
   {
    "duration": 0,
    "start_time": "2023-05-13T13:56:39.205Z"
   },
   {
    "duration": 0,
    "start_time": "2023-05-13T13:56:39.206Z"
   },
   {
    "duration": 0,
    "start_time": "2023-05-13T13:56:39.208Z"
   },
   {
    "duration": 0,
    "start_time": "2023-05-13T13:56:39.209Z"
   },
   {
    "duration": 0,
    "start_time": "2023-05-13T13:56:39.211Z"
   },
   {
    "duration": 0,
    "start_time": "2023-05-13T13:56:39.212Z"
   },
   {
    "duration": 0,
    "start_time": "2023-05-13T13:56:39.213Z"
   },
   {
    "duration": 0,
    "start_time": "2023-05-13T13:56:39.215Z"
   },
   {
    "duration": 0,
    "start_time": "2023-05-13T13:56:39.216Z"
   },
   {
    "duration": 1,
    "start_time": "2023-05-13T13:56:39.217Z"
   },
   {
    "duration": 0,
    "start_time": "2023-05-13T13:56:39.219Z"
   },
   {
    "duration": 0,
    "start_time": "2023-05-13T13:56:39.220Z"
   },
   {
    "duration": 0,
    "start_time": "2023-05-13T13:56:39.222Z"
   },
   {
    "duration": 0,
    "start_time": "2023-05-13T13:56:39.223Z"
   },
   {
    "duration": 0,
    "start_time": "2023-05-13T13:56:39.225Z"
   },
   {
    "duration": 0,
    "start_time": "2023-05-13T13:56:39.227Z"
   },
   {
    "duration": 0,
    "start_time": "2023-05-13T13:56:39.228Z"
   },
   {
    "duration": 0,
    "start_time": "2023-05-13T13:56:39.229Z"
   },
   {
    "duration": 0,
    "start_time": "2023-05-13T13:56:39.231Z"
   },
   {
    "duration": 0,
    "start_time": "2023-05-13T13:56:39.233Z"
   },
   {
    "duration": 0,
    "start_time": "2023-05-13T13:56:39.236Z"
   },
   {
    "duration": 0,
    "start_time": "2023-05-13T13:56:39.236Z"
   },
   {
    "duration": 0,
    "start_time": "2023-05-13T13:56:39.237Z"
   },
   {
    "duration": 0,
    "start_time": "2023-05-13T13:56:39.246Z"
   },
   {
    "duration": 0,
    "start_time": "2023-05-13T13:56:39.247Z"
   },
   {
    "duration": 0,
    "start_time": "2023-05-13T13:56:39.248Z"
   },
   {
    "duration": 0,
    "start_time": "2023-05-13T13:56:39.249Z"
   },
   {
    "duration": 0,
    "start_time": "2023-05-13T13:56:39.250Z"
   },
   {
    "duration": 0,
    "start_time": "2023-05-13T13:56:39.251Z"
   },
   {
    "duration": 0,
    "start_time": "2023-05-13T13:56:39.252Z"
   },
   {
    "duration": 0,
    "start_time": "2023-05-13T13:56:39.253Z"
   },
   {
    "duration": 0,
    "start_time": "2023-05-13T13:56:39.254Z"
   },
   {
    "duration": 0,
    "start_time": "2023-05-13T13:56:39.255Z"
   },
   {
    "duration": 0,
    "start_time": "2023-05-13T13:56:39.256Z"
   },
   {
    "duration": 0,
    "start_time": "2023-05-13T13:56:39.258Z"
   },
   {
    "duration": 0,
    "start_time": "2023-05-13T13:56:39.259Z"
   },
   {
    "duration": 0,
    "start_time": "2023-05-13T13:56:39.260Z"
   },
   {
    "duration": 0,
    "start_time": "2023-05-13T13:56:39.261Z"
   },
   {
    "duration": 0,
    "start_time": "2023-05-13T13:56:39.262Z"
   },
   {
    "duration": 0,
    "start_time": "2023-05-13T13:56:39.264Z"
   },
   {
    "duration": 0,
    "start_time": "2023-05-13T13:56:39.265Z"
   },
   {
    "duration": 0,
    "start_time": "2023-05-13T13:56:39.266Z"
   },
   {
    "duration": 0,
    "start_time": "2023-05-13T13:56:39.267Z"
   },
   {
    "duration": 0,
    "start_time": "2023-05-13T13:56:39.269Z"
   },
   {
    "duration": 0,
    "start_time": "2023-05-13T13:56:39.270Z"
   },
   {
    "duration": 0,
    "start_time": "2023-05-13T13:56:39.271Z"
   },
   {
    "duration": 0,
    "start_time": "2023-05-13T13:56:39.273Z"
   },
   {
    "duration": 0,
    "start_time": "2023-05-13T13:56:39.274Z"
   },
   {
    "duration": 0,
    "start_time": "2023-05-13T13:56:39.275Z"
   },
   {
    "duration": 0,
    "start_time": "2023-05-13T13:56:39.277Z"
   },
   {
    "duration": 0,
    "start_time": "2023-05-13T13:56:39.278Z"
   },
   {
    "duration": 0,
    "start_time": "2023-05-13T13:56:39.279Z"
   },
   {
    "duration": 0,
    "start_time": "2023-05-13T13:56:39.281Z"
   },
   {
    "duration": 0,
    "start_time": "2023-05-13T13:56:39.282Z"
   },
   {
    "duration": 0,
    "start_time": "2023-05-13T13:56:39.346Z"
   },
   {
    "duration": 36,
    "start_time": "2023-05-13T14:00:12.945Z"
   },
   {
    "duration": 33,
    "start_time": "2023-05-13T14:00:21.957Z"
   },
   {
    "duration": 32,
    "start_time": "2023-05-13T14:00:41.054Z"
   },
   {
    "duration": 12,
    "start_time": "2023-05-13T14:02:33.554Z"
   },
   {
    "duration": 6,
    "start_time": "2023-05-13T14:02:41.044Z"
   },
   {
    "duration": 12,
    "start_time": "2023-05-13T14:02:54.841Z"
   },
   {
    "duration": 5,
    "start_time": "2023-05-13T14:04:14.109Z"
   },
   {
    "duration": 8,
    "start_time": "2023-05-13T14:04:32.486Z"
   },
   {
    "duration": 5,
    "start_time": "2023-05-13T14:05:23.196Z"
   },
   {
    "duration": 24,
    "start_time": "2023-05-13T14:05:52.886Z"
   },
   {
    "duration": 28,
    "start_time": "2023-05-13T14:05:56.342Z"
   },
   {
    "duration": 49,
    "start_time": "2023-05-13T14:14:16.782Z"
   },
   {
    "duration": 31,
    "start_time": "2023-05-13T14:14:22.537Z"
   },
   {
    "duration": 44,
    "start_time": "2023-05-13T14:14:25.483Z"
   },
   {
    "duration": 33,
    "start_time": "2023-05-13T14:14:28.640Z"
   },
   {
    "duration": 13,
    "start_time": "2023-05-13T14:14:38.218Z"
   },
   {
    "duration": 44,
    "start_time": "2023-05-13T14:14:51.308Z"
   },
   {
    "duration": 39,
    "start_time": "2023-05-13T14:18:55.451Z"
   },
   {
    "duration": 936,
    "start_time": "2023-05-13T14:19:19.171Z"
   },
   {
    "duration": 1033,
    "start_time": "2023-05-13T14:20:47.898Z"
   },
   {
    "duration": 97,
    "start_time": "2023-05-13T14:24:27.908Z"
   },
   {
    "duration": 19,
    "start_time": "2023-05-13T14:24:36.803Z"
   },
   {
    "duration": 12,
    "start_time": "2023-05-13T14:24:49.622Z"
   },
   {
    "duration": 11,
    "start_time": "2023-05-13T14:24:55.063Z"
   },
   {
    "duration": 14,
    "start_time": "2023-05-13T14:25:02.143Z"
   },
   {
    "duration": 14,
    "start_time": "2023-05-13T14:25:08.879Z"
   },
   {
    "duration": 33,
    "start_time": "2023-05-13T14:28:31.248Z"
   },
   {
    "duration": 38,
    "start_time": "2023-05-13T14:28:39.020Z"
   },
   {
    "duration": 26,
    "start_time": "2023-05-13T14:29:15.751Z"
   },
   {
    "duration": 35,
    "start_time": "2023-05-13T14:29:51.451Z"
   },
   {
    "duration": 12,
    "start_time": "2023-05-13T14:35:47.794Z"
   },
   {
    "duration": 9,
    "start_time": "2023-05-13T14:36:08.181Z"
   },
   {
    "duration": 15,
    "start_time": "2023-05-13T14:39:44.193Z"
   },
   {
    "duration": 2321,
    "start_time": "2023-05-13T14:40:03.793Z"
   },
   {
    "duration": 16,
    "start_time": "2023-05-13T14:40:28.862Z"
   },
   {
    "duration": 314,
    "start_time": "2023-05-13T14:41:02.960Z"
   },
   {
    "duration": 275,
    "start_time": "2023-05-13T14:41:38.793Z"
   },
   {
    "duration": 8,
    "start_time": "2023-05-13T14:42:05.885Z"
   },
   {
    "duration": 7,
    "start_time": "2023-05-13T14:42:22.481Z"
   },
   {
    "duration": 12,
    "start_time": "2023-05-13T14:44:10.037Z"
   },
   {
    "duration": 11,
    "start_time": "2023-05-13T14:44:16.286Z"
   },
   {
    "duration": 14,
    "start_time": "2023-05-13T14:45:57.821Z"
   },
   {
    "duration": 16,
    "start_time": "2023-05-13T14:59:26.896Z"
   },
   {
    "duration": 21,
    "start_time": "2023-05-13T15:11:59.938Z"
   },
   {
    "duration": 12,
    "start_time": "2023-05-13T15:16:10.469Z"
   },
   {
    "duration": 20,
    "start_time": "2023-05-13T15:28:08.752Z"
   },
   {
    "duration": 18,
    "start_time": "2023-05-13T15:33:14.915Z"
   },
   {
    "duration": 21,
    "start_time": "2023-05-13T15:33:58.145Z"
   },
   {
    "duration": 33,
    "start_time": "2023-05-13T15:34:13.791Z"
   },
   {
    "duration": 2,
    "start_time": "2023-05-13T15:36:49.795Z"
   },
   {
    "duration": 152,
    "start_time": "2023-05-13T15:40:41.088Z"
   },
   {
    "duration": 8,
    "start_time": "2023-05-13T15:40:48.405Z"
   },
   {
    "duration": 10,
    "start_time": "2023-05-13T15:41:16.075Z"
   },
   {
    "duration": 36,
    "start_time": "2023-05-13T15:42:11.609Z"
   },
   {
    "duration": 122,
    "start_time": "2023-05-13T15:46:27.946Z"
   },
   {
    "duration": 68,
    "start_time": "2023-05-13T15:47:32.910Z"
   },
   {
    "duration": 10,
    "start_time": "2023-05-13T15:47:37.483Z"
   },
   {
    "duration": 23,
    "start_time": "2023-05-13T15:47:48.788Z"
   },
   {
    "duration": 96,
    "start_time": "2023-05-13T21:15:19.441Z"
   },
   {
    "duration": 46,
    "start_time": "2023-05-13T21:18:49.618Z"
   },
   {
    "duration": 1055,
    "start_time": "2023-05-13T21:21:09.361Z"
   },
   {
    "duration": 41,
    "start_time": "2023-05-13T21:22:01.401Z"
   },
   {
    "duration": 866,
    "start_time": "2023-05-13T21:22:22.800Z"
   },
   {
    "duration": 796,
    "start_time": "2023-05-13T21:22:33.481Z"
   },
   {
    "duration": 856,
    "start_time": "2023-05-13T21:23:29.700Z"
   },
   {
    "duration": 752,
    "start_time": "2023-05-13T21:23:50.404Z"
   },
   {
    "duration": 7,
    "start_time": "2023-05-13T21:35:44.088Z"
   },
   {
    "duration": 17,
    "start_time": "2023-05-13T21:36:15.492Z"
   },
   {
    "duration": 18,
    "start_time": "2023-05-13T21:42:47.803Z"
   },
   {
    "duration": 18,
    "start_time": "2023-05-13T21:42:59.283Z"
   },
   {
    "duration": 18,
    "start_time": "2023-05-13T21:43:47.079Z"
   },
   {
    "duration": 19,
    "start_time": "2023-05-13T21:44:20.630Z"
   },
   {
    "duration": 33,
    "start_time": "2023-05-13T21:45:42.913Z"
   },
   {
    "duration": 39,
    "start_time": "2023-05-13T21:46:16.661Z"
   },
   {
    "duration": 25,
    "start_time": "2023-05-13T21:51:14.650Z"
   },
   {
    "duration": 26,
    "start_time": "2023-05-13T21:51:26.190Z"
   },
   {
    "duration": 32,
    "start_time": "2023-05-13T21:54:21.425Z"
   },
   {
    "duration": 20,
    "start_time": "2023-05-13T21:55:15.416Z"
   },
   {
    "duration": 15,
    "start_time": "2023-05-13T22:01:02.257Z"
   },
   {
    "duration": 15,
    "start_time": "2023-05-13T22:01:08.601Z"
   },
   {
    "duration": 16,
    "start_time": "2023-05-13T22:03:40.800Z"
   },
   {
    "duration": 13,
    "start_time": "2023-05-13T22:03:55.566Z"
   },
   {
    "duration": 14,
    "start_time": "2023-05-13T22:04:09.396Z"
   },
   {
    "duration": 21,
    "start_time": "2023-05-13T22:04:35.991Z"
   },
   {
    "duration": 12,
    "start_time": "2023-05-13T22:06:08.578Z"
   },
   {
    "duration": 1251,
    "start_time": "2023-05-13T22:09:03.601Z"
   },
   {
    "duration": 16,
    "start_time": "2023-05-13T22:09:28.462Z"
   },
   {
    "duration": 12,
    "start_time": "2023-05-13T22:10:17.270Z"
   },
   {
    "duration": 12,
    "start_time": "2023-05-13T22:11:13.165Z"
   },
   {
    "duration": 1736,
    "start_time": "2023-05-13T22:14:03.801Z"
   },
   {
    "duration": 1653,
    "start_time": "2023-05-13T22:14:27.969Z"
   },
   {
    "duration": 1350,
    "start_time": "2023-05-13T22:15:20.269Z"
   },
   {
    "duration": 12,
    "start_time": "2023-05-13T22:15:38.118Z"
   },
   {
    "duration": 17,
    "start_time": "2023-05-13T22:15:59.371Z"
   },
   {
    "duration": 10,
    "start_time": "2023-05-13T22:16:05.121Z"
   },
   {
    "duration": 12,
    "start_time": "2023-05-13T22:16:25.692Z"
   },
   {
    "duration": 10,
    "start_time": "2023-05-13T22:16:34.149Z"
   },
   {
    "duration": 13,
    "start_time": "2023-05-13T22:16:38.584Z"
   },
   {
    "duration": 11,
    "start_time": "2023-05-13T22:16:47.751Z"
   },
   {
    "duration": 14,
    "start_time": "2023-05-13T22:17:12.417Z"
   },
   {
    "duration": 12,
    "start_time": "2023-05-13T22:17:30.219Z"
   },
   {
    "duration": 15,
    "start_time": "2023-05-13T22:17:35.644Z"
   },
   {
    "duration": 12,
    "start_time": "2023-05-13T22:17:38.505Z"
   },
   {
    "duration": 14,
    "start_time": "2023-05-13T22:17:49.402Z"
   },
   {
    "duration": 15,
    "start_time": "2023-05-13T22:20:08.999Z"
   },
   {
    "duration": 12,
    "start_time": "2023-05-13T22:21:35.901Z"
   },
   {
    "duration": 9,
    "start_time": "2023-05-13T22:21:55.107Z"
   },
   {
    "duration": 11,
    "start_time": "2023-05-13T22:22:11.238Z"
   },
   {
    "duration": 2588,
    "start_time": "2023-05-13T22:25:02.044Z"
   },
   {
    "duration": 26,
    "start_time": "2023-05-13T22:26:07.488Z"
   },
   {
    "duration": 35,
    "start_time": "2023-05-13T22:26:52.581Z"
   },
   {
    "duration": 4,
    "start_time": "2023-05-13T22:35:16.751Z"
   },
   {
    "duration": 10,
    "start_time": "2023-05-13T22:35:21.153Z"
   },
   {
    "duration": 11,
    "start_time": "2023-05-13T22:35:47.048Z"
   },
   {
    "duration": 9,
    "start_time": "2023-05-13T22:36:33.784Z"
   },
   {
    "duration": 8,
    "start_time": "2023-05-13T22:36:53.483Z"
   },
   {
    "duration": 10,
    "start_time": "2023-05-13T22:38:39.392Z"
   },
   {
    "duration": 31,
    "start_time": "2023-05-13T22:41:39.911Z"
   },
   {
    "duration": 15,
    "start_time": "2023-05-13T22:42:46.011Z"
   },
   {
    "duration": 9,
    "start_time": "2023-05-13T22:43:17.995Z"
   },
   {
    "duration": 10,
    "start_time": "2023-05-13T22:43:23.859Z"
   },
   {
    "duration": 11,
    "start_time": "2023-05-13T22:45:11.218Z"
   },
   {
    "duration": 13,
    "start_time": "2023-05-13T22:46:09.103Z"
   },
   {
    "duration": 13,
    "start_time": "2023-05-13T22:46:11.711Z"
   },
   {
    "duration": 13,
    "start_time": "2023-05-13T22:46:30.597Z"
   },
   {
    "duration": 14,
    "start_time": "2023-05-13T22:49:43.344Z"
   },
   {
    "duration": 10,
    "start_time": "2023-05-13T22:50:16.994Z"
   },
   {
    "duration": 1202,
    "start_time": "2023-05-13T22:50:35.698Z"
   },
   {
    "duration": 8,
    "start_time": "2023-05-13T22:50:45.153Z"
   },
   {
    "duration": 30,
    "start_time": "2023-05-13T22:51:21.596Z"
   },
   {
    "duration": 33,
    "start_time": "2023-05-13T22:51:36.146Z"
   },
   {
    "duration": 33,
    "start_time": "2023-05-13T22:51:38.296Z"
   },
   {
    "duration": 25,
    "start_time": "2023-05-13T22:51:53.322Z"
   },
   {
    "duration": 248,
    "start_time": "2023-05-13T22:54:06.055Z"
   },
   {
    "duration": 130,
    "start_time": "2023-05-13T22:57:54.447Z"
   },
   {
    "duration": 193,
    "start_time": "2023-05-13T22:58:30.464Z"
   },
   {
    "duration": 108,
    "start_time": "2023-05-13T22:58:51.766Z"
   },
   {
    "duration": 157,
    "start_time": "2023-05-13T22:59:15.948Z"
   },
   {
    "duration": 119,
    "start_time": "2023-05-13T22:59:30.469Z"
   },
   {
    "duration": 291,
    "start_time": "2023-05-13T22:59:43.487Z"
   },
   {
    "duration": 248,
    "start_time": "2023-05-13T22:59:57.283Z"
   },
   {
    "duration": 256,
    "start_time": "2023-05-13T23:00:34.767Z"
   },
   {
    "duration": 262,
    "start_time": "2023-05-13T23:03:34.092Z"
   },
   {
    "duration": 329,
    "start_time": "2023-05-13T23:03:37.185Z"
   },
   {
    "duration": 257,
    "start_time": "2023-05-13T23:03:53.556Z"
   },
   {
    "duration": 275,
    "start_time": "2023-05-13T23:04:13.866Z"
   },
   {
    "duration": 256,
    "start_time": "2023-05-13T23:05:24.351Z"
   },
   {
    "duration": 257,
    "start_time": "2023-05-13T23:05:39.376Z"
   },
   {
    "duration": 296,
    "start_time": "2023-05-13T23:05:56.888Z"
   },
   {
    "duration": 121,
    "start_time": "2023-05-13T23:08:23.556Z"
   },
   {
    "duration": 265,
    "start_time": "2023-05-13T23:08:31.010Z"
   },
   {
    "duration": 25,
    "start_time": "2023-05-13T23:16:41.058Z"
   },
   {
    "duration": 300,
    "start_time": "2023-05-13T23:16:43.532Z"
   },
   {
    "duration": 264,
    "start_time": "2023-05-13T23:17:11.360Z"
   },
   {
    "duration": 26,
    "start_time": "2023-05-13T23:24:06.816Z"
   },
   {
    "duration": 304,
    "start_time": "2023-05-14T11:25:21.255Z"
   },
   {
    "duration": 735,
    "start_time": "2023-05-14T11:26:24.059Z"
   },
   {
    "duration": 7,
    "start_time": "2023-05-14T11:26:43.747Z"
   },
   {
    "duration": 14,
    "start_time": "2023-05-14T11:27:02.655Z"
   },
   {
    "duration": 28,
    "start_time": "2023-05-14T11:27:04.811Z"
   },
   {
    "duration": 10,
    "start_time": "2023-05-14T11:27:22.248Z"
   },
   {
    "duration": 26,
    "start_time": "2023-05-14T11:27:27.787Z"
   },
   {
    "duration": 11,
    "start_time": "2023-05-14T11:27:47.814Z"
   },
   {
    "duration": 8,
    "start_time": "2023-05-14T11:27:50.403Z"
   },
   {
    "duration": 10,
    "start_time": "2023-05-14T11:27:57.039Z"
   },
   {
    "duration": 1522,
    "start_time": "2023-05-14T11:36:30.876Z"
   },
   {
    "duration": 117,
    "start_time": "2023-05-14T11:36:32.400Z"
   },
   {
    "duration": 3,
    "start_time": "2023-05-14T11:36:32.519Z"
   },
   {
    "duration": 45,
    "start_time": "2023-05-14T11:36:32.524Z"
   },
   {
    "duration": 14,
    "start_time": "2023-05-14T11:36:32.571Z"
   },
   {
    "duration": 7,
    "start_time": "2023-05-14T11:36:32.586Z"
   },
   {
    "duration": 48,
    "start_time": "2023-05-14T11:36:32.594Z"
   },
   {
    "duration": 28,
    "start_time": "2023-05-14T11:36:32.644Z"
   },
   {
    "duration": 3,
    "start_time": "2023-05-14T11:36:32.673Z"
   },
   {
    "duration": 41,
    "start_time": "2023-05-14T11:36:32.679Z"
   },
   {
    "duration": 19,
    "start_time": "2023-05-14T11:36:32.722Z"
   },
   {
    "duration": 64,
    "start_time": "2023-05-14T11:36:32.743Z"
   },
   {
    "duration": 17,
    "start_time": "2023-05-14T11:36:32.809Z"
   },
   {
    "duration": 30,
    "start_time": "2023-05-14T11:36:32.828Z"
   },
   {
    "duration": 23,
    "start_time": "2023-05-14T11:36:32.859Z"
   },
   {
    "duration": 14,
    "start_time": "2023-05-14T11:36:32.884Z"
   },
   {
    "duration": 14,
    "start_time": "2023-05-14T11:36:32.900Z"
   },
   {
    "duration": 14,
    "start_time": "2023-05-14T11:36:32.915Z"
   },
   {
    "duration": 706,
    "start_time": "2023-05-14T11:36:32.930Z"
   },
   {
    "duration": 139,
    "start_time": "2023-05-14T11:36:33.637Z"
   },
   {
    "duration": 7,
    "start_time": "2023-05-14T11:36:33.777Z"
   },
   {
    "duration": 820,
    "start_time": "2023-05-14T11:36:33.785Z"
   },
   {
    "duration": 841,
    "start_time": "2023-05-14T11:36:34.607Z"
   },
   {
    "duration": 34,
    "start_time": "2023-05-14T11:36:35.450Z"
   },
   {
    "duration": 33,
    "start_time": "2023-05-14T11:36:35.486Z"
   },
   {
    "duration": 41,
    "start_time": "2023-05-14T11:36:35.521Z"
   },
   {
    "duration": 38,
    "start_time": "2023-05-14T11:36:35.564Z"
   },
   {
    "duration": 4,
    "start_time": "2023-05-14T11:36:35.607Z"
   },
   {
    "duration": 62,
    "start_time": "2023-05-14T11:36:35.613Z"
   },
   {
    "duration": 6,
    "start_time": "2023-05-14T11:36:35.676Z"
   },
   {
    "duration": 20,
    "start_time": "2023-05-14T11:36:35.684Z"
   },
   {
    "duration": 44,
    "start_time": "2023-05-14T11:36:35.706Z"
   },
   {
    "duration": 43,
    "start_time": "2023-05-14T11:36:35.751Z"
   },
   {
    "duration": 37,
    "start_time": "2023-05-14T11:36:35.796Z"
   },
   {
    "duration": 45,
    "start_time": "2023-05-14T11:36:35.834Z"
   },
   {
    "duration": 953,
    "start_time": "2023-05-14T11:36:35.880Z"
   },
   {
    "duration": 855,
    "start_time": "2023-05-14T11:36:36.835Z"
   },
   {
    "duration": 11,
    "start_time": "2023-05-14T11:36:37.692Z"
   },
   {
    "duration": 11,
    "start_time": "2023-05-14T11:36:37.704Z"
   },
   {
    "duration": 31,
    "start_time": "2023-05-14T11:36:37.717Z"
   },
   {
    "duration": 46,
    "start_time": "2023-05-14T11:36:37.749Z"
   },
   {
    "duration": 22,
    "start_time": "2023-05-14T11:36:37.797Z"
   },
   {
    "duration": 249,
    "start_time": "2023-05-14T11:36:37.821Z"
   },
   {
    "duration": 12,
    "start_time": "2023-05-14T11:36:38.074Z"
   },
   {
    "duration": 23,
    "start_time": "2023-05-14T11:36:38.087Z"
   },
   {
    "duration": 11,
    "start_time": "2023-05-14T11:36:38.111Z"
   },
   {
    "duration": 50,
    "start_time": "2023-05-14T11:36:38.123Z"
   },
   {
    "duration": 139,
    "start_time": "2023-05-14T11:36:38.175Z"
   },
   {
    "duration": 27,
    "start_time": "2023-05-14T11:36:38.316Z"
   },
   {
    "duration": 316,
    "start_time": "2023-05-14T11:36:38.344Z"
   },
   {
    "duration": 22,
    "start_time": "2023-05-14T11:36:38.662Z"
   },
   {
    "duration": 15,
    "start_time": "2023-05-14T11:36:38.686Z"
   },
   {
    "duration": 11,
    "start_time": "2023-05-14T11:36:38.702Z"
   },
   {
    "duration": 24,
    "start_time": "2023-05-14T11:36:38.715Z"
   },
   {
    "duration": 175,
    "start_time": "2023-05-14T11:36:38.741Z"
   },
   {
    "duration": 11,
    "start_time": "2023-05-14T11:36:38.918Z"
   },
   {
    "duration": 44,
    "start_time": "2023-05-14T11:36:38.931Z"
   },
   {
    "duration": 12,
    "start_time": "2023-05-14T11:36:38.976Z"
   },
   {
    "duration": 7,
    "start_time": "2023-05-14T11:36:38.989Z"
   },
   {
    "duration": 9,
    "start_time": "2023-05-14T11:36:38.998Z"
   },
   {
    "duration": 12,
    "start_time": "2023-05-14T11:36:39.008Z"
   },
   {
    "duration": 62,
    "start_time": "2023-05-14T11:36:39.021Z"
   },
   {
    "duration": 6,
    "start_time": "2023-05-14T11:36:39.085Z"
   },
   {
    "duration": 11,
    "start_time": "2023-05-14T11:36:39.092Z"
   },
   {
    "duration": 12,
    "start_time": "2023-05-14T11:36:39.104Z"
   },
   {
    "duration": 67,
    "start_time": "2023-05-14T11:36:39.117Z"
   },
   {
    "duration": 8,
    "start_time": "2023-05-14T11:36:39.186Z"
   },
   {
    "duration": 24,
    "start_time": "2023-05-14T11:36:39.196Z"
   },
   {
    "duration": 122,
    "start_time": "2023-05-14T11:36:39.221Z"
   },
   {
    "duration": 0,
    "start_time": "2023-05-14T11:36:39.344Z"
   },
   {
    "duration": 0,
    "start_time": "2023-05-14T11:36:39.346Z"
   },
   {
    "duration": 0,
    "start_time": "2023-05-14T11:36:39.348Z"
   },
   {
    "duration": 0,
    "start_time": "2023-05-14T11:36:39.349Z"
   },
   {
    "duration": 0,
    "start_time": "2023-05-14T11:36:39.350Z"
   },
   {
    "duration": 0,
    "start_time": "2023-05-14T11:36:39.351Z"
   },
   {
    "duration": 0,
    "start_time": "2023-05-14T11:36:39.352Z"
   },
   {
    "duration": 0,
    "start_time": "2023-05-14T11:36:39.354Z"
   },
   {
    "duration": 0,
    "start_time": "2023-05-14T11:36:39.354Z"
   },
   {
    "duration": 0,
    "start_time": "2023-05-14T11:36:39.376Z"
   },
   {
    "duration": 0,
    "start_time": "2023-05-14T11:36:39.377Z"
   },
   {
    "duration": 1,
    "start_time": "2023-05-14T11:36:39.378Z"
   },
   {
    "duration": 0,
    "start_time": "2023-05-14T11:36:39.380Z"
   },
   {
    "duration": 0,
    "start_time": "2023-05-14T11:36:39.381Z"
   },
   {
    "duration": 0,
    "start_time": "2023-05-14T11:36:39.382Z"
   },
   {
    "duration": 0,
    "start_time": "2023-05-14T11:36:39.383Z"
   },
   {
    "duration": 0,
    "start_time": "2023-05-14T11:36:39.385Z"
   },
   {
    "duration": 0,
    "start_time": "2023-05-14T11:36:39.386Z"
   },
   {
    "duration": 0,
    "start_time": "2023-05-14T11:36:39.387Z"
   },
   {
    "duration": 0,
    "start_time": "2023-05-14T11:36:39.388Z"
   },
   {
    "duration": 0,
    "start_time": "2023-05-14T11:36:39.390Z"
   },
   {
    "duration": 0,
    "start_time": "2023-05-14T11:36:39.391Z"
   },
   {
    "duration": 0,
    "start_time": "2023-05-14T11:36:39.392Z"
   },
   {
    "duration": 0,
    "start_time": "2023-05-14T11:36:39.393Z"
   },
   {
    "duration": 0,
    "start_time": "2023-05-14T11:36:39.394Z"
   },
   {
    "duration": 0,
    "start_time": "2023-05-14T11:36:39.395Z"
   },
   {
    "duration": 0,
    "start_time": "2023-05-14T11:36:39.396Z"
   },
   {
    "duration": 0,
    "start_time": "2023-05-14T11:36:39.398Z"
   },
   {
    "duration": 0,
    "start_time": "2023-05-14T11:36:39.399Z"
   },
   {
    "duration": 0,
    "start_time": "2023-05-14T11:36:39.400Z"
   },
   {
    "duration": 0,
    "start_time": "2023-05-14T11:36:39.401Z"
   },
   {
    "duration": 1,
    "start_time": "2023-05-14T11:36:39.402Z"
   },
   {
    "duration": 0,
    "start_time": "2023-05-14T11:36:39.404Z"
   },
   {
    "duration": 0,
    "start_time": "2023-05-14T11:36:39.405Z"
   },
   {
    "duration": 0,
    "start_time": "2023-05-14T11:36:39.407Z"
   },
   {
    "duration": 0,
    "start_time": "2023-05-14T11:36:39.410Z"
   },
   {
    "duration": 0,
    "start_time": "2023-05-14T11:36:39.411Z"
   },
   {
    "duration": 0,
    "start_time": "2023-05-14T11:36:39.412Z"
   },
   {
    "duration": 0,
    "start_time": "2023-05-14T11:36:39.413Z"
   },
   {
    "duration": 0,
    "start_time": "2023-05-14T11:36:39.414Z"
   },
   {
    "duration": 0,
    "start_time": "2023-05-14T11:36:39.478Z"
   },
   {
    "duration": 36,
    "start_time": "2023-05-14T11:43:13.477Z"
   },
   {
    "duration": 36,
    "start_time": "2023-05-14T11:43:22.175Z"
   },
   {
    "duration": 33,
    "start_time": "2023-05-14T11:50:06.378Z"
   },
   {
    "duration": 37,
    "start_time": "2023-05-14T11:50:58.054Z"
   },
   {
    "duration": 24,
    "start_time": "2023-05-14T11:53:32.291Z"
   },
   {
    "duration": 46,
    "start_time": "2023-05-14T11:58:13.950Z"
   },
   {
    "duration": 47,
    "start_time": "2023-05-14T11:59:14.212Z"
   },
   {
    "duration": 58,
    "start_time": "2023-05-14T12:02:44.503Z"
   },
   {
    "duration": 38,
    "start_time": "2023-05-14T12:48:24.159Z"
   },
   {
    "duration": 34,
    "start_time": "2023-05-14T12:49:02.668Z"
   },
   {
    "duration": 34,
    "start_time": "2023-05-14T12:49:40.185Z"
   },
   {
    "duration": 54,
    "start_time": "2023-05-14T12:51:28.242Z"
   },
   {
    "duration": 44,
    "start_time": "2023-05-14T12:52:18.952Z"
   },
   {
    "duration": 49,
    "start_time": "2023-05-14T12:52:42.889Z"
   },
   {
    "duration": 38,
    "start_time": "2023-05-14T12:53:30.350Z"
   },
   {
    "duration": 21,
    "start_time": "2023-05-14T13:17:19.178Z"
   },
   {
    "duration": 55,
    "start_time": "2023-05-14T13:20:46.958Z"
   },
   {
    "duration": 28,
    "start_time": "2023-05-14T13:21:29.531Z"
   },
   {
    "duration": 23,
    "start_time": "2023-05-14T13:26:18.576Z"
   },
   {
    "duration": 20,
    "start_time": "2023-05-14T13:27:07.994Z"
   },
   {
    "duration": 24,
    "start_time": "2023-05-14T13:28:00.387Z"
   },
   {
    "duration": 15,
    "start_time": "2023-05-14T13:50:33.806Z"
   },
   {
    "duration": 12,
    "start_time": "2023-05-14T13:50:36.630Z"
   },
   {
    "duration": 32,
    "start_time": "2023-05-14T13:50:37.623Z"
   },
   {
    "duration": 26,
    "start_time": "2023-05-14T13:54:00.175Z"
   },
   {
    "duration": 23,
    "start_time": "2023-05-14T13:54:08.123Z"
   },
   {
    "duration": 18,
    "start_time": "2023-05-14T13:54:24.346Z"
   },
   {
    "duration": 33,
    "start_time": "2023-05-14T13:54:27.596Z"
   },
   {
    "duration": 37,
    "start_time": "2023-05-14T13:54:48.422Z"
   },
   {
    "duration": 40,
    "start_time": "2023-05-14T13:55:07.590Z"
   },
   {
    "duration": 27,
    "start_time": "2023-05-14T13:55:19.112Z"
   },
   {
    "duration": 34,
    "start_time": "2023-05-14T13:55:26.391Z"
   },
   {
    "duration": 32,
    "start_time": "2023-05-14T13:55:41.025Z"
   },
   {
    "duration": 48,
    "start_time": "2023-05-14T13:55:58.464Z"
   },
   {
    "duration": 55,
    "start_time": "2023-05-14T13:56:04.022Z"
   },
   {
    "duration": 40,
    "start_time": "2023-05-14T13:56:15.296Z"
   },
   {
    "duration": 34,
    "start_time": "2023-05-14T13:56:18.711Z"
   },
   {
    "duration": 34,
    "start_time": "2023-05-14T13:56:25.949Z"
   },
   {
    "duration": 49,
    "start_time": "2023-05-14T13:56:59.040Z"
   },
   {
    "duration": 29,
    "start_time": "2023-05-14T13:57:15.144Z"
   },
   {
    "duration": 9,
    "start_time": "2023-05-14T13:58:21.203Z"
   },
   {
    "duration": 38,
    "start_time": "2023-05-14T13:58:34.490Z"
   },
   {
    "duration": 20,
    "start_time": "2023-05-14T14:00:03.542Z"
   },
   {
    "duration": 14,
    "start_time": "2023-05-14T14:00:06.779Z"
   },
   {
    "duration": 15,
    "start_time": "2023-05-14T14:00:20.034Z"
   },
   {
    "duration": 9,
    "start_time": "2023-05-14T14:00:37.534Z"
   },
   {
    "duration": 16,
    "start_time": "2023-05-14T14:00:58.087Z"
   },
   {
    "duration": 14,
    "start_time": "2023-05-14T14:01:01.849Z"
   },
   {
    "duration": 10,
    "start_time": "2023-05-14T14:01:37.830Z"
   },
   {
    "duration": 22,
    "start_time": "2023-05-14T14:03:28.480Z"
   },
   {
    "duration": 18,
    "start_time": "2023-05-14T14:03:37.045Z"
   },
   {
    "duration": 26,
    "start_time": "2023-05-14T14:03:43.891Z"
   },
   {
    "duration": 27,
    "start_time": "2023-05-14T14:03:52.910Z"
   },
   {
    "duration": 30,
    "start_time": "2023-05-14T14:03:57.685Z"
   },
   {
    "duration": 26,
    "start_time": "2023-05-14T14:04:08.175Z"
   },
   {
    "duration": 10,
    "start_time": "2023-05-14T14:04:21.187Z"
   },
   {
    "duration": 47,
    "start_time": "2023-05-14T14:05:39.188Z"
   },
   {
    "duration": 58,
    "start_time": "2023-05-14T14:05:57.625Z"
   },
   {
    "duration": 78,
    "start_time": "2023-05-14T14:06:02.169Z"
   },
   {
    "duration": 75,
    "start_time": "2023-05-14T14:06:54.689Z"
   },
   {
    "duration": 55,
    "start_time": "2023-05-14T14:07:17.713Z"
   },
   {
    "duration": 52,
    "start_time": "2023-05-14T14:07:22.787Z"
   },
   {
    "duration": 47,
    "start_time": "2023-05-14T14:07:41.455Z"
   },
   {
    "duration": 44,
    "start_time": "2023-05-14T14:07:58.688Z"
   },
   {
    "duration": 44,
    "start_time": "2023-05-14T14:08:04.567Z"
   },
   {
    "duration": 43,
    "start_time": "2023-05-14T14:08:19.533Z"
   },
   {
    "duration": 17,
    "start_time": "2023-05-14T14:09:10.999Z"
   },
   {
    "duration": 10,
    "start_time": "2023-05-14T14:09:28.890Z"
   },
   {
    "duration": 9,
    "start_time": "2023-05-14T14:14:15.716Z"
   },
   {
    "duration": 691,
    "start_time": "2023-05-14T14:14:20.356Z"
   },
   {
    "duration": 11,
    "start_time": "2023-05-14T14:14:30.961Z"
   },
   {
    "duration": 6,
    "start_time": "2023-05-14T14:14:34.651Z"
   },
   {
    "duration": 12,
    "start_time": "2023-05-14T14:14:38.412Z"
   },
   {
    "duration": 10,
    "start_time": "2023-05-14T14:15:08.641Z"
   },
   {
    "duration": 771,
    "start_time": "2023-05-14T14:15:18.573Z"
   },
   {
    "duration": 12,
    "start_time": "2023-05-14T14:15:28.152Z"
   },
   {
    "duration": 11,
    "start_time": "2023-05-14T14:16:36.974Z"
   },
   {
    "duration": 194,
    "start_time": "2023-05-14T14:17:43.618Z"
   },
   {
    "duration": 10,
    "start_time": "2023-05-14T14:18:05.096Z"
   },
   {
    "duration": 209,
    "start_time": "2023-05-14T14:18:26.296Z"
   },
   {
    "duration": 11,
    "start_time": "2023-05-14T14:18:36.020Z"
   },
   {
    "duration": 12,
    "start_time": "2023-05-14T14:19:10.157Z"
   },
   {
    "duration": 13,
    "start_time": "2023-05-14T14:20:16.003Z"
   },
   {
    "duration": 13,
    "start_time": "2023-05-14T14:22:52.181Z"
   },
   {
    "duration": 12,
    "start_time": "2023-05-14T14:23:00.703Z"
   },
   {
    "duration": 10,
    "start_time": "2023-05-14T14:29:14.512Z"
   },
   {
    "duration": 104,
    "start_time": "2023-05-14T14:29:55.394Z"
   },
   {
    "duration": 28,
    "start_time": "2023-05-14T14:31:46.769Z"
   },
   {
    "duration": 20,
    "start_time": "2023-05-14T14:32:18.892Z"
   },
   {
    "duration": 12,
    "start_time": "2023-05-14T14:33:13.904Z"
   },
   {
    "duration": 13,
    "start_time": "2023-05-14T14:33:18.254Z"
   },
   {
    "duration": 21,
    "start_time": "2023-05-14T14:34:02.477Z"
   },
   {
    "duration": 12,
    "start_time": "2023-05-14T14:34:07.952Z"
   },
   {
    "duration": 11,
    "start_time": "2023-05-14T14:34:14.818Z"
   },
   {
    "duration": 2,
    "start_time": "2023-05-14T14:34:34.930Z"
   },
   {
    "duration": 19,
    "start_time": "2023-05-14T14:35:05.919Z"
   },
   {
    "duration": 23,
    "start_time": "2023-05-14T14:35:23.890Z"
   },
   {
    "duration": 22,
    "start_time": "2023-05-14T14:36:16.766Z"
   },
   {
    "duration": 17,
    "start_time": "2023-05-14T14:37:25.211Z"
   },
   {
    "duration": 21,
    "start_time": "2023-05-14T14:37:32.809Z"
   },
   {
    "duration": 4,
    "start_time": "2023-05-14T14:40:06.542Z"
   },
   {
    "duration": 9,
    "start_time": "2023-05-14T14:40:10.835Z"
   },
   {
    "duration": 245,
    "start_time": "2023-05-14T14:41:43.804Z"
   },
   {
    "duration": 10,
    "start_time": "2023-05-14T14:42:04.694Z"
   },
   {
    "duration": 241,
    "start_time": "2023-05-14T14:42:08.650Z"
   },
   {
    "duration": 266,
    "start_time": "2023-05-14T14:43:50.573Z"
   },
   {
    "duration": 338,
    "start_time": "2023-05-14T14:44:02.284Z"
   },
   {
    "duration": 60,
    "start_time": "2023-05-14T14:46:09.506Z"
   },
   {
    "duration": 262,
    "start_time": "2023-05-14T14:51:09.354Z"
   },
   {
    "duration": 15,
    "start_time": "2023-05-14T14:57:55.654Z"
   },
   {
    "duration": 13,
    "start_time": "2023-05-14T15:38:56.198Z"
   },
   {
    "duration": 6,
    "start_time": "2023-05-14T15:39:12.906Z"
   },
   {
    "duration": 4,
    "start_time": "2023-05-14T15:39:37.410Z"
   },
   {
    "duration": 33,
    "start_time": "2023-05-14T15:40:10.463Z"
   },
   {
    "duration": 1277,
    "start_time": "2023-05-14T16:40:05.444Z"
   },
   {
    "duration": 127,
    "start_time": "2023-05-14T16:40:06.723Z"
   },
   {
    "duration": 3,
    "start_time": "2023-05-14T16:40:06.852Z"
   },
   {
    "duration": 62,
    "start_time": "2023-05-14T16:40:06.857Z"
   },
   {
    "duration": 16,
    "start_time": "2023-05-14T16:40:06.921Z"
   },
   {
    "duration": 7,
    "start_time": "2023-05-14T16:40:06.939Z"
   },
   {
    "duration": 33,
    "start_time": "2023-05-14T16:40:06.947Z"
   },
   {
    "duration": 30,
    "start_time": "2023-05-14T16:40:06.986Z"
   },
   {
    "duration": 3,
    "start_time": "2023-05-14T16:40:07.018Z"
   },
   {
    "duration": 15,
    "start_time": "2023-05-14T16:40:07.023Z"
   },
   {
    "duration": 7,
    "start_time": "2023-05-14T16:40:07.040Z"
   },
   {
    "duration": 94,
    "start_time": "2023-05-14T16:40:07.049Z"
   },
   {
    "duration": 17,
    "start_time": "2023-05-14T16:40:07.145Z"
   },
   {
    "duration": 38,
    "start_time": "2023-05-14T16:40:07.180Z"
   },
   {
    "duration": 15,
    "start_time": "2023-05-14T16:40:07.220Z"
   },
   {
    "duration": 5,
    "start_time": "2023-05-14T16:40:07.236Z"
   },
   {
    "duration": 5,
    "start_time": "2023-05-14T16:40:07.242Z"
   },
   {
    "duration": 5,
    "start_time": "2023-05-14T16:40:07.248Z"
   },
   {
    "duration": 806,
    "start_time": "2023-05-14T16:40:07.255Z"
   },
   {
    "duration": 155,
    "start_time": "2023-05-14T16:40:08.063Z"
   },
   {
    "duration": 6,
    "start_time": "2023-05-14T16:40:08.219Z"
   },
   {
    "duration": 854,
    "start_time": "2023-05-14T16:40:08.226Z"
   },
   {
    "duration": 968,
    "start_time": "2023-05-14T16:40:09.082Z"
   },
   {
    "duration": 29,
    "start_time": "2023-05-14T16:40:10.051Z"
   },
   {
    "duration": 27,
    "start_time": "2023-05-14T16:40:10.081Z"
   },
   {
    "duration": 44,
    "start_time": "2023-05-14T16:40:10.110Z"
   },
   {
    "duration": 58,
    "start_time": "2023-05-14T16:40:10.156Z"
   },
   {
    "duration": 4,
    "start_time": "2023-05-14T16:40:10.216Z"
   },
   {
    "duration": 59,
    "start_time": "2023-05-14T16:40:10.222Z"
   },
   {
    "duration": 8,
    "start_time": "2023-05-14T16:40:10.286Z"
   },
   {
    "duration": 16,
    "start_time": "2023-05-14T16:40:10.296Z"
   },
   {
    "duration": 48,
    "start_time": "2023-05-14T16:40:10.314Z"
   },
   {
    "duration": 39,
    "start_time": "2023-05-14T16:40:10.364Z"
   },
   {
    "duration": 39,
    "start_time": "2023-05-14T16:40:10.405Z"
   },
   {
    "duration": 46,
    "start_time": "2023-05-14T16:40:10.446Z"
   },
   {
    "duration": 948,
    "start_time": "2023-05-14T16:40:10.493Z"
   },
   {
    "duration": 1003,
    "start_time": "2023-05-14T16:40:11.442Z"
   },
   {
    "duration": 10,
    "start_time": "2023-05-14T16:40:12.447Z"
   },
   {
    "duration": 33,
    "start_time": "2023-05-14T16:40:12.459Z"
   },
   {
    "duration": 36,
    "start_time": "2023-05-14T16:40:12.494Z"
   },
   {
    "duration": 24,
    "start_time": "2023-05-14T16:40:12.534Z"
   },
   {
    "duration": 45,
    "start_time": "2023-05-14T16:40:12.560Z"
   },
   {
    "duration": 254,
    "start_time": "2023-05-14T16:40:12.607Z"
   },
   {
    "duration": 26,
    "start_time": "2023-05-14T16:40:12.863Z"
   },
   {
    "duration": 26,
    "start_time": "2023-05-14T16:40:12.894Z"
   },
   {
    "duration": 11,
    "start_time": "2023-05-14T16:40:12.921Z"
   },
   {
    "duration": 23,
    "start_time": "2023-05-14T16:40:12.934Z"
   },
   {
    "duration": 48,
    "start_time": "2023-05-14T16:40:12.974Z"
   },
   {
    "duration": 28,
    "start_time": "2023-05-14T16:40:13.024Z"
   },
   {
    "duration": 344,
    "start_time": "2023-05-14T16:40:13.053Z"
   },
   {
    "duration": 15,
    "start_time": "2023-05-14T16:40:13.399Z"
   },
   {
    "duration": 13,
    "start_time": "2023-05-14T16:40:13.416Z"
   },
   {
    "duration": 12,
    "start_time": "2023-05-14T16:40:13.431Z"
   },
   {
    "duration": 15,
    "start_time": "2023-05-14T16:40:13.476Z"
   },
   {
    "duration": 176,
    "start_time": "2023-05-14T16:40:13.493Z"
   },
   {
    "duration": 35,
    "start_time": "2023-05-14T16:40:13.670Z"
   },
   {
    "duration": 98,
    "start_time": "2023-05-14T16:40:13.707Z"
   },
   {
    "duration": 99,
    "start_time": "2023-05-14T16:40:13.807Z"
   },
   {
    "duration": 22,
    "start_time": "2023-05-14T16:40:13.908Z"
   },
   {
    "duration": 56,
    "start_time": "2023-05-14T16:40:13.932Z"
   },
   {
    "duration": 20,
    "start_time": "2023-05-14T16:40:13.994Z"
   },
   {
    "duration": 17,
    "start_time": "2023-05-14T16:40:14.015Z"
   },
   {
    "duration": 43,
    "start_time": "2023-05-14T16:40:14.033Z"
   },
   {
    "duration": 42,
    "start_time": "2023-05-14T16:40:14.079Z"
   },
   {
    "duration": 53,
    "start_time": "2023-05-14T16:40:14.123Z"
   },
   {
    "duration": 39,
    "start_time": "2023-05-14T16:40:14.177Z"
   },
   {
    "duration": 33,
    "start_time": "2023-05-14T16:40:14.218Z"
   },
   {
    "duration": 38,
    "start_time": "2023-05-14T16:40:14.253Z"
   },
   {
    "duration": 35,
    "start_time": "2023-05-14T16:40:14.293Z"
   },
   {
    "duration": 12,
    "start_time": "2023-05-14T16:40:14.329Z"
   },
   {
    "duration": 91,
    "start_time": "2023-05-14T16:40:14.343Z"
   },
   {
    "duration": 60,
    "start_time": "2023-05-14T16:40:14.435Z"
   },
   {
    "duration": 81,
    "start_time": "2023-05-14T16:40:14.497Z"
   },
   {
    "duration": 152,
    "start_time": "2023-05-14T16:40:14.583Z"
   },
   {
    "duration": 60,
    "start_time": "2023-05-14T16:40:14.737Z"
   },
   {
    "duration": 40,
    "start_time": "2023-05-14T16:40:14.799Z"
   },
   {
    "duration": 69,
    "start_time": "2023-05-14T16:40:14.841Z"
   },
   {
    "duration": 10,
    "start_time": "2023-05-14T16:40:14.912Z"
   },
   {
    "duration": 15,
    "start_time": "2023-05-14T16:40:14.923Z"
   },
   {
    "duration": 275,
    "start_time": "2023-05-14T16:40:14.941Z"
   },
   {
    "duration": 14,
    "start_time": "2023-05-14T16:40:15.218Z"
   },
   {
    "duration": 13,
    "start_time": "2023-05-14T16:40:15.233Z"
   },
   {
    "duration": 40,
    "start_time": "2023-05-14T16:40:15.247Z"
   },
   {
    "duration": 5,
    "start_time": "2023-05-14T16:40:15.291Z"
   },
   {
    "duration": 13,
    "start_time": "2023-05-14T16:40:15.297Z"
   },
   {
    "duration": 3,
    "start_time": "2023-05-14T16:40:15.312Z"
   },
   {
    "duration": 6,
    "start_time": "2023-05-14T16:40:15.316Z"
   },
   {
    "duration": 14,
    "start_time": "2023-05-14T16:40:15.323Z"
   },
   {
    "duration": 15,
    "start_time": "2023-05-14T16:40:15.339Z"
   },
   {
    "duration": 36,
    "start_time": "2023-05-14T16:40:15.356Z"
   },
   {
    "duration": 11,
    "start_time": "2023-05-14T16:40:15.394Z"
   },
   {
    "duration": 8,
    "start_time": "2023-05-14T16:40:15.406Z"
   },
   {
    "duration": 13,
    "start_time": "2023-05-14T16:40:15.416Z"
   },
   {
    "duration": 4,
    "start_time": "2023-05-14T16:40:15.430Z"
   },
   {
    "duration": 14,
    "start_time": "2023-05-14T16:40:15.435Z"
   },
   {
    "duration": 39,
    "start_time": "2023-05-14T16:40:15.451Z"
   },
   {
    "duration": 59,
    "start_time": "2023-05-14T16:43:06.192Z"
   },
   {
    "duration": 1206,
    "start_time": "2023-05-15T05:24:12.951Z"
   },
   {
    "duration": 480,
    "start_time": "2023-05-15T05:24:14.159Z"
   },
   {
    "duration": 3,
    "start_time": "2023-05-15T05:24:14.640Z"
   },
   {
    "duration": 33,
    "start_time": "2023-05-15T05:24:14.645Z"
   },
   {
    "duration": 19,
    "start_time": "2023-05-15T05:24:14.680Z"
   },
   {
    "duration": 8,
    "start_time": "2023-05-15T05:24:14.700Z"
   },
   {
    "duration": 10,
    "start_time": "2023-05-15T05:24:14.709Z"
   },
   {
    "duration": 99,
    "start_time": "2023-05-15T05:24:14.721Z"
   },
   {
    "duration": 3,
    "start_time": "2023-05-15T05:24:14.821Z"
   },
   {
    "duration": 18,
    "start_time": "2023-05-15T05:24:14.827Z"
   },
   {
    "duration": 6,
    "start_time": "2023-05-15T05:24:14.848Z"
   },
   {
    "duration": 76,
    "start_time": "2023-05-15T05:24:14.855Z"
   },
   {
    "duration": 13,
    "start_time": "2023-05-15T05:24:14.933Z"
   },
   {
    "duration": 51,
    "start_time": "2023-05-15T05:24:14.948Z"
   },
   {
    "duration": 23,
    "start_time": "2023-05-15T05:24:15.000Z"
   },
   {
    "duration": 46,
    "start_time": "2023-05-15T05:24:15.025Z"
   },
   {
    "duration": 37,
    "start_time": "2023-05-15T05:24:15.072Z"
   },
   {
    "duration": 8,
    "start_time": "2023-05-15T05:24:15.110Z"
   },
   {
    "duration": 720,
    "start_time": "2023-05-15T05:24:15.119Z"
   },
   {
    "duration": 1071,
    "start_time": "2023-05-15T05:24:15.841Z"
   },
   {
    "duration": 7,
    "start_time": "2023-05-15T05:24:16.913Z"
   },
   {
    "duration": 897,
    "start_time": "2023-05-15T05:24:16.921Z"
   },
   {
    "duration": 962,
    "start_time": "2023-05-15T05:24:17.820Z"
   },
   {
    "duration": 39,
    "start_time": "2023-05-15T05:24:18.784Z"
   },
   {
    "duration": 62,
    "start_time": "2023-05-15T05:24:18.825Z"
   },
   {
    "duration": 69,
    "start_time": "2023-05-15T05:24:18.889Z"
   },
   {
    "duration": 46,
    "start_time": "2023-05-15T05:24:18.959Z"
   },
   {
    "duration": 12,
    "start_time": "2023-05-15T05:24:19.011Z"
   },
   {
    "duration": 77,
    "start_time": "2023-05-15T05:24:19.026Z"
   },
   {
    "duration": 63,
    "start_time": "2023-05-15T05:24:19.105Z"
   },
   {
    "duration": 34,
    "start_time": "2023-05-15T05:24:19.171Z"
   },
   {
    "duration": 70,
    "start_time": "2023-05-15T05:24:19.207Z"
   },
   {
    "duration": 23,
    "start_time": "2023-05-15T05:24:19.278Z"
   },
   {
    "duration": 72,
    "start_time": "2023-05-15T05:24:19.303Z"
   },
   {
    "duration": 28,
    "start_time": "2023-05-15T05:24:19.377Z"
   },
   {
    "duration": 936,
    "start_time": "2023-05-15T05:24:19.407Z"
   },
   {
    "duration": 988,
    "start_time": "2023-05-15T05:24:20.345Z"
   },
   {
    "duration": 11,
    "start_time": "2023-05-15T05:24:21.335Z"
   },
   {
    "duration": 21,
    "start_time": "2023-05-15T05:24:21.348Z"
   },
   {
    "duration": 48,
    "start_time": "2023-05-15T05:24:21.371Z"
   },
   {
    "duration": 30,
    "start_time": "2023-05-15T05:24:21.420Z"
   },
   {
    "duration": 25,
    "start_time": "2023-05-15T05:24:21.452Z"
   },
   {
    "duration": 278,
    "start_time": "2023-05-15T05:24:21.497Z"
   },
   {
    "duration": 21,
    "start_time": "2023-05-15T05:24:21.776Z"
   },
   {
    "duration": 24,
    "start_time": "2023-05-15T05:24:21.799Z"
   },
   {
    "duration": 11,
    "start_time": "2023-05-15T05:24:21.825Z"
   },
   {
    "duration": 33,
    "start_time": "2023-05-15T05:24:21.838Z"
   },
   {
    "duration": 57,
    "start_time": "2023-05-15T05:24:21.873Z"
   },
   {
    "duration": 29,
    "start_time": "2023-05-15T05:24:21.932Z"
   },
   {
    "duration": 370,
    "start_time": "2023-05-15T05:24:21.963Z"
   },
   {
    "duration": 17,
    "start_time": "2023-05-15T05:24:22.335Z"
   },
   {
    "duration": 16,
    "start_time": "2023-05-15T05:24:22.355Z"
   },
   {
    "duration": 34,
    "start_time": "2023-05-15T05:24:22.372Z"
   },
   {
    "duration": 10,
    "start_time": "2023-05-15T05:24:22.408Z"
   },
   {
    "duration": 475,
    "start_time": "2023-05-15T05:24:22.420Z"
   },
   {
    "duration": 24,
    "start_time": "2023-05-15T05:24:22.898Z"
   },
   {
    "duration": 87,
    "start_time": "2023-05-15T05:24:22.924Z"
   },
   {
    "duration": 34,
    "start_time": "2023-05-15T05:24:23.013Z"
   },
   {
    "duration": 25,
    "start_time": "2023-05-15T05:24:23.096Z"
   },
   {
    "duration": 25,
    "start_time": "2023-05-15T05:24:23.123Z"
   },
   {
    "duration": 14,
    "start_time": "2023-05-15T05:24:23.150Z"
   },
   {
    "duration": 13,
    "start_time": "2023-05-15T05:24:23.198Z"
   },
   {
    "duration": 38,
    "start_time": "2023-05-15T05:24:23.213Z"
   },
   {
    "duration": 48,
    "start_time": "2023-05-15T05:24:23.252Z"
   },
   {
    "duration": 42,
    "start_time": "2023-05-15T05:24:23.302Z"
   },
   {
    "duration": 47,
    "start_time": "2023-05-15T05:24:23.346Z"
   },
   {
    "duration": 32,
    "start_time": "2023-05-15T05:24:23.395Z"
   },
   {
    "duration": 22,
    "start_time": "2023-05-15T05:24:23.429Z"
   },
   {
    "duration": 43,
    "start_time": "2023-05-15T05:24:23.453Z"
   },
   {
    "duration": 33,
    "start_time": "2023-05-15T05:24:23.498Z"
   },
   {
    "duration": 79,
    "start_time": "2023-05-15T05:24:23.533Z"
   },
   {
    "duration": 61,
    "start_time": "2023-05-15T05:24:23.614Z"
   },
   {
    "duration": 90,
    "start_time": "2023-05-15T05:24:23.676Z"
   },
   {
    "duration": 168,
    "start_time": "2023-05-15T05:24:23.768Z"
   },
   {
    "duration": 69,
    "start_time": "2023-05-15T05:24:23.938Z"
   },
   {
    "duration": 44,
    "start_time": "2023-05-15T05:24:24.010Z"
   },
   {
    "duration": 63,
    "start_time": "2023-05-15T05:24:24.056Z"
   },
   {
    "duration": 10,
    "start_time": "2023-05-15T05:24:24.121Z"
   },
   {
    "duration": 29,
    "start_time": "2023-05-15T05:24:24.132Z"
   },
   {
    "duration": 285,
    "start_time": "2023-05-15T05:24:24.162Z"
   },
   {
    "duration": 14,
    "start_time": "2023-05-15T05:24:24.448Z"
   },
   {
    "duration": 15,
    "start_time": "2023-05-15T05:24:24.467Z"
   },
   {
    "duration": 31,
    "start_time": "2023-05-15T05:24:24.498Z"
   },
   {
    "duration": 4,
    "start_time": "2023-05-15T05:24:24.531Z"
   },
   {
    "duration": 28,
    "start_time": "2023-05-15T05:24:24.537Z"
   },
   {
    "duration": 29,
    "start_time": "2023-05-15T05:24:24.568Z"
   },
   {
    "duration": 18,
    "start_time": "2023-05-15T05:24:24.599Z"
   },
   {
    "duration": 18,
    "start_time": "2023-05-15T05:24:24.619Z"
   },
   {
    "duration": 29,
    "start_time": "2023-05-15T05:24:24.639Z"
   },
   {
    "duration": 22,
    "start_time": "2023-05-15T05:24:24.670Z"
   },
   {
    "duration": 25,
    "start_time": "2023-05-15T05:24:24.694Z"
   },
   {
    "duration": 29,
    "start_time": "2023-05-15T05:24:24.721Z"
   },
   {
    "duration": 28,
    "start_time": "2023-05-15T05:24:24.751Z"
   },
   {
    "duration": 9,
    "start_time": "2023-05-15T05:24:24.781Z"
   },
   {
    "duration": 18,
    "start_time": "2023-05-15T05:24:24.791Z"
   },
   {
    "duration": 17,
    "start_time": "2023-05-15T05:24:24.811Z"
   },
   {
    "duration": 8,
    "start_time": "2023-05-15T05:26:17.947Z"
   },
   {
    "duration": 20,
    "start_time": "2023-05-15T05:26:21.588Z"
   },
   {
    "duration": 49,
    "start_time": "2023-05-15T13:57:47.171Z"
   },
   {
    "duration": 1429,
    "start_time": "2023-05-15T13:57:54.156Z"
   },
   {
    "duration": 187,
    "start_time": "2023-05-15T13:57:55.588Z"
   },
   {
    "duration": 2,
    "start_time": "2023-05-15T13:57:55.777Z"
   },
   {
    "duration": 40,
    "start_time": "2023-05-15T13:57:55.782Z"
   },
   {
    "duration": 18,
    "start_time": "2023-05-15T13:57:55.824Z"
   },
   {
    "duration": 7,
    "start_time": "2023-05-15T13:57:55.843Z"
   },
   {
    "duration": 7,
    "start_time": "2023-05-15T13:57:55.852Z"
   },
   {
    "duration": 70,
    "start_time": "2023-05-15T13:57:55.860Z"
   },
   {
    "duration": 3,
    "start_time": "2023-05-15T13:57:55.933Z"
   },
   {
    "duration": 12,
    "start_time": "2023-05-15T13:57:55.939Z"
   },
   {
    "duration": 5,
    "start_time": "2023-05-15T13:57:55.953Z"
   },
   {
    "duration": 105,
    "start_time": "2023-05-15T13:57:55.960Z"
   },
   {
    "duration": 18,
    "start_time": "2023-05-15T13:57:56.067Z"
   },
   {
    "duration": 43,
    "start_time": "2023-05-15T13:57:56.087Z"
   },
   {
    "duration": 11,
    "start_time": "2023-05-15T13:57:56.132Z"
   },
   {
    "duration": 6,
    "start_time": "2023-05-15T13:57:56.145Z"
   },
   {
    "duration": 13,
    "start_time": "2023-05-15T13:57:56.152Z"
   },
   {
    "duration": 7,
    "start_time": "2023-05-15T13:57:56.167Z"
   },
   {
    "duration": 767,
    "start_time": "2023-05-15T13:57:56.176Z"
   },
   {
    "duration": 1261,
    "start_time": "2023-05-15T13:57:56.945Z"
   },
   {
    "duration": 6,
    "start_time": "2023-05-15T13:57:58.208Z"
   },
   {
    "duration": 727,
    "start_time": "2023-05-15T13:57:58.215Z"
   },
   {
    "duration": 936,
    "start_time": "2023-05-15T13:57:58.943Z"
   },
   {
    "duration": 30,
    "start_time": "2023-05-15T13:57:59.880Z"
   },
   {
    "duration": 19,
    "start_time": "2023-05-15T13:57:59.926Z"
   },
   {
    "duration": 39,
    "start_time": "2023-05-15T13:57:59.947Z"
   },
   {
    "duration": 55,
    "start_time": "2023-05-15T13:57:59.988Z"
   },
   {
    "duration": 6,
    "start_time": "2023-05-15T13:58:00.048Z"
   },
   {
    "duration": 61,
    "start_time": "2023-05-15T13:58:00.056Z"
   },
   {
    "duration": 7,
    "start_time": "2023-05-15T13:58:00.124Z"
   },
   {
    "duration": 19,
    "start_time": "2023-05-15T13:58:00.133Z"
   },
   {
    "duration": 68,
    "start_time": "2023-05-15T13:58:00.154Z"
   },
   {
    "duration": 23,
    "start_time": "2023-05-15T13:58:00.224Z"
   },
   {
    "duration": 49,
    "start_time": "2023-05-15T13:58:00.248Z"
   },
   {
    "duration": 40,
    "start_time": "2023-05-15T13:58:00.299Z"
   },
   {
    "duration": 904,
    "start_time": "2023-05-15T13:58:00.340Z"
   },
   {
    "duration": 1034,
    "start_time": "2023-05-15T13:58:01.246Z"
   },
   {
    "duration": 12,
    "start_time": "2023-05-15T13:58:02.283Z"
   },
   {
    "duration": 35,
    "start_time": "2023-05-15T13:58:02.297Z"
   },
   {
    "duration": 45,
    "start_time": "2023-05-15T13:58:02.334Z"
   },
   {
    "duration": 38,
    "start_time": "2023-05-15T13:58:02.380Z"
   },
   {
    "duration": 46,
    "start_time": "2023-05-15T13:58:02.420Z"
   },
   {
    "duration": 257,
    "start_time": "2023-05-15T13:58:02.468Z"
   },
   {
    "duration": 12,
    "start_time": "2023-05-15T13:58:02.726Z"
   },
   {
    "duration": 30,
    "start_time": "2023-05-15T13:58:02.739Z"
   },
   {
    "duration": 23,
    "start_time": "2023-05-15T13:58:02.771Z"
   },
   {
    "duration": 57,
    "start_time": "2023-05-15T13:58:02.796Z"
   },
   {
    "duration": 26,
    "start_time": "2023-05-15T13:58:02.856Z"
   },
   {
    "duration": 37,
    "start_time": "2023-05-15T13:58:02.884Z"
   },
   {
    "duration": 32,
    "start_time": "2023-05-15T13:58:02.923Z"
   },
   {
    "duration": 361,
    "start_time": "2023-05-15T13:58:02.957Z"
   },
   {
    "duration": 18,
    "start_time": "2023-05-15T13:58:03.320Z"
   },
   {
    "duration": 37,
    "start_time": "2023-05-15T13:58:03.339Z"
   },
   {
    "duration": 17,
    "start_time": "2023-05-15T13:58:03.378Z"
   },
   {
    "duration": 12,
    "start_time": "2023-05-15T13:58:03.397Z"
   },
   {
    "duration": 201,
    "start_time": "2023-05-15T13:58:03.410Z"
   },
   {
    "duration": 43,
    "start_time": "2023-05-15T13:58:03.614Z"
   },
   {
    "duration": 102,
    "start_time": "2023-05-15T13:58:03.659Z"
   },
   {
    "duration": 104,
    "start_time": "2023-05-15T13:58:03.763Z"
   },
   {
    "duration": 34,
    "start_time": "2023-05-15T13:58:03.869Z"
   },
   {
    "duration": 42,
    "start_time": "2023-05-15T13:58:03.905Z"
   },
   {
    "duration": 13,
    "start_time": "2023-05-15T13:58:03.949Z"
   },
   {
    "duration": 15,
    "start_time": "2023-05-15T13:58:03.964Z"
   },
   {
    "duration": 55,
    "start_time": "2023-05-15T13:58:03.981Z"
   },
   {
    "duration": 46,
    "start_time": "2023-05-15T13:58:04.038Z"
   },
   {
    "duration": 69,
    "start_time": "2023-05-15T13:58:04.087Z"
   },
   {
    "duration": 33,
    "start_time": "2023-05-15T13:58:04.158Z"
   },
   {
    "duration": 52,
    "start_time": "2023-05-15T13:58:04.193Z"
   },
   {
    "duration": 12,
    "start_time": "2023-05-15T13:58:04.247Z"
   },
   {
    "duration": 30,
    "start_time": "2023-05-15T13:58:04.260Z"
   },
   {
    "duration": 34,
    "start_time": "2023-05-15T13:58:04.292Z"
   },
   {
    "duration": 72,
    "start_time": "2023-05-15T13:58:04.329Z"
   },
   {
    "duration": 51,
    "start_time": "2023-05-15T13:58:04.403Z"
   },
   {
    "duration": 86,
    "start_time": "2023-05-15T13:58:04.456Z"
   },
   {
    "duration": 170,
    "start_time": "2023-05-15T13:58:04.543Z"
   },
   {
    "duration": 70,
    "start_time": "2023-05-15T13:58:04.715Z"
   },
   {
    "duration": 60,
    "start_time": "2023-05-15T13:58:04.787Z"
   },
   {
    "duration": 50,
    "start_time": "2023-05-15T13:58:04.849Z"
   },
   {
    "duration": 25,
    "start_time": "2023-05-15T13:58:04.903Z"
   },
   {
    "duration": 33,
    "start_time": "2023-05-15T13:58:04.931Z"
   },
   {
    "duration": 273,
    "start_time": "2023-05-15T13:58:04.966Z"
   },
   {
    "duration": 14,
    "start_time": "2023-05-15T13:58:05.246Z"
   },
   {
    "duration": 36,
    "start_time": "2023-05-15T13:58:05.262Z"
   },
   {
    "duration": 38,
    "start_time": "2023-05-15T13:58:05.300Z"
   },
   {
    "duration": 29,
    "start_time": "2023-05-15T13:58:05.340Z"
   },
   {
    "duration": 48,
    "start_time": "2023-05-15T13:58:05.371Z"
   },
   {
    "duration": 15,
    "start_time": "2023-05-15T13:58:05.421Z"
   },
   {
    "duration": 33,
    "start_time": "2023-05-15T13:58:05.438Z"
   },
   {
    "duration": 24,
    "start_time": "2023-05-15T13:58:05.473Z"
   },
   {
    "duration": 38,
    "start_time": "2023-05-15T13:58:05.499Z"
   },
   {
    "duration": 63,
    "start_time": "2023-05-15T13:58:05.539Z"
   },
   {
    "duration": 32,
    "start_time": "2023-05-15T13:58:05.604Z"
   },
   {
    "duration": 25,
    "start_time": "2023-05-15T13:58:05.638Z"
   },
   {
    "duration": 52,
    "start_time": "2023-05-15T13:58:05.665Z"
   },
   {
    "duration": 15,
    "start_time": "2023-05-15T13:58:05.719Z"
   },
   {
    "duration": 54,
    "start_time": "2023-05-15T13:58:05.735Z"
   },
   {
    "duration": 40,
    "start_time": "2023-05-15T13:58:05.791Z"
   },
   {
    "duration": 10,
    "start_time": "2023-05-15T13:58:53.538Z"
   },
   {
    "duration": 9,
    "start_time": "2023-05-15T14:00:05.282Z"
   },
   {
    "duration": 9,
    "start_time": "2023-05-15T14:00:17.183Z"
   },
   {
    "duration": 27,
    "start_time": "2023-05-15T14:04:20.550Z"
   },
   {
    "duration": 25,
    "start_time": "2023-05-15T14:09:40.157Z"
   },
   {
    "duration": 316,
    "start_time": "2023-05-15T14:25:56.456Z"
   },
   {
    "duration": 325,
    "start_time": "2023-05-15T14:26:07.925Z"
   },
   {
    "duration": 357,
    "start_time": "2023-05-15T14:26:55.171Z"
   },
   {
    "duration": 366,
    "start_time": "2023-05-15T14:27:03.034Z"
   },
   {
    "duration": 466,
    "start_time": "2023-05-15T14:27:14.601Z"
   },
   {
    "duration": 348,
    "start_time": "2023-05-15T14:27:21.911Z"
   },
   {
    "duration": 338,
    "start_time": "2023-05-15T14:27:31.117Z"
   },
   {
    "duration": 327,
    "start_time": "2023-05-15T14:27:40.570Z"
   },
   {
    "duration": 331,
    "start_time": "2023-05-15T14:27:52.190Z"
   },
   {
    "duration": 331,
    "start_time": "2023-05-15T14:27:58.537Z"
   },
   {
    "duration": 426,
    "start_time": "2023-05-15T14:28:04.810Z"
   },
   {
    "duration": 352,
    "start_time": "2023-05-15T14:28:10.643Z"
   },
   {
    "duration": 304,
    "start_time": "2023-05-15T14:28:17.910Z"
   },
   {
    "duration": 328,
    "start_time": "2023-05-15T14:28:21.837Z"
   },
   {
    "duration": 350,
    "start_time": "2023-05-15T14:29:32.437Z"
   },
   {
    "duration": 453,
    "start_time": "2023-05-15T14:34:22.386Z"
   },
   {
    "duration": 332,
    "start_time": "2023-05-15T14:34:31.388Z"
   },
   {
    "duration": 324,
    "start_time": "2023-05-15T14:35:16.233Z"
   },
   {
    "duration": 327,
    "start_time": "2023-05-15T14:35:48.894Z"
   },
   {
    "duration": 336,
    "start_time": "2023-05-15T14:42:07.817Z"
   },
   {
    "duration": 338,
    "start_time": "2023-05-15T14:42:36.449Z"
   },
   {
    "duration": 453,
    "start_time": "2023-05-15T14:43:05.084Z"
   },
   {
    "duration": 341,
    "start_time": "2023-05-15T14:43:19.998Z"
   },
   {
    "duration": 284,
    "start_time": "2023-05-15T14:43:53.423Z"
   },
   {
    "duration": 344,
    "start_time": "2023-05-15T14:43:57.319Z"
   },
   {
    "duration": 37,
    "start_time": "2023-05-15T15:32:03.126Z"
   },
   {
    "duration": 40,
    "start_time": "2023-05-15T15:34:31.274Z"
   },
   {
    "duration": 263,
    "start_time": "2023-05-15T16:10:00.743Z"
   },
   {
    "duration": 232,
    "start_time": "2023-05-15T16:10:04.415Z"
   },
   {
    "duration": 3,
    "start_time": "2023-05-15T16:24:04.544Z"
   },
   {
    "duration": 3,
    "start_time": "2023-05-15T16:24:22.651Z"
   },
   {
    "duration": 4,
    "start_time": "2023-05-15T16:24:48.116Z"
   },
   {
    "duration": 4,
    "start_time": "2023-05-15T16:24:55.614Z"
   },
   {
    "duration": 5,
    "start_time": "2023-05-15T16:26:10.821Z"
   },
   {
    "duration": 4,
    "start_time": "2023-05-15T16:28:25.316Z"
   },
   {
    "duration": 85,
    "start_time": "2023-05-15T16:28:51.691Z"
   },
   {
    "duration": 4,
    "start_time": "2023-05-15T16:28:54.197Z"
   },
   {
    "duration": 5,
    "start_time": "2023-05-15T16:29:21.046Z"
   },
   {
    "duration": 4,
    "start_time": "2023-05-15T16:30:15.482Z"
   },
   {
    "duration": 7,
    "start_time": "2023-05-15T16:30:24.387Z"
   },
   {
    "duration": 7,
    "start_time": "2023-05-15T16:31:43.654Z"
   },
   {
    "duration": 256,
    "start_time": "2023-05-15T16:33:04.785Z"
   },
   {
    "duration": 158,
    "start_time": "2023-05-15T16:33:33.456Z"
   },
   {
    "duration": 149,
    "start_time": "2023-05-15T16:33:38.213Z"
   },
   {
    "duration": 137,
    "start_time": "2023-05-15T16:33:46.302Z"
   },
   {
    "duration": 132,
    "start_time": "2023-05-15T16:33:52.616Z"
   },
   {
    "duration": 171,
    "start_time": "2023-05-15T16:34:24.575Z"
   },
   {
    "duration": 219,
    "start_time": "2023-05-15T16:34:49.654Z"
   },
   {
    "duration": 203,
    "start_time": "2023-05-15T16:35:05.809Z"
   },
   {
    "duration": 158,
    "start_time": "2023-05-15T16:35:11.779Z"
   },
   {
    "duration": 156,
    "start_time": "2023-05-15T16:35:24.008Z"
   },
   {
    "duration": 161,
    "start_time": "2023-05-15T16:36:24.912Z"
   },
   {
    "duration": 44,
    "start_time": "2023-05-15T16:36:50.484Z"
   },
   {
    "duration": 55,
    "start_time": "2023-05-15T16:36:57.458Z"
   },
   {
    "duration": 53,
    "start_time": "2023-05-15T16:37:09.384Z"
   },
   {
    "duration": 161,
    "start_time": "2023-05-15T16:37:14.694Z"
   },
   {
    "duration": 153,
    "start_time": "2023-05-15T16:37:18.496Z"
   },
   {
    "duration": 171,
    "start_time": "2023-05-15T16:37:25.744Z"
   },
   {
    "duration": 258,
    "start_time": "2023-05-15T16:37:30.847Z"
   },
   {
    "duration": 142,
    "start_time": "2023-05-15T16:37:33.707Z"
   },
   {
    "duration": 183,
    "start_time": "2023-05-15T16:37:41.391Z"
   },
   {
    "duration": 162,
    "start_time": "2023-05-15T16:38:00.730Z"
   },
   {
    "duration": 168,
    "start_time": "2023-05-15T16:38:23.532Z"
   },
   {
    "duration": 162,
    "start_time": "2023-05-15T16:39:45.553Z"
   },
   {
    "duration": 154,
    "start_time": "2023-05-15T16:39:53.823Z"
   },
   {
    "duration": 148,
    "start_time": "2023-05-15T16:40:26.379Z"
   },
   {
    "duration": 17,
    "start_time": "2023-05-15T16:41:15.221Z"
   },
   {
    "duration": 155,
    "start_time": "2023-05-15T16:41:50.735Z"
   },
   {
    "duration": 3,
    "start_time": "2023-05-15T17:05:45.830Z"
   },
   {
    "duration": 4,
    "start_time": "2023-05-15T17:05:50.113Z"
   },
   {
    "duration": 9,
    "start_time": "2023-05-15T17:06:24.325Z"
   },
   {
    "duration": 197,
    "start_time": "2023-05-15T17:07:29.782Z"
   },
   {
    "duration": 179,
    "start_time": "2023-05-15T17:07:56.012Z"
   },
   {
    "duration": 1010,
    "start_time": "2023-05-15T17:12:04.184Z"
   },
   {
    "duration": 869,
    "start_time": "2023-05-15T17:12:18.154Z"
   },
   {
    "duration": 939,
    "start_time": "2023-05-15T17:12:43.307Z"
   },
   {
    "duration": 35,
    "start_time": "2023-05-15T17:13:44.930Z"
   },
   {
    "duration": 58,
    "start_time": "2023-05-15T17:13:53.450Z"
   },
   {
    "duration": 33,
    "start_time": "2023-05-15T17:13:57.275Z"
   },
   {
    "duration": 29,
    "start_time": "2023-05-15T17:14:00.074Z"
   },
   {
    "duration": 882,
    "start_time": "2023-05-15T17:14:03.883Z"
   },
   {
    "duration": 984,
    "start_time": "2023-05-15T17:15:37.544Z"
   },
   {
    "duration": 813,
    "start_time": "2023-05-15T17:16:10.655Z"
   },
   {
    "duration": 967,
    "start_time": "2023-05-15T17:16:31.467Z"
   },
   {
    "duration": 869,
    "start_time": "2023-05-15T17:16:42.429Z"
   },
   {
    "duration": 770,
    "start_time": "2023-05-15T17:16:53.110Z"
   },
   {
    "duration": 931,
    "start_time": "2023-05-15T17:17:04.581Z"
   },
   {
    "duration": 787,
    "start_time": "2023-05-15T17:17:48.405Z"
   },
   {
    "duration": 958,
    "start_time": "2023-05-15T17:18:51.697Z"
   },
   {
    "duration": 858,
    "start_time": "2023-05-15T17:18:58.642Z"
   },
   {
    "duration": 963,
    "start_time": "2023-05-15T17:19:01.587Z"
   },
   {
    "duration": 35,
    "start_time": "2023-05-15T17:20:54.955Z"
   },
   {
    "duration": 936,
    "start_time": "2023-05-15T17:28:33.569Z"
   },
   {
    "duration": 861,
    "start_time": "2023-05-15T17:29:39.794Z"
   },
   {
    "duration": 760,
    "start_time": "2023-05-15T17:29:55.242Z"
   },
   {
    "duration": 1094,
    "start_time": "2023-05-15T17:30:00.847Z"
   },
   {
    "duration": 945,
    "start_time": "2023-05-15T17:31:40.226Z"
   },
   {
    "duration": 1012,
    "start_time": "2023-05-15T17:31:47.805Z"
   },
   {
    "duration": 23,
    "start_time": "2023-05-15T17:32:30.779Z"
   },
   {
    "duration": 36,
    "start_time": "2023-05-15T17:32:33.456Z"
   },
   {
    "duration": 46,
    "start_time": "2023-05-15T17:32:36.326Z"
   },
   {
    "duration": 16,
    "start_time": "2023-05-15T17:32:53.541Z"
   },
   {
    "duration": 43,
    "start_time": "2023-05-15T17:33:02.285Z"
   },
   {
    "duration": 15,
    "start_time": "2023-05-15T17:33:10.955Z"
   },
   {
    "duration": 41,
    "start_time": "2023-05-15T17:33:37.525Z"
   },
   {
    "duration": 40,
    "start_time": "2023-05-15T17:33:54.416Z"
   },
   {
    "duration": 761,
    "start_time": "2023-05-15T17:34:10.878Z"
   },
   {
    "duration": 1059,
    "start_time": "2023-05-15T17:34:29.515Z"
   },
   {
    "duration": 951,
    "start_time": "2023-05-15T17:34:58.244Z"
   },
   {
    "duration": 904,
    "start_time": "2023-05-15T17:35:15.384Z"
   },
   {
    "duration": 985,
    "start_time": "2023-05-15T17:35:41.424Z"
   },
   {
    "duration": 5,
    "start_time": "2023-05-15T17:40:29.094Z"
   }
  ],
  "kernelspec": {
   "display_name": "Python 3 (ipykernel)",
   "language": "python",
   "name": "python3"
  },
  "language_info": {
   "codemirror_mode": {
    "name": "ipython",
    "version": 3
   },
   "file_extension": ".py",
   "mimetype": "text/x-python",
   "name": "python",
   "nbconvert_exporter": "python",
   "pygments_lexer": "ipython3",
   "version": "3.9.13"
  },
  "toc": {
   "base_numbering": 1,
   "nav_menu": {},
   "number_sections": true,
   "sideBar": true,
   "skip_h1_title": true,
   "title_cell": "Table of Contents",
   "title_sidebar": "Contents",
   "toc_cell": false,
   "toc_position": {},
   "toc_section_display": true,
   "toc_window_display": false
  }
 },
 "nbformat": 4,
 "nbformat_minor": 2
}
