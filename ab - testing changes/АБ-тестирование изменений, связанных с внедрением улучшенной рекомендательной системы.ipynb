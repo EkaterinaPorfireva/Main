{
 "cells": [
  {
   "cell_type": "markdown",
   "metadata": {},
   "source": [
    "# A/B-тестирование изменений, связанных с внедрением улучшенной рекомендательной системы"
   ]
  },
  {
   "cell_type": "markdown",
   "metadata": {},
   "source": [
    "**`Назначение теста:`** тестирование изменений, связанных с внедрением улучшенной рекомендательной системы.\n",
    "\n",
    "**`Цель исследования` — продемонстрировать наличие или отсутствие ожидаемого эффекта:**\n",
    "\n",
    "За 14 дней с момента регистрации пользователи показали улучшение каждой метрики не менее, чем на 10%:\n",
    "\n",
    "    - конверсии в просмотр карточек товаров — событие `product_page`,\n",
    "    \n",
    "    - просмотры корзины — `product_cart`,\n",
    "    \n",
    "    - покупки — `purchase`.\n",
    "    \n",
    "**`Задачи:`**\n",
    "\n",
    "1. Провести предобработку данных;\n",
    "\n",
    "\n",
    "2. Оценить корректность проведения теста:\n",
    "\n",
    "    - Проверить соответствие данных требованиям ТЗ. \n",
    "    - Убедиться, что время проведения теста не совпадает с маркетинговыми и другими активностями.\n",
    "    - Убедиться, что аудитория теста не пересекаестя с аудиторией конкурирующего теста и расвномерна распределена по тестовым группам.\n",
    "\n",
    "\n",
    "3. Провести исследовательский анализ данных и построить воронки событий;\n",
    "\n",
    "\n",
    "4. Оценить результаты A/B-тестирования с помощью z-теста."
   ]
  },
  {
   "cell_type": "markdown",
   "metadata": {},
   "source": [
    "**`Техническое задание:`**\n",
    "\n",
    "1. Название теста: recommender_system_test;\n",
    "\n",
    "\n",
    "2. Группы: А — контрольная, B — новая платёжная воронка;\n",
    "\n",
    "\n",
    "3. Дата запуска: 2020-12-07;\n",
    "\n",
    "\n",
    "4. Дата остановки набора новых пользователей: 2020-12-21;\n",
    "\n",
    "\n",
    "5. Дата остановки: 2021-01-04;\n",
    "\n",
    "\n",
    "6. Аудитория: в тест должно быть отобрано 15% новых пользователей из региона EU;\n",
    "\n",
    "\n",
    "7. Назначение теста: тестирование изменений, связанных с внедрением улучшенной рекомендательной системы;\n",
    "\n",
    "\n",
    "8. Ожидаемое количество участников теста: 6000.\n",
    "\n",
    "\n",
    "9. Ожидаемый эффект: за 14 дней с момента регистрации пользователи покажут улучшение каждой метрики не менее, чем на 10%:\n",
    "    - конверсии в просмотр карточек товаров — событие `product_page`,\n",
    "    - просмотры корзины — `product_cart`,\n",
    "    - покупки — `purchase`."
   ]
  },
  {
   "cell_type": "markdown",
   "metadata": {},
   "source": [
    "**`Источники данных:`** материалы курса \"Аналитика данных\" Яндекс Практикума"
   ]
  },
  {
   "cell_type": "markdown",
   "metadata": {},
   "source": [
    "## Предобработка данных / оценка корректности проведения теста"
   ]
  },
  {
   "cell_type": "code",
   "execution_count": 1,
   "metadata": {},
   "outputs": [],
   "source": [
    "# импортируем библиотеки\n",
    "import pandas as pd\n",
    "import scipy.stats as stats\n",
    "import datetime as dt\n",
    "import numpy as np\n",
    "import matplotlib.pyplot as plt\n",
    "import seaborn as sns\n",
    "from datetime import datetime, timedelta\n",
    "import warnings\n",
    "warnings.filterwarnings('ignore')\n",
    "from plotly import graph_objects as go\n",
    "from scipy import stats as st\n",
    "import math as mth"
   ]
  },
  {
   "cell_type": "markdown",
   "metadata": {},
   "source": [
    "### Первичные данные таблиц"
   ]
  },
  {
   "cell_type": "code",
   "execution_count": 2,
   "metadata": {},
   "outputs": [
    {
     "data": {
      "text/html": [
       "<div>\n",
       "<style scoped>\n",
       "    .dataframe tbody tr th:only-of-type {\n",
       "        vertical-align: middle;\n",
       "    }\n",
       "\n",
       "    .dataframe tbody tr th {\n",
       "        vertical-align: top;\n",
       "    }\n",
       "\n",
       "    .dataframe thead th {\n",
       "        text-align: right;\n",
       "    }\n",
       "</style>\n",
       "<table border=\"1\" class=\"dataframe\">\n",
       "  <thead>\n",
       "    <tr style=\"text-align: right;\">\n",
       "      <th></th>\n",
       "      <th>user_id</th>\n",
       "      <th>event_dt</th>\n",
       "      <th>event_name</th>\n",
       "      <th>details</th>\n",
       "    </tr>\n",
       "  </thead>\n",
       "  <tbody>\n",
       "    <tr>\n",
       "      <th>0</th>\n",
       "      <td>E1BDDCE0DAFA2679</td>\n",
       "      <td>2020-12-07 20:22:03</td>\n",
       "      <td>purchase</td>\n",
       "      <td>99.99</td>\n",
       "    </tr>\n",
       "    <tr>\n",
       "      <th>1</th>\n",
       "      <td>7B6452F081F49504</td>\n",
       "      <td>2020-12-07 09:22:53</td>\n",
       "      <td>purchase</td>\n",
       "      <td>9.99</td>\n",
       "    </tr>\n",
       "    <tr>\n",
       "      <th>2</th>\n",
       "      <td>9CD9F34546DF254C</td>\n",
       "      <td>2020-12-07 12:59:29</td>\n",
       "      <td>purchase</td>\n",
       "      <td>4.99</td>\n",
       "    </tr>\n",
       "    <tr>\n",
       "      <th>3</th>\n",
       "      <td>96F27A054B191457</td>\n",
       "      <td>2020-12-07 04:02:40</td>\n",
       "      <td>purchase</td>\n",
       "      <td>4.99</td>\n",
       "    </tr>\n",
       "    <tr>\n",
       "      <th>4</th>\n",
       "      <td>1FD7660FDF94CA1F</td>\n",
       "      <td>2020-12-07 10:15:09</td>\n",
       "      <td>purchase</td>\n",
       "      <td>4.99</td>\n",
       "    </tr>\n",
       "    <tr>\n",
       "      <th>...</th>\n",
       "      <td>...</td>\n",
       "      <td>...</td>\n",
       "      <td>...</td>\n",
       "      <td>...</td>\n",
       "    </tr>\n",
       "    <tr>\n",
       "      <th>440312</th>\n",
       "      <td>245E85F65C358E08</td>\n",
       "      <td>2020-12-30 19:35:55</td>\n",
       "      <td>login</td>\n",
       "      <td>NaN</td>\n",
       "    </tr>\n",
       "    <tr>\n",
       "      <th>440313</th>\n",
       "      <td>9385A108F5A0A7A7</td>\n",
       "      <td>2020-12-30 10:54:15</td>\n",
       "      <td>login</td>\n",
       "      <td>NaN</td>\n",
       "    </tr>\n",
       "    <tr>\n",
       "      <th>440314</th>\n",
       "      <td>DB650B7559AC6EAC</td>\n",
       "      <td>2020-12-30 10:59:09</td>\n",
       "      <td>login</td>\n",
       "      <td>NaN</td>\n",
       "    </tr>\n",
       "    <tr>\n",
       "      <th>440315</th>\n",
       "      <td>F80C9BDDEA02E53C</td>\n",
       "      <td>2020-12-30 09:53:39</td>\n",
       "      <td>login</td>\n",
       "      <td>NaN</td>\n",
       "    </tr>\n",
       "    <tr>\n",
       "      <th>440316</th>\n",
       "      <td>7AEC61159B672CC5</td>\n",
       "      <td>2020-12-30 11:36:13</td>\n",
       "      <td>login</td>\n",
       "      <td>NaN</td>\n",
       "    </tr>\n",
       "  </tbody>\n",
       "</table>\n",
       "<p>440317 rows × 4 columns</p>\n",
       "</div>"
      ],
      "text/plain": [
       "                 user_id             event_dt event_name  details\n",
       "0       E1BDDCE0DAFA2679  2020-12-07 20:22:03   purchase    99.99\n",
       "1       7B6452F081F49504  2020-12-07 09:22:53   purchase     9.99\n",
       "2       9CD9F34546DF254C  2020-12-07 12:59:29   purchase     4.99\n",
       "3       96F27A054B191457  2020-12-07 04:02:40   purchase     4.99\n",
       "4       1FD7660FDF94CA1F  2020-12-07 10:15:09   purchase     4.99\n",
       "...                  ...                  ...        ...      ...\n",
       "440312  245E85F65C358E08  2020-12-30 19:35:55      login      NaN\n",
       "440313  9385A108F5A0A7A7  2020-12-30 10:54:15      login      NaN\n",
       "440314  DB650B7559AC6EAC  2020-12-30 10:59:09      login      NaN\n",
       "440315  F80C9BDDEA02E53C  2020-12-30 09:53:39      login      NaN\n",
       "440316  7AEC61159B672CC5  2020-12-30 11:36:13      login      NaN\n",
       "\n",
       "[440317 rows x 4 columns]"
      ]
     },
     "metadata": {},
     "output_type": "display_data"
    },
    {
     "name": "stdout",
     "output_type": "stream",
     "text": [
      "\n",
      "<class 'pandas.core.frame.DataFrame'>\n",
      "RangeIndex: 440317 entries, 0 to 440316\n",
      "Data columns (total 4 columns):\n",
      " #   Column      Non-Null Count   Dtype  \n",
      "---  ------      --------------   -----  \n",
      " 0   user_id     440317 non-null  object \n",
      " 1   event_dt    440317 non-null  object \n",
      " 2   event_name  440317 non-null  object \n",
      " 3   details     62740 non-null   float64\n",
      "dtypes: float64(1), object(3)\n",
      "memory usage: 13.4+ MB\n"
     ]
    }
   ],
   "source": [
    "# Открываем таблицу действий новых пользователей в период с 7 декабря 2020 по 4 января 2021 года\n",
    "final_ab_events = pd.read_csv(r\"C:\\Users\\Lenovo\\Desktop\\Github проекты\\final_ab_events.csv\")\n",
    "display(final_ab_events)\n",
    "print()\n",
    "final_ab_events.info()"
   ]
  },
  {
   "cell_type": "markdown",
   "metadata": {},
   "source": [
    "- Обнаружены пропуски в `'details'`;\n",
    "- Нужно изменить тип данных `'event_dt'.`"
   ]
  },
  {
   "cell_type": "code",
   "execution_count": 3,
   "metadata": {},
   "outputs": [
    {
     "data": {
      "text/html": [
       "<div>\n",
       "<style scoped>\n",
       "    .dataframe tbody tr th:only-of-type {\n",
       "        vertical-align: middle;\n",
       "    }\n",
       "\n",
       "    .dataframe tbody tr th {\n",
       "        vertical-align: top;\n",
       "    }\n",
       "\n",
       "    .dataframe thead th {\n",
       "        text-align: right;\n",
       "    }\n",
       "</style>\n",
       "<table border=\"1\" class=\"dataframe\">\n",
       "  <thead>\n",
       "    <tr style=\"text-align: right;\">\n",
       "      <th></th>\n",
       "      <th>name</th>\n",
       "      <th>regions</th>\n",
       "      <th>start_dt</th>\n",
       "      <th>finish_dt</th>\n",
       "    </tr>\n",
       "  </thead>\n",
       "  <tbody>\n",
       "    <tr>\n",
       "      <th>0</th>\n",
       "      <td>Christmas&amp;New Year Promo</td>\n",
       "      <td>EU, N.America</td>\n",
       "      <td>2020-12-25</td>\n",
       "      <td>2021-01-03</td>\n",
       "    </tr>\n",
       "    <tr>\n",
       "      <th>1</th>\n",
       "      <td>St. Valentine's Day Giveaway</td>\n",
       "      <td>EU, CIS, APAC, N.America</td>\n",
       "      <td>2020-02-14</td>\n",
       "      <td>2020-02-16</td>\n",
       "    </tr>\n",
       "    <tr>\n",
       "      <th>2</th>\n",
       "      <td>St. Patric's Day Promo</td>\n",
       "      <td>EU, N.America</td>\n",
       "      <td>2020-03-17</td>\n",
       "      <td>2020-03-19</td>\n",
       "    </tr>\n",
       "    <tr>\n",
       "      <th>3</th>\n",
       "      <td>Easter Promo</td>\n",
       "      <td>EU, CIS, APAC, N.America</td>\n",
       "      <td>2020-04-12</td>\n",
       "      <td>2020-04-19</td>\n",
       "    </tr>\n",
       "    <tr>\n",
       "      <th>4</th>\n",
       "      <td>4th of July Promo</td>\n",
       "      <td>N.America</td>\n",
       "      <td>2020-07-04</td>\n",
       "      <td>2020-07-11</td>\n",
       "    </tr>\n",
       "    <tr>\n",
       "      <th>5</th>\n",
       "      <td>Black Friday Ads Campaign</td>\n",
       "      <td>EU, CIS, APAC, N.America</td>\n",
       "      <td>2020-11-26</td>\n",
       "      <td>2020-12-01</td>\n",
       "    </tr>\n",
       "    <tr>\n",
       "      <th>6</th>\n",
       "      <td>Chinese New Year Promo</td>\n",
       "      <td>APAC</td>\n",
       "      <td>2020-01-25</td>\n",
       "      <td>2020-02-07</td>\n",
       "    </tr>\n",
       "    <tr>\n",
       "      <th>7</th>\n",
       "      <td>Labor day (May 1st) Ads Campaign</td>\n",
       "      <td>EU, CIS, APAC</td>\n",
       "      <td>2020-05-01</td>\n",
       "      <td>2020-05-03</td>\n",
       "    </tr>\n",
       "    <tr>\n",
       "      <th>8</th>\n",
       "      <td>International Women's Day Promo</td>\n",
       "      <td>EU, CIS, APAC</td>\n",
       "      <td>2020-03-08</td>\n",
       "      <td>2020-03-10</td>\n",
       "    </tr>\n",
       "    <tr>\n",
       "      <th>9</th>\n",
       "      <td>Victory Day CIS (May 9th) Event</td>\n",
       "      <td>CIS</td>\n",
       "      <td>2020-05-09</td>\n",
       "      <td>2020-05-11</td>\n",
       "    </tr>\n",
       "    <tr>\n",
       "      <th>10</th>\n",
       "      <td>CIS New Year Gift Lottery</td>\n",
       "      <td>CIS</td>\n",
       "      <td>2020-12-30</td>\n",
       "      <td>2021-01-07</td>\n",
       "    </tr>\n",
       "    <tr>\n",
       "      <th>11</th>\n",
       "      <td>Dragon Boat Festival Giveaway</td>\n",
       "      <td>APAC</td>\n",
       "      <td>2020-06-25</td>\n",
       "      <td>2020-07-01</td>\n",
       "    </tr>\n",
       "    <tr>\n",
       "      <th>12</th>\n",
       "      <td>Single's Day Gift Promo</td>\n",
       "      <td>APAC</td>\n",
       "      <td>2020-11-11</td>\n",
       "      <td>2020-11-12</td>\n",
       "    </tr>\n",
       "    <tr>\n",
       "      <th>13</th>\n",
       "      <td>Chinese Moon Festival</td>\n",
       "      <td>APAC</td>\n",
       "      <td>2020-10-01</td>\n",
       "      <td>2020-10-07</td>\n",
       "    </tr>\n",
       "  </tbody>\n",
       "</table>\n",
       "</div>"
      ],
      "text/plain": [
       "                                name                   regions    start_dt  \\\n",
       "0           Christmas&New Year Promo             EU, N.America  2020-12-25   \n",
       "1       St. Valentine's Day Giveaway  EU, CIS, APAC, N.America  2020-02-14   \n",
       "2             St. Patric's Day Promo             EU, N.America  2020-03-17   \n",
       "3                       Easter Promo  EU, CIS, APAC, N.America  2020-04-12   \n",
       "4                  4th of July Promo                 N.America  2020-07-04   \n",
       "5          Black Friday Ads Campaign  EU, CIS, APAC, N.America  2020-11-26   \n",
       "6             Chinese New Year Promo                      APAC  2020-01-25   \n",
       "7   Labor day (May 1st) Ads Campaign             EU, CIS, APAC  2020-05-01   \n",
       "8    International Women's Day Promo             EU, CIS, APAC  2020-03-08   \n",
       "9    Victory Day CIS (May 9th) Event                       CIS  2020-05-09   \n",
       "10         CIS New Year Gift Lottery                       CIS  2020-12-30   \n",
       "11     Dragon Boat Festival Giveaway                      APAC  2020-06-25   \n",
       "12           Single's Day Gift Promo                      APAC  2020-11-11   \n",
       "13             Chinese Moon Festival                      APAC  2020-10-01   \n",
       "\n",
       "     finish_dt  \n",
       "0   2021-01-03  \n",
       "1   2020-02-16  \n",
       "2   2020-03-19  \n",
       "3   2020-04-19  \n",
       "4   2020-07-11  \n",
       "5   2020-12-01  \n",
       "6   2020-02-07  \n",
       "7   2020-05-03  \n",
       "8   2020-03-10  \n",
       "9   2020-05-11  \n",
       "10  2021-01-07  \n",
       "11  2020-07-01  \n",
       "12  2020-11-12  \n",
       "13  2020-10-07  "
      ]
     },
     "metadata": {},
     "output_type": "display_data"
    },
    {
     "name": "stdout",
     "output_type": "stream",
     "text": [
      "\n",
      "<class 'pandas.core.frame.DataFrame'>\n",
      "RangeIndex: 14 entries, 0 to 13\n",
      "Data columns (total 4 columns):\n",
      " #   Column     Non-Null Count  Dtype \n",
      "---  ------     --------------  ----- \n",
      " 0   name       14 non-null     object\n",
      " 1   regions    14 non-null     object\n",
      " 2   start_dt   14 non-null     object\n",
      " 3   finish_dt  14 non-null     object\n",
      "dtypes: object(4)\n",
      "memory usage: 576.0+ bytes\n"
     ]
    }
   ],
   "source": [
    "# Открываем календарь маркетинговых событий на 2020 год\n",
    "ab_project_marketing_events = pd.read_csv(r\"C:\\Users\\Lenovo\\Desktop\\Github проекты\\ab_project_marketing_events.csv\")\n",
    "display(ab_project_marketing_events)\n",
    "print()\n",
    "ab_project_marketing_events.info()"
   ]
  },
  {
   "cell_type": "markdown",
   "metadata": {},
   "source": [
    "- Нужно изменить тип данных `'start_dt'` и `'finish_dt'`."
   ]
  },
  {
   "cell_type": "code",
   "execution_count": 4,
   "metadata": {},
   "outputs": [
    {
     "data": {
      "text/html": [
       "<div>\n",
       "<style scoped>\n",
       "    .dataframe tbody tr th:only-of-type {\n",
       "        vertical-align: middle;\n",
       "    }\n",
       "\n",
       "    .dataframe tbody tr th {\n",
       "        vertical-align: top;\n",
       "    }\n",
       "\n",
       "    .dataframe thead th {\n",
       "        text-align: right;\n",
       "    }\n",
       "</style>\n",
       "<table border=\"1\" class=\"dataframe\">\n",
       "  <thead>\n",
       "    <tr style=\"text-align: right;\">\n",
       "      <th></th>\n",
       "      <th>user_id</th>\n",
       "      <th>first_date</th>\n",
       "      <th>region</th>\n",
       "      <th>device</th>\n",
       "    </tr>\n",
       "  </thead>\n",
       "  <tbody>\n",
       "    <tr>\n",
       "      <th>0</th>\n",
       "      <td>D72A72121175D8BE</td>\n",
       "      <td>2020-12-07</td>\n",
       "      <td>EU</td>\n",
       "      <td>PC</td>\n",
       "    </tr>\n",
       "    <tr>\n",
       "      <th>1</th>\n",
       "      <td>F1C668619DFE6E65</td>\n",
       "      <td>2020-12-07</td>\n",
       "      <td>N.America</td>\n",
       "      <td>Android</td>\n",
       "    </tr>\n",
       "    <tr>\n",
       "      <th>2</th>\n",
       "      <td>2E1BF1D4C37EA01F</td>\n",
       "      <td>2020-12-07</td>\n",
       "      <td>EU</td>\n",
       "      <td>PC</td>\n",
       "    </tr>\n",
       "    <tr>\n",
       "      <th>3</th>\n",
       "      <td>50734A22C0C63768</td>\n",
       "      <td>2020-12-07</td>\n",
       "      <td>EU</td>\n",
       "      <td>iPhone</td>\n",
       "    </tr>\n",
       "    <tr>\n",
       "      <th>4</th>\n",
       "      <td>E1BDDCE0DAFA2679</td>\n",
       "      <td>2020-12-07</td>\n",
       "      <td>N.America</td>\n",
       "      <td>iPhone</td>\n",
       "    </tr>\n",
       "    <tr>\n",
       "      <th>...</th>\n",
       "      <td>...</td>\n",
       "      <td>...</td>\n",
       "      <td>...</td>\n",
       "      <td>...</td>\n",
       "    </tr>\n",
       "    <tr>\n",
       "      <th>61728</th>\n",
       "      <td>1DB53B933257165D</td>\n",
       "      <td>2020-12-20</td>\n",
       "      <td>EU</td>\n",
       "      <td>Android</td>\n",
       "    </tr>\n",
       "    <tr>\n",
       "      <th>61729</th>\n",
       "      <td>538643EB4527ED03</td>\n",
       "      <td>2020-12-20</td>\n",
       "      <td>EU</td>\n",
       "      <td>Mac</td>\n",
       "    </tr>\n",
       "    <tr>\n",
       "      <th>61730</th>\n",
       "      <td>7ADEE837D5D8CBBD</td>\n",
       "      <td>2020-12-20</td>\n",
       "      <td>EU</td>\n",
       "      <td>PC</td>\n",
       "    </tr>\n",
       "    <tr>\n",
       "      <th>61731</th>\n",
       "      <td>1C7D23927835213F</td>\n",
       "      <td>2020-12-20</td>\n",
       "      <td>EU</td>\n",
       "      <td>iPhone</td>\n",
       "    </tr>\n",
       "    <tr>\n",
       "      <th>61732</th>\n",
       "      <td>8F04273BB2860229</td>\n",
       "      <td>2020-12-20</td>\n",
       "      <td>EU</td>\n",
       "      <td>Android</td>\n",
       "    </tr>\n",
       "  </tbody>\n",
       "</table>\n",
       "<p>61733 rows × 4 columns</p>\n",
       "</div>"
      ],
      "text/plain": [
       "                user_id  first_date     region   device\n",
       "0      D72A72121175D8BE  2020-12-07         EU       PC\n",
       "1      F1C668619DFE6E65  2020-12-07  N.America  Android\n",
       "2      2E1BF1D4C37EA01F  2020-12-07         EU       PC\n",
       "3      50734A22C0C63768  2020-12-07         EU   iPhone\n",
       "4      E1BDDCE0DAFA2679  2020-12-07  N.America   iPhone\n",
       "...                 ...         ...        ...      ...\n",
       "61728  1DB53B933257165D  2020-12-20         EU  Android\n",
       "61729  538643EB4527ED03  2020-12-20         EU      Mac\n",
       "61730  7ADEE837D5D8CBBD  2020-12-20         EU       PC\n",
       "61731  1C7D23927835213F  2020-12-20         EU   iPhone\n",
       "61732  8F04273BB2860229  2020-12-20         EU  Android\n",
       "\n",
       "[61733 rows x 4 columns]"
      ]
     },
     "metadata": {},
     "output_type": "display_data"
    },
    {
     "name": "stdout",
     "output_type": "stream",
     "text": [
      "\n",
      "<class 'pandas.core.frame.DataFrame'>\n",
      "RangeIndex: 61733 entries, 0 to 61732\n",
      "Data columns (total 4 columns):\n",
      " #   Column      Non-Null Count  Dtype \n",
      "---  ------      --------------  ----- \n",
      " 0   user_id     61733 non-null  object\n",
      " 1   first_date  61733 non-null  object\n",
      " 2   region      61733 non-null  object\n",
      " 3   device      61733 non-null  object\n",
      "dtypes: object(4)\n",
      "memory usage: 1.9+ MB\n"
     ]
    }
   ],
   "source": [
    "# Открываем таблицу с пользователями, зарегистрировавшимися с 7 до 21 декабря 2020 года\n",
    "final_ab_new_users = pd.read_csv(r\"C:\\Users\\Lenovo\\Desktop\\Github проекты\\final_ab_new_users.csv\") \n",
    "display(final_ab_new_users)\n",
    "print()\n",
    "final_ab_new_users.info()"
   ]
  },
  {
   "cell_type": "markdown",
   "metadata": {},
   "source": [
    "- Нужно изменить тип данных `'first_date'`."
   ]
  },
  {
   "cell_type": "code",
   "execution_count": 5,
   "metadata": {},
   "outputs": [
    {
     "data": {
      "text/html": [
       "<div>\n",
       "<style scoped>\n",
       "    .dataframe tbody tr th:only-of-type {\n",
       "        vertical-align: middle;\n",
       "    }\n",
       "\n",
       "    .dataframe tbody tr th {\n",
       "        vertical-align: top;\n",
       "    }\n",
       "\n",
       "    .dataframe thead th {\n",
       "        text-align: right;\n",
       "    }\n",
       "</style>\n",
       "<table border=\"1\" class=\"dataframe\">\n",
       "  <thead>\n",
       "    <tr style=\"text-align: right;\">\n",
       "      <th></th>\n",
       "      <th>user_id</th>\n",
       "      <th>group</th>\n",
       "      <th>ab_test</th>\n",
       "    </tr>\n",
       "  </thead>\n",
       "  <tbody>\n",
       "    <tr>\n",
       "      <th>0</th>\n",
       "      <td>D1ABA3E2887B6A73</td>\n",
       "      <td>A</td>\n",
       "      <td>recommender_system_test</td>\n",
       "    </tr>\n",
       "    <tr>\n",
       "      <th>1</th>\n",
       "      <td>A7A3664BD6242119</td>\n",
       "      <td>A</td>\n",
       "      <td>recommender_system_test</td>\n",
       "    </tr>\n",
       "    <tr>\n",
       "      <th>2</th>\n",
       "      <td>DABC14FDDFADD29E</td>\n",
       "      <td>A</td>\n",
       "      <td>recommender_system_test</td>\n",
       "    </tr>\n",
       "    <tr>\n",
       "      <th>3</th>\n",
       "      <td>04988C5DF189632E</td>\n",
       "      <td>A</td>\n",
       "      <td>recommender_system_test</td>\n",
       "    </tr>\n",
       "    <tr>\n",
       "      <th>4</th>\n",
       "      <td>482F14783456D21B</td>\n",
       "      <td>B</td>\n",
       "      <td>recommender_system_test</td>\n",
       "    </tr>\n",
       "    <tr>\n",
       "      <th>...</th>\n",
       "      <td>...</td>\n",
       "      <td>...</td>\n",
       "      <td>...</td>\n",
       "    </tr>\n",
       "    <tr>\n",
       "      <th>18263</th>\n",
       "      <td>1D302F8688B91781</td>\n",
       "      <td>B</td>\n",
       "      <td>interface_eu_test</td>\n",
       "    </tr>\n",
       "    <tr>\n",
       "      <th>18264</th>\n",
       "      <td>3DE51B726983B657</td>\n",
       "      <td>A</td>\n",
       "      <td>interface_eu_test</td>\n",
       "    </tr>\n",
       "    <tr>\n",
       "      <th>18265</th>\n",
       "      <td>F501F79D332BE86C</td>\n",
       "      <td>A</td>\n",
       "      <td>interface_eu_test</td>\n",
       "    </tr>\n",
       "    <tr>\n",
       "      <th>18266</th>\n",
       "      <td>63FBE257B05F2245</td>\n",
       "      <td>A</td>\n",
       "      <td>interface_eu_test</td>\n",
       "    </tr>\n",
       "    <tr>\n",
       "      <th>18267</th>\n",
       "      <td>79F9ABFB029CF724</td>\n",
       "      <td>B</td>\n",
       "      <td>interface_eu_test</td>\n",
       "    </tr>\n",
       "  </tbody>\n",
       "</table>\n",
       "<p>18268 rows × 3 columns</p>\n",
       "</div>"
      ],
      "text/plain": [
       "                user_id group                  ab_test\n",
       "0      D1ABA3E2887B6A73     A  recommender_system_test\n",
       "1      A7A3664BD6242119     A  recommender_system_test\n",
       "2      DABC14FDDFADD29E     A  recommender_system_test\n",
       "3      04988C5DF189632E     A  recommender_system_test\n",
       "4      482F14783456D21B     B  recommender_system_test\n",
       "...                 ...   ...                      ...\n",
       "18263  1D302F8688B91781     B        interface_eu_test\n",
       "18264  3DE51B726983B657     A        interface_eu_test\n",
       "18265  F501F79D332BE86C     A        interface_eu_test\n",
       "18266  63FBE257B05F2245     A        interface_eu_test\n",
       "18267  79F9ABFB029CF724     B        interface_eu_test\n",
       "\n",
       "[18268 rows x 3 columns]"
      ]
     },
     "metadata": {},
     "output_type": "display_data"
    },
    {
     "name": "stdout",
     "output_type": "stream",
     "text": [
      "\n",
      "<class 'pandas.core.frame.DataFrame'>\n",
      "RangeIndex: 18268 entries, 0 to 18267\n",
      "Data columns (total 3 columns):\n",
      " #   Column   Non-Null Count  Dtype \n",
      "---  ------   --------------  ----- \n",
      " 0   user_id  18268 non-null  object\n",
      " 1   group    18268 non-null  object\n",
      " 2   ab_test  18268 non-null  object\n",
      "dtypes: object(3)\n",
      "memory usage: 428.3+ KB\n"
     ]
    }
   ],
   "source": [
    "# Открываем таблицу с участниками тестов\n",
    "final_ab_participants = pd.read_csv(r\"C:\\Users\\Lenovo\\Desktop\\Github проекты\\final_ab_participants.csv\")\n",
    "display(final_ab_participants)\n",
    "print()\n",
    "final_ab_participants.info()"
   ]
  },
  {
   "cell_type": "markdown",
   "metadata": {},
   "source": [
    "### Преобразование типов данных"
   ]
  },
  {
   "cell_type": "code",
   "execution_count": 6,
   "metadata": {},
   "outputs": [],
   "source": [
    "# изменяем тип данных c object на datetime\n",
    "final_ab_events['event_dt'] = pd.to_datetime(final_ab_events['event_dt'])\n",
    "ab_project_marketing_events['start_dt'] = pd.to_datetime(ab_project_marketing_events['start_dt'])\n",
    "ab_project_marketing_events['finish_dt'] = pd.to_datetime(ab_project_marketing_events['finish_dt'])\n",
    "final_ab_new_users['first_date'] = pd.to_datetime(final_ab_new_users['first_date'])"
   ]
  },
  {
   "cell_type": "markdown",
   "metadata": {},
   "source": [
    "### Проверка на соответствие временным рамкам набора участников и длительности теста"
   ]
  },
  {
   "cell_type": "code",
   "execution_count": 7,
   "metadata": {},
   "outputs": [
    {
     "data": {
      "text/plain": [
       "Timestamp('2020-12-07 00:00:00')"
      ]
     },
     "execution_count": 7,
     "metadata": {},
     "output_type": "execute_result"
    }
   ],
   "source": [
    "# определение даты запуска теста \n",
    "final_ab_new_users['first_date'].min()"
   ]
  },
  {
   "cell_type": "markdown",
   "metadata": {},
   "source": [
    "- **Дата запуска теста верная (верная: `2020-12-07`)**"
   ]
  },
  {
   "cell_type": "code",
   "execution_count": 8,
   "metadata": {},
   "outputs": [
    {
     "data": {
      "text/plain": [
       "Timestamp('2020-12-23 00:00:00')"
      ]
     },
     "execution_count": 8,
     "metadata": {},
     "output_type": "execute_result"
    }
   ],
   "source": [
    "# определение даты остановки набора новых пользователей\n",
    "final_ab_new_users['first_date'].max()"
   ]
  },
  {
   "cell_type": "markdown",
   "metadata": {},
   "source": [
    "- **Дата остановки набора новых пользователей неверная (верная: `2020-12-21`). Нужно сделать срез.**"
   ]
  },
  {
   "cell_type": "code",
   "execution_count": 9,
   "metadata": {},
   "outputs": [
    {
     "data": {
      "text/plain": [
       "Timestamp('2020-12-30 23:36:33')"
      ]
     },
     "execution_count": 9,
     "metadata": {},
     "output_type": "execute_result"
    }
   ],
   "source": [
    "# определение даты остановки теста \n",
    "final_ab_events['event_dt'].max()"
   ]
  },
  {
   "cell_type": "markdown",
   "metadata": {},
   "source": [
    "- **Дата остановки теста неверная (верная: `2021-01-04`)**"
   ]
  },
  {
   "cell_type": "code",
   "execution_count": 10,
   "metadata": {},
   "outputs": [
    {
     "data": {
      "text/plain": [
       "datetime.date(20, 12, 17)"
      ]
     },
     "execution_count": 10,
     "metadata": {},
     "output_type": "execute_result"
    }
   ],
   "source": [
    "# посмотрим дату, по которой нужно фильтровать остановку набора пользователей в соответствии с горизонтом событий = 14\n",
    "observation_date = datetime(20, 12, 30).date()\n",
    "horizon_days = 14\n",
    "last_suitable_reg_date = observation_date - timedelta(days = horizon_days - 1)\n",
    "last_suitable_reg_date"
   ]
  },
  {
   "cell_type": "markdown",
   "metadata": {},
   "source": [
    "- **В соответствии с horizon_days = 14 и выявленной датой остановки теста \"2020-12-30\", дата остановки набора пользователей должна быть изменена на \"2020-12-17\".**"
   ]
  },
  {
   "cell_type": "markdown",
   "metadata": {},
   "source": [
    "### Фильтруем данные по корректной дате остановки набора пользователей ''2020-12-17 00:00:00'' "
   ]
  },
  {
   "cell_type": "code",
   "execution_count": 11,
   "metadata": {},
   "outputs": [],
   "source": [
    "# Фильтруем данные\n",
    "final_ab_new_users = final_ab_new_users[final_ab_new_users['first_date'] < '2020-12-17 00:00:00']"
   ]
  },
  {
   "cell_type": "markdown",
   "metadata": {},
   "source": [
    "### Совпадение теста и маркетинговых событий "
   ]
  },
  {
   "cell_type": "markdown",
   "metadata": {},
   "source": [
    "**Начало периода АБ-теста:** 2020-12-07\n",
    "    \n",
    "**Завершение периода АБ-теста:** 2020-12-30"
   ]
  },
  {
   "cell_type": "code",
   "execution_count": 12,
   "metadata": {},
   "outputs": [
    {
     "data": {
      "text/html": [
       "<div>\n",
       "<style scoped>\n",
       "    .dataframe tbody tr th:only-of-type {\n",
       "        vertical-align: middle;\n",
       "    }\n",
       "\n",
       "    .dataframe tbody tr th {\n",
       "        vertical-align: top;\n",
       "    }\n",
       "\n",
       "    .dataframe thead th {\n",
       "        text-align: right;\n",
       "    }\n",
       "</style>\n",
       "<table border=\"1\" class=\"dataframe\">\n",
       "  <thead>\n",
       "    <tr style=\"text-align: right;\">\n",
       "      <th></th>\n",
       "      <th>name</th>\n",
       "      <th>regions</th>\n",
       "      <th>start_dt</th>\n",
       "      <th>finish_dt</th>\n",
       "    </tr>\n",
       "  </thead>\n",
       "  <tbody>\n",
       "  </tbody>\n",
       "</table>\n",
       "</div>"
      ],
      "text/plain": [
       "Empty DataFrame\n",
       "Columns: [name, regions, start_dt, finish_dt]\n",
       "Index: []"
      ]
     },
     "execution_count": 12,
     "metadata": {},
     "output_type": "execute_result"
    }
   ],
   "source": [
    "# маркетинговые события начавшиеся до периода, закончившиеся после\n",
    "ab_project_marketing_events.query('start_dt < \"2020-12-07\" and finish_dt > \"2020-12-30\"')"
   ]
  },
  {
   "cell_type": "code",
   "execution_count": 13,
   "metadata": {},
   "outputs": [
    {
     "data": {
      "text/html": [
       "<div>\n",
       "<style scoped>\n",
       "    .dataframe tbody tr th:only-of-type {\n",
       "        vertical-align: middle;\n",
       "    }\n",
       "\n",
       "    .dataframe tbody tr th {\n",
       "        vertical-align: top;\n",
       "    }\n",
       "\n",
       "    .dataframe thead th {\n",
       "        text-align: right;\n",
       "    }\n",
       "</style>\n",
       "<table border=\"1\" class=\"dataframe\">\n",
       "  <thead>\n",
       "    <tr style=\"text-align: right;\">\n",
       "      <th></th>\n",
       "      <th>name</th>\n",
       "      <th>regions</th>\n",
       "      <th>start_dt</th>\n",
       "      <th>finish_dt</th>\n",
       "    </tr>\n",
       "  </thead>\n",
       "  <tbody>\n",
       "  </tbody>\n",
       "</table>\n",
       "</div>"
      ],
      "text/plain": [
       "Empty DataFrame\n",
       "Columns: [name, regions, start_dt, finish_dt]\n",
       "Index: []"
      ]
     },
     "execution_count": 13,
     "metadata": {},
     "output_type": "execute_result"
    }
   ],
   "source": [
    "# маркетинговые события начавшиеся до периода, закончившиеся во время\n",
    "ab_project_marketing_events.query('start_dt < \"2020-12-07\" and  \"2020-12-07\" <= finish_dt <= \"2020-12-30\"')"
   ]
  },
  {
   "cell_type": "code",
   "execution_count": 14,
   "metadata": {},
   "outputs": [
    {
     "data": {
      "text/html": [
       "<div>\n",
       "<style scoped>\n",
       "    .dataframe tbody tr th:only-of-type {\n",
       "        vertical-align: middle;\n",
       "    }\n",
       "\n",
       "    .dataframe tbody tr th {\n",
       "        vertical-align: top;\n",
       "    }\n",
       "\n",
       "    .dataframe thead th {\n",
       "        text-align: right;\n",
       "    }\n",
       "</style>\n",
       "<table border=\"1\" class=\"dataframe\">\n",
       "  <thead>\n",
       "    <tr style=\"text-align: right;\">\n",
       "      <th></th>\n",
       "      <th>name</th>\n",
       "      <th>regions</th>\n",
       "      <th>start_dt</th>\n",
       "      <th>finish_dt</th>\n",
       "    </tr>\n",
       "  </thead>\n",
       "  <tbody>\n",
       "    <tr>\n",
       "      <th>0</th>\n",
       "      <td>Christmas&amp;New Year Promo</td>\n",
       "      <td>EU, N.America</td>\n",
       "      <td>2020-12-25</td>\n",
       "      <td>2021-01-03</td>\n",
       "    </tr>\n",
       "    <tr>\n",
       "      <th>10</th>\n",
       "      <td>CIS New Year Gift Lottery</td>\n",
       "      <td>CIS</td>\n",
       "      <td>2020-12-30</td>\n",
       "      <td>2021-01-07</td>\n",
       "    </tr>\n",
       "  </tbody>\n",
       "</table>\n",
       "</div>"
      ],
      "text/plain": [
       "                         name        regions   start_dt  finish_dt\n",
       "0    Christmas&New Year Promo  EU, N.America 2020-12-25 2021-01-03\n",
       "10  CIS New Year Gift Lottery            CIS 2020-12-30 2021-01-07"
      ]
     },
     "execution_count": 14,
     "metadata": {},
     "output_type": "execute_result"
    }
   ],
   "source": [
    "# маркетинговые события начавшиеся во время периода, закончившиеся после\n",
    "ab_project_marketing_events.query('\"2020-12-07\" <= start_dt <= \"2020-12-30\" and finish_dt > \"2020-12-30\"')"
   ]
  },
  {
   "cell_type": "code",
   "execution_count": 15,
   "metadata": {},
   "outputs": [
    {
     "data": {
      "text/html": [
       "<div>\n",
       "<style scoped>\n",
       "    .dataframe tbody tr th:only-of-type {\n",
       "        vertical-align: middle;\n",
       "    }\n",
       "\n",
       "    .dataframe tbody tr th {\n",
       "        vertical-align: top;\n",
       "    }\n",
       "\n",
       "    .dataframe thead th {\n",
       "        text-align: right;\n",
       "    }\n",
       "</style>\n",
       "<table border=\"1\" class=\"dataframe\">\n",
       "  <thead>\n",
       "    <tr style=\"text-align: right;\">\n",
       "      <th></th>\n",
       "      <th>name</th>\n",
       "      <th>regions</th>\n",
       "      <th>start_dt</th>\n",
       "      <th>finish_dt</th>\n",
       "    </tr>\n",
       "  </thead>\n",
       "  <tbody>\n",
       "  </tbody>\n",
       "</table>\n",
       "</div>"
      ],
      "text/plain": [
       "Empty DataFrame\n",
       "Columns: [name, regions, start_dt, finish_dt]\n",
       "Index: []"
      ]
     },
     "execution_count": 15,
     "metadata": {},
     "output_type": "execute_result"
    }
   ],
   "source": [
    "# маркетинговые события начавшиеся во время периода, закончившиеся во время периода\n",
    "ab_project_marketing_events.query('\"2020-12-07\" <= start_dt <= \"2020-12-30\" and  \"2020-12-07\" <= finish_dt <= \"2020-12-30\"')"
   ]
  },
  {
   "cell_type": "markdown",
   "metadata": {},
   "source": [
    "- **Период проведения теста `'recommender_system_test'` пересекается с 2мя маркетинговыми событиями: `'Christmas&New Year Promo'` и `'CIS New Year Gift Lottery'`;**\n",
    "\n",
    "\n",
    "- **Это может сказаться на результатах АБ-теста. Следует мониторить данные от 2020-12-25 до 2020-12-30.**"
   ]
  },
  {
   "cell_type": "markdown",
   "metadata": {},
   "source": [
    "### Проверка на явные дубликаты"
   ]
  },
  {
   "cell_type": "code",
   "execution_count": 16,
   "metadata": {},
   "outputs": [
    {
     "name": "stdout",
     "output_type": "stream",
     "text": [
      "0\n",
      "\n",
      "0\n",
      "\n",
      "0\n",
      "\n"
     ]
    },
    {
     "data": {
      "text/plain": [
       "0"
      ]
     },
     "execution_count": 16,
     "metadata": {},
     "output_type": "execute_result"
    }
   ],
   "source": [
    "# Проверяем таблицы на дубликаты\n",
    "print(final_ab_events.duplicated().sum())\n",
    "print()\n",
    "print(ab_project_marketing_events.duplicated().sum())\n",
    "print()\n",
    "print(final_ab_new_users.duplicated().sum())\n",
    "print()\n",
    "final_ab_participants.duplicated().sum()"
   ]
  },
  {
   "cell_type": "markdown",
   "metadata": {},
   "source": [
    "### Выявление пользователей, попавших в 2 группы теста 'recommender_system_test' одновременно"
   ]
  },
  {
   "cell_type": "code",
   "execution_count": 17,
   "metadata": {},
   "outputs": [
    {
     "data": {
      "text/plain": [
       "array(['recommender_system_test', 'interface_eu_test'], dtype=object)"
      ]
     },
     "execution_count": 17,
     "metadata": {},
     "output_type": "execute_result"
    }
   ],
   "source": [
    "# Смотрим, какие есть уникальные тесты\n",
    "final_ab_participants['ab_test'].unique()"
   ]
  },
  {
   "cell_type": "code",
   "execution_count": 18,
   "metadata": {},
   "outputs": [
    {
     "data": {
      "text/plain": [
       "array(['recommender_system_test'], dtype=object)"
      ]
     },
     "execution_count": 18,
     "metadata": {},
     "output_type": "execute_result"
    }
   ],
   "source": [
    "# Делаем срез для работы с данными теста 'recommender_system_test'\n",
    "final_ab_participants_1 = final_ab_participants.copy()\n",
    "final_ab_participants_1 = final_ab_participants_1.query('ab_test == \"recommender_system_test\"')\n",
    "final_ab_participants_1['ab_test'].unique()"
   ]
  },
  {
   "cell_type": "code",
   "execution_count": 19,
   "metadata": {},
   "outputs": [
    {
     "data": {
      "text/plain": [
       "6701"
      ]
     },
     "execution_count": 19,
     "metadata": {},
     "output_type": "execute_result"
    }
   ],
   "source": [
    "# объединяем уникальных пользователей из группы А и B теста 'recommender_system_test'\n",
    "unique_user_id_1 = np.concatenate([final_ab_participants_1[final_ab_participants_1['group'] == 'A']['user_id'].unique(),\n",
    "                                  final_ab_participants_1[final_ab_participants_1['group'] == 'B']['user_id'].unique()])\n",
    "\n",
    "unique_user_id_1 = pd.DataFrame(unique_user_id_1, columns = ['unique_user_id_1'])\n",
    "\n",
    "len(unique_user_id_1)"
   ]
  },
  {
   "cell_type": "code",
   "execution_count": 20,
   "metadata": {},
   "outputs": [
    {
     "data": {
      "text/plain": [
       "6701"
      ]
     },
     "execution_count": 20,
     "metadata": {},
     "output_type": "execute_result"
    }
   ],
   "source": [
    "# удаляем дубликаты пользователей из группы А и B теста 'recommender_system_test'\n",
    "unique_user_id_1 = unique_user_id_1.drop_duplicates()\n",
    "len(unique_user_id_1)"
   ]
  },
  {
   "cell_type": "markdown",
   "metadata": {},
   "source": [
    "- **Не обнаружены пользователи, участвующие в двух группах теста `'recommender_system_test'` одновременно.** "
   ]
  },
  {
   "cell_type": "markdown",
   "metadata": {},
   "source": [
    "### Выявление пользователей, попавших в 2 группы теста 'interface_eu_test' одновременно"
   ]
  },
  {
   "cell_type": "code",
   "execution_count": 21,
   "metadata": {},
   "outputs": [
    {
     "data": {
      "text/plain": [
       "11567"
      ]
     },
     "execution_count": 21,
     "metadata": {},
     "output_type": "execute_result"
    }
   ],
   "source": [
    "# Делаем срез для работы с данными теста 'interface_eu_test'\n",
    "final_ab_participants_2 = final_ab_participants.copy()\n",
    "final_ab_participants_2 = final_ab_participants_2.query('ab_test == \"interface_eu_test\"')\n",
    "\n",
    "# объединяем уникальных пользователей из группы А и B теста 'interface_eu_test'\n",
    "unique_user_id_2 = np.concatenate([final_ab_participants_2[final_ab_participants_2['group'] == 'A']['user_id'].unique(),\n",
    "                                  final_ab_participants_2[final_ab_participants_2['group'] == 'B']['user_id'].unique()])\n",
    "\n",
    "unique_user_id_2 = pd.DataFrame(unique_user_id_2, columns = ['unique_user_id_2'])\n",
    "len(unique_user_id_2)"
   ]
  },
  {
   "cell_type": "code",
   "execution_count": 22,
   "metadata": {},
   "outputs": [
    {
     "data": {
      "text/plain": [
       "11567"
      ]
     },
     "execution_count": 22,
     "metadata": {},
     "output_type": "execute_result"
    }
   ],
   "source": [
    "# удаляем дубликаты пользователей из группы А и B теста 'interface_eu_test'\n",
    "unique_user_id_2 = unique_user_id_2.drop_duplicates()\n",
    "len(unique_user_id_2)"
   ]
  },
  {
   "cell_type": "markdown",
   "metadata": {},
   "source": [
    "- **Не обнаружены пользователи, участвующие в двух группах теста `'interface_eu_test'` одновременно.** "
   ]
  },
  {
   "cell_type": "markdown",
   "metadata": {},
   "source": [
    "### Проверка на неявные дубликаты "
   ]
  },
  {
   "cell_type": "code",
   "execution_count": 23,
   "metadata": {},
   "outputs": [
    {
     "data": {
      "text/plain": [
       "1602"
      ]
     },
     "execution_count": 23,
     "metadata": {},
     "output_type": "execute_result"
    }
   ],
   "source": [
    "# Смотрим, сколько пользователей пересекается в тестах 'recommender_system_test' и 'interface_eu_test'\n",
    "final_ab_participants.duplicated(subset=['user_id']).sum()"
   ]
  },
  {
   "cell_type": "markdown",
   "metadata": {},
   "source": [
    "- **Обнаружено 1602 дубликата по столбцу `'user_id'`. Это значит, что у обоих тестов (`'recommender_system_test'` и `'interface_eu_test'`) есть пересечения по пользователям.**\n",
    "- **Тест `interface_eu_test` является конкурирующим и может нарушить результаты нашего.**"
   ]
  },
  {
   "cell_type": "markdown",
   "metadata": {},
   "source": [
    "### Выявление пользователей, попавших в КОНТРОЛЬНЫЕ группы тестов 'recommender_system_test' и 'interface_eu_test' одновременно"
   ]
  },
  {
   "cell_type": "code",
   "execution_count": 24,
   "metadata": {},
   "outputs": [
    {
     "data": {
      "text/plain": [
       "482"
      ]
     },
     "execution_count": 24,
     "metadata": {},
     "output_type": "execute_result"
    }
   ],
   "source": [
    "# выбираем пользователей из тестов 'recommender_system_test' и 'interface_eu_test', состоящих в контрольных группах \n",
    "test_1_cont = final_ab_participants_1[(final_ab_participants_1['group'] == 'A')]\n",
    "test_2_cont =  final_ab_participants_2[(final_ab_participants_2['group'] == 'A')]\n",
    "\n",
    "# объединяем полученные выборки пользователей контрольных групп обоих тестов\n",
    "test_common = test_1_cont.merge(test_2_cont, on = 'user_id')\n",
    "\n",
    "# смотрим количество пересекающихся пользователей экспериментальных групп обоих тестов\n",
    "len(test_common['user_id'].unique())"
   ]
  },
  {
   "cell_type": "markdown",
   "metadata": {},
   "source": [
    "- Обнаружены пользователи, участвующие в контрольных группах обоих тестов.\n",
    "- **Не будем их удалять т.к. пользователи из контрольных групп обоих тестов не видят никаких изменений и поэтому их пользовательская активность не должна измениться.** "
   ]
  },
  {
   "cell_type": "markdown",
   "metadata": {},
   "source": [
    "### Выявление пользователей, попавших в ЭКСПЕРИМЕНТАЛЬНЫЕ группы тестов 'recommender_system_test' и 'interface_eu_test' одновременно"
   ]
  },
  {
   "cell_type": "code",
   "execution_count": 25,
   "metadata": {},
   "outputs": [
    {
     "data": {
      "text/plain": [
       "344"
      ]
     },
     "execution_count": 25,
     "metadata": {},
     "output_type": "execute_result"
    }
   ],
   "source": [
    "# выбираем пользователей из тестов 'recommender_system_test' и 'interface_eu_test', состоящих в экспериментальных группах \n",
    "test_1 = final_ab_participants_1[(final_ab_participants_1['group'] == 'B')]\n",
    "test_2 =  final_ab_participants_2[(final_ab_participants_2['group'] == 'B')]\n",
    "\n",
    "# объединяем полученные выборки пользователей экспериментальных групп обоих тестов\n",
    "test_common = test_1.merge(test_2, on = 'user_id')\n",
    "\n",
    "# смотрим количество пересекающихся пользователей экспериментальных групп обоих тестов\n",
    "len(test_common['user_id'].unique())"
   ]
  },
  {
   "cell_type": "markdown",
   "metadata": {},
   "source": [
    "- Обнаружены пользователи, участвующие в экспериментальных группах обоих тестов.\n",
    "- **Этих пользователей придётся удалить т.к. невозможно выявить, какое из 2ух экспериментальных нововведний повлияло на конверсию.** "
   ]
  },
  {
   "cell_type": "code",
   "execution_count": 26,
   "metadata": {},
   "outputs": [
    {
     "data": {
      "text/plain": [
       "6357"
      ]
     },
     "execution_count": 26,
     "metadata": {},
     "output_type": "execute_result"
    }
   ],
   "source": [
    "# исключаем из теста 'recommender_system_test' дублирующихся пользователей экспериментальных групп тестов \n",
    "final_ab_participants_1_drop = final_ab_participants_1[~final_ab_participants_1['user_id'].isin(test_common['user_id'])]\n",
    "\n",
    "len(final_ab_participants_1_drop)"
   ]
  },
  {
   "cell_type": "markdown",
   "metadata": {},
   "source": [
    "### Выявление пользователей, попавших в ЭКСПЕРИМЕНТАЛЬНУЮ группу теста  'interface_eu_test' и одновременно в КОНТРОЛЬНУЮ группу теста 'recommender_system_test'"
   ]
  },
  {
   "cell_type": "code",
   "execution_count": 27,
   "metadata": {},
   "outputs": [
    {
     "data": {
      "text/plain": [
       "439"
      ]
     },
     "execution_count": 27,
     "metadata": {},
     "output_type": "execute_result"
    }
   ],
   "source": [
    "# выбираем пользователей из экспериментальной группы теста 'interface_eu_test' и котнрольной группы - 'recommender_system_test' \n",
    "test_1_cont = final_ab_participants_1[(final_ab_participants_1['group'] == 'A')]\n",
    "test_2_exp =  final_ab_participants_2[(final_ab_participants_2['group'] == 'B')]\n",
    "\n",
    "# объединяем полученные выборки пользователей эксп. 'interface_eu_test' и контр.'recommender_system_test'\n",
    "test_common_1 = test_1_cont.merge(test_2_exp, on = 'user_id')\n",
    "\n",
    "# смотрим количество пересекающихся пользователей эксп. 'interface_eu_test' и контр.'recommender_system_test'\n",
    "len(test_common_1['user_id'].unique())"
   ]
  },
  {
   "cell_type": "code",
   "execution_count": 28,
   "metadata": {},
   "outputs": [
    {
     "data": {
      "text/plain": [
       "5918"
      ]
     },
     "execution_count": 28,
     "metadata": {},
     "output_type": "execute_result"
    }
   ],
   "source": [
    "# исключаем из теста 'recommender_system_test' дублирующихся пользователей из экспериментальной группы теста 'interface_eu_test' и котнрольной группы - 'recommender_system_test'\n",
    "final_ab_participants_1_drop = final_ab_participants_1_drop[~final_ab_participants_1_drop['user_id'].isin(test_common_1['user_id'])]\n",
    "\n",
    "len(final_ab_participants_1_drop)"
   ]
  },
  {
   "cell_type": "markdown",
   "metadata": {},
   "source": [
    "- **`Из 6701 уник. пользователей, участвующих в тесте 'recommender_system_test' осталось 5918. Исключены пользователи, участвующие одновременно в экспериментальных группах тестов 'recommender_system_test' и 'interface_eu_test'. А также пользователи, участвующие в экспериментальной группе теста 'interface_eu_test' и контрольной группе - 'recommender_system_test'. `**"
   ]
  },
  {
   "cell_type": "markdown",
   "metadata": {},
   "source": [
    "### Проверка на пропуски"
   ]
  },
  {
   "cell_type": "code",
   "execution_count": 29,
   "metadata": {},
   "outputs": [
    {
     "data": {
      "text/plain": [
       "user_id            0\n",
       "event_dt           0\n",
       "event_name         0\n",
       "details       377577\n",
       "dtype: int64"
      ]
     },
     "execution_count": 29,
     "metadata": {},
     "output_type": "execute_result"
    }
   ],
   "source": [
    "# Проверяем, есть ли пропуски\n",
    "final_ab_events.isna().sum()"
   ]
  },
  {
   "cell_type": "code",
   "execution_count": 30,
   "metadata": {},
   "outputs": [
    {
     "data": {
      "text/html": [
       "<div>\n",
       "<style scoped>\n",
       "    .dataframe tbody tr th:only-of-type {\n",
       "        vertical-align: middle;\n",
       "    }\n",
       "\n",
       "    .dataframe tbody tr th {\n",
       "        vertical-align: top;\n",
       "    }\n",
       "\n",
       "    .dataframe thead th {\n",
       "        text-align: right;\n",
       "    }\n",
       "</style>\n",
       "<table border=\"1\" class=\"dataframe\">\n",
       "  <thead>\n",
       "    <tr style=\"text-align: right;\">\n",
       "      <th></th>\n",
       "      <th>event_name</th>\n",
       "      <th>number_events</th>\n",
       "    </tr>\n",
       "  </thead>\n",
       "  <tbody>\n",
       "    <tr>\n",
       "      <th>0</th>\n",
       "      <td>login</td>\n",
       "      <td>189552</td>\n",
       "    </tr>\n",
       "    <tr>\n",
       "      <th>1</th>\n",
       "      <td>product_page</td>\n",
       "      <td>125563</td>\n",
       "    </tr>\n",
       "    <tr>\n",
       "      <th>2</th>\n",
       "      <td>purchase</td>\n",
       "      <td>62740</td>\n",
       "    </tr>\n",
       "    <tr>\n",
       "      <th>3</th>\n",
       "      <td>product_cart</td>\n",
       "      <td>62462</td>\n",
       "    </tr>\n",
       "  </tbody>\n",
       "</table>\n",
       "</div>"
      ],
      "text/plain": [
       "     event_name  number_events\n",
       "0         login         189552\n",
       "1  product_page         125563\n",
       "2      purchase          62740\n",
       "3  product_cart          62462"
      ]
     },
     "execution_count": 30,
     "metadata": {},
     "output_type": "execute_result"
    }
   ],
   "source": [
    "# Смотрим, какие и сколько событий совершили пользователи в период с 7 декабря 2020 по 4 января 2021 года\n",
    "events = final_ab_events.groupby('event_name').agg({'user_id': 'count'}).sort_values(by= 'user_id' , ascending=False).reset_index()\n",
    "events.columns = ['event_name', 'number_events']\n",
    "events"
   ]
  },
  {
   "cell_type": "markdown",
   "metadata": {},
   "source": [
    "- В таблице `'final_ab_events'` есть данные о 4 уникальных событиях:  `'login'` - регистрация, `product_page`- конверсии в просмотр карточек товаров, `product_cart`- просмотры корзины, `'purchase'` - стоимость покупки в долларах.\n",
    "\n",
    "- В столбце `'details'` — дополнительные данные об этих событиях.\n",
    "\n",
    "- ** В таблице `'final_ab_events'` 377577 пропусков в столбце `'details'` невозможно заполнить вручную из-за специфичности данных.**"
   ]
  },
  {
   "cell_type": "code",
   "execution_count": 31,
   "metadata": {},
   "outputs": [
    {
     "name": "stdout",
     "output_type": "stream",
     "text": [
      "name         0\n",
      "regions      0\n",
      "start_dt     0\n",
      "finish_dt    0\n",
      "dtype: int64\n",
      "\n",
      "user_id       0\n",
      "first_date    0\n",
      "region        0\n",
      "device        0\n",
      "dtype: int64\n",
      "\n"
     ]
    },
    {
     "data": {
      "text/plain": [
       "user_id    0\n",
       "group      0\n",
       "ab_test    0\n",
       "dtype: int64"
      ]
     },
     "execution_count": 31,
     "metadata": {},
     "output_type": "execute_result"
    }
   ],
   "source": [
    "# Проверяем, есть ли пропуски в остальных таблицах\n",
    "print(ab_project_marketing_events.isna().sum())\n",
    "print()\n",
    "print(final_ab_new_users.isna().sum())\n",
    "print()\n",
    "final_ab_participants.isna().sum()"
   ]
  },
  {
   "cell_type": "markdown",
   "metadata": {},
   "source": [
    "- **Во всех остальных таблицах пропуски не обнаружены.**"
   ]
  },
  {
   "cell_type": "markdown",
   "metadata": {},
   "source": [
    "### Проверка на содержание 15% новых пользователей из региона EU"
   ]
  },
  {
   "cell_type": "code",
   "execution_count": 32,
   "metadata": {},
   "outputs": [
    {
     "data": {
      "text/html": [
       "<div>\n",
       "<style scoped>\n",
       "    .dataframe tbody tr th:only-of-type {\n",
       "        vertical-align: middle;\n",
       "    }\n",
       "\n",
       "    .dataframe tbody tr th {\n",
       "        vertical-align: top;\n",
       "    }\n",
       "\n",
       "    .dataframe thead th {\n",
       "        text-align: right;\n",
       "    }\n",
       "</style>\n",
       "<table border=\"1\" class=\"dataframe\">\n",
       "  <thead>\n",
       "    <tr style=\"text-align: right;\">\n",
       "      <th></th>\n",
       "      <th>region</th>\n",
       "      <th>all_users</th>\n",
       "    </tr>\n",
       "  </thead>\n",
       "  <tbody>\n",
       "    <tr>\n",
       "      <th>0</th>\n",
       "      <td>EU</td>\n",
       "      <td>26986</td>\n",
       "    </tr>\n",
       "    <tr>\n",
       "      <th>1</th>\n",
       "      <td>N.America</td>\n",
       "      <td>5262</td>\n",
       "    </tr>\n",
       "    <tr>\n",
       "      <th>2</th>\n",
       "      <td>APAC</td>\n",
       "      <td>1808</td>\n",
       "    </tr>\n",
       "    <tr>\n",
       "      <th>3</th>\n",
       "      <td>CIS</td>\n",
       "      <td>1806</td>\n",
       "    </tr>\n",
       "  </tbody>\n",
       "</table>\n",
       "</div>"
      ],
      "text/plain": [
       "      region  all_users\n",
       "0         EU      26986\n",
       "1  N.America       5262\n",
       "2       APAC       1808\n",
       "3        CIS       1806"
      ]
     },
     "execution_count": 32,
     "metadata": {},
     "output_type": "execute_result"
    }
   ],
   "source": [
    "# посмотрим, сколько пользователей и из каких регионов зарегистрировались с 7 до 21 декабря 2020 года\n",
    "all_users_region = final_ab_new_users.groupby('region').agg({'user_id': 'count'}).sort_values(by= 'user_id' , ascending=False).reset_index()\n",
    "all_users_region.columns = ['region', 'all_users']\n",
    "all_users_region"
   ]
  },
  {
   "cell_type": "code",
   "execution_count": 33,
   "metadata": {},
   "outputs": [
    {
     "data": {
      "text/html": [
       "<div>\n",
       "<style scoped>\n",
       "    .dataframe tbody tr th:only-of-type {\n",
       "        vertical-align: middle;\n",
       "    }\n",
       "\n",
       "    .dataframe tbody tr th {\n",
       "        vertical-align: top;\n",
       "    }\n",
       "\n",
       "    .dataframe thead th {\n",
       "        text-align: right;\n",
       "    }\n",
       "</style>\n",
       "<table border=\"1\" class=\"dataframe\">\n",
       "  <thead>\n",
       "    <tr style=\"text-align: right;\">\n",
       "      <th></th>\n",
       "      <th>user_id</th>\n",
       "      <th>group</th>\n",
       "      <th>ab_test</th>\n",
       "      <th>first_date</th>\n",
       "      <th>region</th>\n",
       "      <th>device</th>\n",
       "    </tr>\n",
       "  </thead>\n",
       "  <tbody>\n",
       "    <tr>\n",
       "      <th>0</th>\n",
       "      <td>D1ABA3E2887B6A73</td>\n",
       "      <td>A</td>\n",
       "      <td>recommender_system_test</td>\n",
       "      <td>2020-12-07</td>\n",
       "      <td>EU</td>\n",
       "      <td>PC</td>\n",
       "    </tr>\n",
       "    <tr>\n",
       "      <th>1</th>\n",
       "      <td>DABC14FDDFADD29E</td>\n",
       "      <td>A</td>\n",
       "      <td>recommender_system_test</td>\n",
       "      <td>2020-12-08</td>\n",
       "      <td>EU</td>\n",
       "      <td>Mac</td>\n",
       "    </tr>\n",
       "    <tr>\n",
       "      <th>2</th>\n",
       "      <td>04988C5DF189632E</td>\n",
       "      <td>A</td>\n",
       "      <td>recommender_system_test</td>\n",
       "      <td>2020-12-14</td>\n",
       "      <td>EU</td>\n",
       "      <td>iPhone</td>\n",
       "    </tr>\n",
       "    <tr>\n",
       "      <th>3</th>\n",
       "      <td>482F14783456D21B</td>\n",
       "      <td>B</td>\n",
       "      <td>recommender_system_test</td>\n",
       "      <td>2020-12-14</td>\n",
       "      <td>EU</td>\n",
       "      <td>PC</td>\n",
       "    </tr>\n",
       "    <tr>\n",
       "      <th>4</th>\n",
       "      <td>7473E0943673C09E</td>\n",
       "      <td>A</td>\n",
       "      <td>recommender_system_test</td>\n",
       "      <td>2020-12-16</td>\n",
       "      <td>EU</td>\n",
       "      <td>iPhone</td>\n",
       "    </tr>\n",
       "    <tr>\n",
       "      <th>...</th>\n",
       "      <td>...</td>\n",
       "      <td>...</td>\n",
       "      <td>...</td>\n",
       "      <td>...</td>\n",
       "      <td>...</td>\n",
       "      <td>...</td>\n",
       "    </tr>\n",
       "    <tr>\n",
       "      <th>3798</th>\n",
       "      <td>94786EB776B45914</td>\n",
       "      <td>A</td>\n",
       "      <td>recommender_system_test</td>\n",
       "      <td>2020-12-14</td>\n",
       "      <td>APAC</td>\n",
       "      <td>Android</td>\n",
       "    </tr>\n",
       "    <tr>\n",
       "      <th>3799</th>\n",
       "      <td>053FB26D6D49EDDC</td>\n",
       "      <td>A</td>\n",
       "      <td>recommender_system_test</td>\n",
       "      <td>2020-12-10</td>\n",
       "      <td>N.America</td>\n",
       "      <td>Android</td>\n",
       "    </tr>\n",
       "    <tr>\n",
       "      <th>3800</th>\n",
       "      <td>9D263B8EF15CF188</td>\n",
       "      <td>B</td>\n",
       "      <td>recommender_system_test</td>\n",
       "      <td>2020-12-16</td>\n",
       "      <td>N.America</td>\n",
       "      <td>Mac</td>\n",
       "    </tr>\n",
       "    <tr>\n",
       "      <th>3801</th>\n",
       "      <td>29C92313A98B1176</td>\n",
       "      <td>B</td>\n",
       "      <td>recommender_system_test</td>\n",
       "      <td>2020-12-07</td>\n",
       "      <td>APAC</td>\n",
       "      <td>Android</td>\n",
       "    </tr>\n",
       "    <tr>\n",
       "      <th>3802</th>\n",
       "      <td>6715343AFBA285AE</td>\n",
       "      <td>B</td>\n",
       "      <td>recommender_system_test</td>\n",
       "      <td>2020-12-07</td>\n",
       "      <td>CIS</td>\n",
       "      <td>Android</td>\n",
       "    </tr>\n",
       "  </tbody>\n",
       "</table>\n",
       "<p>3803 rows × 6 columns</p>\n",
       "</div>"
      ],
      "text/plain": [
       "               user_id group                  ab_test first_date     region  \\\n",
       "0     D1ABA3E2887B6A73     A  recommender_system_test 2020-12-07         EU   \n",
       "1     DABC14FDDFADD29E     A  recommender_system_test 2020-12-08         EU   \n",
       "2     04988C5DF189632E     A  recommender_system_test 2020-12-14         EU   \n",
       "3     482F14783456D21B     B  recommender_system_test 2020-12-14         EU   \n",
       "4     7473E0943673C09E     A  recommender_system_test 2020-12-16         EU   \n",
       "...                ...   ...                      ...        ...        ...   \n",
       "3798  94786EB776B45914     A  recommender_system_test 2020-12-14       APAC   \n",
       "3799  053FB26D6D49EDDC     A  recommender_system_test 2020-12-10  N.America   \n",
       "3800  9D263B8EF15CF188     B  recommender_system_test 2020-12-16  N.America   \n",
       "3801  29C92313A98B1176     B  recommender_system_test 2020-12-07       APAC   \n",
       "3802  6715343AFBA285AE     B  recommender_system_test 2020-12-07        CIS   \n",
       "\n",
       "       device  \n",
       "0          PC  \n",
       "1         Mac  \n",
       "2      iPhone  \n",
       "3          PC  \n",
       "4      iPhone  \n",
       "...       ...  \n",
       "3798  Android  \n",
       "3799  Android  \n",
       "3800      Mac  \n",
       "3801  Android  \n",
       "3802  Android  \n",
       "\n",
       "[3803 rows x 6 columns]"
      ]
     },
     "execution_count": 33,
     "metadata": {},
     "output_type": "execute_result"
    }
   ],
   "source": [
    "# объединяем таблицу участников теста 'recommender_system_test' и таблицу пользователей, зарегистрировавшиеся с 7 до 21 декабря 2020 года. \n",
    "recsys_test_7_21 = final_ab_participants_1_drop.merge(final_ab_new_users, on='user_id')\n",
    "recsys_test_7_21"
   ]
  },
  {
   "cell_type": "code",
   "execution_count": 34,
   "metadata": {},
   "outputs": [
    {
     "data": {
      "text/html": [
       "<div>\n",
       "<style scoped>\n",
       "    .dataframe tbody tr th:only-of-type {\n",
       "        vertical-align: middle;\n",
       "    }\n",
       "\n",
       "    .dataframe tbody tr th {\n",
       "        vertical-align: top;\n",
       "    }\n",
       "\n",
       "    .dataframe thead th {\n",
       "        text-align: right;\n",
       "    }\n",
       "</style>\n",
       "<table border=\"1\" class=\"dataframe\">\n",
       "  <thead>\n",
       "    <tr style=\"text-align: right;\">\n",
       "      <th></th>\n",
       "      <th>region</th>\n",
       "      <th>test_users</th>\n",
       "      <th>part</th>\n",
       "    </tr>\n",
       "  </thead>\n",
       "  <tbody>\n",
       "    <tr>\n",
       "      <th>0</th>\n",
       "      <td>EU</td>\n",
       "      <td>3575</td>\n",
       "      <td>94.0</td>\n",
       "    </tr>\n",
       "    <tr>\n",
       "      <th>1</th>\n",
       "      <td>N.America</td>\n",
       "      <td>148</td>\n",
       "      <td>3.9</td>\n",
       "    </tr>\n",
       "    <tr>\n",
       "      <th>2</th>\n",
       "      <td>APAC</td>\n",
       "      <td>43</td>\n",
       "      <td>1.1</td>\n",
       "    </tr>\n",
       "    <tr>\n",
       "      <th>3</th>\n",
       "      <td>CIS</td>\n",
       "      <td>37</td>\n",
       "      <td>1.0</td>\n",
       "    </tr>\n",
       "  </tbody>\n",
       "</table>\n",
       "</div>"
      ],
      "text/plain": [
       "      region  test_users  part\n",
       "0         EU        3575  94.0\n",
       "1  N.America         148   3.9\n",
       "2       APAC          43   1.1\n",
       "3        CIS          37   1.0"
      ]
     },
     "execution_count": 34,
     "metadata": {},
     "output_type": "execute_result"
    }
   ],
   "source": [
    "# смотрим, сколько пользователей от каждого региона участвуют в тесте 'recommender_system_test'\n",
    "test_users_region = recsys_test_7_21.groupby('region').agg({'user_id': 'count'}).sort_values(by= 'user_id' , ascending=False).reset_index()\n",
    "test_users_region.columns = ['region', 'test_users']\n",
    "test_users_region ['part'] = round(test_users_region ['test_users']/test_users_region ['test_users'].sum() *100, 1)\n",
    "test_users_region "
   ]
  },
  {
   "cell_type": "markdown",
   "metadata": {},
   "source": [
    "- **Около `94% новых пользователей`, участвующих в тесте 'recommender_system_test', `из региона EU.`**\n",
    "- **Остальные 6% из других регионов попали по ошибке, они могут помешать проведению теста.**"
   ]
  },
  {
   "cell_type": "code",
   "execution_count": 35,
   "metadata": {},
   "outputs": [
    {
     "data": {
      "text/html": [
       "<div>\n",
       "<style scoped>\n",
       "    .dataframe tbody tr th:only-of-type {\n",
       "        vertical-align: middle;\n",
       "    }\n",
       "\n",
       "    .dataframe tbody tr th {\n",
       "        vertical-align: top;\n",
       "    }\n",
       "\n",
       "    .dataframe thead th {\n",
       "        text-align: right;\n",
       "    }\n",
       "</style>\n",
       "<table border=\"1\" class=\"dataframe\">\n",
       "  <thead>\n",
       "    <tr style=\"text-align: right;\">\n",
       "      <th></th>\n",
       "      <th>user_id</th>\n",
       "      <th>group</th>\n",
       "      <th>ab_test</th>\n",
       "      <th>first_date</th>\n",
       "      <th>region</th>\n",
       "      <th>device</th>\n",
       "    </tr>\n",
       "  </thead>\n",
       "  <tbody>\n",
       "    <tr>\n",
       "      <th>0</th>\n",
       "      <td>D1ABA3E2887B6A73</td>\n",
       "      <td>A</td>\n",
       "      <td>recommender_system_test</td>\n",
       "      <td>2020-12-07</td>\n",
       "      <td>EU</td>\n",
       "      <td>PC</td>\n",
       "    </tr>\n",
       "    <tr>\n",
       "      <th>1</th>\n",
       "      <td>DABC14FDDFADD29E</td>\n",
       "      <td>A</td>\n",
       "      <td>recommender_system_test</td>\n",
       "      <td>2020-12-08</td>\n",
       "      <td>EU</td>\n",
       "      <td>Mac</td>\n",
       "    </tr>\n",
       "    <tr>\n",
       "      <th>2</th>\n",
       "      <td>04988C5DF189632E</td>\n",
       "      <td>A</td>\n",
       "      <td>recommender_system_test</td>\n",
       "      <td>2020-12-14</td>\n",
       "      <td>EU</td>\n",
       "      <td>iPhone</td>\n",
       "    </tr>\n",
       "    <tr>\n",
       "      <th>3</th>\n",
       "      <td>482F14783456D21B</td>\n",
       "      <td>B</td>\n",
       "      <td>recommender_system_test</td>\n",
       "      <td>2020-12-14</td>\n",
       "      <td>EU</td>\n",
       "      <td>PC</td>\n",
       "    </tr>\n",
       "    <tr>\n",
       "      <th>4</th>\n",
       "      <td>7473E0943673C09E</td>\n",
       "      <td>A</td>\n",
       "      <td>recommender_system_test</td>\n",
       "      <td>2020-12-16</td>\n",
       "      <td>EU</td>\n",
       "      <td>iPhone</td>\n",
       "    </tr>\n",
       "    <tr>\n",
       "      <th>...</th>\n",
       "      <td>...</td>\n",
       "      <td>...</td>\n",
       "      <td>...</td>\n",
       "      <td>...</td>\n",
       "      <td>...</td>\n",
       "      <td>...</td>\n",
       "    </tr>\n",
       "    <tr>\n",
       "      <th>3570</th>\n",
       "      <td>700E7D23A9A81AE3</td>\n",
       "      <td>B</td>\n",
       "      <td>recommender_system_test</td>\n",
       "      <td>2020-12-16</td>\n",
       "      <td>EU</td>\n",
       "      <td>Android</td>\n",
       "    </tr>\n",
       "    <tr>\n",
       "      <th>3571</th>\n",
       "      <td>A23B0A7FFF375BFF</td>\n",
       "      <td>B</td>\n",
       "      <td>recommender_system_test</td>\n",
       "      <td>2020-12-12</td>\n",
       "      <td>EU</td>\n",
       "      <td>Android</td>\n",
       "    </tr>\n",
       "    <tr>\n",
       "      <th>3572</th>\n",
       "      <td>91C3969B8A72B908</td>\n",
       "      <td>B</td>\n",
       "      <td>recommender_system_test</td>\n",
       "      <td>2020-12-09</td>\n",
       "      <td>EU</td>\n",
       "      <td>Android</td>\n",
       "    </tr>\n",
       "    <tr>\n",
       "      <th>3573</th>\n",
       "      <td>95401934D6D6D4FC</td>\n",
       "      <td>B</td>\n",
       "      <td>recommender_system_test</td>\n",
       "      <td>2020-12-13</td>\n",
       "      <td>EU</td>\n",
       "      <td>iPhone</td>\n",
       "    </tr>\n",
       "    <tr>\n",
       "      <th>3574</th>\n",
       "      <td>80712ED4EA1B52A5</td>\n",
       "      <td>A</td>\n",
       "      <td>recommender_system_test</td>\n",
       "      <td>2020-12-14</td>\n",
       "      <td>EU</td>\n",
       "      <td>Android</td>\n",
       "    </tr>\n",
       "  </tbody>\n",
       "</table>\n",
       "<p>3575 rows × 6 columns</p>\n",
       "</div>"
      ],
      "text/plain": [
       "               user_id group                  ab_test first_date region  \\\n",
       "0     D1ABA3E2887B6A73     A  recommender_system_test 2020-12-07     EU   \n",
       "1     DABC14FDDFADD29E     A  recommender_system_test 2020-12-08     EU   \n",
       "2     04988C5DF189632E     A  recommender_system_test 2020-12-14     EU   \n",
       "3     482F14783456D21B     B  recommender_system_test 2020-12-14     EU   \n",
       "4     7473E0943673C09E     A  recommender_system_test 2020-12-16     EU   \n",
       "...                ...   ...                      ...        ...    ...   \n",
       "3570  700E7D23A9A81AE3     B  recommender_system_test 2020-12-16     EU   \n",
       "3571  A23B0A7FFF375BFF     B  recommender_system_test 2020-12-12     EU   \n",
       "3572  91C3969B8A72B908     B  recommender_system_test 2020-12-09     EU   \n",
       "3573  95401934D6D6D4FC     B  recommender_system_test 2020-12-13     EU   \n",
       "3574  80712ED4EA1B52A5     A  recommender_system_test 2020-12-14     EU   \n",
       "\n",
       "       device  \n",
       "0          PC  \n",
       "1         Mac  \n",
       "2      iPhone  \n",
       "3          PC  \n",
       "4      iPhone  \n",
       "...       ...  \n",
       "3570  Android  \n",
       "3571  Android  \n",
       "3572  Android  \n",
       "3573   iPhone  \n",
       "3574  Android  \n",
       "\n",
       "[3575 rows x 6 columns]"
      ]
     },
     "execution_count": 35,
     "metadata": {},
     "output_type": "execute_result"
    }
   ],
   "source": [
    "# Оставляем только пользователей, которые из региона EU\n",
    "test_users_region_EU = recsys_test_7_21.query('region == \"EU\"')\n",
    "test_users_region_EU"
   ]
  },
  {
   "cell_type": "code",
   "execution_count": 36,
   "metadata": {},
   "outputs": [
    {
     "data": {
      "text/html": [
       "<div>\n",
       "<style scoped>\n",
       "    .dataframe tbody tr th:only-of-type {\n",
       "        vertical-align: middle;\n",
       "    }\n",
       "\n",
       "    .dataframe tbody tr th {\n",
       "        vertical-align: top;\n",
       "    }\n",
       "\n",
       "    .dataframe thead th {\n",
       "        text-align: right;\n",
       "    }\n",
       "</style>\n",
       "<table border=\"1\" class=\"dataframe\">\n",
       "  <thead>\n",
       "    <tr style=\"text-align: right;\">\n",
       "      <th></th>\n",
       "      <th>region</th>\n",
       "      <th>all_users</th>\n",
       "      <th>test_users</th>\n",
       "      <th>test_from_all</th>\n",
       "    </tr>\n",
       "  </thead>\n",
       "  <tbody>\n",
       "    <tr>\n",
       "      <th>0</th>\n",
       "      <td>EU</td>\n",
       "      <td>26986</td>\n",
       "      <td>3575</td>\n",
       "      <td>13.2</td>\n",
       "    </tr>\n",
       "    <tr>\n",
       "      <th>1</th>\n",
       "      <td>N.America</td>\n",
       "      <td>5262</td>\n",
       "      <td>148</td>\n",
       "      <td>2.8</td>\n",
       "    </tr>\n",
       "    <tr>\n",
       "      <th>2</th>\n",
       "      <td>APAC</td>\n",
       "      <td>1808</td>\n",
       "      <td>43</td>\n",
       "      <td>2.4</td>\n",
       "    </tr>\n",
       "    <tr>\n",
       "      <th>3</th>\n",
       "      <td>CIS</td>\n",
       "      <td>1806</td>\n",
       "      <td>37</td>\n",
       "      <td>2.0</td>\n",
       "    </tr>\n",
       "  </tbody>\n",
       "</table>\n",
       "</div>"
      ],
      "text/plain": [
       "      region  all_users  test_users  test_from_all\n",
       "0         EU      26986        3575           13.2\n",
       "1  N.America       5262         148            2.8\n",
       "2       APAC       1808          43            2.4\n",
       "3        CIS       1806          37            2.0"
      ]
     },
     "execution_count": 36,
     "metadata": {},
     "output_type": "execute_result"
    }
   ],
   "source": [
    "# смотрим, сколько пользователей из региона EU попало в тест 'recommender_system_test'\n",
    "test_from_all = all_users_region.merge(test_users_region , on='region')\n",
    "test_from_all['test_from_all'] = round(test_from_all['test_users'] / test_from_all['all_users'] * 100, 1)\n",
    "test_from_all.drop(columns = ['part'], axis = 1, inplace=True)\n",
    "test_from_all"
   ]
  },
  {
   "cell_type": "markdown",
   "metadata": {},
   "source": [
    "- **`13,2% пользователей` из региона EU `попало в тест 'recommender_system_test'`, что не соответствует техническому заданию.**"
   ]
  },
  {
   "cell_type": "code",
   "execution_count": 37,
   "metadata": {},
   "outputs": [
    {
     "data": {
      "text/plain": [
       "3575"
      ]
     },
     "execution_count": 37,
     "metadata": {},
     "output_type": "execute_result"
    }
   ],
   "source": [
    "# Объединяем таблицу с участниками теста 'recommender_system_test' и таблицу c событиями с 7 декабря 2020 по 30 декабря 2021 года\n",
    "ab_test_events = final_ab_events.merge(test_users_region_EU, on='user_id', how = 'right')\n",
    "ab_test_events['user_id'].nunique()"
   ]
  },
  {
   "cell_type": "code",
   "execution_count": 38,
   "metadata": {},
   "outputs": [
    {
     "name": "stdout",
     "output_type": "stream",
     "text": [
      "<class 'pandas.core.frame.DataFrame'>\n",
      "Int64Index: 13409 entries, 0 to 13408\n",
      "Data columns (total 9 columns):\n",
      " #   Column      Non-Null Count  Dtype         \n",
      "---  ------      --------------  -----         \n",
      " 0   user_id     13409 non-null  object        \n",
      " 1   event_dt    11509 non-null  datetime64[ns]\n",
      " 2   event_name  11509 non-null  object        \n",
      " 3   details     1482 non-null   float64       \n",
      " 4   group       13409 non-null  object        \n",
      " 5   ab_test     13409 non-null  object        \n",
      " 6   first_date  13409 non-null  datetime64[ns]\n",
      " 7   region      13409 non-null  object        \n",
      " 8   device      13409 non-null  object        \n",
      "dtypes: datetime64[ns](2), float64(1), object(6)\n",
      "memory usage: 1.0+ MB\n"
     ]
    }
   ],
   "source": [
    "ab_test_events.info()"
   ]
  },
  {
   "cell_type": "markdown",
   "metadata": {},
   "source": [
    "- **`Не для всех отобранных пользователей в данных таблицы \"final_ab_events\" есть 'event_name' и 'event_dt'.`**"
   ]
  },
  {
   "cell_type": "markdown",
   "metadata": {},
   "source": [
    "### Сколько участников теста c лайфтаймом событий <= 14 дней совершали действия"
   ]
  },
  {
   "cell_type": "code",
   "execution_count": 39,
   "metadata": {},
   "outputs": [
    {
     "data": {
      "text/plain": [
       "1675"
      ]
     },
     "execution_count": 39,
     "metadata": {},
     "output_type": "execute_result"
    }
   ],
   "source": [
    "# отфильтруем события, лайфтайм которых > 14 дней и посчитаем пользователей\n",
    "ab_test_events_14 = ab_test_events[(ab_test_events['event_dt'] - ab_test_events['first_date']).dt.days <= 14]\n",
    "ab_test_events_14['user_id'].nunique()"
   ]
  },
  {
   "cell_type": "code",
   "execution_count": 40,
   "metadata": {},
   "outputs": [
    {
     "name": "stdout",
     "output_type": "stream",
     "text": [
      "<class 'pandas.core.frame.DataFrame'>\n",
      "Int64Index: 10979 entries, 0 to 13408\n",
      "Data columns (total 9 columns):\n",
      " #   Column      Non-Null Count  Dtype         \n",
      "---  ------      --------------  -----         \n",
      " 0   user_id     10979 non-null  object        \n",
      " 1   event_dt    10979 non-null  datetime64[ns]\n",
      " 2   event_name  10979 non-null  object        \n",
      " 3   details     1414 non-null   float64       \n",
      " 4   group       10979 non-null  object        \n",
      " 5   ab_test     10979 non-null  object        \n",
      " 6   first_date  10979 non-null  datetime64[ns]\n",
      " 7   region      10979 non-null  object        \n",
      " 8   device      10979 non-null  object        \n",
      "dtypes: datetime64[ns](2), float64(1), object(6)\n",
      "memory usage: 857.7+ KB\n"
     ]
    }
   ],
   "source": [
    "ab_test_events_14.info()"
   ]
  },
  {
   "cell_type": "markdown",
   "metadata": {},
   "source": [
    "- **`Теперь мы располагаем полными данными для исследования.`**"
   ]
  },
  {
   "cell_type": "code",
   "execution_count": 41,
   "metadata": {},
   "outputs": [
    {
     "name": "stdout",
     "output_type": "stream",
     "text": [
      "Процент активных пользователей, участвующих в тесте \"recommender_system_test\", от ожидаемого кол-ва 6000 : 27.9%\n"
     ]
    }
   ],
   "source": [
    "proc = ab_test_events_14['user_id'].nunique()/6000 * 100\n",
    "print(f'Процент активных пользователей, участвующих в тесте \"recommender_system_test\", от ожидаемого кол-ва 6000 : {round(proc, 1)}%')"
   ]
  },
  {
   "cell_type": "markdown",
   "metadata": {},
   "source": [
    "- **`Условие \"ожидаемое количество участников теста: 6000\" согласно ТЗ не выполняется.`**"
   ]
  },
  {
   "cell_type": "markdown",
   "metadata": {},
   "source": [
    "# Выводы по блоку \"Предобработка данных / оценка корректности проведения теста\""
   ]
  },
  {
   "cell_type": "markdown",
   "metadata": {},
   "source": [
    "**`Какие фильтрации были проведены:`**\n",
    "\n",
    "- **Фильтрация данных по дате остановки набора пользователей \"2020-12-17 00:00:00\" в соответствии с horizon_days = 14 и выявленной датой остановки теста \"2020-12-30 23:36:33\";**\n",
    "\n",
    "\n",
    "- **Сделали срез для работы с данными интересующего теста 'recommender_system_test';**\n",
    "\n",
    "\n",
    "\n",
    "- **Исключили из теста 'recommender_system_test' дублирующихся пользователей экспериментальных групп обоих тестов 'recommender_system_test' и 'interface_eu_test'. А также пользователей, участвующих в экспериментальной группе теста 'interface_eu_test' и контрольной группе - 'recommender_system_test';**\n",
    "\n",
    "\n",
    "- **Оставили только пользователей, которые из региона EU, а пользователей из N.America, APAC и CIS, попавших по ошибке, удалили;**\n",
    "\n",
    "\n",
    "- **Отфильтровали события, лайфтайм которых > 14 дней и пользователей, для которых не было данных 'event_name' и 'event_dt'.**"
   ]
  },
  {
   "cell_type": "markdown",
   "metadata": {},
   "source": [
    "**`Результаты предобработки данных:`**\n",
    "\n",
    "- Нет явных дубликатов;\n",
    "\n",
    "- Обнаружено 1602 неявных дубликата в таблице \"final_ab_participants\" по столбцу 'user_id'. Согласно ТЗ проведена работы с ними;\n",
    "\n",
    "- В таблице \"final_ab_events\" обнаружено 377577 пропусков в столбце 'details', которые невозможно заполнить вручную из-за специфичности данных;\n",
    "\n",
    "- В остальных таблицах пропусков нет;\n",
    "\n",
    "- Данные приведены к нужным типам;\n",
    "\n",
    "- Названия столбцов имеют общепринятый вид.\n",
    "\n",
    "**`Условия из ТЗ, которые НЕ выполнены:`**\n",
    "\n",
    "- Предоставлено ограниченное количество данных исходя из выявленной `даты остановки теста`: '2020-12-30 23:36:33' (верная дата согласно ТЗ: 2020-01-04);\n",
    "\n",
    "\n",
    "- В связи с чем проведена `фильтрация данных по дате остановки набора пользователей` \"2020-12-17 00:00:00\" в соответствии с horizon_days = 14 (верная дата согласно ТЗ: 2020-12-21);\n",
    "\n",
    "\n",
    "- В тест отобрано 13,2% `пользователей из региона EU` (ожидаемое кол-во согласно ТЗ: 15%);\n",
    "\n",
    "\n",
    "- Процент активных пользователей, участвующих в тесте \"recommender_system_test\", от `ожидаемого кол-ва 6000` : 27.9%.\n",
    "\n",
    "\n",
    "- **Период проведения теста `'recommender_system_test'` пересекается с 2мя маркетинговыми событиями: `'Christmas&New Year Promo'` и `'CIS New Year Gift Lottery'`. Это может сказаться на результатах АБ-теста. Следует мониторить данные от 2020-12-25 до 2020-12-30.**"
   ]
  },
  {
   "cell_type": "markdown",
   "metadata": {},
   "source": [
    "## Исследовательский анализ данных"
   ]
  },
  {
   "cell_type": "markdown",
   "metadata": {},
   "source": [
    "###  Проверка на равномерность распределения пользователей по тестовым группам"
   ]
  },
  {
   "cell_type": "code",
   "execution_count": 42,
   "metadata": {},
   "outputs": [
    {
     "data": {
      "text/html": [
       "<div>\n",
       "<style scoped>\n",
       "    .dataframe tbody tr th:only-of-type {\n",
       "        vertical-align: middle;\n",
       "    }\n",
       "\n",
       "    .dataframe tbody tr th {\n",
       "        vertical-align: top;\n",
       "    }\n",
       "\n",
       "    .dataframe thead th {\n",
       "        text-align: right;\n",
       "    }\n",
       "</style>\n",
       "<table border=\"1\" class=\"dataframe\">\n",
       "  <thead>\n",
       "    <tr style=\"text-align: right;\">\n",
       "      <th></th>\n",
       "      <th>group</th>\n",
       "      <th>number_user</th>\n",
       "      <th>proc</th>\n",
       "    </tr>\n",
       "  </thead>\n",
       "  <tbody>\n",
       "    <tr>\n",
       "      <th>0</th>\n",
       "      <td>A</td>\n",
       "      <td>1145</td>\n",
       "      <td>68.0</td>\n",
       "    </tr>\n",
       "    <tr>\n",
       "      <th>1</th>\n",
       "      <td>B</td>\n",
       "      <td>530</td>\n",
       "      <td>32.0</td>\n",
       "    </tr>\n",
       "  </tbody>\n",
       "</table>\n",
       "</div>"
      ],
      "text/plain": [
       "  group  number_user  proc\n",
       "0     A         1145  68.0\n",
       "1     B          530  32.0"
      ]
     },
     "execution_count": 42,
     "metadata": {},
     "output_type": "execute_result"
    }
   ],
   "source": [
    "# посмотрим, сколько пользователей в группах А и B теста 'recommender_system_test' совершали действия\n",
    "ab_test_actions  = ab_test_events_14.groupby('group').agg({'user_id': 'nunique'}).sort_values(by= 'user_id' , ascending=False).reset_index()\n",
    "ab_test_actions.columns = ['group', 'number_user']\n",
    "ab_test_actions[\"proc\"] = ab_test_actions['number_user']/ab_test_actions['number_user'].sum() * 100\n",
    "ab_test_actions[\"proc\"] = round(ab_test_actions[\"proc\"])\n",
    "ab_test_actions "
   ]
  },
  {
   "cell_type": "markdown",
   "metadata": {},
   "source": [
    "- **Активные пользователи теста распределены по группам А и B неравномерно.**"
   ]
  },
  {
   "cell_type": "markdown",
   "metadata": {},
   "source": [
    "### Распределение количества действий, совершаемых активными пользователями обеих групп А и В (абсолютные величины)"
   ]
  },
  {
   "cell_type": "code",
   "execution_count": 43,
   "metadata": {},
   "outputs": [
    {
     "data": {
      "image/png": "[encoded data removed]",
      "text/plain": [
       "<Figure size 1500x700 with 1 Axes>"
      ]
     },
     "metadata": {},
     "output_type": "display_data"
    }
   ],
   "source": [
    "# считаем количество событий на пользователя в разрезе групп А и Б\n",
    "events_per_user = ab_test_events_14.groupby(['user_id', 'group']).agg({'event_name': 'count'}).reset_index()\n",
    "events_per_user.columns = ['user_id', 'group', 'number_event']\n",
    "\n",
    "# строим гистограмму распределения количества событий, совершаемых пользователями обеих групп А и В\n",
    "plt.figure(figsize = (15,7))\n",
    "sns.countplot(data = events_per_user,\n",
    "             x = 'number_event',\n",
    "             hue = 'group')\n",
    "plt.title('Распределение количества действий, совершаемых активными пользователями')\n",
    "plt.xlabel('Количество событий')\n",
    "plt.ylabel('Количество пользователей')\n",
    "plt.show()"
   ]
  },
  {
   "cell_type": "markdown",
   "metadata": {},
   "source": [
    "- **Чаще всего пользователи обеих групп совершают 6 событий.** "
   ]
  },
  {
   "cell_type": "code",
   "execution_count": 44,
   "metadata": {},
   "outputs": [
    {
     "name": "stdout",
     "output_type": "stream",
     "text": [
      "6.9\n",
      "\n",
      "6.0\n"
     ]
    }
   ],
   "source": [
    "# Среднее и медианное кол-во событий группы пользователей A\n",
    "mean_A = events_per_user.query('group == \"A\"')['number_event'].mean()\n",
    "print(round(mean_A,1))\n",
    "print()\n",
    "median_A = events_per_user.query('group == \"A\"')['number_event'].median()\n",
    "print(median_A)"
   ]
  },
  {
   "cell_type": "code",
   "execution_count": 45,
   "metadata": {},
   "outputs": [
    {
     "name": "stdout",
     "output_type": "stream",
     "text": [
      "5.7\n",
      "\n",
      "5.0\n"
     ]
    }
   ],
   "source": [
    "# Среднее и медианное кол-во событий группы пользователей B\n",
    "mean_B = events_per_user.query('group == \"B\"')['number_event'].mean()\n",
    "print(round(mean_B,1))\n",
    "print()\n",
    "median_B = events_per_user.query('group == \"B\"')['number_event'].median()\n",
    "print(median_B)"
   ]
  },
  {
   "cell_type": "markdown",
   "metadata": {},
   "source": [
    "- **Среднее и медианное кол-во действий, совершаемых пользователи группы А выше, чем у пользователей группы B.**"
   ]
  },
  {
   "cell_type": "markdown",
   "metadata": {},
   "source": [
    "### Соотношение каждого типа события от общего кол-ва для групп пользователей А и В (относительные величины)"
   ]
  },
  {
   "cell_type": "code",
   "execution_count": 46,
   "metadata": {},
   "outputs": [
    {
     "data": {
      "image/png": "[encoded data removed]",
      "text/plain": [
       "<Figure size 1500x700 with 1 Axes>"
      ]
     },
     "metadata": {},
     "output_type": "display_data"
    }
   ],
   "source": [
    "# считаем процент каждого типа события от общего кол-ва\n",
    "event_name = ab_test_events_14.groupby(['event_name','group']).agg({'user_id': 'count'}).sort_values(by= 'user_id' , ascending=False).reset_index()\n",
    "event_name.columns = ['event_name', 'group', 'number_actions']\n",
    "\n",
    "event_name_A = event_name.query('group == \"A\"')\n",
    "event_name_A[\"common_number\"] = event_name_A['number_actions'].sum()\n",
    "event_name_A[\"proc\"] = round(event_name_A['number_actions']/event_name_A[\"common_number\"] * 100, 1)\n",
    "\n",
    "event_name_B = event_name.query('group == \"B\"')\n",
    "event_name_B[\"common_number\"] = event_name_B['number_actions'].sum()\n",
    "event_name_B[\"proc\"] = round(event_name_B['number_actions']/event_name_B[\"common_number\"] * 100, 1)\n",
    "\n",
    "event_name_common = pd.concat([event_name_A, event_name_B], axis=0)\n",
    "\n",
    "# строим гистограмму, отражающую соотношение каждого типа события от общего кол-ва в % для групп пользователей А и В  \n",
    "plt.figure(figsize = (15,7))\n",
    "sns.barplot(x='proc', y='event_name', data=event_name_common, hue = 'group', palette= 'husl')\n",
    "plt.xlabel('Количество событий, %')\n",
    "plt.ylabel('Тип события')\n",
    "plt.title('Соотношение каждого типа события от общего кол-ва для групп пользователей А и В')\n",
    "plt.show()"
   ]
  },
  {
   "cell_type": "markdown",
   "metadata": {},
   "source": [
    "- **Видно, что пользователи групп А и В примерно однаково проходят по воронке событий к покупке \"purchase\".**\n",
    "\n",
    "\n",
    "- **Суть нововведений не ясна, но нужно учитывать, что рекомендательная система может повлиять на переходы между \"login\" и \"product_page\" и между \"product_page\" и \"product_cart\" т.к. конверсия в переход из одного события в другое выделяется.**"
   ]
  },
  {
   "cell_type": "markdown",
   "metadata": {},
   "source": [
    "### Распределение количества событий по ДНЯМ, совершаемых активными пользователями обеих групп А и В (относительные величины)"
   ]
  },
  {
   "cell_type": "code",
   "execution_count": 47,
   "metadata": {},
   "outputs": [
    {
     "data": {
      "text/plain": [
       "Timestamp('2020-12-29 23:01:38')"
      ]
     },
     "execution_count": 47,
     "metadata": {},
     "output_type": "execute_result"
    }
   ],
   "source": [
    "# посмотрим, когда произошло последнее событие\n",
    "ab_test_events_14['event_dt'].max()"
   ]
  },
  {
   "cell_type": "markdown",
   "metadata": {},
   "source": [
    "- После всех фильтраций исчезли пользователи, совершающие действия в дату '2020-12-30'."
   ]
  },
  {
   "cell_type": "code",
   "execution_count": 48,
   "metadata": {},
   "outputs": [],
   "source": [
    "# добавляем информацию о дне (без времени)\n",
    "ab_test_events_14['event_day'] = ab_test_events_14['event_dt'].dt.date"
   ]
  },
  {
   "cell_type": "code",
   "execution_count": 49,
   "metadata": {},
   "outputs": [
    {
     "data": {
      "image/png": "[encoded data removed]",
      "text/plain": [
       "<Figure size 1500x700 with 1 Axes>"
      ]
     },
     "metadata": {},
     "output_type": "display_data"
    }
   ],
   "source": [
    "# считаем процент от общего кол-ва событий за каждый день\n",
    "event_days = ab_test_events_14.groupby(['event_day','group'])[['event_name']].count().reset_index()\n",
    "\n",
    "event_days_A = event_days.query('group == \"A\"')\n",
    "event_days_A[\"common namber\"] = event_days_A[\"event_name\"].sum()\n",
    "event_days_A[\"proc\"] = round(event_days_A['event_name']/event_days_A[\"common namber\"] * 100, 1)\n",
    "\n",
    "event_days_B = event_days.query('group == \"B\"')\n",
    "event_days_B[\"common namber\"] = event_days_B[\"event_name\"].sum()\n",
    "event_days_B[\"proc\"] = round(event_days_B['event_name']/event_days_B[\"common namber\"] * 100, 1)\n",
    "\n",
    "event_days_common = pd.concat([event_days_A, event_days_B], axis=0)\n",
    "event_days_common\n",
    "\n",
    "# строим гистограмму распределения количества событий по дням, совершаемых активными пользователями обеих групп А и В (относительные величины)\n",
    "plt.figure(figsize = (15,7))\n",
    "sns.barplot(x='event_day', y='proc', data=event_days_common, hue = 'group')\n",
    "plt.xticks(rotation=90)\n",
    "plt.xlabel('Дата')\n",
    "plt.ylabel('Колчество событий от общего, %')\n",
    "plt.xticks(rotation = 55)\n",
    "plt.title('Распределение событий по дням (относительные величины)')\n",
    "plt.show()"
   ]
  },
  {
   "cell_type": "markdown",
   "metadata": {},
   "source": [
    "- **Активность пользователей группы А высокая в середине теста;**\n",
    "\n",
    "\n",
    "- **Активность пользователей группы B высокая в начале и в середине АБ-теста;**\n",
    "\n",
    "\n",
    "- **У обоих групп активность идёт на спад к концу теста;**\n",
    "\n",
    "\n",
    "- **Такое распределение активности может быть связано с сезонными праздниками в регионе EU. В предрождественский период активность неравномерная.**\n",
    "\n",
    "\n",
    "- **Маркетинговые события, пересекающиеся по времени с AБ-тестом на промежутке от 2020-12-25 до 2020-12-29 не сказываются на количестве событий обеих групп т.к. динамика количества событий по каждой группе практически неизменна.** "
   ]
  },
  {
   "cell_type": "markdown",
   "metadata": {},
   "source": [
    "#### Распределение типов событий по ДНЯМ для группы В (абсолютные величины)"
   ]
  },
  {
   "cell_type": "code",
   "execution_count": 50,
   "metadata": {},
   "outputs": [
    {
     "data": {
      "image/png": "[encoded data removed]",
      "text/plain": [
       "<Figure size 1500x700 with 1 Axes>"
      ]
     },
     "metadata": {},
     "output_type": "display_data"
    }
   ],
   "source": [
    "# считаем кол-во всех типов событий по дням для группы В\n",
    "x = ab_test_events_14.query('group == \"B\"')\n",
    "\n",
    "x = x.groupby(['event_day','event_name']).agg({'user_id' :'nunique'}).reset_index()\n",
    "plt.figure(figsize = (15,7))\n",
    "sns.barplot(x='event_day', y='user_id', data=x, hue = 'event_name')\n",
    "plt.xticks(rotation=90)\n",
    "plt.xlabel('Дата')\n",
    "plt.ylabel('Колчество событий')\n",
    "plt.xticks(rotation = 55)\n",
    "plt.title('Распределение типов событий по дням для группы B (абсолютные величины)')\n",
    "plt.show()"
   ]
  },
  {
   "cell_type": "markdown",
   "metadata": {},
   "source": [
    "#### Распределение типов событий по ДНЯМ для группы А (абсолютные величины)"
   ]
  },
  {
   "cell_type": "code",
   "execution_count": null,
   "metadata": {},
   "outputs": [],
   "source": [
    "# считаем кол-во всех типов событий по дням для группы В\n",
    "y = ab_test_events_14.query('group == \"A\"')\n",
    "\n",
    "y = y.groupby(['event_day','event_name']).agg({'user_id' :'nunique'}).reset_index()\n",
    "plt.figure(figsize = (15,7))\n",
    "sns.barplot(x='event_day', y='user_id', data=y, hue = 'event_name')\n",
    "plt.xticks(rotation=90)\n",
    "plt.xlabel('Дата')\n",
    "plt.ylabel('Колчество событий')\n",
    "plt.xticks(rotation = 55)\n",
    "plt.title('Распределение типов событий по дням для группы A (абсолютные величины)')\n",
    "plt.show()"
   ]
  },
  {
   "cell_type": "markdown",
   "metadata": {},
   "source": [
    "- **Пользователи группы B активно регистрируются в начале и в середине первой половины теста. А пользователей группы А наиболее активно в середине.** \n",
    "\n",
    "\n",
    "- **Не обнаружено всплесков каких-то конкрентых событий ОТНОСИТЕЛЬНО остальных по воронке в течение теста у обоих групп. `Судя по всему, в день регистрации пользователи чаще всего и совершают все остальные события по воронке (пользовательская активность в лайфтайме). Наиболее чётко это прослеживается по этапу от \"login\" до \"product_page\".`** \n",
    "\n",
    "\n",
    "- **Отмечено, что в некоторые дни просмотров корзины \"product_cart\" получилось меньше чем покупок \"purchase\", что может означать, что корзина не является обязательным этапом воронки (покупки в 1 клик).**"
   ]
  },
  {
   "cell_type": "markdown",
   "metadata": {},
   "source": [
    "### Распределение количества событий по ДАТАМ РЕГИСТРАЦИИ,  обеих групп А и В (относительные величины)"
   ]
  },
  {
   "cell_type": "code",
   "execution_count": null,
   "metadata": {},
   "outputs": [],
   "source": [
    "# добавляем информацию о дне (без времени)\n",
    "ab_test_events_14['regist_day'] = ab_test_events_14['first_date'].dt.date"
   ]
  },
  {
   "cell_type": "code",
   "execution_count": null,
   "metadata": {},
   "outputs": [],
   "source": [
    "# считаем процент от общего кол-ва событий за каждый день\n",
    "event_regist = ab_test_events_14.groupby(['regist_day','group'])[['event_name']].count().reset_index()\n",
    "\n",
    "event_regist_A = event_regist.query('group == \"A\"')\n",
    "event_regist_A[\"common namber\"] = event_regist_A[\"event_name\"].sum()\n",
    "event_regist_A[\"proc\"] = round(event_regist_A['event_name']/event_regist_A[\"common namber\"] * 100, 1)\n",
    "\n",
    "event_regist_B = event_regist.query('group == \"B\"')\n",
    "event_regist_B[\"common namber\"] = event_regist_B[\"event_name\"].sum()\n",
    "event_regist_B[\"proc\"] = round(event_regist_B['event_name']/event_regist_B[\"common namber\"] * 100, 1)\n",
    "\n",
    "event_regist_common = pd.concat([event_regist_A, event_regist_B], axis=0)\n",
    "\n",
    "# строим гистограмму распределения количества событий по датам регистрации пользователей, обеих групп А и В (относительные величины)\n",
    "plt.figure(figsize = (15,7))\n",
    "sns.barplot(x='regist_day', y='proc', data=event_regist_common, hue = 'group')\n",
    "plt.xticks(rotation=90)\n",
    "plt.xlabel('Дата регистрации')\n",
    "plt.ylabel('Количество событий от общего, %')\n",
    "plt.xticks(rotation = 55)\n",
    "plt.title('Распределение событий по датам регистрации (относительные величины)')\n",
    "plt.show()"
   ]
  },
  {
   "cell_type": "markdown",
   "metadata": {},
   "source": [
    "- **Самая высокая активность у пользователей группы А, зарегистрировавшихся 14 и 15 декабря. Т.е. можно сказать, что пользователи, зарегистрировавшиеся ближе к концу периода регитрации - наиболее активные на протяжении лайфтайма;**\n",
    "\n",
    "\n",
    "- **Самая высокая активность у пользователей группы B, зарегистрировавшихся 7, и 16 декабря. Т.е. можно сказать, что пользователи, зарегистрировавшиеся в первый и последний день периода регитрации - наиболее активные на протяжении лайфтайма.**"
   ]
  },
  {
   "cell_type": "markdown",
   "metadata": {},
   "source": [
    "### Среднее количество действий (за лайфтайм) пользователей, зарегистрировавшихся в разные даты (абсолютные величины)"
   ]
  },
  {
   "cell_type": "code",
   "execution_count": null,
   "metadata": {},
   "outputs": [],
   "source": [
    "# считаем среднее кол-во действий (за период АБ-теста) уник. пользователей, зарегистрировавшихся в разные даты\n",
    "group_A = ab_test_events_14.query('group == \"A\"')\n",
    "mean_action_A = group_A.groupby(['regist_day', 'group']).agg({'user_id' :'nunique', 'event_name':'count'}).reset_index()\n",
    "mean_action_A['mean_actions'] = round(mean_action_A['event_name']/mean_action_A['user_id'],1)\n",
    "\n",
    "group_B = ab_test_events_14.query('group == \"B\"')\n",
    "mean_action_B = group_B.groupby(['regist_day', 'group']).agg({'user_id' :'nunique', 'event_name':'count'}).reset_index()\n",
    "mean_action_B['mean_actions'] = round(mean_action_B['event_name']/mean_action_B['user_id'],1)\n",
    "\n",
    "mean_action_common = pd.concat([mean_action_A, mean_action_B], axis=0)\n",
    "\n",
    "# строим гистограмму распределения количества событий по датам регистрации пользователей, обеих групп А и В (относительные величины)\n",
    "plt.figure(figsize = (15,7))\n",
    "sns.barplot(x='regist_day', y='mean_actions', data=mean_action_common, hue = 'group', palette='hls')\n",
    "plt.xticks(rotation=90)\n",
    "plt.xlabel('Дата регистрации')\n",
    "plt.ylabel('Среднее количество действией')\n",
    "plt.xticks(rotation = 55)\n",
    "plt.title('Распределение cреднего количества действий уник. пользователей, зарегистрировавшихся в разные даты')\n",
    "plt.show()"
   ]
  },
  {
   "cell_type": "markdown",
   "metadata": {},
   "source": [
    "- **У пользователей группы А, зарегистрировавшихся 11, 13, 14, и 15 декабря, среднее кол-во действий примерно в 1,5 раза выше, чем у группы B (зарег. в те же даты).**\n",
    "\n",
    "\n",
    "- **В разрезе дат регистраций пользователи группы А совершают в среднем больше действий за лайфтайм, чем пользователи группы B.**"
   ]
  },
  {
   "cell_type": "markdown",
   "metadata": {},
   "source": [
    "# Выводы по блоку \"Исследовательский анализ данных\""
   ]
  },
  {
   "cell_type": "markdown",
   "metadata": {},
   "source": [
    "- `Активные пользователи теста распределены по группам А и B неравномерно: в процентном соотношении 68/32;`\n",
    "\n",
    "\n",
    "- `Среднее и медианное кол-во действий, совершаемых пользователи группы А выше, чем у пользователей группы B;`\n",
    "\n",
    "\n",
    "- Видно, что пользователи групп А и В примерно однаково проходят по воронке событий к покупке \"purchase\" (в относительных величинах);\n",
    "\n",
    "\n",
    "- `Суть нововведений не ясна, но нужно учитывать, что рекомендательная система может повлиять на переходы между \"login\" и \"product_page\" и между \"product_page\" и \"product_cart\" т.к. конверсия в переход из одного события в другое выделяется (достаточно большая разница между этапами);`\n",
    "\n",
    "\n",
    "- `Общая активность пользователей группы А высокая в середине теста, а группы Б - в начале и в середине;`\n",
    "\n",
    "\n",
    "- `У обоих групп общая активность идёт на спад к концу теста;`\n",
    "\n",
    "\n",
    "- `Такое распределение активности может быть связано с сезонными праздниками в регионе EU. В предрождественский период активность неравномерная, что может сказаться на результатах теста;`\n",
    "\n",
    "\n",
    "- `Маркетинговые события, пересекающиеся по времени с AБ-тестом на промежутке от 2020-12-25 до 2020-12-29 не сказываются на количестве событий обеих групп т.к. динамика количества событий по каждой группе практически неизменна;`\n",
    "\n",
    "\n",
    "- Не обнаружено всплесков каких-то конкрентых событий ОТНОСИТЕЛЬНО остальных по воронке в течение теста у обоих групп. `Судя по всему, в день регистрации пользователи чаще всего и совершают все остальные события по воронке (пользовательская активность в лайфтайме). Наиболее чётко это прослеживается по этапу от \"login\" до \"product_page\";\n",
    "\n",
    "\n",
    "- Отмечено, что в некоторые дни просмотров корзины \"product_cart\" получилось меньше чем покупок \"purchase\", что может означать, что корзина не является обязательным этапом воронки (покупки в 1 клик).\n",
    "\n",
    "\n",
    "- Самая высокая активность у пользователей группы А, зарегистрировавшихся 14 и 15 декабря. `Т.е. можно сказать, что пользователи, зарегистрировавшиеся ближе к концу периода регитрации - наиболее активные на протяжении лайфтайма;`\n",
    "\n",
    "\n",
    "- Самая высокая активность у пользователей группы B, зарегистрировавшихся 7 и 16 декабря. `Т.е. можно сказать, что пользователи, зарегистрировавшиеся в первый и последний день периода регитрации - наиболее активные на протяжении лайфтайма.`\n",
    "\n",
    "\n",
    "- У пользователей группы А, зарегистрировавшихся 11, 13, 14, и 15 декабря, среднее кол-во действий примерно в 1,5 раза выше, чем у группы B (зарег. в те же даты)."
   ]
  },
  {
   "cell_type": "markdown",
   "metadata": {},
   "source": [
    "## Продуктовая воронка"
   ]
  },
  {
   "cell_type": "code",
   "execution_count": null,
   "metadata": {},
   "outputs": [],
   "source": [
    "# Построим таблицу с кол-вом уник. пользователей на каждом шаге воронки событий: \"login, product_page, product_cart, purchase\"\n",
    "funnel_A = ab_test_events_14.query('group == \"A\"')\n",
    "funnel_A = funnel_A.groupby('event_name').agg({'user_id': 'nunique'}).sort_values(by= 'user_id' , ascending=False).reset_index()\n",
    "funnel_A.columns = ['event_name', 'group_A']\n",
    "\n",
    "funnel_B = ab_test_events_14.query('group == \"B\"')\n",
    "funnel_B = funnel_B.groupby('event_name').agg({'user_id': 'nunique'}).sort_values(by= 'user_id' , ascending=False).reset_index()\n",
    "funnel_B.columns = ['event_name', 'group_B']\n",
    "\n",
    "funnel_common = funnel_B.merge(funnel_A, on = 'event_name')\n",
    "funnel_common"
   ]
  },
  {
   "cell_type": "markdown",
   "metadata": {},
   "source": [
    "- **У группы А просмотров корзины 'product_cart' получилось меньше чем покупок 'purchase'. Это может означать, что корзина не является обязательным этапом воронки (покупки в 1 клик).**"
   ]
  },
  {
   "cell_type": "code",
   "execution_count": null,
   "metadata": {},
   "outputs": [],
   "source": [
    "# Построим воронку событий группы А\n",
    "fig = go.Figure(go.Funnel(y = ['login', 'product_page', 'product_cart', 'purchase'], x = funnel_A['group_A'], marker = {\"color\": [\"silver\", \"wheat\", \"blue\", \"lightsalmon\"]}, textinfo = \"value + percent initial + percent previous\"))\n",
    "fig.update_layout(title = 'Воронка событий группы А')\n",
    "fig.show()"
   ]
  },
  {
   "cell_type": "code",
   "execution_count": null,
   "metadata": {},
   "outputs": [],
   "source": [
    "# Построим воронку событий группы B\n",
    "fig = go.Figure(go.Funnel(y = ['login', 'product_page', 'product_cart', 'purchase'], x = funnel_B['group_B'], marker = {\"color\": [\"silver\", \"wheat\", \"blue\", \"tan\"]}, textinfo = \"value + percent initial + percent previous\"))\n",
    "fig.update_layout(title = 'Воронка событий группы B')\n",
    "fig.show()"
   ]
  },
  {
   "cell_type": "markdown",
   "metadata": {},
   "source": [
    "- **Не достигнут ожидаемый эффект ни на одном этапе воронки: за 14 дней с момента регистрации пользователи группы B не показали минимальное улучшение конверсии - 10%;**\n",
    "\n",
    "\n",
    "- **Конверсия из 'login' в 'product_page' у групп А и B: 63% и 56%, соответственно;**\n",
    "\n",
    "\n",
    "- **Конверсия из 'product_page' в 'product_cart' у групп А и B: 48% и 50%, соответственно;**\n",
    "\n",
    "\n",
    "- **Конверсия из 'product_cart' в 'purchase' у групп А и B одинаковая: 98% и 99%, соответственно;**\n",
    "\n",
    "\n",
    "- **Конверсия в покупку у групп А и B различается незначительно: 30% и 28%, соответственно.**"
   ]
  },
  {
   "cell_type": "markdown",
   "metadata": {},
   "source": [
    "**`Обнаруженные особенности данных, которые могут негативно влиять на точность теста:`**\n",
    "\n",
    "- **Активные пользователи теста распределены по группам А и B неравномерно. Выборки группы B в 2,5 - 3 раза меньше выборок группы А, что может увеличивать погрешность теста.**\n",
    "\n",
    "\n",
    "- **Время проведения теста совпадает с маркетинговыми и другими активностями (втч. рождественские праздники), что влияет на активность пользователей и результаты АБ-теста в целом. Некорректно оценивать нововведения в периоды, сильно меняющие активность.**"
   ]
  },
  {
   "cell_type": "markdown",
   "metadata": {},
   "source": [
    "## Статистический тест"
   ]
  },
  {
   "cell_type": "markdown",
   "metadata": {},
   "source": [
    "**Проверяем гипотезу о равенстве выборок групп A и B на каждом этапе воронки при помощи Z-критерия;**\n",
    "\n",
    "**Проверяем разницу в конверсии от начального этапа воронки;**\n",
    "\n",
    "**Cравниваем пропорции двух генеральных совокупностей по выборкам из них.**"
   ]
  },
  {
   "cell_type": "markdown",
   "metadata": {},
   "source": [
    "- `Нулевая гипотеза: 'Нет статистически значимых различий в доле уникальных пользователей, прошедших через воронку'`\n",
    "\n",
    "\n",
    "- `Альтернативная гипотеза: 'Есть статистически значимые различия в доле уникальных пользователей, прошедших через воронку'`\n",
    "\n",
    "    \n",
    "- `За уровень значимости примем: alpha = 0.05`"
   ]
  },
  {
   "cell_type": "code",
   "execution_count": null,
   "metadata": {},
   "outputs": [],
   "source": [
    "# подготовим данные для проведения z-теста\n",
    "funnel_test = funnel_common.query('event_name != \"login\"')\n",
    "funnel_test\n",
    "\n",
    "funnel_login = funnel_common.query('event_name == \"login\"')\n",
    "funnel_login_B = funnel_login.iloc [0]['group_B']\n",
    "funnel_login_A = funnel_login.iloc [0]['group_A']"
   ]
  },
  {
   "cell_type": "code",
   "execution_count": null,
   "metadata": {},
   "outputs": [],
   "source": [
    "# Проверяем, находят ли статистические критерии разницу между выборками групп А и B на каждом этапе воронки\n",
    "\n",
    "alpha = 0.01  # критический уровень статистической значимости\n",
    "def z_test(group_A, group_B):\n",
    "    for i in funnel_test.index:\n",
    "        p1 = funnel_test[group_A][i] / funnel_login_A # пропорция успехов в первой группе 'A'\n",
    "      \n",
    "        p2 = funnel_test[group_B][i] / funnel_login_B # пропорция успехов во второй группе 'B'\n",
    "        \n",
    "        p_combined = ((funnel_test[group_A][i] + funnel_test[group_B][i]) / (funnel_login_A + funnel_login_B)) # пропорция успехов в комбинированном датасете:\n",
    "       \n",
    "        difference = p1 - p2   # разница пропорций в датасетах\n",
    "       \n",
    "        z_value = difference / mth.sqrt(p_combined * (1 - p_combined) * \n",
    "                                        (1/funnel_login_A + 1/funnel_login_B)) # считаем статистику в ст.отклонениях стандартного нормального распределения\n",
    "      \n",
    "\n",
    "        distr = st.norm(0, 1)  # задаем стандартное нормальное распределение (среднее 0, ст.отклонение 1)\n",
    "        \n",
    "        p_value = (1 - distr.cdf(abs(z_value))) * 2\n",
    "        \n",
    "        print('{} p-значение: {}'.format(funnel_test['event_name'][i], p_value))\n",
    "        \n",
    "        if (p_value < alpha):\n",
    "            print(\"Отвергаем нулевую гипотезу: между долями есть значимая разница\")\n",
    "        \n",
    "        else:\n",
    "            print(\"Не получилось отвергнуть нулевую гипотезу, нет оснований считать доли разными\")\n",
    "        print('')\n",
    "        \n",
    "\n",
    "z_test('group_A', 'group_B')"
   ]
  },
  {
   "cell_type": "markdown",
   "metadata": {},
   "source": [
    "- Статистически значимых различий между контрольной и экспериментальной группами A и B НЕТ на всех этапах воронки, `кроме первого этапа: из 'login' в 'product_page'.`"
   ]
  },
  {
   "cell_type": "markdown",
   "metadata": {},
   "source": [
    "# Общие выводы"
   ]
  },
  {
   "cell_type": "markdown",
   "metadata": {},
   "source": [
    "**`Тест проведён не корректно по многим пунктам ТЗ:`**\n",
    "\n",
    "- Неверная дата остановки теста: '2020-12-30 23:36:33' (верная дата согласно ТЗ: 2020-01-04);\n",
    "\n",
    "\n",
    "- В связи с чем, установлена корректная дата остановки набора пользователей -  \"2020-12-17 23:36:33\" в соответствии с horizon_days = 14 (верная дата согласно ТЗ: 2020-12-21);\n",
    "\n",
    "\n",
    "- В тест отобрано 13,2% пользователей из региона EU (ожидаемое кол-во согласно ТЗ: 15%);\n",
    "\n",
    "\n",
    "- В тест попали пользователи из других регионов: N.America, APAC и CIS. Оставили только пользователей, которые из региона EU;\n",
    "\n",
    "\n",
    "- Процент активных пользователей, участвующих в тесте \"recommender_system_test\", от ожидаемого кол-ва 6000 : 27.9%;\n",
    "\n",
    "\n",
    "- Период проведения теста 'recommender_system_test' пересекается с 2мя маркетинговыми событиями: 'Christmas&New Year Promo' и 'CIS New Year Gift Lottery'. Но они, к счастью, не сказываются на количестве событий обеих групп т.к. динамика количества событий по каждой группе практически неизменна;\n",
    "\n",
    "\n",
    "- Обнаружены дублирующиеся пользователи в ЭКСПЕРИМЕНТАЛЬНЫХ группах обоих тестов 'recommender_system_test' и 'interface_eu_test'. Этих пользователей удалили т.к. невозможно выявить, какое из 2ух экспериментальных нововведний повлияло на конверсию;\n",
    "\n",
    "\n",
    "-  Обнаружены дублирующиеся пользователи, участвующие в экспериментальной группе теста 'interface_eu_test' и контрольной группе - 'recommender_system_test одновременно. Этих пользователей удалили т.к. такие пользователи в группе А нашего теста \"не чистые\" и видят какие-то нововведения;'\n",
    "\n",
    "\n",
    "- Обнаружены дублирующиеся пользователи, участвующие в КОНТРОЛЬНЫХ группах обоих тестов 'recommender_system_test' и 'interface_eu_test'. Не стали их удалять т.к. пользователи из контрольных групп обоих тестов не видят никаких изменений и поэтому их пользовательская активность не должна измениться;"
   ]
  },
  {
   "cell_type": "markdown",
   "metadata": {},
   "source": [
    "**`Результаты проведения исследовательского анализа данных:`** \n",
    "\n",
    "- **Активные пользователи теста распределены по группам А и B неравномерно: в процентном соотношении 68% / 32%;**\n",
    "\n",
    "\n",
    "- **Среднее и медианное кол-во действий, совершаемых пользователями группы А выше, чем у пользователей группы B;**\n",
    "\n",
    "\n",
    "- Общая активность пользователей группы А высокая в середине теста, а группы Б - в начале и в середине. У обоих групп общая активность идёт на спад к концу теста. **Такое распределение активности может быть связано с сезонными праздниками в регионе EU. В предрождественский период активность неравномерная, что может сказаться на результатах теста;**\n",
    "\n",
    "\n",
    "- Не обнаружено всплесков каких-то конкрентых событий ОТНОСИТЕЛЬНО остальных по воронке в течение теста у обоих групп. **Судя по всему, в день регистрации пользователи чаще всего и совершают все остальные события по воронке (пользовательская активность в лайфтайме);**\n",
    "\n",
    "\n",
    "- **Не достигнут ожидаемый эффект ни на одном этапе воронки: за 14 дней с момента регистрации пользователи группы B не показали минимальное улучшение конверсии - 10%**:\n",
    "\n",
    "  - Конверсия из 'login' в 'product_page' у групп А и B: 63% и 56%, соответственно;\n",
    "\n",
    "  - Конверсия из 'product_page' в 'product_cart' у групп А и B: 48% и 50%, соответственно;\n",
    " \n",
    "  - Конверсия из 'product_cart' в 'purchase' у групп А и B одинаковая: 98% и 99%, соответственно.\n",
    "\n",
    "\n",
    "- **Конверсия в покупку у групп А и B различается незначительно: 30% и 28%, соответственно.**\n",
    "\n",
    "**`Обнаруженные особенности данных, которые могут негативно влиять на точность стат.теста:`**\n",
    "    \n",
    "- **Активные пользователи теста распределены по группам А и B неравномерно. Выборки группы B в 2,5 - 3 раза меньше выборок группы А, что может увеличивать погрешность теста.** \n",
    "\n",
    "\n",
    "- **Время проведения теста совпадает с маркетинговыми и другими активностями (втч. рождественские праздники), что влияет на активность пользователей и результаты АБ-теста в целом. Некорректно оценивать нововведения в периоды, сильно меняющие активность.**"
   ]
  },
  {
   "cell_type": "markdown",
   "metadata": {},
   "source": [
    "**`Оценка результатов A/B-тестирования:`**\n",
    "\n",
    "- **Статистически значимые различия ЕСТЬ на первом этапе воронки: из 'login' в 'product_page'.** На остальных этапах стат. значимых различий нет. \n",
    "\n",
    "\n",
    "- **Улучшенная рекомендательная система не показала ожидаемый эффект ни на одном этапе воронки: за 14 дней с момента регистрации пользователи группы B не показали минимальное улучшение конверсии - 10%. Конверсия из 'login' в 'product_page' снизилась.**\n",
    "\n",
    "\n",
    "- **АБ-тест проведён не корректно, что могло повлиять на конечный результат.**  "
   ]
  },
  {
   "cell_type": "markdown",
   "metadata": {},
   "source": [
    "# Рекомендации"
   ]
  },
  {
   "cell_type": "markdown",
   "metadata": {},
   "source": [
    "1. При некорректно проведённом АБ-тесте, результаты исследования показали, что улучшенная рекомендательная система оказала негативный эффект на этап воронки: из 'login' в 'product_page'.\n",
    "\n",
    "\n",
    "2. Нужно либо не применять тестируемые нововведения, либо корректно провести АБ-тест, в результате чего данные будут соотвествовать:\n",
    "\n",
    "\n",
    "- Пунктам ТЗ;\n",
    "\n",
    "- Время проведения теста не совпадает с маркетинговыми и другими активностями (втч. рождественские праздники и другие);\n",
    "\n",
    "- Аудитория теста не пересекается с аудиторией конкурирующего теста и равномерно распределена по тестовым группам."
   ]
  }
 ],
 "metadata": {
  "ExecuteTimeLog": [
   {
    "duration": 1908,
    "start_time": "2023-05-16T09:09:19.058Z"
   },
   {
    "duration": 2071,
    "start_time": "2023-05-16T09:09:21.274Z"
   },
   {
    "duration": 92,
    "start_time": "2023-05-16T09:10:04.478Z"
   },
   {
    "duration": 315,
    "start_time": "2023-05-16T09:10:32.087Z"
   },
   {
    "duration": 188,
    "start_time": "2023-05-16T09:10:58.994Z"
   },
   {
    "duration": 123,
    "start_time": "2023-05-16T09:13:01.192Z"
   },
   {
    "duration": 8,
    "start_time": "2023-05-16T09:13:25.989Z"
   },
   {
    "duration": 6,
    "start_time": "2023-05-16T09:13:53.582Z"
   },
   {
    "duration": 19,
    "start_time": "2023-05-16T09:14:02.477Z"
   },
   {
    "duration": 114,
    "start_time": "2023-05-16T09:14:41.048Z"
   },
   {
    "duration": 16,
    "start_time": "2023-05-16T09:14:51.790Z"
   },
   {
    "duration": 3,
    "start_time": "2023-05-16T09:16:00.682Z"
   },
   {
    "duration": 5,
    "start_time": "2023-05-16T09:16:06.616Z"
   },
   {
    "duration": 8,
    "start_time": "2023-05-16T09:17:14.363Z"
   },
   {
    "duration": 8,
    "start_time": "2023-05-16T09:17:15.591Z"
   },
   {
    "duration": 3,
    "start_time": "2023-05-16T09:17:26.796Z"
   },
   {
    "duration": 367,
    "start_time": "2023-05-16T09:18:33.596Z"
   },
   {
    "duration": 12,
    "start_time": "2023-05-16T09:18:59.782Z"
   },
   {
    "duration": 13,
    "start_time": "2023-05-16T09:19:10.932Z"
   },
   {
    "duration": 14,
    "start_time": "2023-05-16T09:19:37.715Z"
   },
   {
    "duration": 10,
    "start_time": "2023-05-16T09:19:55.803Z"
   },
   {
    "duration": 20,
    "start_time": "2023-05-16T09:20:55.476Z"
   },
   {
    "duration": 11,
    "start_time": "2023-05-16T09:21:01.013Z"
   },
   {
    "duration": 11,
    "start_time": "2023-05-16T09:21:57.708Z"
   },
   {
    "duration": 22,
    "start_time": "2023-05-16T09:23:11.512Z"
   },
   {
    "duration": 15,
    "start_time": "2023-05-16T09:25:02.813Z"
   },
   {
    "duration": 20,
    "start_time": "2023-05-16T09:26:02.304Z"
   },
   {
    "duration": 8,
    "start_time": "2023-05-16T09:27:44.825Z"
   },
   {
    "duration": 55,
    "start_time": "2023-05-16T09:28:56.504Z"
   },
   {
    "duration": 98,
    "start_time": "2023-05-16T09:29:08.306Z"
   },
   {
    "duration": 27,
    "start_time": "2023-05-16T09:30:03.592Z"
   },
   {
    "duration": 25,
    "start_time": "2023-05-16T09:34:09.354Z"
   },
   {
    "duration": 49,
    "start_time": "2023-05-16T09:34:32.900Z"
   },
   {
    "duration": 16,
    "start_time": "2023-05-16T09:34:56.000Z"
   },
   {
    "duration": 14,
    "start_time": "2023-05-16T09:36:17.192Z"
   },
   {
    "duration": 7,
    "start_time": "2023-05-16T09:36:55.187Z"
   },
   {
    "duration": 818,
    "start_time": "2023-05-16T09:37:10.789Z"
   },
   {
    "duration": 19,
    "start_time": "2023-05-16T09:37:21.206Z"
   },
   {
    "duration": 19,
    "start_time": "2023-05-16T09:39:06.092Z"
   },
   {
    "duration": 15,
    "start_time": "2023-05-16T09:40:48.454Z"
   },
   {
    "duration": 159,
    "start_time": "2023-05-16T09:54:41.955Z"
   },
   {
    "duration": 16,
    "start_time": "2023-05-16T09:54:55.950Z"
   },
   {
    "duration": 7,
    "start_time": "2023-05-16T10:10:52.744Z"
   },
   {
    "duration": 216,
    "start_time": "2023-05-16T10:10:55.304Z"
   },
   {
    "duration": 6,
    "start_time": "2023-05-16T10:10:57.527Z"
   },
   {
    "duration": 11,
    "start_time": "2023-05-16T10:10:59.455Z"
   },
   {
    "duration": 12,
    "start_time": "2023-05-16T10:11:02.161Z"
   },
   {
    "duration": 8,
    "start_time": "2023-05-16T10:11:04.203Z"
   },
   {
    "duration": 9,
    "start_time": "2023-05-16T10:11:22.461Z"
   },
   {
    "duration": 20,
    "start_time": "2023-05-16T10:11:28.257Z"
   },
   {
    "duration": 12,
    "start_time": "2023-05-16T10:11:30.062Z"
   },
   {
    "duration": 11,
    "start_time": "2023-05-16T10:11:32.857Z"
   },
   {
    "duration": 17,
    "start_time": "2023-05-16T10:11:37.711Z"
   },
   {
    "duration": 19,
    "start_time": "2023-05-16T10:11:40.663Z"
   },
   {
    "duration": 7,
    "start_time": "2023-05-16T10:11:43.458Z"
   },
   {
    "duration": 50,
    "start_time": "2023-05-16T10:11:45.761Z"
   },
   {
    "duration": 58,
    "start_time": "2023-05-16T10:11:47.989Z"
   },
   {
    "duration": 18,
    "start_time": "2023-05-16T10:11:50.493Z"
   },
   {
    "duration": 13,
    "start_time": "2023-05-16T10:11:53.511Z"
   },
   {
    "duration": 37,
    "start_time": "2023-05-16T10:11:55.853Z"
   },
   {
    "duration": 21,
    "start_time": "2023-05-16T10:11:58.661Z"
   },
   {
    "duration": 11,
    "start_time": "2023-05-16T10:12:05.208Z"
   },
   {
    "duration": 20,
    "start_time": "2023-05-16T10:12:08.056Z"
   },
   {
    "duration": 11,
    "start_time": "2023-05-16T10:12:36.490Z"
   },
   {
    "duration": 117,
    "start_time": "2023-05-16T10:12:39.791Z"
   },
   {
    "duration": 15,
    "start_time": "2023-05-16T10:12:42.965Z"
   },
   {
    "duration": 11,
    "start_time": "2023-05-16T10:20:23.898Z"
   },
   {
    "duration": 1137,
    "start_time": "2023-05-16T10:32:02.702Z"
   },
   {
    "duration": 574,
    "start_time": "2023-05-16T10:32:03.841Z"
   },
   {
    "duration": 29,
    "start_time": "2023-05-16T10:32:04.417Z"
   },
   {
    "duration": 93,
    "start_time": "2023-05-16T10:32:04.448Z"
   },
   {
    "duration": 47,
    "start_time": "2023-05-16T10:32:04.543Z"
   },
   {
    "duration": 125,
    "start_time": "2023-05-16T10:32:04.592Z"
   },
   {
    "duration": 7,
    "start_time": "2023-05-16T10:32:04.718Z"
   },
   {
    "duration": 28,
    "start_time": "2023-05-16T10:32:04.727Z"
   },
   {
    "duration": 17,
    "start_time": "2023-05-16T10:32:04.757Z"
   },
   {
    "duration": 19,
    "start_time": "2023-05-16T10:32:04.778Z"
   },
   {
    "duration": 15,
    "start_time": "2023-05-16T10:32:04.799Z"
   },
   {
    "duration": 50,
    "start_time": "2023-05-16T10:32:04.816Z"
   },
   {
    "duration": 2,
    "start_time": "2023-05-16T10:32:04.868Z"
   },
   {
    "duration": 33,
    "start_time": "2023-05-16T10:32:04.872Z"
   },
   {
    "duration": 272,
    "start_time": "2023-05-16T10:32:04.907Z"
   },
   {
    "duration": 6,
    "start_time": "2023-05-16T10:32:05.181Z"
   },
   {
    "duration": 13,
    "start_time": "2023-05-16T10:32:05.188Z"
   },
   {
    "duration": 10,
    "start_time": "2023-05-16T10:32:05.203Z"
   },
   {
    "duration": 12,
    "start_time": "2023-05-16T10:32:05.215Z"
   },
   {
    "duration": 52,
    "start_time": "2023-05-16T10:32:05.229Z"
   },
   {
    "duration": 8,
    "start_time": "2023-05-16T10:32:05.283Z"
   },
   {
    "duration": 9,
    "start_time": "2023-05-16T10:32:05.292Z"
   },
   {
    "duration": 13,
    "start_time": "2023-05-16T10:32:05.303Z"
   },
   {
    "duration": 14,
    "start_time": "2023-05-16T10:32:05.318Z"
   },
   {
    "duration": 47,
    "start_time": "2023-05-16T10:32:05.334Z"
   },
   {
    "duration": 76,
    "start_time": "2023-05-16T10:32:05.383Z"
   },
   {
    "duration": 57,
    "start_time": "2023-05-16T10:32:05.461Z"
   },
   {
    "duration": 22,
    "start_time": "2023-05-16T10:32:05.521Z"
   },
   {
    "duration": 36,
    "start_time": "2023-05-16T10:32:05.545Z"
   },
   {
    "duration": 51,
    "start_time": "2023-05-16T10:32:05.583Z"
   },
   {
    "duration": 42,
    "start_time": "2023-05-16T10:32:05.637Z"
   },
   {
    "duration": 8,
    "start_time": "2023-05-16T10:32:05.681Z"
   },
   {
    "duration": 20,
    "start_time": "2023-05-16T10:32:05.692Z"
   },
   {
    "duration": 12,
    "start_time": "2023-05-16T10:32:05.714Z"
   },
   {
    "duration": 195,
    "start_time": "2023-05-16T10:32:05.728Z"
   },
   {
    "duration": 27,
    "start_time": "2023-05-16T10:32:05.925Z"
   },
   {
    "duration": 135,
    "start_time": "2023-05-16T10:37:23.361Z"
   },
   {
    "duration": 1240,
    "start_time": "2023-05-16T10:37:44.966Z"
   },
   {
    "duration": 611,
    "start_time": "2023-05-16T10:37:46.208Z"
   },
   {
    "duration": 30,
    "start_time": "2023-05-16T10:37:46.821Z"
   },
   {
    "duration": 98,
    "start_time": "2023-05-16T10:37:46.854Z"
   },
   {
    "duration": 45,
    "start_time": "2023-05-16T10:37:46.955Z"
   },
   {
    "duration": 118,
    "start_time": "2023-05-16T10:37:47.002Z"
   },
   {
    "duration": 5,
    "start_time": "2023-05-16T10:37:47.122Z"
   },
   {
    "duration": 16,
    "start_time": "2023-05-16T10:37:47.128Z"
   },
   {
    "duration": 19,
    "start_time": "2023-05-16T10:37:47.146Z"
   },
   {
    "duration": 16,
    "start_time": "2023-05-16T10:37:47.168Z"
   },
   {
    "duration": 22,
    "start_time": "2023-05-16T10:37:47.185Z"
   },
   {
    "duration": 48,
    "start_time": "2023-05-16T10:37:47.209Z"
   },
   {
    "duration": 2,
    "start_time": "2023-05-16T10:37:47.259Z"
   },
   {
    "duration": 28,
    "start_time": "2023-05-16T10:37:47.263Z"
   },
   {
    "duration": 247,
    "start_time": "2023-05-16T10:37:47.292Z"
   },
   {
    "duration": 5,
    "start_time": "2023-05-16T10:37:47.542Z"
   },
   {
    "duration": 31,
    "start_time": "2023-05-16T10:37:47.548Z"
   },
   {
    "duration": 9,
    "start_time": "2023-05-16T10:37:47.581Z"
   },
   {
    "duration": 22,
    "start_time": "2023-05-16T10:37:47.592Z"
   },
   {
    "duration": 31,
    "start_time": "2023-05-16T10:37:47.617Z"
   },
   {
    "duration": 12,
    "start_time": "2023-05-16T10:37:47.650Z"
   },
   {
    "duration": 20,
    "start_time": "2023-05-16T10:37:47.664Z"
   },
   {
    "duration": 24,
    "start_time": "2023-05-16T10:37:47.686Z"
   },
   {
    "duration": 41,
    "start_time": "2023-05-16T10:37:47.712Z"
   },
   {
    "duration": 7,
    "start_time": "2023-05-16T10:37:47.755Z"
   },
   {
    "duration": 80,
    "start_time": "2023-05-16T10:37:47.763Z"
   },
   {
    "duration": 55,
    "start_time": "2023-05-16T10:37:47.845Z"
   },
   {
    "duration": 18,
    "start_time": "2023-05-16T10:37:47.903Z"
   },
   {
    "duration": 32,
    "start_time": "2023-05-16T10:37:47.923Z"
   },
   {
    "duration": 50,
    "start_time": "2023-05-16T10:37:47.957Z"
   },
   {
    "duration": 14,
    "start_time": "2023-05-16T10:37:48.009Z"
   },
   {
    "duration": 9,
    "start_time": "2023-05-16T10:37:48.025Z"
   },
   {
    "duration": 28,
    "start_time": "2023-05-16T10:37:48.036Z"
   },
   {
    "duration": 27,
    "start_time": "2023-05-16T10:37:48.066Z"
   },
   {
    "duration": 139,
    "start_time": "2023-05-16T10:37:48.095Z"
   },
   {
    "duration": 68,
    "start_time": "2023-05-16T10:37:48.235Z"
   },
   {
    "duration": 0,
    "start_time": "2023-05-16T10:37:48.306Z"
   },
   {
    "duration": 13,
    "start_time": "2023-05-16T10:37:59.625Z"
   },
   {
    "duration": 36,
    "start_time": "2023-05-16T10:38:07.554Z"
   },
   {
    "duration": 18,
    "start_time": "2023-05-16T10:38:20.494Z"
   },
   {
    "duration": 25,
    "start_time": "2023-05-16T10:38:44.394Z"
   },
   {
    "duration": 29,
    "start_time": "2023-05-16T10:39:09.515Z"
   },
   {
    "duration": 34,
    "start_time": "2023-05-16T10:39:12.268Z"
   },
   {
    "duration": 27,
    "start_time": "2023-05-16T10:39:25.005Z"
   },
   {
    "duration": 20,
    "start_time": "2023-05-16T10:42:51.292Z"
   },
   {
    "duration": 225,
    "start_time": "2023-05-16T10:42:56.355Z"
   },
   {
    "duration": 1091,
    "start_time": "2023-05-16T10:46:30.260Z"
   },
   {
    "duration": 12,
    "start_time": "2023-05-16T10:46:37.817Z"
   },
   {
    "duration": 17,
    "start_time": "2023-05-16T10:46:46.390Z"
   },
   {
    "duration": 12,
    "start_time": "2023-05-16T10:49:49.754Z"
   },
   {
    "duration": 17,
    "start_time": "2023-05-16T10:50:21.910Z"
   },
   {
    "duration": 28,
    "start_time": "2023-05-16T10:51:49.682Z"
   },
   {
    "duration": 36,
    "start_time": "2023-05-16T10:57:17.890Z"
   },
   {
    "duration": 19,
    "start_time": "2023-05-16T10:58:29.716Z"
   },
   {
    "duration": 15,
    "start_time": "2023-05-16T10:58:43.890Z"
   },
   {
    "duration": 128,
    "start_time": "2023-05-16T10:59:54.454Z"
   },
   {
    "duration": 64,
    "start_time": "2023-05-16T11:00:19.798Z"
   },
   {
    "duration": 160,
    "start_time": "2023-05-16T11:00:27.594Z"
   },
   {
    "duration": 28,
    "start_time": "2023-05-16T11:00:42.004Z"
   },
   {
    "duration": 16,
    "start_time": "2023-05-16T11:00:53.456Z"
   },
   {
    "duration": 130,
    "start_time": "2023-05-16T11:01:54.542Z"
   },
   {
    "duration": 25,
    "start_time": "2023-05-16T11:02:00.394Z"
   },
   {
    "duration": 127,
    "start_time": "2023-05-16T11:04:29.560Z"
   },
   {
    "duration": 123,
    "start_time": "2023-05-16T11:08:33.523Z"
   },
   {
    "duration": 17,
    "start_time": "2023-05-16T11:09:38.407Z"
   },
   {
    "duration": 1260,
    "start_time": "2023-05-16T11:12:17.158Z"
   },
   {
    "duration": 610,
    "start_time": "2023-05-16T11:12:18.420Z"
   },
   {
    "duration": 30,
    "start_time": "2023-05-16T11:12:19.032Z"
   },
   {
    "duration": 112,
    "start_time": "2023-05-16T11:12:19.064Z"
   },
   {
    "duration": 44,
    "start_time": "2023-05-16T11:12:19.179Z"
   },
   {
    "duration": 131,
    "start_time": "2023-05-16T11:12:19.224Z"
   },
   {
    "duration": 5,
    "start_time": "2023-05-16T11:12:19.357Z"
   },
   {
    "duration": 16,
    "start_time": "2023-05-16T11:12:19.364Z"
   },
   {
    "duration": 10,
    "start_time": "2023-05-16T11:12:19.382Z"
   },
   {
    "duration": 5,
    "start_time": "2023-05-16T11:12:19.393Z"
   },
   {
    "duration": 8,
    "start_time": "2023-05-16T11:12:19.400Z"
   },
   {
    "duration": 3,
    "start_time": "2023-05-16T11:12:19.410Z"
   },
   {
    "duration": 21,
    "start_time": "2023-05-16T11:12:19.415Z"
   },
   {
    "duration": 19,
    "start_time": "2023-05-16T11:12:19.439Z"
   },
   {
    "duration": 258,
    "start_time": "2023-05-16T11:12:19.479Z"
   },
   {
    "duration": 5,
    "start_time": "2023-05-16T11:12:19.739Z"
   },
   {
    "duration": 29,
    "start_time": "2023-05-16T11:12:19.746Z"
   },
   {
    "duration": 11,
    "start_time": "2023-05-16T11:12:19.777Z"
   },
   {
    "duration": 10,
    "start_time": "2023-05-16T11:12:19.789Z"
   },
   {
    "duration": 15,
    "start_time": "2023-05-16T11:12:19.801Z"
   },
   {
    "duration": 7,
    "start_time": "2023-05-16T11:12:19.818Z"
   },
   {
    "duration": 8,
    "start_time": "2023-05-16T11:12:19.827Z"
   },
   {
    "duration": 52,
    "start_time": "2023-05-16T11:12:19.837Z"
   },
   {
    "duration": 18,
    "start_time": "2023-05-16T11:12:19.891Z"
   },
   {
    "duration": 6,
    "start_time": "2023-05-16T11:12:19.911Z"
   },
   {
    "duration": 90,
    "start_time": "2023-05-16T11:12:19.919Z"
   },
   {
    "duration": 52,
    "start_time": "2023-05-16T11:12:20.011Z"
   },
   {
    "duration": 29,
    "start_time": "2023-05-16T11:12:20.064Z"
   },
   {
    "duration": 22,
    "start_time": "2023-05-16T11:12:20.095Z"
   },
   {
    "duration": 64,
    "start_time": "2023-05-16T11:12:20.119Z"
   },
   {
    "duration": 15,
    "start_time": "2023-05-16T11:12:20.185Z"
   },
   {
    "duration": 16,
    "start_time": "2023-05-16T11:12:20.202Z"
   },
   {
    "duration": 15,
    "start_time": "2023-05-16T11:12:20.220Z"
   },
   {
    "duration": 157,
    "start_time": "2023-05-16T11:12:20.237Z"
   },
   {
    "duration": 16,
    "start_time": "2023-05-16T11:12:20.396Z"
   },
   {
    "duration": 15,
    "start_time": "2023-05-16T11:12:20.414Z"
   },
   {
    "duration": 47,
    "start_time": "2023-05-16T11:12:20.431Z"
   },
   {
    "duration": 0,
    "start_time": "2023-05-16T11:12:20.479Z"
   },
   {
    "duration": 7,
    "start_time": "2023-05-16T11:39:50.660Z"
   },
   {
    "duration": 6,
    "start_time": "2023-05-16T11:39:59.715Z"
   },
   {
    "duration": 9,
    "start_time": "2023-05-16T11:40:01.499Z"
   },
   {
    "duration": 10,
    "start_time": "2023-05-16T11:40:03.403Z"
   },
   {
    "duration": 7,
    "start_time": "2023-05-16T11:40:06.242Z"
   },
   {
    "duration": 14,
    "start_time": "2023-05-16T11:40:09.899Z"
   },
   {
    "duration": 8,
    "start_time": "2023-05-16T11:40:12.164Z"
   },
   {
    "duration": 9,
    "start_time": "2023-05-16T11:40:15.054Z"
   },
   {
    "duration": 14,
    "start_time": "2023-05-16T11:40:17.903Z"
   },
   {
    "duration": 12,
    "start_time": "2023-05-16T11:40:21.295Z"
   },
   {
    "duration": 7,
    "start_time": "2023-05-16T11:40:23.518Z"
   },
   {
    "duration": 68,
    "start_time": "2023-05-16T11:40:25.875Z"
   },
   {
    "duration": 57,
    "start_time": "2023-05-16T11:40:28.460Z"
   },
   {
    "duration": 16,
    "start_time": "2023-05-16T11:40:31.356Z"
   },
   {
    "duration": 21,
    "start_time": "2023-05-16T11:40:34.266Z"
   },
   {
    "duration": 30,
    "start_time": "2023-05-16T11:40:36.371Z"
   },
   {
    "duration": 14,
    "start_time": "2023-05-16T11:40:38.826Z"
   },
   {
    "duration": 16,
    "start_time": "2023-05-16T11:40:41.434Z"
   },
   {
    "duration": 18,
    "start_time": "2023-05-16T11:40:44.123Z"
   },
   {
    "duration": 124,
    "start_time": "2023-05-16T11:40:48.311Z"
   },
   {
    "duration": 14,
    "start_time": "2023-05-16T11:41:14.090Z"
   },
   {
    "duration": 14,
    "start_time": "2023-05-16T11:41:22.923Z"
   },
   {
    "duration": 129,
    "start_time": "2023-05-16T11:49:40.354Z"
   },
   {
    "duration": 136,
    "start_time": "2023-05-16T11:50:01.112Z"
   },
   {
    "duration": 8,
    "start_time": "2023-05-16T11:55:15.603Z"
   },
   {
    "duration": 17,
    "start_time": "2023-05-16T11:59:02.997Z"
   },
   {
    "duration": 88,
    "start_time": "2023-05-16T11:59:11.359Z"
   },
   {
    "duration": 87,
    "start_time": "2023-05-16T12:03:48.951Z"
   },
   {
    "duration": 51,
    "start_time": "2023-05-16T12:04:06.608Z"
   },
   {
    "duration": 12,
    "start_time": "2023-05-16T12:04:27.817Z"
   },
   {
    "duration": 81,
    "start_time": "2023-05-16T12:05:47.155Z"
   },
   {
    "duration": 27,
    "start_time": "2023-05-16T12:06:11.008Z"
   },
   {
    "duration": 24,
    "start_time": "2023-05-16T12:19:21.606Z"
   },
   {
    "duration": 22,
    "start_time": "2023-05-16T12:20:09.422Z"
   },
   {
    "duration": 20,
    "start_time": "2023-05-16T12:21:21.718Z"
   },
   {
    "duration": 16,
    "start_time": "2023-05-16T12:21:27.220Z"
   },
   {
    "duration": 20,
    "start_time": "2023-05-16T12:21:37.259Z"
   },
   {
    "duration": 18,
    "start_time": "2023-05-16T12:21:42.153Z"
   },
   {
    "duration": 8,
    "start_time": "2023-05-16T12:26:54.799Z"
   },
   {
    "duration": 40,
    "start_time": "2023-05-16T12:39:29.510Z"
   },
   {
    "duration": 469,
    "start_time": "2023-05-16T12:39:33.400Z"
   },
   {
    "duration": 55,
    "start_time": "2023-05-16T12:39:57.818Z"
   },
   {
    "duration": 553,
    "start_time": "2023-05-16T12:40:03.976Z"
   },
   {
    "duration": 46,
    "start_time": "2023-05-16T12:44:59.163Z"
   },
   {
    "duration": 43,
    "start_time": "2023-05-16T12:45:18.622Z"
   },
   {
    "duration": 35,
    "start_time": "2023-05-16T12:47:49.263Z"
   },
   {
    "duration": 29,
    "start_time": "2023-05-16T12:47:53.867Z"
   },
   {
    "duration": 0,
    "start_time": "2023-05-16T12:48:19.952Z"
   },
   {
    "duration": 60,
    "start_time": "2023-05-16T12:48:24.077Z"
   },
   {
    "duration": 29,
    "start_time": "2023-05-16T12:51:50.838Z"
   },
   {
    "duration": 15,
    "start_time": "2023-05-16T12:53:28.354Z"
   },
   {
    "duration": 101,
    "start_time": "2023-05-16T12:54:26.801Z"
   },
   {
    "duration": 31,
    "start_time": "2023-05-16T12:54:36.599Z"
   },
   {
    "duration": 33,
    "start_time": "2023-05-16T12:55:09.579Z"
   },
   {
    "duration": 83,
    "start_time": "2023-05-16T12:55:19.173Z"
   },
   {
    "duration": 34,
    "start_time": "2023-05-16T12:55:37.071Z"
   },
   {
    "duration": 22,
    "start_time": "2023-05-16T12:56:41.125Z"
   },
   {
    "duration": 99,
    "start_time": "2023-05-16T12:59:09.560Z"
   },
   {
    "duration": 18,
    "start_time": "2023-05-16T13:01:39.405Z"
   },
   {
    "duration": 23,
    "start_time": "2023-05-16T13:01:41.059Z"
   },
   {
    "duration": 53,
    "start_time": "2023-05-16T13:02:13.297Z"
   },
   {
    "duration": 12,
    "start_time": "2023-05-16T13:02:26.198Z"
   },
   {
    "duration": 17,
    "start_time": "2023-05-16T13:02:55.560Z"
   },
   {
    "duration": 32,
    "start_time": "2023-05-16T13:14:20.892Z"
   },
   {
    "duration": 623,
    "start_time": "2023-05-16T13:29:15.446Z"
   },
   {
    "duration": 22,
    "start_time": "2023-05-16T13:43:39.009Z"
   },
   {
    "duration": 22,
    "start_time": "2023-05-16T13:43:51.317Z"
   },
   {
    "duration": 22,
    "start_time": "2023-05-16T13:43:59.248Z"
   },
   {
    "duration": 35,
    "start_time": "2023-05-16T13:44:28.498Z"
   },
   {
    "duration": 32,
    "start_time": "2023-05-16T13:44:37.830Z"
   },
   {
    "duration": 22,
    "start_time": "2023-05-16T13:44:50.746Z"
   },
   {
    "duration": 21,
    "start_time": "2023-05-16T13:45:10.449Z"
   },
   {
    "duration": 27,
    "start_time": "2023-05-16T13:46:17.534Z"
   },
   {
    "duration": 38,
    "start_time": "2023-05-16T13:46:38.898Z"
   },
   {
    "duration": 23,
    "start_time": "2023-05-16T13:46:44.303Z"
   },
   {
    "duration": 25,
    "start_time": "2023-05-16T13:46:55.916Z"
   },
   {
    "duration": 435,
    "start_time": "2023-05-16T13:47:58.706Z"
   },
   {
    "duration": 41,
    "start_time": "2023-05-16T13:48:48.802Z"
   },
   {
    "duration": 567,
    "start_time": "2023-05-16T13:48:56.305Z"
   },
   {
    "duration": 555,
    "start_time": "2023-05-16T13:51:13.755Z"
   },
   {
    "duration": 21,
    "start_time": "2023-05-16T13:51:31.204Z"
   },
   {
    "duration": 43,
    "start_time": "2023-05-16T13:51:54.342Z"
   },
   {
    "duration": 74,
    "start_time": "2023-05-16T13:52:05.155Z"
   },
   {
    "duration": 99,
    "start_time": "2023-05-16T13:52:18.644Z"
   },
   {
    "duration": 71,
    "start_time": "2023-05-16T13:54:36.101Z"
   },
   {
    "duration": 73,
    "start_time": "2023-05-16T13:55:02.853Z"
   },
   {
    "duration": 111,
    "start_time": "2023-05-16T13:55:24.818Z"
   },
   {
    "duration": 25,
    "start_time": "2023-05-16T13:55:34.700Z"
   },
   {
    "duration": 61,
    "start_time": "2023-05-16T13:55:43.251Z"
   },
   {
    "duration": 34,
    "start_time": "2023-05-16T13:56:08.923Z"
   },
   {
    "duration": 57,
    "start_time": "2023-05-16T13:56:51.404Z"
   },
   {
    "duration": 49,
    "start_time": "2023-05-16T13:57:13.856Z"
   },
   {
    "duration": 54,
    "start_time": "2023-05-16T13:57:19.759Z"
   },
   {
    "duration": 38,
    "start_time": "2023-05-16T13:57:24.743Z"
   },
   {
    "duration": 783,
    "start_time": "2023-05-16T13:57:58.664Z"
   },
   {
    "duration": 57,
    "start_time": "2023-05-16T14:00:00.603Z"
   },
   {
    "duration": 706,
    "start_time": "2023-05-16T14:00:34.117Z"
   },
   {
    "duration": 616,
    "start_time": "2023-05-16T14:00:55.518Z"
   },
   {
    "duration": 10,
    "start_time": "2023-05-16T14:02:13.000Z"
   },
   {
    "duration": 691,
    "start_time": "2023-05-16T14:02:28.018Z"
   },
   {
    "duration": 583,
    "start_time": "2023-05-16T14:02:48.320Z"
   },
   {
    "duration": 664,
    "start_time": "2023-05-16T14:03:59.842Z"
   },
   {
    "duration": 9,
    "start_time": "2023-05-16T14:07:03.009Z"
   },
   {
    "duration": 1681,
    "start_time": "2023-05-16T14:07:18.513Z"
   },
   {
    "duration": 763,
    "start_time": "2023-05-16T14:07:20.196Z"
   },
   {
    "duration": 35,
    "start_time": "2023-05-16T14:07:20.961Z"
   },
   {
    "duration": 132,
    "start_time": "2023-05-16T14:07:20.998Z"
   },
   {
    "duration": 54,
    "start_time": "2023-05-16T14:07:21.136Z"
   },
   {
    "duration": 175,
    "start_time": "2023-05-16T14:07:21.204Z"
   },
   {
    "duration": 6,
    "start_time": "2023-05-16T14:07:21.383Z"
   },
   {
    "duration": 36,
    "start_time": "2023-05-16T14:07:21.391Z"
   },
   {
    "duration": 23,
    "start_time": "2023-05-16T14:07:21.429Z"
   },
   {
    "duration": 21,
    "start_time": "2023-05-16T14:07:21.454Z"
   },
   {
    "duration": 30,
    "start_time": "2023-05-16T14:07:21.477Z"
   },
   {
    "duration": 49,
    "start_time": "2023-05-16T14:07:21.513Z"
   },
   {
    "duration": 342,
    "start_time": "2023-05-16T14:07:21.564Z"
   },
   {
    "duration": 6,
    "start_time": "2023-05-16T14:07:21.946Z"
   },
   {
    "duration": 41,
    "start_time": "2023-05-16T14:07:21.954Z"
   },
   {
    "duration": 32,
    "start_time": "2023-05-16T14:07:22.001Z"
   },
   {
    "duration": 21,
    "start_time": "2023-05-16T14:07:22.035Z"
   },
   {
    "duration": 36,
    "start_time": "2023-05-16T14:07:22.058Z"
   },
   {
    "duration": 17,
    "start_time": "2023-05-16T14:07:22.106Z"
   },
   {
    "duration": 19,
    "start_time": "2023-05-16T14:07:22.126Z"
   },
   {
    "duration": 28,
    "start_time": "2023-05-16T14:07:22.147Z"
   },
   {
    "duration": 22,
    "start_time": "2023-05-16T14:07:22.182Z"
   },
   {
    "duration": 33,
    "start_time": "2023-05-16T14:07:22.206Z"
   },
   {
    "duration": 45,
    "start_time": "2023-05-16T14:07:22.240Z"
   },
   {
    "duration": 82,
    "start_time": "2023-05-16T14:07:22.287Z"
   },
   {
    "duration": 24,
    "start_time": "2023-05-16T14:07:22.372Z"
   },
   {
    "duration": 32,
    "start_time": "2023-05-16T14:07:22.398Z"
   },
   {
    "duration": 55,
    "start_time": "2023-05-16T14:07:22.434Z"
   },
   {
    "duration": 27,
    "start_time": "2023-05-16T14:07:22.496Z"
   },
   {
    "duration": 28,
    "start_time": "2023-05-16T14:07:22.530Z"
   },
   {
    "duration": 21,
    "start_time": "2023-05-16T14:07:22.561Z"
   },
   {
    "duration": 237,
    "start_time": "2023-05-16T14:07:22.585Z"
   },
   {
    "duration": 28,
    "start_time": "2023-05-16T14:07:22.825Z"
   },
   {
    "duration": 38,
    "start_time": "2023-05-16T14:07:22.855Z"
   },
   {
    "duration": 35,
    "start_time": "2023-05-16T14:07:22.902Z"
   },
   {
    "duration": 11,
    "start_time": "2023-05-16T14:07:22.939Z"
   },
   {
    "duration": 52,
    "start_time": "2023-05-16T14:07:22.952Z"
   },
   {
    "duration": 562,
    "start_time": "2023-05-16T14:07:23.008Z"
   },
   {
    "duration": 25,
    "start_time": "2023-05-16T14:07:23.578Z"
   },
   {
    "duration": 800,
    "start_time": "2023-05-16T14:07:23.615Z"
   },
   {
    "duration": 241,
    "start_time": "2023-05-16T14:07:24.434Z"
   },
   {
    "duration": 0,
    "start_time": "2023-05-16T14:07:24.678Z"
   },
   {
    "duration": 8,
    "start_time": "2023-05-16T14:08:58.851Z"
   },
   {
    "duration": 1348,
    "start_time": "2023-05-16T14:09:09.443Z"
   },
   {
    "duration": 706,
    "start_time": "2023-05-16T14:09:10.793Z"
   },
   {
    "duration": 53,
    "start_time": "2023-05-16T14:09:11.505Z"
   },
   {
    "duration": 150,
    "start_time": "2023-05-16T14:09:11.561Z"
   },
   {
    "duration": 54,
    "start_time": "2023-05-16T14:09:11.713Z"
   },
   {
    "duration": 166,
    "start_time": "2023-05-16T14:09:11.769Z"
   },
   {
    "duration": 4,
    "start_time": "2023-05-16T14:09:11.938Z"
   },
   {
    "duration": 21,
    "start_time": "2023-05-16T14:09:11.944Z"
   },
   {
    "duration": 9,
    "start_time": "2023-05-16T14:09:11.967Z"
   },
   {
    "duration": 12,
    "start_time": "2023-05-16T14:09:11.978Z"
   },
   {
    "duration": 19,
    "start_time": "2023-05-16T14:09:11.993Z"
   },
   {
    "duration": 21,
    "start_time": "2023-05-16T14:09:12.018Z"
   },
   {
    "duration": 287,
    "start_time": "2023-05-16T14:09:12.041Z"
   },
   {
    "duration": 8,
    "start_time": "2023-05-16T14:09:12.332Z"
   },
   {
    "duration": 14,
    "start_time": "2023-05-16T14:09:12.342Z"
   },
   {
    "duration": 37,
    "start_time": "2023-05-16T14:09:12.357Z"
   },
   {
    "duration": 26,
    "start_time": "2023-05-16T14:09:12.395Z"
   },
   {
    "duration": 23,
    "start_time": "2023-05-16T14:09:12.423Z"
   },
   {
    "duration": 23,
    "start_time": "2023-05-16T14:09:12.447Z"
   },
   {
    "duration": 21,
    "start_time": "2023-05-16T14:09:12.472Z"
   },
   {
    "duration": 40,
    "start_time": "2023-05-16T14:09:12.495Z"
   },
   {
    "duration": 17,
    "start_time": "2023-05-16T14:09:12.537Z"
   },
   {
    "duration": 18,
    "start_time": "2023-05-16T14:09:12.555Z"
   },
   {
    "duration": 89,
    "start_time": "2023-05-16T14:09:12.575Z"
   },
   {
    "duration": 100,
    "start_time": "2023-05-16T14:09:12.666Z"
   },
   {
    "duration": 37,
    "start_time": "2023-05-16T14:09:12.768Z"
   },
   {
    "duration": 31,
    "start_time": "2023-05-16T14:09:12.806Z"
   },
   {
    "duration": 31,
    "start_time": "2023-05-16T14:09:12.839Z"
   },
   {
    "duration": 24,
    "start_time": "2023-05-16T14:09:12.871Z"
   },
   {
    "duration": 45,
    "start_time": "2023-05-16T14:09:12.899Z"
   },
   {
    "duration": 53,
    "start_time": "2023-05-16T14:09:12.947Z"
   },
   {
    "duration": 162,
    "start_time": "2023-05-16T14:09:13.007Z"
   },
   {
    "duration": 28,
    "start_time": "2023-05-16T14:09:13.171Z"
   },
   {
    "duration": 17,
    "start_time": "2023-05-16T14:09:13.201Z"
   },
   {
    "duration": 31,
    "start_time": "2023-05-16T14:09:13.222Z"
   },
   {
    "duration": 9,
    "start_time": "2023-05-16T14:09:13.255Z"
   },
   {
    "duration": 44,
    "start_time": "2023-05-16T14:09:13.266Z"
   },
   {
    "duration": 374,
    "start_time": "2023-05-16T14:09:13.312Z"
   },
   {
    "duration": 17,
    "start_time": "2023-05-16T14:09:13.688Z"
   },
   {
    "duration": 534,
    "start_time": "2023-05-16T14:09:13.707Z"
   },
   {
    "duration": 178,
    "start_time": "2023-05-16T14:09:14.246Z"
   },
   {
    "duration": 0,
    "start_time": "2023-05-16T14:09:14.426Z"
   },
   {
    "duration": 14,
    "start_time": "2023-05-16T14:13:51.818Z"
   },
   {
    "duration": 18,
    "start_time": "2023-05-16T14:13:54.920Z"
   },
   {
    "duration": 22,
    "start_time": "2023-05-16T14:14:53.049Z"
   },
   {
    "duration": 13,
    "start_time": "2023-05-16T14:14:58.162Z"
   },
   {
    "duration": 661,
    "start_time": "2023-05-16T14:15:00.207Z"
   },
   {
    "duration": 1492,
    "start_time": "2023-05-16T14:15:21.976Z"
   },
   {
    "duration": 972,
    "start_time": "2023-05-16T14:15:23.471Z"
   },
   {
    "duration": 40,
    "start_time": "2023-05-16T14:15:24.448Z"
   },
   {
    "duration": 175,
    "start_time": "2023-05-16T14:15:24.494Z"
   },
   {
    "duration": 69,
    "start_time": "2023-05-16T14:15:24.672Z"
   },
   {
    "duration": 201,
    "start_time": "2023-05-16T14:15:24.746Z"
   },
   {
    "duration": 6,
    "start_time": "2023-05-16T14:15:24.952Z"
   },
   {
    "duration": 7,
    "start_time": "2023-05-16T14:15:24.960Z"
   },
   {
    "duration": 10,
    "start_time": "2023-05-16T14:15:24.978Z"
   },
   {
    "duration": 32,
    "start_time": "2023-05-16T14:15:24.995Z"
   },
   {
    "duration": 14,
    "start_time": "2023-05-16T14:15:25.033Z"
   },
   {
    "duration": 22,
    "start_time": "2023-05-16T14:15:25.055Z"
   },
   {
    "duration": 339,
    "start_time": "2023-05-16T14:15:25.082Z"
   },
   {
    "duration": 10,
    "start_time": "2023-05-16T14:15:25.428Z"
   },
   {
    "duration": 14,
    "start_time": "2023-05-16T14:15:25.441Z"
   },
   {
    "duration": 38,
    "start_time": "2023-05-16T14:15:25.457Z"
   },
   {
    "duration": 28,
    "start_time": "2023-05-16T14:15:25.502Z"
   },
   {
    "duration": 25,
    "start_time": "2023-05-16T14:15:25.533Z"
   },
   {
    "duration": 21,
    "start_time": "2023-05-16T14:15:25.561Z"
   },
   {
    "duration": 13,
    "start_time": "2023-05-16T14:15:25.584Z"
   },
   {
    "duration": 32,
    "start_time": "2023-05-16T14:15:25.599Z"
   },
   {
    "duration": 40,
    "start_time": "2023-05-16T14:15:25.636Z"
   },
   {
    "duration": 13,
    "start_time": "2023-05-16T14:15:25.684Z"
   },
   {
    "duration": 77,
    "start_time": "2023-05-16T14:15:25.705Z"
   },
   {
    "duration": 106,
    "start_time": "2023-05-16T14:15:25.789Z"
   },
   {
    "duration": 37,
    "start_time": "2023-05-16T14:15:25.901Z"
   },
   {
    "duration": 24,
    "start_time": "2023-05-16T14:15:25.944Z"
   },
   {
    "duration": 52,
    "start_time": "2023-05-16T14:15:25.972Z"
   },
   {
    "duration": 33,
    "start_time": "2023-05-16T14:15:26.026Z"
   },
   {
    "duration": 27,
    "start_time": "2023-05-16T14:15:26.061Z"
   },
   {
    "duration": 40,
    "start_time": "2023-05-16T14:15:26.091Z"
   },
   {
    "duration": 259,
    "start_time": "2023-05-16T14:15:26.136Z"
   },
   {
    "duration": 35,
    "start_time": "2023-05-16T14:15:26.410Z"
   },
   {
    "duration": 19,
    "start_time": "2023-05-16T14:15:26.447Z"
   },
   {
    "duration": 37,
    "start_time": "2023-05-16T14:15:26.468Z"
   },
   {
    "duration": 18,
    "start_time": "2023-05-16T14:15:26.507Z"
   },
   {
    "duration": 36,
    "start_time": "2023-05-16T14:15:26.531Z"
   },
   {
    "duration": 403,
    "start_time": "2023-05-16T14:15:26.569Z"
   },
   {
    "duration": 23,
    "start_time": "2023-05-16T14:15:26.982Z"
   },
   {
    "duration": 589,
    "start_time": "2023-05-16T14:15:27.013Z"
   },
   {
    "duration": 178,
    "start_time": "2023-05-16T14:15:27.604Z"
   },
   {
    "duration": 0,
    "start_time": "2023-05-16T14:15:27.784Z"
   },
   {
    "duration": 7,
    "start_time": "2023-05-16T14:17:32.117Z"
   },
   {
    "duration": 4,
    "start_time": "2023-05-16T14:18:53.060Z"
   },
   {
    "duration": 5,
    "start_time": "2023-05-16T14:19:14.543Z"
   },
   {
    "duration": 4,
    "start_time": "2023-05-16T14:19:22.350Z"
   },
   {
    "duration": 5,
    "start_time": "2023-05-16T14:19:30.407Z"
   },
   {
    "duration": 1292,
    "start_time": "2023-05-16T14:21:28.742Z"
   },
   {
    "duration": 681,
    "start_time": "2023-05-16T14:21:30.036Z"
   },
   {
    "duration": 31,
    "start_time": "2023-05-16T14:21:30.719Z"
   },
   {
    "duration": 135,
    "start_time": "2023-05-16T14:21:30.753Z"
   },
   {
    "duration": 46,
    "start_time": "2023-05-16T14:21:30.890Z"
   },
   {
    "duration": 195,
    "start_time": "2023-05-16T14:21:30.938Z"
   },
   {
    "duration": 6,
    "start_time": "2023-05-16T14:21:31.136Z"
   },
   {
    "duration": 21,
    "start_time": "2023-05-16T14:21:31.144Z"
   },
   {
    "duration": 44,
    "start_time": "2023-05-16T14:21:31.168Z"
   },
   {
    "duration": 196,
    "start_time": "2023-05-16T14:21:31.215Z"
   },
   {
    "duration": 0,
    "start_time": "2023-05-16T14:21:31.414Z"
   },
   {
    "duration": 0,
    "start_time": "2023-05-16T14:21:31.415Z"
   },
   {
    "duration": 0,
    "start_time": "2023-05-16T14:21:31.416Z"
   },
   {
    "duration": 0,
    "start_time": "2023-05-16T14:21:31.418Z"
   },
   {
    "duration": 0,
    "start_time": "2023-05-16T14:21:31.419Z"
   },
   {
    "duration": 0,
    "start_time": "2023-05-16T14:21:31.420Z"
   },
   {
    "duration": 0,
    "start_time": "2023-05-16T14:21:31.422Z"
   },
   {
    "duration": 0,
    "start_time": "2023-05-16T14:21:31.423Z"
   },
   {
    "duration": 0,
    "start_time": "2023-05-16T14:21:31.424Z"
   },
   {
    "duration": 0,
    "start_time": "2023-05-16T14:21:31.425Z"
   },
   {
    "duration": 0,
    "start_time": "2023-05-16T14:21:31.426Z"
   },
   {
    "duration": 0,
    "start_time": "2023-05-16T14:21:31.427Z"
   },
   {
    "duration": 0,
    "start_time": "2023-05-16T14:21:31.428Z"
   },
   {
    "duration": 0,
    "start_time": "2023-05-16T14:21:31.429Z"
   },
   {
    "duration": 0,
    "start_time": "2023-05-16T14:21:31.430Z"
   },
   {
    "duration": 0,
    "start_time": "2023-05-16T14:21:31.431Z"
   },
   {
    "duration": 0,
    "start_time": "2023-05-16T14:21:31.432Z"
   },
   {
    "duration": 0,
    "start_time": "2023-05-16T14:21:31.434Z"
   },
   {
    "duration": 0,
    "start_time": "2023-05-16T14:21:31.435Z"
   },
   {
    "duration": 0,
    "start_time": "2023-05-16T14:21:31.436Z"
   },
   {
    "duration": 0,
    "start_time": "2023-05-16T14:21:31.437Z"
   },
   {
    "duration": 0,
    "start_time": "2023-05-16T14:21:31.438Z"
   },
   {
    "duration": 0,
    "start_time": "2023-05-16T14:21:31.438Z"
   },
   {
    "duration": 0,
    "start_time": "2023-05-16T14:21:31.439Z"
   },
   {
    "duration": 0,
    "start_time": "2023-05-16T14:21:31.439Z"
   },
   {
    "duration": 0,
    "start_time": "2023-05-16T14:21:31.440Z"
   },
   {
    "duration": 0,
    "start_time": "2023-05-16T14:21:31.440Z"
   },
   {
    "duration": 0,
    "start_time": "2023-05-16T14:21:31.477Z"
   },
   {
    "duration": 0,
    "start_time": "2023-05-16T14:21:31.478Z"
   },
   {
    "duration": 0,
    "start_time": "2023-05-16T14:21:31.479Z"
   },
   {
    "duration": 0,
    "start_time": "2023-05-16T14:21:31.480Z"
   },
   {
    "duration": 0,
    "start_time": "2023-05-16T14:21:31.484Z"
   },
   {
    "duration": 0,
    "start_time": "2023-05-16T14:21:31.487Z"
   },
   {
    "duration": 15,
    "start_time": "2023-05-16T14:22:00.741Z"
   },
   {
    "duration": 13,
    "start_time": "2023-05-16T14:22:08.795Z"
   },
   {
    "duration": 1266,
    "start_time": "2023-05-16T14:22:15.360Z"
   },
   {
    "duration": 629,
    "start_time": "2023-05-16T14:22:16.628Z"
   },
   {
    "duration": 37,
    "start_time": "2023-05-16T14:22:17.259Z"
   },
   {
    "duration": 109,
    "start_time": "2023-05-16T14:22:17.299Z"
   },
   {
    "duration": 42,
    "start_time": "2023-05-16T14:22:17.411Z"
   },
   {
    "duration": 195,
    "start_time": "2023-05-16T14:22:17.455Z"
   },
   {
    "duration": 7,
    "start_time": "2023-05-16T14:22:17.652Z"
   },
   {
    "duration": 34,
    "start_time": "2023-05-16T14:22:17.661Z"
   },
   {
    "duration": 13,
    "start_time": "2023-05-16T14:22:17.698Z"
   },
   {
    "duration": 141,
    "start_time": "2023-05-16T14:22:17.714Z"
   },
   {
    "duration": 0,
    "start_time": "2023-05-16T14:22:17.859Z"
   },
   {
    "duration": 0,
    "start_time": "2023-05-16T14:22:17.860Z"
   },
   {
    "duration": 0,
    "start_time": "2023-05-16T14:22:17.862Z"
   },
   {
    "duration": 0,
    "start_time": "2023-05-16T14:22:17.863Z"
   },
   {
    "duration": 0,
    "start_time": "2023-05-16T14:22:17.864Z"
   },
   {
    "duration": 0,
    "start_time": "2023-05-16T14:22:17.878Z"
   },
   {
    "duration": 1,
    "start_time": "2023-05-16T14:22:17.878Z"
   },
   {
    "duration": 0,
    "start_time": "2023-05-16T14:22:17.879Z"
   },
   {
    "duration": 0,
    "start_time": "2023-05-16T14:22:17.881Z"
   },
   {
    "duration": 0,
    "start_time": "2023-05-16T14:22:17.882Z"
   },
   {
    "duration": 0,
    "start_time": "2023-05-16T14:22:17.883Z"
   },
   {
    "duration": 0,
    "start_time": "2023-05-16T14:22:17.883Z"
   },
   {
    "duration": 0,
    "start_time": "2023-05-16T14:22:17.884Z"
   },
   {
    "duration": 0,
    "start_time": "2023-05-16T14:22:17.884Z"
   },
   {
    "duration": 0,
    "start_time": "2023-05-16T14:22:17.885Z"
   },
   {
    "duration": 0,
    "start_time": "2023-05-16T14:22:17.886Z"
   },
   {
    "duration": 0,
    "start_time": "2023-05-16T14:22:17.889Z"
   },
   {
    "duration": 0,
    "start_time": "2023-05-16T14:22:17.890Z"
   },
   {
    "duration": 0,
    "start_time": "2023-05-16T14:22:17.892Z"
   },
   {
    "duration": 0,
    "start_time": "2023-05-16T14:22:17.893Z"
   },
   {
    "duration": 0,
    "start_time": "2023-05-16T14:22:17.894Z"
   },
   {
    "duration": 1,
    "start_time": "2023-05-16T14:22:17.895Z"
   },
   {
    "duration": 0,
    "start_time": "2023-05-16T14:22:17.897Z"
   },
   {
    "duration": 0,
    "start_time": "2023-05-16T14:22:17.898Z"
   },
   {
    "duration": 0,
    "start_time": "2023-05-16T14:22:17.899Z"
   },
   {
    "duration": 0,
    "start_time": "2023-05-16T14:22:17.900Z"
   },
   {
    "duration": 0,
    "start_time": "2023-05-16T14:22:17.901Z"
   },
   {
    "duration": 0,
    "start_time": "2023-05-16T14:22:17.903Z"
   },
   {
    "duration": 0,
    "start_time": "2023-05-16T14:22:17.904Z"
   },
   {
    "duration": 0,
    "start_time": "2023-05-16T14:22:17.905Z"
   },
   {
    "duration": 0,
    "start_time": "2023-05-16T14:22:17.906Z"
   },
   {
    "duration": 0,
    "start_time": "2023-05-16T14:22:17.907Z"
   },
   {
    "duration": 0,
    "start_time": "2023-05-16T14:22:17.908Z"
   },
   {
    "duration": 5,
    "start_time": "2023-05-16T14:24:32.967Z"
   },
   {
    "duration": 11,
    "start_time": "2023-05-16T14:24:35.543Z"
   },
   {
    "duration": 1228,
    "start_time": "2023-05-16T14:24:53.364Z"
   },
   {
    "duration": 647,
    "start_time": "2023-05-16T14:24:54.597Z"
   },
   {
    "duration": 32,
    "start_time": "2023-05-16T14:24:55.247Z"
   },
   {
    "duration": 110,
    "start_time": "2023-05-16T14:24:55.283Z"
   },
   {
    "duration": 43,
    "start_time": "2023-05-16T14:24:55.396Z"
   },
   {
    "duration": 154,
    "start_time": "2023-05-16T14:24:55.441Z"
   },
   {
    "duration": 6,
    "start_time": "2023-05-16T14:24:55.600Z"
   },
   {
    "duration": 36,
    "start_time": "2023-05-16T14:24:55.608Z"
   },
   {
    "duration": 11,
    "start_time": "2023-05-16T14:24:55.647Z"
   },
   {
    "duration": 6,
    "start_time": "2023-05-16T14:24:55.664Z"
   },
   {
    "duration": 30,
    "start_time": "2023-05-16T14:24:55.671Z"
   },
   {
    "duration": 24,
    "start_time": "2023-05-16T14:24:55.703Z"
   },
   {
    "duration": 240,
    "start_time": "2023-05-16T14:24:55.728Z"
   },
   {
    "duration": 16,
    "start_time": "2023-05-16T14:24:55.977Z"
   },
   {
    "duration": 16,
    "start_time": "2023-05-16T14:24:55.998Z"
   },
   {
    "duration": 14,
    "start_time": "2023-05-16T14:24:56.015Z"
   },
   {
    "duration": 31,
    "start_time": "2023-05-16T14:24:56.032Z"
   },
   {
    "duration": 31,
    "start_time": "2023-05-16T14:24:56.066Z"
   },
   {
    "duration": 10,
    "start_time": "2023-05-16T14:24:56.099Z"
   },
   {
    "duration": 23,
    "start_time": "2023-05-16T14:24:56.111Z"
   },
   {
    "duration": 34,
    "start_time": "2023-05-16T14:24:56.137Z"
   },
   {
    "duration": 29,
    "start_time": "2023-05-16T14:24:56.173Z"
   },
   {
    "duration": 36,
    "start_time": "2023-05-16T14:24:56.204Z"
   },
   {
    "duration": 79,
    "start_time": "2023-05-16T14:24:56.242Z"
   },
   {
    "duration": 76,
    "start_time": "2023-05-16T14:24:56.323Z"
   },
   {
    "duration": 28,
    "start_time": "2023-05-16T14:24:56.403Z"
   },
   {
    "duration": 14,
    "start_time": "2023-05-16T14:24:56.433Z"
   },
   {
    "duration": 49,
    "start_time": "2023-05-16T14:24:56.451Z"
   },
   {
    "duration": 22,
    "start_time": "2023-05-16T14:24:56.502Z"
   },
   {
    "duration": 18,
    "start_time": "2023-05-16T14:24:56.527Z"
   },
   {
    "duration": 48,
    "start_time": "2023-05-16T14:24:56.547Z"
   },
   {
    "duration": 138,
    "start_time": "2023-05-16T14:24:56.597Z"
   },
   {
    "duration": 18,
    "start_time": "2023-05-16T14:24:56.737Z"
   },
   {
    "duration": 42,
    "start_time": "2023-05-16T14:24:56.757Z"
   },
   {
    "duration": 17,
    "start_time": "2023-05-16T14:24:56.800Z"
   },
   {
    "duration": 17,
    "start_time": "2023-05-16T14:24:56.819Z"
   },
   {
    "duration": 31,
    "start_time": "2023-05-16T14:24:56.838Z"
   },
   {
    "duration": 338,
    "start_time": "2023-05-16T14:24:56.882Z"
   },
   {
    "duration": 7,
    "start_time": "2023-05-16T14:24:57.222Z"
   },
   {
    "duration": 553,
    "start_time": "2023-05-16T14:24:57.231Z"
   },
   {
    "duration": 166,
    "start_time": "2023-05-16T14:24:57.786Z"
   },
   {
    "duration": 0,
    "start_time": "2023-05-16T14:24:57.955Z"
   },
   {
    "duration": 438,
    "start_time": "2023-05-16T14:26:58.814Z"
   },
   {
    "duration": 6,
    "start_time": "2023-05-16T14:28:45.414Z"
   },
   {
    "duration": 6,
    "start_time": "2023-05-16T14:29:12.634Z"
   },
   {
    "duration": 5,
    "start_time": "2023-05-16T14:32:55.053Z"
   },
   {
    "duration": 16,
    "start_time": "2023-05-16T14:33:28.239Z"
   },
   {
    "duration": 7,
    "start_time": "2023-05-16T14:33:30.428Z"
   },
   {
    "duration": 12,
    "start_time": "2023-05-16T14:33:33.444Z"
   },
   {
    "duration": 8,
    "start_time": "2023-05-16T14:33:36.532Z"
   },
   {
    "duration": 17,
    "start_time": "2023-05-16T14:33:40.435Z"
   },
   {
    "duration": 6,
    "start_time": "2023-05-16T14:33:42.628Z"
   },
   {
    "duration": 16,
    "start_time": "2023-05-16T14:33:56.129Z"
   },
   {
    "duration": 5,
    "start_time": "2023-05-16T14:33:59.942Z"
   },
   {
    "duration": 8,
    "start_time": "2023-05-16T14:35:52.529Z"
   },
   {
    "duration": 1226,
    "start_time": "2023-05-16T14:35:58.229Z"
   },
   {
    "duration": 733,
    "start_time": "2023-05-16T14:35:59.457Z"
   },
   {
    "duration": 40,
    "start_time": "2023-05-16T14:36:00.192Z"
   },
   {
    "duration": 118,
    "start_time": "2023-05-16T14:36:00.234Z"
   },
   {
    "duration": 67,
    "start_time": "2023-05-16T14:36:00.355Z"
   },
   {
    "duration": 141,
    "start_time": "2023-05-16T14:36:00.424Z"
   },
   {
    "duration": 6,
    "start_time": "2023-05-16T14:36:00.567Z"
   },
   {
    "duration": 53,
    "start_time": "2023-05-16T14:36:00.578Z"
   },
   {
    "duration": 41,
    "start_time": "2023-05-16T14:36:00.633Z"
   },
   {
    "duration": 35,
    "start_time": "2023-05-16T14:36:00.675Z"
   },
   {
    "duration": 30,
    "start_time": "2023-05-16T14:36:00.713Z"
   },
   {
    "duration": 31,
    "start_time": "2023-05-16T14:36:00.746Z"
   },
   {
    "duration": 300,
    "start_time": "2023-05-16T14:36:00.784Z"
   },
   {
    "duration": 12,
    "start_time": "2023-05-16T14:36:01.089Z"
   },
   {
    "duration": 22,
    "start_time": "2023-05-16T14:36:01.103Z"
   },
   {
    "duration": 22,
    "start_time": "2023-05-16T14:36:01.127Z"
   },
   {
    "duration": 22,
    "start_time": "2023-05-16T14:36:01.151Z"
   },
   {
    "duration": 45,
    "start_time": "2023-05-16T14:36:01.175Z"
   },
   {
    "duration": 38,
    "start_time": "2023-05-16T14:36:01.222Z"
   },
   {
    "duration": 40,
    "start_time": "2023-05-16T14:36:01.262Z"
   },
   {
    "duration": 50,
    "start_time": "2023-05-16T14:36:01.304Z"
   },
   {
    "duration": 25,
    "start_time": "2023-05-16T14:36:01.356Z"
   },
   {
    "duration": 45,
    "start_time": "2023-05-16T14:36:01.383Z"
   },
   {
    "duration": 97,
    "start_time": "2023-05-16T14:36:01.430Z"
   },
   {
    "duration": 86,
    "start_time": "2023-05-16T14:36:01.529Z"
   },
   {
    "duration": 16,
    "start_time": "2023-05-16T14:36:01.617Z"
   },
   {
    "duration": 42,
    "start_time": "2023-05-16T14:36:01.635Z"
   },
   {
    "duration": 65,
    "start_time": "2023-05-16T14:36:01.682Z"
   },
   {
    "duration": 21,
    "start_time": "2023-05-16T14:36:01.749Z"
   },
   {
    "duration": 40,
    "start_time": "2023-05-16T14:36:01.772Z"
   },
   {
    "duration": 29,
    "start_time": "2023-05-16T14:36:01.814Z"
   },
   {
    "duration": 225,
    "start_time": "2023-05-16T14:36:01.845Z"
   },
   {
    "duration": 91,
    "start_time": "2023-05-16T14:36:02.072Z"
   },
   {
    "duration": 0,
    "start_time": "2023-05-16T14:36:02.165Z"
   },
   {
    "duration": 0,
    "start_time": "2023-05-16T14:36:02.166Z"
   },
   {
    "duration": 0,
    "start_time": "2023-05-16T14:36:02.168Z"
   },
   {
    "duration": 0,
    "start_time": "2023-05-16T14:36:02.169Z"
   },
   {
    "duration": 0,
    "start_time": "2023-05-16T14:36:02.170Z"
   },
   {
    "duration": 0,
    "start_time": "2023-05-16T14:36:02.171Z"
   },
   {
    "duration": 0,
    "start_time": "2023-05-16T14:36:02.173Z"
   },
   {
    "duration": 0,
    "start_time": "2023-05-16T14:36:02.173Z"
   },
   {
    "duration": 0,
    "start_time": "2023-05-16T14:36:02.175Z"
   },
   {
    "duration": 0,
    "start_time": "2023-05-16T14:36:02.176Z"
   },
   {
    "duration": 0,
    "start_time": "2023-05-16T14:36:02.178Z"
   },
   {
    "duration": 0,
    "start_time": "2023-05-16T14:36:02.180Z"
   },
   {
    "duration": 131,
    "start_time": "2023-05-16T14:38:22.731Z"
   },
   {
    "duration": 70,
    "start_time": "2023-05-16T14:38:50.544Z"
   },
   {
    "duration": 1242,
    "start_time": "2023-05-16T14:38:50.704Z"
   },
   {
    "duration": 612,
    "start_time": "2023-05-16T14:38:51.948Z"
   },
   {
    "duration": 40,
    "start_time": "2023-05-16T14:38:52.562Z"
   },
   {
    "duration": 129,
    "start_time": "2023-05-16T14:38:52.606Z"
   },
   {
    "duration": 60,
    "start_time": "2023-05-16T14:38:52.737Z"
   },
   {
    "duration": 119,
    "start_time": "2023-05-16T14:38:52.802Z"
   },
   {
    "duration": 7,
    "start_time": "2023-05-16T14:38:52.923Z"
   },
   {
    "duration": 6,
    "start_time": "2023-05-16T14:38:52.932Z"
   },
   {
    "duration": 8,
    "start_time": "2023-05-16T14:38:52.939Z"
   },
   {
    "duration": 13,
    "start_time": "2023-05-16T14:38:52.978Z"
   },
   {
    "duration": 8,
    "start_time": "2023-05-16T14:38:52.993Z"
   },
   {
    "duration": 14,
    "start_time": "2023-05-16T14:38:53.003Z"
   },
   {
    "duration": 280,
    "start_time": "2023-05-16T14:38:53.020Z"
   },
   {
    "duration": 7,
    "start_time": "2023-05-16T14:38:53.305Z"
   },
   {
    "duration": 16,
    "start_time": "2023-05-16T14:38:53.314Z"
   },
   {
    "duration": 13,
    "start_time": "2023-05-16T14:38:53.331Z"
   },
   {
    "duration": 18,
    "start_time": "2023-05-16T14:38:53.345Z"
   },
   {
    "duration": 50,
    "start_time": "2023-05-16T14:38:53.365Z"
   },
   {
    "duration": 11,
    "start_time": "2023-05-16T14:38:53.417Z"
   },
   {
    "duration": 12,
    "start_time": "2023-05-16T14:38:53.430Z"
   },
   {
    "duration": 19,
    "start_time": "2023-05-16T14:38:53.443Z"
   },
   {
    "duration": 35,
    "start_time": "2023-05-16T14:38:53.464Z"
   },
   {
    "duration": 6,
    "start_time": "2023-05-16T14:38:53.502Z"
   },
   {
    "duration": 52,
    "start_time": "2023-05-16T14:38:53.511Z"
   },
   {
    "duration": 96,
    "start_time": "2023-05-16T14:38:53.574Z"
   },
   {
    "duration": 31,
    "start_time": "2023-05-16T14:38:53.672Z"
   },
   {
    "duration": 21,
    "start_time": "2023-05-16T14:38:53.706Z"
   },
   {
    "duration": 69,
    "start_time": "2023-05-16T14:38:53.732Z"
   },
   {
    "duration": 23,
    "start_time": "2023-05-16T14:38:53.803Z"
   },
   {
    "duration": 40,
    "start_time": "2023-05-16T14:38:53.829Z"
   },
   {
    "duration": 36,
    "start_time": "2023-05-16T14:38:53.875Z"
   },
   {
    "duration": 153,
    "start_time": "2023-05-16T14:38:53.913Z"
   },
   {
    "duration": 15,
    "start_time": "2023-05-16T14:38:54.068Z"
   },
   {
    "duration": 32,
    "start_time": "2023-05-16T14:38:54.087Z"
   },
   {
    "duration": 13,
    "start_time": "2023-05-16T14:38:54.124Z"
   },
   {
    "duration": 5,
    "start_time": "2023-05-16T14:38:54.139Z"
   },
   {
    "duration": 40,
    "start_time": "2023-05-16T14:38:54.147Z"
   },
   {
    "duration": 13,
    "start_time": "2023-05-16T14:38:54.194Z"
   },
   {
    "duration": 38,
    "start_time": "2023-05-16T14:38:54.209Z"
   },
   {
    "duration": 337,
    "start_time": "2023-05-16T14:38:54.249Z"
   },
   {
    "duration": 9,
    "start_time": "2023-05-16T14:38:54.588Z"
   },
   {
    "duration": 15,
    "start_time": "2023-05-16T14:38:54.602Z"
   },
   {
    "duration": 487,
    "start_time": "2023-05-16T14:38:54.619Z"
   },
   {
    "duration": 124,
    "start_time": "2023-05-16T14:38:55.108Z"
   },
   {
    "duration": 0,
    "start_time": "2023-05-16T14:38:55.234Z"
   },
   {
    "duration": 21,
    "start_time": "2023-05-16T14:41:32.098Z"
   },
   {
    "duration": 1217,
    "start_time": "2023-05-16T14:41:58.120Z"
   },
   {
    "duration": 708,
    "start_time": "2023-05-16T14:41:59.340Z"
   },
   {
    "duration": 39,
    "start_time": "2023-05-16T14:42:00.051Z"
   },
   {
    "duration": 141,
    "start_time": "2023-05-16T14:42:00.092Z"
   },
   {
    "duration": 61,
    "start_time": "2023-05-16T14:42:00.236Z"
   },
   {
    "duration": 187,
    "start_time": "2023-05-16T14:42:00.304Z"
   },
   {
    "duration": 7,
    "start_time": "2023-05-16T14:42:00.493Z"
   },
   {
    "duration": 51,
    "start_time": "2023-05-16T14:42:00.508Z"
   },
   {
    "duration": 37,
    "start_time": "2023-05-16T14:42:00.561Z"
   },
   {
    "duration": 33,
    "start_time": "2023-05-16T14:42:00.601Z"
   },
   {
    "duration": 19,
    "start_time": "2023-05-16T14:42:00.636Z"
   },
   {
    "duration": 42,
    "start_time": "2023-05-16T14:42:00.657Z"
   },
   {
    "duration": 264,
    "start_time": "2023-05-16T14:42:00.701Z"
   },
   {
    "duration": 10,
    "start_time": "2023-05-16T14:42:00.982Z"
   },
   {
    "duration": 31,
    "start_time": "2023-05-16T14:42:00.995Z"
   },
   {
    "duration": 18,
    "start_time": "2023-05-16T14:42:01.028Z"
   },
   {
    "duration": 39,
    "start_time": "2023-05-16T14:42:01.048Z"
   },
   {
    "duration": 45,
    "start_time": "2023-05-16T14:42:01.092Z"
   },
   {
    "duration": 34,
    "start_time": "2023-05-16T14:42:01.140Z"
   },
   {
    "duration": 52,
    "start_time": "2023-05-16T14:42:01.175Z"
   },
   {
    "duration": 24,
    "start_time": "2023-05-16T14:42:01.228Z"
   },
   {
    "duration": 44,
    "start_time": "2023-05-16T14:42:01.254Z"
   },
   {
    "duration": 45,
    "start_time": "2023-05-16T14:42:01.300Z"
   },
   {
    "duration": 86,
    "start_time": "2023-05-16T14:42:01.347Z"
   },
   {
    "duration": 76,
    "start_time": "2023-05-16T14:42:01.435Z"
   },
   {
    "duration": 20,
    "start_time": "2023-05-16T14:42:01.518Z"
   },
   {
    "duration": 36,
    "start_time": "2023-05-16T14:42:01.540Z"
   },
   {
    "duration": 87,
    "start_time": "2023-05-16T14:42:01.578Z"
   },
   {
    "duration": 44,
    "start_time": "2023-05-16T14:42:01.667Z"
   },
   {
    "duration": 34,
    "start_time": "2023-05-16T14:42:01.716Z"
   },
   {
    "duration": 41,
    "start_time": "2023-05-16T14:42:01.752Z"
   },
   {
    "duration": 244,
    "start_time": "2023-05-16T14:42:01.796Z"
   },
   {
    "duration": 24,
    "start_time": "2023-05-16T14:42:02.042Z"
   },
   {
    "duration": 30,
    "start_time": "2023-05-16T14:42:02.084Z"
   },
   {
    "duration": 24,
    "start_time": "2023-05-16T14:42:02.116Z"
   },
   {
    "duration": 20,
    "start_time": "2023-05-16T14:42:02.142Z"
   },
   {
    "duration": 26,
    "start_time": "2023-05-16T14:42:02.164Z"
   },
   {
    "duration": 32,
    "start_time": "2023-05-16T14:42:02.192Z"
   },
   {
    "duration": 380,
    "start_time": "2023-05-16T14:42:02.227Z"
   },
   {
    "duration": 6,
    "start_time": "2023-05-16T14:42:02.608Z"
   },
   {
    "duration": 23,
    "start_time": "2023-05-16T14:42:02.617Z"
   },
   {
    "duration": 504,
    "start_time": "2023-05-16T14:42:02.642Z"
   },
   {
    "duration": 158,
    "start_time": "2023-05-16T14:42:03.148Z"
   },
   {
    "duration": 0,
    "start_time": "2023-05-16T14:42:03.307Z"
   },
   {
    "duration": 22,
    "start_time": "2023-05-16T14:43:33.134Z"
   },
   {
    "duration": 7,
    "start_time": "2023-05-16T14:43:35.366Z"
   },
   {
    "duration": 18,
    "start_time": "2023-05-16T14:43:42.624Z"
   },
   {
    "duration": 31,
    "start_time": "2023-05-16T14:43:56.459Z"
   },
   {
    "duration": 9,
    "start_time": "2023-05-16T14:44:30.057Z"
   },
   {
    "duration": 21,
    "start_time": "2023-05-16T14:44:57.698Z"
   },
   {
    "duration": 1743,
    "start_time": "2023-05-16T14:45:14.138Z"
   },
   {
    "duration": 5,
    "start_time": "2023-05-16T14:45:23.252Z"
   },
   {
    "duration": 8,
    "start_time": "2023-05-16T14:45:49.258Z"
   },
   {
    "duration": 15,
    "start_time": "2023-05-16T14:46:29.655Z"
   },
   {
    "duration": 13,
    "start_time": "2023-05-16T14:46:55.354Z"
   },
   {
    "duration": 9,
    "start_time": "2023-05-16T14:46:58.795Z"
   },
   {
    "duration": 23,
    "start_time": "2023-05-16T14:47:02.290Z"
   },
   {
    "duration": 456,
    "start_time": "2023-05-16T14:48:26.228Z"
   },
   {
    "duration": 15,
    "start_time": "2023-05-16T14:53:35.671Z"
   },
   {
    "duration": 17,
    "start_time": "2023-05-16T14:54:11.811Z"
   },
   {
    "duration": 14,
    "start_time": "2023-05-16T14:54:54.940Z"
   },
   {
    "duration": 26,
    "start_time": "2023-05-16T14:55:02.510Z"
   },
   {
    "duration": 46,
    "start_time": "2023-05-16T14:55:37.723Z"
   },
   {
    "duration": 16,
    "start_time": "2023-05-16T14:57:45.148Z"
   },
   {
    "duration": 26,
    "start_time": "2023-05-16T14:58:33.587Z"
   },
   {
    "duration": 41,
    "start_time": "2023-05-16T14:59:44.876Z"
   },
   {
    "duration": 10,
    "start_time": "2023-05-16T15:02:16.046Z"
   },
   {
    "duration": 36,
    "start_time": "2023-05-16T15:24:16.060Z"
   },
   {
    "duration": 12,
    "start_time": "2023-05-16T15:24:20.279Z"
   },
   {
    "duration": 627,
    "start_time": "2023-05-16T15:24:47.299Z"
   },
   {
    "duration": 579,
    "start_time": "2023-05-16T15:25:02.855Z"
   },
   {
    "duration": 440,
    "start_time": "2023-05-16T15:25:32.325Z"
   },
   {
    "duration": 22,
    "start_time": "2023-05-16T15:25:40.798Z"
   },
   {
    "duration": 71,
    "start_time": "2023-05-16T15:28:09.267Z"
   },
   {
    "duration": 38,
    "start_time": "2023-05-16T15:28:24.334Z"
   },
   {
    "duration": 26,
    "start_time": "2023-05-16T15:31:00.832Z"
   },
   {
    "duration": 93,
    "start_time": "2023-05-16T15:31:07.764Z"
   },
   {
    "duration": 40,
    "start_time": "2023-05-16T15:31:41.397Z"
   },
   {
    "duration": 39,
    "start_time": "2023-05-16T15:32:05.393Z"
   },
   {
    "duration": 21,
    "start_time": "2023-05-16T15:32:54.600Z"
   },
   {
    "duration": 31,
    "start_time": "2023-05-16T15:32:57.181Z"
   },
   {
    "duration": 61,
    "start_time": "2023-05-16T15:32:59.652Z"
   },
   {
    "duration": 27,
    "start_time": "2023-05-16T15:33:10.122Z"
   },
   {
    "duration": 35,
    "start_time": "2023-05-16T15:33:18.151Z"
   },
   {
    "duration": 50,
    "start_time": "2023-05-16T15:34:22.838Z"
   },
   {
    "duration": 41,
    "start_time": "2023-05-16T15:34:46.970Z"
   },
   {
    "duration": 49,
    "start_time": "2023-05-16T15:35:08.335Z"
   },
   {
    "duration": 38,
    "start_time": "2023-05-16T15:36:04.833Z"
   },
   {
    "duration": 503,
    "start_time": "2023-05-16T15:36:13.968Z"
   },
   {
    "duration": 651,
    "start_time": "2023-05-16T15:43:38.971Z"
   },
   {
    "duration": 695,
    "start_time": "2023-05-16T15:43:45.547Z"
   },
   {
    "duration": 30,
    "start_time": "2023-05-16T15:49:28.402Z"
   },
   {
    "duration": 31,
    "start_time": "2023-05-16T15:50:21.864Z"
   },
   {
    "duration": 25,
    "start_time": "2023-05-16T15:53:52.134Z"
   },
   {
    "duration": 18,
    "start_time": "2023-05-16T15:54:03.508Z"
   },
   {
    "duration": 37,
    "start_time": "2023-05-16T15:54:07.806Z"
   },
   {
    "duration": 24,
    "start_time": "2023-05-16T15:54:45.639Z"
   },
   {
    "duration": 30,
    "start_time": "2023-05-16T15:54:50.997Z"
   },
   {
    "duration": 26,
    "start_time": "2023-05-16T15:55:36.269Z"
   },
   {
    "duration": 59,
    "start_time": "2023-05-16T15:56:18.502Z"
   },
   {
    "duration": 164,
    "start_time": "2023-05-16T15:56:25.291Z"
   },
   {
    "duration": 37,
    "start_time": "2023-05-16T15:57:05.311Z"
   },
   {
    "duration": 100,
    "start_time": "2023-05-16T15:57:25.512Z"
   },
   {
    "duration": 13,
    "start_time": "2023-05-16T15:57:31.047Z"
   },
   {
    "duration": 48,
    "start_time": "2023-05-16T15:57:36.455Z"
   },
   {
    "duration": 449,
    "start_time": "2023-05-16T17:27:04.958Z"
   },
   {
    "duration": 12,
    "start_time": "2023-05-16T17:29:35.017Z"
   },
   {
    "duration": 433,
    "start_time": "2023-05-16T17:29:56.800Z"
   },
   {
    "duration": 18,
    "start_time": "2023-05-16T17:37:03.958Z"
   },
   {
    "duration": 18,
    "start_time": "2023-05-16T17:37:06.341Z"
   },
   {
    "duration": 27,
    "start_time": "2023-05-16T17:40:19.492Z"
   },
   {
    "duration": 20,
    "start_time": "2023-05-16T17:41:34.507Z"
   },
   {
    "duration": 22,
    "start_time": "2023-05-16T17:42:30.197Z"
   },
   {
    "duration": 10,
    "start_time": "2023-05-16T17:43:23.839Z"
   },
   {
    "duration": 29,
    "start_time": "2023-05-16T17:44:42.818Z"
   },
   {
    "duration": 38,
    "start_time": "2023-05-16T17:50:24.718Z"
   },
   {
    "duration": 13,
    "start_time": "2023-05-16T17:50:36.199Z"
   },
   {
    "duration": 389,
    "start_time": "2023-05-16T17:51:35.473Z"
   },
   {
    "duration": 338,
    "start_time": "2023-05-16T17:53:50.321Z"
   },
   {
    "duration": 364,
    "start_time": "2023-05-16T17:53:56.734Z"
   },
   {
    "duration": 16,
    "start_time": "2023-05-16T18:09:38.531Z"
   },
   {
    "duration": 15,
    "start_time": "2023-05-16T18:10:01.358Z"
   },
   {
    "duration": 216,
    "start_time": "2023-05-16T18:11:26.404Z"
   },
   {
    "duration": 19,
    "start_time": "2023-05-16T18:12:32.094Z"
   },
   {
    "duration": 19,
    "start_time": "2023-05-16T18:12:40.736Z"
   },
   {
    "duration": 229,
    "start_time": "2023-05-16T18:12:45.436Z"
   },
   {
    "duration": 238,
    "start_time": "2023-05-16T18:14:00.872Z"
   },
   {
    "duration": 225,
    "start_time": "2023-05-16T18:14:12.957Z"
   },
   {
    "duration": 19,
    "start_time": "2023-05-16T18:15:56.740Z"
   },
   {
    "duration": 250,
    "start_time": "2023-05-16T18:16:11.277Z"
   },
   {
    "duration": 17,
    "start_time": "2023-05-16T18:16:32.394Z"
   },
   {
    "duration": 23,
    "start_time": "2023-05-16T18:16:42.599Z"
   },
   {
    "duration": 21,
    "start_time": "2023-05-16T18:17:03.487Z"
   },
   {
    "duration": 22,
    "start_time": "2023-05-16T18:17:06.092Z"
   },
   {
    "duration": 223,
    "start_time": "2023-05-16T18:17:13.431Z"
   },
   {
    "duration": 212,
    "start_time": "2023-05-16T18:17:33.200Z"
   },
   {
    "duration": 7,
    "start_time": "2023-05-16T18:19:03.336Z"
   },
   {
    "duration": 733,
    "start_time": "2023-05-16T18:22:02.929Z"
   },
   {
    "duration": 829,
    "start_time": "2023-05-16T18:22:36.892Z"
   },
   {
    "duration": 35,
    "start_time": "2023-05-16T18:22:58.444Z"
   },
   {
    "duration": 33,
    "start_time": "2023-05-16T18:23:16.193Z"
   },
   {
    "duration": 10,
    "start_time": "2023-05-16T18:23:43.766Z"
   },
   {
    "duration": 45,
    "start_time": "2023-05-16T18:24:48.782Z"
   },
   {
    "duration": 29,
    "start_time": "2023-05-16T18:25:40.005Z"
   },
   {
    "duration": 8,
    "start_time": "2023-05-16T18:25:47.117Z"
   },
   {
    "duration": 219,
    "start_time": "2023-05-16T18:26:18.102Z"
   },
   {
    "duration": 39,
    "start_time": "2023-05-16T18:26:49.095Z"
   },
   {
    "duration": 244,
    "start_time": "2023-05-16T18:27:10.543Z"
   },
   {
    "duration": 310,
    "start_time": "2023-05-16T18:27:21.798Z"
   },
   {
    "duration": 235,
    "start_time": "2023-05-16T18:27:41.636Z"
   },
   {
    "duration": 41,
    "start_time": "2023-05-16T18:27:53.155Z"
   },
   {
    "duration": 224,
    "start_time": "2023-05-16T18:27:55.229Z"
   },
   {
    "duration": 221,
    "start_time": "2023-05-16T18:28:07.147Z"
   },
   {
    "duration": 224,
    "start_time": "2023-05-16T18:28:21.292Z"
   },
   {
    "duration": 218,
    "start_time": "2023-05-16T18:28:36.291Z"
   },
   {
    "duration": 248,
    "start_time": "2023-05-16T18:34:48.415Z"
   },
   {
    "duration": 261,
    "start_time": "2023-05-16T18:35:11.341Z"
   },
   {
    "duration": 60,
    "start_time": "2023-05-16T18:42:32.542Z"
   },
   {
    "duration": 446,
    "start_time": "2023-05-16T18:46:31.231Z"
   },
   {
    "duration": 589,
    "start_time": "2023-05-16T18:46:40.459Z"
   },
   {
    "duration": 42,
    "start_time": "2023-05-16T18:47:06.721Z"
   },
   {
    "duration": 469,
    "start_time": "2023-05-16T18:47:18.754Z"
   },
   {
    "duration": 356,
    "start_time": "2023-05-16T18:48:50.546Z"
   },
   {
    "duration": 472,
    "start_time": "2023-05-16T18:52:03.607Z"
   },
   {
    "duration": 488,
    "start_time": "2023-05-16T18:53:46.211Z"
   },
   {
    "duration": 10,
    "start_time": "2023-05-16T18:54:14.453Z"
   },
   {
    "duration": 9,
    "start_time": "2023-05-16T18:54:32.054Z"
   },
   {
    "duration": 12,
    "start_time": "2023-05-16T18:54:37.591Z"
   },
   {
    "duration": 571,
    "start_time": "2023-05-16T18:56:24.342Z"
   },
   {
    "duration": 470,
    "start_time": "2023-05-16T18:56:38.145Z"
   },
   {
    "duration": 336,
    "start_time": "2023-05-16T19:00:02.129Z"
   },
   {
    "duration": 11,
    "start_time": "2023-05-16T19:04:25.937Z"
   },
   {
    "duration": 5,
    "start_time": "2023-05-16T19:05:56.319Z"
   },
   {
    "duration": 13,
    "start_time": "2023-05-16T19:06:19.191Z"
   },
   {
    "duration": 6,
    "start_time": "2023-05-16T19:07:06.892Z"
   },
   {
    "duration": 8,
    "start_time": "2023-05-16T19:10:07.827Z"
   },
   {
    "duration": 9,
    "start_time": "2023-05-16T19:10:36.803Z"
   },
   {
    "duration": 19,
    "start_time": "2023-05-16T19:10:57.074Z"
   },
   {
    "duration": 66,
    "start_time": "2023-05-16T19:11:14.210Z"
   },
   {
    "duration": 17,
    "start_time": "2023-05-16T19:11:17.492Z"
   },
   {
    "duration": 11,
    "start_time": "2023-05-16T19:11:40.045Z"
   },
   {
    "duration": 442,
    "start_time": "2023-05-16T19:19:14.101Z"
   },
   {
    "duration": 215,
    "start_time": "2023-05-16T19:22:08.532Z"
   },
   {
    "duration": 315,
    "start_time": "2023-05-16T19:24:41.591Z"
   },
   {
    "duration": 14,
    "start_time": "2023-05-16T19:30:49.300Z"
   },
   {
    "duration": 13,
    "start_time": "2023-05-16T19:59:34.325Z"
   },
   {
    "duration": 26,
    "start_time": "2023-05-16T19:59:38.753Z"
   },
   {
    "duration": 27,
    "start_time": "2023-05-16T20:00:39.940Z"
   },
   {
    "duration": 27,
    "start_time": "2023-05-16T20:00:46.741Z"
   },
   {
    "duration": 26,
    "start_time": "2023-05-16T20:01:32.355Z"
   },
   {
    "duration": 23,
    "start_time": "2023-05-16T20:01:56.019Z"
   },
   {
    "duration": 29,
    "start_time": "2023-05-16T20:02:24.906Z"
   },
   {
    "duration": 51,
    "start_time": "2023-05-16T20:02:45.755Z"
   },
   {
    "duration": 25,
    "start_time": "2023-05-16T20:03:36.295Z"
   },
   {
    "duration": 30,
    "start_time": "2023-05-16T20:04:12.605Z"
   },
   {
    "duration": 19,
    "start_time": "2023-05-16T20:04:28.114Z"
   },
   {
    "duration": 32,
    "start_time": "2023-05-16T20:05:06.804Z"
   },
   {
    "duration": 35,
    "start_time": "2023-05-16T20:07:42.396Z"
   },
   {
    "duration": 38,
    "start_time": "2023-05-16T20:07:53.313Z"
   },
   {
    "duration": 46,
    "start_time": "2023-05-16T20:08:14.518Z"
   },
   {
    "duration": 45,
    "start_time": "2023-05-16T20:08:35.359Z"
   },
   {
    "duration": 30,
    "start_time": "2023-05-16T20:09:05.099Z"
   },
   {
    "duration": 35,
    "start_time": "2023-05-16T20:10:14.678Z"
   },
   {
    "duration": 19,
    "start_time": "2023-05-16T20:10:38.221Z"
   },
   {
    "duration": 35,
    "start_time": "2023-05-16T20:10:47.623Z"
   },
   {
    "duration": 42,
    "start_time": "2023-05-16T20:11:04.299Z"
   },
   {
    "duration": 15,
    "start_time": "2023-05-16T20:12:08.699Z"
   },
   {
    "duration": 329,
    "start_time": "2023-05-16T20:12:28.026Z"
   },
   {
    "duration": 5,
    "start_time": "2023-05-16T20:13:11.427Z"
   },
   {
    "duration": 53,
    "start_time": "2023-05-16T20:13:44.339Z"
   },
   {
    "duration": 13,
    "start_time": "2023-05-16T20:14:06.935Z"
   },
   {
    "duration": 14,
    "start_time": "2023-05-16T20:14:36.131Z"
   },
   {
    "duration": 28,
    "start_time": "2023-05-16T20:16:29.735Z"
   },
   {
    "duration": 13,
    "start_time": "2023-05-16T20:20:39.733Z"
   },
   {
    "duration": 4,
    "start_time": "2023-05-16T20:30:49.115Z"
   },
   {
    "duration": 9,
    "start_time": "2023-05-16T20:33:32.138Z"
   },
   {
    "duration": 4,
    "start_time": "2023-05-16T20:34:14.829Z"
   },
   {
    "duration": 57,
    "start_time": "2023-05-16T20:36:53.536Z"
   },
   {
    "duration": 55,
    "start_time": "2023-05-16T20:37:52.226Z"
   },
   {
    "duration": 11,
    "start_time": "2023-05-16T20:38:05.804Z"
   },
   {
    "duration": 23,
    "start_time": "2023-05-16T20:59:40.728Z"
   },
   {
    "duration": 17,
    "start_time": "2023-05-16T20:59:50.608Z"
   },
   {
    "duration": 787,
    "start_time": "2023-05-16T21:02:55.107Z"
   },
   {
    "duration": 63,
    "start_time": "2023-05-16T21:04:25.262Z"
   },
   {
    "duration": 29,
    "start_time": "2023-05-16T21:04:33.664Z"
   },
   {
    "duration": 4,
    "start_time": "2023-05-16T21:05:38.614Z"
   },
   {
    "duration": 10,
    "start_time": "2023-05-16T21:06:08.684Z"
   },
   {
    "duration": 14,
    "start_time": "2023-05-16T21:06:34.776Z"
   },
   {
    "duration": 9,
    "start_time": "2023-05-16T21:06:52.894Z"
   },
   {
    "duration": 8,
    "start_time": "2023-05-16T21:07:52.119Z"
   },
   {
    "duration": 31,
    "start_time": "2023-05-16T21:31:50.596Z"
   },
   {
    "duration": 54,
    "start_time": "2023-05-17T09:31:22.008Z"
   },
   {
    "duration": 1492,
    "start_time": "2023-05-17T09:31:27.935Z"
   },
   {
    "duration": 1703,
    "start_time": "2023-05-17T09:31:29.429Z"
   },
   {
    "duration": 81,
    "start_time": "2023-05-17T09:31:31.134Z"
   },
   {
    "duration": 549,
    "start_time": "2023-05-17T09:31:31.218Z"
   },
   {
    "duration": 140,
    "start_time": "2023-05-17T09:31:31.769Z"
   },
   {
    "duration": 122,
    "start_time": "2023-05-17T09:31:31.910Z"
   },
   {
    "duration": 4,
    "start_time": "2023-05-17T09:31:32.034Z"
   },
   {
    "duration": 15,
    "start_time": "2023-05-17T09:31:32.050Z"
   },
   {
    "duration": 8,
    "start_time": "2023-05-17T09:31:32.070Z"
   },
   {
    "duration": 6,
    "start_time": "2023-05-17T09:31:32.081Z"
   },
   {
    "duration": 9,
    "start_time": "2023-05-17T09:31:32.089Z"
   },
   {
    "duration": 11,
    "start_time": "2023-05-17T09:31:32.100Z"
   },
   {
    "duration": 40,
    "start_time": "2023-05-17T09:31:32.112Z"
   },
   {
    "duration": 20,
    "start_time": "2023-05-17T09:31:32.155Z"
   },
   {
    "duration": 21,
    "start_time": "2023-05-17T09:31:32.177Z"
   },
   {
    "duration": 248,
    "start_time": "2023-05-17T09:31:32.199Z"
   },
   {
    "duration": 16,
    "start_time": "2023-05-17T09:31:32.459Z"
   },
   {
    "duration": 20,
    "start_time": "2023-05-17T09:31:32.479Z"
   },
   {
    "duration": 11,
    "start_time": "2023-05-17T09:31:32.501Z"
   },
   {
    "duration": 14,
    "start_time": "2023-05-17T09:31:32.514Z"
   },
   {
    "duration": 32,
    "start_time": "2023-05-17T09:31:32.530Z"
   },
   {
    "duration": 13,
    "start_time": "2023-05-17T09:31:32.565Z"
   },
   {
    "duration": 8,
    "start_time": "2023-05-17T09:31:32.579Z"
   },
   {
    "duration": 14,
    "start_time": "2023-05-17T09:31:32.588Z"
   },
   {
    "duration": 48,
    "start_time": "2023-05-17T09:31:32.604Z"
   },
   {
    "duration": 9,
    "start_time": "2023-05-17T09:31:32.655Z"
   },
   {
    "duration": 56,
    "start_time": "2023-05-17T09:31:32.667Z"
   },
   {
    "duration": 72,
    "start_time": "2023-05-17T09:31:32.755Z"
   },
   {
    "duration": 28,
    "start_time": "2023-05-17T09:31:32.828Z"
   },
   {
    "duration": 21,
    "start_time": "2023-05-17T09:31:32.858Z"
   },
   {
    "duration": 34,
    "start_time": "2023-05-17T09:31:32.880Z"
   },
   {
    "duration": 13,
    "start_time": "2023-05-17T09:31:32.916Z"
   },
   {
    "duration": 42,
    "start_time": "2023-05-17T09:31:32.930Z"
   },
   {
    "duration": 16,
    "start_time": "2023-05-17T09:31:32.975Z"
   },
   {
    "duration": 141,
    "start_time": "2023-05-17T09:31:32.993Z"
   },
   {
    "duration": 37,
    "start_time": "2023-05-17T09:31:33.135Z"
   },
   {
    "duration": 12,
    "start_time": "2023-05-17T09:31:33.175Z"
   },
   {
    "duration": 13,
    "start_time": "2023-05-17T09:31:33.188Z"
   },
   {
    "duration": 6,
    "start_time": "2023-05-17T09:31:33.202Z"
   },
   {
    "duration": 56,
    "start_time": "2023-05-17T09:31:33.210Z"
   },
   {
    "duration": 352,
    "start_time": "2023-05-17T09:31:33.269Z"
   },
   {
    "duration": 10,
    "start_time": "2023-05-17T09:31:33.623Z"
   },
   {
    "duration": 12,
    "start_time": "2023-05-17T09:31:33.649Z"
   },
   {
    "duration": 261,
    "start_time": "2023-05-17T09:31:33.664Z"
   },
   {
    "duration": 4,
    "start_time": "2023-05-17T09:31:33.927Z"
   },
   {
    "duration": 20,
    "start_time": "2023-05-17T09:31:33.932Z"
   },
   {
    "duration": 615,
    "start_time": "2023-05-17T09:31:33.955Z"
   },
   {
    "duration": 8,
    "start_time": "2023-05-17T09:31:34.572Z"
   },
   {
    "duration": 313,
    "start_time": "2023-05-17T09:31:34.582Z"
   },
   {
    "duration": 326,
    "start_time": "2023-05-17T09:31:34.897Z"
   },
   {
    "duration": 42,
    "start_time": "2023-05-17T09:31:35.225Z"
   },
   {
    "duration": 242,
    "start_time": "2023-05-17T09:31:35.269Z"
   },
   {
    "duration": 15,
    "start_time": "2023-05-17T09:31:35.514Z"
   },
   {
    "duration": 1037,
    "start_time": "2023-05-17T09:31:35.531Z"
   },
   {
    "duration": 0,
    "start_time": "2023-05-17T09:31:36.570Z"
   },
   {
    "duration": 0,
    "start_time": "2023-05-17T09:31:36.571Z"
   },
   {
    "duration": 0,
    "start_time": "2023-05-17T09:31:36.572Z"
   },
   {
    "duration": 0,
    "start_time": "2023-05-17T09:31:36.573Z"
   },
   {
    "duration": 11,
    "start_time": "2023-05-17T09:32:17.419Z"
   },
   {
    "duration": 15,
    "start_time": "2023-05-17T09:33:17.244Z"
   },
   {
    "duration": 7,
    "start_time": "2023-05-17T09:33:54.039Z"
   },
   {
    "duration": 13,
    "start_time": "2023-05-17T09:33:59.171Z"
   },
   {
    "duration": 15,
    "start_time": "2023-05-17T09:34:29.912Z"
   },
   {
    "duration": 9,
    "start_time": "2023-05-17T09:35:29.351Z"
   },
   {
    "duration": 12,
    "start_time": "2023-05-17T09:35:56.791Z"
   },
   {
    "duration": 28,
    "start_time": "2023-05-17T09:37:00.828Z"
   },
   {
    "duration": 19,
    "start_time": "2023-05-17T09:37:36.662Z"
   },
   {
    "duration": 51,
    "start_time": "2023-05-17T09:37:50.906Z"
   },
   {
    "duration": 10,
    "start_time": "2023-05-17T09:37:55.721Z"
   },
   {
    "duration": 8,
    "start_time": "2023-05-17T09:39:22.626Z"
   },
   {
    "duration": 16,
    "start_time": "2023-05-17T09:42:24.007Z"
   },
   {
    "duration": 8,
    "start_time": "2023-05-17T09:42:29.220Z"
   },
   {
    "duration": 12,
    "start_time": "2023-05-17T09:42:32.253Z"
   },
   {
    "duration": 46,
    "start_time": "2023-05-17T10:25:49.355Z"
   },
   {
    "duration": 5,
    "start_time": "2023-05-17T10:42:08.846Z"
   },
   {
    "duration": 1296,
    "start_time": "2023-05-17T10:43:49.830Z"
   },
   {
    "duration": 562,
    "start_time": "2023-05-17T10:43:51.128Z"
   },
   {
    "duration": 27,
    "start_time": "2023-05-17T10:43:51.692Z"
   },
   {
    "duration": 89,
    "start_time": "2023-05-17T10:43:51.721Z"
   },
   {
    "duration": 41,
    "start_time": "2023-05-17T10:43:51.811Z"
   },
   {
    "duration": 124,
    "start_time": "2023-05-17T10:43:51.853Z"
   },
   {
    "duration": 5,
    "start_time": "2023-05-17T10:43:51.979Z"
   },
   {
    "duration": 20,
    "start_time": "2023-05-17T10:43:51.986Z"
   },
   {
    "duration": 17,
    "start_time": "2023-05-17T10:43:52.008Z"
   },
   {
    "duration": 10,
    "start_time": "2023-05-17T10:43:52.027Z"
   },
   {
    "duration": 11,
    "start_time": "2023-05-17T10:43:52.039Z"
   },
   {
    "duration": 11,
    "start_time": "2023-05-17T10:43:52.051Z"
   },
   {
    "duration": 9,
    "start_time": "2023-05-17T10:43:52.063Z"
   },
   {
    "duration": 15,
    "start_time": "2023-05-17T10:43:52.073Z"
   },
   {
    "duration": 26,
    "start_time": "2023-05-17T10:43:52.089Z"
   },
   {
    "duration": 235,
    "start_time": "2023-05-17T10:43:52.116Z"
   },
   {
    "duration": 5,
    "start_time": "2023-05-17T10:43:52.352Z"
   },
   {
    "duration": 12,
    "start_time": "2023-05-17T10:43:52.359Z"
   },
   {
    "duration": 8,
    "start_time": "2023-05-17T10:43:52.373Z"
   },
   {
    "duration": 6,
    "start_time": "2023-05-17T10:43:52.383Z"
   },
   {
    "duration": 13,
    "start_time": "2023-05-17T10:43:52.390Z"
   },
   {
    "duration": 46,
    "start_time": "2023-05-17T10:43:52.405Z"
   },
   {
    "duration": 8,
    "start_time": "2023-05-17T10:43:52.453Z"
   },
   {
    "duration": 12,
    "start_time": "2023-05-17T10:43:52.464Z"
   },
   {
    "duration": 15,
    "start_time": "2023-05-17T10:43:52.478Z"
   },
   {
    "duration": 6,
    "start_time": "2023-05-17T10:43:52.495Z"
   },
   {
    "duration": 77,
    "start_time": "2023-05-17T10:43:52.503Z"
   },
   {
    "duration": 67,
    "start_time": "2023-05-17T10:43:52.584Z"
   },
   {
    "duration": 15,
    "start_time": "2023-05-17T10:43:52.653Z"
   },
   {
    "duration": 14,
    "start_time": "2023-05-17T10:43:52.669Z"
   },
   {
    "duration": 26,
    "start_time": "2023-05-17T10:43:52.684Z"
   },
   {
    "duration": 44,
    "start_time": "2023-05-17T10:43:52.712Z"
   },
   {
    "duration": 17,
    "start_time": "2023-05-17T10:43:52.758Z"
   },
   {
    "duration": 16,
    "start_time": "2023-05-17T10:43:52.777Z"
   },
   {
    "duration": 137,
    "start_time": "2023-05-17T10:43:52.795Z"
   },
   {
    "duration": 26,
    "start_time": "2023-05-17T10:43:52.934Z"
   },
   {
    "duration": 11,
    "start_time": "2023-05-17T10:43:52.961Z"
   },
   {
    "duration": 15,
    "start_time": "2023-05-17T10:43:52.974Z"
   },
   {
    "duration": 8,
    "start_time": "2023-05-17T10:43:52.990Z"
   },
   {
    "duration": 15,
    "start_time": "2023-05-17T10:43:52.999Z"
   },
   {
    "duration": 337,
    "start_time": "2023-05-17T10:43:53.015Z"
   },
   {
    "duration": 10,
    "start_time": "2023-05-17T10:43:53.354Z"
   },
   {
    "duration": 16,
    "start_time": "2023-05-17T10:43:53.366Z"
   },
   {
    "duration": 259,
    "start_time": "2023-05-17T10:43:53.384Z"
   },
   {
    "duration": 5,
    "start_time": "2023-05-17T10:43:53.649Z"
   },
   {
    "duration": 12,
    "start_time": "2023-05-17T10:43:53.655Z"
   },
   {
    "duration": 459,
    "start_time": "2023-05-17T10:43:53.669Z"
   },
   {
    "duration": 9,
    "start_time": "2023-05-17T10:43:54.131Z"
   },
   {
    "duration": 374,
    "start_time": "2023-05-17T10:43:54.149Z"
   },
   {
    "duration": 360,
    "start_time": "2023-05-17T10:43:54.525Z"
   },
   {
    "duration": 44,
    "start_time": "2023-05-17T10:43:54.888Z"
   },
   {
    "duration": 0,
    "start_time": "2023-05-17T10:43:54.933Z"
   },
   {
    "duration": 0,
    "start_time": "2023-05-17T10:43:54.934Z"
   },
   {
    "duration": 0,
    "start_time": "2023-05-17T10:43:54.935Z"
   },
   {
    "duration": 0,
    "start_time": "2023-05-17T10:43:54.936Z"
   },
   {
    "duration": 0,
    "start_time": "2023-05-17T10:43:54.937Z"
   },
   {
    "duration": 0,
    "start_time": "2023-05-17T10:43:54.938Z"
   },
   {
    "duration": 1294,
    "start_time": "2023-05-17T10:57:43.515Z"
   },
   {
    "duration": 597,
    "start_time": "2023-05-17T10:57:44.812Z"
   },
   {
    "duration": 29,
    "start_time": "2023-05-17T10:57:45.410Z"
   },
   {
    "duration": 101,
    "start_time": "2023-05-17T10:57:45.441Z"
   },
   {
    "duration": 50,
    "start_time": "2023-05-17T10:57:45.544Z"
   },
   {
    "duration": 122,
    "start_time": "2023-05-17T10:57:45.596Z"
   },
   {
    "duration": 5,
    "start_time": "2023-05-17T10:57:45.719Z"
   },
   {
    "duration": 10,
    "start_time": "2023-05-17T10:57:45.726Z"
   },
   {
    "duration": 10,
    "start_time": "2023-05-17T10:57:45.755Z"
   },
   {
    "duration": 16,
    "start_time": "2023-05-17T10:57:45.768Z"
   },
   {
    "duration": 18,
    "start_time": "2023-05-17T10:57:45.785Z"
   },
   {
    "duration": 34,
    "start_time": "2023-05-17T10:57:45.805Z"
   },
   {
    "duration": 14,
    "start_time": "2023-05-17T10:57:45.841Z"
   },
   {
    "duration": 13,
    "start_time": "2023-05-17T10:57:45.856Z"
   },
   {
    "duration": 18,
    "start_time": "2023-05-17T10:57:45.871Z"
   },
   {
    "duration": 247,
    "start_time": "2023-05-17T10:57:45.891Z"
   },
   {
    "duration": 28,
    "start_time": "2023-05-17T10:57:46.140Z"
   },
   {
    "duration": 13,
    "start_time": "2023-05-17T10:57:46.171Z"
   },
   {
    "duration": 20,
    "start_time": "2023-05-17T10:57:46.186Z"
   },
   {
    "duration": 9,
    "start_time": "2023-05-17T10:57:46.209Z"
   },
   {
    "duration": 31,
    "start_time": "2023-05-17T10:57:46.219Z"
   },
   {
    "duration": 10,
    "start_time": "2023-05-17T10:57:46.261Z"
   },
   {
    "duration": 20,
    "start_time": "2023-05-17T10:57:46.273Z"
   },
   {
    "duration": 37,
    "start_time": "2023-05-17T10:57:46.295Z"
   },
   {
    "duration": 34,
    "start_time": "2023-05-17T10:57:46.334Z"
   },
   {
    "duration": 6,
    "start_time": "2023-05-17T10:57:46.369Z"
   },
   {
    "duration": 40,
    "start_time": "2023-05-17T10:57:46.377Z"
   },
   {
    "duration": 101,
    "start_time": "2023-05-17T10:57:46.422Z"
   },
   {
    "duration": 15,
    "start_time": "2023-05-17T10:57:46.525Z"
   },
   {
    "duration": 18,
    "start_time": "2023-05-17T10:57:46.558Z"
   },
   {
    "duration": 30,
    "start_time": "2023-05-17T10:57:46.577Z"
   },
   {
    "duration": 16,
    "start_time": "2023-05-17T10:57:46.609Z"
   },
   {
    "duration": 35,
    "start_time": "2023-05-17T10:57:46.626Z"
   },
   {
    "duration": 14,
    "start_time": "2023-05-17T10:57:46.666Z"
   },
   {
    "duration": 146,
    "start_time": "2023-05-17T10:57:46.682Z"
   },
   {
    "duration": 33,
    "start_time": "2023-05-17T10:57:46.830Z"
   },
   {
    "duration": 12,
    "start_time": "2023-05-17T10:57:46.865Z"
   },
   {
    "duration": 14,
    "start_time": "2023-05-17T10:57:46.878Z"
   },
   {
    "duration": 7,
    "start_time": "2023-05-17T10:57:46.893Z"
   },
   {
    "duration": 19,
    "start_time": "2023-05-17T10:57:46.902Z"
   },
   {
    "duration": 342,
    "start_time": "2023-05-17T10:57:46.953Z"
   },
   {
    "duration": 10,
    "start_time": "2023-05-17T10:57:47.297Z"
   },
   {
    "duration": 13,
    "start_time": "2023-05-17T10:57:47.308Z"
   },
   {
    "duration": 265,
    "start_time": "2023-05-17T10:57:47.323Z"
   },
   {
    "duration": 5,
    "start_time": "2023-05-17T10:57:47.589Z"
   },
   {
    "duration": 12,
    "start_time": "2023-05-17T10:57:47.595Z"
   },
   {
    "duration": 489,
    "start_time": "2023-05-17T10:57:47.608Z"
   },
   {
    "duration": 169,
    "start_time": "2023-05-17T10:57:48.099Z"
   },
   {
    "duration": 0,
    "start_time": "2023-05-17T10:57:48.270Z"
   },
   {
    "duration": 0,
    "start_time": "2023-05-17T10:57:48.271Z"
   },
   {
    "duration": 0,
    "start_time": "2023-05-17T10:57:48.273Z"
   },
   {
    "duration": 0,
    "start_time": "2023-05-17T10:57:48.274Z"
   },
   {
    "duration": 0,
    "start_time": "2023-05-17T10:57:48.275Z"
   },
   {
    "duration": 0,
    "start_time": "2023-05-17T10:57:48.276Z"
   },
   {
    "duration": 0,
    "start_time": "2023-05-17T10:57:48.278Z"
   },
   {
    "duration": 0,
    "start_time": "2023-05-17T10:57:48.279Z"
   },
   {
    "duration": 0,
    "start_time": "2023-05-17T10:57:48.281Z"
   },
   {
    "duration": 0,
    "start_time": "2023-05-17T10:57:48.282Z"
   },
   {
    "duration": 5,
    "start_time": "2023-05-17T10:58:22.368Z"
   },
   {
    "duration": 5,
    "start_time": "2023-05-17T10:58:53.665Z"
   },
   {
    "duration": 1258,
    "start_time": "2023-05-17T10:59:39.666Z"
   },
   {
    "duration": 596,
    "start_time": "2023-05-17T10:59:40.926Z"
   },
   {
    "duration": 32,
    "start_time": "2023-05-17T10:59:41.524Z"
   },
   {
    "duration": 103,
    "start_time": "2023-05-17T10:59:41.559Z"
   },
   {
    "duration": 44,
    "start_time": "2023-05-17T10:59:41.664Z"
   },
   {
    "duration": 121,
    "start_time": "2023-05-17T10:59:41.710Z"
   },
   {
    "duration": 5,
    "start_time": "2023-05-17T10:59:41.833Z"
   },
   {
    "duration": 13,
    "start_time": "2023-05-17T10:59:41.855Z"
   },
   {
    "duration": 9,
    "start_time": "2023-05-17T10:59:41.869Z"
   },
   {
    "duration": 4,
    "start_time": "2023-05-17T10:59:41.881Z"
   },
   {
    "duration": 9,
    "start_time": "2023-05-17T10:59:41.887Z"
   },
   {
    "duration": 14,
    "start_time": "2023-05-17T10:59:41.897Z"
   },
   {
    "duration": 9,
    "start_time": "2023-05-17T10:59:41.912Z"
   },
   {
    "duration": 43,
    "start_time": "2023-05-17T10:59:41.923Z"
   },
   {
    "duration": 9,
    "start_time": "2023-05-17T10:59:41.968Z"
   },
   {
    "duration": 225,
    "start_time": "2023-05-17T10:59:41.979Z"
   },
   {
    "duration": 5,
    "start_time": "2023-05-17T10:59:42.205Z"
   },
   {
    "duration": 10,
    "start_time": "2023-05-17T10:59:42.212Z"
   },
   {
    "duration": 43,
    "start_time": "2023-05-17T10:59:42.225Z"
   },
   {
    "duration": 9,
    "start_time": "2023-05-17T10:59:42.271Z"
   },
   {
    "duration": 19,
    "start_time": "2023-05-17T10:59:42.283Z"
   },
   {
    "duration": 9,
    "start_time": "2023-05-17T10:59:42.303Z"
   },
   {
    "duration": 11,
    "start_time": "2023-05-17T10:59:42.314Z"
   },
   {
    "duration": 22,
    "start_time": "2023-05-17T10:59:42.353Z"
   },
   {
    "duration": 18,
    "start_time": "2023-05-17T10:59:42.378Z"
   },
   {
    "duration": 8,
    "start_time": "2023-05-17T10:59:42.399Z"
   },
   {
    "duration": 94,
    "start_time": "2023-05-17T10:59:42.409Z"
   },
   {
    "duration": 80,
    "start_time": "2023-05-17T10:59:42.507Z"
   },
   {
    "duration": 16,
    "start_time": "2023-05-17T10:59:42.589Z"
   },
   {
    "duration": 15,
    "start_time": "2023-05-17T10:59:42.607Z"
   },
   {
    "duration": 57,
    "start_time": "2023-05-17T10:59:42.623Z"
   },
   {
    "duration": 15,
    "start_time": "2023-05-17T10:59:42.682Z"
   },
   {
    "duration": 38,
    "start_time": "2023-05-17T10:59:42.699Z"
   },
   {
    "duration": 28,
    "start_time": "2023-05-17T10:59:42.739Z"
   },
   {
    "duration": 138,
    "start_time": "2023-05-17T10:59:42.769Z"
   },
   {
    "duration": 15,
    "start_time": "2023-05-17T10:59:42.909Z"
   },
   {
    "duration": 39,
    "start_time": "2023-05-17T10:59:42.926Z"
   },
   {
    "duration": 16,
    "start_time": "2023-05-17T10:59:42.967Z"
   },
   {
    "duration": 8,
    "start_time": "2023-05-17T10:59:42.985Z"
   },
   {
    "duration": 32,
    "start_time": "2023-05-17T10:59:42.995Z"
   },
   {
    "duration": 369,
    "start_time": "2023-05-17T10:59:43.029Z"
   },
   {
    "duration": 11,
    "start_time": "2023-05-17T10:59:43.400Z"
   },
   {
    "duration": 21,
    "start_time": "2023-05-17T10:59:43.412Z"
   },
   {
    "duration": 265,
    "start_time": "2023-05-17T10:59:43.435Z"
   },
   {
    "duration": 5,
    "start_time": "2023-05-17T10:59:43.701Z"
   },
   {
    "duration": 22,
    "start_time": "2023-05-17T10:59:43.707Z"
   },
   {
    "duration": 547,
    "start_time": "2023-05-17T10:59:43.730Z"
   },
   {
    "duration": 158,
    "start_time": "2023-05-17T10:59:44.279Z"
   },
   {
    "duration": 0,
    "start_time": "2023-05-17T10:59:44.439Z"
   },
   {
    "duration": 0,
    "start_time": "2023-05-17T10:59:44.440Z"
   },
   {
    "duration": 0,
    "start_time": "2023-05-17T10:59:44.450Z"
   },
   {
    "duration": 0,
    "start_time": "2023-05-17T10:59:44.451Z"
   },
   {
    "duration": 0,
    "start_time": "2023-05-17T10:59:44.452Z"
   },
   {
    "duration": 0,
    "start_time": "2023-05-17T10:59:44.454Z"
   },
   {
    "duration": 0,
    "start_time": "2023-05-17T10:59:44.456Z"
   },
   {
    "duration": 0,
    "start_time": "2023-05-17T10:59:44.457Z"
   },
   {
    "duration": 0,
    "start_time": "2023-05-17T10:59:44.461Z"
   },
   {
    "duration": 0,
    "start_time": "2023-05-17T10:59:44.463Z"
   },
   {
    "duration": 0,
    "start_time": "2023-05-17T10:59:44.465Z"
   },
   {
    "duration": 11,
    "start_time": "2023-05-17T11:00:00.695Z"
   },
   {
    "duration": 55,
    "start_time": "2023-05-17T11:00:36.812Z"
   },
   {
    "duration": 36,
    "start_time": "2023-05-17T11:00:43.495Z"
   },
   {
    "duration": 7,
    "start_time": "2023-05-17T11:01:02.364Z"
   },
   {
    "duration": 17,
    "start_time": "2023-05-17T11:01:08.245Z"
   },
   {
    "duration": 20,
    "start_time": "2023-05-17T11:01:33.620Z"
   },
   {
    "duration": 19,
    "start_time": "2023-05-17T11:01:51.846Z"
   },
   {
    "duration": 1149,
    "start_time": "2023-05-17T11:10:26.909Z"
   },
   {
    "duration": 600,
    "start_time": "2023-05-17T11:10:28.060Z"
   },
   {
    "duration": 30,
    "start_time": "2023-05-17T11:10:28.662Z"
   },
   {
    "duration": 92,
    "start_time": "2023-05-17T11:10:28.695Z"
   },
   {
    "duration": 42,
    "start_time": "2023-05-17T11:10:28.788Z"
   },
   {
    "duration": 124,
    "start_time": "2023-05-17T11:10:28.832Z"
   },
   {
    "duration": 6,
    "start_time": "2023-05-17T11:10:28.958Z"
   },
   {
    "duration": 7,
    "start_time": "2023-05-17T11:10:28.965Z"
   },
   {
    "duration": 10,
    "start_time": "2023-05-17T11:10:28.974Z"
   },
   {
    "duration": 5,
    "start_time": "2023-05-17T11:10:28.986Z"
   },
   {
    "duration": 7,
    "start_time": "2023-05-17T11:10:28.992Z"
   },
   {
    "duration": 11,
    "start_time": "2023-05-17T11:10:29.001Z"
   },
   {
    "duration": 14,
    "start_time": "2023-05-17T11:10:29.050Z"
   },
   {
    "duration": 17,
    "start_time": "2023-05-17T11:10:29.066Z"
   },
   {
    "duration": 21,
    "start_time": "2023-05-17T11:10:29.085Z"
   },
   {
    "duration": 245,
    "start_time": "2023-05-17T11:10:29.108Z"
   },
   {
    "duration": 6,
    "start_time": "2023-05-17T11:10:29.355Z"
   },
   {
    "duration": 13,
    "start_time": "2023-05-17T11:10:29.362Z"
   },
   {
    "duration": 10,
    "start_time": "2023-05-17T11:10:29.377Z"
   },
   {
    "duration": 15,
    "start_time": "2023-05-17T11:10:29.388Z"
   },
   {
    "duration": 14,
    "start_time": "2023-05-17T11:10:29.405Z"
   },
   {
    "duration": 8,
    "start_time": "2023-05-17T11:10:29.451Z"
   },
   {
    "duration": 10,
    "start_time": "2023-05-17T11:10:29.460Z"
   },
   {
    "duration": 14,
    "start_time": "2023-05-17T11:10:29.472Z"
   },
   {
    "duration": 13,
    "start_time": "2023-05-17T11:10:29.487Z"
   },
   {
    "duration": 48,
    "start_time": "2023-05-17T11:10:29.502Z"
   },
   {
    "duration": 37,
    "start_time": "2023-05-17T11:10:29.552Z"
   },
   {
    "duration": 72,
    "start_time": "2023-05-17T11:10:29.593Z"
   },
   {
    "duration": 15,
    "start_time": "2023-05-17T11:10:29.667Z"
   },
   {
    "duration": 14,
    "start_time": "2023-05-17T11:10:29.684Z"
   },
   {
    "duration": 60,
    "start_time": "2023-05-17T11:10:29.700Z"
   },
   {
    "duration": 17,
    "start_time": "2023-05-17T11:10:29.762Z"
   },
   {
    "duration": 18,
    "start_time": "2023-05-17T11:10:29.781Z"
   },
   {
    "duration": 13,
    "start_time": "2023-05-17T11:10:29.801Z"
   },
   {
    "duration": 128,
    "start_time": "2023-05-17T11:10:29.849Z"
   },
   {
    "duration": 16,
    "start_time": "2023-05-17T11:10:29.979Z"
   },
   {
    "duration": 12,
    "start_time": "2023-05-17T11:10:29.997Z"
   },
   {
    "duration": 20,
    "start_time": "2023-05-17T11:10:30.011Z"
   },
   {
    "duration": 7,
    "start_time": "2023-05-17T11:10:30.051Z"
   },
   {
    "duration": 39,
    "start_time": "2023-05-17T11:10:30.060Z"
   },
   {
    "duration": 385,
    "start_time": "2023-05-17T11:10:30.101Z"
   },
   {
    "duration": 14,
    "start_time": "2023-05-17T11:10:30.488Z"
   },
   {
    "duration": 33,
    "start_time": "2023-05-17T11:10:30.504Z"
   },
   {
    "duration": 257,
    "start_time": "2023-05-17T11:10:30.539Z"
   },
   {
    "duration": 4,
    "start_time": "2023-05-17T11:10:30.798Z"
   },
   {
    "duration": 47,
    "start_time": "2023-05-17T11:10:30.804Z"
   },
   {
    "duration": 514,
    "start_time": "2023-05-17T11:10:30.852Z"
   },
   {
    "duration": 19,
    "start_time": "2023-05-17T11:10:31.368Z"
   },
   {
    "duration": 491,
    "start_time": "2023-05-17T11:10:31.389Z"
   },
   {
    "duration": 27,
    "start_time": "2023-05-17T11:10:31.882Z"
   },
   {
    "duration": 452,
    "start_time": "2023-05-17T11:10:31.910Z"
   },
   {
    "duration": 7,
    "start_time": "2023-05-17T11:10:32.364Z"
   },
   {
    "duration": 408,
    "start_time": "2023-05-17T11:10:32.373Z"
   },
   {
    "duration": 325,
    "start_time": "2023-05-17T11:10:32.784Z"
   },
   {
    "duration": 82,
    "start_time": "2023-05-17T11:10:33.111Z"
   },
   {
    "duration": 0,
    "start_time": "2023-05-17T11:10:33.195Z"
   },
   {
    "duration": 0,
    "start_time": "2023-05-17T11:10:33.196Z"
   },
   {
    "duration": 0,
    "start_time": "2023-05-17T11:10:33.197Z"
   },
   {
    "duration": 0,
    "start_time": "2023-05-17T11:10:33.198Z"
   },
   {
    "duration": 0,
    "start_time": "2023-05-17T11:10:33.200Z"
   },
   {
    "duration": 0,
    "start_time": "2023-05-17T11:10:33.201Z"
   },
   {
    "duration": 593,
    "start_time": "2023-05-17T11:11:26.075Z"
   },
   {
    "duration": 594,
    "start_time": "2023-05-17T11:12:10.054Z"
   },
   {
    "duration": 700,
    "start_time": "2023-05-17T11:12:38.703Z"
   },
   {
    "duration": 674,
    "start_time": "2023-05-17T11:12:48.993Z"
   },
   {
    "duration": 588,
    "start_time": "2023-05-17T11:12:56.200Z"
   },
   {
    "duration": 648,
    "start_time": "2023-05-17T11:14:28.211Z"
   },
   {
    "duration": 906,
    "start_time": "2023-05-17T11:14:48.499Z"
   },
   {
    "duration": 1231,
    "start_time": "2023-05-17T11:23:50.040Z"
   },
   {
    "duration": 609,
    "start_time": "2023-05-17T11:23:51.273Z"
   },
   {
    "duration": 29,
    "start_time": "2023-05-17T11:23:51.884Z"
   },
   {
    "duration": 96,
    "start_time": "2023-05-17T11:23:51.916Z"
   },
   {
    "duration": 51,
    "start_time": "2023-05-17T11:23:52.014Z"
   },
   {
    "duration": 120,
    "start_time": "2023-05-17T11:23:52.068Z"
   },
   {
    "duration": 4,
    "start_time": "2023-05-17T11:23:52.190Z"
   },
   {
    "duration": 10,
    "start_time": "2023-05-17T11:23:52.195Z"
   },
   {
    "duration": 6,
    "start_time": "2023-05-17T11:23:52.207Z"
   },
   {
    "duration": 4,
    "start_time": "2023-05-17T11:23:52.216Z"
   },
   {
    "duration": 13,
    "start_time": "2023-05-17T11:23:52.221Z"
   },
   {
    "duration": 40,
    "start_time": "2023-05-17T11:23:52.236Z"
   },
   {
    "duration": 9,
    "start_time": "2023-05-17T11:23:52.278Z"
   },
   {
    "duration": 14,
    "start_time": "2023-05-17T11:23:52.289Z"
   },
   {
    "duration": 18,
    "start_time": "2023-05-17T11:23:52.304Z"
   },
   {
    "duration": 270,
    "start_time": "2023-05-17T11:23:52.324Z"
   },
   {
    "duration": 6,
    "start_time": "2023-05-17T11:23:52.595Z"
   },
   {
    "duration": 12,
    "start_time": "2023-05-17T11:23:52.602Z"
   },
   {
    "duration": 8,
    "start_time": "2023-05-17T11:23:52.616Z"
   },
   {
    "duration": 29,
    "start_time": "2023-05-17T11:23:52.626Z"
   },
   {
    "duration": 18,
    "start_time": "2023-05-17T11:23:52.656Z"
   },
   {
    "duration": 6,
    "start_time": "2023-05-17T11:23:52.676Z"
   },
   {
    "duration": 8,
    "start_time": "2023-05-17T11:23:52.684Z"
   },
   {
    "duration": 13,
    "start_time": "2023-05-17T11:23:52.694Z"
   },
   {
    "duration": 60,
    "start_time": "2023-05-17T11:23:52.708Z"
   },
   {
    "duration": 8,
    "start_time": "2023-05-17T11:23:52.770Z"
   },
   {
    "duration": 56,
    "start_time": "2023-05-17T11:23:52.780Z"
   },
   {
    "duration": 67,
    "start_time": "2023-05-17T11:23:52.840Z"
   },
   {
    "duration": 16,
    "start_time": "2023-05-17T11:23:52.910Z"
   },
   {
    "duration": 40,
    "start_time": "2023-05-17T11:23:52.928Z"
   },
   {
    "duration": 42,
    "start_time": "2023-05-17T11:23:52.970Z"
   },
   {
    "duration": 14,
    "start_time": "2023-05-17T11:23:53.013Z"
   },
   {
    "duration": 44,
    "start_time": "2023-05-17T11:23:53.028Z"
   },
   {
    "duration": 15,
    "start_time": "2023-05-17T11:23:53.073Z"
   },
   {
    "duration": 126,
    "start_time": "2023-05-17T11:23:53.089Z"
   },
   {
    "duration": 16,
    "start_time": "2023-05-17T11:23:53.217Z"
   },
   {
    "duration": 33,
    "start_time": "2023-05-17T11:23:53.234Z"
   },
   {
    "duration": 16,
    "start_time": "2023-05-17T11:23:53.268Z"
   },
   {
    "duration": 6,
    "start_time": "2023-05-17T11:23:53.285Z"
   },
   {
    "duration": 23,
    "start_time": "2023-05-17T11:23:53.293Z"
   },
   {
    "duration": 352,
    "start_time": "2023-05-17T11:23:53.318Z"
   },
   {
    "duration": 11,
    "start_time": "2023-05-17T11:23:53.672Z"
   },
   {
    "duration": 11,
    "start_time": "2023-05-17T11:23:53.684Z"
   },
   {
    "duration": 242,
    "start_time": "2023-05-17T11:23:53.697Z"
   },
   {
    "duration": 25,
    "start_time": "2023-05-17T11:23:53.940Z"
   },
   {
    "duration": 9,
    "start_time": "2023-05-17T11:23:53.966Z"
   },
   {
    "duration": 504,
    "start_time": "2023-05-17T11:23:53.977Z"
   },
   {
    "duration": 798,
    "start_time": "2023-05-17T11:23:54.483Z"
   },
   {
    "duration": 545,
    "start_time": "2023-05-17T11:23:55.283Z"
   },
   {
    "duration": 41,
    "start_time": "2023-05-17T11:23:55.830Z"
   },
   {
    "duration": 465,
    "start_time": "2023-05-17T11:23:55.873Z"
   },
   {
    "duration": 11,
    "start_time": "2023-05-17T11:23:56.340Z"
   },
   {
    "duration": 332,
    "start_time": "2023-05-17T11:23:56.357Z"
   },
   {
    "duration": 342,
    "start_time": "2023-05-17T11:23:56.691Z"
   },
   {
    "duration": 200,
    "start_time": "2023-05-17T11:23:57.035Z"
   },
   {
    "duration": 0,
    "start_time": "2023-05-17T11:23:57.237Z"
   },
   {
    "duration": 0,
    "start_time": "2023-05-17T11:23:57.238Z"
   },
   {
    "duration": 0,
    "start_time": "2023-05-17T11:23:57.239Z"
   },
   {
    "duration": 0,
    "start_time": "2023-05-17T11:23:57.240Z"
   },
   {
    "duration": 1,
    "start_time": "2023-05-17T11:23:57.241Z"
   },
   {
    "duration": 0,
    "start_time": "2023-05-17T11:23:57.243Z"
   },
   {
    "duration": 27,
    "start_time": "2023-05-17T11:31:05.201Z"
   },
   {
    "duration": 161,
    "start_time": "2023-05-17T11:31:08.429Z"
   },
   {
    "duration": 13,
    "start_time": "2023-05-17T11:31:11.485Z"
   },
   {
    "duration": 835,
    "start_time": "2023-05-17T11:55:19.517Z"
   },
   {
    "duration": 845,
    "start_time": "2023-05-17T11:55:42.545Z"
   },
   {
    "duration": 818,
    "start_time": "2023-05-17T11:56:44.285Z"
   },
   {
    "duration": 59,
    "start_time": "2023-05-17T12:01:54.433Z"
   },
   {
    "duration": 72,
    "start_time": "2023-05-17T12:02:30.486Z"
   },
   {
    "duration": 45,
    "start_time": "2023-05-17T12:02:37.997Z"
   },
   {
    "duration": 52,
    "start_time": "2023-05-17T12:02:50.246Z"
   },
   {
    "duration": 107,
    "start_time": "2023-05-17T12:03:11.487Z"
   },
   {
    "duration": 16,
    "start_time": "2023-05-17T12:03:18.023Z"
   },
   {
    "duration": 15,
    "start_time": "2023-05-17T12:03:27.214Z"
   },
   {
    "duration": 19,
    "start_time": "2023-05-17T12:04:23.008Z"
   },
   {
    "duration": 754,
    "start_time": "2023-05-17T12:04:31.603Z"
   },
   {
    "duration": 885,
    "start_time": "2023-05-17T12:04:52.896Z"
   },
   {
    "duration": 809,
    "start_time": "2023-05-17T12:05:10.593Z"
   },
   {
    "duration": 730,
    "start_time": "2023-05-17T12:05:24.516Z"
   },
   {
    "duration": 790,
    "start_time": "2023-05-17T12:06:47.412Z"
   },
   {
    "duration": 872,
    "start_time": "2023-05-17T12:07:08.117Z"
   },
   {
    "duration": 778,
    "start_time": "2023-05-17T12:08:05.238Z"
   },
   {
    "duration": 614,
    "start_time": "2023-05-17T12:16:48.180Z"
   },
   {
    "duration": 14,
    "start_time": "2023-05-17T12:37:13.750Z"
   },
   {
    "duration": 53,
    "start_time": "2023-05-17T12:37:41.426Z"
   },
   {
    "duration": 275,
    "start_time": "2023-05-17T12:37:48.600Z"
   },
   {
    "duration": 11,
    "start_time": "2023-05-17T12:38:13.303Z"
   },
   {
    "duration": 4,
    "start_time": "2023-05-17T12:39:00.792Z"
   },
   {
    "duration": 12,
    "start_time": "2023-05-17T12:39:02.712Z"
   },
   {
    "duration": 8,
    "start_time": "2023-05-17T12:39:05.521Z"
   },
   {
    "duration": 8,
    "start_time": "2023-05-17T12:39:10.735Z"
   },
   {
    "duration": 17,
    "start_time": "2023-05-17T12:40:51.692Z"
   },
   {
    "duration": 9,
    "start_time": "2023-05-17T12:41:44.717Z"
   },
   {
    "duration": 811,
    "start_time": "2023-05-17T12:41:46.491Z"
   },
   {
    "duration": 964,
    "start_time": "2023-05-17T12:43:07.448Z"
   },
   {
    "duration": 876,
    "start_time": "2023-05-17T12:43:16.849Z"
   },
   {
    "duration": 1144,
    "start_time": "2023-05-17T12:43:26.991Z"
   },
   {
    "duration": 649,
    "start_time": "2023-05-17T12:43:28.137Z"
   },
   {
    "duration": 31,
    "start_time": "2023-05-17T12:43:28.788Z"
   },
   {
    "duration": 95,
    "start_time": "2023-05-17T12:43:28.821Z"
   },
   {
    "duration": 50,
    "start_time": "2023-05-17T12:43:28.918Z"
   },
   {
    "duration": 125,
    "start_time": "2023-05-17T12:43:28.975Z"
   },
   {
    "duration": 5,
    "start_time": "2023-05-17T12:43:29.102Z"
   },
   {
    "duration": 5,
    "start_time": "2023-05-17T12:43:29.108Z"
   },
   {
    "duration": 10,
    "start_time": "2023-05-17T12:43:29.114Z"
   },
   {
    "duration": 21,
    "start_time": "2023-05-17T12:43:29.126Z"
   },
   {
    "duration": 17,
    "start_time": "2023-05-17T12:43:29.155Z"
   },
   {
    "duration": 10,
    "start_time": "2023-05-17T12:43:29.175Z"
   },
   {
    "duration": 11,
    "start_time": "2023-05-17T12:43:29.187Z"
   },
   {
    "duration": 15,
    "start_time": "2023-05-17T12:43:29.200Z"
   },
   {
    "duration": 14,
    "start_time": "2023-05-17T12:43:29.217Z"
   },
   {
    "duration": 246,
    "start_time": "2023-05-17T12:43:29.232Z"
   },
   {
    "duration": 6,
    "start_time": "2023-05-17T12:43:29.479Z"
   },
   {
    "duration": 9,
    "start_time": "2023-05-17T12:43:29.487Z"
   },
   {
    "duration": 8,
    "start_time": "2023-05-17T12:43:29.497Z"
   },
   {
    "duration": 5,
    "start_time": "2023-05-17T12:43:29.507Z"
   },
   {
    "duration": 45,
    "start_time": "2023-05-17T12:43:29.514Z"
   },
   {
    "duration": 11,
    "start_time": "2023-05-17T12:43:29.563Z"
   },
   {
    "duration": 10,
    "start_time": "2023-05-17T12:43:29.576Z"
   },
   {
    "duration": 13,
    "start_time": "2023-05-17T12:43:29.588Z"
   },
   {
    "duration": 12,
    "start_time": "2023-05-17T12:43:29.603Z"
   },
   {
    "duration": 14,
    "start_time": "2023-05-17T12:43:29.617Z"
   },
   {
    "duration": 63,
    "start_time": "2023-05-17T12:43:29.632Z"
   },
   {
    "duration": 74,
    "start_time": "2023-05-17T12:43:29.699Z"
   },
   {
    "duration": 18,
    "start_time": "2023-05-17T12:43:29.777Z"
   },
   {
    "duration": 13,
    "start_time": "2023-05-17T12:43:29.797Z"
   },
   {
    "duration": 42,
    "start_time": "2023-05-17T12:43:29.812Z"
   },
   {
    "duration": 21,
    "start_time": "2023-05-17T12:43:29.855Z"
   },
   {
    "duration": 17,
    "start_time": "2023-05-17T12:43:29.879Z"
   },
   {
    "duration": 16,
    "start_time": "2023-05-17T12:43:29.897Z"
   },
   {
    "duration": 180,
    "start_time": "2023-05-17T12:43:29.915Z"
   },
   {
    "duration": 18,
    "start_time": "2023-05-17T12:43:30.096Z"
   },
   {
    "duration": 31,
    "start_time": "2023-05-17T12:43:30.116Z"
   },
   {
    "duration": 28,
    "start_time": "2023-05-17T12:43:30.149Z"
   },
   {
    "duration": 33,
    "start_time": "2023-05-17T12:43:30.178Z"
   },
   {
    "duration": 51,
    "start_time": "2023-05-17T12:43:30.212Z"
   },
   {
    "duration": 412,
    "start_time": "2023-05-17T12:43:30.266Z"
   },
   {
    "duration": 12,
    "start_time": "2023-05-17T12:43:30.680Z"
   },
   {
    "duration": 22,
    "start_time": "2023-05-17T12:43:30.694Z"
   },
   {
    "duration": 232,
    "start_time": "2023-05-17T12:43:30.717Z"
   },
   {
    "duration": 5,
    "start_time": "2023-05-17T12:43:30.950Z"
   },
   {
    "duration": 25,
    "start_time": "2023-05-17T12:43:30.956Z"
   },
   {
    "duration": 483,
    "start_time": "2023-05-17T12:43:30.983Z"
   },
   {
    "duration": 817,
    "start_time": "2023-05-17T12:43:31.468Z"
   },
   {
    "duration": 14,
    "start_time": "2023-05-17T12:43:32.287Z"
   },
   {
    "duration": 716,
    "start_time": "2023-05-17T12:43:32.303Z"
   },
   {
    "duration": 375,
    "start_time": "2023-05-17T12:43:33.021Z"
   },
   {
    "duration": 0,
    "start_time": "2023-05-17T12:43:33.398Z"
   },
   {
    "duration": 0,
    "start_time": "2023-05-17T12:43:33.399Z"
   },
   {
    "duration": 0,
    "start_time": "2023-05-17T12:43:33.400Z"
   },
   {
    "duration": 0,
    "start_time": "2023-05-17T12:43:33.401Z"
   },
   {
    "duration": 0,
    "start_time": "2023-05-17T12:43:33.402Z"
   },
   {
    "duration": 0,
    "start_time": "2023-05-17T12:43:33.403Z"
   },
   {
    "duration": 0,
    "start_time": "2023-05-17T12:43:33.404Z"
   },
   {
    "duration": 0,
    "start_time": "2023-05-17T12:43:33.405Z"
   },
   {
    "duration": 0,
    "start_time": "2023-05-17T12:43:33.406Z"
   },
   {
    "duration": 0,
    "start_time": "2023-05-17T12:43:33.408Z"
   },
   {
    "duration": 0,
    "start_time": "2023-05-17T12:43:33.409Z"
   },
   {
    "duration": 15,
    "start_time": "2023-05-17T12:46:21.808Z"
   },
   {
    "duration": 20,
    "start_time": "2023-05-17T12:46:47.947Z"
   },
   {
    "duration": 17,
    "start_time": "2023-05-17T12:47:16.100Z"
   },
   {
    "duration": 23,
    "start_time": "2023-05-17T12:47:47.283Z"
   },
   {
    "duration": 15,
    "start_time": "2023-05-17T12:48:15.734Z"
   },
   {
    "duration": 16,
    "start_time": "2023-05-17T12:48:55.024Z"
   },
   {
    "duration": 30,
    "start_time": "2023-05-17T12:49:23.940Z"
   },
   {
    "duration": 12,
    "start_time": "2023-05-17T12:50:17.516Z"
   },
   {
    "duration": 9,
    "start_time": "2023-05-17T12:50:47.915Z"
   },
   {
    "duration": 11,
    "start_time": "2023-05-17T12:52:31.923Z"
   },
   {
    "duration": 21,
    "start_time": "2023-05-17T12:52:45.345Z"
   },
   {
    "duration": 11,
    "start_time": "2023-05-17T12:52:54.438Z"
   },
   {
    "duration": 8,
    "start_time": "2023-05-17T12:53:20.796Z"
   },
   {
    "duration": 851,
    "start_time": "2023-05-17T13:00:22.216Z"
   },
   {
    "duration": 1078,
    "start_time": "2023-05-17T13:00:39.839Z"
   },
   {
    "duration": 32,
    "start_time": "2023-05-17T13:11:32.869Z"
   },
   {
    "duration": 7,
    "start_time": "2023-05-17T13:11:41.733Z"
   },
   {
    "duration": 413,
    "start_time": "2023-05-17T13:11:44.211Z"
   },
   {
    "duration": 411,
    "start_time": "2023-05-17T13:11:47.997Z"
   },
   {
    "duration": 38,
    "start_time": "2023-05-17T13:12:29.532Z"
   },
   {
    "duration": 810,
    "start_time": "2023-05-17T13:16:54.203Z"
   },
   {
    "duration": 969,
    "start_time": "2023-05-17T13:17:34.053Z"
   },
   {
    "duration": 396,
    "start_time": "2023-05-17T13:20:29.736Z"
   },
   {
    "duration": 501,
    "start_time": "2023-05-17T13:21:59.074Z"
   },
   {
    "duration": 1359,
    "start_time": "2023-05-17T13:25:54.379Z"
   },
   {
    "duration": 757,
    "start_time": "2023-05-17T13:25:55.740Z"
   },
   {
    "duration": 36,
    "start_time": "2023-05-17T13:25:56.503Z"
   },
   {
    "duration": 146,
    "start_time": "2023-05-17T13:25:56.541Z"
   },
   {
    "duration": 50,
    "start_time": "2023-05-17T13:25:56.694Z"
   },
   {
    "duration": 166,
    "start_time": "2023-05-17T13:25:56.746Z"
   },
   {
    "duration": 6,
    "start_time": "2023-05-17T13:25:56.914Z"
   },
   {
    "duration": 14,
    "start_time": "2023-05-17T13:25:56.923Z"
   },
   {
    "duration": 9,
    "start_time": "2023-05-17T13:25:56.938Z"
   },
   {
    "duration": 26,
    "start_time": "2023-05-17T13:25:56.953Z"
   },
   {
    "duration": 30,
    "start_time": "2023-05-17T13:25:56.980Z"
   },
   {
    "duration": 27,
    "start_time": "2023-05-17T13:25:57.012Z"
   },
   {
    "duration": 37,
    "start_time": "2023-05-17T13:25:57.041Z"
   },
   {
    "duration": 33,
    "start_time": "2023-05-17T13:25:57.079Z"
   },
   {
    "duration": 15,
    "start_time": "2023-05-17T13:25:57.114Z"
   },
   {
    "duration": 280,
    "start_time": "2023-05-17T13:25:57.130Z"
   },
   {
    "duration": 5,
    "start_time": "2023-05-17T13:25:57.417Z"
   },
   {
    "duration": 11,
    "start_time": "2023-05-17T13:25:57.425Z"
   },
   {
    "duration": 22,
    "start_time": "2023-05-17T13:25:57.437Z"
   },
   {
    "duration": 15,
    "start_time": "2023-05-17T13:25:57.461Z"
   },
   {
    "duration": 31,
    "start_time": "2023-05-17T13:25:57.481Z"
   },
   {
    "duration": 9,
    "start_time": "2023-05-17T13:25:57.514Z"
   },
   {
    "duration": 8,
    "start_time": "2023-05-17T13:25:57.525Z"
   },
   {
    "duration": 29,
    "start_time": "2023-05-17T13:25:57.536Z"
   },
   {
    "duration": 28,
    "start_time": "2023-05-17T13:25:57.567Z"
   },
   {
    "duration": 14,
    "start_time": "2023-05-17T13:25:57.599Z"
   },
   {
    "duration": 54,
    "start_time": "2023-05-17T13:25:57.615Z"
   },
   {
    "duration": 72,
    "start_time": "2023-05-17T13:25:57.673Z"
   },
   {
    "duration": 27,
    "start_time": "2023-05-17T13:25:57.747Z"
   },
   {
    "duration": 40,
    "start_time": "2023-05-17T13:25:57.781Z"
   },
   {
    "duration": 37,
    "start_time": "2023-05-17T13:25:57.824Z"
   },
   {
    "duration": 20,
    "start_time": "2023-05-17T13:25:57.867Z"
   },
   {
    "duration": 19,
    "start_time": "2023-05-17T13:25:57.889Z"
   },
   {
    "duration": 15,
    "start_time": "2023-05-17T13:25:57.910Z"
   },
   {
    "duration": 147,
    "start_time": "2023-05-17T13:25:57.927Z"
   },
   {
    "duration": 24,
    "start_time": "2023-05-17T13:25:58.076Z"
   },
   {
    "duration": 23,
    "start_time": "2023-05-17T13:25:58.102Z"
   },
   {
    "duration": 16,
    "start_time": "2023-05-17T13:25:58.127Z"
   },
   {
    "duration": 11,
    "start_time": "2023-05-17T13:25:58.156Z"
   },
   {
    "duration": 18,
    "start_time": "2023-05-17T13:25:58.176Z"
   },
   {
    "duration": 398,
    "start_time": "2023-05-17T13:25:58.197Z"
   },
   {
    "duration": 17,
    "start_time": "2023-05-17T13:25:58.597Z"
   },
   {
    "duration": 11,
    "start_time": "2023-05-17T13:25:58.617Z"
   },
   {
    "duration": 294,
    "start_time": "2023-05-17T13:25:58.630Z"
   },
   {
    "duration": 6,
    "start_time": "2023-05-17T13:25:58.927Z"
   },
   {
    "duration": 26,
    "start_time": "2023-05-17T13:25:58.934Z"
   },
   {
    "duration": 546,
    "start_time": "2023-05-17T13:25:58.962Z"
   },
   {
    "duration": 1006,
    "start_time": "2023-05-17T13:25:59.514Z"
   },
   {
    "duration": 836,
    "start_time": "2023-05-17T13:26:00.525Z"
   },
   {
    "duration": 9,
    "start_time": "2023-05-17T13:26:01.363Z"
   },
   {
    "duration": 358,
    "start_time": "2023-05-17T13:26:01.382Z"
   },
   {
    "duration": 453,
    "start_time": "2023-05-17T13:26:01.743Z"
   },
   {
    "duration": 29,
    "start_time": "2023-05-17T13:26:02.201Z"
   },
   {
    "duration": 246,
    "start_time": "2023-05-17T13:26:02.232Z"
   },
   {
    "duration": 32,
    "start_time": "2023-05-17T13:26:02.480Z"
   },
   {
    "duration": 20,
    "start_time": "2023-05-17T13:26:02.519Z"
   },
   {
    "duration": 52,
    "start_time": "2023-05-17T13:26:02.541Z"
   },
   {
    "duration": 42,
    "start_time": "2023-05-17T13:26:02.595Z"
   },
   {
    "duration": 629,
    "start_time": "2023-05-17T14:00:10.228Z"
   },
   {
    "duration": 25,
    "start_time": "2023-05-17T14:27:36.587Z"
   },
   {
    "duration": 17,
    "start_time": "2023-05-17T14:38:14.412Z"
   },
   {
    "duration": 10,
    "start_time": "2023-05-17T14:40:22.623Z"
   },
   {
    "duration": 60,
    "start_time": "2023-05-17T15:24:41.881Z"
   },
   {
    "duration": 14,
    "start_time": "2023-05-17T15:35:34.132Z"
   },
   {
    "duration": 11,
    "start_time": "2023-05-17T15:35:41.515Z"
   },
   {
    "duration": 57,
    "start_time": "2023-05-17T16:29:26.141Z"
   },
   {
    "duration": 1151,
    "start_time": "2023-05-17T16:47:44.807Z"
   },
   {
    "duration": 578,
    "start_time": "2023-05-17T16:47:45.960Z"
   },
   {
    "duration": 28,
    "start_time": "2023-05-17T16:47:46.540Z"
   },
   {
    "duration": 97,
    "start_time": "2023-05-17T16:47:46.569Z"
   },
   {
    "duration": 53,
    "start_time": "2023-05-17T16:47:46.669Z"
   },
   {
    "duration": 168,
    "start_time": "2023-05-17T16:47:46.726Z"
   },
   {
    "duration": 6,
    "start_time": "2023-05-17T16:47:46.897Z"
   },
   {
    "duration": 7,
    "start_time": "2023-05-17T16:47:46.905Z"
   },
   {
    "duration": 9,
    "start_time": "2023-05-17T16:47:46.914Z"
   },
   {
    "duration": 34,
    "start_time": "2023-05-17T16:47:46.925Z"
   },
   {
    "duration": 8,
    "start_time": "2023-05-17T16:47:46.960Z"
   },
   {
    "duration": 10,
    "start_time": "2023-05-17T16:47:46.970Z"
   },
   {
    "duration": 17,
    "start_time": "2023-05-17T16:47:46.982Z"
   },
   {
    "duration": 16,
    "start_time": "2023-05-17T16:47:47.004Z"
   },
   {
    "duration": 37,
    "start_time": "2023-05-17T16:47:47.022Z"
   },
   {
    "duration": 260,
    "start_time": "2023-05-17T16:47:47.061Z"
   },
   {
    "duration": 4,
    "start_time": "2023-05-17T16:47:47.323Z"
   },
   {
    "duration": 26,
    "start_time": "2023-05-17T16:47:47.328Z"
   },
   {
    "duration": 8,
    "start_time": "2023-05-17T16:47:47.356Z"
   },
   {
    "duration": 5,
    "start_time": "2023-05-17T16:47:47.366Z"
   },
   {
    "duration": 13,
    "start_time": "2023-05-17T16:47:47.373Z"
   },
   {
    "duration": 8,
    "start_time": "2023-05-17T16:47:47.387Z"
   },
   {
    "duration": 56,
    "start_time": "2023-05-17T16:47:47.397Z"
   },
   {
    "duration": 13,
    "start_time": "2023-05-17T16:47:47.454Z"
   },
   {
    "duration": 12,
    "start_time": "2023-05-17T16:47:47.468Z"
   },
   {
    "duration": 7,
    "start_time": "2023-05-17T16:47:47.482Z"
   },
   {
    "duration": 68,
    "start_time": "2023-05-17T16:47:47.491Z"
   },
   {
    "duration": 58,
    "start_time": "2023-05-17T16:47:47.561Z"
   },
   {
    "duration": 33,
    "start_time": "2023-05-17T16:47:47.621Z"
   },
   {
    "duration": 14,
    "start_time": "2023-05-17T16:47:47.656Z"
   },
   {
    "duration": 36,
    "start_time": "2023-05-17T16:47:47.671Z"
   },
   {
    "duration": 15,
    "start_time": "2023-05-17T16:47:47.709Z"
   },
   {
    "duration": 38,
    "start_time": "2023-05-17T16:47:47.726Z"
   },
   {
    "duration": 14,
    "start_time": "2023-05-17T16:47:47.765Z"
   },
   {
    "duration": 161,
    "start_time": "2023-05-17T16:47:47.780Z"
   },
   {
    "duration": 17,
    "start_time": "2023-05-17T16:47:47.955Z"
   },
   {
    "duration": 13,
    "start_time": "2023-05-17T16:47:47.974Z"
   },
   {
    "duration": 14,
    "start_time": "2023-05-17T16:47:47.989Z"
   },
   {
    "duration": 10,
    "start_time": "2023-05-17T16:47:48.005Z"
   },
   {
    "duration": 41,
    "start_time": "2023-05-17T16:47:48.016Z"
   },
   {
    "duration": 332,
    "start_time": "2023-05-17T16:47:48.060Z"
   },
   {
    "duration": 10,
    "start_time": "2023-05-17T16:47:48.394Z"
   },
   {
    "duration": 14,
    "start_time": "2023-05-17T16:47:48.406Z"
   },
   {
    "duration": 255,
    "start_time": "2023-05-17T16:47:48.422Z"
   },
   {
    "duration": 4,
    "start_time": "2023-05-17T16:47:48.679Z"
   },
   {
    "duration": 9,
    "start_time": "2023-05-17T16:47:48.685Z"
   },
   {
    "duration": 456,
    "start_time": "2023-05-17T16:47:48.696Z"
   },
   {
    "duration": 758,
    "start_time": "2023-05-17T16:47:49.154Z"
   },
   {
    "duration": 740,
    "start_time": "2023-05-17T16:47:49.915Z"
   },
   {
    "duration": 11,
    "start_time": "2023-05-17T16:47:50.657Z"
   },
   {
    "duration": 395,
    "start_time": "2023-05-17T16:47:50.670Z"
   },
   {
    "duration": 314,
    "start_time": "2023-05-17T16:47:51.067Z"
   },
   {
    "duration": 32,
    "start_time": "2023-05-17T16:47:51.383Z"
   },
   {
    "duration": 213,
    "start_time": "2023-05-17T16:47:51.416Z"
   },
   {
    "duration": 12,
    "start_time": "2023-05-17T16:47:51.631Z"
   },
   {
    "duration": 14,
    "start_time": "2023-05-17T16:47:51.645Z"
   },
   {
    "duration": 16,
    "start_time": "2023-05-17T16:47:51.661Z"
   },
   {
    "duration": 1194,
    "start_time": "2023-05-17T17:08:04.058Z"
   },
   {
    "duration": 547,
    "start_time": "2023-05-17T17:08:05.254Z"
   },
   {
    "duration": 27,
    "start_time": "2023-05-17T17:08:05.803Z"
   },
   {
    "duration": 92,
    "start_time": "2023-05-17T17:08:05.832Z"
   },
   {
    "duration": 40,
    "start_time": "2023-05-17T17:08:05.926Z"
   },
   {
    "duration": 121,
    "start_time": "2023-05-17T17:08:05.968Z"
   },
   {
    "duration": 6,
    "start_time": "2023-05-17T17:08:06.091Z"
   },
   {
    "duration": 9,
    "start_time": "2023-05-17T17:08:06.098Z"
   },
   {
    "duration": 18,
    "start_time": "2023-05-17T17:08:06.109Z"
   },
   {
    "duration": 20,
    "start_time": "2023-05-17T17:08:06.131Z"
   },
   {
    "duration": 18,
    "start_time": "2023-05-17T17:08:06.153Z"
   },
   {
    "duration": 16,
    "start_time": "2023-05-17T17:08:06.173Z"
   },
   {
    "duration": 13,
    "start_time": "2023-05-17T17:08:06.191Z"
   },
   {
    "duration": 25,
    "start_time": "2023-05-17T17:08:06.206Z"
   },
   {
    "duration": 32,
    "start_time": "2023-05-17T17:08:06.233Z"
   },
   {
    "duration": 245,
    "start_time": "2023-05-17T17:08:06.268Z"
   },
   {
    "duration": 6,
    "start_time": "2023-05-17T17:08:06.515Z"
   },
   {
    "duration": 34,
    "start_time": "2023-05-17T17:08:06.523Z"
   },
   {
    "duration": 9,
    "start_time": "2023-05-17T17:08:06.559Z"
   },
   {
    "duration": 6,
    "start_time": "2023-05-17T17:08:06.569Z"
   },
   {
    "duration": 14,
    "start_time": "2023-05-17T17:08:06.577Z"
   },
   {
    "duration": 8,
    "start_time": "2023-05-17T17:08:06.592Z"
   },
   {
    "duration": 7,
    "start_time": "2023-05-17T17:08:06.602Z"
   },
   {
    "duration": 50,
    "start_time": "2023-05-17T17:08:06.611Z"
   },
   {
    "duration": 13,
    "start_time": "2023-05-17T17:08:06.663Z"
   },
   {
    "duration": 6,
    "start_time": "2023-05-17T17:08:06.678Z"
   },
   {
    "duration": 64,
    "start_time": "2023-05-17T17:08:06.686Z"
   },
   {
    "duration": 58,
    "start_time": "2023-05-17T17:08:06.754Z"
   },
   {
    "duration": 14,
    "start_time": "2023-05-17T17:08:06.814Z"
   },
   {
    "duration": 30,
    "start_time": "2023-05-17T17:08:06.830Z"
   },
   {
    "duration": 29,
    "start_time": "2023-05-17T17:08:06.862Z"
   },
   {
    "duration": 15,
    "start_time": "2023-05-17T17:08:06.893Z"
   },
   {
    "duration": 42,
    "start_time": "2023-05-17T17:08:06.910Z"
   },
   {
    "duration": 25,
    "start_time": "2023-05-17T17:08:06.954Z"
   },
   {
    "duration": 136,
    "start_time": "2023-05-17T17:08:06.980Z"
   },
   {
    "duration": 16,
    "start_time": "2023-05-17T17:08:07.118Z"
   },
   {
    "duration": 23,
    "start_time": "2023-05-17T17:08:07.136Z"
   },
   {
    "duration": 22,
    "start_time": "2023-05-17T17:08:07.161Z"
   },
   {
    "duration": 14,
    "start_time": "2023-05-17T17:08:07.184Z"
   },
   {
    "duration": 19,
    "start_time": "2023-05-17T17:08:07.200Z"
   },
   {
    "duration": 330,
    "start_time": "2023-05-17T17:08:07.220Z"
   },
   {
    "duration": 12,
    "start_time": "2023-05-17T17:08:07.551Z"
   },
   {
    "duration": 9,
    "start_time": "2023-05-17T17:08:07.565Z"
   },
   {
    "duration": 238,
    "start_time": "2023-05-17T17:08:07.575Z"
   },
   {
    "duration": 4,
    "start_time": "2023-05-17T17:08:07.815Z"
   },
   {
    "duration": 8,
    "start_time": "2023-05-17T17:08:07.821Z"
   },
   {
    "duration": 453,
    "start_time": "2023-05-17T17:08:07.830Z"
   },
   {
    "duration": 772,
    "start_time": "2023-05-17T17:08:08.285Z"
   },
   {
    "duration": 647,
    "start_time": "2023-05-17T17:08:09.059Z"
   },
   {
    "duration": 8,
    "start_time": "2023-05-17T17:08:09.708Z"
   },
   {
    "duration": 296,
    "start_time": "2023-05-17T17:08:09.717Z"
   },
   {
    "duration": 318,
    "start_time": "2023-05-17T17:08:10.015Z"
   },
   {
    "duration": 32,
    "start_time": "2023-05-17T17:08:10.335Z"
   },
   {
    "duration": 153,
    "start_time": "2023-05-17T17:08:10.368Z"
   },
   {
    "duration": 14,
    "start_time": "2023-05-17T17:08:10.523Z"
   },
   {
    "duration": 22,
    "start_time": "2023-05-17T17:08:10.539Z"
   },
   {
    "duration": 12,
    "start_time": "2023-05-17T17:08:10.563Z"
   },
   {
    "duration": 7,
    "start_time": "2023-05-17T17:08:22.204Z"
   },
   {
    "duration": 11,
    "start_time": "2023-05-17T17:08:25.100Z"
   },
   {
    "duration": 1090,
    "start_time": "2023-05-17T17:11:45.000Z"
   },
   {
    "duration": 578,
    "start_time": "2023-05-17T17:11:46.092Z"
   },
   {
    "duration": 28,
    "start_time": "2023-05-17T17:11:46.673Z"
   },
   {
    "duration": 91,
    "start_time": "2023-05-17T17:11:46.703Z"
   },
   {
    "duration": 40,
    "start_time": "2023-05-17T17:11:46.796Z"
   },
   {
    "duration": 124,
    "start_time": "2023-05-17T17:11:46.838Z"
   },
   {
    "duration": 6,
    "start_time": "2023-05-17T17:11:46.964Z"
   },
   {
    "duration": 17,
    "start_time": "2023-05-17T17:11:46.972Z"
   },
   {
    "duration": 6,
    "start_time": "2023-05-17T17:11:46.992Z"
   },
   {
    "duration": 6,
    "start_time": "2023-05-17T17:11:47.001Z"
   },
   {
    "duration": 11,
    "start_time": "2023-05-17T17:11:47.009Z"
   },
   {
    "duration": 35,
    "start_time": "2023-05-17T17:11:47.022Z"
   },
   {
    "duration": 13,
    "start_time": "2023-05-17T17:11:47.059Z"
   },
   {
    "duration": 18,
    "start_time": "2023-05-17T17:11:47.078Z"
   },
   {
    "duration": 16,
    "start_time": "2023-05-17T17:11:47.099Z"
   },
   {
    "duration": 263,
    "start_time": "2023-05-17T17:11:47.118Z"
   },
   {
    "duration": 5,
    "start_time": "2023-05-17T17:11:47.383Z"
   },
   {
    "duration": 10,
    "start_time": "2023-05-17T17:11:47.390Z"
   },
   {
    "duration": 9,
    "start_time": "2023-05-17T17:11:47.403Z"
   },
   {
    "duration": 38,
    "start_time": "2023-05-17T17:11:47.413Z"
   },
   {
    "duration": 15,
    "start_time": "2023-05-17T17:11:47.453Z"
   },
   {
    "duration": 7,
    "start_time": "2023-05-17T17:11:47.470Z"
   },
   {
    "duration": 8,
    "start_time": "2023-05-17T17:11:47.478Z"
   },
   {
    "duration": 27,
    "start_time": "2023-05-17T17:11:47.488Z"
   },
   {
    "duration": 36,
    "start_time": "2023-05-17T17:11:47.517Z"
   },
   {
    "duration": 6,
    "start_time": "2023-05-17T17:11:47.555Z"
   },
   {
    "duration": 45,
    "start_time": "2023-05-17T17:11:47.562Z"
   },
   {
    "duration": 76,
    "start_time": "2023-05-17T17:11:47.609Z"
   },
   {
    "duration": 20,
    "start_time": "2023-05-17T17:11:47.686Z"
   },
   {
    "duration": 19,
    "start_time": "2023-05-17T17:11:47.708Z"
   },
   {
    "duration": 39,
    "start_time": "2023-05-17T17:11:47.751Z"
   },
   {
    "duration": 19,
    "start_time": "2023-05-17T17:11:47.792Z"
   },
   {
    "duration": 49,
    "start_time": "2023-05-17T17:11:47.812Z"
   },
   {
    "duration": 20,
    "start_time": "2023-05-17T17:11:47.863Z"
   },
   {
    "duration": 179,
    "start_time": "2023-05-17T17:11:47.885Z"
   },
   {
    "duration": 15,
    "start_time": "2023-05-17T17:11:48.066Z"
   },
   {
    "duration": 15,
    "start_time": "2023-05-17T17:11:48.083Z"
   },
   {
    "duration": 17,
    "start_time": "2023-05-17T17:11:48.100Z"
   },
   {
    "duration": 36,
    "start_time": "2023-05-17T17:11:48.119Z"
   },
   {
    "duration": 21,
    "start_time": "2023-05-17T17:11:48.157Z"
   },
   {
    "duration": 439,
    "start_time": "2023-05-17T17:11:48.183Z"
   },
   {
    "duration": 11,
    "start_time": "2023-05-17T17:11:48.624Z"
   },
   {
    "duration": 22,
    "start_time": "2023-05-17T17:11:48.636Z"
   },
   {
    "duration": 229,
    "start_time": "2023-05-17T17:11:48.660Z"
   },
   {
    "duration": 5,
    "start_time": "2023-05-17T17:11:48.891Z"
   },
   {
    "duration": 15,
    "start_time": "2023-05-17T17:11:48.898Z"
   },
   {
    "duration": 435,
    "start_time": "2023-05-17T17:11:48.915Z"
   },
   {
    "duration": 787,
    "start_time": "2023-05-17T17:11:49.352Z"
   },
   {
    "duration": 667,
    "start_time": "2023-05-17T17:11:50.141Z"
   },
   {
    "duration": 9,
    "start_time": "2023-05-17T17:11:50.811Z"
   },
   {
    "duration": 302,
    "start_time": "2023-05-17T17:11:50.821Z"
   },
   {
    "duration": 356,
    "start_time": "2023-05-17T17:11:51.124Z"
   },
   {
    "duration": 36,
    "start_time": "2023-05-17T17:11:51.482Z"
   },
   {
    "duration": 185,
    "start_time": "2023-05-17T17:11:51.520Z"
   },
   {
    "duration": 10,
    "start_time": "2023-05-17T17:11:51.706Z"
   },
   {
    "duration": 8,
    "start_time": "2023-05-17T17:11:51.718Z"
   },
   {
    "duration": 27,
    "start_time": "2023-05-17T17:11:51.728Z"
   },
   {
    "duration": 1396,
    "start_time": "2023-05-18T09:01:58.367Z"
   },
   {
    "duration": 1704,
    "start_time": "2023-05-18T09:01:59.766Z"
   },
   {
    "duration": 86,
    "start_time": "2023-05-18T09:02:01.473Z"
   },
   {
    "duration": 287,
    "start_time": "2023-05-18T09:02:01.561Z"
   },
   {
    "duration": 125,
    "start_time": "2023-05-18T09:02:01.852Z"
   },
   {
    "duration": 113,
    "start_time": "2023-05-18T09:02:01.978Z"
   },
   {
    "duration": 14,
    "start_time": "2023-05-18T09:02:02.093Z"
   },
   {
    "duration": 21,
    "start_time": "2023-05-18T09:02:02.109Z"
   },
   {
    "duration": 50,
    "start_time": "2023-05-18T09:02:02.132Z"
   },
   {
    "duration": 27,
    "start_time": "2023-05-18T09:02:02.184Z"
   },
   {
    "duration": 15,
    "start_time": "2023-05-18T09:02:02.213Z"
   },
   {
    "duration": 23,
    "start_time": "2023-05-18T09:02:02.230Z"
   },
   {
    "duration": 9,
    "start_time": "2023-05-18T09:02:02.255Z"
   },
   {
    "duration": 22,
    "start_time": "2023-05-18T09:02:02.268Z"
   },
   {
    "duration": 17,
    "start_time": "2023-05-18T09:02:02.291Z"
   },
   {
    "duration": 277,
    "start_time": "2023-05-18T09:02:02.310Z"
   },
   {
    "duration": 6,
    "start_time": "2023-05-18T09:02:02.589Z"
   },
   {
    "duration": 32,
    "start_time": "2023-05-18T09:02:02.607Z"
   },
   {
    "duration": 17,
    "start_time": "2023-05-18T09:02:02.641Z"
   },
   {
    "duration": 9,
    "start_time": "2023-05-18T09:02:02.660Z"
   },
   {
    "duration": 39,
    "start_time": "2023-05-18T09:02:02.671Z"
   },
   {
    "duration": 9,
    "start_time": "2023-05-18T09:02:02.712Z"
   },
   {
    "duration": 14,
    "start_time": "2023-05-18T09:02:02.723Z"
   },
   {
    "duration": 15,
    "start_time": "2023-05-18T09:02:02.739Z"
   },
   {
    "duration": 20,
    "start_time": "2023-05-18T09:02:02.756Z"
   },
   {
    "duration": 31,
    "start_time": "2023-05-18T09:02:02.778Z"
   },
   {
    "duration": 53,
    "start_time": "2023-05-18T09:02:02.811Z"
   },
   {
    "duration": 60,
    "start_time": "2023-05-18T09:02:02.865Z"
   },
   {
    "duration": 14,
    "start_time": "2023-05-18T09:02:02.926Z"
   },
   {
    "duration": 20,
    "start_time": "2023-05-18T09:02:02.942Z"
   },
   {
    "duration": 48,
    "start_time": "2023-05-18T09:02:02.964Z"
   },
   {
    "duration": 19,
    "start_time": "2023-05-18T09:02:03.014Z"
   },
   {
    "duration": 22,
    "start_time": "2023-05-18T09:02:03.034Z"
   },
   {
    "duration": 18,
    "start_time": "2023-05-18T09:02:03.058Z"
   },
   {
    "duration": 150,
    "start_time": "2023-05-18T09:02:03.078Z"
   },
   {
    "duration": 15,
    "start_time": "2023-05-18T09:02:03.229Z"
   },
   {
    "duration": 12,
    "start_time": "2023-05-18T09:02:03.246Z"
   },
   {
    "duration": 16,
    "start_time": "2023-05-18T09:02:03.261Z"
   },
   {
    "duration": 30,
    "start_time": "2023-05-18T09:02:03.279Z"
   },
   {
    "duration": 19,
    "start_time": "2023-05-18T09:02:03.311Z"
   },
   {
    "duration": 350,
    "start_time": "2023-05-18T09:02:03.333Z"
   },
   {
    "duration": 21,
    "start_time": "2023-05-18T09:02:03.685Z"
   },
   {
    "duration": 11,
    "start_time": "2023-05-18T09:02:03.708Z"
   },
   {
    "duration": 277,
    "start_time": "2023-05-18T09:02:03.721Z"
   },
   {
    "duration": 11,
    "start_time": "2023-05-18T09:02:03.999Z"
   },
   {
    "duration": 28,
    "start_time": "2023-05-18T09:02:04.011Z"
   },
   {
    "duration": 436,
    "start_time": "2023-05-18T09:02:04.040Z"
   },
   {
    "duration": 718,
    "start_time": "2023-05-18T09:02:04.477Z"
   },
   {
    "duration": 618,
    "start_time": "2023-05-18T09:02:05.196Z"
   },
   {
    "duration": 6,
    "start_time": "2023-05-18T09:02:05.816Z"
   },
   {
    "duration": 270,
    "start_time": "2023-05-18T09:02:05.824Z"
   },
   {
    "duration": 272,
    "start_time": "2023-05-18T09:02:06.096Z"
   },
   {
    "duration": 24,
    "start_time": "2023-05-18T09:02:06.369Z"
   },
   {
    "duration": 475,
    "start_time": "2023-05-18T09:02:06.405Z"
   },
   {
    "duration": 11,
    "start_time": "2023-05-18T09:02:06.882Z"
   },
   {
    "duration": 13,
    "start_time": "2023-05-18T09:02:06.895Z"
   },
   {
    "duration": 28,
    "start_time": "2023-05-18T09:02:06.910Z"
   },
   {
    "duration": 18,
    "start_time": "2023-05-18T10:04:29.916Z"
   },
   {
    "duration": 18,
    "start_time": "2023-05-18T10:04:32.805Z"
   },
   {
    "duration": 87,
    "start_time": "2023-05-18T11:02:51.982Z"
   },
   {
    "duration": 1567,
    "start_time": "2023-05-18T11:03:18.117Z"
   },
   {
    "duration": 1887,
    "start_time": "2023-05-18T11:03:19.688Z"
   },
   {
    "duration": 87,
    "start_time": "2023-05-18T11:03:21.577Z"
   },
   {
    "duration": 280,
    "start_time": "2023-05-18T11:03:21.667Z"
   },
   {
    "duration": 142,
    "start_time": "2023-05-18T11:03:21.949Z"
   },
   {
    "duration": 134,
    "start_time": "2023-05-18T11:03:22.093Z"
   },
   {
    "duration": 6,
    "start_time": "2023-05-18T11:03:22.229Z"
   },
   {
    "duration": 7,
    "start_time": "2023-05-18T11:03:22.237Z"
   },
   {
    "duration": 10,
    "start_time": "2023-05-18T11:03:22.246Z"
   },
   {
    "duration": 6,
    "start_time": "2023-05-18T11:03:22.289Z"
   },
   {
    "duration": 7,
    "start_time": "2023-05-18T11:03:22.298Z"
   },
   {
    "duration": 13,
    "start_time": "2023-05-18T11:03:22.307Z"
   },
   {
    "duration": 34,
    "start_time": "2023-05-18T11:03:22.322Z"
   },
   {
    "duration": 35,
    "start_time": "2023-05-18T11:03:22.358Z"
   },
   {
    "duration": 31,
    "start_time": "2023-05-18T11:03:22.395Z"
   },
   {
    "duration": 306,
    "start_time": "2023-05-18T11:03:22.429Z"
   },
   {
    "duration": 8,
    "start_time": "2023-05-18T11:03:22.737Z"
   },
   {
    "duration": 12,
    "start_time": "2023-05-18T11:03:22.748Z"
   },
   {
    "duration": 17,
    "start_time": "2023-05-18T11:03:22.788Z"
   },
   {
    "duration": 11,
    "start_time": "2023-05-18T11:03:22.807Z"
   },
   {
    "duration": 27,
    "start_time": "2023-05-18T11:03:22.820Z"
   },
   {
    "duration": 41,
    "start_time": "2023-05-18T11:03:22.849Z"
   },
   {
    "duration": 11,
    "start_time": "2023-05-18T11:03:22.893Z"
   },
   {
    "duration": 21,
    "start_time": "2023-05-18T11:03:22.906Z"
   },
   {
    "duration": 22,
    "start_time": "2023-05-18T11:03:22.929Z"
   },
   {
    "duration": 40,
    "start_time": "2023-05-18T11:03:22.953Z"
   },
   {
    "duration": 23,
    "start_time": "2023-05-18T11:03:22.996Z"
   },
   {
    "duration": 66,
    "start_time": "2023-05-18T11:03:23.024Z"
   },
   {
    "duration": 97,
    "start_time": "2023-05-18T11:03:23.092Z"
   },
   {
    "duration": 20,
    "start_time": "2023-05-18T11:03:23.191Z"
   },
   {
    "duration": 22,
    "start_time": "2023-05-18T11:03:23.213Z"
   },
   {
    "duration": 66,
    "start_time": "2023-05-18T11:03:23.237Z"
   },
   {
    "duration": 23,
    "start_time": "2023-05-18T11:03:23.306Z"
   },
   {
    "duration": 25,
    "start_time": "2023-05-18T11:03:23.331Z"
   },
   {
    "duration": 48,
    "start_time": "2023-05-18T11:03:23.358Z"
   },
   {
    "duration": 209,
    "start_time": "2023-05-18T11:03:23.409Z"
   },
   {
    "duration": 23,
    "start_time": "2023-05-18T11:03:23.621Z"
   },
   {
    "duration": 42,
    "start_time": "2023-05-18T11:03:23.646Z"
   },
   {
    "duration": 24,
    "start_time": "2023-05-18T11:03:23.690Z"
   },
   {
    "duration": 9,
    "start_time": "2023-05-18T11:03:23.716Z"
   },
   {
    "duration": 27,
    "start_time": "2023-05-18T11:03:23.727Z"
   },
   {
    "duration": 407,
    "start_time": "2023-05-18T11:03:23.789Z"
   },
   {
    "duration": 17,
    "start_time": "2023-05-18T11:03:24.199Z"
   },
   {
    "duration": 13,
    "start_time": "2023-05-18T11:03:24.219Z"
   },
   {
    "duration": 312,
    "start_time": "2023-05-18T11:03:24.235Z"
   },
   {
    "duration": 7,
    "start_time": "2023-05-18T11:03:24.548Z"
   },
   {
    "duration": 23,
    "start_time": "2023-05-18T11:03:24.557Z"
   },
   {
    "duration": 648,
    "start_time": "2023-05-18T11:03:24.589Z"
   },
   {
    "duration": 851,
    "start_time": "2023-05-18T11:03:25.239Z"
   },
   {
    "duration": 838,
    "start_time": "2023-05-18T11:03:26.093Z"
   },
   {
    "duration": 8,
    "start_time": "2023-05-18T11:03:26.933Z"
   },
   {
    "duration": 418,
    "start_time": "2023-05-18T11:03:26.944Z"
   },
   {
    "duration": 420,
    "start_time": "2023-05-18T11:03:27.365Z"
   },
   {
    "duration": 29,
    "start_time": "2023-05-18T11:03:27.787Z"
   },
   {
    "duration": 190,
    "start_time": "2023-05-18T11:03:27.819Z"
   },
   {
    "duration": 17,
    "start_time": "2023-05-18T11:03:28.012Z"
   },
   {
    "duration": 11,
    "start_time": "2023-05-18T11:03:28.031Z"
   },
   {
    "duration": 57,
    "start_time": "2023-05-18T11:03:28.045Z"
   },
   {
    "duration": 19,
    "start_time": "2023-05-18T11:28:05.244Z"
   },
   {
    "duration": 1902,
    "start_time": "2023-05-18T11:30:29.741Z"
   },
   {
    "duration": 998,
    "start_time": "2023-05-18T11:30:31.646Z"
   },
   {
    "duration": 61,
    "start_time": "2023-05-18T11:30:32.648Z"
   },
   {
    "duration": 207,
    "start_time": "2023-05-18T11:30:32.717Z"
   },
   {
    "duration": 84,
    "start_time": "2023-05-18T11:30:32.931Z"
   },
   {
    "duration": 213,
    "start_time": "2023-05-18T11:30:33.023Z"
   },
   {
    "duration": 7,
    "start_time": "2023-05-18T11:30:33.238Z"
   },
   {
    "duration": 18,
    "start_time": "2023-05-18T11:30:33.248Z"
   },
   {
    "duration": 14,
    "start_time": "2023-05-18T11:30:33.268Z"
   },
   {
    "duration": 12,
    "start_time": "2023-05-18T11:30:33.288Z"
   },
   {
    "duration": 14,
    "start_time": "2023-05-18T11:30:33.304Z"
   },
   {
    "duration": 25,
    "start_time": "2023-05-18T11:30:33.320Z"
   },
   {
    "duration": 18,
    "start_time": "2023-05-18T11:30:33.350Z"
   },
   {
    "duration": 48,
    "start_time": "2023-05-18T11:30:33.370Z"
   },
   {
    "duration": 31,
    "start_time": "2023-05-18T11:30:33.424Z"
   },
   {
    "duration": 388,
    "start_time": "2023-05-18T11:30:33.460Z"
   },
   {
    "duration": 7,
    "start_time": "2023-05-18T11:30:33.850Z"
   },
   {
    "duration": 33,
    "start_time": "2023-05-18T11:30:33.859Z"
   },
   {
    "duration": 21,
    "start_time": "2023-05-18T11:30:33.894Z"
   },
   {
    "duration": 15,
    "start_time": "2023-05-18T11:30:33.917Z"
   },
   {
    "duration": 24,
    "start_time": "2023-05-18T11:30:33.935Z"
   },
   {
    "duration": 18,
    "start_time": "2023-05-18T11:30:33.961Z"
   },
   {
    "duration": 30,
    "start_time": "2023-05-18T11:30:33.992Z"
   },
   {
    "duration": 27,
    "start_time": "2023-05-18T11:30:34.024Z"
   },
   {
    "duration": 32,
    "start_time": "2023-05-18T11:30:34.053Z"
   },
   {
    "duration": 12,
    "start_time": "2023-05-18T11:30:34.087Z"
   },
   {
    "duration": 50,
    "start_time": "2023-05-18T11:30:34.103Z"
   },
   {
    "duration": 86,
    "start_time": "2023-05-18T11:30:34.160Z"
   },
   {
    "duration": 120,
    "start_time": "2023-05-18T11:30:34.252Z"
   },
   {
    "duration": 21,
    "start_time": "2023-05-18T11:30:34.374Z"
   },
   {
    "duration": 31,
    "start_time": "2023-05-18T11:30:34.397Z"
   },
   {
    "duration": 42,
    "start_time": "2023-05-18T11:30:34.430Z"
   },
   {
    "duration": 43,
    "start_time": "2023-05-18T11:30:34.474Z"
   },
   {
    "duration": 28,
    "start_time": "2023-05-18T11:30:34.519Z"
   },
   {
    "duration": 22,
    "start_time": "2023-05-18T11:30:34.549Z"
   },
   {
    "duration": 228,
    "start_time": "2023-05-18T11:30:34.573Z"
   },
   {
    "duration": 30,
    "start_time": "2023-05-18T11:30:34.807Z"
   },
   {
    "duration": 22,
    "start_time": "2023-05-18T11:30:34.844Z"
   },
   {
    "duration": 28,
    "start_time": "2023-05-18T11:30:34.869Z"
   },
   {
    "duration": 26,
    "start_time": "2023-05-18T11:30:34.900Z"
   },
   {
    "duration": 36,
    "start_time": "2023-05-18T11:30:34.929Z"
   },
   {
    "duration": 611,
    "start_time": "2023-05-18T11:30:34.967Z"
   },
   {
    "duration": 22,
    "start_time": "2023-05-18T11:30:35.581Z"
   },
   {
    "duration": 69,
    "start_time": "2023-05-18T11:30:35.605Z"
   },
   {
    "duration": 429,
    "start_time": "2023-05-18T11:30:35.677Z"
   },
   {
    "duration": 5,
    "start_time": "2023-05-18T11:30:36.108Z"
   },
   {
    "duration": 11,
    "start_time": "2023-05-18T11:30:36.115Z"
   },
   {
    "duration": 668,
    "start_time": "2023-05-18T11:30:36.128Z"
   },
   {
    "duration": 1169,
    "start_time": "2023-05-18T11:30:36.799Z"
   },
   {
    "duration": 950,
    "start_time": "2023-05-18T11:30:37.973Z"
   },
   {
    "duration": 23,
    "start_time": "2023-05-18T11:30:38.932Z"
   },
   {
    "duration": 518,
    "start_time": "2023-05-18T11:30:38.958Z"
   },
   {
    "duration": 495,
    "start_time": "2023-05-18T11:30:39.478Z"
   },
   {
    "duration": 79,
    "start_time": "2023-05-18T11:30:39.976Z"
   },
   {
    "duration": 271,
    "start_time": "2023-05-18T11:30:40.063Z"
   },
   {
    "duration": 35,
    "start_time": "2023-05-18T11:30:40.337Z"
   },
   {
    "duration": 15,
    "start_time": "2023-05-18T11:30:40.376Z"
   },
   {
    "duration": 29,
    "start_time": "2023-05-18T11:30:40.394Z"
   },
   {
    "duration": 17,
    "start_time": "2023-05-18T11:31:05.064Z"
   },
   {
    "duration": 12,
    "start_time": "2023-05-18T11:31:39.092Z"
   },
   {
    "duration": 21,
    "start_time": "2023-05-18T11:36:52.858Z"
   },
   {
    "duration": 19,
    "start_time": "2023-05-18T11:37:03.303Z"
   },
   {
    "duration": 7,
    "start_time": "2023-05-18T11:38:25.651Z"
   },
   {
    "duration": 7,
    "start_time": "2023-05-18T11:38:42.071Z"
   },
   {
    "duration": 1360,
    "start_time": "2023-05-18T11:38:54.103Z"
   },
   {
    "duration": 734,
    "start_time": "2023-05-18T11:38:55.465Z"
   },
   {
    "duration": 39,
    "start_time": "2023-05-18T11:38:56.201Z"
   },
   {
    "duration": 108,
    "start_time": "2023-05-18T11:38:56.243Z"
   },
   {
    "duration": 57,
    "start_time": "2023-05-18T11:38:56.354Z"
   },
   {
    "duration": 122,
    "start_time": "2023-05-18T11:38:56.414Z"
   },
   {
    "duration": 5,
    "start_time": "2023-05-18T11:38:56.538Z"
   },
   {
    "duration": 22,
    "start_time": "2023-05-18T11:38:56.544Z"
   },
   {
    "duration": 23,
    "start_time": "2023-05-18T11:38:56.567Z"
   },
   {
    "duration": 7,
    "start_time": "2023-05-18T11:38:56.596Z"
   },
   {
    "duration": 32,
    "start_time": "2023-05-18T11:38:56.606Z"
   },
   {
    "duration": 24,
    "start_time": "2023-05-18T11:38:56.640Z"
   },
   {
    "duration": 13,
    "start_time": "2023-05-18T11:38:56.666Z"
   },
   {
    "duration": 158,
    "start_time": "2023-05-18T11:38:56.683Z"
   },
   {
    "duration": 18,
    "start_time": "2023-05-18T11:38:56.843Z"
   },
   {
    "duration": 273,
    "start_time": "2023-05-18T11:38:56.863Z"
   },
   {
    "duration": 7,
    "start_time": "2023-05-18T11:38:57.138Z"
   },
   {
    "duration": 13,
    "start_time": "2023-05-18T11:38:57.147Z"
   },
   {
    "duration": 32,
    "start_time": "2023-05-18T11:38:57.162Z"
   },
   {
    "duration": 14,
    "start_time": "2023-05-18T11:38:57.196Z"
   },
   {
    "duration": 15,
    "start_time": "2023-05-18T11:38:57.213Z"
   },
   {
    "duration": 9,
    "start_time": "2023-05-18T11:38:57.229Z"
   },
   {
    "duration": 22,
    "start_time": "2023-05-18T11:38:57.240Z"
   },
   {
    "duration": 43,
    "start_time": "2023-05-18T11:38:57.264Z"
   },
   {
    "duration": 19,
    "start_time": "2023-05-18T11:38:57.309Z"
   },
   {
    "duration": 9,
    "start_time": "2023-05-18T11:38:57.330Z"
   },
   {
    "duration": 22,
    "start_time": "2023-05-18T11:38:57.341Z"
   },
   {
    "duration": 30,
    "start_time": "2023-05-18T11:38:57.366Z"
   },
   {
    "duration": 4,
    "start_time": "2023-05-18T11:38:57.406Z"
   },
   {
    "duration": 50,
    "start_time": "2023-05-18T11:38:57.412Z"
   },
   {
    "duration": 74,
    "start_time": "2023-05-18T11:38:57.464Z"
   },
   {
    "duration": 19,
    "start_time": "2023-05-18T11:38:57.540Z"
   },
   {
    "duration": 45,
    "start_time": "2023-05-18T11:38:57.560Z"
   },
   {
    "duration": 30,
    "start_time": "2023-05-18T11:38:57.606Z"
   },
   {
    "duration": 15,
    "start_time": "2023-05-18T11:38:57.638Z"
   },
   {
    "duration": 37,
    "start_time": "2023-05-18T11:38:57.655Z"
   },
   {
    "duration": 17,
    "start_time": "2023-05-18T11:38:57.704Z"
   },
   {
    "duration": 139,
    "start_time": "2023-05-18T11:38:57.723Z"
   },
   {
    "duration": 28,
    "start_time": "2023-05-18T11:38:57.864Z"
   },
   {
    "duration": 17,
    "start_time": "2023-05-18T11:38:57.900Z"
   },
   {
    "duration": 19,
    "start_time": "2023-05-18T11:38:57.924Z"
   },
   {
    "duration": 7,
    "start_time": "2023-05-18T11:38:57.945Z"
   },
   {
    "duration": 44,
    "start_time": "2023-05-18T11:38:57.954Z"
   },
   {
    "duration": 383,
    "start_time": "2023-05-18T11:38:58.000Z"
   },
   {
    "duration": 18,
    "start_time": "2023-05-18T11:38:58.385Z"
   },
   {
    "duration": 13,
    "start_time": "2023-05-18T11:38:58.405Z"
   },
   {
    "duration": 261,
    "start_time": "2023-05-18T11:38:58.420Z"
   },
   {
    "duration": 15,
    "start_time": "2023-05-18T11:38:58.684Z"
   },
   {
    "duration": 15,
    "start_time": "2023-05-18T11:38:58.700Z"
   },
   {
    "duration": 499,
    "start_time": "2023-05-18T11:38:58.718Z"
   },
   {
    "duration": 851,
    "start_time": "2023-05-18T11:38:59.219Z"
   },
   {
    "duration": 920,
    "start_time": "2023-05-18T11:39:00.073Z"
   },
   {
    "duration": 12,
    "start_time": "2023-05-18T11:39:01.000Z"
   },
   {
    "duration": 398,
    "start_time": "2023-05-18T11:39:01.014Z"
   },
   {
    "duration": 392,
    "start_time": "2023-05-18T11:39:01.414Z"
   },
   {
    "duration": 36,
    "start_time": "2023-05-18T11:39:01.809Z"
   },
   {
    "duration": 251,
    "start_time": "2023-05-18T11:39:01.847Z"
   },
   {
    "duration": 13,
    "start_time": "2023-05-18T11:39:02.100Z"
   },
   {
    "duration": 29,
    "start_time": "2023-05-18T11:39:02.115Z"
   },
   {
    "duration": 55,
    "start_time": "2023-05-18T11:39:02.146Z"
   },
   {
    "duration": 1315,
    "start_time": "2023-05-18T11:40:07.738Z"
   },
   {
    "duration": 613,
    "start_time": "2023-05-18T11:40:09.055Z"
   },
   {
    "duration": 34,
    "start_time": "2023-05-18T11:40:09.670Z"
   },
   {
    "duration": 105,
    "start_time": "2023-05-18T11:40:09.706Z"
   },
   {
    "duration": 42,
    "start_time": "2023-05-18T11:40:09.814Z"
   },
   {
    "duration": 146,
    "start_time": "2023-05-18T11:40:09.858Z"
   },
   {
    "duration": 5,
    "start_time": "2023-05-18T11:40:10.006Z"
   },
   {
    "duration": 14,
    "start_time": "2023-05-18T11:40:10.013Z"
   },
   {
    "duration": 22,
    "start_time": "2023-05-18T11:40:10.028Z"
   },
   {
    "duration": 5,
    "start_time": "2023-05-18T11:40:10.052Z"
   },
   {
    "duration": 35,
    "start_time": "2023-05-18T11:40:10.059Z"
   },
   {
    "duration": 18,
    "start_time": "2023-05-18T11:40:10.096Z"
   },
   {
    "duration": 18,
    "start_time": "2023-05-18T11:40:10.116Z"
   },
   {
    "duration": 24,
    "start_time": "2023-05-18T11:40:10.137Z"
   },
   {
    "duration": 27,
    "start_time": "2023-05-18T11:40:10.164Z"
   },
   {
    "duration": 300,
    "start_time": "2023-05-18T11:40:10.196Z"
   },
   {
    "duration": 6,
    "start_time": "2023-05-18T11:40:10.502Z"
   },
   {
    "duration": 12,
    "start_time": "2023-05-18T11:40:10.510Z"
   },
   {
    "duration": 13,
    "start_time": "2023-05-18T11:40:10.524Z"
   },
   {
    "duration": 15,
    "start_time": "2023-05-18T11:40:10.539Z"
   },
   {
    "duration": 53,
    "start_time": "2023-05-18T11:40:10.557Z"
   },
   {
    "duration": 9,
    "start_time": "2023-05-18T11:40:10.614Z"
   },
   {
    "duration": 13,
    "start_time": "2023-05-18T11:40:10.626Z"
   },
   {
    "duration": 16,
    "start_time": "2023-05-18T11:40:10.641Z"
   },
   {
    "duration": 40,
    "start_time": "2023-05-18T11:40:10.659Z"
   },
   {
    "duration": 9,
    "start_time": "2023-05-18T11:40:10.701Z"
   },
   {
    "duration": 20,
    "start_time": "2023-05-18T11:40:10.713Z"
   },
   {
    "duration": 8,
    "start_time": "2023-05-18T11:40:10.736Z"
   },
   {
    "duration": 79,
    "start_time": "2023-05-18T11:40:10.746Z"
   },
   {
    "duration": 79,
    "start_time": "2023-05-18T11:40:10.827Z"
   },
   {
    "duration": 27,
    "start_time": "2023-05-18T11:40:10.908Z"
   },
   {
    "duration": 22,
    "start_time": "2023-05-18T11:40:10.937Z"
   },
   {
    "duration": 57,
    "start_time": "2023-05-18T11:40:10.961Z"
   },
   {
    "duration": 16,
    "start_time": "2023-05-18T11:40:11.020Z"
   },
   {
    "duration": 32,
    "start_time": "2023-05-18T11:40:11.038Z"
   },
   {
    "duration": 41,
    "start_time": "2023-05-18T11:40:11.071Z"
   },
   {
    "duration": 131,
    "start_time": "2023-05-18T11:40:11.114Z"
   },
   {
    "duration": 15,
    "start_time": "2023-05-18T11:40:11.247Z"
   },
   {
    "duration": 39,
    "start_time": "2023-05-18T11:40:11.264Z"
   },
   {
    "duration": 15,
    "start_time": "2023-05-18T11:40:11.305Z"
   },
   {
    "duration": 11,
    "start_time": "2023-05-18T11:40:11.324Z"
   },
   {
    "duration": 24,
    "start_time": "2023-05-18T11:40:11.337Z"
   },
   {
    "duration": 364,
    "start_time": "2023-05-18T11:40:11.364Z"
   },
   {
    "duration": 12,
    "start_time": "2023-05-18T11:40:11.730Z"
   },
   {
    "duration": 15,
    "start_time": "2023-05-18T11:40:11.744Z"
   },
   {
    "duration": 290,
    "start_time": "2023-05-18T11:40:11.761Z"
   },
   {
    "duration": 5,
    "start_time": "2023-05-18T11:40:12.052Z"
   },
   {
    "duration": 69,
    "start_time": "2023-05-18T11:40:12.059Z"
   },
   {
    "duration": 509,
    "start_time": "2023-05-18T11:40:12.130Z"
   },
   {
    "duration": 905,
    "start_time": "2023-05-18T11:40:12.641Z"
   },
   {
    "duration": 774,
    "start_time": "2023-05-18T11:40:13.548Z"
   },
   {
    "duration": 8,
    "start_time": "2023-05-18T11:40:14.324Z"
   },
   {
    "duration": 341,
    "start_time": "2023-05-18T11:40:14.334Z"
   },
   {
    "duration": 400,
    "start_time": "2023-05-18T11:40:14.677Z"
   },
   {
    "duration": 38,
    "start_time": "2023-05-18T11:40:15.079Z"
   },
   {
    "duration": 177,
    "start_time": "2023-05-18T11:40:15.119Z"
   },
   {
    "duration": 17,
    "start_time": "2023-05-18T11:40:15.298Z"
   },
   {
    "duration": 10,
    "start_time": "2023-05-18T11:40:15.317Z"
   },
   {
    "duration": 69,
    "start_time": "2023-05-18T11:40:15.329Z"
   },
   {
    "duration": 62,
    "start_time": "2023-05-18T11:44:09.855Z"
   },
   {
    "duration": 61,
    "start_time": "2023-05-18T11:45:05.983Z"
   },
   {
    "duration": 1407,
    "start_time": "2023-05-19T04:03:15.758Z"
   },
   {
    "duration": 1770,
    "start_time": "2023-05-19T04:03:17.167Z"
   },
   {
    "duration": 86,
    "start_time": "2023-05-19T04:03:18.939Z"
   },
   {
    "duration": 265,
    "start_time": "2023-05-19T04:03:19.028Z"
   },
   {
    "duration": 129,
    "start_time": "2023-05-19T04:03:19.294Z"
   },
   {
    "duration": 124,
    "start_time": "2023-05-19T04:03:19.425Z"
   },
   {
    "duration": 6,
    "start_time": "2023-05-19T04:03:19.557Z"
   },
   {
    "duration": 6,
    "start_time": "2023-05-19T04:03:19.565Z"
   },
   {
    "duration": 7,
    "start_time": "2023-05-19T04:03:19.573Z"
   },
   {
    "duration": 9,
    "start_time": "2023-05-19T04:03:19.583Z"
   },
   {
    "duration": 10,
    "start_time": "2023-05-19T04:03:19.594Z"
   },
   {
    "duration": 20,
    "start_time": "2023-05-19T04:03:19.606Z"
   },
   {
    "duration": 36,
    "start_time": "2023-05-19T04:03:19.628Z"
   },
   {
    "duration": 13,
    "start_time": "2023-05-19T04:03:19.666Z"
   },
   {
    "duration": 11,
    "start_time": "2023-05-19T04:03:19.680Z"
   },
   {
    "duration": 270,
    "start_time": "2023-05-19T04:03:19.693Z"
   },
   {
    "duration": 6,
    "start_time": "2023-05-19T04:03:19.965Z"
   },
   {
    "duration": 20,
    "start_time": "2023-05-19T04:03:19.972Z"
   },
   {
    "duration": 15,
    "start_time": "2023-05-19T04:03:19.993Z"
   },
   {
    "duration": 11,
    "start_time": "2023-05-19T04:03:20.010Z"
   },
   {
    "duration": 36,
    "start_time": "2023-05-19T04:03:20.022Z"
   },
   {
    "duration": 7,
    "start_time": "2023-05-19T04:03:20.060Z"
   },
   {
    "duration": 12,
    "start_time": "2023-05-19T04:03:20.069Z"
   },
   {
    "duration": 15,
    "start_time": "2023-05-19T04:03:20.083Z"
   },
   {
    "duration": 18,
    "start_time": "2023-05-19T04:03:20.100Z"
   },
   {
    "duration": 9,
    "start_time": "2023-05-19T04:03:20.120Z"
   },
   {
    "duration": 34,
    "start_time": "2023-05-19T04:03:20.131Z"
   },
   {
    "duration": 9,
    "start_time": "2023-05-19T04:03:20.168Z"
   },
   {
    "duration": 42,
    "start_time": "2023-05-19T04:03:20.179Z"
   },
   {
    "duration": 84,
    "start_time": "2023-05-19T04:03:20.223Z"
   },
   {
    "duration": 16,
    "start_time": "2023-05-19T04:03:20.309Z"
   },
   {
    "duration": 37,
    "start_time": "2023-05-19T04:03:20.326Z"
   },
   {
    "duration": 28,
    "start_time": "2023-05-19T04:03:20.364Z"
   },
   {
    "duration": 15,
    "start_time": "2023-05-19T04:03:20.394Z"
   },
   {
    "duration": 24,
    "start_time": "2023-05-19T04:03:20.410Z"
   },
   {
    "duration": 33,
    "start_time": "2023-05-19T04:03:20.436Z"
   },
   {
    "duration": 146,
    "start_time": "2023-05-19T04:03:20.471Z"
   },
   {
    "duration": 16,
    "start_time": "2023-05-19T04:03:20.620Z"
   },
   {
    "duration": 29,
    "start_time": "2023-05-19T04:03:20.638Z"
   },
   {
    "duration": 13,
    "start_time": "2023-05-19T04:03:20.669Z"
   },
   {
    "duration": 6,
    "start_time": "2023-05-19T04:03:20.684Z"
   },
   {
    "duration": 23,
    "start_time": "2023-05-19T04:03:20.692Z"
   },
   {
    "duration": 347,
    "start_time": "2023-05-19T04:03:20.717Z"
   },
   {
    "duration": 11,
    "start_time": "2023-05-19T04:03:21.066Z"
   },
   {
    "duration": 11,
    "start_time": "2023-05-19T04:03:21.078Z"
   },
   {
    "duration": 252,
    "start_time": "2023-05-19T04:03:21.091Z"
   },
   {
    "duration": 13,
    "start_time": "2023-05-19T04:03:21.345Z"
   },
   {
    "duration": 11,
    "start_time": "2023-05-19T04:03:21.360Z"
   },
   {
    "duration": 461,
    "start_time": "2023-05-19T04:03:21.373Z"
   },
   {
    "duration": 852,
    "start_time": "2023-05-19T04:03:21.836Z"
   },
   {
    "duration": 768,
    "start_time": "2023-05-19T04:03:22.691Z"
   },
   {
    "duration": 8,
    "start_time": "2023-05-19T04:03:23.461Z"
   },
   {
    "duration": 310,
    "start_time": "2023-05-19T04:03:23.471Z"
   },
   {
    "duration": 376,
    "start_time": "2023-05-19T04:03:23.782Z"
   },
   {
    "duration": 28,
    "start_time": "2023-05-19T04:03:24.160Z"
   },
   {
    "duration": 512,
    "start_time": "2023-05-19T04:03:24.190Z"
   },
   {
    "duration": 12,
    "start_time": "2023-05-19T04:03:24.704Z"
   },
   {
    "duration": 8,
    "start_time": "2023-05-19T04:03:24.718Z"
   },
   {
    "duration": 33,
    "start_time": "2023-05-19T04:03:24.728Z"
   }
  ],
  "kernelspec": {
   "display_name": "Python 3 (ipykernel)",
   "language": "python",
   "name": "python3"
  },
  "language_info": {
   "codemirror_mode": {
    "name": "ipython",
    "version": 3
   },
   "file_extension": ".py",
   "mimetype": "text/x-python",
   "name": "python",
   "nbconvert_exporter": "python",
   "pygments_lexer": "ipython3",
   "version": "3.9.13"
  },
  "toc": {
   "base_numbering": 1,
   "nav_menu": {},
   "number_sections": true,
   "sideBar": true,
   "skip_h1_title": true,
   "title_cell": "Table of Contents",
   "title_sidebar": "Contents",
   "toc_cell": false,
   "toc_position": {},
   "toc_section_display": true,
   "toc_window_display": false
  }
 },
 "nbformat": 4,
 "nbformat_minor": 2
}
